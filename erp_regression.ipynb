{
 "cells": [
  {
   "cell_type": "code",
   "execution_count": 1,
   "id": "4aef400e",
   "metadata": {},
   "outputs": [],
   "source": [
    "from collections import  defaultdict\n",
    "\n",
    "import matplotlib.pyplot as plt\n",
    "import numpy as np\n",
    "import torch\n",
    "\n",
    "import pyro\n",
    "from pyro import poutine\n",
    "import pyro.distributions as dist\n",
    "from pyro.infer import SVI, TraceEnum_ELBO\n",
    "from pyro.infer.autoguide import AutoDelta, AutoDiagonalNormal\n",
    "from pyro.optim import Adam"
   ]
  },
  {
   "cell_type": "code",
   "execution_count": 2,
   "id": "1298e4f8",
   "metadata": {},
   "outputs": [],
   "source": [
    "X = np.array([[1.], [2.], [3.]])\n",
    "y = np.array([2., 4., 6.])\n",
    "dataset = (X, y)"
   ]
  },
  {
   "cell_type": "code",
   "execution_count": 3,
   "id": "41af8e32",
   "metadata": {},
   "outputs": [],
   "source": [
    "def model(X, y):\n",
    "    coef = pyro.sample('coef', dist.Normal(0., 2.))\n",
    "\n",
    "    with pyro.plate('data', X.shape[0]):\n",
    "        pyro.sample('obs', dist.Normal(coef * X[:, 0], 0.1), obs=y)"
   ]
  },
  {
   "cell_type": "code",
   "execution_count": 4,
   "id": "05a0f8bf",
   "metadata": {},
   "outputs": [],
   "source": [
    "def init_loc_fn(site):\n",
    "    if site[\"name\"] == \"coef\":\n",
    "        return 0\n",
    "    raise ValueError(site[\"name\"])\n",
    "\n",
    "def initialize(X, y, seed, optim, elbo):\n",
    "    global global_guide, svi\n",
    "    pyro.set_rng_seed(seed)\n",
    "    pyro.clear_param_store()\n",
    "#     global_guide = AutoDelta(poutine.block(model, expose=['coef']),\n",
    "#                              init_loc_fn=init_loc_fn)\n",
    "    global_guide = AutoDiagonalNormal(model)\n",
    "    svi = SVI(model, global_guide, optim, loss=elbo)\n",
    "    return svi.loss(model, global_guide, X, y)"
   ]
  },
  {
   "cell_type": "code",
   "execution_count": 5,
   "id": "07255974",
   "metadata": {},
   "outputs": [
    {
     "name": "stderr",
     "output_type": "stream",
     "text": [
      "/opt/conda/lib/python3.9/site-packages/pyro/infer/traceenum_elbo.py:355: UserWarning: TraceEnum_ELBO found no sample sites configured for enumeration. If you want to enumerate sites, you need to @config_enumerate or set infer={\"enumerate\": \"sequential\"} or infer={\"enumerate\": \"parallel\"}? If you do not want to enumerate, consider using Trace_ELBO instead.\n",
      "  warnings.warn(\n"
     ]
    },
    {
     "name": "stdout",
     "output_type": "stream",
     "text": [
      "seed = 60, initial_loss = 85.60121191507092\n"
     ]
    }
   ],
   "source": [
    "optim = pyro.optim.Adam({'lr': 0.1, 'betas': [0.8, 0.99]})\n",
    "elbo = TraceEnum_ELBO()\n",
    "\n",
    "# Choose the best among 100 random initializations.\n",
    "X = torch.tensor(X)\n",
    "y = torch.tensor(y)\n",
    "loss, seed = min((initialize(X, y, seed, optim, elbo), seed) for seed in range(100))\n",
    "initialize(X, y, seed, optim, elbo)\n",
    "print('seed = {}, initial_loss = {}'.format(seed, loss))"
   ]
  },
  {
   "cell_type": "code",
   "execution_count": 6,
   "id": "f4393004",
   "metadata": {},
   "outputs": [],
   "source": [
    "# Register hooks to monitor gradient norms.\n",
    "gradient_norms = defaultdict(list)\n",
    "for name, value in pyro.get_param_store().named_parameters():\n",
    "    value.register_hook(lambda g, name=name: gradient_norms[name].append(g.norm().item()))"
   ]
  },
  {
   "cell_type": "code",
   "execution_count": 7,
   "id": "eba79fb9",
   "metadata": {},
   "outputs": [
    {
     "name": "stdout",
     "output_type": "stream",
     "text": [
      "\n",
      "...................................................................................................\n",
      "..................................................................................................."
     ]
    }
   ],
   "source": [
    "losses = []\n",
    "for i in range(200):\n",
    "    loss = svi.step(X, y)\n",
    "    losses.append(loss)\n",
    "    print('.' if i % 100 else '\\n', end='')"
   ]
  },
  {
   "cell_type": "code",
   "execution_count": 8,
   "id": "635bfdb2",
   "metadata": {},
   "outputs": [
    {
     "data": {
      "text/plain": [
       "[<matplotlib.lines.Line2D at 0x7fde3be658b0>]"
      ]
     },
     "execution_count": 8,
     "metadata": {},
     "output_type": "execute_result"
    },
    {
     "data": {
      "image/png": "[encoded data removed]",
      "text/plain": [
       "<Figure size 432x288 with 1 Axes>"
      ]
     },
     "metadata": {
      "needs_background": "light"
     },
     "output_type": "display_data"
    }
   ],
   "source": [
    "plt.plot(losses)"
   ]
  },
  {
   "cell_type": "code",
   "execution_count": 9,
   "id": "5ce5c381",
   "metadata": {},
   "outputs": [
    {
     "name": "stdout",
     "output_type": "stream",
     "text": [
      "AutoDiagonalNormal.loc Parameter containing:\n",
      "tensor([2.0395])\n",
      "AutoDiagonalNormal.scale tensor([0.0276])\n"
     ]
    }
   ],
   "source": [
    "global_guide.requires_grad_(False)\n",
    "\n",
    "for name, value in pyro.get_param_store().items():\n",
    "    print(name, pyro.param(name))"
   ]
  },
  {
   "cell_type": "code",
   "execution_count": null,
   "id": "fc400e12",
   "metadata": {},
   "outputs": [],
   "source": []
  }
 ],
 "metadata": {
  "kernelspec": {
   "display_name": "Python 3 (ipykernel)",
   "language": "python",
   "name": "python3"
  },
  "language_info": {
   "codemirror_mode": {
    "name": "ipython",
    "version": 3
   },
   "file_extension": ".py",
   "mimetype": "text/x-python",
   "name": "python",
   "nbconvert_exporter": "python",
   "pygments_lexer": "ipython3",
   "version": "3.9.7"
  }
 },
 "nbformat": 4,
 "nbformat_minor": 5
}
