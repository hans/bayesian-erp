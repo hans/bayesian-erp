{
 "cells": [
  {
   "cell_type": "code",
   "execution_count": 8,
   "id": "4aef400e",
   "metadata": {},
   "outputs": [],
   "source": [
    "from collections import  defaultdict\n",
    "\n",
    "import matplotlib.pyplot as plt\n",
    "import numpy as np\n",
    "import pandas as pd\n",
    "import torch\n",
    "\n",
    "import pyro\n",
    "from pyro import poutine\n",
    "import pyro.distributions as dist\n",
    "from pyro.infer import SVI, TraceEnum_ELBO\n",
    "from pyro.infer.autoguide import AutoDelta, AutoDiagonalNormal\n",
    "from pyro.optim import Adam"
   ]
  },
  {
   "cell_type": "code",
   "execution_count": 2,
   "id": "77430bee",
   "metadata": {},
   "outputs": [],
   "source": [
    "%load_ext autoreload\n",
    "%autoreload 2\n",
    "import synthesize_n400 as syn"
   ]
  },
  {
   "cell_type": "code",
   "execution_count": 27,
   "id": "c9b46f83",
   "metadata": {},
   "outputs": [],
   "source": [
    "def synthesize_dataset(size, level=\"word\"):\n",
    "    X_word, X_phon, y = syn.sample_dataset_with_phons(size)\n",
    "    X = X_word if level == \"word\" else X_phon\n",
    "    \n",
    "    epochs_df = syn.dataset_to_epochs(X, y)\n",
    "    merged_df = pd.merge(epochs_df, X[[\"surprisal\"]],\n",
    "                         left_index=True, right_index=True)\n",
    "    \n",
    "    X = merged_df.surprisal.values\n",
    "    y = (merged_df.value_N400 - merged_df.baseline_N400).values\n",
    "    \n",
    "    X = torch.tensor(X).unsqueeze(1)\n",
    "    y = torch.tensor(y)\n",
    "    \n",
    "    return X, y"
   ]
  },
  {
   "cell_type": "code",
   "execution_count": 28,
   "id": "6dc90dc7",
   "metadata": {},
   "outputs": [
    {
     "name": "stderr",
     "output_type": "stream",
     "text": [
      "  0%|          | 0/10 [00:00<?, ?it/s]/home/pyromancer/workspace/shared/synthesize_n400.py:130: FutureWarning: The frame.append method is deprecated and will be removed from pandas in a future version. Use pandas.concat instead.\n",
      "  acc_X_phon = X if acc_X_phon is None else acc_X_phon.append(X)\n",
      "/home/pyromancer/workspace/shared/synthesize_n400.py:130: FutureWarning: The frame.append method is deprecated and will be removed from pandas in a future version. Use pandas.concat instead.\n",
      "  acc_X_phon = X if acc_X_phon is None else acc_X_phon.append(X)\n",
      "/home/pyromancer/workspace/shared/synthesize_n400.py:130: FutureWarning: The frame.append method is deprecated and will be removed from pandas in a future version. Use pandas.concat instead.\n",
      "  acc_X_phon = X if acc_X_phon is None else acc_X_phon.append(X)\n",
      "/home/pyromancer/workspace/shared/synthesize_n400.py:130: FutureWarning: The frame.append method is deprecated and will be removed from pandas in a future version. Use pandas.concat instead.\n",
      "  acc_X_phon = X if acc_X_phon is None else acc_X_phon.append(X)\n",
      "/home/pyromancer/workspace/shared/synthesize_n400.py:130: FutureWarning: The frame.append method is deprecated and will be removed from pandas in a future version. Use pandas.concat instead.\n",
      "  acc_X_phon = X if acc_X_phon is None else acc_X_phon.append(X)\n",
      "/home/pyromancer/workspace/shared/synthesize_n400.py:130: FutureWarning: The frame.append method is deprecated and will be removed from pandas in a future version. Use pandas.concat instead.\n",
      "  acc_X_phon = X if acc_X_phon is None else acc_X_phon.append(X)\n",
      "/home/pyromancer/workspace/shared/synthesize_n400.py:130: FutureWarning: The frame.append method is deprecated and will be removed from pandas in a future version. Use pandas.concat instead.\n",
      "  acc_X_phon = X if acc_X_phon is None else acc_X_phon.append(X)\n",
      "/home/pyromancer/workspace/shared/synthesize_n400.py:130: FutureWarning: The frame.append method is deprecated and will be removed from pandas in a future version. Use pandas.concat instead.\n",
      "  acc_X_phon = X if acc_X_phon is None else acc_X_phon.append(X)\n",
      "/home/pyromancer/workspace/shared/synthesize_n400.py:130: FutureWarning: The frame.append method is deprecated and will be removed from pandas in a future version. Use pandas.concat instead.\n",
      "  acc_X_phon = X if acc_X_phon is None else acc_X_phon.append(X)\n",
      "/home/pyromancer/workspace/shared/synthesize_n400.py:130: FutureWarning: The frame.append method is deprecated and will be removed from pandas in a future version. Use pandas.concat instead.\n",
      "  acc_X_phon = X if acc_X_phon is None else acc_X_phon.append(X)\n",
      "/home/pyromancer/workspace/shared/synthesize_n400.py:130: FutureWarning: The frame.append method is deprecated and will be removed from pandas in a future version. Use pandas.concat instead.\n",
      "  acc_X_phon = X if acc_X_phon is None else acc_X_phon.append(X)\n",
      "/home/pyromancer/workspace/shared/synthesize_n400.py:130: FutureWarning: The frame.append method is deprecated and will be removed from pandas in a future version. Use pandas.concat instead.\n",
      "  acc_X_phon = X if acc_X_phon is None else acc_X_phon.append(X)\n",
      "/home/pyromancer/workspace/shared/synthesize_n400.py:130: FutureWarning: The frame.append method is deprecated and will be removed from pandas in a future version. Use pandas.concat instead.\n",
      "  acc_X_phon = X if acc_X_phon is None else acc_X_phon.append(X)\n",
      "/home/pyromancer/workspace/shared/synthesize_n400.py:130: FutureWarning: The frame.append method is deprecated and will be removed from pandas in a future version. Use pandas.concat instead.\n",
      "  acc_X_phon = X if acc_X_phon is None else acc_X_phon.append(X)\n",
      "/home/pyromancer/workspace/shared/synthesize_n400.py:130: FutureWarning: The frame.append method is deprecated and will be removed from pandas in a future version. Use pandas.concat instead.\n",
      "  acc_X_phon = X if acc_X_phon is None else acc_X_phon.append(X)\n",
      "/home/pyromancer/workspace/shared/synthesize_n400.py:130: FutureWarning: The frame.append method is deprecated and will be removed from pandas in a future version. Use pandas.concat instead.\n",
      "  acc_X_phon = X if acc_X_phon is None else acc_X_phon.append(X)\n",
      "/home/pyromancer/workspace/shared/synthesize_n400.py:130: FutureWarning: The frame.append method is deprecated and will be removed from pandas in a future version. Use pandas.concat instead.\n",
      "  acc_X_phon = X if acc_X_phon is None else acc_X_phon.append(X)\n",
      "/home/pyromancer/workspace/shared/synthesize_n400.py:130: FutureWarning: The frame.append method is deprecated and will be removed from pandas in a future version. Use pandas.concat instead.\n",
      "  acc_X_phon = X if acc_X_phon is None else acc_X_phon.append(X)\n",
      "/home/pyromancer/workspace/shared/synthesize_n400.py:130: FutureWarning: The frame.append method is deprecated and will be removed from pandas in a future version. Use pandas.concat instead.\n",
      "  acc_X_phon = X if acc_X_phon is None else acc_X_phon.append(X)\n",
      "/home/pyromancer/workspace/shared/synthesize_n400.py:130: FutureWarning: The frame.append method is deprecated and will be removed from pandas in a future version. Use pandas.concat instead.\n",
      "  acc_X_phon = X if acc_X_phon is None else acc_X_phon.append(X)\n",
      " 10%|█         | 1/10 [00:00<00:05,  1.66it/s]/home/pyromancer/workspace/shared/synthesize_n400.py:130: FutureWarning: The frame.append method is deprecated and will be removed from pandas in a future version. Use pandas.concat instead.\n",
      "  acc_X_phon = X if acc_X_phon is None else acc_X_phon.append(X)\n",
      "/home/pyromancer/workspace/shared/synthesize_n400.py:130: FutureWarning: The frame.append method is deprecated and will be removed from pandas in a future version. Use pandas.concat instead.\n",
      "  acc_X_phon = X if acc_X_phon is None else acc_X_phon.append(X)\n",
      "/home/pyromancer/workspace/shared/synthesize_n400.py:130: FutureWarning: The frame.append method is deprecated and will be removed from pandas in a future version. Use pandas.concat instead.\n",
      "  acc_X_phon = X if acc_X_phon is None else acc_X_phon.append(X)\n",
      "/home/pyromancer/workspace/shared/synthesize_n400.py:130: FutureWarning: The frame.append method is deprecated and will be removed from pandas in a future version. Use pandas.concat instead.\n",
      "  acc_X_phon = X if acc_X_phon is None else acc_X_phon.append(X)\n",
      "/home/pyromancer/workspace/shared/synthesize_n400.py:130: FutureWarning: The frame.append method is deprecated and will be removed from pandas in a future version. Use pandas.concat instead.\n",
      "  acc_X_phon = X if acc_X_phon is None else acc_X_phon.append(X)\n",
      "/home/pyromancer/workspace/shared/synthesize_n400.py:130: FutureWarning: The frame.append method is deprecated and will be removed from pandas in a future version. Use pandas.concat instead.\n",
      "  acc_X_phon = X if acc_X_phon is None else acc_X_phon.append(X)\n",
      "/home/pyromancer/workspace/shared/synthesize_n400.py:130: FutureWarning: The frame.append method is deprecated and will be removed from pandas in a future version. Use pandas.concat instead.\n",
      "  acc_X_phon = X if acc_X_phon is None else acc_X_phon.append(X)\n",
      "/home/pyromancer/workspace/shared/synthesize_n400.py:130: FutureWarning: The frame.append method is deprecated and will be removed from pandas in a future version. Use pandas.concat instead.\n",
      "  acc_X_phon = X if acc_X_phon is None else acc_X_phon.append(X)\n",
      "/home/pyromancer/workspace/shared/synthesize_n400.py:130: FutureWarning: The frame.append method is deprecated and will be removed from pandas in a future version. Use pandas.concat instead.\n",
      "  acc_X_phon = X if acc_X_phon is None else acc_X_phon.append(X)\n",
      "/home/pyromancer/workspace/shared/synthesize_n400.py:130: FutureWarning: The frame.append method is deprecated and will be removed from pandas in a future version. Use pandas.concat instead.\n",
      "  acc_X_phon = X if acc_X_phon is None else acc_X_phon.append(X)\n",
      "/home/pyromancer/workspace/shared/synthesize_n400.py:130: FutureWarning: The frame.append method is deprecated and will be removed from pandas in a future version. Use pandas.concat instead.\n",
      "  acc_X_phon = X if acc_X_phon is None else acc_X_phon.append(X)\n",
      " 20%|██        | 2/10 [00:00<00:03,  2.36it/s]/home/pyromancer/workspace/shared/synthesize_n400.py:130: FutureWarning: The frame.append method is deprecated and will be removed from pandas in a future version. Use pandas.concat instead.\n",
      "  acc_X_phon = X if acc_X_phon is None else acc_X_phon.append(X)\n"
     ]
    },
    {
     "name": "stderr",
     "output_type": "stream",
     "text": [
      "/home/pyromancer/workspace/shared/synthesize_n400.py:130: FutureWarning: The frame.append method is deprecated and will be removed from pandas in a future version. Use pandas.concat instead.\n",
      "  acc_X_phon = X if acc_X_phon is None else acc_X_phon.append(X)\n",
      "/home/pyromancer/workspace/shared/synthesize_n400.py:130: FutureWarning: The frame.append method is deprecated and will be removed from pandas in a future version. Use pandas.concat instead.\n",
      "  acc_X_phon = X if acc_X_phon is None else acc_X_phon.append(X)\n",
      "/home/pyromancer/workspace/shared/synthesize_n400.py:130: FutureWarning: The frame.append method is deprecated and will be removed from pandas in a future version. Use pandas.concat instead.\n",
      "  acc_X_phon = X if acc_X_phon is None else acc_X_phon.append(X)\n",
      "/home/pyromancer/workspace/shared/synthesize_n400.py:130: FutureWarning: The frame.append method is deprecated and will be removed from pandas in a future version. Use pandas.concat instead.\n",
      "  acc_X_phon = X if acc_X_phon is None else acc_X_phon.append(X)\n",
      "/home/pyromancer/workspace/shared/synthesize_n400.py:130: FutureWarning: The frame.append method is deprecated and will be removed from pandas in a future version. Use pandas.concat instead.\n",
      "  acc_X_phon = X if acc_X_phon is None else acc_X_phon.append(X)\n",
      "/home/pyromancer/workspace/shared/synthesize_n400.py:130: FutureWarning: The frame.append method is deprecated and will be removed from pandas in a future version. Use pandas.concat instead.\n",
      "  acc_X_phon = X if acc_X_phon is None else acc_X_phon.append(X)\n",
      "/home/pyromancer/workspace/shared/synthesize_n400.py:130: FutureWarning: The frame.append method is deprecated and will be removed from pandas in a future version. Use pandas.concat instead.\n",
      "  acc_X_phon = X if acc_X_phon is None else acc_X_phon.append(X)\n",
      "/home/pyromancer/workspace/shared/synthesize_n400.py:130: FutureWarning: The frame.append method is deprecated and will be removed from pandas in a future version. Use pandas.concat instead.\n",
      "  acc_X_phon = X if acc_X_phon is None else acc_X_phon.append(X)\n",
      "/home/pyromancer/workspace/shared/synthesize_n400.py:130: FutureWarning: The frame.append method is deprecated and will be removed from pandas in a future version. Use pandas.concat instead.\n",
      "  acc_X_phon = X if acc_X_phon is None else acc_X_phon.append(X)\n",
      "/home/pyromancer/workspace/shared/synthesize_n400.py:130: FutureWarning: The frame.append method is deprecated and will be removed from pandas in a future version. Use pandas.concat instead.\n",
      "  acc_X_phon = X if acc_X_phon is None else acc_X_phon.append(X)\n",
      "/home/pyromancer/workspace/shared/synthesize_n400.py:130: FutureWarning: The frame.append method is deprecated and will be removed from pandas in a future version. Use pandas.concat instead.\n",
      "  acc_X_phon = X if acc_X_phon is None else acc_X_phon.append(X)\n",
      "/home/pyromancer/workspace/shared/synthesize_n400.py:130: FutureWarning: The frame.append method is deprecated and will be removed from pandas in a future version. Use pandas.concat instead.\n",
      "  acc_X_phon = X if acc_X_phon is None else acc_X_phon.append(X)\n",
      " 30%|███       | 3/10 [00:01<00:02,  2.49it/s]/home/pyromancer/workspace/shared/synthesize_n400.py:130: FutureWarning: The frame.append method is deprecated and will be removed from pandas in a future version. Use pandas.concat instead.\n",
      "  acc_X_phon = X if acc_X_phon is None else acc_X_phon.append(X)\n",
      "/home/pyromancer/workspace/shared/synthesize_n400.py:130: FutureWarning: The frame.append method is deprecated and will be removed from pandas in a future version. Use pandas.concat instead.\n",
      "  acc_X_phon = X if acc_X_phon is None else acc_X_phon.append(X)\n",
      "/home/pyromancer/workspace/shared/synthesize_n400.py:130: FutureWarning: The frame.append method is deprecated and will be removed from pandas in a future version. Use pandas.concat instead.\n",
      "  acc_X_phon = X if acc_X_phon is None else acc_X_phon.append(X)\n",
      "/home/pyromancer/workspace/shared/synthesize_n400.py:130: FutureWarning: The frame.append method is deprecated and will be removed from pandas in a future version. Use pandas.concat instead.\n",
      "  acc_X_phon = X if acc_X_phon is None else acc_X_phon.append(X)\n",
      "/home/pyromancer/workspace/shared/synthesize_n400.py:130: FutureWarning: The frame.append method is deprecated and will be removed from pandas in a future version. Use pandas.concat instead.\n",
      "  acc_X_phon = X if acc_X_phon is None else acc_X_phon.append(X)\n",
      "/home/pyromancer/workspace/shared/synthesize_n400.py:130: FutureWarning: The frame.append method is deprecated and will be removed from pandas in a future version. Use pandas.concat instead.\n",
      "  acc_X_phon = X if acc_X_phon is None else acc_X_phon.append(X)\n",
      "/home/pyromancer/workspace/shared/synthesize_n400.py:130: FutureWarning: The frame.append method is deprecated and will be removed from pandas in a future version. Use pandas.concat instead.\n",
      "  acc_X_phon = X if acc_X_phon is None else acc_X_phon.append(X)\n",
      "/home/pyromancer/workspace/shared/synthesize_n400.py:130: FutureWarning: The frame.append method is deprecated and will be removed from pandas in a future version. Use pandas.concat instead.\n",
      "  acc_X_phon = X if acc_X_phon is None else acc_X_phon.append(X)\n",
      "/home/pyromancer/workspace/shared/synthesize_n400.py:130: FutureWarning: The frame.append method is deprecated and will be removed from pandas in a future version. Use pandas.concat instead.\n",
      "  acc_X_phon = X if acc_X_phon is None else acc_X_phon.append(X)\n",
      "/home/pyromancer/workspace/shared/synthesize_n400.py:130: FutureWarning: The frame.append method is deprecated and will be removed from pandas in a future version. Use pandas.concat instead.\n",
      "  acc_X_phon = X if acc_X_phon is None else acc_X_phon.append(X)\n",
      "/home/pyromancer/workspace/shared/synthesize_n400.py:130: FutureWarning: The frame.append method is deprecated and will be removed from pandas in a future version. Use pandas.concat instead.\n",
      "  acc_X_phon = X if acc_X_phon is None else acc_X_phon.append(X)\n",
      "/home/pyromancer/workspace/shared/synthesize_n400.py:130: FutureWarning: The frame.append method is deprecated and will be removed from pandas in a future version. Use pandas.concat instead.\n",
      "  acc_X_phon = X if acc_X_phon is None else acc_X_phon.append(X)\n",
      "/home/pyromancer/workspace/shared/synthesize_n400.py:130: FutureWarning: The frame.append method is deprecated and will be removed from pandas in a future version. Use pandas.concat instead.\n",
      "  acc_X_phon = X if acc_X_phon is None else acc_X_phon.append(X)\n",
      "/home/pyromancer/workspace/shared/synthesize_n400.py:130: FutureWarning: The frame.append method is deprecated and will be removed from pandas in a future version. Use pandas.concat instead.\n",
      "  acc_X_phon = X if acc_X_phon is None else acc_X_phon.append(X)\n",
      "/home/pyromancer/workspace/shared/synthesize_n400.py:130: FutureWarning: The frame.append method is deprecated and will be removed from pandas in a future version. Use pandas.concat instead.\n",
      "  acc_X_phon = X if acc_X_phon is None else acc_X_phon.append(X)\n",
      "/home/pyromancer/workspace/shared/synthesize_n400.py:130: FutureWarning: The frame.append method is deprecated and will be removed from pandas in a future version. Use pandas.concat instead.\n",
      "  acc_X_phon = X if acc_X_phon is None else acc_X_phon.append(X)\n",
      "/home/pyromancer/workspace/shared/synthesize_n400.py:130: FutureWarning: The frame.append method is deprecated and will be removed from pandas in a future version. Use pandas.concat instead.\n",
      "  acc_X_phon = X if acc_X_phon is None else acc_X_phon.append(X)\n",
      "/home/pyromancer/workspace/shared/synthesize_n400.py:130: FutureWarning: The frame.append method is deprecated and will be removed from pandas in a future version. Use pandas.concat instead.\n",
      "  acc_X_phon = X if acc_X_phon is None else acc_X_phon.append(X)\n",
      "/home/pyromancer/workspace/shared/synthesize_n400.py:130: FutureWarning: The frame.append method is deprecated and will be removed from pandas in a future version. Use pandas.concat instead.\n",
      "  acc_X_phon = X if acc_X_phon is None else acc_X_phon.append(X)\n",
      "/home/pyromancer/workspace/shared/synthesize_n400.py:130: FutureWarning: The frame.append method is deprecated and will be removed from pandas in a future version. Use pandas.concat instead.\n",
      "  acc_X_phon = X if acc_X_phon is None else acc_X_phon.append(X)\n",
      "/home/pyromancer/workspace/shared/synthesize_n400.py:130: FutureWarning: The frame.append method is deprecated and will be removed from pandas in a future version. Use pandas.concat instead.\n",
      "  acc_X_phon = X if acc_X_phon is None else acc_X_phon.append(X)\n",
      "/home/pyromancer/workspace/shared/synthesize_n400.py:130: FutureWarning: The frame.append method is deprecated and will be removed from pandas in a future version. Use pandas.concat instead.\n",
      "  acc_X_phon = X if acc_X_phon is None else acc_X_phon.append(X)\n"
     ]
    },
    {
     "name": "stderr",
     "output_type": "stream",
     "text": [
      " 40%|████      | 4/10 [00:01<00:02,  2.02it/s]/home/pyromancer/workspace/shared/synthesize_n400.py:130: FutureWarning: The frame.append method is deprecated and will be removed from pandas in a future version. Use pandas.concat instead.\n",
      "  acc_X_phon = X if acc_X_phon is None else acc_X_phon.append(X)\n",
      "/home/pyromancer/workspace/shared/synthesize_n400.py:130: FutureWarning: The frame.append method is deprecated and will be removed from pandas in a future version. Use pandas.concat instead.\n",
      "  acc_X_phon = X if acc_X_phon is None else acc_X_phon.append(X)\n",
      "/home/pyromancer/workspace/shared/synthesize_n400.py:130: FutureWarning: The frame.append method is deprecated and will be removed from pandas in a future version. Use pandas.concat instead.\n",
      "  acc_X_phon = X if acc_X_phon is None else acc_X_phon.append(X)\n",
      "/home/pyromancer/workspace/shared/synthesize_n400.py:130: FutureWarning: The frame.append method is deprecated and will be removed from pandas in a future version. Use pandas.concat instead.\n",
      "  acc_X_phon = X if acc_X_phon is None else acc_X_phon.append(X)\n",
      "/home/pyromancer/workspace/shared/synthesize_n400.py:130: FutureWarning: The frame.append method is deprecated and will be removed from pandas in a future version. Use pandas.concat instead.\n",
      "  acc_X_phon = X if acc_X_phon is None else acc_X_phon.append(X)\n",
      "/home/pyromancer/workspace/shared/synthesize_n400.py:130: FutureWarning: The frame.append method is deprecated and will be removed from pandas in a future version. Use pandas.concat instead.\n",
      "  acc_X_phon = X if acc_X_phon is None else acc_X_phon.append(X)\n",
      "/home/pyromancer/workspace/shared/synthesize_n400.py:130: FutureWarning: The frame.append method is deprecated and will be removed from pandas in a future version. Use pandas.concat instead.\n",
      "  acc_X_phon = X if acc_X_phon is None else acc_X_phon.append(X)\n",
      "/home/pyromancer/workspace/shared/synthesize_n400.py:130: FutureWarning: The frame.append method is deprecated and will be removed from pandas in a future version. Use pandas.concat instead.\n",
      "  acc_X_phon = X if acc_X_phon is None else acc_X_phon.append(X)\n",
      "/home/pyromancer/workspace/shared/synthesize_n400.py:130: FutureWarning: The frame.append method is deprecated and will be removed from pandas in a future version. Use pandas.concat instead.\n",
      "  acc_X_phon = X if acc_X_phon is None else acc_X_phon.append(X)\n",
      "/home/pyromancer/workspace/shared/synthesize_n400.py:130: FutureWarning: The frame.append method is deprecated and will be removed from pandas in a future version. Use pandas.concat instead.\n",
      "  acc_X_phon = X if acc_X_phon is None else acc_X_phon.append(X)\n",
      "/home/pyromancer/workspace/shared/synthesize_n400.py:130: FutureWarning: The frame.append method is deprecated and will be removed from pandas in a future version. Use pandas.concat instead.\n",
      "  acc_X_phon = X if acc_X_phon is None else acc_X_phon.append(X)\n",
      "/home/pyromancer/workspace/shared/synthesize_n400.py:130: FutureWarning: The frame.append method is deprecated and will be removed from pandas in a future version. Use pandas.concat instead.\n",
      "  acc_X_phon = X if acc_X_phon is None else acc_X_phon.append(X)\n",
      "/home/pyromancer/workspace/shared/synthesize_n400.py:130: FutureWarning: The frame.append method is deprecated and will be removed from pandas in a future version. Use pandas.concat instead.\n",
      "  acc_X_phon = X if acc_X_phon is None else acc_X_phon.append(X)\n",
      "/home/pyromancer/workspace/shared/synthesize_n400.py:130: FutureWarning: The frame.append method is deprecated and will be removed from pandas in a future version. Use pandas.concat instead.\n",
      "  acc_X_phon = X if acc_X_phon is None else acc_X_phon.append(X)\n",
      " 50%|█████     | 5/10 [00:02<00:02,  2.18it/s]/home/pyromancer/workspace/shared/synthesize_n400.py:130: FutureWarning: The frame.append method is deprecated and will be removed from pandas in a future version. Use pandas.concat instead.\n",
      "  acc_X_phon = X if acc_X_phon is None else acc_X_phon.append(X)\n",
      "/home/pyromancer/workspace/shared/synthesize_n400.py:130: FutureWarning: The frame.append method is deprecated and will be removed from pandas in a future version. Use pandas.concat instead.\n",
      "  acc_X_phon = X if acc_X_phon is None else acc_X_phon.append(X)\n",
      "/home/pyromancer/workspace/shared/synthesize_n400.py:130: FutureWarning: The frame.append method is deprecated and will be removed from pandas in a future version. Use pandas.concat instead.\n",
      "  acc_X_phon = X if acc_X_phon is None else acc_X_phon.append(X)\n",
      "/home/pyromancer/workspace/shared/synthesize_n400.py:130: FutureWarning: The frame.append method is deprecated and will be removed from pandas in a future version. Use pandas.concat instead.\n",
      "  acc_X_phon = X if acc_X_phon is None else acc_X_phon.append(X)\n",
      "/home/pyromancer/workspace/shared/synthesize_n400.py:130: FutureWarning: The frame.append method is deprecated and will be removed from pandas in a future version. Use pandas.concat instead.\n",
      "  acc_X_phon = X if acc_X_phon is None else acc_X_phon.append(X)\n",
      "/home/pyromancer/workspace/shared/synthesize_n400.py:130: FutureWarning: The frame.append method is deprecated and will be removed from pandas in a future version. Use pandas.concat instead.\n",
      "  acc_X_phon = X if acc_X_phon is None else acc_X_phon.append(X)\n",
      "/home/pyromancer/workspace/shared/synthesize_n400.py:130: FutureWarning: The frame.append method is deprecated and will be removed from pandas in a future version. Use pandas.concat instead.\n",
      "  acc_X_phon = X if acc_X_phon is None else acc_X_phon.append(X)\n",
      "/home/pyromancer/workspace/shared/synthesize_n400.py:130: FutureWarning: The frame.append method is deprecated and will be removed from pandas in a future version. Use pandas.concat instead.\n",
      "  acc_X_phon = X if acc_X_phon is None else acc_X_phon.append(X)\n",
      "/home/pyromancer/workspace/shared/synthesize_n400.py:130: FutureWarning: The frame.append method is deprecated and will be removed from pandas in a future version. Use pandas.concat instead.\n",
      "  acc_X_phon = X if acc_X_phon is None else acc_X_phon.append(X)\n",
      "/home/pyromancer/workspace/shared/synthesize_n400.py:130: FutureWarning: The frame.append method is deprecated and will be removed from pandas in a future version. Use pandas.concat instead.\n",
      "  acc_X_phon = X if acc_X_phon is None else acc_X_phon.append(X)\n",
      "/home/pyromancer/workspace/shared/synthesize_n400.py:130: FutureWarning: The frame.append method is deprecated and will be removed from pandas in a future version. Use pandas.concat instead.\n",
      "  acc_X_phon = X if acc_X_phon is None else acc_X_phon.append(X)\n",
      "/home/pyromancer/workspace/shared/synthesize_n400.py:130: FutureWarning: The frame.append method is deprecated and will be removed from pandas in a future version. Use pandas.concat instead.\n",
      "  acc_X_phon = X if acc_X_phon is None else acc_X_phon.append(X)\n",
      " 60%|██████    | 6/10 [00:02<00:01,  2.38it/s]/home/pyromancer/workspace/shared/synthesize_n400.py:130: FutureWarning: The frame.append method is deprecated and will be removed from pandas in a future version. Use pandas.concat instead.\n",
      "  acc_X_phon = X if acc_X_phon is None else acc_X_phon.append(X)\n",
      "/home/pyromancer/workspace/shared/synthesize_n400.py:130: FutureWarning: The frame.append method is deprecated and will be removed from pandas in a future version. Use pandas.concat instead.\n",
      "  acc_X_phon = X if acc_X_phon is None else acc_X_phon.append(X)\n",
      "/home/pyromancer/workspace/shared/synthesize_n400.py:130: FutureWarning: The frame.append method is deprecated and will be removed from pandas in a future version. Use pandas.concat instead.\n",
      "  acc_X_phon = X if acc_X_phon is None else acc_X_phon.append(X)\n",
      "/home/pyromancer/workspace/shared/synthesize_n400.py:130: FutureWarning: The frame.append method is deprecated and will be removed from pandas in a future version. Use pandas.concat instead.\n",
      "  acc_X_phon = X if acc_X_phon is None else acc_X_phon.append(X)\n",
      "/home/pyromancer/workspace/shared/synthesize_n400.py:130: FutureWarning: The frame.append method is deprecated and will be removed from pandas in a future version. Use pandas.concat instead.\n",
      "  acc_X_phon = X if acc_X_phon is None else acc_X_phon.append(X)\n",
      "/home/pyromancer/workspace/shared/synthesize_n400.py:130: FutureWarning: The frame.append method is deprecated and will be removed from pandas in a future version. Use pandas.concat instead.\n",
      "  acc_X_phon = X if acc_X_phon is None else acc_X_phon.append(X)\n",
      "/home/pyromancer/workspace/shared/synthesize_n400.py:130: FutureWarning: The frame.append method is deprecated and will be removed from pandas in a future version. Use pandas.concat instead.\n",
      "  acc_X_phon = X if acc_X_phon is None else acc_X_phon.append(X)\n",
      "/home/pyromancer/workspace/shared/synthesize_n400.py:130: FutureWarning: The frame.append method is deprecated and will be removed from pandas in a future version. Use pandas.concat instead.\n",
      "  acc_X_phon = X if acc_X_phon is None else acc_X_phon.append(X)\n"
     ]
    },
    {
     "name": "stderr",
     "output_type": "stream",
     "text": [
      "/home/pyromancer/workspace/shared/synthesize_n400.py:130: FutureWarning: The frame.append method is deprecated and will be removed from pandas in a future version. Use pandas.concat instead.\n",
      "  acc_X_phon = X if acc_X_phon is None else acc_X_phon.append(X)\n",
      "/home/pyromancer/workspace/shared/synthesize_n400.py:130: FutureWarning: The frame.append method is deprecated and will be removed from pandas in a future version. Use pandas.concat instead.\n",
      "  acc_X_phon = X if acc_X_phon is None else acc_X_phon.append(X)\n",
      "/home/pyromancer/workspace/shared/synthesize_n400.py:130: FutureWarning: The frame.append method is deprecated and will be removed from pandas in a future version. Use pandas.concat instead.\n",
      "  acc_X_phon = X if acc_X_phon is None else acc_X_phon.append(X)\n",
      "/home/pyromancer/workspace/shared/synthesize_n400.py:130: FutureWarning: The frame.append method is deprecated and will be removed from pandas in a future version. Use pandas.concat instead.\n",
      "  acc_X_phon = X if acc_X_phon is None else acc_X_phon.append(X)\n",
      "/home/pyromancer/workspace/shared/synthesize_n400.py:130: FutureWarning: The frame.append method is deprecated and will be removed from pandas in a future version. Use pandas.concat instead.\n",
      "  acc_X_phon = X if acc_X_phon is None else acc_X_phon.append(X)\n",
      "/home/pyromancer/workspace/shared/synthesize_n400.py:130: FutureWarning: The frame.append method is deprecated and will be removed from pandas in a future version. Use pandas.concat instead.\n",
      "  acc_X_phon = X if acc_X_phon is None else acc_X_phon.append(X)\n",
      "/home/pyromancer/workspace/shared/synthesize_n400.py:130: FutureWarning: The frame.append method is deprecated and will be removed from pandas in a future version. Use pandas.concat instead.\n",
      "  acc_X_phon = X if acc_X_phon is None else acc_X_phon.append(X)\n",
      "/home/pyromancer/workspace/shared/synthesize_n400.py:130: FutureWarning: The frame.append method is deprecated and will be removed from pandas in a future version. Use pandas.concat instead.\n",
      "  acc_X_phon = X if acc_X_phon is None else acc_X_phon.append(X)\n",
      "/home/pyromancer/workspace/shared/synthesize_n400.py:130: FutureWarning: The frame.append method is deprecated and will be removed from pandas in a future version. Use pandas.concat instead.\n",
      "  acc_X_phon = X if acc_X_phon is None else acc_X_phon.append(X)\n",
      "/home/pyromancer/workspace/shared/synthesize_n400.py:130: FutureWarning: The frame.append method is deprecated and will be removed from pandas in a future version. Use pandas.concat instead.\n",
      "  acc_X_phon = X if acc_X_phon is None else acc_X_phon.append(X)\n",
      "/home/pyromancer/workspace/shared/synthesize_n400.py:130: FutureWarning: The frame.append method is deprecated and will be removed from pandas in a future version. Use pandas.concat instead.\n",
      "  acc_X_phon = X if acc_X_phon is None else acc_X_phon.append(X)\n",
      "/home/pyromancer/workspace/shared/synthesize_n400.py:130: FutureWarning: The frame.append method is deprecated and will be removed from pandas in a future version. Use pandas.concat instead.\n",
      "  acc_X_phon = X if acc_X_phon is None else acc_X_phon.append(X)\n",
      "/home/pyromancer/workspace/shared/synthesize_n400.py:130: FutureWarning: The frame.append method is deprecated and will be removed from pandas in a future version. Use pandas.concat instead.\n",
      "  acc_X_phon = X if acc_X_phon is None else acc_X_phon.append(X)\n",
      "/home/pyromancer/workspace/shared/synthesize_n400.py:130: FutureWarning: The frame.append method is deprecated and will be removed from pandas in a future version. Use pandas.concat instead.\n",
      "  acc_X_phon = X if acc_X_phon is None else acc_X_phon.append(X)\n",
      " 70%|███████   | 7/10 [00:03<00:01,  2.06it/s]/home/pyromancer/workspace/shared/synthesize_n400.py:130: FutureWarning: The frame.append method is deprecated and will be removed from pandas in a future version. Use pandas.concat instead.\n",
      "  acc_X_phon = X if acc_X_phon is None else acc_X_phon.append(X)\n",
      "/home/pyromancer/workspace/shared/synthesize_n400.py:130: FutureWarning: The frame.append method is deprecated and will be removed from pandas in a future version. Use pandas.concat instead.\n",
      "  acc_X_phon = X if acc_X_phon is None else acc_X_phon.append(X)\n",
      "/home/pyromancer/workspace/shared/synthesize_n400.py:130: FutureWarning: The frame.append method is deprecated and will be removed from pandas in a future version. Use pandas.concat instead.\n",
      "  acc_X_phon = X if acc_X_phon is None else acc_X_phon.append(X)\n",
      "/home/pyromancer/workspace/shared/synthesize_n400.py:130: FutureWarning: The frame.append method is deprecated and will be removed from pandas in a future version. Use pandas.concat instead.\n",
      "  acc_X_phon = X if acc_X_phon is None else acc_X_phon.append(X)\n",
      "/home/pyromancer/workspace/shared/synthesize_n400.py:130: FutureWarning: The frame.append method is deprecated and will be removed from pandas in a future version. Use pandas.concat instead.\n",
      "  acc_X_phon = X if acc_X_phon is None else acc_X_phon.append(X)\n",
      "/home/pyromancer/workspace/shared/synthesize_n400.py:130: FutureWarning: The frame.append method is deprecated and will be removed from pandas in a future version. Use pandas.concat instead.\n",
      "  acc_X_phon = X if acc_X_phon is None else acc_X_phon.append(X)\n",
      "/home/pyromancer/workspace/shared/synthesize_n400.py:130: FutureWarning: The frame.append method is deprecated and will be removed from pandas in a future version. Use pandas.concat instead.\n",
      "  acc_X_phon = X if acc_X_phon is None else acc_X_phon.append(X)\n",
      "/home/pyromancer/workspace/shared/synthesize_n400.py:130: FutureWarning: The frame.append method is deprecated and will be removed from pandas in a future version. Use pandas.concat instead.\n",
      "  acc_X_phon = X if acc_X_phon is None else acc_X_phon.append(X)\n",
      "/home/pyromancer/workspace/shared/synthesize_n400.py:130: FutureWarning: The frame.append method is deprecated and will be removed from pandas in a future version. Use pandas.concat instead.\n",
      "  acc_X_phon = X if acc_X_phon is None else acc_X_phon.append(X)\n",
      "/home/pyromancer/workspace/shared/synthesize_n400.py:130: FutureWarning: The frame.append method is deprecated and will be removed from pandas in a future version. Use pandas.concat instead.\n",
      "  acc_X_phon = X if acc_X_phon is None else acc_X_phon.append(X)\n",
      "/home/pyromancer/workspace/shared/synthesize_n400.py:130: FutureWarning: The frame.append method is deprecated and will be removed from pandas in a future version. Use pandas.concat instead.\n",
      "  acc_X_phon = X if acc_X_phon is None else acc_X_phon.append(X)\n",
      "/home/pyromancer/workspace/shared/synthesize_n400.py:130: FutureWarning: The frame.append method is deprecated and will be removed from pandas in a future version. Use pandas.concat instead.\n",
      "  acc_X_phon = X if acc_X_phon is None else acc_X_phon.append(X)\n",
      "/home/pyromancer/workspace/shared/synthesize_n400.py:130: FutureWarning: The frame.append method is deprecated and will be removed from pandas in a future version. Use pandas.concat instead.\n",
      "  acc_X_phon = X if acc_X_phon is None else acc_X_phon.append(X)\n",
      "/home/pyromancer/workspace/shared/synthesize_n400.py:130: FutureWarning: The frame.append method is deprecated and will be removed from pandas in a future version. Use pandas.concat instead.\n",
      "  acc_X_phon = X if acc_X_phon is None else acc_X_phon.append(X)\n",
      "/home/pyromancer/workspace/shared/synthesize_n400.py:130: FutureWarning: The frame.append method is deprecated and will be removed from pandas in a future version. Use pandas.concat instead.\n",
      "  acc_X_phon = X if acc_X_phon is None else acc_X_phon.append(X)\n",
      "/home/pyromancer/workspace/shared/synthesize_n400.py:130: FutureWarning: The frame.append method is deprecated and will be removed from pandas in a future version. Use pandas.concat instead.\n",
      "  acc_X_phon = X if acc_X_phon is None else acc_X_phon.append(X)\n",
      " 80%|████████  | 8/10 [00:03<00:00,  2.12it/s]/home/pyromancer/workspace/shared/synthesize_n400.py:130: FutureWarning: The frame.append method is deprecated and will be removed from pandas in a future version. Use pandas.concat instead.\n",
      "  acc_X_phon = X if acc_X_phon is None else acc_X_phon.append(X)\n",
      "/home/pyromancer/workspace/shared/synthesize_n400.py:130: FutureWarning: The frame.append method is deprecated and will be removed from pandas in a future version. Use pandas.concat instead.\n",
      "  acc_X_phon = X if acc_X_phon is None else acc_X_phon.append(X)\n"
     ]
    },
    {
     "name": "stderr",
     "output_type": "stream",
     "text": [
      "/home/pyromancer/workspace/shared/synthesize_n400.py:130: FutureWarning: The frame.append method is deprecated and will be removed from pandas in a future version. Use pandas.concat instead.\n",
      "  acc_X_phon = X if acc_X_phon is None else acc_X_phon.append(X)\n",
      "/home/pyromancer/workspace/shared/synthesize_n400.py:130: FutureWarning: The frame.append method is deprecated and will be removed from pandas in a future version. Use pandas.concat instead.\n",
      "  acc_X_phon = X if acc_X_phon is None else acc_X_phon.append(X)\n",
      "/home/pyromancer/workspace/shared/synthesize_n400.py:130: FutureWarning: The frame.append method is deprecated and will be removed from pandas in a future version. Use pandas.concat instead.\n",
      "  acc_X_phon = X if acc_X_phon is None else acc_X_phon.append(X)\n",
      "/home/pyromancer/workspace/shared/synthesize_n400.py:130: FutureWarning: The frame.append method is deprecated and will be removed from pandas in a future version. Use pandas.concat instead.\n",
      "  acc_X_phon = X if acc_X_phon is None else acc_X_phon.append(X)\n",
      "/home/pyromancer/workspace/shared/synthesize_n400.py:130: FutureWarning: The frame.append method is deprecated and will be removed from pandas in a future version. Use pandas.concat instead.\n",
      "  acc_X_phon = X if acc_X_phon is None else acc_X_phon.append(X)\n",
      "/home/pyromancer/workspace/shared/synthesize_n400.py:130: FutureWarning: The frame.append method is deprecated and will be removed from pandas in a future version. Use pandas.concat instead.\n",
      "  acc_X_phon = X if acc_X_phon is None else acc_X_phon.append(X)\n",
      "/home/pyromancer/workspace/shared/synthesize_n400.py:130: FutureWarning: The frame.append method is deprecated and will be removed from pandas in a future version. Use pandas.concat instead.\n",
      "  acc_X_phon = X if acc_X_phon is None else acc_X_phon.append(X)\n",
      "/home/pyromancer/workspace/shared/synthesize_n400.py:130: FutureWarning: The frame.append method is deprecated and will be removed from pandas in a future version. Use pandas.concat instead.\n",
      "  acc_X_phon = X if acc_X_phon is None else acc_X_phon.append(X)\n",
      "/home/pyromancer/workspace/shared/synthesize_n400.py:130: FutureWarning: The frame.append method is deprecated and will be removed from pandas in a future version. Use pandas.concat instead.\n",
      "  acc_X_phon = X if acc_X_phon is None else acc_X_phon.append(X)\n",
      "/home/pyromancer/workspace/shared/synthesize_n400.py:130: FutureWarning: The frame.append method is deprecated and will be removed from pandas in a future version. Use pandas.concat instead.\n",
      "  acc_X_phon = X if acc_X_phon is None else acc_X_phon.append(X)\n",
      "/home/pyromancer/workspace/shared/synthesize_n400.py:130: FutureWarning: The frame.append method is deprecated and will be removed from pandas in a future version. Use pandas.concat instead.\n",
      "  acc_X_phon = X if acc_X_phon is None else acc_X_phon.append(X)\n",
      "/home/pyromancer/workspace/shared/synthesize_n400.py:130: FutureWarning: The frame.append method is deprecated and will be removed from pandas in a future version. Use pandas.concat instead.\n",
      "  acc_X_phon = X if acc_X_phon is None else acc_X_phon.append(X)\n",
      "/home/pyromancer/workspace/shared/synthesize_n400.py:130: FutureWarning: The frame.append method is deprecated and will be removed from pandas in a future version. Use pandas.concat instead.\n",
      "  acc_X_phon = X if acc_X_phon is None else acc_X_phon.append(X)\n",
      "/home/pyromancer/workspace/shared/synthesize_n400.py:130: FutureWarning: The frame.append method is deprecated and will be removed from pandas in a future version. Use pandas.concat instead.\n",
      "  acc_X_phon = X if acc_X_phon is None else acc_X_phon.append(X)\n",
      "/home/pyromancer/workspace/shared/synthesize_n400.py:130: FutureWarning: The frame.append method is deprecated and will be removed from pandas in a future version. Use pandas.concat instead.\n",
      "  acc_X_phon = X if acc_X_phon is None else acc_X_phon.append(X)\n",
      "/home/pyromancer/workspace/shared/synthesize_n400.py:130: FutureWarning: The frame.append method is deprecated and will be removed from pandas in a future version. Use pandas.concat instead.\n",
      "  acc_X_phon = X if acc_X_phon is None else acc_X_phon.append(X)\n",
      "/home/pyromancer/workspace/shared/synthesize_n400.py:130: FutureWarning: The frame.append method is deprecated and will be removed from pandas in a future version. Use pandas.concat instead.\n",
      "  acc_X_phon = X if acc_X_phon is None else acc_X_phon.append(X)\n",
      "/home/pyromancer/workspace/shared/synthesize_n400.py:130: FutureWarning: The frame.append method is deprecated and will be removed from pandas in a future version. Use pandas.concat instead.\n",
      "  acc_X_phon = X if acc_X_phon is None else acc_X_phon.append(X)\n",
      "/home/pyromancer/workspace/shared/synthesize_n400.py:130: FutureWarning: The frame.append method is deprecated and will be removed from pandas in a future version. Use pandas.concat instead.\n",
      "  acc_X_phon = X if acc_X_phon is None else acc_X_phon.append(X)\n",
      "/home/pyromancer/workspace/shared/synthesize_n400.py:130: FutureWarning: The frame.append method is deprecated and will be removed from pandas in a future version. Use pandas.concat instead.\n",
      "  acc_X_phon = X if acc_X_phon is None else acc_X_phon.append(X)\n",
      "/home/pyromancer/workspace/shared/synthesize_n400.py:130: FutureWarning: The frame.append method is deprecated and will be removed from pandas in a future version. Use pandas.concat instead.\n",
      "  acc_X_phon = X if acc_X_phon is None else acc_X_phon.append(X)\n",
      " 90%|█████████ | 9/10 [00:04<00:00,  1.90it/s]/home/pyromancer/workspace/shared/synthesize_n400.py:130: FutureWarning: The frame.append method is deprecated and will be removed from pandas in a future version. Use pandas.concat instead.\n",
      "  acc_X_phon = X if acc_X_phon is None else acc_X_phon.append(X)\n",
      "/home/pyromancer/workspace/shared/synthesize_n400.py:130: FutureWarning: The frame.append method is deprecated and will be removed from pandas in a future version. Use pandas.concat instead.\n",
      "  acc_X_phon = X if acc_X_phon is None else acc_X_phon.append(X)\n",
      "/home/pyromancer/workspace/shared/synthesize_n400.py:130: FutureWarning: The frame.append method is deprecated and will be removed from pandas in a future version. Use pandas.concat instead.\n",
      "  acc_X_phon = X if acc_X_phon is None else acc_X_phon.append(X)\n",
      "/home/pyromancer/workspace/shared/synthesize_n400.py:130: FutureWarning: The frame.append method is deprecated and will be removed from pandas in a future version. Use pandas.concat instead.\n",
      "  acc_X_phon = X if acc_X_phon is None else acc_X_phon.append(X)\n",
      "/home/pyromancer/workspace/shared/synthesize_n400.py:130: FutureWarning: The frame.append method is deprecated and will be removed from pandas in a future version. Use pandas.concat instead.\n",
      "  acc_X_phon = X if acc_X_phon is None else acc_X_phon.append(X)\n",
      "/home/pyromancer/workspace/shared/synthesize_n400.py:130: FutureWarning: The frame.append method is deprecated and will be removed from pandas in a future version. Use pandas.concat instead.\n",
      "  acc_X_phon = X if acc_X_phon is None else acc_X_phon.append(X)\n",
      "/home/pyromancer/workspace/shared/synthesize_n400.py:130: FutureWarning: The frame.append method is deprecated and will be removed from pandas in a future version. Use pandas.concat instead.\n",
      "  acc_X_phon = X if acc_X_phon is None else acc_X_phon.append(X)\n",
      "/home/pyromancer/workspace/shared/synthesize_n400.py:130: FutureWarning: The frame.append method is deprecated and will be removed from pandas in a future version. Use pandas.concat instead.\n",
      "  acc_X_phon = X if acc_X_phon is None else acc_X_phon.append(X)\n",
      "/home/pyromancer/workspace/shared/synthesize_n400.py:130: FutureWarning: The frame.append method is deprecated and will be removed from pandas in a future version. Use pandas.concat instead.\n",
      "  acc_X_phon = X if acc_X_phon is None else acc_X_phon.append(X)\n",
      "/home/pyromancer/workspace/shared/synthesize_n400.py:130: FutureWarning: The frame.append method is deprecated and will be removed from pandas in a future version. Use pandas.concat instead.\n",
      "  acc_X_phon = X if acc_X_phon is None else acc_X_phon.append(X)\n",
      "/home/pyromancer/workspace/shared/synthesize_n400.py:130: FutureWarning: The frame.append method is deprecated and will be removed from pandas in a future version. Use pandas.concat instead.\n",
      "  acc_X_phon = X if acc_X_phon is None else acc_X_phon.append(X)\n",
      "/home/pyromancer/workspace/shared/synthesize_n400.py:130: FutureWarning: The frame.append method is deprecated and will be removed from pandas in a future version. Use pandas.concat instead.\n",
      "  acc_X_phon = X if acc_X_phon is None else acc_X_phon.append(X)\n",
      "/home/pyromancer/workspace/shared/synthesize_n400.py:130: FutureWarning: The frame.append method is deprecated and will be removed from pandas in a future version. Use pandas.concat instead.\n",
      "  acc_X_phon = X if acc_X_phon is None else acc_X_phon.append(X)\n"
     ]
    },
    {
     "name": "stderr",
     "output_type": "stream",
     "text": [
      "100%|██████████| 10/10 [00:04<00:00,  2.11it/s]\n",
      "100%|██████████| 176/176 [00:00<00:00, 480.97it/s]\n"
     ]
    }
   ],
   "source": [
    "X, y = synthesize_dataset(10)"
   ]
  },
  {
   "cell_type": "code",
   "execution_count": 29,
   "id": "01158ef9",
   "metadata": {},
   "outputs": [
    {
     "data": {
      "text/plain": [
       "(tensor([[7.0695],\n",
       "         [7.8861],\n",
       "         [7.1047],\n",
       "         [6.2142],\n",
       "         [7.8846]], dtype=torch.float64),\n",
       " tensor([-6.5979, -8.5710, -6.5150, -6.4600, -9.9378], dtype=torch.float64))"
      ]
     },
     "execution_count": 29,
     "metadata": {},
     "output_type": "execute_result"
    }
   ],
   "source": [
    "X[:5], y[:5]"
   ]
  },
  {
   "cell_type": "code",
   "execution_count": 30,
   "id": "41af8e32",
   "metadata": {},
   "outputs": [],
   "source": [
    "def model(X, y):\n",
    "    coef = pyro.sample('coef', dist.Normal(0., 2.))\n",
    "\n",
    "    with pyro.plate('data', X.shape[0]):\n",
    "        pyro.sample('obs', dist.Normal(coef * X[:, 0], 0.1), obs=y)"
   ]
  },
  {
   "cell_type": "code",
   "execution_count": 31,
   "id": "05a0f8bf",
   "metadata": {},
   "outputs": [],
   "source": [
    "def init_loc_fn(site):\n",
    "    if site[\"name\"] == \"coef\":\n",
    "        return 0\n",
    "    raise ValueError(site[\"name\"])\n",
    "\n",
    "def initialize(X, y, seed, optim, elbo):\n",
    "    global global_guide, svi\n",
    "    pyro.set_rng_seed(seed)\n",
    "    pyro.clear_param_store()\n",
    "#     global_guide = AutoDelta(poutine.block(model, expose=['coef']),\n",
    "#                              init_loc_fn=init_loc_fn)\n",
    "    global_guide = AutoDiagonalNormal(model)\n",
    "    svi = SVI(model, global_guide, optim, loss=elbo)\n",
    "    return svi.loss(model, global_guide, X, y)"
   ]
  },
  {
   "cell_type": "code",
   "execution_count": 32,
   "id": "07255974",
   "metadata": {},
   "outputs": [
    {
     "name": "stderr",
     "output_type": "stream",
     "text": [
      "/tmp/ipykernel_64/4214504297.py:5: UserWarning: To copy construct from a tensor, it is recommended to use sourceTensor.clone().detach() or sourceTensor.clone().detach().requires_grad_(True), rather than torch.tensor(sourceTensor).\n",
      "  X = torch.tensor(X)\n",
      "/tmp/ipykernel_64/4214504297.py:6: UserWarning: To copy construct from a tensor, it is recommended to use sourceTensor.clone().detach() or sourceTensor.clone().detach().requires_grad_(True), rather than torch.tensor(sourceTensor).\n",
      "  y = torch.tensor(y)\n",
      "/opt/conda/lib/python3.9/site-packages/pyro/infer/traceenum_elbo.py:355: UserWarning: TraceEnum_ELBO found no sample sites configured for enumeration. If you want to enumerate sites, you need to @config_enumerate or set infer={\"enumerate\": \"sequential\"} or infer={\"enumerate\": \"parallel\"}? If you do not want to enumerate, consider using Trace_ELBO instead.\n",
      "  warnings.warn(\n"
     ]
    },
    {
     "name": "stdout",
     "output_type": "stream",
     "text": [
      "seed = 98, initial_loss = 28475.100370071552\n"
     ]
    }
   ],
   "source": [
    "optim = pyro.optim.Adam({'lr': 0.1, 'betas': [0.8, 0.99]})\n",
    "elbo = TraceEnum_ELBO()\n",
    "\n",
    "# Choose the best among 100 random initializations.\n",
    "X = torch.tensor(X)\n",
    "y = torch.tensor(y)\n",
    "loss, seed = min((initialize(X, y, seed, optim, elbo), seed) for seed in range(100))\n",
    "initialize(X, y, seed, optim, elbo)\n",
    "print('seed = {}, initial_loss = {}'.format(seed, loss))"
   ]
  },
  {
   "cell_type": "code",
   "execution_count": 33,
   "id": "f4393004",
   "metadata": {},
   "outputs": [],
   "source": [
    "# Register hooks to monitor gradient norms.\n",
    "gradient_norms = defaultdict(list)\n",
    "for name, value in pyro.get_param_store().named_parameters():\n",
    "    value.register_hook(lambda g, name=name: gradient_norms[name].append(g.norm().item()))"
   ]
  },
  {
   "cell_type": "code",
   "execution_count": 34,
   "id": "eba79fb9",
   "metadata": {},
   "outputs": [
    {
     "name": "stdout",
     "output_type": "stream",
     "text": [
      "\n",
      "...................................................................................................\n",
      "..................................................................................................."
     ]
    }
   ],
   "source": [
    "losses = []\n",
    "for i in range(200):\n",
    "    loss = svi.step(X, y)\n",
    "    losses.append(loss)\n",
    "    print('.' if i % 100 else '\\n', end='')"
   ]
  },
  {
   "cell_type": "code",
   "execution_count": 35,
   "id": "635bfdb2",
   "metadata": {},
   "outputs": [
    {
     "data": {
      "text/plain": [
       "[<matplotlib.lines.Line2D at 0x7fac2a7e5610>]"
      ]
     },
     "execution_count": 35,
     "metadata": {},
     "output_type": "execute_result"
    },
    {
     "data": {
      "image/png": "[encoded data removed]",
      "text/plain": [
       "<Figure size 432x288 with 1 Axes>"
      ]
     },
     "metadata": {
      "needs_background": "light"
     },
     "output_type": "display_data"
    }
   ],
   "source": [
    "plt.plot(losses)"
   ]
  },
  {
   "cell_type": "code",
   "execution_count": 36,
   "id": "5ce5c381",
   "metadata": {},
   "outputs": [
    {
     "name": "stdout",
     "output_type": "stream",
     "text": [
      "AutoDiagonalNormal.loc Parameter containing:\n",
      "tensor([-0.9803])\n",
      "AutoDiagonalNormal.scale tensor([0.0082])\n"
     ]
    }
   ],
   "source": [
    "global_guide.requires_grad_(False)\n",
    "\n",
    "for name, value in pyro.get_param_store().items():\n",
    "    print(name, pyro.param(name))"
   ]
  },
  {
   "cell_type": "code",
   "execution_count": null,
   "id": "fc400e12",
   "metadata": {},
   "outputs": [],
   "source": []
  }
 ],
 "metadata": {
  "kernelspec": {
   "display_name": "Python 3 (ipykernel)",
   "language": "python",
   "name": "python3"
  },
  "language_info": {
   "codemirror_mode": {
    "name": "ipython",
    "version": 3
   },
   "file_extension": ".py",
   "mimetype": "text/x-python",
   "name": "python",
   "nbconvert_exporter": "python",
   "pygments_lexer": "ipython3",
   "version": "3.9.7"
  }
 },
 "nbformat": 4,
 "nbformat_minor": 5
}
