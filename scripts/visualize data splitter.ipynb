{
 "cells": [
  {
   "cell_type": "code",
   "execution_count": 24,
   "id": "84f2e961-8b89-4ed1-b6df-8d8a946092b7",
   "metadata": {},
   "outputs": [],
   "source": [
    "import matplotlib.pyplot as plt\n",
    "import numpy as np\n",
    "import seaborn as sns\n",
    "import torch"
   ]
  },
  {
   "cell_type": "code",
   "execution_count": 12,
   "id": "9f947b1a-725c-4941-a1f2-243eecd5422c",
   "metadata": {},
   "outputs": [
    {
     "name": "stdout",
     "output_type": "stream",
     "text": [
      "The autoreload extension is already loaded. To reload it, use:\n",
      "  %reload_ext autoreload\n"
     ]
    }
   ],
   "source": [
    "%load_ext autoreload\n",
    "%autoreload 2\n",
    "\n",
    "import sys\n",
    "sys.path.append(\"..\")\n",
    "\n",
    "from berp.datasets import BerpDataset, NestedBerpDataset\n",
    "from berp.generators import thresholded_recognition_simple as generator\n",
    "from berp.generators.stimulus import RandomStimulusGenerator\n",
    "from berp.models.reindexing_regression import ModelParameters"
   ]
  },
  {
   "cell_type": "markdown",
   "id": "196c4e70-6dca-4c2d-a75c-d66c59567d72",
   "metadata": {},
   "source": [
    "## Generate grouped dataset"
   ]
  },
  {
   "cell_type": "code",
   "execution_count": 17,
   "id": "2302f7b6-5561-4121-b310-d4e63f6b6407",
   "metadata": {},
   "outputs": [],
   "source": [
    "synth_params = ModelParameters(\n",
    "    lambda_=torch.tensor(1.0),\n",
    "    confusion=generator.phoneme_confusion,\n",
    "    threshold=torch.distributions.Beta(1.2, 1.2).sample(),\n",
    "\n",
    "    # NB only used for generation, not in model\n",
    "    a=torch.tensor(0.2),\n",
    "    b=torch.tensor(0.1),\n",
    "    coef=torch.tensor([-1]),\n",
    "    sigma=torch.tensor(5.0),\n",
    ")\n",
    "\n",
    "sample_rate = 48\n",
    "num_subjects = 8"
   ]
  },
  {
   "cell_type": "code",
   "execution_count": 21,
   "id": "2ebe567f-f291-4bc6-8c56-72c96e818825",
   "metadata": {},
   "outputs": [],
   "source": [
    "stim = RandomStimulusGenerator(num_words=1000, num_phonemes=10, phoneme_voc_size=synth_params.confusion.shape[0],\n",
    "                               word_surprisal_params=(2.0, 0.5))\n",
    "ds_args = dict(\n",
    "    response_type=\"gaussian\",\n",
    "    epoch_window=(0, 0.55), # TODO unused\n",
    "    include_intercept=False,\n",
    "    sample_rate=sample_rate)\n",
    "\n",
    "# Pass a thunk to the dataset generator which returns the same thing every time\n",
    "stim = stim(align_sample_rate=sample_rate)\n",
    "stim_thunk = lambda: stim\n",
    "\n",
    "datasets = []\n",
    "for subject in range(num_subjects):\n",
    "    ds_i = generator.sample_dataset(synth_params, stim_thunk, **ds_args)\n",
    "    ds_i.name = f\"synth/{subject}\"\n",
    "    datasets.append(ds_i)"
   ]
  },
  {
   "cell_type": "code",
   "execution_count": 51,
   "id": "fc195c47-922d-47d4-9438-7bc84e256ec0",
   "metadata": {},
   "outputs": [],
   "source": [
    "nested_dataset = NestedBerpDataset(datasets, n_splits=20)"
   ]
  },
  {
   "cell_type": "markdown",
   "id": "a08ec7ae-069a-4540-b5a6-8d8cfd61a716",
   "metadata": {},
   "source": [
    "## Prepare plotting function"
   ]
  },
  {
   "cell_type": "code",
   "execution_count": 91,
   "id": "bd1c3bbd-1553-4eb7-b79f-e309f1a30044",
   "metadata": {},
   "outputs": [],
   "source": [
    "def plot_assignments(dataset: NestedBerpDataset, assignments: np.ndarray, ax=None):\n",
    "    if len(assignments) != len(dataset.flat_idxs):\n",
    "        raise ValueError()\n",
    "        \n",
    "    if ax is None:\n",
    "        f, ax = plt.subplots()\n",
    "        \n",
    "    # Split into 2D array grouping by subdataset\n",
    "    split_points = np.where((np.diff(dataset.flat_idxs[:, 0]) != 0))[0] + 1\n",
    "    \n",
    "    subdatasets = np.split(np.arange(len(nested_dataset)), split_points)\n",
    "    subassignments = np.split(assignments, split_points)\n",
    "    \n",
    "    for i, (subdatasets_i, subassignments_i) in enumerate(zip(subdatasets, subassignments)):\n",
    "        ax.scatter(\n",
    "            subdatasets_i - subdatasets_i.min(),\n",
    "            [i + 0.5] * len(subdatasets_i),\n",
    "            c=subassignments_i,\n",
    "            marker=\"_\",\n",
    "            lw=10,\n",
    "            cmap=plt.cm.coolwarm,\n",
    "            vmin=assignments.min(), vmax=assignments.max(),\n",
    "        )\n",
    "        \n",
    "    ax.set(ylabel=\"Subject\", xlabel=\"Time\")"
   ]
  },
  {
   "cell_type": "code",
   "execution_count": 121,
   "id": "3d6ee12c-2b0b-48d8-a2d1-205a20939ff3",
   "metadata": {},
   "outputs": [],
   "source": [
    "def plot_splitter(dataset: NestedBerpDataset, splitter, ax=None, **split_kwargs):\n",
    "    \"\"\"\n",
    "    Plot test fold index for each data slice.\n",
    "    \"\"\"\n",
    "    assignments = np.zeros(len(dataset), dtype=np.int32)\n",
    "    \n",
    "    for split, (train, test) in enumerate(splitter.split(dataset, **split_kwargs)):\n",
    "        assignments[test] = split\n",
    "    \n",
    "    print(assignments)\n",
    "    plot_assignments(dataset, assignments, ax=ax)\n",
    "    \n",
    "def plot_splitter_draws(dataset: NestedBerpDataset, splitter, **split_kwargs):\n",
    "    \"\"\"\n",
    "    Plot the actual train/test split for each draw from the splitter.\n",
    "    \"\"\"\n",
    "    \n",
    "    f, axs = plt.subplots(splitter.n_splits, figsize=(5, 20))\n",
    "    \n",
    "    for split, (ax, (train, test)) in enumerate(zip(axs, splitter.split(dataset, **split_kwargs))):\n",
    "        assignments = np.zeros(len(dataset), dtype=np.int32)\n",
    "        assignments[train] = 0\n",
    "        assignments[test] = 1\n",
    "        plot_assignments(dataset, assignments, ax=ax)"
   ]
  },
  {
   "cell_type": "markdown",
   "id": "ee481b80-1b95-42cd-b704-f3c4928792c1",
   "metadata": {},
   "source": [
    "### Demo plot"
   ]
  },
  {
   "cell_type": "code",
   "execution_count": 111,
   "id": "d60d2c9c-b0ab-4a49-90be-f746b5b7e08e",
   "metadata": {},
   "outputs": [],
   "source": [
    "from sklearn.model_selection import KFold, GroupKFold"
   ]
  },
  {
   "cell_type": "code",
   "execution_count": 112,
   "id": "82fd7d2a-3929-4279-9218-a7196fcc4387",
   "metadata": {},
   "outputs": [
    {
     "data": {
      "image/png": "[encoded data removed]",
      "text/plain": [
       "<Figure size 432x288 with 1 Axes>"
      ]
     },
     "metadata": {
      "needs_background": "light"
     },
     "output_type": "display_data"
    }
   ],
   "source": [
    "f, ax = plt.subplots()\n",
    "assignments = np.random.randint(0, 4, size=len(nested_dataset))\n",
    "plot_assignments(nested_dataset, assignments, ax=ax)"
   ]
  },
  {
   "cell_type": "markdown",
   "id": "ce2905a6-ad22-4d7d-80fe-160601f1cd14",
   "metadata": {},
   "source": [
    "## Real plots"
   ]
  },
  {
   "cell_type": "markdown",
   "id": "c6d08fa0-f628-4f02-b5f7-2c2a91d6d0e4",
   "metadata": {},
   "source": [
    "### KFold"
   ]
  },
  {
   "cell_type": "code",
   "execution_count": 113,
   "id": "1b594eae-4b66-438b-aae7-cc8d6f09cf38",
   "metadata": {},
   "outputs": [
    {
     "name": "stdout",
     "output_type": "stream",
     "text": [
      "[0 0 0 0 0 0 0 0 0 0 0 0 0 0 0 0 0 0 0 0 0 0 0 0 0 0 0 0 0 0 0 0 0 0 0 0 0\n",
      " 0 0 0 0 0 0 0 0 0 0 0 0 0 0 0 0 0 1 1 1 1 1 1 1 1 1 1 1 1 1 1 1 1 1 1 1 1\n",
      " 1 1 1 1 1 1 1 1 1 1 1 1 1 1 1 1 1 1 1 1 1 1 1 1 1 1 1 1 1 1 1 1 1 2 2 2 2\n",
      " 2 2 2 2 2 2 2 2 2 2 2 2 2 2 2 2 2 2 2 2 2 2 2 2 2 2 2 2 2 2 2 2 2 2 2 2 2\n",
      " 2 2 2 2 2 2 2 2 2 2 2 2]\n"
     ]
    },
    {
     "data": {
      "image/png": "[encoded data removed]",
      "text/plain": [
       "<Figure size 432x288 with 1 Axes>"
      ]
     },
     "metadata": {
      "needs_background": "light"
     },
     "output_type": "display_data"
    }
   ],
   "source": [
    "plot_splitter(nested_dataset, KFold(3))"
   ]
  },
  {
   "cell_type": "markdown",
   "id": "1f4f0254-861a-4eaa-8428-b558644c3371",
   "metadata": {},
   "source": [
    "### GroupKFold"
   ]
  },
  {
   "cell_type": "code",
   "execution_count": 114,
   "id": "131a6e6d-2413-4c29-a43e-c16f8e632312",
   "metadata": {},
   "outputs": [
    {
     "name": "stdout",
     "output_type": "stream",
     "text": [
      "[1 1 1 1 1 1 1 1 1 1 1 1 1 1 1 1 1 1 1 1 0 0 0 0 0 0 0 0 0 0 0 0 0 0 0 0 0\n",
      " 0 0 0 2 2 2 2 2 2 2 2 2 2 2 2 2 2 2 2 2 2 2 2 1 1 1 1 1 1 1 1 1 1 1 1 1 1\n",
      " 1 1 1 1 1 1 0 0 0 0 0 0 0 0 0 0 0 0 0 0 0 0 0 0 0 0 2 2 2 2 2 2 2 2 2 2 2\n",
      " 2 2 2 2 2 2 2 2 2 1 1 1 1 1 1 1 1 1 1 1 1 1 1 1 1 1 1 1 1 0 0 0 0 0 0 0 0\n",
      " 0 0 0 0 0 0 0 0 0 0 0 0]\n"
     ]
    },
    {
     "data": {
      "image/png": "[encoded data removed]",
      "text/plain": [
       "<Figure size 432x288 with 1 Axes>"
      ]
     },
     "metadata": {
      "needs_background": "light"
     },
     "output_type": "display_data"
    }
   ],
   "source": [
    "groups = [subject for subject, _, _ in nested_dataset.flat_idxs]\n",
    "plot_splitter(nested_dataset, GroupKFold(3), groups=groups)"
   ]
  },
  {
   "cell_type": "markdown",
   "id": "f4385f64-36e8-4a94-8965-6945c5108df3",
   "metadata": {},
   "source": [
    "### GroupKFold by time"
   ]
  },
  {
   "cell_type": "code",
   "execution_count": 117,
   "id": "b539bde9-7619-428b-9923-cbd04ea32206",
   "metadata": {},
   "outputs": [
    {
     "name": "stdout",
     "output_type": "stream",
     "text": [
      "[3 2 3 0 1 2 3 0 1 2 3 0 1 2 3 0 1 2 1 0 3 2 3 0 1 2 3 0 1 2 3 0 1 2 3 0 1\n",
      " 2 1 0 3 2 3 0 1 2 3 0 1 2 3 0 1 2 3 0 1 2 1 0 3 2 3 0 1 2 3 0 1 2 3 0 1 2\n",
      " 3 0 1 2 1 0 3 2 3 0 1 2 3 0 1 2 3 0 1 2 3 0 1 2 1 0 3 2 3 0 1 2 3 0 1 2 3\n",
      " 0 1 2 3 0 1 2 1 0 3 2 3 0 1 2 3 0 1 2 3 0 1 2 3 0 1 2 1 0 3 2 3 0 1 2 3 0\n",
      " 1 2 3 0 1 2 3 0 1 2 1 0]\n"
     ]
    },
    {
     "data": {
      "image/png": "[encoded data removed]",
      "text/plain": [
       "<Figure size 432x288 with 1 Axes>"
      ]
     },
     "metadata": {
      "needs_background": "light"
     },
     "output_type": "display_data"
    }
   ],
   "source": [
    "groups = [start_idx for subject, start_idx, _ in nested_dataset.flat_idxs]\n",
    "plot_splitter(nested_dataset, GroupKFold(4), groups=groups)"
   ]
  },
  {
   "cell_type": "code",
   "execution_count": 122,
   "id": "1091b0e6-fdb5-41b8-ab91-3ac13bac8095",
   "metadata": {},
   "outputs": [
    {
     "data": {
      "image/png": "[encoded data removed]",
      "text/plain": [
       "<Figure size 360x1440 with 4 Axes>"
      ]
     },
     "metadata": {
      "needs_background": "light"
     },
     "output_type": "display_data"
    }
   ],
   "source": [
    "groups = [start_idx for subject, start_idx, _ in nested_dataset.flat_idxs]\n",
    "plot_splitter_draws(nested_dataset, GroupKFold(4), groups=groups)"
   ]
  }
 ],
 "metadata": {
  "kernelspec": {
   "display_name": "Python 3 (ipykernel)",
   "language": "python",
   "name": "python3"
  },
  "language_info": {
   "codemirror_mode": {
    "name": "ipython",
    "version": 3
   },
   "file_extension": ".py",
   "mimetype": "text/x-python",
   "name": "python",
   "nbconvert_exporter": "python",
   "pygments_lexer": "ipython3",
   "version": "3.9.13"
  }
 },
 "nbformat": 4,
 "nbformat_minor": 5
}
