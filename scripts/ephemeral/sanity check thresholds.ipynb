{
 "cells": [
  {
   "cell_type": "markdown",
   "id": "681f2463-a3d1-4a0d-a02c-70bba92902ad",
   "metadata": {},
   "source": [
    "Output of evaluation of different thresholds on synthetic data suggests that lower thresholds are always better. Is there a bug in the response model? Let's find out by reproducing the epoching analysis here with scipy."
   ]
  },
  {
   "cell_type": "code",
   "execution_count": 53,
   "id": "cacead4e-e995-44eb-aaa2-7959ba3b15e4",
   "metadata": {},
   "outputs": [],
   "source": [
    "import re\n",
    "\n",
    "import matplotlib.pyplot as plt\n",
    "import numpy as np\n",
    "import pandas as pd\n",
    "import scipy.stats as st\n",
    "import seaborn as sns\n",
    "from tqdm.notebook import tqdm\n",
    "\n",
    "import torch"
   ]
  },
  {
   "cell_type": "code",
   "execution_count": 54,
   "id": "e36bfdae-a44f-4023-8e92-d4f12ddeb69b",
   "metadata": {},
   "outputs": [
    {
     "name": "stdout",
     "output_type": "stream",
     "text": [
      "The autoreload extension is already loaded. To reload it, use:\n",
      "  %reload_ext autoreload\n"
     ]
    }
   ],
   "source": [
    "%load_ext autoreload\n",
    "%autoreload 2"
   ]
  },
  {
   "cell_type": "code",
   "execution_count": 55,
   "id": "04d7883f-db58-4a3c-846f-ae62f1f83c5b",
   "metadata": {},
   "outputs": [],
   "source": [
    "from pathlib import Path\n",
    "import sys\n",
    "sys.path.append(str(Path.cwd()))\n",
    "\n",
    "from berp.generators import thresholded_recognition\n",
    "from berp.models.reindexing_regression import ModelParameters"
   ]
  },
  {
   "cell_type": "code",
   "execution_count": 56,
   "id": "a3aa286d-ab68-42ee-8836-d7878486d57a",
   "metadata": {},
   "outputs": [],
   "source": [
    "X_word = pd.read_csv(\"X_word.csv\")\n",
    "X_word[\"cum_token_idx\"] = X_word.index\n",
    "\n",
    "X_phon = pd.read_csv(\"X_phon.csv\")\n",
    "X_phon = pd.merge(X_phon, X_word[[\"item\", \"token_idx\", \"cum_token_idx\"]],\n",
    "                  left_on=[\"item\", \"token_idx\"], right_on=[\"item\", \"token_idx\"])\n",
    "\n",
    "y = pd.read_csv(\"y.csv\")\n",
    "\n",
    "onsets = pd.read_csv(\"onsets.csv\")\n",
    "onsets.columns=[\"threshold\", \"cum_token_idx\", \"onset\"]\n",
    "# `onsets` is relative to word onset. make this absolute\n",
    "onsets = pd.merge(onsets, X_phon[X_phon.phon_idx == 0].rename(columns={\"time\": \"t0\"})[[\"t0\", \"cum_token_idx\"]],\n",
    "                  left_on=\"cum_token_idx\", right_on=\"cum_token_idx\", how=\"outer\")\n",
    "onsets[\"onset\"] += onsets.t0"
   ]
  },
  {
   "cell_type": "code",
   "execution_count": 57,
   "id": "f8e0b612-2a23-4bf0-b4c6-cc09d493f8a2",
   "metadata": {},
   "outputs": [
    {
     "data": {
      "text/html": [
       "<div>\n",
       "<style scoped>\n",
       "    .dataframe tbody tr th:only-of-type {\n",
       "        vertical-align: middle;\n",
       "    }\n",
       "\n",
       "    .dataframe tbody tr th {\n",
       "        vertical-align: top;\n",
       "    }\n",
       "\n",
       "    .dataframe thead th {\n",
       "        text-align: right;\n",
       "    }\n",
       "</style>\n",
       "<table border=\"1\" class=\"dataframe\">\n",
       "  <thead>\n",
       "    <tr style=\"text-align: right;\">\n",
       "      <th></th>\n",
       "      <th>item</th>\n",
       "      <th>token_idx</th>\n",
       "      <th>token</th>\n",
       "      <th>time</th>\n",
       "      <th>recognition_point</th>\n",
       "      <th>surprisal</th>\n",
       "      <th>cum_token_idx</th>\n",
       "    </tr>\n",
       "  </thead>\n",
       "  <tbody>\n",
       "    <tr>\n",
       "      <th>0</th>\n",
       "      <td>0</td>\n",
       "      <td>0</td>\n",
       "      <td>ice</td>\n",
       "      <td>0.093750</td>\n",
       "      <td>0</td>\n",
       "      <td>12.528906</td>\n",
       "      <td>0</td>\n",
       "    </tr>\n",
       "    <tr>\n",
       "      <th>1</th>\n",
       "      <td>0</td>\n",
       "      <td>1</td>\n",
       "      <td>was</td>\n",
       "      <td>0.593750</td>\n",
       "      <td>0</td>\n",
       "      <td>6.968839</td>\n",
       "      <td>1</td>\n",
       "    </tr>\n",
       "    <tr>\n",
       "      <th>2</th>\n",
       "      <td>0</td>\n",
       "      <td>2</td>\n",
       "      <td>beginning</td>\n",
       "      <td>1.312500</td>\n",
       "      <td>5</td>\n",
       "      <td>12.062911</td>\n",
       "      <td>2</td>\n",
       "    </tr>\n",
       "    <tr>\n",
       "      <th>3</th>\n",
       "      <td>0</td>\n",
       "      <td>3</td>\n",
       "      <td>to</td>\n",
       "      <td>1.789062</td>\n",
       "      <td>0</td>\n",
       "      <td>0.133897</td>\n",
       "      <td>3</td>\n",
       "    </tr>\n",
       "    <tr>\n",
       "      <th>4</th>\n",
       "      <td>0</td>\n",
       "      <td>4</td>\n",
       "      <td>get</td>\n",
       "      <td>2.148438</td>\n",
       "      <td>0</td>\n",
       "      <td>5.561836</td>\n",
       "      <td>4</td>\n",
       "    </tr>\n",
       "    <tr>\n",
       "      <th>...</th>\n",
       "      <td>...</td>\n",
       "      <td>...</td>\n",
       "      <td>...</td>\n",
       "      <td>...</td>\n",
       "      <td>...</td>\n",
       "      <td>...</td>\n",
       "      <td>...</td>\n",
       "    </tr>\n",
       "    <tr>\n",
       "      <th>151</th>\n",
       "      <td>9</td>\n",
       "      <td>14</td>\n",
       "      <td>it</td>\n",
       "      <td>5.953125</td>\n",
       "      <td>0</td>\n",
       "      <td>3.732605</td>\n",
       "      <td>151</td>\n",
       "    </tr>\n",
       "    <tr>\n",
       "      <th>152</th>\n",
       "      <td>9</td>\n",
       "      <td>15</td>\n",
       "      <td>was</td>\n",
       "      <td>6.195312</td>\n",
       "      <td>0</td>\n",
       "      <td>1.278864</td>\n",
       "      <td>152</td>\n",
       "    </tr>\n",
       "    <tr>\n",
       "      <th>153</th>\n",
       "      <td>9</td>\n",
       "      <td>16</td>\n",
       "      <td>too</td>\n",
       "      <td>6.671875</td>\n",
       "      <td>0</td>\n",
       "      <td>2.200048</td>\n",
       "      <td>153</td>\n",
       "    </tr>\n",
       "    <tr>\n",
       "      <th>154</th>\n",
       "      <td>9</td>\n",
       "      <td>17</td>\n",
       "      <td>dark</td>\n",
       "      <td>6.992188</td>\n",
       "      <td>0</td>\n",
       "      <td>6.274787</td>\n",
       "      <td>154</td>\n",
       "    </tr>\n",
       "    <tr>\n",
       "      <th>155</th>\n",
       "      <td>9</td>\n",
       "      <td>18</td>\n",
       "      <td>to</td>\n",
       "      <td>7.531250</td>\n",
       "      <td>0</td>\n",
       "      <td>2.934767</td>\n",
       "      <td>155</td>\n",
       "    </tr>\n",
       "  </tbody>\n",
       "</table>\n",
       "<p>156 rows × 7 columns</p>\n",
       "</div>"
      ],
      "text/plain": [
       "     item  token_idx      token      time  recognition_point  surprisal  \\\n",
       "0       0          0        ice  0.093750                  0  12.528906   \n",
       "1       0          1        was  0.593750                  0   6.968839   \n",
       "2       0          2  beginning  1.312500                  5  12.062911   \n",
       "3       0          3         to  1.789062                  0   0.133897   \n",
       "4       0          4        get  2.148438                  0   5.561836   \n",
       "..    ...        ...        ...       ...                ...        ...   \n",
       "151     9         14         it  5.953125                  0   3.732605   \n",
       "152     9         15        was  6.195312                  0   1.278864   \n",
       "153     9         16        too  6.671875                  0   2.200048   \n",
       "154     9         17       dark  6.992188                  0   6.274787   \n",
       "155     9         18         to  7.531250                  0   2.934767   \n",
       "\n",
       "     cum_token_idx  \n",
       "0                0  \n",
       "1                1  \n",
       "2                2  \n",
       "3                3  \n",
       "4                4  \n",
       "..             ...  \n",
       "151            151  \n",
       "152            152  \n",
       "153            153  \n",
       "154            154  \n",
       "155            155  \n",
       "\n",
       "[156 rows x 7 columns]"
      ]
     },
     "execution_count": 57,
     "metadata": {},
     "output_type": "execute_result"
    }
   ],
   "source": [
    "X_word"
   ]
  },
  {
   "cell_type": "code",
   "execution_count": 58,
   "id": "bd180339-a92b-4351-b2ff-761e5a4bfc13",
   "metadata": {},
   "outputs": [
    {
     "data": {
      "text/html": [
       "<div>\n",
       "<style scoped>\n",
       "    .dataframe tbody tr th:only-of-type {\n",
       "        vertical-align: middle;\n",
       "    }\n",
       "\n",
       "    .dataframe tbody tr th {\n",
       "        vertical-align: top;\n",
       "    }\n",
       "\n",
       "    .dataframe thead th {\n",
       "        text-align: right;\n",
       "    }\n",
       "</style>\n",
       "<table border=\"1\" class=\"dataframe\">\n",
       "  <thead>\n",
       "    <tr style=\"text-align: right;\">\n",
       "      <th></th>\n",
       "      <th>threshold</th>\n",
       "      <th>cum_token_idx</th>\n",
       "      <th>onset</th>\n",
       "      <th>t0</th>\n",
       "    </tr>\n",
       "  </thead>\n",
       "  <tbody>\n",
       "    <tr>\n",
       "      <th>0</th>\n",
       "      <td>0.700000</td>\n",
       "      <td>0</td>\n",
       "      <td>0.359375</td>\n",
       "      <td>0.09375</td>\n",
       "    </tr>\n",
       "    <tr>\n",
       "      <th>1</th>\n",
       "      <td>0.168690</td>\n",
       "      <td>0</td>\n",
       "      <td>0.359375</td>\n",
       "      <td>0.09375</td>\n",
       "    </tr>\n",
       "    <tr>\n",
       "      <th>2</th>\n",
       "      <td>0.886670</td>\n",
       "      <td>0</td>\n",
       "      <td>0.359375</td>\n",
       "      <td>0.09375</td>\n",
       "    </tr>\n",
       "    <tr>\n",
       "      <th>3</th>\n",
       "      <td>0.100193</td>\n",
       "      <td>0</td>\n",
       "      <td>0.359375</td>\n",
       "      <td>0.09375</td>\n",
       "    </tr>\n",
       "    <tr>\n",
       "      <th>4</th>\n",
       "      <td>0.953431</td>\n",
       "      <td>0</td>\n",
       "      <td>0.359375</td>\n",
       "      <td>0.09375</td>\n",
       "    </tr>\n",
       "    <tr>\n",
       "      <th>...</th>\n",
       "      <td>...</td>\n",
       "      <td>...</td>\n",
       "      <td>...</td>\n",
       "      <td>...</td>\n",
       "    </tr>\n",
       "    <tr>\n",
       "      <th>1711</th>\n",
       "      <td>0.888328</td>\n",
       "      <td>155</td>\n",
       "      <td>7.640625</td>\n",
       "      <td>7.53125</td>\n",
       "    </tr>\n",
       "    <tr>\n",
       "      <th>1712</th>\n",
       "      <td>0.713362</td>\n",
       "      <td>155</td>\n",
       "      <td>7.640625</td>\n",
       "      <td>7.53125</td>\n",
       "    </tr>\n",
       "    <tr>\n",
       "      <th>1713</th>\n",
       "      <td>0.723374</td>\n",
       "      <td>155</td>\n",
       "      <td>7.640625</td>\n",
       "      <td>7.53125</td>\n",
       "    </tr>\n",
       "    <tr>\n",
       "      <th>1714</th>\n",
       "      <td>0.823866</td>\n",
       "      <td>155</td>\n",
       "      <td>7.640625</td>\n",
       "      <td>7.53125</td>\n",
       "    </tr>\n",
       "    <tr>\n",
       "      <th>1715</th>\n",
       "      <td>0.032262</td>\n",
       "      <td>155</td>\n",
       "      <td>7.578125</td>\n",
       "      <td>7.53125</td>\n",
       "    </tr>\n",
       "  </tbody>\n",
       "</table>\n",
       "<p>1716 rows × 4 columns</p>\n",
       "</div>"
      ],
      "text/plain": [
       "      threshold  cum_token_idx     onset       t0\n",
       "0      0.700000              0  0.359375  0.09375\n",
       "1      0.168690              0  0.359375  0.09375\n",
       "2      0.886670              0  0.359375  0.09375\n",
       "3      0.100193              0  0.359375  0.09375\n",
       "4      0.953431              0  0.359375  0.09375\n",
       "...         ...            ...       ...      ...\n",
       "1711   0.888328            155  7.640625  7.53125\n",
       "1712   0.713362            155  7.640625  7.53125\n",
       "1713   0.723374            155  7.640625  7.53125\n",
       "1714   0.823866            155  7.640625  7.53125\n",
       "1715   0.032262            155  7.578125  7.53125\n",
       "\n",
       "[1716 rows x 4 columns]"
      ]
     },
     "execution_count": 58,
     "metadata": {},
     "output_type": "execute_result"
    }
   ],
   "source": [
    "onsets"
   ]
  },
  {
   "cell_type": "code",
   "execution_count": 59,
   "id": "2badf823-6ebd-4ea2-bcf0-6c05a0324363",
   "metadata": {},
   "outputs": [
    {
     "name": "stdout",
     "output_type": "stream",
     "text": [
      "43 tokens (27.564102564102566%) have no change in onset for threshold options\n"
     ]
    },
    {
     "data": {
      "text/plain": [
       "<seaborn.axisgrid.FacetGrid at 0x7f1f1652ae50>"
      ]
     },
     "execution_count": 59,
     "metadata": {},
     "output_type": "execute_result"
    },
    {
     "data": {
      "image/png": "[encoded data removed]",
      "text/plain": [
       "<Figure size 360x360 with 1 Axes>"
      ]
     },
     "metadata": {
      "needs_background": "light"
     },
     "output_type": "display_data"
    }
   ],
   "source": [
    "# Visualize range in inferred word recognition onset as a function of threshold\n",
    "onset_ranges = onsets.groupby(\"cum_token_idx\").apply(lambda rows: rows.onset.max() - rows.onset.min())\n",
    "\n",
    "n_unchanged = (onset_ranges == 0).sum()\n",
    "print(f\"{n_unchanged} tokens ({n_unchanged / len(onset_ranges) * 100}%) have no change in onset for threshold options\")\n",
    "sns.displot(onset_ranges)"
   ]
  },
  {
   "cell_type": "code",
   "execution_count": 60,
   "id": "220b95f8-01e7-493a-a8c2-99f5dd5d73ab",
   "metadata": {},
   "outputs": [
    {
     "data": {
      "application/vnd.jupyter.widget-view+json": {
       "model_id": "f835a101b3ea4512bac40c342fb231e5",
       "version_major": 2,
       "version_minor": 0
      },
      "text/plain": [
       "  0%|          | 0/11 [00:00<?, ?it/s]"
      ]
     },
     "metadata": {},
     "output_type": "display_data"
    },
    {
     "data": {
      "application/vnd.jupyter.widget-view+json": {
       "model_id": "edb2d5a462de40729682c072a01f6b9c",
       "version_major": 2,
       "version_minor": 0
      },
      "text/plain": [
       "  0%|          | 0/156 [00:00<?, ?it/s]"
      ]
     },
     "metadata": {},
     "output_type": "display_data"
    },
    {
     "data": {
      "application/vnd.jupyter.widget-view+json": {
       "model_id": "b25ba03fa4c74b68ba0c0b90f0758a7c",
       "version_major": 2,
       "version_minor": 0
      },
      "text/plain": [
       "  0%|          | 0/156 [00:00<?, ?it/s]"
      ]
     },
     "metadata": {},
     "output_type": "display_data"
    },
    {
     "data": {
      "application/vnd.jupyter.widget-view+json": {
       "model_id": "3cf20741ebfc47cba780c19f27173dfc",
       "version_major": 2,
       "version_minor": 0
      },
      "text/plain": [
       "  0%|          | 0/156 [00:00<?, ?it/s]"
      ]
     },
     "metadata": {},
     "output_type": "display_data"
    },
    {
     "data": {
      "application/vnd.jupyter.widget-view+json": {
       "model_id": "b68f1a858be943dfbbf88fe5b17e492c",
       "version_major": 2,
       "version_minor": 0
      },
      "text/plain": [
       "  0%|          | 0/156 [00:00<?, ?it/s]"
      ]
     },
     "metadata": {},
     "output_type": "display_data"
    },
    {
     "data": {
      "application/vnd.jupyter.widget-view+json": {
       "model_id": "604e264c12104ca183205971d805083b",
       "version_major": 2,
       "version_minor": 0
      },
      "text/plain": [
       "  0%|          | 0/156 [00:00<?, ?it/s]"
      ]
     },
     "metadata": {},
     "output_type": "display_data"
    },
    {
     "data": {
      "application/vnd.jupyter.widget-view+json": {
       "model_id": "7dfc2fd38f824d5d978be09a26b03aa9",
       "version_major": 2,
       "version_minor": 0
      },
      "text/plain": [
       "  0%|          | 0/156 [00:00<?, ?it/s]"
      ]
     },
     "metadata": {},
     "output_type": "display_data"
    },
    {
     "data": {
      "application/vnd.jupyter.widget-view+json": {
       "model_id": "2ea532eb63754653a1d64b9fff5ff1fe",
       "version_major": 2,
       "version_minor": 0
      },
      "text/plain": [
       "  0%|          | 0/156 [00:00<?, ?it/s]"
      ]
     },
     "metadata": {},
     "output_type": "display_data"
    },
    {
     "data": {
      "application/vnd.jupyter.widget-view+json": {
       "model_id": "5db239cca5f541b59e18cf9cbba71f45",
       "version_major": 2,
       "version_minor": 0
      },
      "text/plain": [
       "  0%|          | 0/156 [00:00<?, ?it/s]"
      ]
     },
     "metadata": {},
     "output_type": "display_data"
    },
    {
     "data": {
      "application/vnd.jupyter.widget-view+json": {
       "model_id": "de7ab5669bc4464298771582e9fc656f",
       "version_major": 2,
       "version_minor": 0
      },
      "text/plain": [
       "  0%|          | 0/156 [00:00<?, ?it/s]"
      ]
     },
     "metadata": {},
     "output_type": "display_data"
    },
    {
     "data": {
      "application/vnd.jupyter.widget-view+json": {
       "model_id": "73d2c491e201454d86b63d89c956ee8a",
       "version_major": 2,
       "version_minor": 0
      },
      "text/plain": [
       "  0%|          | 0/156 [00:00<?, ?it/s]"
      ]
     },
     "metadata": {},
     "output_type": "display_data"
    },
    {
     "data": {
      "application/vnd.jupyter.widget-view+json": {
       "model_id": "2768bf1937da487eaa44baf6b9d948d7",
       "version_major": 2,
       "version_minor": 0
      },
      "text/plain": [
       "  0%|          | 0/156 [00:00<?, ?it/s]"
      ]
     },
     "metadata": {},
     "output_type": "display_data"
    }
   ],
   "source": [
    "all_df = {}\n",
    "\n",
    "for threshold, t_onsets in tqdm(onsets.groupby(\"threshold\")):\n",
    "    X_word_new = X_word.copy()\n",
    "    X_word_new[\"time_gt\"] = X_word.time\n",
    "    \n",
    "    X_word_new[\"time\"] = t_onsets.reset_index().onset\n",
    "    X_word_new = X_word_new.set_index([\"item\", \"token_idx\"])\n",
    "    \n",
    "    # print(threshold, (X_word_new.time - X_word_new.time_gt).abs().mean())\n",
    "    \n",
    "    epochs = thresholded_recognition.dataset_to_epochs(X_word_new, y.set_index(\"item\"))\n",
    "    \n",
    "    baseline_window = (-.1, 0)\n",
    "    test_window = (0.3, 0.5)\n",
    "    df_test = epochs.groupby([\"item\", \"token_idx\"]).apply(\n",
    "        lambda rows: pd.Series({\"epoch_baseline\": rows[(rows.epoch_time >= baseline_window[0]) & (rows.epoch_time < baseline_window[1])].signal.mean(),\n",
    "                                \"epoch_value\": rows[(rows.epoch_time >= test_window[0]) & (rows.epoch_time < test_window[1])].signal.mean()}))\n",
    "    \n",
    "    all_df[threshold] = pd.merge(df_test, X_word_new, left_index=True, right_index=True)\n",
    "    \n",
    "all_df = pd.concat(all_df, names=[\"threshold\", \"item\", \"token_idx\"])\n",
    "all_df[\"epoch_value_baselined\"] = all_df.epoch_value - all_df.epoch_baseline"
   ]
  },
  {
   "cell_type": "code",
   "execution_count": 61,
   "id": "ced5c595-400d-41b0-aba7-0c99812ec76c",
   "metadata": {},
   "outputs": [
    {
     "data": {
      "text/html": [
       "<div>\n",
       "<style scoped>\n",
       "    .dataframe tbody tr th:only-of-type {\n",
       "        vertical-align: middle;\n",
       "    }\n",
       "\n",
       "    .dataframe tbody tr th {\n",
       "        vertical-align: top;\n",
       "    }\n",
       "\n",
       "    .dataframe thead th {\n",
       "        text-align: right;\n",
       "    }\n",
       "</style>\n",
       "<table border=\"1\" class=\"dataframe\">\n",
       "  <thead>\n",
       "    <tr style=\"text-align: right;\">\n",
       "      <th></th>\n",
       "      <th></th>\n",
       "      <th></th>\n",
       "      <th>epoch_baseline</th>\n",
       "      <th>epoch_value</th>\n",
       "      <th>token</th>\n",
       "      <th>time</th>\n",
       "      <th>recognition_point</th>\n",
       "      <th>surprisal</th>\n",
       "      <th>cum_token_idx</th>\n",
       "      <th>time_gt</th>\n",
       "      <th>epoch_value_baselined</th>\n",
       "    </tr>\n",
       "    <tr>\n",
       "      <th>threshold</th>\n",
       "      <th>item</th>\n",
       "      <th>token_idx</th>\n",
       "      <th></th>\n",
       "      <th></th>\n",
       "      <th></th>\n",
       "      <th></th>\n",
       "      <th></th>\n",
       "      <th></th>\n",
       "      <th></th>\n",
       "      <th></th>\n",
       "      <th></th>\n",
       "    </tr>\n",
       "  </thead>\n",
       "  <tbody>\n",
       "    <tr>\n",
       "      <th rowspan=\"5\" valign=\"top\">0.032262</th>\n",
       "      <th rowspan=\"5\" valign=\"top\">0</th>\n",
       "      <th>0</th>\n",
       "      <td>-18.382931</td>\n",
       "      <td>-47.155697</td>\n",
       "      <td>ice</td>\n",
       "      <td>0.359375</td>\n",
       "      <td>0</td>\n",
       "      <td>12.528906</td>\n",
       "      <td>0</td>\n",
       "      <td>0.093750</td>\n",
       "      <td>-28.772766</td>\n",
       "    </tr>\n",
       "    <tr>\n",
       "      <th>1</th>\n",
       "      <td>-43.309267</td>\n",
       "      <td>-62.989584</td>\n",
       "      <td>was</td>\n",
       "      <td>0.695312</td>\n",
       "      <td>0</td>\n",
       "      <td>6.968839</td>\n",
       "      <td>1</td>\n",
       "      <td>0.593750</td>\n",
       "      <td>-19.680318</td>\n",
       "    </tr>\n",
       "    <tr>\n",
       "      <th>2</th>\n",
       "      <td>-88.698300</td>\n",
       "      <td>-98.798958</td>\n",
       "      <td>beginning</td>\n",
       "      <td>1.445312</td>\n",
       "      <td>5</td>\n",
       "      <td>12.062911</td>\n",
       "      <td>2</td>\n",
       "      <td>1.312500</td>\n",
       "      <td>-10.100659</td>\n",
       "    </tr>\n",
       "    <tr>\n",
       "      <th>3</th>\n",
       "      <td>-106.591186</td>\n",
       "      <td>-47.895086</td>\n",
       "      <td>to</td>\n",
       "      <td>1.835938</td>\n",
       "      <td>0</td>\n",
       "      <td>0.133897</td>\n",
       "      <td>3</td>\n",
       "      <td>1.789062</td>\n",
       "      <td>58.696100</td>\n",
       "    </tr>\n",
       "    <tr>\n",
       "      <th>4</th>\n",
       "      <td>-56.023957</td>\n",
       "      <td>-44.373162</td>\n",
       "      <td>get</td>\n",
       "      <td>2.195312</td>\n",
       "      <td>0</td>\n",
       "      <td>5.561836</td>\n",
       "      <td>4</td>\n",
       "      <td>2.148438</td>\n",
       "      <td>11.650795</td>\n",
       "    </tr>\n",
       "    <tr>\n",
       "      <th>...</th>\n",
       "      <th>...</th>\n",
       "      <th>...</th>\n",
       "      <td>...</td>\n",
       "      <td>...</td>\n",
       "      <td>...</td>\n",
       "      <td>...</td>\n",
       "      <td>...</td>\n",
       "      <td>...</td>\n",
       "      <td>...</td>\n",
       "      <td>...</td>\n",
       "      <td>...</td>\n",
       "    </tr>\n",
       "    <tr>\n",
       "      <th rowspan=\"5\" valign=\"top\">0.953431</th>\n",
       "      <th rowspan=\"5\" valign=\"top\">9</th>\n",
       "      <th>14</th>\n",
       "      <td>-53.045455</td>\n",
       "      <td>-40.627701</td>\n",
       "      <td>it</td>\n",
       "      <td>6.062500</td>\n",
       "      <td>0</td>\n",
       "      <td>3.732605</td>\n",
       "      <td>151</td>\n",
       "      <td>5.953125</td>\n",
       "      <td>12.417754</td>\n",
       "    </tr>\n",
       "    <tr>\n",
       "      <th>15</th>\n",
       "      <td>-43.418209</td>\n",
       "      <td>-25.962829</td>\n",
       "      <td>was</td>\n",
       "      <td>6.429688</td>\n",
       "      <td>0</td>\n",
       "      <td>1.278864</td>\n",
       "      <td>152</td>\n",
       "      <td>6.195312</td>\n",
       "      <td>17.455380</td>\n",
       "    </tr>\n",
       "    <tr>\n",
       "      <th>16</th>\n",
       "      <td>-25.455796</td>\n",
       "      <td>-36.710147</td>\n",
       "      <td>too</td>\n",
       "      <td>6.921875</td>\n",
       "      <td>0</td>\n",
       "      <td>2.200048</td>\n",
       "      <td>153</td>\n",
       "      <td>6.671875</td>\n",
       "      <td>-11.254351</td>\n",
       "    </tr>\n",
       "    <tr>\n",
       "      <th>17</th>\n",
       "      <td>-34.717306</td>\n",
       "      <td>-37.638860</td>\n",
       "      <td>dark</td>\n",
       "      <td>7.335938</td>\n",
       "      <td>0</td>\n",
       "      <td>6.274787</td>\n",
       "      <td>154</td>\n",
       "      <td>6.992188</td>\n",
       "      <td>-2.921554</td>\n",
       "    </tr>\n",
       "    <tr>\n",
       "      <th>18</th>\n",
       "      <td>-40.085527</td>\n",
       "      <td>-24.458852</td>\n",
       "      <td>to</td>\n",
       "      <td>7.640625</td>\n",
       "      <td>0</td>\n",
       "      <td>2.934767</td>\n",
       "      <td>155</td>\n",
       "      <td>7.531250</td>\n",
       "      <td>15.626675</td>\n",
       "    </tr>\n",
       "  </tbody>\n",
       "</table>\n",
       "<p>1716 rows × 9 columns</p>\n",
       "</div>"
      ],
      "text/plain": [
       "                          epoch_baseline  epoch_value      token      time  \\\n",
       "threshold item token_idx                                                     \n",
       "0.032262  0    0              -18.382931   -47.155697        ice  0.359375   \n",
       "               1              -43.309267   -62.989584        was  0.695312   \n",
       "               2              -88.698300   -98.798958  beginning  1.445312   \n",
       "               3             -106.591186   -47.895086         to  1.835938   \n",
       "               4              -56.023957   -44.373162        get  2.195312   \n",
       "...                                  ...          ...        ...       ...   \n",
       "0.953431  9    14             -53.045455   -40.627701         it  6.062500   \n",
       "               15             -43.418209   -25.962829        was  6.429688   \n",
       "               16             -25.455796   -36.710147        too  6.921875   \n",
       "               17             -34.717306   -37.638860       dark  7.335938   \n",
       "               18             -40.085527   -24.458852         to  7.640625   \n",
       "\n",
       "                          recognition_point  surprisal  cum_token_idx  \\\n",
       "threshold item token_idx                                                \n",
       "0.032262  0    0                          0  12.528906              0   \n",
       "               1                          0   6.968839              1   \n",
       "               2                          5  12.062911              2   \n",
       "               3                          0   0.133897              3   \n",
       "               4                          0   5.561836              4   \n",
       "...                                     ...        ...            ...   \n",
       "0.953431  9    14                         0   3.732605            151   \n",
       "               15                         0   1.278864            152   \n",
       "               16                         0   2.200048            153   \n",
       "               17                         0   6.274787            154   \n",
       "               18                         0   2.934767            155   \n",
       "\n",
       "                           time_gt  epoch_value_baselined  \n",
       "threshold item token_idx                                   \n",
       "0.032262  0    0          0.093750             -28.772766  \n",
       "               1          0.593750             -19.680318  \n",
       "               2          1.312500             -10.100659  \n",
       "               3          1.789062              58.696100  \n",
       "               4          2.148438              11.650795  \n",
       "...                            ...                    ...  \n",
       "0.953431  9    14         5.953125              12.417754  \n",
       "               15         6.195312              17.455380  \n",
       "               16         6.671875             -11.254351  \n",
       "               17         6.992188              -2.921554  \n",
       "               18         7.531250              15.626675  \n",
       "\n",
       "[1716 rows x 9 columns]"
      ]
     },
     "execution_count": 61,
     "metadata": {},
     "output_type": "execute_result"
    }
   ],
   "source": [
    "all_df"
   ]
  },
  {
   "cell_type": "code",
   "execution_count": 62,
   "id": "e738415c-63d2-4509-a6af-6bd15e058314",
   "metadata": {},
   "outputs": [
    {
     "data": {
      "application/vnd.jupyter.widget-view+json": {
       "model_id": "d035b8f820e348f2be8f38652e60e951",
       "version_major": 2,
       "version_minor": 0
      },
      "text/plain": [
       "  0%|          | 0/11 [00:00<?, ?it/s]"
      ]
     },
     "metadata": {},
     "output_type": "display_data"
    },
    {
     "data": {
      "text/html": [
       "<div>\n",
       "<style scoped>\n",
       "    .dataframe tbody tr th:only-of-type {\n",
       "        vertical-align: middle;\n",
       "    }\n",
       "\n",
       "    .dataframe tbody tr th {\n",
       "        vertical-align: top;\n",
       "    }\n",
       "\n",
       "    .dataframe thead th {\n",
       "        text-align: right;\n",
       "    }\n",
       "</style>\n",
       "<table border=\"1\" class=\"dataframe\">\n",
       "  <thead>\n",
       "    <tr style=\"text-align: right;\">\n",
       "      <th></th>\n",
       "      <th>slope</th>\n",
       "      <th>intercept</th>\n",
       "      <th>rvalue</th>\n",
       "      <th>pvalue</th>\n",
       "      <th>stderr</th>\n",
       "    </tr>\n",
       "    <tr>\n",
       "      <th>threshold</th>\n",
       "      <th></th>\n",
       "      <th></th>\n",
       "      <th></th>\n",
       "      <th></th>\n",
       "      <th></th>\n",
       "    </tr>\n",
       "  </thead>\n",
       "  <tbody>\n",
       "    <tr>\n",
       "      <th>0.032262</th>\n",
       "      <td>2.477656</td>\n",
       "      <td>19.726561</td>\n",
       "      <td>0.479355</td>\n",
       "      <td>2.439067e-10</td>\n",
       "      <td>0.365536</td>\n",
       "    </tr>\n",
       "    <tr>\n",
       "      <th>0.100193</th>\n",
       "      <td>2.221912</td>\n",
       "      <td>19.544137</td>\n",
       "      <td>0.449635</td>\n",
       "      <td>3.901942e-09</td>\n",
       "      <td>0.355682</td>\n",
       "    </tr>\n",
       "    <tr>\n",
       "      <th>0.157390</th>\n",
       "      <td>2.177048</td>\n",
       "      <td>19.700523</td>\n",
       "      <td>0.452892</td>\n",
       "      <td>2.916613e-09</td>\n",
       "      <td>0.345355</td>\n",
       "    </tr>\n",
       "    <tr>\n",
       "      <th>0.168690</th>\n",
       "      <td>2.166548</td>\n",
       "      <td>19.514716</td>\n",
       "      <td>0.450011</td>\n",
       "      <td>3.773489e-09</td>\n",
       "      <td>0.346455</td>\n",
       "    </tr>\n",
       "    <tr>\n",
       "      <th>0.700000</th>\n",
       "      <td>1.903819</td>\n",
       "      <td>16.865334</td>\n",
       "      <td>0.403890</td>\n",
       "      <td>1.708858e-07</td>\n",
       "      <td>0.347481</td>\n",
       "    </tr>\n",
       "    <tr>\n",
       "      <th>0.713362</th>\n",
       "      <td>1.881710</td>\n",
       "      <td>16.638355</td>\n",
       "      <td>0.400257</td>\n",
       "      <td>2.253801e-07</td>\n",
       "      <td>0.347168</td>\n",
       "    </tr>\n",
       "    <tr>\n",
       "      <th>0.723374</th>\n",
       "      <td>1.867273</td>\n",
       "      <td>16.494816</td>\n",
       "      <td>0.396723</td>\n",
       "      <td>2.940632e-07</td>\n",
       "      <td>0.348155</td>\n",
       "    </tr>\n",
       "    <tr>\n",
       "      <th>0.823866</th>\n",
       "      <td>1.836355</td>\n",
       "      <td>16.181093</td>\n",
       "      <td>0.389523</td>\n",
       "      <td>5.009157e-07</td>\n",
       "      <td>0.349889</td>\n",
       "    </tr>\n",
       "    <tr>\n",
       "      <th>0.886670</th>\n",
       "      <td>1.734863</td>\n",
       "      <td>15.194016</td>\n",
       "      <td>0.370356</td>\n",
       "      <td>1.946754e-06</td>\n",
       "      <td>0.350631</td>\n",
       "    </tr>\n",
       "    <tr>\n",
       "      <th>0.888328</th>\n",
       "      <td>1.734863</td>\n",
       "      <td>15.194016</td>\n",
       "      <td>0.370356</td>\n",
       "      <td>1.946754e-06</td>\n",
       "      <td>0.350631</td>\n",
       "    </tr>\n",
       "    <tr>\n",
       "      <th>0.953431</th>\n",
       "      <td>1.658502</td>\n",
       "      <td>14.463588</td>\n",
       "      <td>0.355456</td>\n",
       "      <td>5.274899e-06</td>\n",
       "      <td>0.351430</td>\n",
       "    </tr>\n",
       "  </tbody>\n",
       "</table>\n",
       "</div>"
      ],
      "text/plain": [
       "              slope  intercept    rvalue        pvalue    stderr\n",
       "threshold                                                       \n",
       "0.032262   2.477656  19.726561  0.479355  2.439067e-10  0.365536\n",
       "0.100193   2.221912  19.544137  0.449635  3.901942e-09  0.355682\n",
       "0.157390   2.177048  19.700523  0.452892  2.916613e-09  0.345355\n",
       "0.168690   2.166548  19.514716  0.450011  3.773489e-09  0.346455\n",
       "0.700000   1.903819  16.865334  0.403890  1.708858e-07  0.347481\n",
       "0.713362   1.881710  16.638355  0.400257  2.253801e-07  0.347168\n",
       "0.723374   1.867273  16.494816  0.396723  2.940632e-07  0.348155\n",
       "0.823866   1.836355  16.181093  0.389523  5.009157e-07  0.349889\n",
       "0.886670   1.734863  15.194016  0.370356  1.946754e-06  0.350631\n",
       "0.888328   1.734863  15.194016  0.370356  1.946754e-06  0.350631\n",
       "0.953431   1.658502  14.463588  0.355456  5.274899e-06  0.351430"
      ]
     },
     "execution_count": 62,
     "metadata": {},
     "output_type": "execute_result"
    }
   ],
   "source": [
    "lr_results = {}\n",
    "for threshold, dataset in tqdm(all_df.groupby(\"threshold\")):\n",
    "    X = -1 * dataset.surprisal.values # [:, np.newaxis]\n",
    "    y = dataset.epoch_value_baselined.values\n",
    "    lr_results[threshold] = st.linregress(X, y)\n",
    "    \n",
    "lr_results = pd.DataFrame(lr_results).T.rename(columns=dict(enumerate([\"slope\", \"intercept\", \"rvalue\", \"pvalue\", \"stderr\", \"intercept_stderr\"])))\n",
    "lr_results.index.name = \"threshold\"\n",
    "lr_results"
   ]
  },
  {
   "cell_type": "code",
   "execution_count": 63,
   "id": "a0a4a197-eba0-465f-9f49-fe34bef2d963",
   "metadata": {},
   "outputs": [
    {
     "data": {
      "text/plain": [
       "<AxesSubplot:xlabel='threshold', ylabel='rvalue'>"
      ]
     },
     "execution_count": 63,
     "metadata": {},
     "output_type": "execute_result"
    },
    {
     "data": {
      "image/png": "[encoded data removed]",
      "text/plain": [
       "<Figure size 432x288 with 1 Axes>"
      ]
     },
     "metadata": {
      "needs_background": "light"
     },
     "output_type": "display_data"
    }
   ],
   "source": [
    "sns.scatterplot(data=lr_results.reset_index(), x=\"threshold\", y=\"rvalue\")"
   ]
  },
  {
   "cell_type": "code",
   "execution_count": null,
   "id": "cb68bdd1-603f-4003-885d-f21cd1b40979",
   "metadata": {},
   "outputs": [],
   "source": []
  }
 ],
 "metadata": {
  "kernelspec": {
   "display_name": "Python 3 (ipykernel)",
   "language": "python",
   "name": "python3"
  },
  "language_info": {
   "codemirror_mode": {
    "name": "ipython",
    "version": 3
   },
   "file_extension": ".py",
   "mimetype": "text/x-python",
   "name": "python",
   "nbconvert_exporter": "python",
   "pygments_lexer": "ipython3",
   "version": "3.9.7"
  }
 },
 "nbformat": 4,
 "nbformat_minor": 5
}
