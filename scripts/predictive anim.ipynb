{
 "cells": [
  {
   "cell_type": "code",
   "execution_count": 1,
   "id": "834487f2-a8dc-41da-94f7-80c79798cd50",
   "metadata": {},
   "outputs": [],
   "source": [
    "from argparse import ArgumentParser, Namespace\n",
    "from collections import Counter\n",
    "from pathlib import Path\n",
    "import pickle\n",
    "import sys\n",
    "from typing import List, Tuple\n",
    "\n",
    "from matplotlib.animation import FuncAnimation\n",
    "import matplotlib.pyplot as plt\n",
    "import numpy as np\n",
    "import pandas as pd\n",
    "import seaborn as sns\n",
    "import torch\n",
    "from tqdm.auto import tqdm, trange"
   ]
  },
  {
   "cell_type": "code",
   "execution_count": 2,
   "id": "f0b8cc63-6dea-4288-86de-016e67348e5b",
   "metadata": {},
   "outputs": [],
   "source": [
    "sns.set_context(\"talk\")"
   ]
  },
  {
   "cell_type": "code",
   "execution_count": 3,
   "id": "3449004e-eeb0-43fa-b57c-c74158a2d0ad",
   "metadata": {},
   "outputs": [],
   "source": [
    "from IPython.display import HTML"
   ]
  },
  {
   "cell_type": "code",
   "execution_count": 4,
   "id": "ae3b052b-ea4a-4edd-92c7-7f1740ed38d1",
   "metadata": {},
   "outputs": [],
   "source": [
    "%load_ext autoreload\n",
    "%autoreload 2"
   ]
  },
  {
   "cell_type": "code",
   "execution_count": 5,
   "id": "8245862e-e234-4341-a393-24698405b14a",
   "metadata": {},
   "outputs": [],
   "source": [
    "sys.path.append(str(Path(\".\").resolve().parent))\n",
    "import berp.models.reindexing_regression as rr"
   ]
  },
  {
   "cell_type": "code",
   "execution_count": 6,
   "id": "239c5f9d-1e29-4124-b7e7-72311138522b",
   "metadata": {},
   "outputs": [
    {
     "data": {
      "text/plain": [
       "True"
      ]
     },
     "execution_count": 6,
     "metadata": {},
     "output_type": "execute_result"
    }
   ],
   "source": [
    "IS_INTERACTIVE = False\n",
    "try:\n",
    "    get_ipython()  # type: ignore\n",
    "except NameError: pass\n",
    "else: IS_INTERACTIVE = True\n",
    "IS_INTERACTIVE"
   ]
  },
  {
   "cell_type": "code",
   "execution_count": 7,
   "id": "c46458bc-2468-4f8b-ba60-1395c7b61c9f",
   "metadata": {},
   "outputs": [
    {
     "data": {
      "text/plain": [
       "_StoreAction(option_strings=['--threshold'], dest='threshold', nargs=None, const=None, default=0.7, type=<class 'float'>, choices=None, required=False, help=None, metavar=None)"
      ]
     },
     "execution_count": 7,
     "metadata": {},
     "output_type": "execute_result"
    }
   ],
   "source": [
    "p = ArgumentParser()\n",
    "p.add_argument(\"natural_language_stimulus_path\", type=Path)\n",
    "p.add_argument(\"confusion_path\", type=Path)\n",
    "p.add_argument(\"--lambda_\", type=float, default=1.0)\n",
    "p.add_argument(\"--threshold\", type=float, default=0.7)"
   ]
  },
  {
   "cell_type": "code",
   "execution_count": 28,
   "id": "cdd586cc-9fed-4343-95a8-65b87fd8d3bb",
   "metadata": {},
   "outputs": [],
   "source": [
    "if IS_INTERACTIVE:\n",
    "    # args = Namespace(natural_language_stimulus_path=Path(\"gillis2021/DKZ_1.pkl\"),\n",
    "    #                  confusion_path=Path(\"gillis2021/confusion.npz\"))\n",
    "    args = Namespace(natural_language_stimulus_path=Path(\"../work/ec/5bb98c4b38a23ca12076d912b50da9/DKZ_1.pkl\"),\n",
    "                     confusion_path=Path(\"../work/ec/5bb98c4b38a23ca12076d912b50da9/confusion.npz\"),\n",
    "                     lambda_=1.89, threshold=0.25)\n",
    "else:\n",
    "    args = p.parse_args()"
   ]
  },
  {
   "cell_type": "code",
   "execution_count": 9,
   "id": "c8cb02b7-404c-4ce7-811f-4bd7207c6995",
   "metadata": {},
   "outputs": [],
   "source": [
    "with args.natural_language_stimulus_path.open(\"rb\") as f:\n",
    "    stim = pickle.load(f)\n",
    "confusion = np.load(args.confusion_path)"
   ]
  },
  {
   "cell_type": "code",
   "execution_count": 10,
   "id": "6b55caec-7a9b-4d2f-9e91-38698f531d4c",
   "metadata": {},
   "outputs": [],
   "source": [
    "assert confusion[\"phonemes\"].tolist() == stim.phonemes"
   ]
  },
  {
   "cell_type": "code",
   "execution_count": 11,
   "id": "00cfdb77-225f-4742-a0ac-46439c3865eb",
   "metadata": {},
   "outputs": [],
   "source": [
    "confusion_matrix = torch.tensor(confusion[\"confusion\"])\n",
    "\n",
    "# Smooth and normalize.\n",
    "confusion_matrix += 1.\n",
    "confusion_matrix /= confusion_matrix.sum(dim=0, keepdim=True)"
   ]
  },
  {
   "cell_type": "code",
   "execution_count": 12,
   "id": "f134744f-2404-4d0e-a732-fe351b93c236",
   "metadata": {},
   "outputs": [],
   "source": [
    "p_candidates = rr.predictive_model(\n",
    "    stim.p_candidates, stim.candidate_phonemes,\n",
    "    confusion=confusion_matrix,\n",
    "    lambda_=torch.tensor(args.lambda_),\n",
    "    return_gt_only=False)"
   ]
  },
  {
   "cell_type": "code",
   "execution_count": 13,
   "id": "bad0ff94-6df0-4025-b368-b29b423f0b9e",
   "metadata": {},
   "outputs": [
    {
     "data": {
      "application/vnd.jupyter.widget-view+json": {
       "model_id": "1c8e6e1a989d4cdb8df231044246a8ec",
       "version_major": 2,
       "version_minor": 0
      },
      "text/plain": [
       "  0%|          | 0/2190 [00:00<?, ?it/s]"
      ]
     },
     "metadata": {},
     "output_type": "display_data"
    }
   ],
   "source": [
    "# Nested array. Outer list of words and inner list of phonemes per word.\n",
    "plot_data: List[List[Tuple[str, float]]] = []\n",
    "\n",
    "# Keep top-k candidates from each posterior predictive.\n",
    "k = 10\n",
    "for prior_i, p_candidates_i, candidate_ids, gt_length in zip(stim.p_candidates.exp(), tqdm(p_candidates), stim.candidate_ids.numpy(), stim.word_lengths):\n",
    "    candidate_strs = [stim.candidate_vocabulary[idx] for idx in candidate_ids]\n",
    "    plot_data_i = []\n",
    "    \n",
    "    p_candidates_i = p_candidates_i.T[:gt_length]\n",
    "    # Add prior information, before any phonemes arrive\n",
    "    p_candidates_i = torch.cat([prior_i[None, :], p_candidates_i], dim=0)\n",
    "    p_candidates_i = p_candidates_i.numpy()\n",
    "    \n",
    "    topk = (-p_candidates_i).argsort(1)[:, :k * 2]\n",
    "    p_candidates_i = np.take_along_axis(p_candidates_i, topk, 1)\n",
    "    gt_str = candidate_strs[0]\n",
    "\n",
    "    for t, (p_candidates_t, candidates_t) in enumerate(zip(p_candidates_i, topk)):\n",
    "        # Merge candidates with same form.\n",
    "        # HACK\n",
    "        weights = Counter()\n",
    "        for p, idx in zip(p_candidates_t, candidates_t):\n",
    "            weights[candidate_strs[idx]] += p\n",
    "        \n",
    "        plot_data_i.append((gt_str[:t], list(weights.most_common(k))))\n",
    "        \n",
    "    plot_data.append(plot_data_i)"
   ]
  },
  {
   "cell_type": "code",
   "execution_count": 14,
   "id": "819b4263-9e2e-4dbc-af6c-6b0ced8ccb59",
   "metadata": {},
   "outputs": [
    {
     "data": {
      "text/plain": [
       "[('',\n",
       "  [('də', 0.24026618897914886),\n",
       "   ('ət', 0.08666615933179855),\n",
       "   ('ən', 0.057732755318284035),\n",
       "   ('har', 0.05496158078312874),\n",
       "   ('zɛin', 0.019557129591703415),\n",
       "   ('di', 0.01888440176844597),\n",
       "   ('mɛin', 0.011699319817125797),\n",
       "   ('dɛn', 0.0096186064183712),\n",
       "   ('ɑlə', 0.009394644759595394),\n",
       "   ('dɑt', 0.00915785413235426)]),\n",
       " ('z',\n",
       "  [('də', 0.15665399068792785),\n",
       "   ('zɛin', 0.13461644229380482),\n",
       "   ('ət', 0.08575794614502105),\n",
       "   ('ən', 0.05712774858831418),\n",
       "   ('har', 0.03184438543860225),\n",
       "   ('stat', 0.024513767627264964),\n",
       "   ('zɛt', 0.020631503730511026),\n",
       "   ('ze', 0.02058433596580547),\n",
       "   ('di', 0.012312664374058717),\n",
       "   ('zwɑrtə', 0.010828660965796188)]),\n",
       " ('ze',\n",
       "  [('ze', 0.20791226668106494),\n",
       "   ('zɛin', 0.158318599588063),\n",
       "   ('də', 0.057608301302973196),\n",
       "   ('dezə', 0.0299425102882092),\n",
       "   ('zekərə', 0.027505771599698383),\n",
       "   ('zɛt', 0.024264129420992157),\n",
       "   ('ət', 0.02185459916309458),\n",
       "   ('ən', 0.019440247069019298),\n",
       "   ('dɪt', 0.016367143647673377),\n",
       "   ('zevə', 0.01291532887150292)])]"
      ]
     },
     "execution_count": 14,
     "metadata": {},
     "output_type": "execute_result"
    }
   ],
   "source": [
    "plot_data[4]"
   ]
  },
  {
   "cell_type": "code",
   "execution_count": 15,
   "id": "f8112ca6-fab8-4cdd-ad0c-dbcf26e98312",
   "metadata": {},
   "outputs": [],
   "source": [
    "def to_gt_words(word_ids):\n",
    "    return [stim.get_candidate_strs(idx, top_k=1)[0]\n",
    "            for idx in word_ids]"
   ]
  },
  {
   "cell_type": "code",
   "execution_count": 16,
   "id": "38fcba82-eebf-40e2-80c4-45913e6d601c",
   "metadata": {},
   "outputs": [
    {
     "data": {
      "text/plain": [
       "'klɛinə zemermɪn vɛr ɪn ze ɪs ət watər zo blɑuw ɑls də blatjəs vɑn də mojstə korənblum ɛn zo hɛldər ɑls ət zœyjvərstə xlɑs mar ɪs dip dipər dɑn ən ɑŋkərkɛtɪŋ ojt kɑn komə jə zɑu ən heləbul kɛrktorəns bovən ɔp ɛlkar mutə zɛtə ɔm vɑn də bodəm vɑn də'"
      ]
     },
     "execution_count": 16,
     "metadata": {},
     "output_type": "execute_result"
    }
   ],
   "source": [
    "\" \".join(to_gt_words(np.arange(50)))"
   ]
  },
  {
   "cell_type": "code",
   "execution_count": 17,
   "id": "f8935040-ce73-4f38-8527-4f9b2a419add",
   "metadata": {},
   "outputs": [
    {
     "data": {
      "text/plain": [
       "'də bəwexɪŋə vɑn ət watər opən ɛn dɪxt xan ɛt'"
      ]
     },
     "execution_count": 17,
     "metadata": {},
     "output_type": "execute_result"
    }
   ],
   "source": [
    "\" \".join(to_gt_words(np.arange(160, 170)))"
   ]
  },
  {
   "cell_type": "code",
   "execution_count": 18,
   "id": "bca2af38-369b-4428-aa5e-def8659dabd5",
   "metadata": {},
   "outputs": [],
   "source": [
    "class PredictiveAnimation:\n",
    "    \n",
    "    def __init__(self, plot_data, k=3, threshold=0.7):\n",
    "        self.plot_data = plot_data\n",
    "        # Mapping between frame index and plot_data nested index.\n",
    "        self.plot_idxs_flat = [(i, j) for i in range(len(plot_data)) for j in range(len(plot_data[i]))]\n",
    "\n",
    "        self.k = k\n",
    "        self.threshold = threshold\n",
    "        \n",
    "    def _prepare_figure(self):\n",
    "        self.fig, self.ax = plt.subplots(dpi=200)\n",
    "\n",
    "        self.ax.set_xlim((0, 1))\n",
    "        self.ax.set_xlabel(\"Evidence for word\")\n",
    "        self.ax.set_ylabel(\"Word\")\n",
    "\n",
    "        self.bar = self.ax.barh([str(i) * 7 for i in range(self.k)], [0] * self.k)\n",
    "        self.threshold_line = self.ax.axvline(self.threshold, color=\"gray\", linestyle=\"--\")\n",
    "        self.prev_label = self.ax.annotate(\"\", (0.49, 1.05), xycoords=\"axes fraction\", ha=\"right\")\n",
    "        self.incremental_label = self.ax.annotate(\"abc\", (0.5, 1.05), xycoords=\"axes fraction\")\n",
    "        self.prev_incremental_text = [None]\n",
    "        self.acc_text = []\n",
    "        \n",
    "        plt.tight_layout()\n",
    "        \n",
    "    def get_first_frame_for_word_idx(self, word_idx):\n",
    "        return next(i for i, (word_idx_i, _) in enumerate(self.plot_idxs_flat) if word_idx_i == word_idx)\n",
    "        \n",
    "    def animate(self, i):\n",
    "        token_idx, incremental_idx = self.plot_idxs_flat[i]\n",
    "        incremental_text, incremental_dist = self.plot_data[token_idx][incremental_idx]\n",
    "        print(incremental_text)\n",
    "        print(incremental_dist)\n",
    "\n",
    "        xticklabels = self.ax.get_xticklabels()\n",
    "        artists = list(self.bar) + xticklabels\n",
    "\n",
    "        for i, ((option_i, p_i), bar_i, label_i) in enumerate(zip(incremental_dist, self.bar, xticklabels)):\n",
    "            bar_i.set_width(p_i)\n",
    "\n",
    "            # Doesn't work .. do it differently below\n",
    "            # label_i.set_text(option_i)\n",
    "\n",
    "        self.ax.set_yticklabels([option_i for option_i, _ in incremental_dist])\n",
    "        self.ax.tick_params(\"y\", width=10)\n",
    "\n",
    "        if self.prev_incremental_text[0] is not None and not incremental_text.startswith(self.prev_incremental_text[0]):\n",
    "            print(\"----\", self.prev_incremental_text)\n",
    "            self.acc_text.append(self.prev_incremental_text[0])\n",
    "            self.prev_label.set_text(\" \".join(self.acc_text))\n",
    "            artists.append(self.prev_label)\n",
    "\n",
    "        self.incremental_label.set_text(incremental_text)\n",
    "        artists.append(self.incremental_label)\n",
    "        self.prev_incremental_text[0] = incremental_text\n",
    "\n",
    "        return artists\n",
    "    \n",
    "    def plot(self, start_frame=None, n_frames=100, **kwargs):\n",
    "        plt.ioff()\n",
    "        if start_frame is None: start_frame = 0\n",
    "        \n",
    "        default_kwargs = dict(blit=True, repeat=True, interval=750)\n",
    "        default_kwargs.update(kwargs)\n",
    "        \n",
    "        self._prepare_figure()\n",
    "        anim = FuncAnimation(self.fig, self.animate, frames=list(range(start_frame, start_frame + n_frames)),\n",
    "                             **default_kwargs)\n",
    "        return anim\n",
    "    \n",
    "    def plot_for_word(self, word_idx=None, num_prior_frames=0, **kwargs):\n",
    "        start_frame = self.get_first_frame_for_word_idx(word_idx)\n",
    "        start_frame = max(0, start_frame - num_prior_frames)\n",
    "        return self.plot(start_frame, n_frames=stim.word_lengths[word_idx].item() + num_prior_frames + 1,\n",
    "                         **kwargs)"
   ]
  },
  {
   "cell_type": "code",
   "execution_count": 19,
   "id": "2dc35fc3-d2b5-4944-a096-9f1d9aa62835",
   "metadata": {},
   "outputs": [],
   "source": [
    "# anim = PredictiveAnimation(plot_data).plot(n_frames=1, start_frame=1)\n",
    "# # HTML(anim.to_html5_video())\n",
    "# anim.save(\"test.mp4\", dpi=200)"
   ]
  },
  {
   "cell_type": "markdown",
   "id": "a0fb4db8-401e-4ecd-a253-ca20d9ae8275",
   "metadata": {},
   "source": [
    "### MAP due to high-prior"
   ]
  },
  {
   "cell_type": "code",
   "execution_count": 20,
   "id": "834e2055-9504-4333-842a-03245d53a43f",
   "metadata": {},
   "outputs": [],
   "source": [
    "high_prior_words = [(i, word_dat[-1][0], word_dat)\n",
    "                    for i, word_dat in enumerate(plot_data)\n",
    "                    if word_dat[0][1][0][0] == word_dat[-1][0]\n",
    "                    # exclude words which are high prior for uninteresting reasons (because the prior space is not big enough .. need top-p sampling)\n",
    "                    and len(word_dat[-1][0]) < 5]"
   ]
  },
  {
   "cell_type": "code",
   "execution_count": 21,
   "id": "e6c22789-401c-4338-b30e-4a9e658d81c4",
   "metadata": {},
   "outputs": [
    {
     "data": {
      "text/plain": [
       "(167,\n",
       " 'dɪxt',\n",
       " [('',\n",
       "   [('dɪxt', 0.16144485771656036),\n",
       "    ('blot', 0.08928492665290833),\n",
       "    ('opə', 0.060117099434137344),\n",
       "    ('œyt', 0.02694105915725231),\n",
       "    ('ɪn', 0.020166844129562378),\n",
       "    ('drox', 0.018757740035653114),\n",
       "    ('tu', 0.01284858863800764),\n",
       "    ('nar', 0.011641967110335827),\n",
       "    ('slœytə', 0.009767687879502773),\n",
       "    ('də', 0.009725743904709816)]),\n",
       "  ('d',\n",
       "   [('dɪxt', 0.5114494789182022),\n",
       "    ('blot', 0.07050792783713071),\n",
       "    ('drox', 0.059423606083310654),\n",
       "    ('də', 0.030810683102893026),\n",
       "    ('dor', 0.015412887546575231),\n",
       "    ('drɪŋə', 0.01262289515246995),\n",
       "    ('dɑn', 0.01143223416011214),\n",
       "    ('nar', 0.009394344955822772),\n",
       "    ('dip', 0.008340423940776883),\n",
       "    ('dɔŋkər', 0.007838810255856485)]),\n",
       "  ('dɪ',\n",
       "   [('dɪxt', 0.9380443483700889),\n",
       "    ('bɪnə', 0.0063107469261807405),\n",
       "    ('ner', 0.004812053318238015),\n",
       "    ('wer', 0.004313981226532714),\n",
       "    ('də', 0.003558946337718254),\n",
       "    ('drox', 0.0035376301052657514),\n",
       "    ('blot', 0.0029088159093101384),\n",
       "    ('wɪt', 0.002301765879858796),\n",
       "    ('dɪk', 0.0018571928734777306),\n",
       "    ('wɪlə', 0.0014673617066604473)]),\n",
       "  ('dɪx',\n",
       "   [('dɪxt', 0.9944654620148439),\n",
       "    ('lex', 0.0008420206960333222),\n",
       "    ('lɪxə', 0.0007133313574062957),\n",
       "    ('texə', 0.000611521565180237),\n",
       "    ('wɛx', 0.00048823593333192927),\n",
       "    ('ner', 0.000312931859975434),\n",
       "    ('wer', 0.00028054181444778686),\n",
       "    ('bɪnə', 0.000197083311194765),\n",
       "    ('də', 0.00011114515235781891),\n",
       "    ('drox', 0.00011047945086113746)]),\n",
       "  ('dɪxt',\n",
       "   [('dɪxt', 0.9992804874991282),\n",
       "    ('lɪxə', 0.0001119886331414379),\n",
       "    ('texə', 9.600512231798732e-05),\n",
       "    ('blot', 9.128155406033739e-05),\n",
       "    ('lex', 3.90935272829936e-05),\n",
       "    ('bɪnə', 3.0940866970914945e-05),\n",
       "    ('wɛx', 2.2667928318348927e-05),\n",
       "    ('lɪxt', 2.1214413649940947e-05),\n",
       "    ('ner', 1.4528871158748077e-05),\n",
       "    ('lɛxt', 1.408940225536029e-05)])])"
      ]
     },
     "execution_count": 21,
     "metadata": {},
     "output_type": "execute_result"
    }
   ],
   "source": [
    "sorted(high_prior_words, key=lambda x: -len(x[1]))[1]"
   ]
  },
  {
   "cell_type": "code",
   "execution_count": 29,
   "id": "7153fc8e-667e-41cd-9a7e-6c18f248c632",
   "metadata": {},
   "outputs": [
    {
     "name": "stdout",
     "output_type": "stream",
     "text": [
      "v\n",
      "[('vatər', 0.31085636171357267), ('dɑk', 0.07465420090525711), ('vil', 0.05635946200083533), ('vezə', 0.021059028275048835), ('vɛrk', 0.02046381286515716), ('vyr', 0.02022199515918633), ('varə', 0.01878380868150893), ('vɪnt', 0.015006180916906002), ('wapə', 0.014973473024963177)]\n",
      "v\n",
      "[('vatər', 0.31085636171357267), ('dɑk', 0.07465420090525711), ('vil', 0.05635946200083533), ('vezə', 0.021059028275048835), ('vɛrk', 0.02046381286515716), ('vyr', 0.02022199515918633), ('varə', 0.01878380868150893), ('vɪnt', 0.015006180916906002), ('wapə', 0.014973473024963177)]\n",
      "v\n",
      "[('vatər', 0.31085636171357267), ('dɑk', 0.07465420090525711), ('vil', 0.05635946200083533), ('vezə', 0.021059028275048835), ('vɛrk', 0.02046381286515716), ('vyr', 0.02022199515918633), ('varə', 0.01878380868150893), ('vɪnt', 0.015006180916906002), ('wapə', 0.014973473024963177)]\n",
      "va\n",
      "[('vatər', 0.7632859928210007), ('varə', 0.046122324727058246), ('vapə', 0.03676631277814532), ('dɑk', 0.028737145298473807), ('part', 0.009795768002742533), ('vaxə', 0.006303714224540907), ('man', 0.004963951013249169), ('vartœyx', 0.004081984810033973), ('kanɔn', 0.0026312483343444615)]\n"
     ]
    },
    {
     "name": "stderr",
     "output_type": "stream",
     "text": [
      "/tmp/ipykernel_73013/3588190549.py:45: UserWarning: FixedFormatter should only be used together with FixedLocator\n",
      "  self.ax.set_yticklabels([option_i for option_i, _ in incremental_dist])\n",
      "/tmp/ipykernel_73013/3588190549.py:45: UserWarning: FixedFormatter should only be used together with FixedLocator\n",
      "  self.ax.set_yticklabels([option_i for option_i, _ in incremental_dist])\n"
     ]
    },
    {
     "name": "stdout",
     "output_type": "stream",
     "text": [
      "vat\n",
      "[('vatər', 0.9479935884659999), ('dɑk', 0.002618276863880728), ('bœytə', 0.002303729608285961), ('vapə', 0.0015867588539546984), ('materijal', 0.0010616164199207369), ('bɑt', 0.0009658065051589363), ('vat', 0.0009508126130128344), ('pɑt', 0.0008746246013960802), ('hɑut', 0.0006378571137768702)]\n",
      "vatə\n",
      "[('vatər', 0.9589398391727376), ('bœytə', 0.0023303302120871324), ('vapə', 0.0016050807713577774), ('varə', 0.0004474510070396444), ('natyr', 0.0001599409015909945), ('makə', 0.00014662602969521668), ('hɑutə', 0.00012367573956455048), ('vɪtə', 0.00010058485048974868), ('nɑtə', 7.793908764115418e-05)]\n",
      "vatər\n",
      "[('vatər', 0.9638234100118517), ('natyr', 0.00016075542893784556), ('materijal', 6.287438111222813e-05), ('papir', 5.064496067323334e-06), ('bœytə', 3.3846789466788525e-06), ('vapə', 2.3312932503535646e-06), ('hamər', 2.1158096432743994e-06), ('lɑdər', 1.394293481705988e-06), ('motɔr', 9.763669695184297e-07)]\n",
      "\n",
      "[('zɛin', 0.060757316648960114), ('ɪn', 0.04916824772953987), ('də', 0.03488892689347267), ('dor', 0.03387954831123352), ('ɔp', 0.03179340064525604), ('wɔrdə', 0.02972029335796833), ('nar', 0.020066844299435616), ('ən', 0.01964901015162468), ('ovər', 0.018018566071987152), ('ət', 0.012118153274059296)]\n",
      "---- ['vatər']\n",
      "o\n",
      "[('ɔp', 0.2076238352571782), ('ovər', 0.18701342450330372), ('ɔndər', 0.0577043298742996), ('ɔmhox', 0.05686694790352655), ('ɔf', 0.041717266071898636), ('opən', 0.025963139993555883), ('ɔntsnɑpə', 0.01888597097620438), ('ɔm', 0.01595852000776654), ('zɛin', 0.01562081337981145), ('ɔmlax', 0.01454681409021081)]\n",
      "op\n",
      "[('ɔp', 0.5896851509979225), ('opən', 0.0737395015775332), ('ovər', 0.060338816927299393), ('ɔndər', 0.02364786905206344), ('ɔmhox', 0.023304700710371645), ('ɔf', 0.013459838441572747), ('ɔplɔsə', 0.012160531176804589), ('ɔpsɛi', 0.011622260338603606), ('ɔpfɑŋə', 0.008191272147056424), ('ɔntsnɑpə', 0.007739678626183384)]\n",
      "opə\n",
      "[('opən', 0.3507367704952679), ('ovər', 0.28699735327522297), ('ɔp', 0.1695426712083621), ('ɔmhox', 0.022657025669727222), ('ɔpərvlɑk', 0.012509499919209296), ('opəxan', 0.008108027368080743), ('ɔplɔsə', 0.007280507270577299), ('ovərdɛkt', 0.006803301716109539), ('ɔndər', 0.006799090804113728), ('ovərhen', 0.004798126048322156)]\n",
      "opən\n",
      "[('opən', 0.8975270102422888), ('ovər', 0.03228330040804386), ('ɔp', 0.013216118519745247), ('opənə', 0.008757655648231435), ('opənɪŋ', 0.008366281107186452), ('opəndə', 0.006507378252284869), ('opənɪŋə', 0.0042118547235098945), ('opənt', 0.003956369487385685), ('zɛin', 0.0027577897139598826), ('ɔmhox', 0.0017661508717650614)]\n",
      "\n",
      "[('zɛin', 0.07172194868326187), ('kʏnə', 0.0645417794585228), ('ɛn', 0.05521393567323685), ('wɔrdə', 0.04384341463446617), ('bɑrst', 0.025987068191170692), ('wɛrdə', 0.021187061443924904), ('də', 0.02028605341911316), ('mutə', 0.01792287454009056), ('xə', 0.01678132452070713), ('ze', 0.014348134398460388)]\n",
      "---- ['opən']\n",
      "ɛ\n",
      "[('ɛn', 0.6141707299066848), ('ɛr', 0.04202525789410009), ('ɛl', 0.035821268602806995), ('zɛin', 0.01709776193604433), ('kʏnə', 0.015386085549229963), ('bɑrst', 0.012900149641650269), ('wɔrdə', 0.010451811710385287), ('ɛi', 0.009121948222593337), ('ɛnt', 0.007711161893781489), ('hɑudə', 0.00591942808473424)]\n",
      "ɛn\n",
      "[('ɛn', 0.9401548073620176), ('ɛnt', 0.01180402381905592), ('ɪn', 0.006384709178134043), ('ɛl', 0.0046768314694323665), ('ən', 0.0037939705309139866), ('ɛr', 0.0028278375086994317), ('ɛndə', 0.0017276266369002178), ('an', 0.0015522295138778407), ('kn', 0.001389668526031142), ('kʏnə', 0.001283045879029011)]\n",
      "\n",
      "[('dɪxt', 0.16144485771656036), ('blot', 0.08928492665290833), ('opə', 0.060117099434137344), ('œyt', 0.02694105915725231), ('ɪn', 0.020166844129562378), ('drox', 0.018757740035653114), ('tu', 0.01284858863800764), ('nar', 0.011641967110335827), ('slœytə', 0.009767687879502773), ('də', 0.009725743904709816)]\n",
      "---- ['ɛn']\n",
      "d\n",
      "[('dɪxt', 0.5114494789182022), ('blot', 0.07050792783713071), ('drox', 0.059423606083310654), ('də', 0.030810683102893026), ('dor', 0.015412887546575231), ('drɪŋə', 0.01262289515246995), ('dɑn', 0.01143223416011214), ('nar', 0.009394344955822772), ('dip', 0.008340423940776883), ('dɔŋkər', 0.007838810255856485)]\n",
      "dɪ\n",
      "[('dɪxt', 0.9380443483700889), ('bɪnə', 0.0063107469261807405), ('ner', 0.004812053318238015), ('wer', 0.004313981226532714), ('də', 0.003558946337718254), ('drox', 0.0035376301052657514), ('blot', 0.0029088159093101384), ('wɪt', 0.002301765879858796), ('dɪk', 0.0018571928734777306), ('wɪlə', 0.0014673617066604473)]\n",
      "dɪx\n",
      "[('dɪxt', 0.9944654620148439), ('lex', 0.0008420206960333222), ('lɪxə', 0.0007133313574062957), ('texə', 0.000611521565180237), ('wɛx', 0.00048823593333192927), ('ner', 0.000312931859975434), ('wer', 0.00028054181444778686), ('bɪnə', 0.000197083311194765), ('də', 0.00011114515235781891), ('drox', 0.00011047945086113746)]\n",
      "dɪxt\n",
      "[('dɪxt', 0.9992804874991282), ('lɪxə', 0.0001119886331414379), ('texə', 9.600512231798732e-05), ('blot', 9.128155406033739e-05), ('lex', 3.90935272829936e-05), ('bɪnə', 3.0940866970914945e-05), ('wɛx', 2.2667928318348927e-05), ('lɪxt', 2.1214413649940947e-05), ('ner', 1.4528871158748077e-05), ('lɛxt', 1.408940225536029e-05)]\n"
     ]
    }
   ],
   "source": [
    "# Plot up through the next word\n",
    "plot_data_copy = plot_data[:]\n",
    "plot_data[164] = [('',\n",
    "  [('dɑk', 0.08090640604496002),\n",
    "   ('shp', 0.0518440380692482),\n",
    "   ('vatər', 0.039041485637426376),\n",
    "   ('lht', 0.025143694132566452),\n",
    "   ('zɛil', 0.01924835331737995),\n",
    "   ('lhm', 0.017056478187441826),\n",
    "   ('hoft', 0.01666797697544098),\n",
    "   ('vyr', 0.01598547026515007),\n",
    "   ('dɛksəl', 0.011327615939080715),\n",
    "   ('hɑrt', 0.009778285399079323)]),\n",
    " ('v',\n",
    "  [('vatər', 0.31085636171357267),\n",
    "   ('dɑk', 0.07465420090525711),\n",
    "   ('vil', 0.05635946200083533),\n",
    "   ('vezə', 0.021059028275048835),\n",
    "   ('vɛrk', 0.02046381286515716),\n",
    "   ('vyr', 0.02022199515918633),\n",
    "   ('varə', 0.01878380868150893),\n",
    "   ('vɪnt', 0.015006180916906002),\n",
    "   ('wapə', 0.014973473024963177)]),\n",
    " ('va',\n",
    "  [('vatər', 0.7632859928210007),\n",
    "   ('varə', 0.046122324727058246),\n",
    "   ('vapə', 0.03676631277814532),\n",
    "   ('dɑk', 0.028737145298473807),\n",
    "   ('part', 0.009795768002742533),\n",
    "   ('vaxə', 0.006303714224540907),\n",
    "   ('man', 0.004963951013249169),\n",
    "   ('vartœyx', 0.004081984810033973),\n",
    "   ('kanɔn', 0.0026312483343444615)]),\n",
    " ('vat',\n",
    "  [('vatər', 0.9479935884659999),\n",
    "   ('dɑk', 0.002618276863880728),\n",
    "   ('bœytə', 0.002303729608285961),\n",
    "   ('vapə', 0.0015867588539546984),\n",
    "   ('materijal', 0.0010616164199207369),\n",
    "   ('bɑt', 0.0009658065051589363),\n",
    "   ('vat', 0.0009508126130128344),\n",
    "   ('pɑt', 0.0008746246013960802),\n",
    "   ('hɑut', 0.0006378571137768702)]),\n",
    " ('vatə',\n",
    "  [('vatər', 0.9589398391727376),\n",
    "   ('bœytə', 0.0023303302120871324),\n",
    "   ('vapə', 0.0016050807713577774),\n",
    "   ('varə', 0.0004474510070396444),\n",
    "   ('natyr', 0.0001599409015909945),\n",
    "   ('makə', 0.00014662602969521668),\n",
    "   ('hɑutə', 0.00012367573956455048),\n",
    "   ('vɪtə', 0.00010058485048974868),\n",
    "   ('nɑtə', 7.793908764115418e-05)]),\n",
    " ('vatər',\n",
    "  [('vatər', 0.9638234100118517),\n",
    "   ('natyr', 0.00016075542893784556),\n",
    "   ('materijal', 6.287438111222813e-05),\n",
    "   ('papir', 5.064496067323334e-06),\n",
    "   ('bœytə', 3.3846789466788525e-06),\n",
    "   ('vapə', 2.3312932503535646e-06),\n",
    "   ('hamər', 2.1158096432743994e-06),\n",
    "   ('lɑdər', 1.394293481705988e-06),\n",
    "   ('motɔr', 9.763669695184297e-07)])]\n",
    "anim = PredictiveAnimation(plot_data, k=5, threshold=args.threshold).plot_for_word(167, num_prior_frames=13, interval=1000)\n",
    "anim.save(\"high_prior.gif\", dpi=200)\n",
    "plt.close()"
   ]
  },
  {
   "cell_type": "markdown",
   "id": "4028042f-2cc8-4b17-8dd2-02adc21c3b71",
   "metadata": {},
   "source": [
    "### Low-prior but high posterior"
   ]
  },
  {
   "cell_type": "code",
   "execution_count": 30,
   "id": "18919d75-b51d-4e2f-86ed-b3505af771a2",
   "metadata": {},
   "outputs": [
    {
     "data": {
      "application/vnd.jupyter.widget-view+json": {
       "model_id": "461adaba86454db89fbe32112efc63b4",
       "version_major": 2,
       "version_minor": 0
      },
      "text/plain": [
       "  0%|          | 0/2190 [00:00<?, ?it/s]"
      ]
     },
     "metadata": {},
     "output_type": "display_data"
    }
   ],
   "source": [
    "low_prior_high_post_words = [\n",
    "    (i, word_dat[-1][0], word_dat)\n",
    "     for i, word_dat in enumerate(tqdm(plot_data))\n",
    "     if len(word_dat) >= 3\n",
    "     # not in top K for first two phonemes\n",
    "     and not any(opt_name == word_dat[-1][0] for opt_name, _ in word_dat[0][1] + word_dat[1][1])\n",
    "     and any(opt_name == word_dat[-1][0] for opt_name, _ in word_dat[2][1])\n",
    "     # exclude words which are high prior for uninteresting reasons (because the prior space is not big enough .. need top-p sampling)\n",
    "     # and len(word_dat[-1][0]) < 5\n",
    "]"
   ]
  },
  {
   "cell_type": "code",
   "execution_count": 31,
   "id": "51659441-15a1-43d4-ad16-b70ebc18b9f0",
   "metadata": {},
   "outputs": [
    {
     "data": {
      "text/plain": [
       "(12,\n",
       " 'blatjəs',\n",
       " [('',\n",
       "   [('zon', 0.15482521057128906),\n",
       "    ('man', 0.10890737920999527),\n",
       "    ('ze', 0.062456801533699036),\n",
       "    ('heməl', 0.03437160700559616),\n",
       "    ('n', 0.022771866992115974),\n",
       "    ('wɪnt', 0.01715674437582493),\n",
       "    ('lht', 0.01551248598843813),\n",
       "    ('ardə', 0.015158458612859249),\n",
       "    ('dɑx', 0.011868092231452465),\n",
       "    ('xrɔnt', 0.010672714561223984)]),\n",
       "  ('b',\n",
       "   [('man', 0.19740745568746312),\n",
       "    ('brɑndɪŋ', 0.04546240707879152),\n",
       "    ('zon', 0.04412669276707528),\n",
       "    ('blɑuwə', 0.03783255389283459),\n",
       "    ('wɪnt', 0.03208202972178332),\n",
       "    ('blɪksəm', 0.021172328985334683),\n",
       "    ('heməl', 0.02039904428272554),\n",
       "    ('ze', 0.017800796833755413),\n",
       "    ('dɑx', 0.014907747778712482),\n",
       "    ('n', 0.013514768274451652)]),\n",
       "  ('bl',\n",
       "   [('blɑuwə', 0.22270191766030514),\n",
       "    ('blɪksəm', 0.12463124429096314),\n",
       "    ('blumə', 0.07351553782379028),\n",
       "    ('bladərə', 0.06160615956777723),\n",
       "    ('blɑuw', 0.05194452001364934),\n",
       "    ('blatjəs', 0.04570747254206071),\n",
       "    ('man', 0.03411615363446252),\n",
       "    ('blut', 0.02981807895403719),\n",
       "    ('blekə', 0.024046668851480706),\n",
       "    ('blum', 0.014717163857318926)]),\n",
       "  ('bla',\n",
       "   [('blɑuwə', 0.29953610148621856),\n",
       "    ('bladərə', 0.2527684092778595),\n",
       "    ('blatjəs', 0.18753652569200355),\n",
       "    ('blɑuw', 0.06986585109785381),\n",
       "    ('blarə', 0.026396958614034526),\n",
       "    ('bladə', 0.01765098452467152),\n",
       "    ('brɑndɪŋ', 0.015249278132734795),\n",
       "    ('blɑtsɛidə', 0.01517978787879772),\n",
       "    ('blɪksəm', 0.011432759828007148),\n",
       "    ('blɑŋkə', 0.008007367437412023)]),\n",
       "  ('blat',\n",
       "   [('bladərə', 0.4688890005785528),\n",
       "    ('blatjəs', 0.3688669725473207),\n",
       "    ('bladə', 0.03274282777917405),\n",
       "    ('blɑtsɛidə', 0.02985723649353808),\n",
       "    ('blɑuwə', 0.02722183935712039),\n",
       "    ('brɑndɪŋ', 0.006395624186577199),\n",
       "    ('blɑuw', 0.006349408187185656),\n",
       "    ('blut', 0.0053800673815120655),\n",
       "    ('blɑt', 0.004903674827660107),\n",
       "    ('blɪksəm', 0.004197941028156112)]),\n",
       "  ('blatj',\n",
       "   [('blatjəs', 0.7962996843196719),\n",
       "    ('bladərə', 0.17137423758180542),\n",
       "    ('bladə', 0.011967175898783437),\n",
       "    ('blɑuwə', 0.005302050438230589),\n",
       "    ('blɑtsɛidə', 0.0020769888692967913),\n",
       "    ('blarə', 0.001265239693822282),\n",
       "    ('blɑuw', 0.0012366865449364615),\n",
       "    ('bladər', 0.0010693839353125298),\n",
       "    ('platjəs', 0.0009918174461683279),\n",
       "    ('blotə', 0.0009266700550598271)]),\n",
       "  ('blatjə',\n",
       "   [('blatjəs', 0.9565380673168077),\n",
       "    ('bladərə', 0.03211075481509895),\n",
       "    ('blɑuwə', 0.006368701007162765),\n",
       "    ('platjəs', 0.0011913482985352012),\n",
       "    ('bladə', 0.0008689132276614165),\n",
       "    ('blatjə', 0.0004642509196735399),\n",
       "    ('blɑtsɛidə', 0.00035338190540586475),\n",
       "    ('blɪksəm', 0.00035077440774624555),\n",
       "    ('bladər', 0.00020037273883499968),\n",
       "    ('brɑndɪŋ', 0.0001617480935874657)]),\n",
       "  ('blatjəs',\n",
       "   [('blatjəs', 0.9972875679733747),\n",
       "    ('platjəs', 0.0012421009553631093),\n",
       "    ('bladərə', 0.001033314794253474),\n",
       "    ('blɑuwə', 0.00020494295474436688),\n",
       "    ('bladə', 2.796137612569889e-05),\n",
       "    ('brotjəs', 2.7594532791977658e-05),\n",
       "    ('blɔkjəs', 2.595384374842529e-05),\n",
       "    ('blɪkjəs', 1.7975378667321918e-05),\n",
       "    ('blɪksəm', 1.6288652767446905e-05),\n",
       "    ('blatjə', 1.4939460199760852e-05)])])"
      ]
     },
     "execution_count": 31,
     "metadata": {},
     "output_type": "execute_result"
    }
   ],
   "source": [
    "low_prior_high_post_words[0]"
   ]
  },
  {
   "cell_type": "code",
   "execution_count": 32,
   "id": "ba13dbc3-4b21-4305-80ac-fa0350e4d8af",
   "metadata": {},
   "outputs": [
    {
     "name": "stdout",
     "output_type": "stream",
     "text": [
      "\n",
      "[('nit', 0.06688191741704941), ('ən', 0.05364280566573143), ('levə', 0.027979832142591476), ('də', 0.017822548747062683), ('mar', 0.015825843438506126), ('wɛl', 0.01449427381157875), ('ok', 0.013042439706623554), ('nɔx', 0.012228144332766533), ('xen', 0.011056989431381226), ('vor', 0.010545502416789532)]\n",
      "\n",
      "[('nit', 0.06688191741704941), ('ən', 0.05364280566573143), ('levə', 0.027979832142591476), ('də', 0.017822548747062683), ('mar', 0.015825843438506126), ('wɛl', 0.01449427381157875), ('ok', 0.013042439706623554), ('nɔx', 0.012228144332766533), ('xen', 0.011056989431381226), ('vor', 0.010545502416789532)]\n",
      "\n",
      "[('nit', 0.06688191741704941), ('ən', 0.05364280566573143), ('levə', 0.027979832142591476), ('də', 0.017822548747062683), ('mar', 0.015825843438506126), ('wɛl', 0.01449427381157875), ('ok', 0.013042439706623554), ('nɔx', 0.012228144332766533), ('xen', 0.011056989431381226), ('vor', 0.010545502416789532)]\n",
      "w\n",
      "[('wɛl', 0.09420742600961604), ('ən', 0.05687032948392903), ('watər', 0.04498516420519202), ('war', 0.038513093655675804), ('nit', 0.03498800422583174), ('wer', 0.032454543264897266), ('levə', 0.03127642308357241), ('vor', 0.030547521408035693), ('wɑt', 0.028457200808282467), ('wɛrk', 0.027318208399647152)]\n",
      "wa\n",
      "[('watər', 0.2416026167634365), ('war', 0.20684295303278336), ('wɑt', 0.050101538192989875), ('har', 0.04635653102277354), ('mar', 0.04446411209939442), ('wɛl', 0.029191956054688765), ('wart', 0.028952787594801833), ('vɑn', 0.0146038344124361), ('warə', 0.013608466340969365), ('vak', 0.01325137468795116)]\n",
      "wat\n",
      "[('watər', 0.6074206360556655), ('wɑt', 0.124896023155826), ('war', 0.034379361041324476), ('natyrlək', 0.02639744670474314), ('nit', 0.01511296467718269), ('latstə', 0.012571239369779691), ('wɛl', 0.01075314148231709), ('vɑn', 0.007762724903654649), ('har', 0.007704917635761542), ('vadərlɑnt', 0.0074136518734447395)]\n"
     ]
    },
    {
     "name": "stderr",
     "output_type": "stream",
     "text": [
      "/tmp/ipykernel_73013/3588190549.py:45: UserWarning: FixedFormatter should only be used together with FixedLocator\n",
      "  self.ax.set_yticklabels([option_i for option_i, _ in incremental_dist])\n",
      "/tmp/ipykernel_73013/3588190549.py:45: UserWarning: FixedFormatter should only be used together with FixedLocator\n",
      "  self.ax.set_yticklabels([option_i for option_i, _ in incremental_dist])\n"
     ]
    },
    {
     "name": "stdout",
     "output_type": "stream",
     "text": [
      "watə\n",
      "[('watər', 0.90683987149119), ('wɑt', 0.011271128551964195), ('vadərlɑnt', 0.011068104560706652), ('wapə', 0.008250629593774702), ('natyrlək', 0.007158237640493092), ('vadər', 0.005829481966562406), ('watərɔpərv', 0.004218071092018413), ('warə', 0.0033768153968322966), ('war', 0.003102534316466599), ('levə', 0.001940543104893564)]\n",
      "watər\n",
      "[('watər', 0.9591692163248229), ('vadərlɑnt', 0.011706791365753632), ('natyrlək', 0.007571304927967428), ('vadər', 0.006165873188011529), ('watərɔpərv', 0.004461475582321698), ('latər', 0.0014502365827321125), ('natyr', 0.0004965856397598727), ('ɑndərs', 0.0004800697817826148), ('jɑmər', 0.00043952957471478116), ('zatərdɑx', 0.00043261412581067606)]\n",
      "\n",
      "[('vɑn', 0.0739903375506401), ('dɑt', 0.0414390042424202), ('zo', 0.027844613417983055), ('ən', 0.02779834158718586), ('nit', 0.02647198922932148), ('ɪn', 0.02563757263123989), ('ɛn', 0.02211412601172924), ('shn', 0.018032506108283997), ('nɔx', 0.016155850142240524), ('də', 0.015536218881607056)]\n",
      "---- ['watər']\n",
      "z\n",
      "[('zo', 0.19308623194584), ('shn', 0.06827105776538084), ('vɑn', 0.029928893222563258), ('ən', 0.027711551391174722), ('dɑt', 0.027219192927737775), ('stɪl', 0.026415791636820413), ('zht', 0.026044203055131374), ('zut', 0.01757137297066174), ('zh', 0.014590537685806032), ('stets', 0.014188197906943258)]\n",
      "zo\n",
      "[('zo', 0.7296510757408741), ('zowɑls', 0.026985777601248963), ('nɔx', 0.01925604357666684), ('zɔndər', 0.01760736660037215), ('moj', 0.012918588793634538), ('vɔl', 0.010604292321896401), ('vor', 0.009595012180657623), ('shn', 0.009222064988710168), ('dor', 0.007480189691422312), ('dɔŋkər', 0.006639085919707881)]\n",
      "\n",
      "[('kɑut', 0.07123205810785294), ('het', 0.07102584093809128), ('wɑrm', 0.04842432960867882), ('moj', 0.044554803520441055), ('hɛldər', 0.037891142070293427), ('xrot', 0.03766747564077377), ('shn', 0.023174410685896873), ('zht', 0.020010540261864662), ('xut', 0.01875404082238674), ('dɪk', 0.017557676881551743)]\n",
      "---- ['zo']\n",
      "b\n",
      "[('wɑrm', 0.10988007490622947), ('moj', 0.09800069123420772), ('blɑuw', 0.061184674997621764), ('bret', 0.055810555734217795), ('het', 0.051151071812229165), ('kɑut', 0.03554992585998987), ('hɛldər', 0.027288272481370397), ('dɪk', 0.02676249183161905), ('wɪt', 0.01944061426354112), ('dʏn', 0.017670034815150584)]\n",
      "bl\n",
      "[('blɑuw', 0.4484161171006651), ('blɑŋk', 0.10503630952101912), ('klɛin', 0.046851037815481125), ('wɑrm', 0.023642626214800806), ('moj', 0.021086568366646796), ('blɛi', 0.019285915546428806), ('bret', 0.017328790403426993), ('dɪk', 0.011990949722486778), ('blek', 0.011644252226400734), ('blɔnt', 0.011394403553334468)]\n",
      "blɑ\n",
      "[('blɑuw', 0.7603323646869317), ('blɑŋk', 0.17773978609390867), ('xlɑt', 0.01828506182418257), ('vlɑk', 0.005646369427986893), ('klɛin', 0.003135969229534747), ('plɑt', 0.002960392442666824), ('zwɑrt', 0.0022622120892025477), ('blɑuwə', 0.0018952210814650189), ('blɔnt', 0.0013639212195410933), ('blɛi', 0.0012909007043814503)]\n",
      "blɑu\n",
      "[('blɑuw', 0.9903613439741764), ('blɑŋk', 0.004774540630165773), ('blɑuwə', 0.0025906234150509947), ('xlɑt', 0.0004911830520518702), ('flɑuw', 0.0003504018173718634), ('vlɑk', 0.00015167577749084087), ('xrɑuw', 0.0001491906882278711), ('klɛin', 8.424007269510529e-05), ('plɑt', 7.952363570011565e-05), ('bərurt', 7.264408553504251e-05)]\n",
      "\n",
      "[('ɑls', 0.36827003955841064), ('dɑt', 0.29493507742881775), ('ɛn', 0.15734551846981049), ('xəwɔrdə', 0.023765409365296364), ('vɑn', 0.022050626575946808), ('g', 0.008842486888170242), ('mɛt', 0.006305763032287359), ('blɑuw', 0.006193055305629969), ('xəwest', 0.005310713779181242), ('ɪn', 0.005170702934265137)]\n",
      "---- ['blɑu']\n",
      "ɑ\n",
      "[('ɑls', 0.9388190209636099), ('dɑt', 0.02399823443263804), ('ɛn', 0.015866358194772497), ('ɑlsɔf', 0.007025686369529838), ('xəwɔrdə', 0.0013400563508613528), ('vɑn', 0.0012433651434958894), ('an', 0.0006003623361020393), ('g', 0.000498599908111901), ('htg', 0.00047814373766645667), ('ɔp', 0.0004612356897886989)]\n",
      "ɑl\n",
      "[('ɑls', 0.9894550715878356), ('ɑlsɔf', 0.0074044928077792276), ('dɑt', 0.0007425471943781689), ('ɛn', 0.0004909327723919679), ('blɑuw', 0.00047052837629337266), ('ɑl', 0.00042073163688478274), ('xəwɔrdə', 9.716128192002339e-05), ('ɑlə', 7.613171343851579e-05), ('ɑlen', 6.282235497971258e-05), ('ɑltɛit', 5.3120935335303295e-05)]\n",
      "ɑls\n",
      "[('ɑls', 0.9924499159238543), ('ɑlsɔf', 0.007426748359738898), ('dɑt', 3.31716117218835e-05), ('ɛn', 1.5198103713847373e-05), ('blɑuw', 1.4566432443229328e-05), ('ɑl', 1.2446655007560151e-05), ('xəwɔrdə', 5.3790518141947886e-06), ('ɑltɛit', 2.3730573013902584e-06), ('ɑlə', 2.3568556466783583e-06), ('ɑlen', 1.9448297612682022e-06)]\n",
      "\n",
      "[('ən', 0.15018033981323242), ('də', 0.12971270084381104), ('ət', 0.1108526960015297), ('jə', 0.028777237981557846), ('watər', 0.02525053732097149), ('ɪn', 0.022673150524497032), ('snew', 0.01535640936344862), ('zɑnt', 0.015039182268083096), ('xɑut', 0.013458016328513622), ('dɑt', 0.012250298634171486)]\n",
      "---- ['ɑls']\n",
      "d\n",
      "[('də', 0.5299427803294088), ('ən', 0.07014498761766343), ('ət', 0.05177616080948654), ('dɑt', 0.05004873899604613), ('di', 0.02659528985441047), ('watər', 0.024558648179840624), ('blut', 0.00833593716868581), ('jə', 0.007870122971739965), ('botər', 0.006935665570632144), ('wɪt', 0.006506599632711933)]\n",
      "də\n",
      "[('də', 0.887569534830488), ('jə', 0.013181199262199532), ('dɑt', 0.010551022280717033), ('ən', 0.010247617599974454), ('ət', 0.005241806439519916), ('di', 0.003885357594957367), ('watər', 0.0024863118115046948), ('bəvrorə', 0.0018838226808699648), ('wɪt', 0.0018443657423518436), ('blut', 0.001757340156050877)]\n",
      "\n",
      "[('zon', 0.15482521057128906), ('man', 0.10890737920999527), ('ze', 0.062456801533699036), ('heməl', 0.03437160700559616), ('n', 0.022771866992115974), ('wɪnt', 0.01715674437582493), ('lht', 0.01551248598843813), ('ardə', 0.015158458612859249), ('dɑx', 0.011868092231452465), ('xrɔnt', 0.010672714561223984)]\n",
      "---- ['də']\n",
      "b\n",
      "[('man', 0.19740745568746312), ('brɑndɪŋ', 0.04546240707879152), ('zon', 0.04412669276707528), ('blɑuwə', 0.03783255389283459), ('wɪnt', 0.03208202972178332), ('blɪksəm', 0.021172328985334683), ('heməl', 0.02039904428272554), ('ze', 0.017800796833755413), ('dɑx', 0.014907747778712482), ('n', 0.013514768274451652)]\n",
      "bl\n",
      "[('blɑuwə', 0.22270191766030514), ('blɪksəm', 0.12463124429096314), ('blumə', 0.07351553782379028), ('bladərə', 0.06160615956777723), ('blɑuw', 0.05194452001364934), ('blatjəs', 0.04570747254206071), ('man', 0.03411615363446252), ('blut', 0.02981807895403719), ('blekə', 0.024046668851480706), ('blum', 0.014717163857318926)]\n",
      "bla\n",
      "[('blɑuwə', 0.29953610148621856), ('bladərə', 0.2527684092778595), ('blatjəs', 0.18753652569200355), ('blɑuw', 0.06986585109785381), ('blarə', 0.026396958614034526), ('bladə', 0.01765098452467152), ('brɑndɪŋ', 0.015249278132734795), ('blɑtsɛidə', 0.01517978787879772), ('blɪksəm', 0.011432759828007148), ('blɑŋkə', 0.008007367437412023)]\n",
      "blat\n",
      "[('bladərə', 0.4688890005785528), ('blatjəs', 0.3688669725473207), ('bladə', 0.03274282777917405), ('blɑtsɛidə', 0.02985723649353808), ('blɑuwə', 0.02722183935712039), ('brɑndɪŋ', 0.006395624186577199), ('blɑuw', 0.006349408187185656), ('blut', 0.0053800673815120655), ('blɑt', 0.004903674827660107), ('blɪksəm', 0.004197941028156112)]\n",
      "blatj\n",
      "[('blatjəs', 0.7962996843196719), ('bladərə', 0.17137423758180542), ('bladə', 0.011967175898783437), ('blɑuwə', 0.005302050438230589), ('blɑtsɛidə', 0.0020769888692967913), ('blarə', 0.001265239693822282), ('blɑuw', 0.0012366865449364615), ('bladər', 0.0010693839353125298), ('platjəs', 0.0009918174461683279), ('blotə', 0.0009266700550598271)]\n",
      "blatjə\n",
      "[('blatjəs', 0.9565380673168077), ('bladərə', 0.03211075481509895), ('blɑuwə', 0.006368701007162765), ('platjəs', 0.0011913482985352012), ('bladə', 0.0008689132276614165), ('blatjə', 0.0004642509196735399), ('blɑtsɛidə', 0.00035338190540586475), ('blɪksəm', 0.00035077440774624555), ('bladər', 0.00020037273883499968), ('brɑndɪŋ', 0.0001617480935874657)]\n",
      "blatjəs\n",
      "[('blatjəs', 0.9972875679733747), ('platjəs', 0.0012421009553631093), ('bladərə', 0.001033314794253474), ('blɑuwə', 0.00020494295474436688), ('bladə', 2.796137612569889e-05), ('brotjəs', 2.7594532791977658e-05), ('blɔkjəs', 2.595384374842529e-05), ('blɪkjəs', 1.7975378667321918e-05), ('blɪksəm', 1.6288652767446905e-05), ('blatjə', 1.4939460199760852e-05)]\n"
     ]
    }
   ],
   "source": [
    "# Plot up through the next word\n",
    "anim = PredictiveAnimation(plot_data, k=5, threshold=args.threshold).plot_for_word(12, num_prior_frames=21, interval=1000)\n",
    "anim.save(\"low_prior.gif\", dpi=200)\n",
    "plt.close()"
   ]
  },
  {
   "cell_type": "markdown",
   "id": "215138c2-b44d-4758-ac71-b1f56e5904c1",
   "metadata": {},
   "source": [
    "## Index candidates by feature"
   ]
  },
  {
   "cell_type": "markdown",
   "id": "20b94ddf-b4ae-4343-ade9-baf237eaff0c",
   "metadata": {},
   "source": [
    "### Find low-prior ground truth words"
   ]
  },
  {
   "cell_type": "code",
   "execution_count": 54,
   "id": "191ba0b1-50c3-4603-9dd9-5215a75a2571",
   "metadata": {},
   "outputs": [
    {
     "data": {
      "text/plain": [
       "['en', 'bluməntœyntjə', 'ɔptorndə', 'zeprɪnsɛsjəs', 'blɪksɛmdə']"
      ]
     },
     "execution_count": 54,
     "metadata": {},
     "output_type": "execute_result"
    }
   ],
   "source": [
    "k = 5\n",
    "low_prior_word_ids = stim.p_word[:, 0].argsort()[:k]\n",
    "low_prior_words = to_gt_words(low_prior_word_ids)\n",
    "low_prior_words"
   ]
  },
  {
   "cell_type": "markdown",
   "id": "b7c9e0d0-de63-4b15-b8af-d4aea5f1b4c1",
   "metadata": {},
   "source": [
    "### Find words which are still low-posterior at phoneme $k$"
   ]
  },
  {
   "cell_type": "code",
   "execution_count": 55,
   "id": "81336809-d000-4816-9381-bc0dd9b732ba",
   "metadata": {},
   "outputs": [
    {
     "data": {
      "text/plain": [
       "[(tensor(577), 'sten'),\n",
       " (tensor(1843), 'xəspletək'),\n",
       " (tensor(865), 'vərlɑŋənt'),\n",
       " (tensor(1338), 'wɑnt'),\n",
       " (tensor(1426), 'jarəxxə'),\n",
       " (tensor(610), 'beltjə'),\n",
       " (tensor(115), 'xlɪpə'),\n",
       " (tensor(486), 'bluməntœyntjə'),\n",
       " (tensor(738), 'bəxrepə'),\n",
       " (tensor(1701), 'ɔptorndə'),\n",
       " (tensor(1653), 'haldə'),\n",
       " (tensor(857), 'wɪldəw'),\n",
       " (tensor(240), 'vərdində'),\n",
       " (tensor(579), 'xəhɑkt'),\n",
       " (tensor(1811), 'idəren'),\n",
       " (tensor(1175), 'idər'),\n",
       " (tensor(523), 'wɔndərlək'),\n",
       " (tensor(1541), 'jɔŋə'),\n",
       " (tensor(379), 'brɑndənt'),\n",
       " (tensor(369), 'dɔŋkərblɑuwə')]"
      ]
     },
     "execution_count": 55,
     "metadata": {},
     "output_type": "execute_result"
    }
   ],
   "source": [
    "k = 3\n",
    "n = 20\n",
    "\n",
    "# Only include words which are still running at phoneme $k$\n",
    "mask = stim.word_lengths > k\n",
    "p_candidates_masked = p_candidates.clone()\n",
    "p_candidates_masked[~mask] = torch.inf\n",
    "\n",
    "low_posterior_word_ids = p_candidates_masked[:, 0, k].argsort()[:n]\n",
    "low_posterior_words = to_gt_words(low_posterior_word_ids)\n",
    "list(zip(low_posterior_word_ids, low_posterior_words))"
   ]
  },
  {
   "cell_type": "code",
   "execution_count": 56,
   "id": "e98329a7-e393-45ca-b088-e3518c8cd02f",
   "metadata": {},
   "outputs": [
    {
     "data": {
      "text/plain": [
       "tensor([7.0143e-05, 8.0305e-03, 8.8879e-03, 1.2598e-02, 1.4832e-02, 1.8310e-02,\n",
       "        1.9646e-02, 2.3160e-02, 3.2906e-02, 3.6731e-02, 4.8363e-02, 5.0221e-02,\n",
       "        6.7419e-02, 7.5896e-02, 8.0442e-02, 8.6846e-02, 9.6124e-02, 1.0061e-01,\n",
       "        1.0138e-01, 1.0293e-01], dtype=torch.float64)"
      ]
     },
     "execution_count": 56,
     "metadata": {},
     "output_type": "execute_result"
    }
   ],
   "source": [
    "p_candidates[low_posterior_word_ids, 0, k]"
   ]
  },
  {
   "cell_type": "code",
   "execution_count": 58,
   "id": "4e61bf14-3260-47b5-bdcf-65546879b863",
   "metadata": {},
   "outputs": [
    {
     "name": "stdout",
     "output_type": "stream",
     "text": [
      "w\n",
      "[(0.44430703237245417, 'watər'), (0.20168478631629935, 'mɪdə'), (0.03245377012690489, 'wɛstə'), (0.03095397747119365, 'bəxɪn'), (0.014101839734681694, 'wɪt'), (0.012016376942530153, 'vərtrɛk'), (0.010581308335511668, 'wer'), (0.00957125841835098, 'botjə'), (0.008374080880527372, 'wɪtə'), (0.00790019162878384, 'dɛk')]\n",
      "w\n",
      "[(0.44430703237245417, 'watər'), (0.20168478631629935, 'mɪdə'), (0.03245377012690489, 'wɛstə'), (0.03095397747119365, 'bəxɪn'), (0.014101839734681694, 'wɪt'), (0.012016376942530153, 'vərtrɛk'), (0.010581308335511668, 'wer'), (0.00957125841835098, 'botjə'), (0.008374080880527372, 'wɪtə'), (0.00790019162878384, 'dɛk')]\n",
      "w\n",
      "[(0.44430703237245417, 'watər'), (0.20168478631629935, 'mɪdə'), (0.03245377012690489, 'wɛstə'), (0.03095397747119365, 'bəxɪn'), (0.014101839734681694, 'wɪt'), (0.012016376942530153, 'vərtrɛk'), (0.010581308335511668, 'wer'), (0.00957125841835098, 'botjə'), (0.008374080880527372, 'wɪtə'), (0.00790019162878384, 'dɛk')]\n"
     ]
    },
    {
     "name": "stderr",
     "output_type": "stream",
     "text": [
      "/tmp/ipykernel_65575/4229271781.py:45: UserWarning: FixedFormatter should only be used together with FixedLocator\n",
      "  self.ax.set_yticklabels([option_i for _, option_i in incremental_dist])\n",
      "/tmp/ipykernel_65575/4229271781.py:45: UserWarning: FixedFormatter should only be used together with FixedLocator\n",
      "  self.ax.set_yticklabels([option_i for _, option_i in incremental_dist])\n"
     ]
    },
    {
     "name": "stdout",
     "output_type": "stream",
     "text": [
      "wɑ\n",
      "[(0.8017149441516304, 'watər'), (0.018570548375834894, 'wɑrmə'), (0.010509982237719909, 'dœystər'), (0.006276801811602362, 'wɑs'), (0.006002313314068161, 'vartœyx'), (0.005970320145280298, 'wɑut'), (0.00582890069269476, 'wɛstə'), (0.005801560353184492, 'bɑt'), (0.005117914508493528, 'dɑk'), (0.005054491083139742, 'mɪdə')]\n",
      "wɑn\n",
      "[(0.6861601138970034, 'watər'), (0.04120178659350174, 'zɑnt'), (0.03314542324645579, 'vɑn'), (0.029767280061000392, 'lɑnt'), (0.027991027674976975, 'mɑntjə'), (0.015454908752648495, 'kɑntortjə'), (0.015010205271927509, 'kanal'), (0.01215716599172204, 'kɑmp'), (0.011535904634096013, 'mɪdə'), (0.010197633300067246, 'kɑntor')]\n",
      "wɑnt\n",
      "[(0.265914383919283, 'zɑnt'), (0.19211661903083804, 'lɑnt'), (0.18065277005810793, 'mɑntjə'), (0.09974525085612242, 'kɑntortjə'), (0.06581504348769733, 'kɑntor'), (0.050517536336141276, 'watər'), (0.03354256121711884, 'pɑnt'), (0.025589152886808228, 'hɑnt'), (0.01990607112369228, 'wɪnt'), (0.01259778511144553, 'wɑnt')]\n"
     ]
    },
    {
     "data": {
      "text/html": [
       "<video width=\"432\" height=\"288\" controls autoplay loop>\n",
       "  <source type=\"video/mp4\" src=\"data:video/mp4;base64,AAAAIGZ0eXBNNFYgAAACAE00ViBpc29taXNvMmF2YzEAAAAIZnJlZQAAHeNtZGF0AAACrQYF//+p\n",
       "3EXpvebZSLeWLNgg2SPu73gyNjQgLSBjb3JlIDE2NCByMzA5NSBiYWVlNDAwIC0gSC4yNjQvTVBF\n",
       "Ry00IEFWQyBjb2RlYyAtIENvcHlsZWZ0IDIwMDMtMjAyMiAtIGh0dHA6Ly93d3cudmlkZW9sYW4u\n",
       "b3JnL3gyNjQuaHRtbCAtIG9wdGlvbnM6IGNhYmFjPTEgcmVmPTMgZGVibG9jaz0xOjA6MCBhbmFs\n",
       "eXNlPTB4MzoweDExMyBtZT1oZXggc3VibWU9NyBwc3k9MSBwc3lfcmQ9MS4wMDowLjAwIG1peGVk\n",
       "X3JlZj0xIG1lX3JhbmdlPTE2IGNocm9tYV9tZT0xIHRyZWxsaXM9MSA4eDhkY3Q9MSBjcW09MCBk\n",
       "ZWFkem9uZT0yMSwxMSBmYXN0X3Bza2lwPTEgY2hyb21hX3FwX29mZnNldD0tMiB0aHJlYWRzPTMg\n",
       "bG9va2FoZWFkX3RocmVhZHM9MSBzbGljZWRfdGhyZWFkcz0wIG5yPTAgZGVjaW1hdGU9MSBpbnRl\n",
       "cmxhY2VkPTAgYmx1cmF5X2NvbXBhdD0wIGNvbnN0cmFpbmVkX2ludHJhPTAgYmZyYW1lcz0zIGJf\n",
       "cHlyYW1pZD0yIGJfYWRhcHQ9MSBiX2JpYXM9MCBkaXJlY3Q9MSB3ZWlnaHRiPTEgb3Blbl9nb3A9\n",
       "MCB3ZWlnaHRwPTIga2V5aW50PTI1MCBrZXlpbnRfbWluPTEgc2NlbmVjdXQ9NDAgaW50cmFfcmVm\n",
       "cmVzaD0wIHJjX2xvb2thaGVhZD00MCByYz1jcmYgbWJ0cmVlPTEgY3JmPTIzLjAgcWNvbXA9MC42\n",
       "MCBxcG1pbj0wIHFwbWF4PTY5IHFwc3RlcD00IGlwX3JhdGlvPTEuNDAgYXE9MToxLjAwAIAAABBi\n",
       "ZYiEABT//vfHT8Cm6Plmy51Kr/hr4KmnIY+ac8s6ZwlvgAAAAwA5vNDre5mp/aarAABhyuNNmqdn\n",
       "AAENul0dviHagE0kuP8ZO//1GnJH77L7WYKzxygf8FyK39dJPUKxgw43fwKvzfQ5tcBsnV4EDqDd\n",
       "HAKc6czjqeSm3ogRHWQxXGTJKevM8Jm1tMtjMJKdPso7fKFAhiowAi50/rm3XEanb21JSO8K6W+P\n",
       "6A43F29pO3qd/b/Gtg7jkdjMkq+XKMEe1bWFdgpmzQh5nMnw0iixDEcCeGXygF50NM1OppXSR1RJ\n",
       "fLTA4JrJCHKtytgGs9XMnDLivvaU8GKq/KSqUCIy/cedOaqYIjyewumdKHD2oArT+c6V6wcjYXpo\n",
       "zG3MnSjKVb7BHaKnbblX6G6Q+Kaa6ya0azFlKFzVyWlNGhmUI/IXzQOksHo4J1bAkcXnScx53S/N\n",
       "rNuaG52qPFCQP/U374j76suKZvFPygqs5pvtzXkYNI8GARTrVBqiTif/E05VAQXCiYM0tA4HuByt\n",
       "p01GSNz4kVYQu5PYVzE3fKdZmNcTXdrqaepcTCKda9cSettmiK6vgI8VAo0pD/CiBWdITPJQS9KW\n",
       "7HMWDGDYSfUYyzTPMMuf9QLqhV8mpMKD/LNaYk4aozkHq500FLnchqVDYlIfhk7C5be3M6MCJ/On\n",
       "zfpEPcV9qjPDr0f9dz9lcrkOK/QS4owvwHkYWhKrRMWHSnkzPJdyndIFO/xem+8mBZJOUFjRMwE5\n",
       "jQx/a7hF0miiQwDzVXUK/GPEpECbnwnwEqA6xHN6tZOpilVRPeNGqSqqNP3V1c1Tb9YM46V0Q7Ld\n",
       "SkgVhAfN4bE6ewl2B7wS3mwIKVpVepBNixH8FkxGtEaRXFSr2Ovn23ftQsnf3eccMxhE/IGM2WSJ\n",
       "4e9ILWB6VunJMELaIUetLBi8gykvcVAghpDvZMEMyxE/1WOuoaRYmh/1Bcp5Y+qg8224h4aJ6FEn\n",
       "tRrpyzZCaoNsmYZAsHiY92IZzUilB04e2j/bj3QdYKKR5tIScGFN6riP7rGBcDnhtOYsSYZZ2X+o\n",
       "EXWjBZulsZY973nlyT6ELVSLJVOU+lCALi8m+pieLVpa/+IuaOQMK6/xOac0jQ40Il2cZmu5Lvrz\n",
       "4DxWRrjViTv7G4UPVIbDa3YNyGM39LtcudFpDlJvY3XrP8ueo6LkQ9Heg34lSqZKN6TY0++8KXAW\n",
       "rD6My3Tf8n57vqBzCz5RPz7wA/aaOL3rbRYNnxuOtoj3aTUOa4bagHkfHzC29U/38bo9iPXLTy70\n",
       "mck/opaawCHeDW8hWbv8LeCwvPACGKGnnLsxCbEokeTQRS5FKTx49JCXhIULVdmc1q2ctatjXnlw\n",
       "CF7Ubp76kheE3pp7YV7Vwr3b9wLcv2iY/NQvQNLBVCXJeJAoK4moPEcc4GOquT2pc+68RFnQ2S4v\n",
       "BsTm7MY5qWM3kC0Jo4YcJdQsLsl96D+o+KaUky+marXVia1WIaMvS/ncAFYi+tg9wjinGtiUUCMO\n",
       "1cpMxwrI5UAbr35bY5rn9CVE3Osiywt8aYPq5RgqIYuTSdicc9iZi3QpOUZYgbh9VsBFzUqHIjji\n",
       "RdvsSF4zt60rpg9Wu8uC/y1GecG8ky7Vibs3yyOFNBmc7WmaSxDdNjC/sqlz7Qgfcg/SFwcGhCZq\n",
       "G5Ol1p592rWvG2dj/iu6a5CGvwIgtzPuIT7fX+7xPhpvnHEZzxbOf7PGsn+GpizGMO0UxF9akguR\n",
       "51AJME3j/Q4eTQiKbJ6wCiyp+xQnwnRxv/HwrTUEoLxGqXMAyzKCgMT4+2LtK+ZRkoKqRsMiDITD\n",
       "mxxP9h92hS7h68cdMJib1J5ZW/cHZXT8QVpfTXDtvoIzch/cISP/zj0W92sV58wGp8jlpjcfyajk\n",
       "utnJCSIfqgbyMs4nEX8ACCtjbu3mF7A72kQDVnIb+eXFQPON9mIwrTmU+9r8eOzYVOI0QqTgm8cg\n",
       "+iqEzAIwGK+8pzt6cPEKFphCuKwvjfuLs/qLpNK8JIEsGWw4BBRAcMTyE0CR5McqBbgbZAuasDo/\n",
       "km+jcb50hY4GvWHBuEc+kErrwt0rp+JEHSbUhN5tsGaG4+oqUY8DsIQULftm2ac6s3SZiJzUEd29\n",
       "E7JzD09PqS5tDPvhFWJLiF1cQ5LnK/jpI2thlNyHwlNwVIadnwQMnCMSgg22IwGQpupyiA7M1/Fw\n",
       "oRaH+tOzzuWgqeigFpL7AD56Tw7pjX7gXrQp4fHZ/8dij/ncNRNyv6jQQDOL5BDW1ulVwUrBx/zn\n",
       "WgN+jARoZev9NIR0B0M8tr5g8ENBhzmgdgND9ptipmQL5rh4rwPYzTc+4yYZ3OSR7vK4tClH8HXD\n",
       "JHi5UD2D1URcvSCODdNIJ+Qwo9A0HrAwPeaAL7pawKF5ylj58iChUTsOiJBHXDjHZkKGMp2jOde5\n",
       "N2LHXtxh2xZYlelI2BXfWgTmuu/0FCC2jVMiTr+R8rW0oGMCT/VJCv/rVlWhK04pMEuDAC5uK7S2\n",
       "yWewsV2F7l8I6lj3PmVgUaGqVyn8GHVyJM//9w9DpKGXHJbZbjdIVs7o9ddW2sR5agS7rtGX40Pq\n",
       "Sr1BxmDXh4AMjJPwDndNLUP9XwIolY+JDfnoEkqXpa+mVYVxC/AZY5gSoCJChWAT4+XuntKX2el+\n",
       "5Ib9on1fEr7rifXA0Amw+5QUbnWitRExEoSeLxLSmVqGxE2X/iglk52xlmryAgEslq8K6dTX55/t\n",
       "8CUwxoRVePeN8PdUzBAQ7Rspz2BUgQBHkXXP3iiP80KuLxu7s4hy3ea7HBznP6NzyBK/+uZFJ0QB\n",
       "hxTK/mKGIzHyPecA06196lXNrkCcX0PLiya5d9PKSAEvqbIkBBDvaiDJtnqCjX65wVvnCRBL2BUF\n",
       "F8uf4NzOYf+9G/OrAphRbU3JBmyEoNaAgZH+huQd3viiDIQg8+6cv4mGmi319CPi6cmn0lvwAY0a\n",
       "ef7JTXrdoPV/cn+TyoKvxyJRKX9ryp4exP7nRbpHCJP8J81dG6qgEHTtw+nENyLPedYu9Dei9IIU\n",
       "YtRn55OO1Wami/94bt///M4Z8FdHdXAcAHJslj2TWrxu2/XGnqax21mdwkXjUVVWmiMt+MibSSLl\n",
       "LzPa3FY12+QY/aP6pHLVWyydi7m86N0nOPC/Fwj/mME+EQUSYLG8yaVfBQKdtIVEsw39iVkGILnG\n",
       "b7XqvhZK0pNzsqv/EAbiEcKCIJy3s6fdR/m0KpcolyhTv5R24/WSDxKAOsN39moITimBV8qHgp8D\n",
       "j57OR0rLLz5NSf/4sEYs1BRmKYNiyD9wf6YCB9z09AHiTeU+cHoGcACFUNATNN4Z9tG0Kw0Tql5n\n",
       "F6nk4PXdkFZJkztohWLGDJQSGV3H5yzyg9qYzWxdjphXgLseS+wvWXlu6NsidLi5GC5zjrNtT/68\n",
       "6yrC0gMXlPkCMAg2nuJ6PvaF1crcw41EYlpSBz2tLkAlza84otLEj3+it/wFdq1hg3e31W+fE8st\n",
       "eMzGoR0M+5jmxEpxC7jlgMa2W3hPcUBDd/6g/wASIE2IXw9Sp7Ey9P4HQjBAysPiYzYXogc+gs8R\n",
       "fJfaXeQ+LWpzNqPS85WWl8HgZmiu8cmpmtoF4Awyws80SuoRXsoJpozYTEkdde88D04X3nfmJbTF\n",
       "uktwDY1g+YM5+m+RS1U1WBFBCzJ/gP6uQQwmSfATWJNsLuiJNU89pe7FcT63NpzW20W/vxKSvJ6A\n",
       "GUCTgkdGJ4HutB7NpLuzlPfVrCp94LNbSHax9cXIlQdMdLXisVkdYTDTFnrIyY79P1JhplYVIMc9\n",
       "buoK5pHTG6FzVrtpi7SYXqIvrQFXEFxph6rmJgvMASm8ZYRLO8mCvEDnFM86rXZHsneVEcqW60+m\n",
       "hWHAlx+SScuXGKqYesEsODM/ad5OBfrDIRUl/aqvuXh9ucBwov+nBNgvgGAIssGFEeOBy1lzycuF\n",
       "vnRhm7vlJpU436ehfxt8HizzyRCokGpxdyEU8d0TQq0LHSLbgGnrkF76F4FYhQdKMLVtAFll9AKw\n",
       "tHlxU+fH8QZIMei55aWJmgvEd2EQ9SUz+EahYDI3vUucP0MJYyseIds0vNEmMKNzTy31Hc3mbEj6\n",
       "Nf83Zn9rNXk/ffETXCC0TgELTAMC8/d/qDFFL08FwCiJ8sAN3rAtkHL0Ka1UTthTc9j8a9sO+tsD\n",
       "ovZr33P77otdVfSRBFVL+sEm1QNKbVxao1nNwg5h2mWmQIG/TDc8VHYNr8ynWVrbVukqpMjl1wdd\n",
       "5lr3SQmvFSV/Mm8wbR2WUy12+0yvvBEgvjJ0yoIRiEclBpo/s/wQOa6jZmuyjeHhaJrltBSUCGCI\n",
       "Y/r1Yr2rw+AkxvQgETwsd/73GeQP1i3sXOQNVThMbIzRjgP+1f4v4OKG1xkoiB1C+xVPNV8BeGs9\n",
       "tPuHAGSEoHhDL/s+W9zeUtG6YsFa163DXMzSJt0vwZudij4hwfclsKta1R1OhD8HgILmpAhC9TAx\n",
       "6CVjec0/IAT0b3m5oRhKteN6tj5YGBKuv9HbGvwimR4OXu0EpvIGCZGOSYQV//cBTgk/PeGXqzUO\n",
       "kogIqq4IP/ysgikdP+wdfs+3bbxTgBh7VAeFO6VrWmwtTZk74RX5waNfl49qa9cFunxCN9G/vISJ\n",
       "RkzjiFNubhPUoRL9Drj6MmDPuFSTOq7kAIGaPSmsAKuJewT6kaGHAnSHPzlLbcpYswRboeWEE2Wn\n",
       "puhmYIEqF3Kj26KPdKvYxPsys8T11Qk+n1E9XqPz1iXpi+Y5V8WA+fm8bm6blj9JRVQxDml1tErA\n",
       "r0sqLRwKDXrl8WAn+B4jZEIdN21sGx8fObY3wBktLAFsiZr5t/GyZFnqLAouAvSrVpXxiap0NhBf\n",
       "tTf9++gqLvspuFv2tld8rQMkaps6r6JpBEsfy0pD8EA2hUVM/lXYnPkRG7vNZMqZJ9zNjwlV5dCu\n",
       "Tx6hRTre4cxkBed8FQIusC1nOAsV9+C99LPDcmBwJHsry4+5GwDncdSoF3QGHxkVbH33/x/Ca14w\n",
       "LGoFZfwH57Un31O/Vic3cAcy9Eq0EaTAAkYvw5Kph+LX75rdJV5EJ6spWIin/Fi5NdO7TO8c7INl\n",
       "/6sLyCte7Ma7CKzrXSeYB1wEofqymtyaIEtVKbAY1jzjUQoQA9XfIwjXXr5ouObmW3awMglOjtAg\n",
       "tGaHlM92CClQhwby3/HqwMFvpPoFwf2Jb42rMGWFUj1cv7o6R+B8wdnkB6aj455v9z05POkLtM0G\n",
       "QUGkZi0Z98d8rfxuVGxhApV315aV/6X6sDNiUYHBRbVGw+A7iPRaA/fdz7Jv2iKDzOyxujjf4Uxr\n",
       "wf8r4ZIiNVSXrN7GFBfWvNj2agHOaZdQfIphO/44PMwTIGE8IW/fJgHdZiXyb0Rxw1TKrt4F7FJK\n",
       "Gtodsk4UrirVNkL8ex0okxykKnwSTq/TyQHlVMKcvg0qvBgwUcbp5H1Co/9VIU0lo5Avey6RWNRP\n",
       "fnotWxVMcRG1SbFGb7D6v/a5l3Onb0mmlJkxSGoZckNsa+afIWrO39qLYYbz/8bmwGFZq1Ti8QX9\n",
       "IZczWqnDSz5jk/tap6sfATqnIFzYmU34UujRGbg6kPmBAAADq0GaImxBT/7WjLAHhl//8QnTqng9\n",
       "/Jrf8TgMZWhkL8HjWf/8tRS1qq4tO71j1Ma06cEe7CgKlG53n0fSqEGMZ/Mwj3Kvvo6czS1lz/Vd\n",
       "22b+HmtGAE04lBQeX4Ez/3LAGIdVAxPw+tg0Ok+FmvNlmwLkmzWJ97lpY/mDcB7g5qVm3S8YhHpX\n",
       "gDVKsaWfYgtB03X6l5qnYF+wJFlDl5D0VYUwExDHbE8Y4BH3GF0iRslimKF3l/ixjZrVPh9ljqic\n",
       "KztvZlCWghbcqfPAsNZ3Ky5BGtEjFGZpjxu+o2uKg3aABmxpUXrz94FKpvgBHt9NsV6/ri9Ccipx\n",
       "CbNQkc/8LplvWL0IfdLT03JX6YzzLzVHrIwJZL4A+HDBmJcxDDyh+KP6wtNGUB38FHRwmfgA4+Bh\n",
       "M/1jyllXJyYOR2JG8seM21PE0bAO1LEpzKMpkw40VywlgDuaMPWzoYlQqkYXqaRe4JetZOVMN0Vg\n",
       "FHV2KAkdrseGKJIyC0I2KM5jymPS3bTKDvpfw5m01DO5DVqovVWPrhvt3Q/cGXLL1mbzl2pl7sBr\n",
       "h5Oe98HWyPoqsDl2O5RgQmggHZfLWWbq+2mcZSFbFYmR4gxUL5z0rgqr4clG46OpL5UEl4hHENII\n",
       "qMsIl5qI96MSrG5NVYYNg8ARafCYwEicrSnDLeeIEp5YVC0EYNJlqV4h6EWV2KoSCW8sQc5OnIx+\n",
       "nikUCpgsN7rcf95c3s0x59+Eax1QaCrlzTnm7VjTvWXl6JjmZWjSg+3ryPGb0JdsBYjGWjO5Ag0d\n",
       "Yhb9GJy0DkvBz+fbM8QZM6npF+UEzrtyh4sGcPg4/FHajdUXBXLDZYK+i+5bBP2KAZfJ78GLHfqZ\n",
       "3DJRhCcD5301t4DHLIFo0MyOEZ9v+vJ6rvooz7kXd2dC5K+sDoitR42aUVxrxit+xLHkfU+xbiib\n",
       "mUsvHiBDASdu7iosJZ/cxnuznVUOoOA1hcOkC2mLQFHwxvusvUl2Wi35jnCK90zQydskCk0B/Qi2\n",
       "OdUpQLt71srqPFMDD4rt+Aqh7Jz5wL09GvHfgrvcC5+bMREZruqXd0//0TejA9W5juhlab4lkoyq\n",
       "ZUk7oP1yJoBqfrQiQK9aCKc3LqtzRidcaXgfbhiXdzJVobY71YzouJ/3q99wzUK+FM5kZK5kutLu\n",
       "gPtn64oq6XgLf4O94M6DXMOrYH0vC/30g906yKSFJZ0hMIr0PieYHXnpVhS/J1I8X+/C5TOi2ad1\n",
       "qAh89d1z8AAABBoBnkF5BT8ABRKk6QeYAICVodn77FKKRXnfr/VpnTfepdzv/bdfCEHHnDvKXO+p\n",
       "btqNUl+w0YeWcPRN/zl33ZMBrYcM6uY9BxDLI59OexrYLdo0ex+Nz0eqOj3VpHs57dac3InkGmYR\n",
       "Oi8JB2kN3wzpivOwywW7OuXxhvKzBUCU3pp+8ueVp4i0eNhTGnVwJ3DbIukM9Q7kmUB63v8gyj5M\n",
       "k3cMECLplQ6nlJkbNsjPMkxFV+F7ylj9teL3/Ed2X6Gf+DfmnPWN1Q1Eo4PIx5SZqrE3J+AgQbod\n",
       "Zx9LYr5iWbDFeWSGyTGJYhUV8V6/gbFiTodvXCCxpS4QoET7SltfkEDIafropse2umRzFSCK0/m1\n",
       "DstKXNbKaO4tpjZLgbcMKImHZFi70/7pP3sH8lGcmablY4a8Q/ShNe+IDZOeGRdes3eg7ckySnkI\n",
       "Mn7TP8rSnzASfVYNxitNWVb0ZX3ZSgnrIRHubpOG9jgyusDgWzzzytJ7rBCa5lX9/2oAN+SXMRCb\n",
       "k9hYxZ8mJ7O6CTaBnrQc5iAZ75ooMDDlu5OHCpQ6KLpID9uD8JClpWuYBHHrwn6+vtbupkoMqVrv\n",
       "8aPS5RIU8EjS4BAYb57DHSw92OclMa9q8bwxTEIT/TErTy8pqFxZzWJ5hHAH5LVq92AvoIVbmZCS\n",
       "uzPgEgBHwal3wn+i4qCDQ6PSY43S6fBSjPptxfmcDpgNJ+8ZuMeP6D2oe2PB62X6HX39e5buhe0S\n",
       "cVJ1AdwgmvMx9LnsMUyy/DNVGPGK0rd+qKK4vEMOsv8wgPhOz9FeCgAty7ULOX047JGHAnEJk6BZ\n",
       "+JedD0spu1NsKMLuUVUZJQ2vlaPh3AM948KntRCbjCZ0nEBgSMXMYGffS1SiP0ITahyp/oe2ioH8\n",
       "9ATEkxKv8hrfSi4hesZOy2kUpXSCD2G10YL2E7E9TJwHEjkdlJQToshtrDiIgYWVCMbfGmN+Pb6J\n",
       "CIt+3DW+ZlVtO1W6EbaD4DGwfAscQtlm5Gc4nWqv56v/HUE+mJngPCqjV6StubWeMGF9kZlQ1LQz\n",
       "NVFiW7+9BQqeItP0gE595m/3af4BLEa22M2RnH02PLe58ySK24BO9hg2unE6nLK87zhEN2vL6Wzy\n",
       "UOsdQSg7t+IZieD2KAX5fh2UeR1R3iMhSrdxFm65owXFHLtwz5k6SkvTHqMe088YGLA0FHEWp9Dy\n",
       "rbclrFvyyupVQZZvs7wXxAegTBYtdZmFhz2eaJxUNv7NrEEGpknqV2Hx4OAKWwnXlI4QivvY9WbH\n",
       "/OoEO+w81z9CPagD77Ry3zQF2WaLP7zMupOCcMwaYLmQLVqH5srCQkQXpLC3u2Fe/B6rfDPFdDoW\n",
       "JPDskhsAHtGIU/wcZbpwPs1hjOnFE8pNHiGTajcVZ2YDmbUAAALzQZpDPCGTKYQU//7WjLAIv8Hg\n",
       "dIheJmjAAnYJf/+XMpiMr0w1TRfLCzrGyW5oDfxZOxUe90OYZ96eDXLBD/SUVgruGDR/gW5LHbf0\n",
       "tO38qljgBa9LSlMHjV2k7WEj6h97NzhZK/XzJ7nlboCpNYAOLJj8hu7haaXE5wEl7/CWRdo88yvz\n",
       "xQWllrmQ9UftGe/lqymgPHre7yQ2adijOFV0VYwYzT+QrQxTB9A/4T0hlhHXOFPZDZFqwSG8rtVq\n",
       "tiCd0dKFQZTPqHAWMtTtIblHT14vZRxjeuTJjMLxxJhlLp0a7sH2cV060rQYTC/wPKtYLSgi1mjO\n",
       "fQjlipSn367c7PU+YCWyjK/45DIBDtSVS66McS60PPFuEWaII2pKvEGGsDxP96/Ct1OcdIQpniRO\n",
       "rrIz+yksJ8OyQq3HuW6+iGwBXGM7uSQpefE+h/qj2jG2TyVhvq/OvK205aqumGSk5j9UsJRXys9M\n",
       "jHIT+c1YQlQl1ASiBORnVEis85VMyt7siFKVTJyOZ1wVQqGeOUdb+HVZA357pkQO2NkA2/pEfVrJ\n",
       "Mu/oj24b+sLFs8AyjOXYXSL4VBTJn7TPruNUOx+9f2g5ztg71Ebgu/zMOW0FwMSvvPusUVhmvF0Z\n",
       "vae8pFZCsaZX/rkeZr+nrJ762YMp84cG5xqbutgUBksrBkax88nZqM7a0aGEL86kQgt5D7jgHLI1\n",
       "s6ZdEY8jH6CFmM/pTHWgSMAPmSGieAswSdnNbS3ACJsVhIgAAmcpY2cbWQeGBMIx8Vb7g2AkT4eU\n",
       "SW9RU5xBJ+4Dyuh49BOXhnDvRJMDdyzlmQ3i+/foFhtYVJSGvYrfOzTnAHQZBZpSf03yuOXRScFM\n",
       "K4N2r0pYeyfuAIx0PlKmu7ZRNi16kvrzE/ZE1WxDXrXjW/NluCKH0+rBRumhvQk5+aF3kUKaIuis\n",
       "9VHzcR1XXACNpuFHTwmzD9T2ZS9dG0c885Phm6j9WVqebEa+49LZKmAlzMhzIM+cKlqp4n8AAANi\n",
       "bW9vdgAAAGxtdmhkAAAAAAAAAAAAAAAAAAAD6AAAC7gAAQAAAQAAAAAAAAAAAAAAAAEAAAAAAAAA\n",
       "AAAAAAAAAAABAAAAAAAAAAAAAAAAAABAAAAAAAAAAAAAAAAAAAAAAAAAAAAAAAAAAAAAAAAAAgAA\n",
       "Aox0cmFrAAAAXHRraGQAAAADAAAAAAAAAAAAAAABAAAAAAAAC7gAAAAAAAAAAAAAAAAAAAAAAAEA\n",
       "AAAAAAAAAAAAAAAAAAABAAAAAAAAAAAAAAAAAABAAAAAAbAAAAEgAAAAAAAkZWR0cwAAABxlbHN0\n",
       "AAAAAAAAAAEAAAu4AABgAAABAAAAAAIEbWRpYQAAACBtZGhkAAAAAAAAAAAAAAAAAABAAAAAwABV\n",
       "xAAAAAAALWhkbHIAAAAAAAAAAHZpZGUAAAAAAAAAAAAAAABWaWRlb0hhbmRsZXIAAAABr21pbmYA\n",
       "AAAUdm1oZAAAAAEAAAAAAAAAAAAAACRkaW5mAAAAHGRyZWYAAAAAAAAAAQAAAAx1cmwgAAAAAQAA\n",
       "AW9zdGJsAAAAt3N0c2QAAAAAAAAAAQAAAKdhdmMxAAAAAAAAAAEAAAAAAAAAAAAAAAAAAAAAAbAB\n",
       "IABIAAAASAAAAAAAAAABAAAAAAAAAAAAAAAAAAAAAAAAAAAAAAAAAAAAAAAAAAAAGP//AAAANWF2\n",
       "Y0MBZAAV/+EAGGdkABWs2UGwloQAAAMADAAAAwAgPFi2WAEABmjr48siwP34+AAAAAAcdXVpZGto\n",
       "QPJfJE/FujmlG88DI/MAAAAAAAAAGHN0dHMAAAAAAAAAAQAAAAQAADAAAAAAFHN0c3MAAAAAAAAA\n",
       "AQAAAAEAAAAwY3R0cwAAAAAAAAAEAAAAAQAAYAAAAAABAACQAAAAAAEAADAAAAAAAQAAYAAAAAAc\n",
       "c3RzYwAAAAAAAAABAAAAAQAAAAQAAAABAAAAJHN0c3oAAAAAAAAAAAAAAAQAABMXAAADrwAABB4A\n",
       "AAL3AAAAFHN0Y28AAAAAAAAAAQAAADAAAABidWR0YQAAAFptZXRhAAAAAAAAACFoZGxyAAAAAAAA\n",
       "AABtZGlyYXBwbAAAAAAAAAAAAAAAAC1pbHN0AAAAJal0b28AAAAdZGF0YQAAAAEAAAAATGF2ZjU5\n",
       "LjI3LjEwMA==\n",
       "\">\n",
       "  Your browser does not support the video tag.\n",
       "</video>"
      ],
      "text/plain": [
       "<IPython.core.display.HTML object>"
      ]
     },
     "execution_count": 58,
     "metadata": {},
     "output_type": "execute_result"
    },
    {
     "data": {
      "image/png": "[encoded data removed]",
      "text/plain": [
       "<Figure size 432x288 with 1 Axes>"
      ]
     },
     "metadata": {
      "needs_background": "light"
     },
     "output_type": "display_data"
    }
   ],
   "source": [
    "anim_word_idx(1338)"
   ]
  },
  {
   "cell_type": "markdown",
   "id": "cc897892-be02-4236-9a72-aede567fdadc",
   "metadata": {},
   "source": [
    "### Find words which are not the MAP at phoneme $k$"
   ]
  },
  {
   "cell_type": "code",
   "execution_count": 61,
   "id": "3273069d-3b67-4d05-84e7-68a11ffb9749",
   "metadata": {},
   "outputs": [
    {
     "data": {
      "text/plain": [
       "torch.Size([2187, 1000, 16])"
      ]
     },
     "execution_count": 61,
     "metadata": {},
     "output_type": "execute_result"
    }
   ],
   "source": [
    "p_candidates.shape"
   ]
  },
  {
   "cell_type": "code",
   "execution_count": 69,
   "id": "0d4dc6e0-0758-4a3b-aada-a7787d64291e",
   "metadata": {},
   "outputs": [
    {
     "data": {
      "text/plain": [
       "[(tensor(15), 'mojstə'),\n",
       " (tensor(27), '#dipər'),\n",
       " (tensor(37), 'heləbul'),\n",
       " (tensor(63), 'zemənsə#x'),\n",
       " (tensor(89), 'bladrə'),\n",
       " (tensor(114), '#ɑləmal#x#'),\n",
       " (tensor(175), '#idərə'),\n",
       " (tensor(228), '#ustərs'),\n",
       " (tensor(233), 'ɑndərə'),\n",
       " (tensor(238), 'zɛs#ɪs'),\n",
       " (tensor(239), 'vɛrdər'),\n",
       " (tensor(240), 'vərdində'),\n",
       " (tensor(264), 'ɑləmal#r'),\n",
       " (tensor(282), 'merə#x'),\n",
       " (tensor(456), '#pʏrpərən'),\n",
       " (tensor(506), '#maktə'),\n",
       " (tensor(529), 'xəkert#xə'),\n",
       " (tensor(592), 'xəkomə'),\n",
       " (tensor(628), 'bəwox#xə'),\n",
       " (tensor(655), 'lœkərst'),\n",
       " (tensor(865), 'vərlɑŋənt'),\n",
       " (tensor(869), 'dəxenə'),\n",
       " (tensor(898), 'kɛikə#h#'),\n",
       " (tensor(950), 'zwɔm#h'),\n",
       " (tensor(967), 'zemermɪnətjə'),\n",
       " (tensor(974), '#œyjtstrɛktə'),\n",
       " (tensor(980), 'vɛiftin'),\n",
       " (tensor(990), 'hɔndərt'),\n",
       " (tensor(996), 'herləkstə'),\n",
       " (tensor(1007), '#kɑlmə'),\n",
       " (tensor(1010), 'lɪxə#xə'),\n",
       " (tensor(1043), 'rɛijtœyjxən'),\n",
       " (tensor(1082), 'darnax'),\n",
       " (tensor(1357), 'hɔndərt'),\n",
       " (tensor(1359), 'lɑntarnsh'),\n",
       " (tensor(1423), 'zɛstin'),\n",
       " (tensor(1426), 'jarəx#xə'),\n",
       " (tensor(1438), 'dɑnstən'),\n",
       " (tensor(1463), '#zɔdɑt'),\n",
       " (tensor(1500), 'xəzin#xr#'),\n",
       " (tensor(1554), 'lɑxtə#x'),\n",
       " (tensor(1582), 'lɑntarəns'),\n",
       " (tensor(1591), 'werklɔŋkən'),\n",
       " (tensor(1609), 'ɪntʏsən'),\n",
       " (tensor(1642), 'ɔpsɛtəth#'),\n",
       " (tensor(1651), 'vresləknxɪ'),\n",
       " (tensor(1654), 'wɔrdə#dɑxɔm'),\n",
       " (tensor(1697), 'xɔlvə#r'),\n",
       " (tensor(1703), 'ɔptorndə'),\n",
       " (tensor(1754), '#tərwɛil'),\n",
       " (tensor(1830), 'rɛdə#k#ɪsi'),\n",
       " (tensor(1993), 'vɔlxəndə'),\n",
       " (tensor(1997), 'notwer'),\n",
       " (tensor(2010), 'rotxlɑnzənd'),\n",
       " (tensor(2034), 'xəslotə'),\n",
       " (tensor(2077), 'vɑstəlɑnt'),\n",
       " (tensor(2091), '#ɑlsɔf'),\n",
       " (tensor(2123), 'sitrun')]"
      ]
     },
     "execution_count": 69,
     "metadata": {},
     "output_type": "execute_result"
    }
   ],
   "source": [
    "k = 5\n",
    "\n",
    "# Only include words which are still running at phoneme $k$\n",
    "mask = stim.word_lengths > k\n",
    "p_candidates_masked = p_candidates.clone()\n",
    "p_candidates_masked[~mask] = -torch.inf\n",
    "p_candidates_argmax = p_candidates_masked[:, k].argmax(dim=1)\n",
    "\n",
    "not_argmax_idxs = torch.where(p_candidates_argmax != 0)[0]\n",
    "list(zip(not_argmax_idxs, to_gt_words(not_argmax_idxs)))"
   ]
  },
  {
   "cell_type": "code",
   "execution_count": 71,
   "id": "2637fa57-371e-477b-bd51-6ba7bedb2e8c",
   "metadata": {},
   "outputs": [
    {
     "name": "stdout",
     "output_type": "stream",
     "text": [
      "h\n",
      "[(0.2843737857954816, 'hel'), (0.11503773708401324, 'helə'), (0.04161625407498444, 'ht'), (0.030969074349699508, 'ht'), (0.027556656173453757, 'heləbul'), (0.02208031511063773, 'hɑrt'), (0.01865259578798935, 'h'), (0.014280507235832797, 'ha'), (0.012843420209193216, 'hɑnt'), (0.010211893493392134, 'hoxə')]\n",
      "h\n",
      "[(0.2843737857954816, 'hel'), (0.11503773708401324, 'helə'), (0.04161625407498444, 'ht'), (0.030969074349699508, 'ht'), (0.027556656173453757, 'heləbul'), (0.02208031511063773, 'hɑrt'), (0.01865259578798935, 'h'), (0.014280507235832797, 'ha'), (0.012843420209193216, 'hɑnt'), (0.010211893493392134, 'hoxə')]\n",
      "h\n",
      "[(0.2843737857954816, 'hel'), (0.11503773708401324, 'helə'), (0.04161625407498444, 'ht'), (0.030969074349699508, 'ht'), (0.027556656173453757, 'heləbul'), (0.02208031511063773, 'hɑrt'), (0.01865259578798935, 'h'), (0.014280507235832797, 'ha'), (0.012843420209193216, 'hɑnt'), (0.010211893493392134, 'hoxə')]\n",
      "he\n",
      "[(0.6092247775663425, 'hel'), (0.24644971965575924, 'helə'), (0.0590356726474726, 'heləbul'), (0.013374770768399909, 'hekəl'), (0.007584752099052168, 'herlək'), (0.006988505596238707, 'kɪnt'), (0.00410843338652994, 'hetə'), (0.0040398036186977135, 'heməl'), (0.0032380885196289216, 'betjə'), (0.0026633616002228796, 'pe')]\n",
      "hel\n",
      "[(0.6616692765498841, 'hel'), (0.2676650945845524, 'helə'), (0.06411769883577206, 'heləbul'), (0.0009372559266982226, 'del'), (0.0008705671908396884, 'hɛl'), (0.0007365444961433138, 'hɛlt'), (0.0004960947990582173, 'vel'), (0.00033917126692245943, 'relixjœzə'), (0.0002839081937185155, 'wɪldə'), (0.0002791181578053414, 'relixjœs')]\n"
     ]
    },
    {
     "name": "stderr",
     "output_type": "stream",
     "text": [
      "/tmp/ipykernel_60813/4229271781.py:45: UserWarning: FixedFormatter should only be used together with FixedLocator\n",
      "  self.ax.set_yticklabels([option_i for _, option_i in incremental_dist])\n",
      "/tmp/ipykernel_60813/4229271781.py:45: UserWarning: FixedFormatter should only be used together with FixedLocator\n",
      "  self.ax.set_yticklabels([option_i for _, option_i in incremental_dist])\n"
     ]
    },
    {
     "name": "stdout",
     "output_type": "stream",
     "text": [
      "helə\n",
      "[(0.7967883806543204, 'helə'), (0.19086626706381407, 'heləbul'), (0.009561477370025783, 'hel'), (0.0007058671381728866, 'hɛiləxə'), (0.0005689674464068114, 'hekəl'), (0.0004017861372421666, 'hɛiləx'), (0.00020622559791568684, 'heməl'), (0.00010486451961581173, 'hetə'), (6.861690441805815e-05, 'relixjœzə'), (6.518453824514022e-05, 'penəs')]\n",
      "heləb\n",
      "[(0.9925745083818459, 'heləbul'), (0.0073079214554912335, 'helə'), (8.76952115707618e-05, 'hel'), (6.47401710293987e-06, 'hɛiləxə'), (5.218411199292192e-06, 'hekəl'), (3.685070721613382e-06, 'hɛiləx'), (2.3126329349481686e-06, 'xəlʏk'), (1.8914438366206418e-06, 'heməl'), (1.1957089163794259e-06, 'penəs'), (9.617882130646226e-07, 'hetə')]\n",
      "heləbu\n",
      "[(0.9999942516993445, 'heləbul'), (5.628860856788864e-06, 'helə'), (6.75464489793558e-08, 'hel'), (1.99462140795383e-08, 'hɛiləxə'), (5.695692165012416e-09, 'relixjœzə'), (4.6872222371597065e-09, 'relixjœs'), (4.0194343512344055e-09, 'hekəl'), (2.838392621721737e-09, 'hɛiləx'), (1.7812847446340663e-09, 'xəlʏk'), (1.4568676250301652e-09, 'heməl')]\n",
      "heləbul\n",
      "[(0.9999999916519772, 'heləbul'), (7.4064383768016935e-09, 'helə'), (6.924041904744003e-10, 'rɔlstul'), (8.887741670394994e-11, 'hel'), (3.2021419657364635e-11, 'relixjœzə'), (2.6351759528965913e-11, 'relixjœs'), (2.6245169171737542e-11, 'hɛiləxə'), (1.6820409725906535e-11, 'mɪdəlewsə'), (9.852410263553108e-12, 'redələk'), (9.732923360543177e-12, 'perijodə')]\n"
     ]
    },
    {
     "data": {
      "text/html": [
       "<video width=\"432\" height=\"288\" controls autoplay loop>\n",
       "  <source type=\"video/mp4\" src=\"data:video/mp4;base64,AAAAIGZ0eXBNNFYgAAACAE00ViBpc29taXNvMmF2YzEAAAAIZnJlZQAAH9VtZGF0AAACrQYF//+p\n",
       "3EXpvebZSLeWLNgg2SPu73gyNjQgLSBjb3JlIDE2NCByMzA5NSBiYWVlNDAwIC0gSC4yNjQvTVBF\n",
       "Ry00IEFWQyBjb2RlYyAtIENvcHlsZWZ0IDIwMDMtMjAyMiAtIGh0dHA6Ly93d3cudmlkZW9sYW4u\n",
       "b3JnL3gyNjQuaHRtbCAtIG9wdGlvbnM6IGNhYmFjPTEgcmVmPTMgZGVibG9jaz0xOjA6MCBhbmFs\n",
       "eXNlPTB4MzoweDExMyBtZT1oZXggc3VibWU9NyBwc3k9MSBwc3lfcmQ9MS4wMDowLjAwIG1peGVk\n",
       "X3JlZj0xIG1lX3JhbmdlPTE2IGNocm9tYV9tZT0xIHRyZWxsaXM9MSA4eDhkY3Q9MSBjcW09MCBk\n",
       "ZWFkem9uZT0yMSwxMSBmYXN0X3Bza2lwPTEgY2hyb21hX3FwX29mZnNldD0tMiB0aHJlYWRzPTMg\n",
       "bG9va2FoZWFkX3RocmVhZHM9MSBzbGljZWRfdGhyZWFkcz0wIG5yPTAgZGVjaW1hdGU9MSBpbnRl\n",
       "cmxhY2VkPTAgYmx1cmF5X2NvbXBhdD0wIGNvbnN0cmFpbmVkX2ludHJhPTAgYmZyYW1lcz0zIGJf\n",
       "cHlyYW1pZD0yIGJfYWRhcHQ9MSBiX2JpYXM9MCBkaXJlY3Q9MSB3ZWlnaHRiPTEgb3Blbl9nb3A9\n",
       "MCB3ZWlnaHRwPTIga2V5aW50PTI1MCBrZXlpbnRfbWluPTEgc2NlbmVjdXQ9NDAgaW50cmFfcmVm\n",
       "cmVzaD0wIHJjX2xvb2thaGVhZD00MCByYz1jcmYgbWJ0cmVlPTEgY3JmPTIzLjAgcWNvbXA9MC42\n",
       "MCBxcG1pbj0wIHFwbWF4PTY5IHFwc3RlcD00IGlwX3JhdGlvPTEuNDAgYXE9MToxLjAwAIAAAA+6\n",
       "ZYiEABX//vfJ78Cm61tbtb+Tz0j8LLc+wio/blsTtOoAAAMAABnblS+MhuoLgPtAADyZ5SNNU9f2\n",
       "AG3fYGXHYYVH33zptIzON5VWrBzqPtq/bvjNVeXcWknNFYbPuj2SMK6IsAW19Vm2Jwq9NPqWE161\n",
       "F74ZwuncOpYFESbUPpra3z58fUKKR0yRPPZk71G2FNTMMQcxY5oGGhkx9nW6cS7rfn0Xs+bqOmRY\n",
       "w9VcK7s2bEGgQJFfT2BwQT7pghKqriGgz5QJHCW96DMsWrBvuP4K86RUtz2yWGX2NHs3Dpf3nHkJ\n",
       "QKvNQTpqo2Usmhjpczp+PMoZYZn7dAERjsqv/0jGJP+C5e0JI/7kV6YJhBzMm1ZY6NfzZJvdJStf\n",
       "i94D28EnuBN+cvOFKon0g2eQQdUEiBURajOD0lAZQPcSxeKmLI2OfSxDPHWmu8ntRSf2lNWzEeoa\n",
       "4GWLrGfrD6JxfO1CrAgHiIxm4WMnpUJyLUMa8wEtKeoi6ih/yLh9K+xy0nLFQZAwn/aAGyvPtkfl\n",
       "DYWqrX77f+tIDngyzH6/rxSq8QmL4F7zTJrJBwtPbgoQ09dLWEKkVz5fjLEFB5/21iRImRWJk5t0\n",
       "Re7Q7URRyYN0L6wLzfyBuHK5aArk8U1E76GjvY3gK614uJj1b4o5vPn6a66oqfg3VM7CJmQdYB4D\n",
       "r1JboNuFVT2lPIu9495mG67F4N5cI2MW67iY+XMlzaXZh9BdEvXWqjab3FiTgtZnMeBTWMEY//w1\n",
       "HyTvYT1+VXNI9XtxwzcmFPkvJPcmuXXRkWY2C7USQIocY0bS5gluXSiB/OKsNbqvX0sl69sOxsQQ\n",
       "HYrG0R+4zq4mGwW9lR4uXpcwPFbG8FevhgSCCyFP/02zYxBK0p5qF59DZua4odBjTSmPSPBLBSey\n",
       "12Ec9KbQaSe7+t/niX5Yoy1EdL6d06YDSNI86dMrAhotn3hsloh82NlCasjEfiOJjk5M1A/+FsU/\n",
       "R+lKLCKQGEE9LJjZ2Kr8M/E+/JUOSCFWV8n/KMiMEE7BkOCEFazl2HRJV9/Zi/KfJtu7ZikXY7mG\n",
       "zmFqT5gVW393YHjfVLCpL6AXaydhpuvdj7F+t2+CHPZ33ZkmRj83ywJaGoQunRT1+H5c4gxM8nad\n",
       "QWegsDS6LOwNaoUir4qfmZy71hd6O6yixUXAV88BYkAwAoP6SJRtLpRGiTyEwGOUCHZmq6VOQPXm\n",
       "u+W82oblllADPTzOYr4wslrmui8TPd+uPaTr+EOV8ZrJNs2cJTtjSii0wx3+5tA+fI1Fx0xlpyPt\n",
       "eoYL0M6agsQrEDhHCZ4Rk9EjbEvf3+oQjdbE7LDUfvYN9m3WZ4WyKy9Tiv1rHARUvNU5tIJq+gBd\n",
       "Ui6O/6av/2kkACDukYURsjp1FS7revFz/MCMGHjGBqzEUSUtKs29EFKePzN2r7ikbrFA4iLWj7L3\n",
       "tT+lE1ji+R/1YFaIbwBFD0wFs4R7xL1m6G9zjuaARKsC1JhLwd/eOK4J63DtTvLYeWLg968dAa8W\n",
       "bM/Ati1Kz1SbKdwmUOz8Q53DbBzdLNGWp2BU9uEdBRqaj0iP0KnouFEivs6a+uqbZRNFjiSLYdxN\n",
       "rrtrTk/acN9P6IbOpd4jGZ/wh9cVXrW+N+2wCC4tOjTd6eS98I2XZRrt/uYP1mnUQZuL33z6gTVQ\n",
       "gSe/XwvOGSme1yUejIDZE/OZGgk3UmXcZT6+Ps8bsUnA5bYMzOWtW2j5HA4qEGDMuSR0Luj9/fLI\n",
       "oN07fzwghNGmpLJ9dpxjaDnNCKYk1B+//0mqbLQ1M1Ai5zpjDn5w7wjiO7J7Ke7j4rQrvzeTofH7\n",
       "YU/3IydgZ6AcVqG7DZ5/xM5Lar9p4rpLMv14OTHxQqvuATvoq3/gICrG1WIW2F6YS2z9qMdXpAUS\n",
       "jbeL7wDtV0rZQnrRnaCO4X7gpkLawp9fKwPOHlESsXzG978X2Ci4rewbek/i07RIPwKqhKTUjDB1\n",
       "2SKsZFrPS/141OeIZczG5l6L/wYvbg5ibmOcB+bjmAN6pOHN/hbM5YTNmKCfEhjjr2HNDP+YMbLB\n",
       "Gr/qJlwnGRfOAAivo2wBOj6hZb1/aycCUhijVKk/c/vcfzOZF5UPQNtLiPlMr+4tUP70zEs+mmdI\n",
       "ZFPJmmFUS9/slMNwuETiBmv0jjA9zs4DJMqVBAysZTiTIdLCcb5LGnXChxyA56JhUweXZSnEm6t7\n",
       "1OUav7NITbTSzUKPZoxAnba91/jqL6sgO71J8XwVsEtWJlu7zpG1fpP0PKMAPhfwMtZQsS7Kk7w+\n",
       "KAJ7npUOKaJrzdcp8SQbbv/PHn29agCocnjcYdnirDBs/7YYBVOGcrBf64Sil82BIi5DnT0kqDok\n",
       "OLOqsR4DdAtjGtWINYhs0c9pS+rDj8iQTnNklfDgUxOVykAikGt3hW3eWn74L3w6IOrz6LplbQcj\n",
       "1+ieFdgViWUkdnjlbP1iZjxjUX2ZpkDVvFCD68MzKNBe0lDkHsV6o7YGJBUSg1KeO//ghLxzsm1P\n",
       "jLm3AyCot234dqnSlWj4xR4vHZjR92xA6wOTfbXNdFhq1dhAbpHTxVEyBLAu+ZjoWH7PH4FSLKXf\n",
       "bHe+egtGOIauI8EMjd1076bQnn/dygMkTd8fJtfn3Q0hmOmye1LJ53r/qE0wm2b2UECd/+ycGnT2\n",
       "J7Xbj1nMgx/WKmal3HknnpkCEHimKr+9e8iV4aIQfLdMVP5WbwACUM8HmMupU/IpRhh5AZq0XGaD\n",
       "wHULE68F8FnAMlkRUVLP0ikoUkBfPg9sYGI4EXUzs2nsyhxatKZ4ZOxKdKf6BwIvlqtjRMhXc0fQ\n",
       "pSMqjltxHNCT2AzXGvTQIVdrikDSs2DboHxa8x2FWYIWiZOW1/4DC/6L+/FfR/DhNpWHhtQG4NmH\n",
       "Vl9naWqjn2KnpHbpLJS6w7/yJrcq6++45M/JM0oE7Gj2nGnE3WxCWcK5N0Q7/+jAr3FHrCKrZeE2\n",
       "89Dp/7ca3yfYuUpP2IOUbjLwMq8MpgwboiRdxiqfbh4wsXt+lRkqwIWvnbwWm2ZNxKwKSERFOnJI\n",
       "gCcRwhhJvWksVZ+pau94rPEOwlP1OEo4UQwk7kYM59tWBeBf/fqf3u4Rew1kmQK3h9YLMAw93+ph\n",
       "vOHzyjfnLDO8/2ODFXsyXt+Rvs+ks9wv5kcUtil6F7XD1oGzugYj9OdBsRhse/N39Krjpf2CZur/\n",
       "wq15WoorH0gOmr5fe27T+ckiY3cZAuocE23X+QYTnWiVXPbJEP47vjkvwr0b9TsPLN6nOPxGlZCj\n",
       "HyvZaQ3FMVMOuLkBcPCcRR1p5KRIFGNaGZLx4V/UR0Qbs5cvoWV4bwG7Rx9Ws8gVx/IucyrCaviH\n",
       "2+IjgPfEi27XYQKs5Fh4yvzOn9DjcLJg1tRkDurO4uuSPGcUbhZYUYtiQkLlXf/yaO8JLLd69P3C\n",
       "ZWunaHgC9rONb//lsxEWwrv+nFarY8IC15jDkR1fPx1ziYMVEGG3mNhjA1eRI29zLU/MDVqJA2iX\n",
       "JSYwLb7xQVlrEPBmkqmne44f1Or38LfzhmTE1EGXgccaJkrpD06gX2RqvPvKycY4bE9vANZSA8HN\n",
       "RQapQ96IZieIuspDf7d5kAMQ88WYaOoa7JpfxXRu6NwBuCn8UpVimM5RERmhxJjoVJRZh55cRKYO\n",
       "m9NrPgmeojhGlLcHkT/x7OoVO+5pY+r5zMbRSgfPVtn3+h0oqwSwbCbLVCqY+x1fAE8UDA3F9oEv\n",
       "dsdLdYy/6WUW+7NHW1w9M16MaJW+R/uQ8P9Ae9Fqqx+HKQBgPLvszxJ9TfCxKx4h3akXYtjwiFEn\n",
       "G9wLpjRGlVvcDPo48QQw3do1iAhn+EBvsStvEKhSF0sO1hYjhi1s6QSb6tgOsOlW/1atP55OtVW+\n",
       "ObM1OLGAxMaO5VTmEw0pdF7jbv3/Q+bszP9/8kaI4vqBJ1tSSnj/i0O+KUZ1DFhhhXIqRhVR7a1G\n",
       "MfQspGIPg+ZtrAxIwKYcyw1lIfJybLja+cJy6Vf6ynKuJ4M1yXP0NZERAM5hvAF2lmm0XW8Bu4t8\n",
       "CJ79UZjPKr6V49Lc5XuBFeIQ6S5C6vVCtvVPUN3A7TY6V8hfn8EsT11Fdb5ijScvFoRX7kjU88ia\n",
       "7H2n5Y5InUHYLONIxbxVe0kvrgQ4dIP2+7cZ3gQVbyDEsgcK2jDrFgfxSoSOkdCEhZznLG2kPj5W\n",
       "/Qv3Jugs4ED1rkpn53NPU73F3FtAFwVAGiUb1SLX6Bhh9uBKzeesJckVCEDy+b7HsypTQDO1c/4j\n",
       "CDfhPTLjQj0kZ0h9/RY1qhpkmjUVjdzvceJvL6DQi2lcPbswH8ite75uElGMwcOPTeJB8vfKmj1C\n",
       "kci/6AdjAAGkVtrWmwtTb/Zuup4Mc7EUZsgrR6uWiDV42nvOdIFLiTgb+6Qej1jJKzlBZGYOsfCM\n",
       "H00p4gnJatO53kq6bSWbJ45BZgL31Mbp69KvbBrsdc2Inl1KO71W9aAvl9o16u8bjlJpit0K5Cod\n",
       "vexA0UGtmLEmO/nbxgngIpCHlY6bCfBBpP0gRcC73wzJtw9hOAf+ApdZMaP3gzblA2pqlvLaZK3d\n",
       "HROo5q0eyPPbXTA6lfcOV5uLDp9eg0NDLdbwbNzS6r+kCuyfQQMJo+v8Q6JkmNpn+h9VSKPO91yn\n",
       "1qXgTK4ZBvtVsPqQrKlPGt1jNpjVIG07SCvX3Rw44xPC4A40F6U+uHM8Pqwr7+RkrG0q7hCYc8SW\n",
       "b0NL1SPXqdK+WEOOKY96RhjLsRkf6fgFSXtxkEzuriUL/QlptgIh6yl/qoDm/0lC8FZuiyn3FPxm\n",
       "R3wpp+Agw9bciQqSsMpicrA2dSsLn6uPhdJAJe3hgpBxrMEfG0C3+ci6vuH6FEgK1GXsW00Gs6mO\n",
       "CI1kyIVkBKbnB2+n3PlrhtGp5F/da90IJNPLG2zLLwjp29LgXNp3pioOr3Kq6NIKE7NdJRvNeVJ/\n",
       "tIi6gW89br/8zkoeiewnKmiluRyiQ8gcnmUbXDtCfkuel30+H/XkKjswF1zQqfvr2KqjNgMNcuXC\n",
       "jS6rfx5/FKFhCLyDD6UDDmH1PbnhgAuGeb6ZdhqFgetMa4SvIH210bMY+rRBUGRx3lfapPRiihJp\n",
       "3bzNnVfb2R7nv9zv6jgnI96IQgY2UXCA+umVM5+73d8jJ/OyPxOXiULx4V+f7SSLQEgJhdhCP0yY\n",
       "/ug4TF0ANnteIo5vPdkyebuPRrL+yMs5y6aQKg1x3ROR3I19HeIK4cKgc3aeXgxf9VogOD7bDs1R\n",
       "qaVRqh6ywNcFcwSv6376/Hv4zs2T6weEjJsYl8bPkr9op48HJJ1sGeSBhV3W+BVCTsbvVy5U21+z\n",
       "OkZG385lx502Nk+9szzr0MFBF/wYrF4bP+v5/7yBzKEOH+X1AAAEIEGaIWxBX/7WpVAEUTenH31D\n",
       "j/xCeSIJyer6iQYuVvFEzpilcpVb174ijeIsvu4wIJmZp43dR5sNoy1AzY5VJLH8GU8nesRpZH8l\n",
       "gfa6x9owsbFIXoifFk7ADgjjkuWbCldlfu8ICNwbL1/CUqHpCDOOt9RHx1cT+rsuZoxB8ps9Qq/b\n",
       "UdbPvryRa7SNUSPj5KweFL1+bweerkCw4ok2YS58mS4KefdHj6c91UQMagVeY+Y90WpvIvw6BrMa\n",
       "VUbJhZSNZIT8EFuEXWQaUjrj68DnvRUBOt6ASaguAXE0yuzSyJbJw1eta38e1nqKGaVR4Br4HQNb\n",
       "jrlNmNKKMdAHnSlD86YLiH+BMxS9nV8JaBQkTbFGZoqXjYkYcAPZQFfS3sNEsAnCnkvX9w8+1jOn\n",
       "S86bakOQnJlh4qf1KKEU/gcTfZxNhmvkzVtxGFBwkvRBjZpJiTpAfkaBNuzu2WBXDCrS8k0wA705\n",
       "S1JD0NqcpNX7oAudOUIGMALyxdqrB/7n1Jf63L6ZAxUZc3+dHjXKTYOU8A7jVvhg9ZOMGPsy3Wyq\n",
       "gD0Fp3rc+ZB5EBWDM382lrFBD6Dq33ZrkUfBROG6UM86GNArwWA0O8Mo2wt1qheqtqQ0fL9eRclE\n",
       "QPBhlMYdnGE5pE446y7vw4O6atX6ByBd0iI/+YotwZBPqE+2/6bj44IlNfYo74RbBpEfsYNY7gcu\n",
       "9XJIsM/ZBOCzAU/tU3TvCdnFO1LB1SvmZW21aky2ggr/VpaO4L2h+h2l5QsdTn6zw0PQEbfPi9iZ\n",
       "fWoekK5V/EuBHdPiorKilpOSnwqAYvZSzyZiE5vfTh6ZJh1tvmyps+IxjUupewZSm67oLYk/rXId\n",
       "2m2jXBZRbpJk2x2EdIkk8ZomGSlnLqObDs6uNmPHa6FRlZiz1JNKNhHwC92AtACVMaOdC/ew6/P/\n",
       "h4nhUJy1jetCziL1dt5leixcjO/0GLrqzHS/A74NK64xbSGJQn29IeR7r4aizG6WfG2mvJc5RQEQ\n",
       "t75MLmlPftmxbDQUJWVdm2z1fG3wjgKAZbsUr0iWRWuaESE76qe8KnxmQM44N+dOJgxZzr2NwbyC\n",
       "RRPaLKl7FpZxsUnThZnpM3R2+RrS/O1+E41CVNO7DD//oEh35I5/i6z/DEfGz5Zx8FapMfKFnrAa\n",
       "afJc2WqI14Lbx94y2KUfU4m0bR51E93HVXOy9Wh/0yaiLUm691OEeilUe/faPM5XXwHFdfoc07hS\n",
       "FhmHQbfjS/zRWqoEiB3kcTxNC/5qnNJ8lCRbTph3fXCtvFmnbzHru67BCHB/hEQmArZ+/iwbm3hV\n",
       "hl43DQYDYW6aj+f5R7BNdmVohilG/E4fKOEy5FPd6IjMMqpj0evN4WDDb439P79YrE3CSG49SJN/\n",
       "B7abEiHYk6PLdEWNgAAABBpBmkQ8IZMphBX//talUASZAI5bB6ADjoEH/3+AswV4GXh5cxPGjqGo\n",
       "Th/sCHrhNbKqfwveaRE5ym/jKEEzRy1xoxgxQ0skVXFZDi5oNpj71H10zFUZkLwSO2sxWrVScHf6\n",
       "vBCBzCW14AZYu9tySl8igprWYip9fB9b+RleeYJnkf4qpdMjcRFZzZ9ScLFtHU/2C9w/Xv6yCA8r\n",
       "GZcdeeGUvNGPgS/61D/VHFWeXOCWeIJ+8AlXJ7FJvMRXTactIL2JbA8FW21AawYEd8teIvOWc5RY\n",
       "Ge+RoT1jU3omqGDFsYGoYMPn8kF7OJwSzaBZVaypKM1YS34KEOK5R7qiA0/XfDAiL+eAAkX8a0Ir\n",
       "z2o8xJtLlasywm85KHpC8af7LUaGVFnsfgRBXwVd5SCjnZGE5FALw1UoKpHr9D3rfHS34SCnPy2i\n",
       "MyhcyXK0v8DfUfSwBLq6/KibDoV6pq9aQ7yyir59kptxZmJ/DX+nlFthFZfsWmyQSGrcQ8UbC3I1\n",
       "dRSWt4u9nBG6ZJl2g83cdHtHlbygm2xXGm3/zaSmODOoYn7t75iv5eGl9jnuVa8yirAzh5Yfu4HS\n",
       "Y0DukRFNM3LZnUBVlCM3CXG9QxASdWLUXBC0wGvJgl8NF1/z1lO5Al1xP2RUZOZ3GDuBpikuJ4V/\n",
       "fbsTqdr+aAvPwidX23UkhhPEJqL6637C+5WDnvg03jciIYlZLNgS1ZeihMtZJPu18X0OO1WRC8GR\n",
       "yf02srMVS+Ivm+7w+rmueksklas0QZO9ysRl5p6WrDFXMLzvkCNYqanaeWEy1xLBaytoAkG0dVIo\n",
       "KiC7khobhaqLggEjQ3wcyRQOf1fujntdiznyN6jkQXYEcA2NzDE3SE2FJlKz+YLxFm8t32Yhq6/n\n",
       "sTDQP69A4+Ls9Vi0OQSowr2hZxlM90p1KYkGemhMekuVLQxjTVzIoAUQbVkHCA5EEl4nTZr3YlVK\n",
       "++wqwKfUhGGOZkOlzwbXAKpgJ+CjgRvjZYP/pVNpkaXptsVu0T593tNUrXPTgVHNNYm7b3t56COe\n",
       "KPbP3PPpXwUxFD0v0EChrJD8s15UpUtl79gIrhHwaiBgThQSf0c8LsA6OKqLuMlDqJdbqdsbGLGV\n",
       "W5RZRCp0nuVPVFogU6LTSRnHT/kaiHx/NQU5AV/cSxcKiHrj5HKsRJxYOI8kickVEZYWmDgyY35w\n",
       "UVdUmpCtvronW096P6AVYCa4B7xzwhrApByc6L3ysCBMhZcP0BimsalOEFerfEW1bHcHfH2r/srk\n",
       "u4e0rshRlL1hHub88lYXpzNiQ9kdi8LT5njZis4hdMziDjGlPYvboBJTia4dkSP3pVOKAwgk4S8u\n",
       "3CnwsYEJ8WFeHoz28CAgwcRI8awfT7/AqGkmFS3ySm50n65rkFavUaEAAADFQZ5ialPBTwAFEc2z\n",
       "byCGNKAvp77tOABLuUd+KGxd7ctEPCm+f+2XCSIDVsglv83zlnQdRWvpjaUmbbAVS343+y00fWLE\n",
       "T2Rps+M2+oqtES2OdmLrWD1sUAg/C6g1ek+bbe3Hyqt67WAZEH/8M79EMZnlIw845g8zyGa38Ame\n",
       "snJofueAAE4jIGLzuhhHwLV3QxCFstwGKzKnEaqWIEkGMVdO0s0WAXto+Sku3oL+kZAW7LhpGJ7p\n",
       "LbOkTmMqrO5sMcvaA6gAAAIWAZ6DakFPAAUR/8LwARAHy/9/groUwbDW5JIxn6kiCroxfNgytdTF\n",
       "tx8jX16Vd2iMAZkxUun6R8uL8KMCbUYW4g414zaC4jaLSRHQUUt94CTHIBnhubCzwM1P8hLIio7i\n",
       "+56VAn2CyKClwOZbEj/gyLLXBBNXy0TRY+Xx608YLINDDONCdA0v0eUsKxEoF80Oy2z4ombz9+kc\n",
       "tc3dSVq/EK71ovFQmbWzvwRWgh5lveiggImBQm+H3VgkG/5ZmH8OBU/hirX1Dohd6xpYZYV8LZj0\n",
       "38315sRqsLgRn+D/xHhOCrz4EKUzd4CMTwpQhZEFPLXYHGtFsPEP1ytrpHBTVxt/zPrheNuz8nNu\n",
       "Izwy07ctRv9ytp2EtEvRx/wyM49ONynGEuLorlkFYnHZUDVvVwP8yn98vQCgDzb2DUYilx/kpwtC\n",
       "zLbexMc6drOCqdDTB9pMKJEY1YxS3nnydo475ukLeeZ39n3RtkH8Ox4QZQBok7ipzzOl3lj4GKaZ\n",
       "A0CAuuLDXWvLQ3bYnnAM9kKX/pIOHh2hkrXOARZ5vTYKcbkXZTbRaD/ULbKM9KntAQpTNR2/brVL\n",
       "5m7CtnJB/NJdFcHzbAqgqdF19FaXqAgJ4Gwg1BGW7qW3kXdYM5qZs+Qe22UwPUyGXNqQJQL38vPE\n",
       "IEntQ4N5otp50ZrQhnYNDoYdl2yXBxEc+mZgs5d2E02rXzN5GDIFAAABM0GahUmoQWiZTAgp//7W\n",
       "jLACuFtPgAtkMY+quO/JqQ00iik2tCEQL/CzyuFxVDl5gKvzPKVcbp7qt4ECHAIgKVS+sxc/0NmJ\n",
       "X4AMHYQziW/7E6BPnGm74aIg3S2xnCvDhB/xY1Jp/ar++/9C3/w64IoMM2poaVAx45e1qAJ+WrEL\n",
       "jPyCamwT9UclouaufStMwjm5KWbiXe/5Fz5y/gY3V52ZdnShZDaIVgmXABFEwfl2dJUq4JMLRbEV\n",
       "OALJ2nWUjDNsUJxPLIrlSOfdrXVVSVtiecRohk4ETnrKAI6ggNj7Hb5MW20gOKo3oDZRNoPg3bdJ\n",
       "v85799zN+Co2yx24Cs/GEDGFyiwxO3mDvr/CSxfwrTf6uA9zCG1zbLGQKs3K+glJP/PO+K5CLH6m\n",
       "yEzL2YL0WM0AAAD+QZqmSeEKUmUwIKf//taMsAKmS66Q+igBYnfpeKvsCPnd/wIRXOAhgg9mVPVs\n",
       "XiNVboT1O1WwU9RZpB2/nQqa3wGBlLKfIPWFmA2zIdYUqxXpV1K6c0Ywbhb8a+YGRGoS7ivJ5oLA\n",
       "I/l425400A2QN2i2Qz7INZnvFJGACefgRn7R2rnZOIgs3z5vKUsuvYPEncsrqAC2GEspRh9PE/cO\n",
       "KqXlGROYJbwUjbIHH/PC+/BnYMaQwcewCj9sHLMLtCSNo8P89czjs4ac7V715q0IETVB1KmmtTB3\n",
       "obaIDnuBswFI5zzzVCnw1ewSOGld3zU20De6RW6Hk9orOSK+t4EAAANubW9vdgAAAGxtdmhkAAAA\n",
       "AAAAAAAAAAAAAAAD6AAAFIIAAQAAAQAAAAAAAAAAAAAAAAEAAAAAAAAAAAAAAAAAAAABAAAAAAAA\n",
       "AAAAAAAAAABAAAAAAAAAAAAAAAAAAAAAAAAAAAAAAAAAAAAAAAAAAgAAAph0cmFrAAAAXHRraGQA\n",
       "AAADAAAAAAAAAAAAAAABAAAAAAAAFIIAAAAAAAAAAAAAAAAAAAAAAAEAAAAAAAAAAAAAAAAAAAAB\n",
       "AAAAAAAAAAAAAAAAAABAAAAAAbAAAAEgAAAAAAAkZWR0cwAAABxlbHN0AAAAAAAAAAEAABSCAABg\n",
       "AAABAAAAAAIQbWRpYQAAACBtZGhkAAAAAAAAAAAAAAAAAABAAAABUABVxAAAAAAALWhkbHIAAAAA\n",
       "AAAAAHZpZGUAAAAAAAAAAAAAAABWaWRlb0hhbmRsZXIAAAABu21pbmYAAAAUdm1oZAAAAAEAAAAA\n",
       "AAAAAAAAACRkaW5mAAAAHGRyZWYAAAAAAAAAAQAAAAx1cmwgAAAAAQAAAXtzdGJsAAAAt3N0c2QA\n",
       "AAAAAAAAAQAAAKdhdmMxAAAAAAAAAAEAAAAAAAAAAAAAAAAAAAAAAbABIABIAAAASAAAAAAAAAAB\n",
       "AAAAAAAAAAAAAAAAAAAAAAAAAAAAAAAAAAAAAAAAAAAAGP//AAAANWF2Y0MBZAAV/+EAGGdkABWs\n",
       "2UGwloQAAAMADAAAAwAgPFi2WAEABmjr48siwP34+AAAAAAcdXVpZGtoQPJfJE/FujmlG88DI/MA\n",
       "AAAAAAAAGHN0dHMAAAAAAAAAAQAAAAcAADAAAAAAFHN0c3MAAAAAAAAAAQAAAAEAAAAwY3R0cwAA\n",
       "AAAAAAAEAAAAAgAAYAAAAAABAADAAAAAAAIAADAAAAAAAgAAYAAAAAAcc3RzYwAAAAAAAAABAAAA\n",
       "AQAAAAcAAAABAAAAMHN0c3oAAAAAAAAAAAAAAAcAABJvAAAEJAAABB4AAADJAAACGgAAATcAAAEC\n",
       "AAAAFHN0Y28AAAAAAAAAAQAAADAAAABidWR0YQAAAFptZXRhAAAAAAAAACFoZGxyAAAAAAAAAABt\n",
       "ZGlyYXBwbAAAAAAAAAAAAAAAAC1pbHN0AAAAJal0b28AAAAdZGF0YQAAAAEAAAAATGF2ZjU5LjI3\n",
       "LjEwMA==\n",
       "\">\n",
       "  Your browser does not support the video tag.\n",
       "</video>"
      ],
      "text/plain": [
       "<IPython.core.display.HTML object>"
      ]
     },
     "execution_count": 71,
     "metadata": {},
     "output_type": "execute_result"
    }
   ],
   "source": [
    "anim_word_idx(37)"
   ]
  },
  {
   "cell_type": "code",
   "execution_count": 34,
   "id": "5ec4d50a-41fd-458c-9a19-2b3b0526ca36",
   "metadata": {},
   "outputs": [
    {
     "data": {
      "text/plain": [
       "tensor(1824)"
      ]
     },
     "execution_count": 34,
     "metadata": {},
     "output_type": "execute_result"
    }
   ],
   "source": [
    "p_candidates[:, 0, 3].argmin()"
   ]
  },
  {
   "cell_type": "code",
   "execution_count": 35,
   "id": "0dff1d5c-cd0d-4c96-b3cd-c052fa38a99f",
   "metadata": {},
   "outputs": [
    {
     "data": {
      "text/plain": [
       "tensor([4.2436e-06, 5.6206e-06, 5.6396e-06, 5.6396e-06, 5.6396e-06, 5.6396e-06,\n",
       "        5.6396e-06, 5.6396e-06, 5.6396e-06, 5.6396e-06, 5.6396e-06, 5.6396e-06,\n",
       "        5.6396e-06, 5.6396e-06], dtype=torch.float64)"
      ]
     },
     "execution_count": 35,
     "metadata": {},
     "output_type": "execute_result"
    }
   ],
   "source": [
    "p_candidates[1824, 0, :]"
   ]
  },
  {
   "cell_type": "code",
   "execution_count": 39,
   "id": "de3077c4-ccc8-48a4-a365-eb5f92ddc385",
   "metadata": {},
   "outputs": [
    {
     "data": {
      "text/plain": [
       "['ɑls']"
      ]
     },
     "execution_count": 39,
     "metadata": {},
     "output_type": "execute_result"
    }
   ],
   "source": [
    "stim.get_candidate_strs(1824, 1)"
   ]
  },
  {
   "cell_type": "code",
   "execution_count": 32,
   "id": "a21de507-01e3-4386-a445-9ff09993bfdf",
   "metadata": {},
   "outputs": [
    {
     "data": {
      "text/plain": [
       "tensor(9.5920e-07, dtype=torch.float64)"
      ]
     },
     "execution_count": 32,
     "metadata": {},
     "output_type": "execute_result"
    }
   ],
   "source": [
    "p_candidates[:, 0, 0].min()"
   ]
  }
 ],
 "metadata": {
  "kernelspec": {
   "display_name": "Python 3 (ipykernel)",
   "language": "python",
   "name": "python3"
  },
  "language_info": {
   "codemirror_mode": {
    "name": "ipython",
    "version": 3
   },
   "file_extension": ".py",
   "mimetype": "text/x-python",
   "name": "python",
   "nbconvert_exporter": "python",
   "pygments_lexer": "ipython3",
   "version": "3.9.13"
  }
 },
 "nbformat": 4,
 "nbformat_minor": 5
}
