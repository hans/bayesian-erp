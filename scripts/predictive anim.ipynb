{
 "cells": [
  {
   "cell_type": "code",
   "execution_count": 5,
   "id": "834487f2-a8dc-41da-94f7-80c79798cd50",
   "metadata": {},
   "outputs": [],
   "source": [
    "from argparse import ArgumentParser, Namespace\n",
    "from collections import Counter\n",
    "import itertools\n",
    "from pathlib import Path\n",
    "import pickle\n",
    "import sys\n",
    "from typing import List, Tuple\n",
    "\n",
    "from matplotlib.animation import FuncAnimation\n",
    "import matplotlib.pyplot as plt\n",
    "import numpy as np\n",
    "import pandas as pd\n",
    "import seaborn as sns\n",
    "import torch\n",
    "from tqdm.auto import tqdm, trange"
   ]
  },
  {
   "cell_type": "code",
   "execution_count": 6,
   "id": "f0b8cc63-6dea-4288-86de-016e67348e5b",
   "metadata": {},
   "outputs": [],
   "source": [
    "sns.set_context(\"talk\")"
   ]
  },
  {
   "cell_type": "code",
   "execution_count": 7,
   "id": "3449004e-eeb0-43fa-b57c-c74158a2d0ad",
   "metadata": {},
   "outputs": [],
   "source": [
    "from IPython.display import HTML"
   ]
  },
  {
   "cell_type": "code",
   "execution_count": 8,
   "id": "ae3b052b-ea4a-4edd-92c7-7f1740ed38d1",
   "metadata": {},
   "outputs": [],
   "source": [
    "%load_ext autoreload\n",
    "%autoreload 2"
   ]
  },
  {
   "cell_type": "code",
   "execution_count": 9,
   "id": "8245862e-e234-4341-a393-24698405b14a",
   "metadata": {},
   "outputs": [],
   "source": [
    "sys.path.append(str(Path(\".\").resolve().parent))\n",
    "import berp.models.reindexing_regression as rr"
   ]
  },
  {
   "cell_type": "code",
   "execution_count": 28,
   "id": "c46458bc-2468-4f8b-ba60-1395c7b61c9f",
   "metadata": {
    "tags": [
     "parameters"
    ]
   },
   "outputs": [],
   "source": [
    "natural_language_stimulus_path = \"../workflow/heilbron2022/data/stimulus/EleutherAI/gpt-neo-2.7B/n10000/old-man-and-the-sea/run1.pkl\"\n",
    "confusion_path = \"../workflow/heilbron2022/data/confusion.npz\"\n",
    "lambda_ = 2.9636077645074517\n",
    "threshold = 0.8091832825245094"
   ]
  },
  {
   "cell_type": "code",
   "execution_count": 29,
   "id": "c8cb02b7-404c-4ce7-811f-4bd7207c6995",
   "metadata": {},
   "outputs": [],
   "source": [
    "with Path(natural_language_stimulus_path).open(\"rb\") as f:\n",
    "    stim = pickle.load(f)\n",
    "confusion = np.load(confusion_path)"
   ]
  },
  {
   "cell_type": "code",
   "execution_count": 30,
   "id": "6b55caec-7a9b-4d2f-9e91-38698f531d4c",
   "metadata": {},
   "outputs": [],
   "source": [
    "assert confusion[\"phonemes\"].tolist() == stim.phonemes"
   ]
  },
  {
   "cell_type": "code",
   "execution_count": 31,
   "id": "00cfdb77-225f-4742-a0ac-46439c3865eb",
   "metadata": {},
   "outputs": [],
   "source": [
    "confusion_matrix = torch.tensor(confusion[\"confusion\"])\n",
    "torch.testing.assert_close(\n",
    "    confusion_matrix.sum(0),\n",
    "    torch.ones(confusion_matrix.shape[1]).to(confusion_matrix))"
   ]
  },
  {
   "cell_type": "code",
   "execution_count": 32,
   "id": "f134744f-2404-4d0e-a732-fe351b93c236",
   "metadata": {},
   "outputs": [],
   "source": [
    "p_candidates = rr.predictive_model(\n",
    "    stim.p_candidates, stim.candidate_phonemes,\n",
    "    confusion=confusion_matrix,\n",
    "    lambda_=torch.tensor(lambda_),\n",
    "    return_gt_only=False)"
   ]
  },
  {
   "cell_type": "code",
   "execution_count": 33,
   "id": "bad0ff94-6df0-4025-b368-b29b423f0b9e",
   "metadata": {},
   "outputs": [
    {
     "data": {
      "application/vnd.jupyter.widget-view+json": {
       "model_id": "f3cda23043584c88b455ce75353f29cb",
       "version_major": 2,
       "version_minor": 0
      },
      "text/plain": [
       "  0%|          | 0/574 [00:00<?, ?it/s]"
      ]
     },
     "metadata": {},
     "output_type": "display_data"
    }
   ],
   "source": [
    "# Nested array. Outer list of words and inner list of phonemes per word.\n",
    "plot_data: List[List[Tuple[str, float]]] = []\n",
    "\n",
    "# Keep top-k candidates from each posterior predictive.\n",
    "k = 10\n",
    "for p_candidates_i, candidate_ids, gt_length in zip(tqdm(p_candidates), stim.candidate_ids.numpy(), stim.word_lengths):\n",
    "    candidate_strs = [stim.candidate_vocabulary[idx] for idx in candidate_ids]\n",
    "    plot_data_i = []\n",
    "    \n",
    "    # First p_candidates_i column corresponds to prior; rest correspond to incremental posteriors\n",
    "    assert p_candidates_i.shape[1] == stim.max_n_phonemes + 1\n",
    "    # Take just the phonemes for which we have ground truth phonemes\n",
    "    p_candidates_i = p_candidates_i[:, :gt_length + 1].T.numpy()\n",
    "    \n",
    "    topk = (-p_candidates_i).argsort(1)[:, :k * 2]\n",
    "    p_candidates_i = np.take_along_axis(p_candidates_i, topk, 1)\n",
    "    gt_str = candidate_strs[0]\n",
    "    \n",
    "    # print(gt_str, p_candidates_i.shape, topk.shape)\n",
    "\n",
    "    for t, (p_candidates_t, candidates_t) in enumerate(zip(p_candidates_i, topk)):\n",
    "        # Merge candidates with same form.\n",
    "        # HACK\n",
    "        weights = Counter()\n",
    "        # print([candidate_strs[idx] for idx in candidates_t])\n",
    "        for p, idx in zip(p_candidates_t, candidates_t):\n",
    "            weights[candidate_strs[idx]] += p\n",
    "        \n",
    "        plot_data_i.append((gt_str[:t], list(weights.most_common(k))))\n",
    "        \n",
    "    plot_data.append(plot_data_i)\n",
    "    # break"
   ]
  },
  {
   "cell_type": "code",
   "execution_count": 16,
   "id": "f8112ca6-fab8-4cdd-ad0c-dbcf26e98312",
   "metadata": {},
   "outputs": [],
   "source": [
    "def to_gt_words(word_ids):\n",
    "    return [\"\".join(stim.get_candidate_strs(idx, top_k=1)[0])\n",
    "            for idx in word_ids]"
   ]
  },
  {
   "cell_type": "code",
   "execution_count": 17,
   "id": "bca2af38-369b-4428-aa5e-def8659dabd5",
   "metadata": {},
   "outputs": [],
   "source": [
    "class PredictiveAnimation:\n",
    "    \n",
    "    def __init__(self, plot_data, k=3, threshold=0.7, save_all=None):\n",
    "        self.plot_data = plot_data\n",
    "        # Mapping between frame index and plot_data nested index.\n",
    "        self.plot_idxs_flat = [(i, j) for i in range(len(plot_data)) for j in range(len(plot_data[i]))]\n",
    "\n",
    "        self.k = k\n",
    "        self.threshold = threshold\n",
    "        self.save_all = save_all\n",
    "        \n",
    "    def _prepare_figure(self):\n",
    "        self.fig, self.ax = plt.subplots(dpi=200)\n",
    "\n",
    "        self.ax.set_xlim((0, 1))\n",
    "        self.ax.set_xlabel(\"Evidence for word\")\n",
    "        self.ax.set_ylabel(\"Word\")\n",
    "\n",
    "        self.bar = self.ax.barh([str(i) * 7 for i in range(self.k)], [0] * self.k)\n",
    "        self.threshold_line = self.ax.axvline(self.threshold, color=\"gray\", linestyle=\"--\")\n",
    "        self.prev_label = self.ax.annotate(\"\", (0.49, 1.05), xycoords=\"axes fraction\", ha=\"right\")\n",
    "        self.incremental_label = self.ax.annotate(\"abc\", (0.5, 1.05), xycoords=\"axes fraction\")\n",
    "        self.prev_incremental_text = [None]\n",
    "        self.acc_text = []\n",
    "        \n",
    "        plt.tight_layout()\n",
    "        \n",
    "    def get_first_frame_for_word_idx(self, word_idx):\n",
    "        return next(i for i, (word_idx_i, _) in enumerate(self.plot_idxs_flat) if word_idx_i == word_idx)\n",
    "        \n",
    "    def animate(self, i):\n",
    "        token_idx, incremental_idx = self.plot_idxs_flat[i]\n",
    "        incremental_text, incremental_dist = self.plot_data[token_idx][incremental_idx]\n",
    "        incremental_text = \"\".join(incremental_text)\n",
    "        print(incremental_text)\n",
    "        print(incremental_dist)\n",
    "\n",
    "        xticklabels = self.ax.get_xticklabels()\n",
    "        artists = list(self.bar) + xticklabels\n",
    "\n",
    "        for j, ((option_j, p_j), bar_j, label_j) in enumerate(zip(incremental_dist, self.bar, xticklabels)):\n",
    "            bar_j.set_width(p_j)\n",
    "\n",
    "            # Doesn't work .. do it differently below\n",
    "            # label_j.set_text(option_j)\n",
    "\n",
    "        self.ax.set_yticklabels([\"\".join(option_j) for option_j, _ in incremental_dist])\n",
    "        self.ax.tick_params(\"y\", width=10)\n",
    "\n",
    "        if self.prev_incremental_text[0] is not None and not incremental_text.startswith(self.prev_incremental_text[0]):\n",
    "            print(\"----\", self.prev_incremental_text)\n",
    "            self.acc_text.append(self.prev_incremental_text[0])\n",
    "            self.prev_label.set_text(\" \".join(self.acc_text))\n",
    "            artists.append(self.prev_label)\n",
    "\n",
    "        self.incremental_label.set_text(incremental_text)\n",
    "        artists.append(self.incremental_label)\n",
    "        self.prev_incremental_text[0] = incremental_text\n",
    "        \n",
    "        if self.save_all is not None:\n",
    "            plt.savefig(f\"{self.save_all}.{i}.pdf\")\n",
    "\n",
    "        return artists\n",
    "    \n",
    "    def plot(self, start_frame=None, n_frames=100, **kwargs):\n",
    "        plt.ioff()\n",
    "        if start_frame is None: start_frame = 0\n",
    "        \n",
    "        default_kwargs = dict(blit=True, repeat=True, interval=750)\n",
    "        default_kwargs.update(kwargs)\n",
    "        \n",
    "        self._prepare_figure()\n",
    "        anim = FuncAnimation(self.fig, self.animate, frames=list(range(start_frame, start_frame + n_frames)),\n",
    "                             **default_kwargs)\n",
    "        return anim\n",
    "    \n",
    "    def plot_for_word(self, word_idx=None, num_prior_frames=0, **kwargs):\n",
    "        start_frame = self.get_first_frame_for_word_idx(word_idx)\n",
    "        start_frame = max(0, start_frame - num_prior_frames)\n",
    "        return self.plot(start_frame, n_frames=stim.word_lengths[word_idx].item() + num_prior_frames + 1,\n",
    "                         **kwargs)"
   ]
  },
  {
   "cell_type": "code",
   "execution_count": 18,
   "id": "2dc35fc3-d2b5-4944-a096-9f1d9aa62835",
   "metadata": {},
   "outputs": [],
   "source": [
    "# anim = PredictiveAnimation(plot_data).plot(n_frames=1, start_frame=1)\n",
    "# # HTML(anim.to_html5_video())\n",
    "# anim.save(\"test.mp4\", dpi=200)"
   ]
  },
  {
   "cell_type": "markdown",
   "id": "b540ac2e-b6f1-4b18-bbc6-4596932772a6",
   "metadata": {},
   "source": [
    "## Selective plots"
   ]
  },
  {
   "cell_type": "code",
   "execution_count": 20,
   "id": "e13c8549-24c3-4897-8885-ed10a3bd33e6",
   "metadata": {},
   "outputs": [],
   "source": [
    "!mkdir animations"
   ]
  },
  {
   "cell_type": "code",
   "execution_count": 34,
   "id": "abb6b750-89fb-407e-9a58-84e6cd309bbf",
   "metadata": {},
   "outputs": [
    {
     "name": "stdout",
     "output_type": "stream",
     "text": [
      "\n",
      "[(('w', 'i', 'l'), 0.42574870586395264), (('ʌ',), 0.324208527803421), (('g', 'oʊ'), 0.1473640650510788), (('aɪ',), 0.0741746723651886), (('j', 'u'), 0.014107891358435154), (('t', 'ɛɪ', 'k'), 0.004924137610942125), (('s', 'ʌ', 'm'), 0.0022657027002424), (('k', 'ʌ', 'm'), 0.0018161664484068751), (('ʌ', 'n', 'ʌ', 'ð', 'ɚ'), 0.0010319072753190994), (('m', 'ɛɪ', 'b', 'i'), 0.0008873871411196887)]\n",
      "\n",
      "[(('w', 'i', 'l'), 0.42574870586395264), (('ʌ',), 0.324208527803421), (('g', 'oʊ'), 0.1473640650510788), (('aɪ',), 0.0741746723651886), (('j', 'u'), 0.014107891358435154), (('t', 'ɛɪ', 'k'), 0.004924137610942125), (('s', 'ʌ', 'm'), 0.0022657027002424), (('k', 'ʌ', 'm'), 0.0018161664484068751), (('ʌ', 'n', 'ʌ', 'ð', 'ɚ'), 0.0010319072753190994), (('m', 'ɛɪ', 'b', 'i'), 0.0008873871411196887)]\n",
      "\n",
      "[(('w', 'i', 'l'), 0.42574870586395264), (('ʌ',), 0.324208527803421), (('g', 'oʊ'), 0.1473640650510788), (('aɪ',), 0.0741746723651886), (('j', 'u'), 0.014107891358435154), (('t', 'ɛɪ', 'k'), 0.004924137610942125), (('s', 'ʌ', 'm'), 0.0022657027002424), (('k', 'ʌ', 'm'), 0.0018161664484068751), (('ʌ', 'n', 'ʌ', 'ð', 'ɚ'), 0.0010319072753190994), (('m', 'ɛɪ', 'b', 'i'), 0.0008873871411196887)]\n"
     ]
    },
    {
     "name": "stderr",
     "output_type": "stream",
     "text": [
      "/tmp/ipykernel_115420/2271508026.py:47: UserWarning: FixedFormatter should only be used together with FixedLocator\n",
      "  self.ax.set_yticklabels([\"\".join(option_j) for option_j, _ in incremental_dist])\n",
      "/tmp/ipykernel_115420/2271508026.py:47: UserWarning: FixedFormatter should only be used together with FixedLocator\n",
      "  self.ax.set_yticklabels([\"\".join(option_j) for option_j, _ in incremental_dist])\n",
      "/tmp/ipykernel_115420/2271508026.py:47: UserWarning: FixedFormatter should only be used together with FixedLocator\n",
      "  self.ax.set_yticklabels([\"\".join(option_j) for option_j, _ in incremental_dist])\n"
     ]
    },
    {
     "name": "stdout",
     "output_type": "stream",
     "text": [
      "w\n",
      "[(('w', 'i', 'l'), 0.8524951338768005), (('ʌ',), 0.07411392778158188), (('g', 'oʊ'), 0.04256400465965271), (('aɪ',), 0.016956297680735588), (('j', 'u'), 0.009151800535619259), (('t', 'ɛɪ', 'k'), 0.001125655835494399), (('w', 'ɔ', 'k'), 0.0009761854889802635), (('s', 'ʌ', 'm'), 0.0005179386353120208), (('m', 'ɛɪ', 'b', 'i'), 0.0004942223895341158), (('k', 'ʌ', 'm'), 0.00041517484351061285)]\n",
      "wi\n",
      "[(('w', 'i', 'l'), 0.9726270437240601), (('ʌ',), 0.01707884669303894), (('aɪ',), 0.003907416947185993), (('g', 'oʊ'), 0.0038485664408653975), (('j', 'u'), 0.0019138467032462358), (('t', 'ɛɪ', 'k'), 0.00014745366934221238), (('w', 'ɔ', 'k'), 8.826501289149746e-05), (('m', 'ɛɪ', 'b', 'i'), 6.473996472777799e-05), (('s', 'ʌ', 'm'), 4.683117367676459e-05), (('h', 'ɛ', 'l', 'p'), 4.3093630665680394e-05)]\n"
     ]
    },
    {
     "name": "stderr",
     "output_type": "stream",
     "text": [
      "/tmp/ipykernel_115420/2271508026.py:47: UserWarning: FixedFormatter should only be used together with FixedLocator\n",
      "  self.ax.set_yticklabels([\"\".join(option_j) for option_j, _ in incremental_dist])\n",
      "/tmp/ipykernel_115420/2271508026.py:47: UserWarning: FixedFormatter should only be used together with FixedLocator\n",
      "  self.ax.set_yticklabels([\"\".join(option_j) for option_j, _ in incremental_dist])\n"
     ]
    },
    {
     "name": "stdout",
     "output_type": "stream",
     "text": [
      "wil\n",
      "[(('w', 'i', 'l'), 0.993059515953064), (('ʌ',), 0.004318417515605688), (('aɪ',), 0.0009879975114017725), (('g', 'oʊ'), 0.0009731180034577847), (('j', 'u'), 0.0004839205648750067), (('h', 'ɛ', 'l', 'p'), 4.3998967157676816e-05), (('t', 'ɛɪ', 'k'), 2.2038781025912613e-05), (('s', 'ʌ', 'm'), 1.5598801837768406e-05), (('m', 'ɛɪ', 'b', 'i'), 1.4402146007341798e-05), (('w', 'ɔ', 'k'), 1.3192302503739484e-05)]\n"
     ]
    },
    {
     "name": "stderr",
     "output_type": "stream",
     "text": [
      "/tmp/ipykernel_115420/2271508026.py:47: UserWarning: FixedFormatter should only be used together with FixedLocator\n",
      "  self.ax.set_yticklabels([\"\".join(option_j) for option_j, _ in incremental_dist])\n"
     ]
    }
   ],
   "source": [
    "word_id = 396\n",
    "name = f\"animations/1.{word_id}\"\n",
    "anim = PredictiveAnimation(plot_data, k=5, threshold=threshold, save_all=name).plot_for_word(word_id, num_prior_frames=0, interval=1000)\n",
    "anim.save(f\"{name}.gif\", dpi=200)\n",
    "# plt.close()"
   ]
  },
  {
   "cell_type": "markdown",
   "id": "a0fb4db8-401e-4ecd-a253-ca20d9ae8275",
   "metadata": {},
   "source": [
    "### MAP due to high-prior"
   ]
  },
  {
   "cell_type": "code",
   "execution_count": 17,
   "id": "834e2055-9504-4333-842a-03245d53a43f",
   "metadata": {},
   "outputs": [],
   "source": [
    "high_prior_words = [(i, word_dat[-1][0], word_dat)\n",
    "                    for i, word_dat in enumerate(plot_data)\n",
    "                    if word_dat[0][1][0][0] == word_dat[-1][0]\n",
    "                    # exclude words which are high prior for uninteresting reasons (because the prior space is not big enough .. need top-p sampling)\n",
    "                    and len(word_dat[-1][0]) < 5]"
   ]
  },
  {
   "cell_type": "code",
   "execution_count": 21,
   "id": "e6c22789-401c-4338-b30e-4a9e658d81c4",
   "metadata": {},
   "outputs": [
    {
     "data": {
      "text/plain": [
       "(3,\n",
       " ('m', 'æ', 'n'),\n",
       " [((),\n",
       "   [(('m', 'æ', 'n'), 0.4217202663421631),\n",
       "    (('f', 'ɹ', 'ɛ', 'n', 'd'), 0.06591551005840302),\n",
       "    (('l', 'ɛɪ', 'd', 'i'), 0.051039230078458786),\n",
       "    (('g', 'aɪ'), 0.043623536825180054),\n",
       "    (('w', 'ʊ', 'm', 'ʌ', 'n'), 0.033722903579473495),\n",
       "    (('s', 'k', 'u', 'l'), 0.029956839978694916),\n",
       "    (('b', 'ɔɪ'), 0.020579513162374496),\n",
       "    (('dʒ', 'ɛ', 'n', 't', 'ʌ', 'l', 'm', 'ʌ', 'n'), 0.013390779495239258),\n",
       "    (('ʌ', 'n', 'd'), 0.007232083007693291),\n",
       "    (('ʌ', 'k', 'w', 'ɛɪ', 'n', 't', 'ʌ', 'n', 's'), 0.006683813873678446)]),\n",
       "  (('m',),\n",
       "   [(('m', 'æ', 'n'), 0.9481782205402851),\n",
       "    (('m', 'ʌ', 'ð', 'ɚ'), 0.005373214837163687),\n",
       "    (('m', 'ɛ', 'm', 'b', 'ɚ'), 0.003540197154507041),\n",
       "    (('l', 'ɛɪ', 'd', 'i'), 0.0030101430602371693),\n",
       "    (('m', 'ɑ', 'm'), 0.0015233983285725117),\n",
       "    (('m', 'æ', 'n', 'ʌ', 'dʒ', 'ɚ'), 0.0014964542351663113),\n",
       "    (('m', 'aɪ', 'n', 'ɚ'), 0.001482674852013588),\n",
       "    (('m', 'ɑ', 'd', 'ʌ', 'l'), 0.0014688374940305948),\n",
       "    (('m', 'ɛɪ', 'd'), 0.001383719383738935),\n",
       "    (('m', 'u', 'v', 'i'), 0.0012900683796033263)]),\n",
       "  (('m', 'æ'),\n",
       "   [(('m', 'æ', 'n'), 0.9948520541656762),\n",
       "    (('m', 'æ', 'n', 'ʌ', 'dʒ', 'ɚ'), 0.001570116844959557),\n",
       "    (('m', 'æ', 's', 't', 'ɚ'), 0.001195466029457748),\n",
       "    (('m', 'ɛ', 'm', 'b', 'ɚ'), 0.00032024976098909974),\n",
       "    (('m', 'æ', 'd'), 0.00031613712781108916),\n",
       "    (('m', 'æ', 't'), 0.00030970212537795305),\n",
       "    (('m', 'æ', 'θ'), 0.0002175538393203169),\n",
       "    (('l', 'ɛɪ', 'd', 'i'), 0.0001593051856616512),\n",
       "    (('m', 'ɛ', 'n'), 0.00010850695980479941),\n",
       "    (('m', 'ɛɪ', 'd'), 7.323025783989578e-05)]),\n",
       "  (('m', 'æ', 'n'),\n",
       "   [(('m', 'æ', 'n'), 0.9981247396208346),\n",
       "    (('m', 'æ', 'n', 'ʌ', 'dʒ', 'ɚ'), 0.0015752818435430527),\n",
       "    (('m', 'ɛ', 'n'), 0.00010886395466513932),\n",
       "    (('m', 'ɛ', 'n', 't', 'ɔ', 'ɹ'), 4.357729631010443e-05),\n",
       "    (('m', 'ɛ', 'm', 'b', 'ɚ'), 3.18850543408189e-05),\n",
       "    (('b', 'æ', 'n', 'd'), 2.376525299041532e-05),\n",
       "    (('f', 'æ', 'n'), 2.2088870537118055e-05),\n",
       "    (('l', 'æ', 'n', 'd', 'l', 'ɔ', 'ɹ', 'd'), 1.3640171346196439e-05),\n",
       "    (('m', 'æ', 'd'), 7.26359667169163e-06),\n",
       "    (('v', 'æ', 'n'), 6.047001988918055e-06)])])"
      ]
     },
     "execution_count": 21,
     "metadata": {},
     "output_type": "execute_result"
    }
   ],
   "source": [
    "sorted(high_prior_words, key=lambda x: -len(x[1]))[2]"
   ]
  },
  {
   "cell_type": "code",
   "execution_count": 22,
   "id": "7153fc8e-667e-41cd-9a7e-6c18f248c632",
   "metadata": {},
   "outputs": [
    {
     "name": "stdout",
     "output_type": "stream",
     "text": [
      "\n",
      "[(('ð', 'ʌ'), 0.0852500144392252), (('ʌ',), 0.03402941208332777), (('aɪ',), 0.027632102370262146), (('ɪ', 't'), 0.01590776862576604), (('ð', 'ɪ', 's'), 0.015373277477920055), (('ɛ', 's'), 0.00927803386002779), (('ɪ', 'n'), 0.008502335287630558), (('w', 'i'), 0.008139224722981453), (('dʒ', 'i'), 0.007861110381782055), (('d', 'i'), 0.00779521930962801)]\n",
      "\n",
      "[(('ð', 'ʌ'), 0.0852500144392252), (('ʌ',), 0.03402941208332777), (('aɪ',), 0.027632102370262146), (('ɪ', 't'), 0.01590776862576604), (('ð', 'ɪ', 's'), 0.015373277477920055), (('ɛ', 's'), 0.00927803386002779), (('ɪ', 'n'), 0.008502335287630558), (('w', 'i'), 0.008139224722981453), (('dʒ', 'i'), 0.007861110381782055), (('d', 'i'), 0.00779521930962801)]\n",
      "\n",
      "[(('ð', 'ʌ'), 0.0852500144392252), (('ʌ',), 0.03402941208332777), (('aɪ',), 0.027632102370262146), (('ɪ', 't'), 0.01590776862576604), (('ð', 'ɪ', 's'), 0.015373277477920055), (('ɛ', 's'), 0.00927803386002779), (('ɪ', 'n'), 0.008502335287630558), (('w', 'i'), 0.008139224722981453), (('dʒ', 'i'), 0.007861110381782055), (('d', 'i'), 0.00779521930962801)]\n",
      "w\n",
      "[(('w', 'i'), 0.1796080507338047), (('w', 'ɛ', 'n'), 0.08992338925600052), (('w', 'ɪ', 'θ'), 0.07762743532657623), (('w', 'ʌ', 't'), 0.0761676374822855), (('w', 'ʌ', 'n'), 0.06388868764042854), (('w', 'aɪ'), 0.062180422246456146), (('w', 'ʌ', 'z'), 0.030637424439191818), (('w', 'aɪ', 'l'), 0.02580820769071579), (('w', 'ɛ', 'l'), 0.015921398997306824), (('w', 'ɑ', 'tʃ'), 0.015686525031924248)]\n",
      "wʌ\n",
      "[(('w', 'ʌ', 't'), 0.3327135518193245), (('w', 'ʌ', 'n'), 0.3144156225025654), (('w', 'ʌ', 'z'), 0.204525426030159), (('w', 'ʌ', 'n', 's'), 0.06308282166719437), (('w', 'ɑ', 'tʃ'), 0.011022795923054218), (('w', 'ɔ', 'ɹ'), 0.010463699698448181), (('w', 'ɛ', 'n'), 0.008809925289824605), (('ð', 'ʌ'), 0.008606348186731339), (('b', 'ʌ', 't'), 0.0067075565457344055), (('w', 'ɔ', 't', 'ɚ'), 0.004479467868804932)]\n"
     ]
    },
    {
     "name": "stderr",
     "output_type": "stream",
     "text": [
      "/tmp/ipykernel_108558/265530627.py:46: UserWarning: FixedFormatter should only be used together with FixedLocator\n",
      "  self.ax.set_yticklabels([\"\".join(option_i) for option_i, _ in incremental_dist])\n",
      "/tmp/ipykernel_108558/265530627.py:46: UserWarning: FixedFormatter should only be used together with FixedLocator\n",
      "  self.ax.set_yticklabels([\"\".join(option_i) for option_i, _ in incremental_dist])\n"
     ]
    },
    {
     "name": "stdout",
     "output_type": "stream",
     "text": [
      "wʌz\n",
      "[(('w', 'ʌ', 'z'), 0.9609295725822449), (('w', 'ʌ', 'n'), 0.022430835524573922), (('w', 'ʌ', 't'), 0.006781782256439328), (('w', 'ʌ', 'n', 's'), 0.004500413779169321), (('w', 'ɛ', 'n'), 0.0006285113922785968), (('ð', 'ʌ'), 0.0005701320769730955), (('w', 'ɛ', 'ð', 'ɚ'), 0.00043271741014905274), (('w', 'ɛ', 's', 't'), 0.000376115640392527), (('w', 'ɔ', 'ɹ'), 0.00031992627191357315), (('d', 'ʌ', 'z'), 0.00027577526634559035)]\n",
      "\n",
      "[(('ʌ',), 0.07272014021873474), (('ɪ', 'n'), 0.04130559414625168), (('ð', 'ʌ'), 0.04056883603334427), (('dʒ', 'ʌ', 's', 't'), 0.027373705059289932), (('v', 'ɛ', 'ɹ', 'i'), 0.020236529409885406), (('ɑ', 'n'), 0.020017100498080254), (('n', 'ɑ', 't'), 0.018870579078793526), (('b', 'ɔ', 'ɹ', 'n'), 0.01646537147462368), (('w', 'ʌ', 'n'), 0.014444197528064251), (('g', 'oʊ', 'ɪ', 'ŋ'), 0.014190247282385826)]\n",
      "---- ['wʌz']\n",
      "ʌ\n",
      "[(('ʌ',), 0.5425959825515747), (('ʌ', 'n'), 0.09217236936092377), (('ʌ', 'b', 'aʊ', 't'), 0.04265241324901581), (('ɑ', 'n'), 0.024026352912187576), (('ʌ', 'p'), 0.0148366279900074), (('ʌ', 't', 'æ', 'k', 't'), 0.013690057210624218), (('ɔ', 'l', 's', 'oʊ'), 0.012311344966292381), (('ʌ', 'n', 'd', 'ɚ'), 0.011162512935698032), (('ʌ', 'p', 's', 'ɛ', 't'), 0.011157660745084286), (('ɔ', 'l', 'w', 'ɛɪ', 'z'), 0.010580859147012234)]\n",
      "ʌn\n",
      "[(('ʌ', 'n'), 0.5643188394606113), (('ɑ', 'n'), 0.14004462957382202), (('ʌ', 'n', 'd', 'ɚ'), 0.0650639757514), (('ʌ', 'n', 'ɛɪ', 'b', 'ʌ', 'l'), 0.05724772438406944), (('ʌ', 'n', 'd'), 0.022968553006649017), (('ʌ', 'n', 'ʌ', 'w', 'ɛ', 'ɹ'), 0.022873423993587494), (('ʌ', 'n', 'h', 'æ', 'p', 'i'), 0.0170460045337677), (('ʌ',), 0.016095058992505074), (('ʌ', 'n', 'ʌ', 'ð', 'ɚ'), 0.01578628085553646), (('ʌ', 'n', 'aʊ', 'n', 's', 't'), 0.012688311748206615)]\n",
      "\n",
      "[(('ʌ', 'm', 'ɛ', 'ɹ', 'ɪ', 'k', 'ʌ', 'n'), 0.03125331550836563), (('ʌ', 's', 'ɪ', 's', 't', 'ʌ', 'n', 't'), 0.022997058928012848), (('oʊ', 'l', 'd'), 0.020822850987315178), (('ʌ', 'm', 'ɛɪ', 'z', 'ɪ', 'ŋ'), 0.02056322805583477), (('æ', 'v', 'ɪ', 'd'), 0.018775595352053642), (('ɚ', 'l', 'i'), 0.017046336084604263), (('ɛ', 'k', 's', 'ʌ', 'l', 'ʌ', 'n', 't'), 0.012825105339288712), (('ɪ', 'm', 'p', 'ɔ', 'ɹ', 't', 'ʌ', 'n', 't'), 0.010964538902044296), (('ɑ', 'ɹ', 't', 'ɪ', 's', 't'), 0.01001571211963892), (('æ', 'm', 'ʌ', 'tʃ', 'ɚ'), 0.009934699162840843)]\n",
      "---- ['ʌn']\n",
      "oʊ\n",
      "[(('oʊ', 'l', 'd'), 0.46511165611445904), (('oʊ', 'p', 'ʌ', 'n'), 0.09057983756065369), (('oʊ', 'l', 'd', 'ɚ'), 0.08199611306190491), (('oʊ', 'l', 'ɪ', 'm', 'p', 'ɪ', 'k'), 0.035430192947387695), (('oʊ',), 0.03060835227370262), (('oʊ', 'n', 'ɚ'), 0.029026580974459648), (('oʊ', 'v', 'ɚ'), 0.02075330726802349), (('oʊ', 'h', 'aɪ', 'oʊ'), 0.016596045345067978), (('oʊ', 'v', 'ɚ', 'n', 'aɪ', 't'), 0.016117561608552933), (('oʊ', 'p', 'ʌ', 'n', 'l', 'i'), 0.015992987900972366)]\n",
      "oʊl\n",
      "[(('oʊ', 'l', 'd'), 0.7836031261831522), (('oʊ', 'l', 'd', 'ɚ'), 0.13814406096935272), (('oʊ', 'l', 'ɪ', 'm', 'p', 'ɪ', 'k'), 0.05969148874282837), (('ɔ', 'l'), 0.004776141722686589), (('ɚ', 'l', 'i'), 0.0010511022992432117), (('oʊ', 'v', 'ɚ'), 0.0009704165859147906), (('ɔ', 'l', 'm', 'oʊ', 's', 't'), 0.0009445844334550202), (('oʊ',), 0.0008240448660217226), (('oʊ', 'n', 'ɚ'), 0.0007814601412974298), (('oʊ', 'v', 'ɚ', 'n', 'aɪ', 't'), 0.0007536509074270725)]\n",
      "oʊld\n",
      "[(('oʊ', 'l', 'd'), 0.8497554641216993), (('oʊ', 'l', 'd', 'ɚ'), 0.14980627596378326), (('ɔ', 'l'), 8.371794865524862e-05), (('oʊ', 'l', 'ɪ', 'm', 'p', 'ɪ', 'k'), 6.975286669330671e-05), (('ɔ', 'ɹ', 'd', 'ʌ', 'n', 'ɛ', 'ɹ', 'i'), 2.9914426704635844e-05), (('ɛ', 'l', 'd', 'ɚ', 'l', 'i'), 2.941799903055653e-05), (('ɛ', 'l', 'd', 'ɚ'), 2.458144081174396e-05), (('u', 'n', 'd', 'f', 't', 'd'), 1.9772756786551327e-05), (('ɔ', 'l', 't', 'ɚ'), 1.613309905224014e-05), (('oʊ',), 1.4444157841353444e-05)]\n",
      "\n",
      "[(('m', 'æ', 'n'), 0.4217202663421631), (('f', 'ɹ', 'ɛ', 'n', 'd'), 0.06591551005840302), (('l', 'ɛɪ', 'd', 'i'), 0.051039230078458786), (('g', 'aɪ'), 0.043623536825180054), (('w', 'ʊ', 'm', 'ʌ', 'n'), 0.033722903579473495), (('s', 'k', 'u', 'l'), 0.029956839978694916), (('b', 'ɔɪ'), 0.020579513162374496), (('dʒ', 'ɛ', 'n', 't', 'ʌ', 'l', 'm', 'ʌ', 'n'), 0.013390779495239258), (('ʌ', 'n', 'd'), 0.007232083007693291), (('ʌ', 'k', 'w', 'ɛɪ', 'n', 't', 'ʌ', 'n', 's'), 0.006683813873678446)]\n",
      "---- ['oʊld']\n",
      "m\n",
      "[(('m', 'æ', 'n'), 0.9481782205402851), (('m', 'ʌ', 'ð', 'ɚ'), 0.005373214837163687), (('m', 'ɛ', 'm', 'b', 'ɚ'), 0.003540197154507041), (('l', 'ɛɪ', 'd', 'i'), 0.0030101430602371693), (('m', 'ɑ', 'm'), 0.0015233983285725117), (('m', 'æ', 'n', 'ʌ', 'dʒ', 'ɚ'), 0.0014964542351663113), (('m', 'aɪ', 'n', 'ɚ'), 0.001482674852013588), (('m', 'ɑ', 'd', 'ʌ', 'l'), 0.0014688374940305948), (('m', 'ɛɪ', 'd'), 0.001383719383738935), (('m', 'u', 'v', 'i'), 0.0012900683796033263)]\n",
      "mæ\n",
      "[(('m', 'æ', 'n'), 0.9948520541656762), (('m', 'æ', 'n', 'ʌ', 'dʒ', 'ɚ'), 0.001570116844959557), (('m', 'æ', 's', 't', 'ɚ'), 0.001195466029457748), (('m', 'ɛ', 'm', 'b', 'ɚ'), 0.00032024976098909974), (('m', 'æ', 'd'), 0.00031613712781108916), (('m', 'æ', 't'), 0.00030970212537795305), (('m', 'æ', 'θ'), 0.0002175538393203169), (('l', 'ɛɪ', 'd', 'i'), 0.0001593051856616512), (('m', 'ɛ', 'n'), 0.00010850695980479941), (('m', 'ɛɪ', 'd'), 7.323025783989578e-05)]\n",
      "mæn\n",
      "[(('m', 'æ', 'n'), 0.9981247396208346), (('m', 'æ', 'n', 'ʌ', 'dʒ', 'ɚ'), 0.0015752818435430527), (('m', 'ɛ', 'n'), 0.00010886395466513932), (('m', 'ɛ', 'n', 't', 'ɔ', 'ɹ'), 4.357729631010443e-05), (('m', 'ɛ', 'm', 'b', 'ɚ'), 3.18850543408189e-05), (('b', 'æ', 'n', 'd'), 2.376525299041532e-05), (('f', 'æ', 'n'), 2.2088870537118055e-05), (('l', 'æ', 'n', 'd', 'l', 'ɔ', 'ɹ', 'd'), 1.3640171346196439e-05), (('m', 'æ', 'd'), 7.26359667169163e-06), (('v', 'æ', 'n'), 6.047001988918055e-06)]\n",
      "\n",
      "[(('h', 'u'), 0.294150173664093), (('ʌ', 'n', 'd'), 0.24325516819953918), (('ɪ', 'n'), 0.08009381592273712), (('w', 'ɪ', 'θ'), 0.06715385615825653), (('ð', 'æ', 't'), 0.02695024013519287), (('f', 'ɹ', 'ʌ', 'm'), 0.025044510141015053), (('ʌ', 'v'), 0.023307478055357933), (('w', 'ɛ', 'n'), 0.018049754202365875), (('b', 'ʌ', 't'), 0.01678825542330742), (('æ', 't'), 0.015745438635349274)]\n",
      "---- ['mæn']\n",
      "h\n",
      "[(('h', 'u'), 0.9098458290100098), (('h', 'u', 'z'), 0.020482100546360016), (('f', 'ɹ', 'ʌ', 'm'), 0.007601805031299591), (('h', 'i'), 0.007446761708706617), (('w', 'ɪ', 'θ'), 0.007279760669916868), (('h', 'u', 'm'), 0.004852155689150095), (('b', 'ʌ', 't'), 0.004367802292108536), (('h', 'i', 'ɹ'), 0.003565506311133504), (('f', 'ɚ'), 0.002635735087096691), (('ð', 'æ', 't'), 0.002337214769795537)]\n"
     ]
    }
   ],
   "source": [
    "# Plot up through the next word\n",
    "anim = PredictiveAnimation(plot_data, k=5, threshold=threshold).plot_for_word(3, num_prior_frames=13, interval=1000)\n",
    "anim.save(\"high_prior.gif\", dpi=200)\n",
    "plt.close()"
   ]
  },
  {
   "cell_type": "markdown",
   "id": "4028042f-2cc8-4b17-8dd2-02adc21c3b71",
   "metadata": {},
   "source": [
    "### Low-prior but high posterior"
   ]
  },
  {
   "cell_type": "code",
   "execution_count": 23,
   "id": "18919d75-b51d-4e2f-86ed-b3505af771a2",
   "metadata": {},
   "outputs": [
    {
     "data": {
      "application/vnd.jupyter.widget-view+json": {
       "model_id": "a9f74f965e1743fb84b439199154d0b5",
       "version_major": 2,
       "version_minor": 0
      },
      "text/plain": [
       "  0%|          | 0/574 [00:00<?, ?it/s]"
      ]
     },
     "metadata": {},
     "output_type": "display_data"
    }
   ],
   "source": [
    "not_in_top_k_for_n = 3\n",
    "low_prior_high_post_words = [\n",
    "    (i, word_dat[-1][0], word_dat)\n",
    "     for i, word_dat in enumerate(tqdm(plot_data))\n",
    "     if len(word_dat) >= 3\n",
    "     # not in top K for first two phonemes\n",
    "     and not any(opt_name == word_dat[-1][0] for opt_name, _ in itertools.chain.from_iterable(word_dat[j][1] for j in range(not_in_top_k_for_n)))\n",
    "     and any(opt_name == word_dat[-1][0] for opt_name, _ in word_dat[not_in_top_k_for_n][1])\n",
    "     # exclude words which are high prior for uninteresting reasons (because the prior space is not big enough .. need top-p sampling)\n",
    "     # and len(word_dat[-1][0]) < 5\n",
    "]"
   ]
  },
  {
   "cell_type": "code",
   "execution_count": 24,
   "id": "d9d8ae97-65dd-43a4-947f-0bf2113c2ae3",
   "metadata": {},
   "outputs": [
    {
     "data": {
      "text/plain": [
       "16"
      ]
     },
     "execution_count": 24,
     "metadata": {},
     "output_type": "execute_result"
    }
   ],
   "source": [
    "len(low_prior_high_post_words)"
   ]
  },
  {
   "cell_type": "code",
   "execution_count": 30,
   "id": "51659441-15a1-43d4-ad16-b70ebc18b9f0",
   "metadata": {},
   "outputs": [
    {
     "data": {
      "text/plain": [
       "(134,\n",
       " ('p', 'æ', 'tʃ', 't'),\n",
       " [((),\n",
       "   [(('ʌ',), 0.05641583725810051),\n",
       "    (('s', 'oʊ'), 0.05489831790328026),\n",
       "    (('n', 'ɑ', 't'), 0.046705830842256546),\n",
       "    (('ð', 'ʌ'), 0.030566466972231865),\n",
       "    (('ɔ', 'l', 'w', 'ɛɪ', 'z'), 0.02890135534107685),\n",
       "    (('t', 'u'), 0.02587797213345766),\n",
       "    (('m', 'ɛɪ', 'd'), 0.01811293326318264),\n",
       "    (('v', 'ɛ', 'ɹ', 'i'), 0.016279121860861778),\n",
       "    (('ɪ', 'n'), 0.01607707142829895),\n",
       "    (('f', 'ʊ', 'l'), 0.015482651069760323)]),\n",
       "  (('p',),\n",
       "   [(('p', 'ʊ', 'l', 'd'), 0.06827444583177567),\n",
       "    (('t', 'u'), 0.038045672699809074),\n",
       "    (('p', 'ʊ', 't'), 0.030255716294050217),\n",
       "    (('k', 'æ', 'ɹ', 'i', 'd'), 0.029049573466181755),\n",
       "    (('k', 'ɔ', 'l', 'd'), 0.02794480137526989),\n",
       "    (('p', 'ɪ', 'k', 't'), 0.02537950873374939),\n",
       "    (('f', 'ʊ', 'l'), 0.023123836144804955),\n",
       "    (('p', 'ɹ', 'ɑ', 'b', 'ʌ', 'b', 'l', 'i'), 0.022180015221238136),\n",
       "    (('h', 'ɪ', 'z'), 0.020394008606672287),\n",
       "    (('p', 'ɹ', 'ɪ', 't', 'i'), 0.019156871363520622)]),\n",
       "  (('p', 'æ'),\n",
       "   [(('k', 'æ', 'ɹ', 'i', 'd'), 0.23932690918445587),\n",
       "    (('p', 'æ', 's', 't'), 0.1637689396739006),\n",
       "    (('p', 'æ', 'k', 't'), 0.10313230007886887),\n",
       "    (('h', 'æ', 'f'), 0.09702464938163757),\n",
       "    (('f', 'æ', 's', 't'), 0.05191478133201599),\n",
       "    (('p', 'æ', 's', 'ɪ', 'ŋ'), 0.04046738147735596),\n",
       "    (('k', 'æ', 'ɹ', 'i', 'ɪ', 'ŋ'), 0.03891613706946373),\n",
       "    (('h', 'æ', 'd'), 0.035362955182790756),\n",
       "    (('h', 'æ', 'ŋ', 'ɪ', 'ŋ'), 0.03227506950497627),\n",
       "    (('h', 'æ', 'v', 'ɪ', 'ŋ'), 0.024554705247282982)]),\n",
       "  (('p', 'æ', 'tʃ'),\n",
       "   [(('p', 'æ', 'tʃ', 't'), 0.4872831702232361),\n",
       "    (('k', 'æ', 'tʃ', 'ɪ', 'ŋ'), 0.32863426208496094),\n",
       "    (('p', 'æ', 'k', 't'), 0.06098191440105438),\n",
       "    (('h', 'æ', 'f'), 0.02294819988310337),\n",
       "    (('p', 'ɪ', 'tʃ', 't'), 0.02036297507584095),\n",
       "    (('ð', 'æ', 't'), 0.015121182426810265),\n",
       "    (('k', 'æ', 'ɹ', 'i', 'd'), 0.014151357114315033),\n",
       "    (('p', 'æ', 's', 't'), 0.009683630662038922),\n",
       "    (('f', 'æ', 't'), 0.007473787758499384),\n",
       "    (('f', 'æ', 's', 't'), 0.003069711849093437)]),\n",
       "  (('p', 'æ', 'tʃ', 't'),\n",
       "   [(('p', 'æ', 'tʃ', 't'), 0.8327721357345581),\n",
       "    (('p', 'æ', 'k', 't'), 0.10421884059906006),\n",
       "    (('p', 'ɪ', 'tʃ', 't'), 0.03480057790875435),\n",
       "    (('p', 'æ', 's', 't'), 0.01654942985624075),\n",
       "    (('f', 'æ', 's', 't'), 0.0052461703307926655),\n",
       "    (('k', 'æ', 's', 't'), 0.001497190329246223),\n",
       "    (('p', 'ɪ', 'k', 't'), 0.0009914073161780834),\n",
       "    (('k', 'ɛ', 'p', 't'), 0.0005902679404243827),\n",
       "    (('k', 'æ', 'tʃ', 'ɪ', 'ŋ'), 0.0005129128694534302),\n",
       "    (('p', 'ɛɪ', 'n', 't', 'ɪ', 'd'), 0.0004817460721824318)])])"
      ]
     },
     "execution_count": 30,
     "metadata": {},
     "output_type": "execute_result"
    }
   ],
   "source": [
    "low_prior_high_post_words[2]"
   ]
  },
  {
   "cell_type": "code",
   "execution_count": 33,
   "id": "ba13dbc3-4b21-4305-80ac-fa0350e4d8af",
   "metadata": {},
   "outputs": [
    {
     "name": "stdout",
     "output_type": "stream",
     "text": [
      "ɚaʊn\n",
      "[(('ɚ', 'aʊ', 'n', 'd'), 0.9985718131065369), (('d', 'aʊ', 'n'), 0.0005760067142546177), (('ɹ', 'aʊ', 'n', 'd'), 0.0004918471095152199), (('ɚ',), 0.0003080114838667214), (('w', 'ɛ', 'n'), 1.725154106679838e-05), (('d', 'aʊ', 'n', 'w', 'ɚ', 'd'), 9.466271876590326e-06), (('d', 'aʊ', 'n', 'w', 'ɚ', 'd', 'z'), 8.817076377454214e-06), (('s', 'aʊ', 'n', 'd'), 2.941679440482403e-06), (('ʌ', 'n', 'd'), 2.191731937273289e-06), (('ð', 'ɛ', 'n'), 1.462873683522048e-06)]\n",
      "ɚaʊn\n",
      "[(('ɚ', 'aʊ', 'n', 'd'), 0.9985718131065369), (('d', 'aʊ', 'n'), 0.0005760067142546177), (('ɹ', 'aʊ', 'n', 'd'), 0.0004918471095152199), (('ɚ',), 0.0003080114838667214), (('w', 'ɛ', 'n'), 1.725154106679838e-05), (('d', 'aʊ', 'n', 'w', 'ɚ', 'd'), 9.466271876590326e-06), (('d', 'aʊ', 'n', 'w', 'ɚ', 'd', 'z'), 8.817076377454214e-06), (('s', 'aʊ', 'n', 'd'), 2.941679440482403e-06), (('ʌ', 'n', 'd'), 2.191731937273289e-06), (('ð', 'ɛ', 'n'), 1.462873683522048e-06)]\n",
      "ɚaʊn\n",
      "[(('ɚ', 'aʊ', 'n', 'd'), 0.9985718131065369), (('d', 'aʊ', 'n'), 0.0005760067142546177), (('ɹ', 'aʊ', 'n', 'd'), 0.0004918471095152199), (('ɚ',), 0.0003080114838667214), (('w', 'ɛ', 'n'), 1.725154106679838e-05), (('d', 'aʊ', 'n', 'w', 'ɚ', 'd'), 9.466271876590326e-06), (('d', 'aʊ', 'n', 'w', 'ɚ', 'd', 'z'), 8.817076377454214e-06), (('s', 'aʊ', 'n', 'd'), 2.941679440482403e-06), (('ʌ', 'n', 'd'), 2.191731937273289e-06), (('ð', 'ɛ', 'n'), 1.462873683522048e-06)]\n",
      "ɚaʊnd\n",
      "[(('ɚ', 'aʊ', 'n', 'd'), 0.9994874596595764), (('ɹ', 'aʊ', 'n', 'd'), 0.0004922981024719775), (('d', 'aʊ', 'n'), 9.318987395090517e-06), (('ɚ',), 4.98320650876849e-06), (('s', 'aʊ', 'n', 'd'), 2.9443767743941862e-06), (('b', 'aʊ', 'n', 'd'), 1.3546218724513892e-06), (('f', 'aʊ', 'n', 'd'), 1.0360919304730487e-06), (('w', 'ɛ', 'n'), 2.7910621724913653e-07), (('h', 'æ', 'n', 'd'), 5.709858896807418e-08), (('t', 'ɛ', 'n', 'd', 'ɚ'), 5.201037822644139e-08)]\n"
     ]
    },
    {
     "name": "stderr",
     "output_type": "stream",
     "text": [
      "/tmp/ipykernel_108558/265530627.py:46: UserWarning: FixedFormatter should only be used together with FixedLocator\n",
      "  self.ax.set_yticklabels([\"\".join(option_i) for option_i, _ in incremental_dist])\n",
      "/tmp/ipykernel_108558/265530627.py:46: UserWarning: FixedFormatter should only be used together with FixedLocator\n",
      "  self.ax.set_yticklabels([\"\".join(option_i) for option_i, _ in incremental_dist])\n"
     ]
    },
    {
     "name": "stdout",
     "output_type": "stream",
     "text": [
      "\n",
      "[(('h', 'ɪ', 'm'), 0.35676923394203186), (('ð', 'ʌ'), 0.2853933274745941), (('h', 'ɪ', 'z'), 0.16253718733787537), (('ɪ', 't'), 0.024948526173830032), (('ʌ', 'n', 'd'), 0.022330213338136673), (('ʌ',), 0.01559661515057087), (('ɪ', 'n'), 0.011347698979079723), (('ð', 'ɛ', 'm'), 0.01005197037011385), (('w', 'ɪ', 'θ'), 0.008790658786892891), (('t', 'u'), 0.006895551458001137)]\n",
      "---- ['ɚaʊnd']\n",
      "ð\n",
      "[(('ð', 'ʌ'), 0.9068081378936768), (('ð', 'ɛ', 'm'), 0.031939100474119186), (('ð', 'æ', 't'), 0.014699632301926613), (('h', 'ɪ', 'm'), 0.012525944970548153), (('ð', 'ɪ', 's'), 0.007348621264100075), (('ð', 'ɛ', 'ɹ'), 0.006314359838142991), (('h', 'ɪ', 'z'), 0.0057065789587795734), (('b', 'aɪ'), 0.0028576357290148735), (('l', 'aɪ', 'k'), 0.0015653609298169613), (('ð', 'i', 'z'), 0.0014108422910794616)]\n",
      "ðʌ\n",
      "[(('ð', 'ʌ'), 0.9970113378967653), (('ð', 'æ', 't'), 0.0011997428955510259), (('ð', 'ɛ', 'm'), 0.0007874651346355677), (('b', 'ʌ', 't'), 0.0003107173542957753), (('ð', 'ɛ', 'ɹ'), 0.000155681831529364), (('s', 'ʌ', 'm'), 6.467076309490949e-05), (('w', 'ʌ', 'n'), 4.48885875812266e-05), (('ð', 'ʌ', 's'), 4.327296846895479e-05), (('l', 'ɔ', 'ŋ'), 3.0567131034331396e-05), (('s', 'ʌ', 'tʃ'), 2.7659225452225655e-05)]\n",
      "\n",
      "[(('b', 'oʊ', 't'), 0.10284257680177689), (('ʃ', 'ɔ', 'ɹ'), 0.051984068006277084), (('s', 'aɪ', 'd'), 0.034578826278448105), (('ʃ', 'ɪ', 'p'), 0.029329650104045868), (('h', 'ɛ', 'd'), 0.019450683146715164), (('s', 'i'), 0.01687985099852085), (('b', 'ɑ', 't', 'ʌ', 'm'), 0.016109446063637733), (('b', 'ɔɪ'), 0.014885850250720978), (('m', 'æ', 'n'), 0.013521083630621433), (('m', 'aʊ', 'θ'), 0.013461794704198837)]\n",
      "---- ['ðʌ']\n",
      "m\n",
      "[(('m', 'æ', 'n'), 0.2606300711631775), (('m', 'aʊ', 'θ'), 0.25948724150657654), (('m', 'ɪ', 'd', 'ʌ', 'l'), 0.06031069904565811), (('b', 'oʊ', 't'), 0.03303959593176842), (('m', 'ɛɪ', 'n'), 0.026724236086010933), (('m', 'ɛ', 'n'), 0.02396715059876442), (('m', 'i'), 0.019491177052259445), (('m', 'æ', 's', 't'), 0.01857740990817547), (('n', 'ɛ', 't'), 0.017135804519057274), (('n', 'ɛ', 'k'), 0.01646118424832821)]\n",
      "mæ\n",
      "[(('m', 'æ', 'n'), 0.849060595035553), (('m', 'æ', 's', 't'), 0.060520052909851074), (('m', 'aʊ', 'θ'), 0.01735297590494156), (('m', 'æ', 's', 't', 'ɚ'), 0.007007552310824394), (('m', 'ɛ', 'n'), 0.006731678731739521), (('b', 'æ', 'k'), 0.00666885357350111), (('n', 'ɛ', 't'), 0.004812951199710369), (('n', 'ɛ', 'k'), 0.0046234698966145515), (('m', 'ɛɪ', 'n'), 0.00439130375161767), (('b', 'æ', 'ŋ', 'k'), 0.004221795126795769)]\n",
      "mæs\n",
      "[(('m', 'æ', 's', 't'), 0.8219139575958252), (('m', 'æ', 's', 't', 'ɚ'), 0.0951685830950737), (('l', 'æ', 's', 't'), 0.019353283569216728), (('v', 'ɛ', 's', 'ʌ', 'l'), 0.014730097725987434), (('m', 'aʊ', 'θ'), 0.01349642314016819), (('m', 'æ', 'n'), 0.010159440338611603), (('m', 'ɛ', 's'), 0.0064235576428473), (('n', 'ɛ', 's', 't'), 0.0023381223436444998), (('b', 'æ', 's'), 0.0018546851351857185), (('b', 'æ', 's', 'k', 'ʌ', 't'), 0.0014957718085497618)]\n",
      "mæst\n",
      "[(('m', 'æ', 's', 't'), 0.8712112307548523), (('m', 'æ', 's', 't', 'ɚ'), 0.10087661445140839), (('l', 'æ', 's', 't'), 0.020514076575636864), (('n', 'ɛ', 's', 't'), 0.002478358568623662), (('w', 'ɛɪ', 's', 't'), 0.0012154205469414592), (('f', 'æ', 's', 't'), 0.0011233097175136209), (('m', 'ɪ', 's', 't'), 0.0005342444637790322), (('ɹ', 'ɛ', 's', 't'), 0.0002442215336486697), (('ɹ', 'æ', 'f', 't'), 0.00024117607972584665), (('w', 'ɛ', 's', 't'), 0.00020360997586976737)]\n",
      "\n",
      "[(('h', 'i'), 0.16911819577217102), (('ð', 'ʌ'), 0.1437402367591858), (('b', 'ʌ', 't'), 0.07340581715106964), (('ɪ', 't'), 0.06763750314712524), (('ʌ', 'n', 'd'), 0.038714032620191574), (('w', 'ɛ', 'n'), 0.03829512372612953), (('ɪ', 'n'), 0.038158923387527466), (('ð', 'ɛ', 'n'), 0.03251626715064049), (('ð', 'ɪ', 's'), 0.025875821709632874), (('s', 'oʊ'), 0.023485366255044937)]\n",
      "---- ['mæst']\n",
      "ð\n",
      "[(('ð', 'ʌ'), 0.5448023676872253), (('ð', 'ɛ', 'n'), 0.12324274331331253), (('ð', 'ɪ', 's'), 0.09807419031858444), (('ð', 'ɛ', 'ɹ'), 0.05665555864106864), (('b', 'ʌ', 't'), 0.03945319354534149), (('ð', 'æ', 't'), 0.03659148886799812), (('ð', 'ɛɪ'), 0.025030069053173065), (('ð', 'i', 'z'), 0.014281411655247211), (('ð', 'ʌ', 's'), 0.009661001153290272), (('h', 'i'), 0.007082758471369743)]\n",
      "ðʌ\n",
      "[(('ð', 'ʌ'), 0.9025442252168432), (('b', 'ʌ', 't'), 0.0651545599102974), (('ð', 'ʌ', 's'), 0.01595456525683403), (('ð', 'ɛ', 'n'), 0.004564817063510418), (('ð', 'æ', 't'), 0.004486585967242718), (('ð', 'ɛ', 'ɹ'), 0.002054058015346527), (('ð', 'ɛɪ'), 0.0006074077100493014), (('s', 'ʌ', 'm', 't', 'aɪ', 'm', 'z'), 0.0005559250712394714), (('s', 'ʌ', 'm'), 0.0003703428665176034), (('dʒ', 'ʌ', 's', 't'), 0.0003625887038651854)]\n",
      "\n",
      "[(('b', 'ɔɪ'), 0.15596306324005127), (('oʊ', 'l', 'd'), 0.1243218332529068), (('j', 'ʌ', 'ŋ'), 0.039531540125608444), (('m', 'æ', 'n'), 0.033585578203201294), (('b', 'oʊ', 't'), 0.020557882264256477), (('f', 'ɑ', 'ð', 'ɚ'), 0.0182383693754673), (('f', 'ɚ', 's', 't'), 0.016971001401543617), (('f', 'ɪ', 'ʃ', 'ɚ', 'm', 'æ', 'n'), 0.015686750411987305), (('l', 'æ', 's', 't'), 0.014154563657939434), (('f', 'ɪ', 'ʃ'), 0.014110302552580833)]\n",
      "---- ['ðʌ']\n",
      "s\n",
      "[(('s', 'ɛɪ', 'l', 'ɚ'), 0.10568225383758545), (('s', 'ʌ', 'n'), 0.08599216863512993), (('s', 'ɛɪ', 'm'), 0.07000802457332611), (('s', 'k'), 0.05710010230541229), (('s', 'ɛ', 'k', 'ʌ', 'n', 'd'), 0.04711839184165001), (('s', 'i'), 0.04575153812766075), (('s',), 0.04314517602324486), (('s', 'ɛɪ', 'l', 'ɚ', 'z'), 0.0332346111536026), (('s', 't'), 0.02419532649219036), (('s', 'm', 'ɔ', 'l'), 0.023854311555624008)]\n",
      "sɛɪ\n",
      "[(('s', 'ɛɪ', 'l', 'ɚ'), 0.41284623742103577), (('s', 'ɛɪ', 'm'), 0.273485392332077), (('s', 'ɛɪ', 'l', 'ɚ', 'z'), 0.12983053922653198), (('s', 'ɛɪ', 'l'), 0.07790869474411011), (('s', 'ɛɪ', 'l', 'ɪ', 'ŋ'), 0.030171526595950127), (('s', 'ɛɪ', 'l', 'z'), 0.027910487726330757), (('s', 'ɛɪ'), 0.009114844724535942), (('s', 'ɛɪ', 'ɪ', 'ŋ'), 0.009064116515219212), (('s', 'i'), 0.005177631974220276), (('s', 'ɛ', 'k', 'ʌ', 'n', 'd'), 0.005127227399498224)]\n",
      "sɛɪl\n",
      "[(('s', 'ɛɪ', 'l', 'ɚ'), 0.597877562046051), (('s', 'ɛɪ', 'l', 'ɚ', 'z'), 0.1880185902118683), (('s', 'ɛɪ', 'l'), 0.11282616853713989), (('s', 'ɛɪ', 'l', 'ɪ', 'ŋ'), 0.04369393736124039), (('s', 'ɛɪ', 'l', 'z'), 0.04041953384876251), (('s', 'ɛɪ', 'm'), 0.014323342591524124), (('t', 'ɛɪ', 'l'), 0.0011002176033798605), (('s', 'ɪ', 'l', 'v', 'ɚ'), 0.000356033124262467), (('f', 'ɛɪ', 'l', 'j', 'ɚ'), 0.0002576466358732432), (('s', 'ɛɪ'), 0.00021093299437779933)]\n",
      "\n",
      "[(('w', 'ʌ', 'z'), 0.3011060059070587), (('ð', 'æ', 't'), 0.0955427959561348), (('h', 'æ', 'd'), 0.08450493216514587), (('ʌ', 'v'), 0.033805325627326965), (('k', 'ɛɪ', 'm'), 0.02383333630859852), (('ʌ', 'n', 'd'), 0.020692553371191025), (('w', 'ɪ', 'tʃ'), 0.01932469755411148), (('w', 'ʊ', 'd'), 0.017261065542697906), (('h', 'i'), 0.015085493214428425), (('m', 'ɛɪ', 'd'), 0.01301671750843525)]\n",
      "---- ['sɛɪl']\n",
      "w\n",
      "[(('w', 'ʌ', 'z'), 0.7988885045051575), (('w', 'ɪ', 'tʃ'), 0.05127190798521042), (('w', 'ʊ', 'd'), 0.04579672962427139), (('w', 'ɛ', 'n', 't'), 0.02914261631667614), (('w', 'ɪ', 'θ'), 0.024837777018547058), (('w', 'ɚ'), 0.009253130294382572), (('w', 's', 'n'), 0.0029585387092083693), (('w', 'i'), 0.002696576528251171), (('w', 'ɛ', 'n'), 0.0021688772831112146), (('h', 'æ', 'd'), 0.0021662497892975807)]\n",
      "wʌ\n",
      "[(('w', 'ʌ', 'z'), 0.9926950335502625), (('w', 'ʌ', 'n', 's'), 0.0017578054685145617), (('w', 'ʌ', 'n'), 0.0014721842017024755), (('w', 'ɛ', 'n', 't'), 0.0008121899445541203), (('w', 'ʊ', 'd'), 0.0007041834178380668), (('w', 'ɑ', 'ʃ', 't'), 0.00027920445427298546), (('w', 'ɚ'), 0.00024009525077417493), (('w', 'ɔ', 'ɹ', 'd'), 0.0002107019245158881), (('h', 'æ', 'd'), 0.00019985303515568376), (('w', 'ʌ', 't'), 0.00018490577349439263)]\n",
      "wʌz\n",
      "[(('w', 'ʌ', 'z'), 0.9998634457588196), (('w', 'ʌ', 'n', 's'), 2.6883933969656937e-05), (('w', 'ʌ', 'n'), 2.2515632736030966e-05), (('w', 'ʊ', 'd'), 2.2308851839625277e-05), (('m', 'ʌ', 's', 't'), 1.644281655899249e-05), (('w', 'ɛ', 'n', 't'), 1.2421648534655105e-05), (('h', 'æ', 'd'), 6.331446456897538e-06), (('h', 'æ', 'z'), 4.2074889279319905e-06), (('w', 'ɚ'), 3.409733608350507e-06), (('w', 'ɔ', 'n', 't', 'ɪ', 'd'), 1.735774503686116e-06)]\n",
      "\n",
      "[(('ʌ',), 0.05641583725810051), (('s', 'oʊ'), 0.05489831790328026), (('n', 'ɑ', 't'), 0.046705830842256546), (('ð', 'ʌ'), 0.030566466972231865), (('ɔ', 'l', 'w', 'ɛɪ', 'z'), 0.02890135534107685), (('t', 'u'), 0.02587797213345766), (('m', 'ɛɪ', 'd'), 0.01811293326318264), (('v', 'ɛ', 'ɹ', 'i'), 0.016279121860861778), (('ɪ', 'n'), 0.01607707142829895), (('f', 'ʊ', 'l'), 0.015482651069760323)]\n",
      "---- ['wʌz']\n",
      "p\n",
      "[(('p', 'ʊ', 'l', 'd'), 0.06827444583177567), (('t', 'u'), 0.038045672699809074), (('p', 'ʊ', 't'), 0.030255716294050217), (('k', 'æ', 'ɹ', 'i', 'd'), 0.029049573466181755), (('k', 'ɔ', 'l', 'd'), 0.02794480137526989), (('p', 'ɪ', 'k', 't'), 0.02537950873374939), (('f', 'ʊ', 'l'), 0.023123836144804955), (('p', 'ɹ', 'ɑ', 'b', 'ʌ', 'b', 'l', 'i'), 0.022180015221238136), (('h', 'ɪ', 'z'), 0.020394008606672287), (('p', 'ɹ', 'ɪ', 't', 'i'), 0.019156871363520622)]\n",
      "pæ\n",
      "[(('k', 'æ', 'ɹ', 'i', 'd'), 0.23932690918445587), (('p', 'æ', 's', 't'), 0.1637689396739006), (('p', 'æ', 'k', 't'), 0.10313230007886887), (('h', 'æ', 'f'), 0.09702464938163757), (('f', 'æ', 's', 't'), 0.05191478133201599), (('p', 'æ', 's', 'ɪ', 'ŋ'), 0.04046738147735596), (('k', 'æ', 'ɹ', 'i', 'ɪ', 'ŋ'), 0.03891613706946373), (('h', 'æ', 'd'), 0.035362955182790756), (('h', 'æ', 'ŋ', 'ɪ', 'ŋ'), 0.03227506950497627), (('h', 'æ', 'v', 'ɪ', 'ŋ'), 0.024554705247282982)]\n",
      "pætʃ\n",
      "[(('p', 'æ', 'tʃ', 't'), 0.4872831702232361), (('k', 'æ', 'tʃ', 'ɪ', 'ŋ'), 0.32863426208496094), (('p', 'æ', 'k', 't'), 0.06098191440105438), (('h', 'æ', 'f'), 0.02294819988310337), (('p', 'ɪ', 'tʃ', 't'), 0.02036297507584095), (('ð', 'æ', 't'), 0.015121182426810265), (('k', 'æ', 'ɹ', 'i', 'd'), 0.014151357114315033), (('p', 'æ', 's', 't'), 0.009683630662038922), (('f', 'æ', 't'), 0.007473787758499384), (('f', 'æ', 's', 't'), 0.003069711849093437)]\n",
      "pætʃt\n",
      "[(('p', 'æ', 'tʃ', 't'), 0.8327721357345581), (('p', 'æ', 'k', 't'), 0.10421884059906006), (('p', 'ɪ', 'tʃ', 't'), 0.03480057790875435), (('p', 'æ', 's', 't'), 0.01654942985624075), (('f', 'æ', 's', 't'), 0.0052461703307926655), (('k', 'æ', 's', 't'), 0.001497190329246223), (('p', 'ɪ', 'k', 't'), 0.0009914073161780834), (('k', 'ɛ', 'p', 't'), 0.0005902679404243827), (('k', 'æ', 'tʃ', 'ɪ', 'ŋ'), 0.0005129128694534302), (('p', 'ɛɪ', 'n', 't', 'ɪ', 'd'), 0.0004817460721824318)]\n",
      "\n",
      "[(('ʌ',), 0.05641583725810051), (('s', 'oʊ'), 0.05489831790328026), (('n', 'ɑ', 't'), 0.046705830842256546), (('ð', 'ʌ'), 0.030566466972231865), (('ɔ', 'l', 'w', 'ɛɪ', 'z'), 0.02890135534107685), (('t', 'u'), 0.02587797213345766), (('m', 'ɛɪ', 'd'), 0.01811293326318264), (('v', 'ɛ', 'ɹ', 'i'), 0.016279121860861778), (('ɪ', 'n'), 0.01607707142829895), (('f', 'ʊ', 'l'), 0.015482651069760323)]\n",
      "\n",
      "[(('ʌ',), 0.05641583725810051), (('s', 'oʊ'), 0.05489831790328026), (('n', 'ɑ', 't'), 0.046705830842256546), (('ð', 'ʌ'), 0.030566466972231865), (('ɔ', 'l', 'w', 'ɛɪ', 'z'), 0.02890135534107685), (('t', 'u'), 0.02587797213345766), (('m', 'ɛɪ', 'd'), 0.01811293326318264), (('v', 'ɛ', 'ɹ', 'i'), 0.016279121860861778), (('ɪ', 'n'), 0.01607707142829895), (('f', 'ʊ', 'l'), 0.015482651069760323)]\n",
      "\n",
      "[(('ʌ',), 0.05641583725810051), (('s', 'oʊ'), 0.05489831790328026), (('n', 'ɑ', 't'), 0.046705830842256546), (('ð', 'ʌ'), 0.030566466972231865), (('ɔ', 'l', 'w', 'ɛɪ', 'z'), 0.02890135534107685), (('t', 'u'), 0.02587797213345766), (('m', 'ɛɪ', 'd'), 0.01811293326318264), (('v', 'ɛ', 'ɹ', 'i'), 0.016279121860861778), (('ɪ', 'n'), 0.01607707142829895), (('f', 'ʊ', 'l'), 0.015482651069760323)]\n",
      "p\n",
      "[(('p', 'ʊ', 'l', 'd'), 0.06827444583177567), (('t', 'u'), 0.038045672699809074), (('p', 'ʊ', 't'), 0.030255716294050217), (('k', 'æ', 'ɹ', 'i', 'd'), 0.029049573466181755), (('k', 'ɔ', 'l', 'd'), 0.02794480137526989), (('p', 'ɪ', 'k', 't'), 0.02537950873374939), (('f', 'ʊ', 'l'), 0.023123836144804955), (('p', 'ɹ', 'ɑ', 'b', 'ʌ', 'b', 'l', 'i'), 0.022180015221238136), (('h', 'ɪ', 'z'), 0.020394008606672287), (('p', 'ɹ', 'ɪ', 't', 'i'), 0.019156871363520622)]\n",
      "pæ\n",
      "[(('k', 'æ', 'ɹ', 'i', 'd'), 0.23932690918445587), (('p', 'æ', 's', 't'), 0.1637689396739006), (('p', 'æ', 'k', 't'), 0.10313230007886887), (('h', 'æ', 'f'), 0.09702464938163757), (('f', 'æ', 's', 't'), 0.05191478133201599), (('p', 'æ', 's', 'ɪ', 'ŋ'), 0.04046738147735596), (('k', 'æ', 'ɹ', 'i', 'ɪ', 'ŋ'), 0.03891613706946373), (('h', 'æ', 'd'), 0.035362955182790756), (('h', 'æ', 'ŋ', 'ɪ', 'ŋ'), 0.03227506950497627), (('h', 'æ', 'v', 'ɪ', 'ŋ'), 0.024554705247282982)]\n",
      "pætʃ\n",
      "[(('p', 'æ', 'tʃ', 't'), 0.4872831702232361), (('k', 'æ', 'tʃ', 'ɪ', 'ŋ'), 0.32863426208496094), (('p', 'æ', 'k', 't'), 0.06098191440105438), (('h', 'æ', 'f'), 0.02294819988310337), (('p', 'ɪ', 'tʃ', 't'), 0.02036297507584095), (('ð', 'æ', 't'), 0.015121182426810265), (('k', 'æ', 'ɹ', 'i', 'd'), 0.014151357114315033), (('p', 'æ', 's', 't'), 0.009683630662038922), (('f', 'æ', 't'), 0.007473787758499384), (('f', 'æ', 's', 't'), 0.003069711849093437)]\n"
     ]
    },
    {
     "name": "stderr",
     "output_type": "stream",
     "text": [
      "/tmp/ipykernel_108558/265530627.py:46: UserWarning: FixedFormatter should only be used together with FixedLocator\n",
      "  self.ax.set_yticklabels([\"\".join(option_i) for option_i, _ in incremental_dist])\n",
      "/tmp/ipykernel_108558/265530627.py:46: UserWarning: FixedFormatter should only be used together with FixedLocator\n",
      "  self.ax.set_yticklabels([\"\".join(option_i) for option_i, _ in incremental_dist])\n"
     ]
    },
    {
     "name": "stdout",
     "output_type": "stream",
     "text": [
      "pætʃt\n",
      "[(('p', 'æ', 'tʃ', 't'), 0.8327721357345581), (('p', 'æ', 'k', 't'), 0.10421884059906006), (('p', 'ɪ', 'tʃ', 't'), 0.03480057790875435), (('p', 'æ', 's', 't'), 0.01654942985624075), (('f', 'æ', 's', 't'), 0.0052461703307926655), (('k', 'æ', 's', 't'), 0.001497190329246223), (('p', 'ɪ', 'k', 't'), 0.0009914073161780834), (('k', 'ɛ', 'p', 't'), 0.0005902679404243827), (('k', 'æ', 'tʃ', 'ɪ', 'ŋ'), 0.0005129128694534302), (('p', 'ɛɪ', 'n', 't', 'ɪ', 'd'), 0.0004817460721824318)]\n"
     ]
    }
   ],
   "source": [
    "idx = 134\n",
    "\n",
    "# Plot up through the next word\n",
    "anim = PredictiveAnimation(plot_data, k=5, threshold=threshold).plot_for_word(idx, num_prior_frames=21, interval=1000)\n",
    "anim.save(\"low_prior.gif\", dpi=200)\n",
    "plt.close()\n",
    "\n",
    "anim = PredictiveAnimation(plot_data, k=5, threshold=threshold).plot_for_word(idx, num_prior_frames=0, interval=2000)\n",
    "anim.save(\"low_prior.no_context.gif\", dpi=200)\n",
    "plt.close()"
   ]
  },
  {
   "cell_type": "markdown",
   "id": "215138c2-b44d-4758-ac71-b1f56e5904c1",
   "metadata": {},
   "source": [
    "## Index candidates by feature"
   ]
  },
  {
   "cell_type": "markdown",
   "id": "20b94ddf-b4ae-4343-ade9-baf237eaff0c",
   "metadata": {},
   "source": [
    "### Find low-prior ground truth words"
   ]
  },
  {
   "cell_type": "code",
   "execution_count": 267,
   "id": "191ba0b1-50c3-4603-9dd9-5215a75a2571",
   "metadata": {},
   "outputs": [
    {
     "data": {
      "text/plain": [
       "['sælɑu', 'bʌnɛvʌlʌnt', 'sæntiɑgoʊ', 'fɪʃlʌs', 'mɑɹlʌn']"
      ]
     },
     "execution_count": 267,
     "metadata": {},
     "output_type": "execute_result"
    }
   ],
   "source": [
    "k = 5\n",
    "low_prior_word_ids = stim.p_candidates[:, 0].argsort()[:k]\n",
    "low_prior_words = to_gt_words(low_prior_word_ids)\n",
    "low_prior_words"
   ]
  },
  {
   "cell_type": "markdown",
   "id": "b7c9e0d0-de63-4b15-b8af-d4aea5f1b4c1",
   "metadata": {},
   "source": [
    "### Find words which are still low-posterior at phoneme $k$"
   ]
  },
  {
   "cell_type": "code",
   "execution_count": 268,
   "id": "81336809-d000-4816-9381-bc0dd9b732ba",
   "metadata": {},
   "outputs": [
    {
     "data": {
      "text/plain": [
       "[(tensor(165), 'bʌnɛvʌlʌnt'),\n",
       " (tensor(244), 'ʌndɪfitɪd'),\n",
       " (tensor(205), 'kɔɹdz'),\n",
       " (tensor(486), 'stægɚɪŋ'),\n",
       " (tensor(537), 'tækʌl'),\n",
       " (tensor(114), 'laɪnz'),\n",
       " (tensor(57), 'sælɑu'),\n",
       " (tensor(28), 'fɔɹti'),\n",
       " (tensor(491), 'plæŋk'),\n",
       " (tensor(138), 'lʊkt'),\n",
       " (tensor(55), 'dɛfʌnʌtli'),\n",
       " (tensor(166), 'skɪn'),\n",
       " (tensor(319), 'ɹɪmɛmbɚ'),\n",
       " (tensor(396), 'fɪʃɚmɪn'),\n",
       " (tensor(395), 'bɪtwin'),\n",
       " (tensor(193), 'hænz'),\n",
       " (tensor(56), 'faɪnʌli'),\n",
       " (tensor(556), 'sɔltɪŋ'),\n",
       " (tensor(442), 'dɛpθs'),\n",
       " (tensor(472), 'mɑɹlʌn')]"
      ]
     },
     "execution_count": 268,
     "metadata": {},
     "output_type": "execute_result"
    }
   ],
   "source": [
    "k = 3\n",
    "n = 20\n",
    "\n",
    "# Only include words which are still running at phoneme $k$\n",
    "mask = stim.word_lengths > k\n",
    "p_candidates_masked = p_candidates.clone()\n",
    "p_candidates_masked[~mask] = torch.inf\n",
    "\n",
    "low_posterior_word_ids = p_candidates_masked[:, 0, k].argsort()[:n]\n",
    "low_posterior_words = to_gt_words(low_posterior_word_ids)\n",
    "list(zip(low_posterior_word_ids, low_posterior_words))"
   ]
  },
  {
   "cell_type": "code",
   "execution_count": 269,
   "id": "e98329a7-e393-45ca-b088-e3518c8cd02f",
   "metadata": {},
   "outputs": [
    {
     "data": {
      "text/plain": [
       "tensor([0.0002, 0.0006, 0.0030, 0.0034, 0.0052, 0.0056, 0.0066, 0.0097, 0.0107,\n",
       "        0.0128, 0.0159, 0.0235, 0.0285, 0.0289, 0.0338, 0.0364, 0.0424, 0.0493,\n",
       "        0.0569, 0.0582])"
      ]
     },
     "execution_count": 269,
     "metadata": {},
     "output_type": "execute_result"
    }
   ],
   "source": [
    "p_candidates[low_posterior_word_ids, 0, k]"
   ]
  },
  {
   "cell_type": "code",
   "execution_count": 270,
   "id": "4e61bf14-3260-47b5-bdcf-65546879b863",
   "metadata": {},
   "outputs": [
    {
     "ename": "NameError",
     "evalue": "name 'anim_word_idx' is not defined",
     "output_type": "error",
     "traceback": [
      "\u001b[0;31m---------------------------------------------------------------------------\u001b[0m",
      "\u001b[0;31mNameError\u001b[0m                                 Traceback (most recent call last)",
      "Cell \u001b[0;32mIn [270], line 1\u001b[0m\n\u001b[0;32m----> 1\u001b[0m \u001b[43manim_word_idx\u001b[49m(\u001b[38;5;241m1338\u001b[39m)\n",
      "\u001b[0;31mNameError\u001b[0m: name 'anim_word_idx' is not defined"
     ]
    }
   ],
   "source": [
    "anim_word_idx(1338)"
   ]
  },
  {
   "cell_type": "markdown",
   "id": "cc897892-be02-4236-9a72-aede567fdadc",
   "metadata": {},
   "source": [
    "### Find words which are not the MAP at phoneme $k$"
   ]
  },
  {
   "cell_type": "code",
   "execution_count": 61,
   "id": "3273069d-3b67-4d05-84e7-68a11ffb9749",
   "metadata": {},
   "outputs": [
    {
     "data": {
      "text/plain": [
       "torch.Size([2187, 1000, 16])"
      ]
     },
     "execution_count": 61,
     "metadata": {},
     "output_type": "execute_result"
    }
   ],
   "source": [
    "p_candidates.shape"
   ]
  },
  {
   "cell_type": "code",
   "execution_count": 69,
   "id": "0d4dc6e0-0758-4a3b-aada-a7787d64291e",
   "metadata": {},
   "outputs": [
    {
     "data": {
      "text/plain": [
       "[(tensor(15), 'mojstə'),\n",
       " (tensor(27), '#dipər'),\n",
       " (tensor(37), 'heləbul'),\n",
       " (tensor(63), 'zemənsə#x'),\n",
       " (tensor(89), 'bladrə'),\n",
       " (tensor(114), '#ɑləmal#x#'),\n",
       " (tensor(175), '#idərə'),\n",
       " (tensor(228), '#ustərs'),\n",
       " (tensor(233), 'ɑndərə'),\n",
       " (tensor(238), 'zɛs#ɪs'),\n",
       " (tensor(239), 'vɛrdər'),\n",
       " (tensor(240), 'vərdində'),\n",
       " (tensor(264), 'ɑləmal#r'),\n",
       " (tensor(282), 'merə#x'),\n",
       " (tensor(456), '#pʏrpərən'),\n",
       " (tensor(506), '#maktə'),\n",
       " (tensor(529), 'xəkert#xə'),\n",
       " (tensor(592), 'xəkomə'),\n",
       " (tensor(628), 'bəwox#xə'),\n",
       " (tensor(655), 'lœkərst'),\n",
       " (tensor(865), 'vərlɑŋənt'),\n",
       " (tensor(869), 'dəxenə'),\n",
       " (tensor(898), 'kɛikə#h#'),\n",
       " (tensor(950), 'zwɔm#h'),\n",
       " (tensor(967), 'zemermɪnətjə'),\n",
       " (tensor(974), '#œyjtstrɛktə'),\n",
       " (tensor(980), 'vɛiftin'),\n",
       " (tensor(990), 'hɔndərt'),\n",
       " (tensor(996), 'herləkstə'),\n",
       " (tensor(1007), '#kɑlmə'),\n",
       " (tensor(1010), 'lɪxə#xə'),\n",
       " (tensor(1043), 'rɛijtœyjxən'),\n",
       " (tensor(1082), 'darnax'),\n",
       " (tensor(1357), 'hɔndərt'),\n",
       " (tensor(1359), 'lɑntarnsh'),\n",
       " (tensor(1423), 'zɛstin'),\n",
       " (tensor(1426), 'jarəx#xə'),\n",
       " (tensor(1438), 'dɑnstən'),\n",
       " (tensor(1463), '#zɔdɑt'),\n",
       " (tensor(1500), 'xəzin#xr#'),\n",
       " (tensor(1554), 'lɑxtə#x'),\n",
       " (tensor(1582), 'lɑntarəns'),\n",
       " (tensor(1591), 'werklɔŋkən'),\n",
       " (tensor(1609), 'ɪntʏsən'),\n",
       " (tensor(1642), 'ɔpsɛtəth#'),\n",
       " (tensor(1651), 'vresləknxɪ'),\n",
       " (tensor(1654), 'wɔrdə#dɑxɔm'),\n",
       " (tensor(1697), 'xɔlvə#r'),\n",
       " (tensor(1703), 'ɔptorndə'),\n",
       " (tensor(1754), '#tərwɛil'),\n",
       " (tensor(1830), 'rɛdə#k#ɪsi'),\n",
       " (tensor(1993), 'vɔlxəndə'),\n",
       " (tensor(1997), 'notwer'),\n",
       " (tensor(2010), 'rotxlɑnzənd'),\n",
       " (tensor(2034), 'xəslotə'),\n",
       " (tensor(2077), 'vɑstəlɑnt'),\n",
       " (tensor(2091), '#ɑlsɔf'),\n",
       " (tensor(2123), 'sitrun')]"
      ]
     },
     "execution_count": 69,
     "metadata": {},
     "output_type": "execute_result"
    }
   ],
   "source": [
    "k = 5\n",
    "\n",
    "# Only include words which are still running at phoneme $k$\n",
    "mask = stim.word_lengths > k\n",
    "p_candidates_masked = p_candidates.clone()\n",
    "p_candidates_masked[~mask] = -torch.inf\n",
    "p_candidates_argmax = p_candidates_masked[:, k].argmax(dim=1)\n",
    "\n",
    "not_argmax_idxs = torch.where(p_candidates_argmax != 0)[0]\n",
    "list(zip(not_argmax_idxs, to_gt_words(not_argmax_idxs)))"
   ]
  },
  {
   "cell_type": "code",
   "execution_count": 71,
   "id": "2637fa57-371e-477b-bd51-6ba7bedb2e8c",
   "metadata": {},
   "outputs": [
    {
     "name": "stdout",
     "output_type": "stream",
     "text": [
      "h\n",
      "[(0.2843737857954816, 'hel'), (0.11503773708401324, 'helə'), (0.04161625407498444, 'ht'), (0.030969074349699508, 'ht'), (0.027556656173453757, 'heləbul'), (0.02208031511063773, 'hɑrt'), (0.01865259578798935, 'h'), (0.014280507235832797, 'ha'), (0.012843420209193216, 'hɑnt'), (0.010211893493392134, 'hoxə')]\n",
      "h\n",
      "[(0.2843737857954816, 'hel'), (0.11503773708401324, 'helə'), (0.04161625407498444, 'ht'), (0.030969074349699508, 'ht'), (0.027556656173453757, 'heləbul'), (0.02208031511063773, 'hɑrt'), (0.01865259578798935, 'h'), (0.014280507235832797, 'ha'), (0.012843420209193216, 'hɑnt'), (0.010211893493392134, 'hoxə')]\n",
      "h\n",
      "[(0.2843737857954816, 'hel'), (0.11503773708401324, 'helə'), (0.04161625407498444, 'ht'), (0.030969074349699508, 'ht'), (0.027556656173453757, 'heləbul'), (0.02208031511063773, 'hɑrt'), (0.01865259578798935, 'h'), (0.014280507235832797, 'ha'), (0.012843420209193216, 'hɑnt'), (0.010211893493392134, 'hoxə')]\n",
      "he\n",
      "[(0.6092247775663425, 'hel'), (0.24644971965575924, 'helə'), (0.0590356726474726, 'heləbul'), (0.013374770768399909, 'hekəl'), (0.007584752099052168, 'herlək'), (0.006988505596238707, 'kɪnt'), (0.00410843338652994, 'hetə'), (0.0040398036186977135, 'heməl'), (0.0032380885196289216, 'betjə'), (0.0026633616002228796, 'pe')]\n",
      "hel\n",
      "[(0.6616692765498841, 'hel'), (0.2676650945845524, 'helə'), (0.06411769883577206, 'heləbul'), (0.0009372559266982226, 'del'), (0.0008705671908396884, 'hɛl'), (0.0007365444961433138, 'hɛlt'), (0.0004960947990582173, 'vel'), (0.00033917126692245943, 'relixjœzə'), (0.0002839081937185155, 'wɪldə'), (0.0002791181578053414, 'relixjœs')]\n"
     ]
    },
    {
     "name": "stderr",
     "output_type": "stream",
     "text": [
      "/tmp/ipykernel_60813/4229271781.py:45: UserWarning: FixedFormatter should only be used together with FixedLocator\n",
      "  self.ax.set_yticklabels([option_i for _, option_i in incremental_dist])\n",
      "/tmp/ipykernel_60813/4229271781.py:45: UserWarning: FixedFormatter should only be used together with FixedLocator\n",
      "  self.ax.set_yticklabels([option_i for _, option_i in incremental_dist])\n"
     ]
    },
    {
     "name": "stdout",
     "output_type": "stream",
     "text": [
      "helə\n",
      "[(0.7967883806543204, 'helə'), (0.19086626706381407, 'heləbul'), (0.009561477370025783, 'hel'), (0.0007058671381728866, 'hɛiləxə'), (0.0005689674464068114, 'hekəl'), (0.0004017861372421666, 'hɛiləx'), (0.00020622559791568684, 'heməl'), (0.00010486451961581173, 'hetə'), (6.861690441805815e-05, 'relixjœzə'), (6.518453824514022e-05, 'penəs')]\n",
      "heləb\n",
      "[(0.9925745083818459, 'heləbul'), (0.0073079214554912335, 'helə'), (8.76952115707618e-05, 'hel'), (6.47401710293987e-06, 'hɛiləxə'), (5.218411199292192e-06, 'hekəl'), (3.685070721613382e-06, 'hɛiləx'), (2.3126329349481686e-06, 'xəlʏk'), (1.8914438366206418e-06, 'heməl'), (1.1957089163794259e-06, 'penəs'), (9.617882130646226e-07, 'hetə')]\n",
      "heləbu\n",
      "[(0.9999942516993445, 'heləbul'), (5.628860856788864e-06, 'helə'), (6.75464489793558e-08, 'hel'), (1.99462140795383e-08, 'hɛiləxə'), (5.695692165012416e-09, 'relixjœzə'), (4.6872222371597065e-09, 'relixjœs'), (4.0194343512344055e-09, 'hekəl'), (2.838392621721737e-09, 'hɛiləx'), (1.7812847446340663e-09, 'xəlʏk'), (1.4568676250301652e-09, 'heməl')]\n",
      "heləbul\n",
      "[(0.9999999916519772, 'heləbul'), (7.4064383768016935e-09, 'helə'), (6.924041904744003e-10, 'rɔlstul'), (8.887741670394994e-11, 'hel'), (3.2021419657364635e-11, 'relixjœzə'), (2.6351759528965913e-11, 'relixjœs'), (2.6245169171737542e-11, 'hɛiləxə'), (1.6820409725906535e-11, 'mɪdəlewsə'), (9.852410263553108e-12, 'redələk'), (9.732923360543177e-12, 'perijodə')]\n"
     ]
    },
    {
     "data": {
      "text/html": [
       "<video width=\"432\" height=\"288\" controls autoplay loop>\n",
       "  <source type=\"video/mp4\" src=\"data:video/mp4;base64,AAAAIGZ0eXBNNFYgAAACAE00ViBpc29taXNvMmF2YzEAAAAIZnJlZQAAH9VtZGF0AAACrQYF//+p\n",
       "3EXpvebZSLeWLNgg2SPu73gyNjQgLSBjb3JlIDE2NCByMzA5NSBiYWVlNDAwIC0gSC4yNjQvTVBF\n",
       "Ry00IEFWQyBjb2RlYyAtIENvcHlsZWZ0IDIwMDMtMjAyMiAtIGh0dHA6Ly93d3cudmlkZW9sYW4u\n",
       "b3JnL3gyNjQuaHRtbCAtIG9wdGlvbnM6IGNhYmFjPTEgcmVmPTMgZGVibG9jaz0xOjA6MCBhbmFs\n",
       "eXNlPTB4MzoweDExMyBtZT1oZXggc3VibWU9NyBwc3k9MSBwc3lfcmQ9MS4wMDowLjAwIG1peGVk\n",
       "X3JlZj0xIG1lX3JhbmdlPTE2IGNocm9tYV9tZT0xIHRyZWxsaXM9MSA4eDhkY3Q9MSBjcW09MCBk\n",
       "ZWFkem9uZT0yMSwxMSBmYXN0X3Bza2lwPTEgY2hyb21hX3FwX29mZnNldD0tMiB0aHJlYWRzPTMg\n",
       "bG9va2FoZWFkX3RocmVhZHM9MSBzbGljZWRfdGhyZWFkcz0wIG5yPTAgZGVjaW1hdGU9MSBpbnRl\n",
       "cmxhY2VkPTAgYmx1cmF5X2NvbXBhdD0wIGNvbnN0cmFpbmVkX2ludHJhPTAgYmZyYW1lcz0zIGJf\n",
       "cHlyYW1pZD0yIGJfYWRhcHQ9MSBiX2JpYXM9MCBkaXJlY3Q9MSB3ZWlnaHRiPTEgb3Blbl9nb3A9\n",
       "MCB3ZWlnaHRwPTIga2V5aW50PTI1MCBrZXlpbnRfbWluPTEgc2NlbmVjdXQ9NDAgaW50cmFfcmVm\n",
       "cmVzaD0wIHJjX2xvb2thaGVhZD00MCByYz1jcmYgbWJ0cmVlPTEgY3JmPTIzLjAgcWNvbXA9MC42\n",
       "MCBxcG1pbj0wIHFwbWF4PTY5IHFwc3RlcD00IGlwX3JhdGlvPTEuNDAgYXE9MToxLjAwAIAAAA+6\n",
       "ZYiEABX//vfJ78Cm61tbtb+Tz0j8LLc+wio/blsTtOoAAAMAABnblS+MhuoLgPtAADyZ5SNNU9f2\n",
       "AG3fYGXHYYVH33zptIzON5VWrBzqPtq/bvjNVeXcWknNFYbPuj2SMK6IsAW19Vm2Jwq9NPqWE161\n",
       "F74ZwuncOpYFESbUPpra3z58fUKKR0yRPPZk71G2FNTMMQcxY5oGGhkx9nW6cS7rfn0Xs+bqOmRY\n",
       "w9VcK7s2bEGgQJFfT2BwQT7pghKqriGgz5QJHCW96DMsWrBvuP4K86RUtz2yWGX2NHs3Dpf3nHkJ\n",
       "QKvNQTpqo2Usmhjpczp+PMoZYZn7dAERjsqv/0jGJP+C5e0JI/7kV6YJhBzMm1ZY6NfzZJvdJStf\n",
       "i94D28EnuBN+cvOFKon0g2eQQdUEiBURajOD0lAZQPcSxeKmLI2OfSxDPHWmu8ntRSf2lNWzEeoa\n",
       "4GWLrGfrD6JxfO1CrAgHiIxm4WMnpUJyLUMa8wEtKeoi6ih/yLh9K+xy0nLFQZAwn/aAGyvPtkfl\n",
       "DYWqrX77f+tIDngyzH6/rxSq8QmL4F7zTJrJBwtPbgoQ09dLWEKkVz5fjLEFB5/21iRImRWJk5t0\n",
       "Re7Q7URRyYN0L6wLzfyBuHK5aArk8U1E76GjvY3gK614uJj1b4o5vPn6a66oqfg3VM7CJmQdYB4D\n",
       "r1JboNuFVT2lPIu9495mG67F4N5cI2MW67iY+XMlzaXZh9BdEvXWqjab3FiTgtZnMeBTWMEY//w1\n",
       "HyTvYT1+VXNI9XtxwzcmFPkvJPcmuXXRkWY2C7USQIocY0bS5gluXSiB/OKsNbqvX0sl69sOxsQQ\n",
       "HYrG0R+4zq4mGwW9lR4uXpcwPFbG8FevhgSCCyFP/02zYxBK0p5qF59DZua4odBjTSmPSPBLBSey\n",
       "12Ec9KbQaSe7+t/niX5Yoy1EdL6d06YDSNI86dMrAhotn3hsloh82NlCasjEfiOJjk5M1A/+FsU/\n",
       "R+lKLCKQGEE9LJjZ2Kr8M/E+/JUOSCFWV8n/KMiMEE7BkOCEFazl2HRJV9/Zi/KfJtu7ZikXY7mG\n",
       "zmFqT5gVW393YHjfVLCpL6AXaydhpuvdj7F+t2+CHPZ33ZkmRj83ywJaGoQunRT1+H5c4gxM8nad\n",
       "QWegsDS6LOwNaoUir4qfmZy71hd6O6yixUXAV88BYkAwAoP6SJRtLpRGiTyEwGOUCHZmq6VOQPXm\n",
       "u+W82oblllADPTzOYr4wslrmui8TPd+uPaTr+EOV8ZrJNs2cJTtjSii0wx3+5tA+fI1Fx0xlpyPt\n",
       "eoYL0M6agsQrEDhHCZ4Rk9EjbEvf3+oQjdbE7LDUfvYN9m3WZ4WyKy9Tiv1rHARUvNU5tIJq+gBd\n",
       "Ui6O/6av/2kkACDukYURsjp1FS7revFz/MCMGHjGBqzEUSUtKs29EFKePzN2r7ikbrFA4iLWj7L3\n",
       "tT+lE1ji+R/1YFaIbwBFD0wFs4R7xL1m6G9zjuaARKsC1JhLwd/eOK4J63DtTvLYeWLg968dAa8W\n",
       "bM/Ati1Kz1SbKdwmUOz8Q53DbBzdLNGWp2BU9uEdBRqaj0iP0KnouFEivs6a+uqbZRNFjiSLYdxN\n",
       "rrtrTk/acN9P6IbOpd4jGZ/wh9cVXrW+N+2wCC4tOjTd6eS98I2XZRrt/uYP1mnUQZuL33z6gTVQ\n",
       "gSe/XwvOGSme1yUejIDZE/OZGgk3UmXcZT6+Ps8bsUnA5bYMzOWtW2j5HA4qEGDMuSR0Luj9/fLI\n",
       "oN07fzwghNGmpLJ9dpxjaDnNCKYk1B+//0mqbLQ1M1Ai5zpjDn5w7wjiO7J7Ke7j4rQrvzeTofH7\n",
       "YU/3IydgZ6AcVqG7DZ5/xM5Lar9p4rpLMv14OTHxQqvuATvoq3/gICrG1WIW2F6YS2z9qMdXpAUS\n",
       "jbeL7wDtV0rZQnrRnaCO4X7gpkLawp9fKwPOHlESsXzG978X2Ci4rewbek/i07RIPwKqhKTUjDB1\n",
       "2SKsZFrPS/141OeIZczG5l6L/wYvbg5ibmOcB+bjmAN6pOHN/hbM5YTNmKCfEhjjr2HNDP+YMbLB\n",
       "Gr/qJlwnGRfOAAivo2wBOj6hZb1/aycCUhijVKk/c/vcfzOZF5UPQNtLiPlMr+4tUP70zEs+mmdI\n",
       "ZFPJmmFUS9/slMNwuETiBmv0jjA9zs4DJMqVBAysZTiTIdLCcb5LGnXChxyA56JhUweXZSnEm6t7\n",
       "1OUav7NITbTSzUKPZoxAnba91/jqL6sgO71J8XwVsEtWJlu7zpG1fpP0PKMAPhfwMtZQsS7Kk7w+\n",
       "KAJ7npUOKaJrzdcp8SQbbv/PHn29agCocnjcYdnirDBs/7YYBVOGcrBf64Sil82BIi5DnT0kqDok\n",
       "OLOqsR4DdAtjGtWINYhs0c9pS+rDj8iQTnNklfDgUxOVykAikGt3hW3eWn74L3w6IOrz6LplbQcj\n",
       "1+ieFdgViWUkdnjlbP1iZjxjUX2ZpkDVvFCD68MzKNBe0lDkHsV6o7YGJBUSg1KeO//ghLxzsm1P\n",
       "jLm3AyCot234dqnSlWj4xR4vHZjR92xA6wOTfbXNdFhq1dhAbpHTxVEyBLAu+ZjoWH7PH4FSLKXf\n",
       "bHe+egtGOIauI8EMjd1076bQnn/dygMkTd8fJtfn3Q0hmOmye1LJ53r/qE0wm2b2UECd/+ycGnT2\n",
       "J7Xbj1nMgx/WKmal3HknnpkCEHimKr+9e8iV4aIQfLdMVP5WbwACUM8HmMupU/IpRhh5AZq0XGaD\n",
       "wHULE68F8FnAMlkRUVLP0ikoUkBfPg9sYGI4EXUzs2nsyhxatKZ4ZOxKdKf6BwIvlqtjRMhXc0fQ\n",
       "pSMqjltxHNCT2AzXGvTQIVdrikDSs2DboHxa8x2FWYIWiZOW1/4DC/6L+/FfR/DhNpWHhtQG4NmH\n",
       "Vl9naWqjn2KnpHbpLJS6w7/yJrcq6++45M/JM0oE7Gj2nGnE3WxCWcK5N0Q7/+jAr3FHrCKrZeE2\n",
       "89Dp/7ca3yfYuUpP2IOUbjLwMq8MpgwboiRdxiqfbh4wsXt+lRkqwIWvnbwWm2ZNxKwKSERFOnJI\n",
       "gCcRwhhJvWksVZ+pau94rPEOwlP1OEo4UQwk7kYM59tWBeBf/fqf3u4Rew1kmQK3h9YLMAw93+ph\n",
       "vOHzyjfnLDO8/2ODFXsyXt+Rvs+ks9wv5kcUtil6F7XD1oGzugYj9OdBsRhse/N39Krjpf2CZur/\n",
       "wq15WoorH0gOmr5fe27T+ckiY3cZAuocE23X+QYTnWiVXPbJEP47vjkvwr0b9TsPLN6nOPxGlZCj\n",
       "HyvZaQ3FMVMOuLkBcPCcRR1p5KRIFGNaGZLx4V/UR0Qbs5cvoWV4bwG7Rx9Ws8gVx/IucyrCaviH\n",
       "2+IjgPfEi27XYQKs5Fh4yvzOn9DjcLJg1tRkDurO4uuSPGcUbhZYUYtiQkLlXf/yaO8JLLd69P3C\n",
       "ZWunaHgC9rONb//lsxEWwrv+nFarY8IC15jDkR1fPx1ziYMVEGG3mNhjA1eRI29zLU/MDVqJA2iX\n",
       "JSYwLb7xQVlrEPBmkqmne44f1Or38LfzhmTE1EGXgccaJkrpD06gX2RqvPvKycY4bE9vANZSA8HN\n",
       "RQapQ96IZieIuspDf7d5kAMQ88WYaOoa7JpfxXRu6NwBuCn8UpVimM5RERmhxJjoVJRZh55cRKYO\n",
       "m9NrPgmeojhGlLcHkT/x7OoVO+5pY+r5zMbRSgfPVtn3+h0oqwSwbCbLVCqY+x1fAE8UDA3F9oEv\n",
       "dsdLdYy/6WUW+7NHW1w9M16MaJW+R/uQ8P9Ae9Fqqx+HKQBgPLvszxJ9TfCxKx4h3akXYtjwiFEn\n",
       "G9wLpjRGlVvcDPo48QQw3do1iAhn+EBvsStvEKhSF0sO1hYjhi1s6QSb6tgOsOlW/1atP55OtVW+\n",
       "ObM1OLGAxMaO5VTmEw0pdF7jbv3/Q+bszP9/8kaI4vqBJ1tSSnj/i0O+KUZ1DFhhhXIqRhVR7a1G\n",
       "MfQspGIPg+ZtrAxIwKYcyw1lIfJybLja+cJy6Vf6ynKuJ4M1yXP0NZERAM5hvAF2lmm0XW8Bu4t8\n",
       "CJ79UZjPKr6V49Lc5XuBFeIQ6S5C6vVCtvVPUN3A7TY6V8hfn8EsT11Fdb5ijScvFoRX7kjU88ia\n",
       "7H2n5Y5InUHYLONIxbxVe0kvrgQ4dIP2+7cZ3gQVbyDEsgcK2jDrFgfxSoSOkdCEhZznLG2kPj5W\n",
       "/Qv3Jugs4ED1rkpn53NPU73F3FtAFwVAGiUb1SLX6Bhh9uBKzeesJckVCEDy+b7HsypTQDO1c/4j\n",
       "CDfhPTLjQj0kZ0h9/RY1qhpkmjUVjdzvceJvL6DQi2lcPbswH8ite75uElGMwcOPTeJB8vfKmj1C\n",
       "kci/6AdjAAGkVtrWmwtTb/Zuup4Mc7EUZsgrR6uWiDV42nvOdIFLiTgb+6Qej1jJKzlBZGYOsfCM\n",
       "H00p4gnJatO53kq6bSWbJ45BZgL31Mbp69KvbBrsdc2Inl1KO71W9aAvl9o16u8bjlJpit0K5Cod\n",
       "vexA0UGtmLEmO/nbxgngIpCHlY6bCfBBpP0gRcC73wzJtw9hOAf+ApdZMaP3gzblA2pqlvLaZK3d\n",
       "HROo5q0eyPPbXTA6lfcOV5uLDp9eg0NDLdbwbNzS6r+kCuyfQQMJo+v8Q6JkmNpn+h9VSKPO91yn\n",
       "1qXgTK4ZBvtVsPqQrKlPGt1jNpjVIG07SCvX3Rw44xPC4A40F6U+uHM8Pqwr7+RkrG0q7hCYc8SW\n",
       "b0NL1SPXqdK+WEOOKY96RhjLsRkf6fgFSXtxkEzuriUL/QlptgIh6yl/qoDm/0lC8FZuiyn3FPxm\n",
       "R3wpp+Agw9bciQqSsMpicrA2dSsLn6uPhdJAJe3hgpBxrMEfG0C3+ci6vuH6FEgK1GXsW00Gs6mO\n",
       "CI1kyIVkBKbnB2+n3PlrhtGp5F/da90IJNPLG2zLLwjp29LgXNp3pioOr3Kq6NIKE7NdJRvNeVJ/\n",
       "tIi6gW89br/8zkoeiewnKmiluRyiQ8gcnmUbXDtCfkuel30+H/XkKjswF1zQqfvr2KqjNgMNcuXC\n",
       "jS6rfx5/FKFhCLyDD6UDDmH1PbnhgAuGeb6ZdhqFgetMa4SvIH210bMY+rRBUGRx3lfapPRiihJp\n",
       "3bzNnVfb2R7nv9zv6jgnI96IQgY2UXCA+umVM5+73d8jJ/OyPxOXiULx4V+f7SSLQEgJhdhCP0yY\n",
       "/ug4TF0ANnteIo5vPdkyebuPRrL+yMs5y6aQKg1x3ROR3I19HeIK4cKgc3aeXgxf9VogOD7bDs1R\n",
       "qaVRqh6ywNcFcwSv6376/Hv4zs2T6weEjJsYl8bPkr9op48HJJ1sGeSBhV3W+BVCTsbvVy5U21+z\n",
       "OkZG385lx502Nk+9szzr0MFBF/wYrF4bP+v5/7yBzKEOH+X1AAAEIEGaIWxBX/7WpVAEUTenH31D\n",
       "j/xCeSIJyer6iQYuVvFEzpilcpVb174ijeIsvu4wIJmZp43dR5sNoy1AzY5VJLH8GU8nesRpZH8l\n",
       "gfa6x9owsbFIXoifFk7ADgjjkuWbCldlfu8ICNwbL1/CUqHpCDOOt9RHx1cT+rsuZoxB8ps9Qq/b\n",
       "UdbPvryRa7SNUSPj5KweFL1+bweerkCw4ok2YS58mS4KefdHj6c91UQMagVeY+Y90WpvIvw6BrMa\n",
       "VUbJhZSNZIT8EFuEXWQaUjrj68DnvRUBOt6ASaguAXE0yuzSyJbJw1eta38e1nqKGaVR4Br4HQNb\n",
       "jrlNmNKKMdAHnSlD86YLiH+BMxS9nV8JaBQkTbFGZoqXjYkYcAPZQFfS3sNEsAnCnkvX9w8+1jOn\n",
       "S86bakOQnJlh4qf1KKEU/gcTfZxNhmvkzVtxGFBwkvRBjZpJiTpAfkaBNuzu2WBXDCrS8k0wA705\n",
       "S1JD0NqcpNX7oAudOUIGMALyxdqrB/7n1Jf63L6ZAxUZc3+dHjXKTYOU8A7jVvhg9ZOMGPsy3Wyq\n",
       "gD0Fp3rc+ZB5EBWDM382lrFBD6Dq33ZrkUfBROG6UM86GNArwWA0O8Mo2wt1qheqtqQ0fL9eRclE\n",
       "QPBhlMYdnGE5pE446y7vw4O6atX6ByBd0iI/+YotwZBPqE+2/6bj44IlNfYo74RbBpEfsYNY7gcu\n",
       "9XJIsM/ZBOCzAU/tU3TvCdnFO1LB1SvmZW21aky2ggr/VpaO4L2h+h2l5QsdTn6zw0PQEbfPi9iZ\n",
       "fWoekK5V/EuBHdPiorKilpOSnwqAYvZSzyZiE5vfTh6ZJh1tvmyps+IxjUupewZSm67oLYk/rXId\n",
       "2m2jXBZRbpJk2x2EdIkk8ZomGSlnLqObDs6uNmPHa6FRlZiz1JNKNhHwC92AtACVMaOdC/ew6/P/\n",
       "h4nhUJy1jetCziL1dt5leixcjO/0GLrqzHS/A74NK64xbSGJQn29IeR7r4aizG6WfG2mvJc5RQEQ\n",
       "t75MLmlPftmxbDQUJWVdm2z1fG3wjgKAZbsUr0iWRWuaESE76qe8KnxmQM44N+dOJgxZzr2NwbyC\n",
       "RRPaLKl7FpZxsUnThZnpM3R2+RrS/O1+E41CVNO7DD//oEh35I5/i6z/DEfGz5Zx8FapMfKFnrAa\n",
       "afJc2WqI14Lbx94y2KUfU4m0bR51E93HVXOy9Wh/0yaiLUm691OEeilUe/faPM5XXwHFdfoc07hS\n",
       "FhmHQbfjS/zRWqoEiB3kcTxNC/5qnNJ8lCRbTph3fXCtvFmnbzHru67BCHB/hEQmArZ+/iwbm3hV\n",
       "hl43DQYDYW6aj+f5R7BNdmVohilG/E4fKOEy5FPd6IjMMqpj0evN4WDDb439P79YrE3CSG49SJN/\n",
       "B7abEiHYk6PLdEWNgAAABBpBmkQ8IZMphBX//talUASZAI5bB6ADjoEH/3+AswV4GXh5cxPGjqGo\n",
       "Th/sCHrhNbKqfwveaRE5ym/jKEEzRy1xoxgxQ0skVXFZDi5oNpj71H10zFUZkLwSO2sxWrVScHf6\n",
       "vBCBzCW14AZYu9tySl8igprWYip9fB9b+RleeYJnkf4qpdMjcRFZzZ9ScLFtHU/2C9w/Xv6yCA8r\n",
       "GZcdeeGUvNGPgS/61D/VHFWeXOCWeIJ+8AlXJ7FJvMRXTactIL2JbA8FW21AawYEd8teIvOWc5RY\n",
       "Ge+RoT1jU3omqGDFsYGoYMPn8kF7OJwSzaBZVaypKM1YS34KEOK5R7qiA0/XfDAiL+eAAkX8a0Ir\n",
       "z2o8xJtLlasywm85KHpC8af7LUaGVFnsfgRBXwVd5SCjnZGE5FALw1UoKpHr9D3rfHS34SCnPy2i\n",
       "MyhcyXK0v8DfUfSwBLq6/KibDoV6pq9aQ7yyir59kptxZmJ/DX+nlFthFZfsWmyQSGrcQ8UbC3I1\n",
       "dRSWt4u9nBG6ZJl2g83cdHtHlbygm2xXGm3/zaSmODOoYn7t75iv5eGl9jnuVa8yirAzh5Yfu4HS\n",
       "Y0DukRFNM3LZnUBVlCM3CXG9QxASdWLUXBC0wGvJgl8NF1/z1lO5Al1xP2RUZOZ3GDuBpikuJ4V/\n",
       "fbsTqdr+aAvPwidX23UkhhPEJqL6637C+5WDnvg03jciIYlZLNgS1ZeihMtZJPu18X0OO1WRC8GR\n",
       "yf02srMVS+Ivm+7w+rmueksklas0QZO9ysRl5p6WrDFXMLzvkCNYqanaeWEy1xLBaytoAkG0dVIo\n",
       "KiC7khobhaqLggEjQ3wcyRQOf1fujntdiznyN6jkQXYEcA2NzDE3SE2FJlKz+YLxFm8t32Yhq6/n\n",
       "sTDQP69A4+Ls9Vi0OQSowr2hZxlM90p1KYkGemhMekuVLQxjTVzIoAUQbVkHCA5EEl4nTZr3YlVK\n",
       "++wqwKfUhGGOZkOlzwbXAKpgJ+CjgRvjZYP/pVNpkaXptsVu0T593tNUrXPTgVHNNYm7b3t56COe\n",
       "KPbP3PPpXwUxFD0v0EChrJD8s15UpUtl79gIrhHwaiBgThQSf0c8LsA6OKqLuMlDqJdbqdsbGLGV\n",
       "W5RZRCp0nuVPVFogU6LTSRnHT/kaiHx/NQU5AV/cSxcKiHrj5HKsRJxYOI8kickVEZYWmDgyY35w\n",
       "UVdUmpCtvronW096P6AVYCa4B7xzwhrApByc6L3ysCBMhZcP0BimsalOEFerfEW1bHcHfH2r/srk\n",
       "u4e0rshRlL1hHub88lYXpzNiQ9kdi8LT5njZis4hdMziDjGlPYvboBJTia4dkSP3pVOKAwgk4S8u\n",
       "3CnwsYEJ8WFeHoz28CAgwcRI8awfT7/AqGkmFS3ySm50n65rkFavUaEAAADFQZ5ialPBTwAFEc2z\n",
       "byCGNKAvp77tOABLuUd+KGxd7ctEPCm+f+2XCSIDVsglv83zlnQdRWvpjaUmbbAVS343+y00fWLE\n",
       "T2Rps+M2+oqtES2OdmLrWD1sUAg/C6g1ek+bbe3Hyqt67WAZEH/8M79EMZnlIw845g8zyGa38Ame\n",
       "snJofueAAE4jIGLzuhhHwLV3QxCFstwGKzKnEaqWIEkGMVdO0s0WAXto+Sku3oL+kZAW7LhpGJ7p\n",
       "LbOkTmMqrO5sMcvaA6gAAAIWAZ6DakFPAAUR/8LwARAHy/9/groUwbDW5JIxn6kiCroxfNgytdTF\n",
       "tx8jX16Vd2iMAZkxUun6R8uL8KMCbUYW4g414zaC4jaLSRHQUUt94CTHIBnhubCzwM1P8hLIio7i\n",
       "+56VAn2CyKClwOZbEj/gyLLXBBNXy0TRY+Xx608YLINDDONCdA0v0eUsKxEoF80Oy2z4ombz9+kc\n",
       "tc3dSVq/EK71ovFQmbWzvwRWgh5lveiggImBQm+H3VgkG/5ZmH8OBU/hirX1Dohd6xpYZYV8LZj0\n",
       "38315sRqsLgRn+D/xHhOCrz4EKUzd4CMTwpQhZEFPLXYHGtFsPEP1ytrpHBTVxt/zPrheNuz8nNu\n",
       "Izwy07ctRv9ytp2EtEvRx/wyM49ONynGEuLorlkFYnHZUDVvVwP8yn98vQCgDzb2DUYilx/kpwtC\n",
       "zLbexMc6drOCqdDTB9pMKJEY1YxS3nnydo475ukLeeZ39n3RtkH8Ox4QZQBok7ipzzOl3lj4GKaZ\n",
       "A0CAuuLDXWvLQ3bYnnAM9kKX/pIOHh2hkrXOARZ5vTYKcbkXZTbRaD/ULbKM9KntAQpTNR2/brVL\n",
       "5m7CtnJB/NJdFcHzbAqgqdF19FaXqAgJ4Gwg1BGW7qW3kXdYM5qZs+Qe22UwPUyGXNqQJQL38vPE\n",
       "IEntQ4N5otp50ZrQhnYNDoYdl2yXBxEc+mZgs5d2E02rXzN5GDIFAAABM0GahUmoQWiZTAgp//7W\n",
       "jLACuFtPgAtkMY+quO/JqQ00iik2tCEQL/CzyuFxVDl5gKvzPKVcbp7qt4ECHAIgKVS+sxc/0NmJ\n",
       "X4AMHYQziW/7E6BPnGm74aIg3S2xnCvDhB/xY1Jp/ar++/9C3/w64IoMM2poaVAx45e1qAJ+WrEL\n",
       "jPyCamwT9UclouaufStMwjm5KWbiXe/5Fz5y/gY3V52ZdnShZDaIVgmXABFEwfl2dJUq4JMLRbEV\n",
       "OALJ2nWUjDNsUJxPLIrlSOfdrXVVSVtiecRohk4ETnrKAI6ggNj7Hb5MW20gOKo3oDZRNoPg3bdJ\n",
       "v85799zN+Co2yx24Cs/GEDGFyiwxO3mDvr/CSxfwrTf6uA9zCG1zbLGQKs3K+glJP/PO+K5CLH6m\n",
       "yEzL2YL0WM0AAAD+QZqmSeEKUmUwIKf//taMsAKmS66Q+igBYnfpeKvsCPnd/wIRXOAhgg9mVPVs\n",
       "XiNVboT1O1WwU9RZpB2/nQqa3wGBlLKfIPWFmA2zIdYUqxXpV1K6c0Ywbhb8a+YGRGoS7ivJ5oLA\n",
       "I/l425400A2QN2i2Qz7INZnvFJGACefgRn7R2rnZOIgs3z5vKUsuvYPEncsrqAC2GEspRh9PE/cO\n",
       "KqXlGROYJbwUjbIHH/PC+/BnYMaQwcewCj9sHLMLtCSNo8P89czjs4ac7V715q0IETVB1KmmtTB3\n",
       "obaIDnuBswFI5zzzVCnw1ewSOGld3zU20De6RW6Hk9orOSK+t4EAAANubW9vdgAAAGxtdmhkAAAA\n",
       "AAAAAAAAAAAAAAAD6AAAFIIAAQAAAQAAAAAAAAAAAAAAAAEAAAAAAAAAAAAAAAAAAAABAAAAAAAA\n",
       "AAAAAAAAAABAAAAAAAAAAAAAAAAAAAAAAAAAAAAAAAAAAAAAAAAAAgAAAph0cmFrAAAAXHRraGQA\n",
       "AAADAAAAAAAAAAAAAAABAAAAAAAAFIIAAAAAAAAAAAAAAAAAAAAAAAEAAAAAAAAAAAAAAAAAAAAB\n",
       "AAAAAAAAAAAAAAAAAABAAAAAAbAAAAEgAAAAAAAkZWR0cwAAABxlbHN0AAAAAAAAAAEAABSCAABg\n",
       "AAABAAAAAAIQbWRpYQAAACBtZGhkAAAAAAAAAAAAAAAAAABAAAABUABVxAAAAAAALWhkbHIAAAAA\n",
       "AAAAAHZpZGUAAAAAAAAAAAAAAABWaWRlb0hhbmRsZXIAAAABu21pbmYAAAAUdm1oZAAAAAEAAAAA\n",
       "AAAAAAAAACRkaW5mAAAAHGRyZWYAAAAAAAAAAQAAAAx1cmwgAAAAAQAAAXtzdGJsAAAAt3N0c2QA\n",
       "AAAAAAAAAQAAAKdhdmMxAAAAAAAAAAEAAAAAAAAAAAAAAAAAAAAAAbABIABIAAAASAAAAAAAAAAB\n",
       "AAAAAAAAAAAAAAAAAAAAAAAAAAAAAAAAAAAAAAAAAAAAGP//AAAANWF2Y0MBZAAV/+EAGGdkABWs\n",
       "2UGwloQAAAMADAAAAwAgPFi2WAEABmjr48siwP34+AAAAAAcdXVpZGtoQPJfJE/FujmlG88DI/MA\n",
       "AAAAAAAAGHN0dHMAAAAAAAAAAQAAAAcAADAAAAAAFHN0c3MAAAAAAAAAAQAAAAEAAAAwY3R0cwAA\n",
       "AAAAAAAEAAAAAgAAYAAAAAABAADAAAAAAAIAADAAAAAAAgAAYAAAAAAcc3RzYwAAAAAAAAABAAAA\n",
       "AQAAAAcAAAABAAAAMHN0c3oAAAAAAAAAAAAAAAcAABJvAAAEJAAABB4AAADJAAACGgAAATcAAAEC\n",
       "AAAAFHN0Y28AAAAAAAAAAQAAADAAAABidWR0YQAAAFptZXRhAAAAAAAAACFoZGxyAAAAAAAAAABt\n",
       "ZGlyYXBwbAAAAAAAAAAAAAAAAC1pbHN0AAAAJal0b28AAAAdZGF0YQAAAAEAAAAATGF2ZjU5LjI3\n",
       "LjEwMA==\n",
       "\">\n",
       "  Your browser does not support the video tag.\n",
       "</video>"
      ],
      "text/plain": [
       "<IPython.core.display.HTML object>"
      ]
     },
     "execution_count": 71,
     "metadata": {},
     "output_type": "execute_result"
    }
   ],
   "source": [
    "anim_word_idx(37)"
   ]
  },
  {
   "cell_type": "code",
   "execution_count": 34,
   "id": "5ec4d50a-41fd-458c-9a19-2b3b0526ca36",
   "metadata": {},
   "outputs": [
    {
     "data": {
      "text/plain": [
       "tensor(1824)"
      ]
     },
     "execution_count": 34,
     "metadata": {},
     "output_type": "execute_result"
    }
   ],
   "source": [
    "p_candidates[:, 0, 3].argmin()"
   ]
  },
  {
   "cell_type": "code",
   "execution_count": 35,
   "id": "0dff1d5c-cd0d-4c96-b3cd-c052fa38a99f",
   "metadata": {},
   "outputs": [
    {
     "data": {
      "text/plain": [
       "tensor([4.2436e-06, 5.6206e-06, 5.6396e-06, 5.6396e-06, 5.6396e-06, 5.6396e-06,\n",
       "        5.6396e-06, 5.6396e-06, 5.6396e-06, 5.6396e-06, 5.6396e-06, 5.6396e-06,\n",
       "        5.6396e-06, 5.6396e-06], dtype=torch.float64)"
      ]
     },
     "execution_count": 35,
     "metadata": {},
     "output_type": "execute_result"
    }
   ],
   "source": [
    "p_candidates[1824, 0, :]"
   ]
  },
  {
   "cell_type": "code",
   "execution_count": 39,
   "id": "de3077c4-ccc8-48a4-a365-eb5f92ddc385",
   "metadata": {},
   "outputs": [
    {
     "data": {
      "text/plain": [
       "['ɑls']"
      ]
     },
     "execution_count": 39,
     "metadata": {},
     "output_type": "execute_result"
    }
   ],
   "source": [
    "stim.get_candidate_strs(1824, 1)"
   ]
  },
  {
   "cell_type": "code",
   "execution_count": 32,
   "id": "a21de507-01e3-4386-a445-9ff09993bfdf",
   "metadata": {},
   "outputs": [
    {
     "data": {
      "text/plain": [
       "tensor(9.5920e-07, dtype=torch.float64)"
      ]
     },
     "execution_count": 32,
     "metadata": {},
     "output_type": "execute_result"
    }
   ],
   "source": [
    "p_candidates[:, 0, 0].min()"
   ]
  }
 ],
 "metadata": {
  "kernelspec": {
   "display_name": "Python 3 (ipykernel)",
   "language": "python",
   "name": "python3"
  },
  "language_info": {
   "codemirror_mode": {
    "name": "ipython",
    "version": 3
   },
   "file_extension": ".py",
   "mimetype": "text/x-python",
   "name": "python",
   "nbconvert_exporter": "python",
   "pygments_lexer": "ipython3",
   "version": "3.9.13"
  }
 },
 "nbformat": 4,
 "nbformat_minor": 5
}
