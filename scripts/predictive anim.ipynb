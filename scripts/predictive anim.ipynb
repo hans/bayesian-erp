{
 "cells": [
  {
   "cell_type": "code",
   "execution_count": 1,
   "id": "834487f2-a8dc-41da-94f7-80c79798cd50",
   "metadata": {},
   "outputs": [],
   "source": [
    "from argparse import ArgumentParser, Namespace\n",
    "from pathlib import Path\n",
    "import pickle\n",
    "import sys\n",
    "\n",
    "from matplotlib.animation import FuncAnimation\n",
    "import matplotlib.pyplot as plt\n",
    "import numpy as np\n",
    "import pandas as pd\n",
    "import seaborn as sns\n",
    "import torch\n",
    "from tqdm.auto import tqdm, trange"
   ]
  },
  {
   "cell_type": "code",
   "execution_count": 2,
   "id": "3449004e-eeb0-43fa-b57c-c74158a2d0ad",
   "metadata": {},
   "outputs": [],
   "source": [
    "from IPython.display import HTML"
   ]
  },
  {
   "cell_type": "code",
   "execution_count": 3,
   "id": "ae3b052b-ea4a-4edd-92c7-7f1740ed38d1",
   "metadata": {},
   "outputs": [],
   "source": [
    "%load_ext autoreload\n",
    "%autoreload 2"
   ]
  },
  {
   "cell_type": "code",
   "execution_count": 4,
   "id": "8245862e-e234-4341-a393-24698405b14a",
   "metadata": {},
   "outputs": [],
   "source": [
    "sys.path.append(str(Path(\".\").resolve().parent))\n",
    "import berp.models.reindexing_regression as rr"
   ]
  },
  {
   "cell_type": "code",
   "execution_count": 5,
   "id": "239c5f9d-1e29-4124-b7e7-72311138522b",
   "metadata": {},
   "outputs": [
    {
     "data": {
      "text/plain": [
       "True"
      ]
     },
     "execution_count": 5,
     "metadata": {},
     "output_type": "execute_result"
    }
   ],
   "source": [
    "IS_INTERACTIVE = False\n",
    "try:\n",
    "    get_ipython()  # type: ignore\n",
    "except NameError: pass\n",
    "else: IS_INTERACTIVE = True\n",
    "IS_INTERACTIVE"
   ]
  },
  {
   "cell_type": "code",
   "execution_count": 6,
   "id": "c46458bc-2468-4f8b-ba60-1395c7b61c9f",
   "metadata": {},
   "outputs": [
    {
     "data": {
      "text/plain": [
       "_StoreAction(option_strings=[], dest='confusion_path', nargs=None, const=None, default=None, type=<class 'pathlib.Path'>, choices=None, required=True, help=None, metavar=None)"
      ]
     },
     "execution_count": 6,
     "metadata": {},
     "output_type": "execute_result"
    }
   ],
   "source": [
    "p = ArgumentParser()\n",
    "p.add_argument(\"natural_language_stimulus_path\", type=Path)\n",
    "p.add_argument(\"confusion_path\", type=Path)"
   ]
  },
  {
   "cell_type": "code",
   "execution_count": 7,
   "id": "cdd586cc-9fed-4343-95a8-65b87fd8d3bb",
   "metadata": {},
   "outputs": [],
   "source": [
    "if IS_INTERACTIVE:\n",
    "    args = Namespace(natural_language_stimulus_path=Path(\"gillis2021/DKZ_1.pkl\"),\n",
    "                     confusion_path=Path(\"gillis2021/confusion.npz\"))\n",
    "else:\n",
    "    args = p.parse_args()"
   ]
  },
  {
   "cell_type": "code",
   "execution_count": 8,
   "id": "c8cb02b7-404c-4ce7-811f-4bd7207c6995",
   "metadata": {},
   "outputs": [],
   "source": [
    "with args.natural_language_stimulus_path.open(\"rb\") as f:\n",
    "    stim = pickle.load(f)\n",
    "confusion = np.load(args.confusion_path)"
   ]
  },
  {
   "cell_type": "code",
   "execution_count": 9,
   "id": "6b55caec-7a9b-4d2f-9e91-38698f531d4c",
   "metadata": {},
   "outputs": [],
   "source": [
    "assert confusion[\"phonemes\"].tolist() == stim.phonemes"
   ]
  },
  {
   "cell_type": "code",
   "execution_count": 10,
   "id": "00cfdb77-225f-4742-a0ac-46439c3865eb",
   "metadata": {},
   "outputs": [],
   "source": [
    "confusion_matrix = torch.tensor(confusion[\"confusion\"])\n",
    "\n",
    "# Smooth and normalize.\n",
    "confusion_matrix += 1.\n",
    "confusion_matrix /= confusion_matrix.sum(dim=0, keepdim=True)"
   ]
  },
  {
   "cell_type": "code",
   "execution_count": 11,
   "id": "f134744f-2404-4d0e-a732-fe351b93c236",
   "metadata": {},
   "outputs": [],
   "source": [
    "p_candidates = rr.predictive_model(\n",
    "    stim.p_word, stim.candidate_phonemes,\n",
    "    confusion=confusion_matrix,\n",
    "    lambda_=torch.tensor(1.),  # TODO,\n",
    "    return_gt_only=False)"
   ]
  },
  {
   "cell_type": "code",
   "execution_count": 12,
   "id": "bad0ff94-6df0-4025-b368-b29b423f0b9e",
   "metadata": {},
   "outputs": [
    {
     "data": {
      "application/vnd.jupyter.widget-view+json": {
       "model_id": "abba76ae36bb4acfa905dd6293320cfe",
       "version_major": 2,
       "version_minor": 0
      },
      "text/plain": [
       "  0%|          | 0/2190 [00:00<?, ?it/s]"
      ]
     },
     "metadata": {},
     "output_type": "display_data"
    }
   ],
   "source": [
    "# Nested array. Outer list of words and inner list of phonemes per word.\n",
    "plot_data = []\n",
    "\n",
    "k = 10\n",
    "for p_candidates_i, candidates, gt_length in zip(tqdm(p_candidates), stim.candidate_phonemes, stim.word_lengths):\n",
    "    candidate_strs = [\"\".join(stim.phonemes[idx.item()].rstrip(\"_\") for idx in word)\n",
    "                      for word in candidates]\n",
    "    plot_data_i = []\n",
    "    \n",
    "    p_candidates_i = p_candidates_i.T.numpy()[:gt_length]\n",
    "    topk = (-p_candidates_i).argsort(1)[:, :k]\n",
    "    p_candidates_i = np.take_along_axis(p_candidates_i, topk, 1)\n",
    "    for t, (p_candidates_t, candidates_t) in enumerate(zip(p_candidates_i, topk)):\n",
    "        plot_data_i.append((candidate_strs[0][:t + 1], list(zip(p_candidates_t, [candidate_strs[idx] for idx in candidates_t]))))\n",
    "        \n",
    "    plot_data.append(plot_data_i)"
   ]
  },
  {
   "cell_type": "code",
   "execution_count": 13,
   "id": "bca2af38-369b-4428-aa5e-def8659dabd5",
   "metadata": {},
   "outputs": [],
   "source": [
    "class PredictiveAnimation:\n",
    "    \n",
    "    def __init__(self, plot_data, k=3, threshold=0.7):\n",
    "        self.plot_data = plot_data\n",
    "        # Mapping between frame index and plot_data nested index.\n",
    "        self.plot_idxs_flat = [(i, j) for i in range(len(plot_data)) for j in range(len(plot_data[i]))]\n",
    "\n",
    "        self.k = k\n",
    "        self.threshold = threshold\n",
    "        \n",
    "        self._prepare_figure()\n",
    "        \n",
    "    def _prepare_figure(self):\n",
    "        self.fig, self.ax = plt.subplots()\n",
    "\n",
    "        self.ax.set_xlim((0, 1))\n",
    "        self.ax.set_xlabel(\"Evidence for word\")\n",
    "        self.ax.set_ylabel(\"Word\")\n",
    "\n",
    "        self.bar = self.ax.barh([str(i) * 15 for i in range(self.k)], [0] * self.k)\n",
    "        self.threshold_line = self.ax.axvline(self.threshold, color=\"gray\", linestyle=\"--\")\n",
    "        self.prev_label = self.ax.annotate(\"\", (0.49, 0.85), xycoords=\"axes fraction\", ha=\"right\")\n",
    "        self.incremental_label = self.ax.annotate(\"abc\", (0.5, 0.85), xycoords=\"axes fraction\")\n",
    "        self.prev_incremental_text = [None]\n",
    "        self.acc_text = []\n",
    "        \n",
    "    def get_first_frame_for_word_idx(self, word_idx):\n",
    "        return next(i for i, (word_idx_i, _) in enumerate(self.plot_idxs_flat) if word_idx_i == word_idx)\n",
    "        \n",
    "    def animate(self, i):\n",
    "        token_idx, incremental_idx = self.plot_idxs_flat[i]\n",
    "        incremental_text, incremental_dist = self.plot_data[token_idx][incremental_idx]\n",
    "        print(incremental_text)\n",
    "        print(incremental_dist)\n",
    "\n",
    "        xticklabels = self.ax.get_xticklabels()\n",
    "        artists = list(self.bar) + xticklabels\n",
    "\n",
    "        for i, ((p_i, option_i), bar_i, label_i) in enumerate(zip(incremental_dist, self.bar, xticklabels)):\n",
    "            bar_i.set_width(p_i)\n",
    "\n",
    "            # Doesn't work .. do it differently below\n",
    "            # label_i.set_text(option_i)\n",
    "\n",
    "        self.ax.set_yticklabels([option_i for _, option_i in incremental_dist])\n",
    "        self.ax.tick_params(\"y\", width=10)\n",
    "\n",
    "        if self.prev_incremental_text[0] is not None and not incremental_text.startswith(self.prev_incremental_text[0]):\n",
    "            self.acc_text.append(prev_incremental_text[0])\n",
    "            self.prev_label.set_text(\" \".join(acc_text))\n",
    "            artists.append(self.prev_label)\n",
    "\n",
    "        self.incremental_label.set_text(incremental_text)\n",
    "        artists.append(self.incremental_label)\n",
    "        self.prev_incremental_text[0] = incremental_text\n",
    "\n",
    "        return artists\n",
    "    \n",
    "    def plot(self, start_frame=None, n_frames=100, kwargs=None):\n",
    "        plt.ioff()\n",
    "        if start_frame is None: start_frame = 0\n",
    "        \n",
    "        default_kwargs = dict(blit=True, repeat=True, interval=750)\n",
    "        if kwargs is not None:\n",
    "            default_kwargs.update(kwargs)\n",
    "        \n",
    "        anim = FuncAnimation(self.fig, self.animate, frames=list(range(start_frame, start_frame + n_frames)),\n",
    "                             **default_kwargs)\n",
    "        return HTML(anim.to_html5_video())"
   ]
  },
  {
   "cell_type": "code",
   "execution_count": 14,
   "id": "2dc35fc3-d2b5-4944-a096-9f1d9aa62835",
   "metadata": {},
   "outputs": [
    {
     "name": "stdout",
     "output_type": "stream",
     "text": [
      "k\n",
      "[(0.7014116173775149, 'klɛinə'), (0.07461965160494644, 'də'), (0.05971807603688842, 'twe'), (0.05003370856580871, 'erstə'), (0.032754172086010135, 'ən'), (0.02935979950471179, 'də'), (0.018735951632066827, 'ɪn'), (0.012781782850021909, 'xrotə'), (0.010797525279562637, 'ɑndərə'), (0.009787715062468082, 'latstə')]\n",
      "k\n",
      "[(0.7014116173775149, 'klɛinə'), (0.07461965160494644, 'də'), (0.05971807603688842, 'twe'), (0.05003370856580871, 'erstə'), (0.032754172086010135, 'ən'), (0.02935979950471179, 'də'), (0.018735951632066827, 'ɪn'), (0.012781782850021909, 'xrotə'), (0.010797525279562637, 'ɑndərə'), (0.009787715062468082, 'latstə')]\n",
      "k\n",
      "[(0.7014116173775149, 'klɛinə'), (0.07461965160494644, 'də'), (0.05971807603688842, 'twe'), (0.05003370856580871, 'erstə'), (0.032754172086010135, 'ən'), (0.02935979950471179, 'də'), (0.018735951632066827, 'ɪn'), (0.012781782850021909, 'xrotə'), (0.010797525279562637, 'ɑndərə'), (0.009787715062468082, 'latstə')]\n"
     ]
    },
    {
     "name": "stderr",
     "output_type": "stream",
     "text": [
      "/tmp/ipykernel_65575/4229271781.py:45: UserWarning: FixedFormatter should only be used together with FixedLocator\n",
      "  self.ax.set_yticklabels([option_i for _, option_i in incremental_dist])\n",
      "/tmp/ipykernel_65575/4229271781.py:45: UserWarning: FixedFormatter should only be used together with FixedLocator\n",
      "  self.ax.set_yticklabels([option_i for _, option_i in incremental_dist])\n"
     ]
    },
    {
     "name": "stdout",
     "output_type": "stream",
     "text": [
      "kl\n",
      "[(0.9934339734917261, 'klɛinə'), (0.0022258108954782193, 'twe'), (0.001587056672309549, 'ən'), (0.0009078238024657926, 'ɪn'), (0.0005594566053911414, 'erstə'), (0.0005231786806994319, 'ɑndərə'), (0.00041086235745253476, 'də'), (0.0001616576354805712, 'də'), (0.00014292070384338076, 'xrotə'), (4.725915515330476e-05, 'latstə')]\n",
      "klɛ\n",
      "[(0.9999686047186139, 'klɛinə'), (1.9567265344684207e-05, 'twe'), (3.487982636712315e-06, 'ən'), (3.162019990556345e-06, 'ɑndərə'), (1.9951862560691387e-06, 'ɪn'), (1.3832504091384587e-06, 'erstə'), (9.029802110265242e-07, 'də'), (3.5528600552597185e-07, 'də'), (3.141065735900727e-07, 'xrotə'), (2.27203958815586e-07, 'latstə')]\n",
      "klɛi\n",
      "[(0.9999998737493979, 'klɛinə'), (5.7548426674412493e-08, 'erstə'), (3.015081234717485e-08, 'twe'), (1.4395414368431577e-08, 'ɑndərə'), (1.3068016462368432e-08, 'xrotə'), (5.3745634914838646e-09, 'ən'), (3.074343059427337e-09, 'ɪn'), (1.3913843562850899e-09, 'də'), (7.001881771532239e-10, 'latstə'), (5.474531823171201e-10, 'də')]\n",
      "klɛin\n",
      "[(0.9999999285897107, 'klɛinə'), (5.7548429830386554e-08, 'erstə'), (1.3068017179022622e-08, 'xrotə'), (5.896180358962057e-10, 'ɑndərə'), (1.463631747604615e-10, 'twe'), (2.609011546711965e-11, 'ən'), (1.492399625254998e-11, 'ɪn'), (7.435251075337346e-12, 'latstə'), (6.75429336208281e-12, 'də'), (2.6575398657263585e-12, 'də')]\n"
     ]
    },
    {
     "data": {
      "text/html": [
       "<video width=\"432\" height=\"288\" controls autoplay loop>\n",
       "  <source type=\"video/mp4\" src=\"data:video/mp4;base64,AAAAIGZ0eXBNNFYgAAACAE00ViBpc29taXNvMmF2YzEAAAAIZnJlZQAAG9ptZGF0AAACrQYF//+p\n",
       "3EXpvebZSLeWLNgg2SPu73gyNjQgLSBjb3JlIDE2NCByMzA5NSBiYWVlNDAwIC0gSC4yNjQvTVBF\n",
       "Ry00IEFWQyBjb2RlYyAtIENvcHlsZWZ0IDIwMDMtMjAyMiAtIGh0dHA6Ly93d3cudmlkZW9sYW4u\n",
       "b3JnL3gyNjQuaHRtbCAtIG9wdGlvbnM6IGNhYmFjPTEgcmVmPTMgZGVibG9jaz0xOjA6MCBhbmFs\n",
       "eXNlPTB4MzoweDExMyBtZT1oZXggc3VibWU9NyBwc3k9MSBwc3lfcmQ9MS4wMDowLjAwIG1peGVk\n",
       "X3JlZj0xIG1lX3JhbmdlPTE2IGNocm9tYV9tZT0xIHRyZWxsaXM9MSA4eDhkY3Q9MSBjcW09MCBk\n",
       "ZWFkem9uZT0yMSwxMSBmYXN0X3Bza2lwPTEgY2hyb21hX3FwX29mZnNldD0tMiB0aHJlYWRzPTMg\n",
       "bG9va2FoZWFkX3RocmVhZHM9MSBzbGljZWRfdGhyZWFkcz0wIG5yPTAgZGVjaW1hdGU9MSBpbnRl\n",
       "cmxhY2VkPTAgYmx1cmF5X2NvbXBhdD0wIGNvbnN0cmFpbmVkX2ludHJhPTAgYmZyYW1lcz0zIGJf\n",
       "cHlyYW1pZD0yIGJfYWRhcHQ9MSBiX2JpYXM9MCBkaXJlY3Q9MSB3ZWlnaHRiPTEgb3Blbl9nb3A9\n",
       "MCB3ZWlnaHRwPTIga2V5aW50PTI1MCBrZXlpbnRfbWluPTEgc2NlbmVjdXQ9NDAgaW50cmFfcmVm\n",
       "cmVzaD0wIHJjX2xvb2thaGVhZD00MCByYz1jcmYgbWJ0cmVlPTEgY3JmPTIzLjAgcWNvbXA9MC42\n",
       "MCBxcG1pbj0wIHFwbWF4PTY5IHFwc3RlcD00IGlwX3JhdGlvPTEuNDAgYXE9MToxLjAwAIAAABAz\n",
       "ZYiEABX//vfJ78Cm61tbtb+Tz0j8LLc+wio/blsTtOoAAAMAABnblS+MhuoLgPtAADyZ5SNNU9f2\n",
       "ADnyl0r0DEkEypTpticbwc5fU7hb9BZ1qdwIoIkVrw2+AjpCUWzBM26K/eRDM9mNbEhxUonvtIy5\n",
       "G76WOZJYTRAV3wAooJ8MNZO3mBNQ+QGQzuX/Tv3f8hsBi3MIo1GOWvwFCKGcjkMgLb+JgI94eGoh\n",
       "X3X/UjHZz7sVbRwKLMLigxh2Fj0+7GPdZoJB7jS5XdQgoe541Fl+DfFblzu5SRpnLVd8fjw5COY6\n",
       "KFi8ieh3i9whBIslXtt9366ms6jLSHHCEfWiGRls2QYWStyRIFkUcQWq5Q3Xo08NuvxrbsLTet3n\n",
       "s/7jx5sq/mNSYua7wp3V00+jn2wI9Xad6x3RFgfmkOdROKeJnQerC/iC1PryVn7di4ULFwG1v/n6\n",
       "htLQPa+YSbLrCzMj5EuRGpogvH4cok2vJ2ZrbIlPlmTNqcWCSZ72HhrfcZHhGtzlRqf2pBAD1XH/\n",
       "w7nhUoIBcuVNcXuO4BDwoWQN2VwId5YDIUeznsCATSbOeGVPRTnRS53Ibzy8wgcf6LZIqzW8COvx\n",
       "9wprTn4zCAUfAVfbl2PYDyk+t6gfdw9K6WGFdYrAtKXnjvV6cON6+2jO+incHW+zU6v/k9IAczvf\n",
       "ItOM5bFlsyR5Z+63BVF2h5SXcnxyK4/v1fdG/HHzrqVb51SfwKUzn/VLC39zQ7EH8nlUZO2NgFaM\n",
       "Slz+s+k+K05LHowNG3LiFrbaIDrmvKF6bpTjMeOTnyqca2Tl3+ICqBUYRsBvOM9jtfRyB3/4Jz+9\n",
       "/BLsu1ykqx/9r1JH2PCrJIM1oExnxm09v/rSbmZWDjfE79VSDNIaqqukmEtxTKYvm7qbie3BETMF\n",
       "5PsUEOYirErB/JwUYmOR1aJe381eYczcQFrCj5xg7aS7uffXD1FzHPkzuO7TP/V2Szt6tfDohRdQ\n",
       "7UCt1jW+soqbaI3FAXX5SsiQUWC6XEjmuSGjxn6WyculYMPdxT+HrEod4WTppILQa2KjOwSgf9xN\n",
       "ybVTWvgSOnpFfJ3wohdPh3qVpUhtuWWt9ABBtWetWiaoHTJvl+Q+KDXwyFJElybSani7F4GrgCsj\n",
       "S4Qt2q/NpkEA3O96GqYNaWxa/XUt4yodoPNt6X52YA1lJAdg9XMo+w6rZUDVLik9Izoml6pmHNb4\n",
       "4YSZb5C+qkvoWeqMAFr+ePmfbNrsZ7aRpVTYpU5kBCLEaoCGAB29aPR9VsBHWYGFKhTJilifYp3H\n",
       "GShyWPFNyvaSMbhJz0y4SC1pUB+SLpxT9P2AwC1NlrlbS3ns3IH2EivoxvKl+qlbV6aL+2V1z9Rb\n",
       "0a1PUKA1erfo1h72sUfv4VPkC3Zt9v9q5nNUd4rDzE0DS0lPhzR+hwhFogkIK4e1YXJY8ewu44G/\n",
       "6G1YkZts39V6itjs815Rqse2bmUQbpTZQGcQiMrJy2SiNM3JvAFipHW7XcjOtBgU+T4BficQy73J\n",
       "goee92XU0QX0rRAer/4FrQUY16U4N94KmYdCJy4fP2qbwHh8Xrb0F5e/LUkhXNPl7pGRSqw6Vwuj\n",
       "wRIMhNvTUrswT12L0clb7uKOsVGrpbb77nd+Va9HHy+xibpZc4YddHE4CJeg15KXCHZ3VCGzH6UY\n",
       "JOAvEShkQNJ2TRlbd5l+no4MoQCeljW5LihJngECYv+B35pfnBgLXKqjJ5PNAzUg0dA2kq+wQPlc\n",
       "/T3mmvhw4Mh/DQVkPkWH9+ZJZWBpz+8yybGS5YQFq7z5hhXJfKU/aPheNHZj+q34SZq1mZxBHts/\n",
       "MJPxgXcHoeWm4zVEAJVQTE6MQBEe9BOOjKDRK9D8kGJGieJA45qMcjiWDvkRKWXrxDoLAm00OvUG\n",
       "syTjDZ8BuAmKfknC1UYGojHmvV5FBP0vBdPsgjNmiiedyCys/d9F2yObYDZYgd3h+5OCvn8Rhzg6\n",
       "p46OpfWqDMPcV3FmjzImLFvSieiJeBMjQZ6cfu1LwBgSoQGBmuCFT+ogHz7iMjC3yUgeouGULrWG\n",
       "n9W7g5Y0+wYOozXrBopDQc/gwFhvCIT2RICJqSKsIrVvThswh/pPr4YmkiIxR8xnqnl1wCq50pLc\n",
       "GwU0KLPwGv5CISYVyj4izJDAoeUPJakB7D0vNAa032H7JGo4/tsR+B5+Ov8UK2Es75uAVJjogsMt\n",
       "T/kQaTxez+MHvdf6/3GAnTmSkMOxv3aSsZ8GmllFJrrJj+94oOXTwDgWoHWHw4ufn511WW8cKnim\n",
       "lmHjjKnV1TrIG0K8sz+yuqJmeGlTQB+89X3KRF/sGld5ydi7jwFlWW7gfTBPTF1rV4fOtoopAovh\n",
       "cUEAC891N3vkH4sAf8mkPgAeCGhIbeOCxnZVfEW4u0YBmLRV771aY78/etvleArltkKbfFU6ULVT\n",
       "5++8m2kAzmkHjMAR4jP3nCvsgDMvRGtDz9s2FAC6Fozpl7vLG3e8mghTw1ol1PAGPwtaFjk2VWkI\n",
       "vRkly2A82ypbVZXEVoZ1CExFbuD2hZlbfKVPhrhH58Bf2T9HsdvXs2VSFxVQyHf13IMXIf9EUKft\n",
       "5KsShwDzPb1GTUF96xDZoA1pN8jrgL4bz7LDITDFR9tuVBTcR5u3OrBiJn41e4rUGEMxtjJSp/tt\n",
       "NBhUrkiBAD5zi6Hby9+xlRhNaL3/t/yElI7jCjo7X7YO9ithI2U6j68IucwG4CnZYaR8px3F371e\n",
       "dbaWBNnQIxZ/Z0RmuQFx9a0Ranb1K3F1YUCOPM+/7KqidmBywi4yjqAgayZNhGoRvxu66RhyTFvV\n",
       "gLyeElXgVS1OXijiWzRuArQYR/ryWCUsug+AYzpSapyStz1KoODpe7RzVGXYOv9B5jmQzZFfRvIk\n",
       "WaO146DrYZMN6DDsZlrl+dcQABfatN6bY5DNw9osStYJd/j9ROj532MkLvQRjQGlZOWKQs6PEJak\n",
       "09nE39SDRFDV4eJzkxlKjVBrZdIhGaV4v5SrGC+fiTjvTVBvILuZ4zhTqOBiD17Vri933m0RQwWm\n",
       "Og7PI7kSERroPpw1jw6BeQL3FG3hN3EF6gofswa7K/NU16ajhhkJf27lav8VkY71ZKOC9s06wEP1\n",
       "6LIO7DjfE5omnWfAlUK70z3Rjw7zrppTqEf8m2zyO/f9/EF8ji4EkkBscZ27NeoGnQvcvrRZ+QJg\n",
       "LjhQ+Xj/OqgAiqmTElkXCpvilgjRMVxUd8ByHgCK2QOOL6p8MSBO6bC0k1SO8OyJK1v1dmO3kx/c\n",
       "3r6VEqVsR9NWPDotUU2nUoD8Uxx5Lldk6l4ThFXeLd8EJZbeuXZikEOZwuA/+sfIwVPaBJPUbaSw\n",
       "mirLSB/y2ROqIoRjfDUDYTza/jnlX22xeE32v+8/7KqrmnoW0SiDKCiS2CyhNNt5iCtnilAItrK6\n",
       "aLqrJqinbWWgLIfghSaGvK6+237qjir+MWF5qmR9hCtpIwYls8TGbC9EDn0FniL7va2hutVkdYxq\n",
       "zdWWxKrsnaBeseSS1KBNHKK134yHcRK6gyIGXk1MCxUSR117bdeKkSHr5948EBAglbh8OjXIMw0X\n",
       "lCOkRp0h5naj+YifLHzlfkCJzTG+MvIW+wviiNjn9wmZXCHJPNFv78SkryegBXsi6SHRieB7rQez\n",
       "ZobMhqfg4q2waorr8WtUriTxwVjHg+qITSOHivW2/qnem686CP4LW+QifBA251LJTnUk9nRLCekt\n",
       "nF6JnX8dhLPje9z09OM+r3hkOcYR9cKgX4EPVkqXL4O7zeh7DjV9K7rPudJ2rchVERm2BIeotqj9\n",
       "1jK2Tdu9UPC0EHvc49mYn5/rKFj6Yz44EtfgZfyaOvvOMiWRnjnm49T/3m4ZtkeeFxob2VG+i+4Y\n",
       "dvrQ/d55++9w1ck2TzEfL7nMxQKddBt9Wnr8RwZRMrrxKm4TOvb5W35BefGK5FIRuF7H8AefFnck\n",
       "j7BFxMMWmIrsmAOROJpFg+ejhnG1P4SVpA651r7Sko4FIbpVahb6yC+NuxkoweB+QKr3Jxq+17AB\n",
       "j8m+Ho4+M2nmOax34tgAmPFsvDZzGuruEoiO3ZrHhQmuUmlnYm5Sn7OAsdwZWFEGLRQYbzSPEgb3\n",
       "Wl0Xxm7x39Hxii8mUT1XiNt9KHxvihoUawLzt8zTi08jIHIf7onfC4tgYbX5lOsrW2smexS2rI5i\n",
       "Q3Os/vs5FlTQBtHno9KQL4TSrDy194Z1gdbby6qMCtmcSjJsRum8gi2m29f87qXsr3JD+cUCg9S5\n",
       "qRaCrisB5dhImqXDHcnhpMf3PRgyZS+ULF6WJLqE4TGu6KXBb/2r/F/BxQ2uM5DMGVZganTbu6RN\n",
       "Ky5cHPTJVhifJLCdxtaw6Jt3D+E765wkPqYyoBXIfoGvwouigrqtP0d140fzVHNc2qBjX2MH1ste\n",
       "DjWwe2rzii9NLPSkGUGME0D65KJ0oC8yG5/AvrFMv2/QiOET2dy0iBK98qZ+IAL7Y8fvDlrkdu5J\n",
       "O6fsvcRwH+/cixSUQYwT2c/L7C3xNQHNYLqDhwx9DlA68mQqYai+mEJAbKfU2j1b9GtDnSjTK0Qi\n",
       "X4gUzVO1KaFHRb4haT2qCrRNwnqUIfE83mhXmBboHY4Gt5FAnrNU69a3EgFFLf2MKKFnLztiCHrf\n",
       "+BYswRboeWEE2VdbSWm51K2srOQXadf9hZNbJoycIcrqhJ9PqJ6vUffl4RGFcxyr4sB8+/GDCT5F\n",
       "f0lFT04KKXWxm0f7GC2biJUCP8GmMaRWHiNkQh03bWwZNZ7hurEyvI9vAejV7agO1xiMvztp5j1o\n",
       "RdORnjegfO62NX+R0Coj3qrNcDDOVgmCKEwnndi1Za2lUtTBBSSfqDwms/Om8MOyjgllpOCa5DpV\n",
       "RJiJc7A0GtFq0K5PHqFFOt7hyBdUxzqiGi6wLUv2f6/vwXnivFeS40OU7FDMODgsA53HUqBd0Bhu\n",
       "YmF4Ev1bGI+bNxGAL0QonBqbz18lq78RGVsCVepL50EbtBtrOr2B/Hy4Z7Ig/KUustuBEhOlo6Wt\n",
       "PVzIO0YdY22T3KHoBS8D0Y51uA+rW610nmAdcA7P7MprcmiBNVSmwGNY841EF8gPV3yJ07l6+aLj\n",
       "m5lt2sDIJTo7QH+99vvnY/ggpUIcG8X/x6sCvb6T6BcH9iW+NojBlhVI9XL+6OkfhG03Z5Aemo+O\n",
       "eb/C7LD3Rh/maDIKDSMxaA++O+Vv43KjYwgUq468tK/9L9WBmxKMAgotqjYfAdxHc7sYcKR8YJI4\n",
       "AsV6xOdveNyG3o1/Mhk1DhA+lLqvewiDZyc7V9moBzmmXUHyKYVv+ODzMEyBhQhr8MIJQIPM3HDC\n",
       "G82ybarWXBQoMy8xt9Pev2/RRMdnsh0z5qlx6NuYtLQjcxRDCPMrzowBX/TNn+KON08j2fUf+qkK\n",
       "aS0cgXvZXlSAhNAISWrYqmOIjapNijN9iBX/tcy7nTt6LTSkyYpDUMuSG2NfMOkLVnb+1FsMOC9T\n",
       "mkymDDJlOGggv+tMdoY8+sLewwnn2tU9WPgJrTkC5sTKb8KXRojQKAHhmwAABMNBmiFsQV/+1qVQ\n",
       "BJcru62UABww4HLFW+L/8QmZJkFYLiZ5R3ru9x82wEbDqcHtryrHm12yywWnIw0bY16lTjMygv5G\n",
       "OF0Ywt6Q/Olx51eXWzTZWVh94L1S1Cydj1Vv8f79vL0HLVdS48c4gEN8D7NFJhiH0ZZY2exXwQBV\n",
       "47/OSbXkL0c0Z2g5/kyVm63vMSGuLw+wMEAJu/1HWfWSuUy4tIm25g70BZjaWEFyhQRkeczgvinC\n",
       "dHLrqUGQp480i/tNVG08Eu1sAdAOMDdo7/cNsNPWJJB1vzpw4LdPKRC2RSrdUCVyYD7v5KD1ygXU\n",
       "lwmPoQBS6Hh14SX+HTPTO3HeOWVwbjozHrp5hP3xEoqsBOQcVDpPm3mwP/AviPNI8AnQSfppJhlw\n",
       "IrLOFwqFCzGPOobJHekLoLqWcX+NZ142OPBeAtY8zlaGv/snv1xziU6+eL19MzeyiA3HYCK8i1KE\n",
       "uAAWtNihHKmgZzTC/WV6b+Dg8Q7gBdn8NCAHk6eZgiBE/EsvuhxOIkyq3Nuu3mqMtlhoBL4QKZhC\n",
       "7Fd0YSZpm93/aL2cHC01UUTJcp53hmwZ+HWrKtZkoQRhKvjlnAZUqP6JXWXQeMGIqiCcewHfwon+\n",
       "bQBasjNekkmjABtsJcpdfJ49fFL2XoeyZgMbnu3FTHDIfYS/CGWOEtErC3ecSR7TFESAZHxGvQDu\n",
       "4g3AiTBj1nEL2HGH/PV7UNWl1gHkqGIkBFs6dPYn/trZOeuxgSMLSArbb9G8+lUjYfM22W8aDbRg\n",
       "v3b+D9yh2JY5bfjA8CE9IDLp/9E1TgSnrrGe6grK83U5s0m5gwuOerT0YOSyNlnxjvT4IEB7Xnyk\n",
       "nrj5RCZM6PT4tnZZ16tx/+1jfZrda92mR7cDVesQE4083U9xr5hd651WzNogUXbw1qngymUWr2VN\n",
       "7dNbiwo+cdwXnSSrXnJIKzXsR2q1alQEuTd6R9Jyr36LGgRVdafrzljzyCqcuSazyKGGZ3M7UqhX\n",
       "l+4BepmPcRMQEEnBXRlj736z/GU3uiKlfZFVAT6610s87bI84gn6mU31qEQacGms9Oyr+ITTeUhM\n",
       "1/HzcLEA5JjIyWFvMk7TtMwvNnvMUGI5WqO1wXze7IhiDqF7jcqSngEC+g6CqkNRPrKMsI46DZOM\n",
       "iYPbm0o2C6PCqGudnnYrySN+9umZxHHXQPs0aZ6AujQW+xWBPUDsydtww8dmoEk0sSSjJVbMvW6C\n",
       "6SuLJ/cZWM9UcIALtIdgo+9Hfgj+t68gL7jj+wWZ349eCVBlyhkVa5PzRbpsdwcFzDrrOhNErsH9\n",
       "TinscoSnYPAW0qJ/oYRs3OVvDyfkAxR3mugsh0Pseq+X4fjNMxayA9osocBkDHKlXfCtbJpZYhu0\n",
       "OTMlBEA+qkrI3Z/6d8Nqmo7olHXmytFNSWrNsgf6NT+K0ebHjwKd1E4KTxCtqHnZj8tysq4mZr7k\n",
       "noU3vEfpLcjNGSWSbw9CkgyS3Oe0gBMXcnQ7LLBRBSDlFpIpB/AanpZ2/JdlkVm8pnA69PJ0ofnN\n",
       "rodmSF0x2OjLwXS9Om4VW3i8262fuoKPGKT0w0PtmySYHACX8eAdcuh/q079Jdv0HCG1fS0RKbF4\n",
       "JqZRIAJJ+rW3MRbmAAACmEGaRDwhkymEFP/+1oywCSLcMUAH9X4P1vBas/mq9nuxkPB+f6+wRW3f\n",
       "67mTzLQ6C6xd2Yu+71hJKVNGKixPbexLeD93rIhors4WpRxoqK8X3IGLjb2RDmsT/4ltajfYQOFU\n",
       "7Ieiec73HjnyqNpu6SGx/qHJpDxskmhPBLDTl8p+eyxxeZyusaD83PpiJHPbnVwM4nboVaXw4r7q\n",
       "lDVFq2k8+oc4RNEu3g+fSsJ7dZ/Wgn56Ayb/w8S/x/B+9jhhRs/otJA0M3kZEEcP2pW5HaHBbm6/\n",
       "/eZGR/4UMbGco/pEAhwJyEqI1aZL+AA75lzRxv7Fp9OJzCrpNFv5+1y8SPmBPIe81odWH0FGdWel\n",
       "GfCKY5kW5QZi2kUHRCMOGrkDgU39C2yrYKGULkT3L9jLfKdbCJ/I3KUFN3LO9QfH7c9tlmfzOac5\n",
       "vqvLic8fPNIZuNHSubdR7XTVbIdOUTYILcAwZVgx9cbqGNM/L1FyQu7JF1wBPVRkYV2eMjql1rDd\n",
       "nQXuXQxnGatc2eEfo4k+HSJsCFMIJ9A2/Lr4ebGgG+4x6i1MMEy2ISDY9XP4zkUhn1vq1YTp3rI5\n",
       "qJXiCoZ7Xm81JO4J8ooPi3sOesWZ71eJkIiR2IBKOP8q9YWuFhf59dJEowZcQ9VCuT06CArnRDQ0\n",
       "BiJf3E32W0AGyrzjAzU5rRQ+AZd+Kh3Uu/C4vh3r9w21F1p5QvM2YDPpyvTOhy794opCcRZeXx7O\n",
       "+mEGYhAaNPFg4y9OFuk5p+U35dhZjkHd+V9y3Y/PbLAVTF8GlI61FV+F8zVsS7cboppvs4XZ/SOf\n",
       "a5KwP7isOgkR4+HBRfCVIP9kMpcv1Vfo7kElhu4OE5WS48pKVuPtNdYhcYKbNx8OmkVgXYEAAACe\n",
       "QZ5ialPBTwAFEyA+ACq8fHvwreGbQFwAhA1ungxJBChe4VFvZL74b8HYuHDePNw4UhKXq+ZmOpS+\n",
       "ZdGRcZP2QMjmYmpak7CZdDXI63QftZ3m9Xzts14XSgRWpZoRN4crxLEEHPMTW4GDoO9CyhTF9G4p\n",
       "fmpMwP4NhQej23aax2Tzvw4WUtRltG6QxZIpHhB2x4vekk6Yq9wiBaG/AycAAADhAZ6DakFPAAHl\n",
       "XoABObCJwpp30s6X16zSNHCBJkImYGNFkLVZcuS4f/gqY8EpeGvSd+bp1FZxTpzvg9Rf3+g+f3kG\n",
       "sfuzhfUAtH00PJtEYMz3apNQ8cP51v/uBm1Vf97r/gwG/RTINd5Q9V9auEraaxyyPjP33bPjhdLu\n",
       "hx/jVpmOi314N+DRG+VDQqV9mq+P0GXeqd1iIXUmVOypc8wOH1EEtV8DVn4eEppVJlz4osrmbUMD\n",
       "QsbHsEHtqMojlKGRyPXEnzvp0JbF9cUsXyk0v3qL5XnThTwKnTiEXWeYFEfxAAADXm1vb3YAAABs\n",
       "bXZoZAAAAAAAAAAAAAAAAAAAA+gAAA6mAAEAAAEAAAAAAAAAAAAAAAABAAAAAAAAAAAAAAAAAAAA\n",
       "AQAAAAAAAAAAAAAAAAAAQAAAAAAAAAAAAAAAAAAAAAAAAAAAAAAAAAAAAAAAAAIAAAKIdHJhawAA\n",
       "AFx0a2hkAAAAAwAAAAAAAAAAAAAAAQAAAAAAAA6mAAAAAAAAAAAAAAAAAAAAAAABAAAAAAAAAAAA\n",
       "AAAAAAAAAQAAAAAAAAAAAAAAAAAAQAAAAAGwAAABIAAAAAAAJGVkdHMAAAAcZWxzdAAAAAAAAAAB\n",
       "AAAOpgAAYAAAAQAAAAACAG1kaWEAAAAgbWRoZAAAAAAAAAAAAAAAAAAAQAAAAPAAVcQAAAAAAC1o\n",
       "ZGxyAAAAAAAAAAB2aWRlAAAAAAAAAAAAAAAAVmlkZW9IYW5kbGVyAAAAAattaW5mAAAAFHZtaGQA\n",
       "AAABAAAAAAAAAAAAAAAkZGluZgAAABxkcmVmAAAAAAAAAAEAAAAMdXJsIAAAAAEAAAFrc3RibAAA\n",
       "ALdzdHNkAAAAAAAAAAEAAACnYXZjMQAAAAAAAAABAAAAAAAAAAAAAAAAAAAAAAGwASAASAAAAEgA\n",
       "AAAAAAAAAQAAAAAAAAAAAAAAAAAAAAAAAAAAAAAAAAAAAAAAAAAAABj//wAAADVhdmNDAWQAFf/h\n",
       "ABhnZAAVrNlBsJaEAAADAAwAAAMAIDxYtlgBAAZo6+PLIsD9+PgAAAAAHHV1aWRraEDyXyRPxbo5\n",
       "pRvPAyPzAAAAAAAAABhzdHRzAAAAAAAAAAEAAAAFAAAwAAAAABRzdHNzAAAAAAAAAAEAAAABAAAA\n",
       "KGN0dHMAAAAAAAAAAwAAAAIAAGAAAAAAAQAAwAAAAAACAAAwAAAAABxzdHNjAAAAAAAAAAEAAAAB\n",
       "AAAABQAAAAEAAAAoc3RzegAAAAAAAAAAAAAABQAAEugAAATHAAACnAAAAKIAAADlAAAAFHN0Y28A\n",
       "AAAAAAAAAQAAADAAAABidWR0YQAAAFptZXRhAAAAAAAAACFoZGxyAAAAAAAAAABtZGlyYXBwbAAA\n",
       "AAAAAAAAAAAAAC1pbHN0AAAAJal0b28AAAAdZGF0YQAAAAEAAAAATGF2ZjU5LjI3LjEwMA==\n",
       "\">\n",
       "  Your browser does not support the video tag.\n",
       "</video>"
      ],
      "text/plain": [
       "<IPython.core.display.HTML object>"
      ]
     },
     "execution_count": 14,
     "metadata": {},
     "output_type": "execute_result"
    },
    {
     "data": {
      "image/png": "[encoded data removed]",
      "text/plain": [
       "<Figure size 432x288 with 1 Axes>"
      ]
     },
     "metadata": {
      "needs_background": "light"
     },
     "output_type": "display_data"
    }
   ],
   "source": [
    "PredictiveAnimation(plot_data).plot(n_frames=5)"
   ]
  },
  {
   "cell_type": "markdown",
   "id": "215138c2-b44d-4758-ac71-b1f56e5904c1",
   "metadata": {},
   "source": [
    "## Index candidates by feature"
   ]
  },
  {
   "cell_type": "code",
   "execution_count": 15,
   "id": "f8112ca6-fab8-4cdd-ad0c-dbcf26e98312",
   "metadata": {},
   "outputs": [],
   "source": [
    "def to_gt_words(word_ids):\n",
    "    return [stim.get_candidate_strs(idx, top_k=1)[0]\n",
    "            for idx in word_ids]"
   ]
  },
  {
   "cell_type": "code",
   "execution_count": 16,
   "id": "acee3e68-ecf3-4f2a-be30-6f62fe7890ad",
   "metadata": {},
   "outputs": [],
   "source": [
    "def anim_word_idx(word_idx, **kwargs):\n",
    "    \"\"\"\n",
    "    Render an animation excerpt of the perception of word at `word_idx`.\n",
    "    \"\"\"\n",
    "    anim = PredictiveAnimation(plot_data)\n",
    "    start_frame = anim.get_first_frame_for_word_idx(word_idx)\n",
    "    return anim.plot(start_frame=start_frame, n_frames=stim.word_lengths[word_idx].item())"
   ]
  },
  {
   "cell_type": "markdown",
   "id": "20b94ddf-b4ae-4343-ade9-baf237eaff0c",
   "metadata": {},
   "source": [
    "### Find low-prior ground truth words"
   ]
  },
  {
   "cell_type": "code",
   "execution_count": 17,
   "id": "191ba0b1-50c3-4603-9dd9-5215a75a2571",
   "metadata": {},
   "outputs": [
    {
     "data": {
      "text/plain": [
       "['ɔptorndə', 'en', 'bluməntœyntjə', 's', 'blekjəs']"
      ]
     },
     "execution_count": 17,
     "metadata": {},
     "output_type": "execute_result"
    }
   ],
   "source": [
    "k = 5\n",
    "low_prior_word_ids = stim.p_word[:, 0].argsort()[:k]\n",
    "low_prior_words = to_gt_words(low_prior_word_ids)\n",
    "low_prior_words"
   ]
  },
  {
   "cell_type": "markdown",
   "id": "b7c9e0d0-de63-4b15-b8af-d4aea5f1b4c1",
   "metadata": {},
   "source": [
    "### Find words which are still low-posterior at phoneme $k$"
   ]
  },
  {
   "cell_type": "code",
   "execution_count": 18,
   "id": "81336809-d000-4816-9381-bc0dd9b732ba",
   "metadata": {},
   "outputs": [
    {
     "data": {
      "text/plain": [
       "[(tensor(793), 'ɑndərə'),\n",
       " (tensor(233), 'ɑndərə'),\n",
       " (tensor(852), 'vərtɛlt'),\n",
       " (tensor(292), 'ɑndərə'),\n",
       " (tensor(579), 'xəhɑkt'),\n",
       " (tensor(857), 'wɪldəw'),\n",
       " (tensor(1701), 'ɔptorndə'),\n",
       " (tensor(731), 'voxəltjəsh'),\n",
       " (tensor(493), 'ɑndərr'),\n",
       " (tensor(1724), 'krœndəh'),\n",
       " (tensor(1775), 'bɑlkən'),\n",
       " (tensor(309), 'zalənk'),\n",
       " (tensor(655), 'lœkərst'),\n",
       " (tensor(81), 'prɑxtəxstə'),\n",
       " (tensor(172), 'beldəxhɛitxə'),\n",
       " (tensor(1390), 'ɔpxətɪltk'),\n",
       " (tensor(1956), 'bəxɔnə'),\n",
       " (tensor(596), 'plɑntə'),\n",
       " (tensor(262), 'mojstə'),\n",
       " (tensor(1631), 'ɑndərə')]"
      ]
     },
     "execution_count": 18,
     "metadata": {},
     "output_type": "execute_result"
    }
   ],
   "source": [
    "k = 5\n",
    "n = 20\n",
    "\n",
    "# Only include words which are still running at phoneme $k$\n",
    "mask = stim.word_lengths > k\n",
    "p_candidates_masked = p_candidates.clone()\n",
    "p_candidates_masked[~mask] = torch.inf\n",
    "\n",
    "low_posterior_word_ids = p_candidates_masked[:, 0, k].argsort()[:n]\n",
    "low_posterior_words = to_gt_words(low_posterior_word_ids)\n",
    "list(zip(low_posterior_word_ids, low_posterior_words))"
   ]
  },
  {
   "cell_type": "code",
   "execution_count": 19,
   "id": "e98329a7-e393-45ca-b088-e3518c8cd02f",
   "metadata": {},
   "outputs": [
    {
     "data": {
      "text/plain": [
       "tensor([0.1585, 0.2183, 0.3456, 0.4288, 0.8179, 0.9659, 0.9661, 0.9683, 0.9974,\n",
       "        0.9982, 0.9992, 0.9997, 0.9998, 0.9998, 0.9999, 1.0000, 1.0000, 1.0000,\n",
       "        1.0000, 1.0000], dtype=torch.float64)"
      ]
     },
     "execution_count": 19,
     "metadata": {},
     "output_type": "execute_result"
    }
   ],
   "source": [
    "p_candidates[low_posterior_word_ids, 0, k]"
   ]
  },
  {
   "cell_type": "code",
   "execution_count": 20,
   "id": "4e61bf14-3260-47b5-bdcf-65546879b863",
   "metadata": {},
   "outputs": [
    {
     "name": "stdout",
     "output_type": "stream",
     "text": [
      "v\n",
      "[(0.39337912734987324, 'vrht'), (0.3790544003287525, 'vərtɛlt'), (0.2001900680846229, 'vərtɛlt'), (0.018661012305281353, 'xəzin'), (0.0028447559463751003, 'mer'), (0.001825732897099889, 'kʏnə'), (0.001423141574853867, 'nodəx'), (0.001290247092317434, 'ens'), (0.000753458100138016, 'xəvɔndə'), (0.0005780563206857979, 'erdər')]\n",
      "v\n",
      "[(0.39337912734987324, 'vrht'), (0.3790544003287525, 'vərtɛlt'), (0.2001900680846229, 'vərtɛlt'), (0.018661012305281353, 'xəzin'), (0.0028447559463751003, 'mer'), (0.001825732897099889, 'kʏnə'), (0.001423141574853867, 'nodəx'), (0.001290247092317434, 'ens'), (0.000753458100138016, 'xəvɔndə'), (0.0005780563206857979, 'erdər')]\n",
      "v\n",
      "[(0.39337912734987324, 'vrht'), (0.3790544003287525, 'vərtɛlt'), (0.2001900680846229, 'vərtɛlt'), (0.018661012305281353, 'xəzin'), (0.0028447559463751003, 'mer'), (0.001825732897099889, 'kʏnə'), (0.001423141574853867, 'nodəx'), (0.001290247092317434, 'ens'), (0.000753458100138016, 'xəvɔndə'), (0.0005780563206857979, 'erdər')]\n",
      "və\n",
      "[(0.6126592104915943, 'vərtɛlt'), (0.3235638181606945, 'vərtɛlt'), (0.030161478289163636, 'xəzin'), (0.026042058033397403, 'vrht'), (0.005801529009033028, 'kʏnə'), (0.0012178015724621557, 'xəvɔndə'), (0.0002678406337366133, 'mer'), (0.0002233203530115884, 'nodəx'), (3.8267857146581216e-05, 'erdər'), (2.46755997601767e-05, 'ens')]\n"
     ]
    },
    {
     "name": "stderr",
     "output_type": "stream",
     "text": [
      "/tmp/ipykernel_65575/4229271781.py:45: UserWarning: FixedFormatter should only be used together with FixedLocator\n",
      "  self.ax.set_yticklabels([option_i for _, option_i in incremental_dist])\n",
      "/tmp/ipykernel_65575/4229271781.py:45: UserWarning: FixedFormatter should only be used together with FixedLocator\n",
      "  self.ax.set_yticklabels([option_i for _, option_i in incremental_dist])\n"
     ]
    },
    {
     "name": "stdout",
     "output_type": "stream",
     "text": [
      "vər\n",
      "[(0.6540535821950197, 'vərtɛlt'), (0.3454254350748943, 'vərtɛlt'), (0.0002859373089523147, 'mer'), (0.00016070284335836273, 'vrht'), (4.653083979330747e-05, 'xəzin'), (1.790031737088486e-05, 'kʏnə'), (9.393659243922579e-06, 'xəvɔndə'), (3.4452169316582975e-07, 'nodəx'), (1.142029281426575e-07, 'ens'), (5.903674591309695e-08, 'erdər')]\n",
      "vərt\n",
      "[(0.6542878313618598, 'vərtɛlt'), (0.3455491491291773, 'vərtɛlt'), (0.0001607603990513371, 'vrht'), (1.1044004530713151e-06, 'mer'), (8.332477167581673e-07, 'xəzin'), (2.0427120810826865e-07, 'kʏnə'), (1.1214419156229531e-07, 'xəvɔndə'), (3.931542722083671e-09, 'nodəx'), (6.737035528802487e-10, 'erdər'), (4.4109586833894266e-10, 'ens')]\n",
      "vərtɛ\n",
      "[(0.6543944181607523, 'vərtɛlt'), (0.3456054408342959, 'vərtɛlt'), (1.378958728421142e-07, 'vrht'), (1.742171677963881e-09, 'xəzin'), (9.473244987085545e-10, 'mer'), (2.3447341103808903e-10, 'xəvɔndə'), (1.7521825464993783e-10, 'kʏnə'), (4.875900292173496e-12, 'erdər'), (4.6370084791149874e-12, 'nodəx'), (3.783599700584505e-13, 'ens')]\n",
      "vərtɛl\n",
      "[(0.6543945103041313, 'vərtɛlt'), (0.34560548949799513, 'vərtɛlt'), (1.814419634984633e-10, 'vrht'), (1.2649225271313137e-11, 'xəvɔndə'), (2.292331477992126e-12, 'xəzin'), (1.2464797790770697e-12, 'mer'), (2.3055036752883254e-13, 'kʏnə'), (6.415659182545865e-15, 'erdər'), (6.1013278053140815e-15, 'nodəx'), (4.978421359660814e-16, 'ens')]\n",
      "vərtɛlt\n",
      "[(0.6543945104330563, 'vərtɛlt'), (0.3456054895660843, 'vərtɛlt'), (7.00548121753706e-13, 'vrht'), (1.4429618160711432e-13, 'xəvɔndə'), (8.850700688972027e-15, 'xəzin'), (4.812663240627949e-15, 'mer'), (8.901558593600512e-16, 'kʏnə'), (2.4770884879574754e-17, 'erdər'), (2.3557250218209068e-17, 'nodəx'), (1.92217040951415e-18, 'ens')]\n"
     ]
    },
    {
     "data": {
      "text/html": [
       "<video width=\"432\" height=\"288\" controls autoplay loop>\n",
       "  <source type=\"video/mp4\" src=\"data:video/mp4;base64,AAAAIGZ0eXBNNFYgAAACAE00ViBpc29taXNvMmF2YzEAAAAIZnJlZQAAHCdtZGF0AAACrQYF//+p\n",
       "3EXpvebZSLeWLNgg2SPu73gyNjQgLSBjb3JlIDE2NCByMzA5NSBiYWVlNDAwIC0gSC4yNjQvTVBF\n",
       "Ry00IEFWQyBjb2RlYyAtIENvcHlsZWZ0IDIwMDMtMjAyMiAtIGh0dHA6Ly93d3cudmlkZW9sYW4u\n",
       "b3JnL3gyNjQuaHRtbCAtIG9wdGlvbnM6IGNhYmFjPTEgcmVmPTMgZGVibG9jaz0xOjA6MCBhbmFs\n",
       "eXNlPTB4MzoweDExMyBtZT1oZXggc3VibWU9NyBwc3k9MSBwc3lfcmQ9MS4wMDowLjAwIG1peGVk\n",
       "X3JlZj0xIG1lX3JhbmdlPTE2IGNocm9tYV9tZT0xIHRyZWxsaXM9MSA4eDhkY3Q9MSBjcW09MCBk\n",
       "ZWFkem9uZT0yMSwxMSBmYXN0X3Bza2lwPTEgY2hyb21hX3FwX29mZnNldD0tMiB0aHJlYWRzPTMg\n",
       "bG9va2FoZWFkX3RocmVhZHM9MSBzbGljZWRfdGhyZWFkcz0wIG5yPTAgZGVjaW1hdGU9MSBpbnRl\n",
       "cmxhY2VkPTAgYmx1cmF5X2NvbXBhdD0wIGNvbnN0cmFpbmVkX2ludHJhPTAgYmZyYW1lcz0zIGJf\n",
       "cHlyYW1pZD0yIGJfYWRhcHQ9MSBiX2JpYXM9MCBkaXJlY3Q9MSB3ZWlnaHRiPTEgb3Blbl9nb3A9\n",
       "MCB3ZWlnaHRwPTIga2V5aW50PTI1MCBrZXlpbnRfbWluPTEgc2NlbmVjdXQ9NDAgaW50cmFfcmVm\n",
       "cmVzaD0wIHJjX2xvb2thaGVhZD00MCByYz1jcmYgbWJ0cmVlPTEgY3JmPTIzLjAgcWNvbXA9MC42\n",
       "MCBxcG1pbj0wIHFwbWF4PTY5IHFwc3RlcD00IGlwX3JhdGlvPTEuNDAgYXE9MToxLjAwAIAAABGE\n",
       "ZYiEABX//vfJ78Cm61tbtb+Tz0j8LLc+wir4ID3AwfsqAAADAAANnjM/uAtWJgqnUAANUKBps1U1\n",
       "gADZjZBLT1psAmZGvAnHqUhtT0dnnWyAgoOamTFfBImUK2zd0QWDJdX5JTgkzhgfMZCuWUr9tslT\n",
       "TrPuSQdEwSuFYf6+0gsTHwLm8nJZ0zD1wn5CGlOXf+CJw0otRu6aC6d4ZUmFHKw5G0pKEegvmN2M\n",
       "4r7fCz6etwmj2PQaxV1oYyWs4EAfmOzG8Q/XVlHL1ya1457eZqVDcCt1U9KYueyWmL6WXsAoHLk5\n",
       "1VeXnS4eqXsvyA1kWRkm2eU2nfWeTdgjEbkI0lW/qSh5J56X6uFudGxU5jw3tO9jkb+ARBiRKkny\n",
       "UQc1K+K7LWPuVrEsrDA2QqTG8skwR854osSgRqX4E9DCvkDgUi96sVNuBBa5+nkTbFqlYHI7Hweh\n",
       "S2/OmY3zAHwH2B+M8xXo0OzyZ+zoVXWBNKClkNS64i93nsYiuLZPVyqoOcenmA66wBzzkDl+fYNk\n",
       "F1mxOdT3XtrlnkfOtz8yTp1Y0g9Hj/+5yOrOsJpz1NG0aWZbiRD6RqN2jbS0nlZ8o9rq0ndaRzJt\n",
       "IAYvcGmWfjY1csbDJKkaCMjebiQHkbhmMNtJHd6tZtYpjM90AikG7ChS8VH51eC/b4fJgrjagvLA\n",
       "W+THRRQVy9J/6IDRZKLonLhyW9I1zU9175K37nXluUijE3KMW3XiO8dIn/xAXn8MZuIvJeZZ2rJB\n",
       "/EhlezamQ+COB3AdAUxmnhUZDUYYJJ9GCIfDJAX9uJlFinwV/GiSZna0NtLIJJFC4/yTreMOauwt\n",
       "JWmNkeTxpddXedxmwQCEV1WWrb3hmpzkaKk/whVuiTn9ajCJaNORjCtMcMa9D2riceBjz9jOxjNM\n",
       "NuKj4pj5F2NilzmIjQrnnn7wOIKuEGh33i3v5B0DVoW3tlP5LE9ANqAb9ecFPi9uEwaco3uAThGO\n",
       "L1Mr87sgmHC8BqLmUK4N339Yl5u6jIn+iAlk2UbfZlj32GDjEFM/5CYW1lit8VJ4Zf+3+4qNJSkp\n",
       "OhdF/Z6y5Im+esCyKejCGMAbqvX0wwkgmKmGMus/iyyQwLn+qFWmObVw9Zw4HkBztY9Xgc8vA9GY\n",
       "C6JGKcI1/E0scOAdJ1jVlbquX7hBSfxFLIpuF3XMvt1bMiwh/8FRzNj84+WfHTSbFUUB5kQQA7bO\n",
       "8cpIfFxynAmn8PRvxCn+ctijgeLoXkov43U6+j5Rq9ZQ/0cOYNL2tNnj9X3jOZSQgvikYnmO+jct\n",
       "sFUhi/g4MNQk8huec14s7+ZA8ApMyrExccGoOvf3elf1da7ObjdwKU9qu7IZQ/THPYAQs+ivwAwm\n",
       "w2tNTBLcmVKuHaz+Zi2cYUmURSTLLxJb/3Fb2Wx3Y6CZywtL/3KBqMAWIDNCIP9yvR2P3585zKbu\n",
       "JmdnnGSFbvBsPM/ADVmamNVtwtqrf17fb3ljUJuej0F3wLcLUKQalA1jYibDnvRvYRCc08qHTH0L\n",
       "E1J/UXpKMSm5ieUgbGIvmVDvr4LAT6vLGdOaND52OrSAk1+K5xTJcDTrH+OQEkXH7Dx/X3ZgYcT3\n",
       "IFU9yTs9+pJdoZ3W+Nh1SYA/IOcyQz7Zr9fjCj7jzWkHxU2kLiMzlfrAlbwbC8uJD7DTcq8/y9EA\n",
       "VvmgTZncxgO1W6svLrVTa+/CvqvzgQkR89B71DzDLQPGai0UdOoPiQ9VNWLSGRbZ3WWLW9OEXAHd\n",
       "pS4RNPniB83sZTlAWkIpXOqM+hZe1c7lJ6GxQVPRrRkMmTWfjaZIniDVZcdrdnYx0gdNMjYYVmvm\n",
       "5YnDJegk+ncp9vKAB/mzMRJG2LFX2R2C4EzLQN3Uq7TuQPVOZy0O9bg8VfM9XEaN3OxAFe4R3KNh\n",
       "nrBMhWb4Nxgssqm+/9PdRgzQnqXH5yB9/zjb2kPL7G5a8qn3iJYND71c6oWfrBaH8lF8VHGhDyon\n",
       "1W+2ulGQUB1cY37xvwOq3O+6eK36w95u9Mx5AQNlnjLA/3jwJIuvrDU5KARUl/w6K9ZRUhDY5wIX\n",
       "13d8Wdh5TXimEyIbC5uYwUw1oHHwBBPGAadTQkTdu5XMMiy5I9seSqpIYtBBJMroQyP9N7TAKGsv\n",
       "nJs/wwOgzzahYqQXiwfC3239nSlQIHaIvHL02+XEMBHXQMfLCwKK2Y73BEDBBqk03+XRID6i6w0x\n",
       "FBlQl7zKGCv4po19hqufQXEpUR7n3LCn1NWj92rfBK0zfYvNUaCjfFJhIsSmYRfII+vK+4fONgJK\n",
       "xrV374sGVY7yjVOt0UEpJml4pdOtyXFaolg1apFtQtanmiXHcB854YBmt7+6LWxzlrxSbZooaZo/\n",
       "Z8TYQUfGPjedQxDjrzawDZsiBfehHFDf6iIDAJDARD3pbT5vlJgYX2Dy0fno4EbxQmx2q2G/oHxk\n",
       "BHoZKV7j2ThyzlWrAr6/MWyKMPdJ4A+ReipeXZfh1W31W5q6BQVbXq02DzHKtu1d2RJjgVxIVN93\n",
       "utfL35JIhit2YgAz3/3yB8yiq/6iZcJxkatMCZ3x5BgnR9Qsh6rNVF1yQkoDRXkVxuK36/PDV4sN\n",
       "Qar48SL/r0HgTPHBrRegpB3o+dIZPPOibVH+UZH7+hxoYQeATfuyXIo9hptz1StgPMKInCZ3hB3v\n",
       "6aLN596N5djiAvEMLVjDPLIAYCAr6sORLO7S60V+mrJ6izO/YqP5B8N7C1wSw4nJlvV0bnvxA+V+\n",
       "67DtNl4kP1nh4+m6vT9LKroP5dn8FNVRZi08BEI5+DqdCDRMPqWsjYDQpOUQjw+khvFhZK/eM7pD\n",
       "Hxf8p/DjJ7PX2KiOYsxuEfdjPTtesj6PX+fTop50dlakKNQHkeEFR8ejBgRb0QY3VOWzSZbxZbNf\n",
       "vF5SUzWU/yHY2yqAanqRJ97agZNK0g20arlGZuXkUxA6uRWDIi0zBUo6GDdvCB5pZ4kn/v+nA72n\n",
       "vH8OVzu30Sl+/uUOUjVGTiM6D4vOlKzv53gYxniyUEhZtaO2WawjqYP1HcjQ1DMedVD2kwukcx1U\n",
       "yeM9p5QdgUst1CgaJ5zReD/O8zxcVGGsBt9d5hkHjRoSZkCQqMSgGTLthd0B2LAlnZvssHqSnQEX\n",
       "k7SgN8e8ueWQ5yMvLQ7WspE2E3XqWNHrxiTw/nmLf46D0J7APgs+bLPDrp302hPOXf9HYhP0c7qa\n",
       "k9Ltm4CnNJg1k2cC3tymx4X2afs8SzuZAXWMsGMPSfjRghGhsE62CFnj+kcYbv/bnp4opO33DgQw\n",
       "QgSgZ8eVV2S2sHBh7YNjNJconTE2swNB3OUP8+7BWI5PhX3/dku7Qlnj3/u1ObgGxgTUgtIBLlgx\n",
       "054iIQqPlA0vYMc3k1znmHoS6pk3TZ/Sn+D9c4yWLAFEeXMYctslrivWenNI+H7YJnyHCWF0wzCj\n",
       "gDvO/wNpsChYj+hXDBEP1kv1WaWABfqeCh61a0zMnw7Yui6qmf5lKfEg3Opg0U2RIHSfPUfVVBcr\n",
       "BgPl1QZqsG4BUm0Hx6Eafi1s0T5hchfkzagyRDErB//lw/pczQsUCv589BmUsSHppd1uVPa16AMn\n",
       "mXqLEH7X9c1eiR7Ogr2OioAxCM86gyBlRA7d1sgv159ZUJtguE1g0TupWfhQLWQEaM9SFTpCGXui\n",
       "igTQ41dhUdbqQIalutxJelXB9BsHT9ThKOE2eOhJLYSuDMa4BX/m1dJnKw4Beetqj3D6tWlWp7yw\n",
       "Nk+lxL/ONTHVwFRaQkhZU1ESqzq8EWmMBvxS4m4RT7pU1WO5D9ECxJUUkWvovlOfL3tN13sB6fml\n",
       "1+sPTlcmP9rdEw0T3sxon0GMGi4+AWX0wOR7E5ezFLVYG2GQVro+c0/SXGVRMgJ1CXRp9GVO1wX4\n",
       "spXTefbLSG4plWSZ80zbm9kcsEg5IE2IYmo6FVHnjQhnDOY6t5L6FleG8Buz5QKrPIFcfyLnMqxJ\n",
       "h8dVqTMmEtc/oMVETV407d5MvHwXf3BNXEnDNC1UMwv1svHSPkO7GwWBK+vzQJeo/me1cFPmXGot\n",
       "9nLBTleLg76auJazFnAo0VuQ+Fme6OHtv15PSku4flvhbSUQYbd88WIWzrIkbe5lqfmBq004hHtw\n",
       "sT6APXNQ3l9zP/kcpKeXccmqp1Y/hb+cMvMwyXeLWuCV6ny7nK1dOyxgCrS/ABi2lRXt4BrKSgA5\n",
       "U3bC/IalxrR8ZoWy0KaN0nccVyeYOd1drp0pW2KI8FILxCxqF7fZCaynjojNDiTHQqSizDzy4iN3\n",
       "hrfaz4JnqI4RpS3O/b0ktZJL+OxgWx+e5Jh/zw1/jr2yY2cqR/x4umifIyh4mb5Wza5plXvhoUhm\n",
       "rlmYmIdmtfX44XsFBId4s6JW+R/uQ8P9Ae9FrAeS2F06Xl6+MzxJ9TfCYKFNBazzbcYXwCrNVG9D\n",
       "QlnOKQA3ZxVIsXvOhRKFnEBFKBs93U/EZEZ8PJgurFNIN5yJwWLlIfXiyx0TBfVq0/nk7IZNCepH\n",
       "zYvFOGdpPWGJwQn0tY+OczOO0QrGQ391/fr3/mUPXsZ2dlNetqSU8f8VRUsSjOoYsMMK5FSLu2Pb\n",
       "Woxj6FlIxB8HfVmpL1GBTDmWGspDlCmVQ4ovxFzy3rKcq4nfIfdL/4Ob0oChG23p3aIP9Ze+swnI\n",
       "gYL8HVLsvaOWH5vdeFL/xO10+nI9/XiWN9iT7UAnEdx+5cm7MfvKK0cFIEtG0eB46jDUTl8xIk5m\n",
       "r75NQbpSJ1B2S/i3HqCbdk6qp06anPv9pM1V1+jCpRcb3dpBDSJHQLf2rJ7p4dEWFiydnwY8rfoY\n",
       "Dk3QWcCB61yUz87mnpvjFX7v7+JZ4lEq0FgE8wWQm3XtirA7cadVEMmzea6ryyjla6ttdn6jbyZP\n",
       "S0mftm5ZZfjhAcYKOO8JOSOQjqSOUZOQ1RpnYcCNXNrhilglaE9ruuYszBTPkCk45LbSeISH6dBq\n",
       "n0mkAAN6N5HETMHvoAaJRFAkd61fKpYaqCAbIK0erl5wz5ArHlzIk3x9wLx+fdJw8uaLFNGk7bgP\n",
       "hGD6aU8QTktarA7W2RpFFPA/HyygG+nySksWsqiayajfbiG8upszeq3rP6CvVGw0adWFovUQuhXI\n",
       "VDt72IGig7zujpTlxF9q4EltNbNl5r3Dfgz6Rumy8Yi+SNvNsSMhTl3oRKqWMQOqeTkiDOEd487X\n",
       "uagAHSv2Qc1GaQ2umQuT/C5sJjmzKvYCUIAtJOINBOSi4P083X30boowj9vXMZYHV/ajq5h56+mG\n",
       "rhjuBz4G/SnoB7mnpIKDE6EWQkSLUfotfI3LM+mFRzPDPdiILLVyWXknI+hYyG/VJu432fS2lv0P\n",
       "K9nc9W4bqy3XBgd6/NacnbA+yT1n/B2aCk2v4t9pD1DlIfQ6r7euYywh8hEWLCV5RRlTXjY5QhJm\n",
       "mrzkFl19hSVH0Ri2cw6rLMLgxvVLAEbg8fC6SAS9vDBSDjWYI+NGFv85F1fcP0KJAWFMyoInSchS\n",
       "kbgqdJkQrICU3ODt9P2fDHfE0lpW3MogyMiz9ujjzuvBtmtbDA82nemKg6vcqro0goTs10mchC92\n",
       "hemPAi8LstVv/x+Sh670ZDGcN2oKqewuuZqofUVHzhYrT17xJ8P+vIVHZgLrmhUrklnkqugQ7O7m\n",
       "EkEz5mZBuQOAiVsOW+TKQrKM7qe3PDABcM830y67UY6s7rLwleO9+To2bqxN1XMzBR3lfapPRiih\n",
       "Up3bzNnVfb2R7nv9yH6jgnI9iIQgY2UXCA+umVLp+73d8jJ/OyHxOXiULx4V+f7SSLJEgJhdhCPx\n",
       "yY/ug4TF0ANnteIo5vPdkyebuPRqb+yMs5y6aQKg1x3QmR3I19HeIK4cKgczneXgxf9VogOD7ais\n",
       "1RqdtmrGCIYZ4nHtTHkkWsqOv5+VcSCOUpm/1gQniUKFIJkxpIFYVsGeSBhV3W+Bh0zsbvVy5U21\n",
       "+zOkZGh85lx502Nk+9szzr0MFBF/wYrF4bP+v5/7yBzKci9A0zcAAASBQZojbEFv/talUASQKs/4\n",
       "zfzUAHHUIQ2KkCkcMYIqjyJVj6rex3RKf3G5zeVn+P3tsncukyLR4arame2n4z+7Jdb/8sknffJu\n",
       "4hzCCnWvC2DhT1k1khDTNY4JaaDLMkqsY9857A8+TOx7ssv9NFS6Iv06urPQd8k4jIkp13kp1ja2\n",
       "ki0SonmOTpS8mgo3lIhk1i1J5xDXvRtMyDZbIUAKle4W7zVWrNAt9xMakAUxE/w03iuS0AWiaKJD\n",
       "ahEgmCRVAzKQe7w42i55xVjOcqLQ3muCNOkF8aRY+u1cYCnVgKZILO4IMZsM6oHI+PHauA1UuuAu\n",
       "FqIf3HYC8M3AbAp2qUrvbOqF747PqBLFHRX4OjmOmmgIhr1O2u3t4r6r4CuvBZtEpkIjcMBm/C2z\n",
       "Wnv3wF9VhbabVbf0X5JgmZLjvPsawm/bYxEDNC0wYnIVbKvyQ5sLITXcmkxy80qAqnFSC8jptU2V\n",
       "uwCuIEYRvAiXoM7bg6o3Q37ua41WGMDcpvVOp6MZzaR4bUrqIGLyRsEJhUnB2GU+0J3IvW+LpV3f\n",
       "mSvth55NbiF/BXKanpH2aj7V6W0FRQqa2VQPuoKXLy5GfROeJ5yGj04iUcL7oNd5tLnnkfBk2TMn\n",
       "fPMbcRNJi3HNs+Hu1iBBz68eshjdKx8KtWsIsS/+VBaoj1awbCjG72fBkA/VJxD0KQm/fcbaLdiQ\n",
       "MjxbEAaMoX3tCf/7VB5vNmOY9GODYPRlWwS4itJ7uzSBavig+vqGFMNUDn3SekvHM4KbJG1NeGxj\n",
       "0ue1ekupC55nP69Z0eI3DwOsz/03jQcRPla51XU5LzBiajpVfd4dduGeH14rnDB8CfGybYoZlSzd\n",
       "oTx7GQ/S7uZrnRPHiZ1wVTbL2TEegNcdtZKHa9eqp6k49+YMC+zcfBHLC5q8/o3AGDYarJ6eAesG\n",
       "gWkyeKf7gD9qhSBgQxHArBGziynG9RAytCQxx0GcmlctuGUdqIT0gkQxx/f0P8KRDw5eMHhMjog7\n",
       "jKOV/rq93wVj999tCBw8Bv4jCNalzgUEsCYfCeZlWRIOzNTxaXkVby1L2J4nIQTfVulAjJMTH7pq\n",
       "9TyP9j5g+j6UZGPSLfEOEAMny0d+ND3bs+OhmTIPtyTbFXgCx9+hNjZaeiCPLypi4q7gG/f2eWNQ\n",
       "y2EMyoxpGAAkq7R2ZwCdg+9BK7byowAKf9PHj3ZbWgZMYCEQRxdaDYzvfY15cfZQrxhTeDOCeQx1\n",
       "hSIkEvfiwlfhTc9thnLJMzDtrPLNXmuI6S6prwi/t2BQ9i3ryLfWZuhm8f1g7tlYGs1b/iMTGfrL\n",
       "emvqogqb5zOqLOnuLwWniwObUFggJW3Wz71WsmlQH321mSdWtHMfQLDt0E6Rc9zIEMpd52m7POSa\n",
       "AK3Ns6UO6paxQ8YVEC9Dstz7y6ijLzPzw2DSdo6KKeCHfyC5gPjHbntHGEh9S+Hd95uu1mAEwvXO\n",
       "h82son34cwhor21tB/IU/zEklFRv9B9M2Z3RJj741+bXzhOpEKBm6YU0yHq5nqc9M3cwhXz1YAAA\n",
       "AShBnkF4gp8ABRNo6XbVybPpQsaPcWt4ABxjr9KU7cKEOngZn+ffQEDkbWGdrrWWjgMlFTF/VISv\n",
       "/BgLgSJljH8wU5dvSninXrp9/NuCRjp52diFq3V/3i8IZCJI/Gf++qrhAFTL74PPkk7B7d28JxJz\n",
       "czwXnxi5BkZ11yQJPfpnq4odSiHyGpZMyqnVnuntIDriwVpAIg3ppjSpuQC4fw5nSc+JHC9de7pB\n",
       "re6QOPIhZoBJ82qo/neWUE1x5Oz7K9stk1uU42h8pedXIMvliF4F0rMLTEELHmS/g9tO4eslJYI9\n",
       "sU54DOkfjFX5Cr6uy0J4q4eJbVOhBv+842TnzDHF9MrPdTJM/6FlWd8tVDaHZS4InmspVNTLrjF/\n",
       "J8H34ufU6ORe30ae/wAAAPgBnmJqQU8ABRMhD38I8gAAJzYROI0VmMjSuYM2j6jWsJvW0FbNYXkP\n",
       "ZU7v6tQMgjAPiLz6ewjmAMUCCmFhCve9ipRxUmp1vdXsHnMQ14LDf/uQXpe83d+0CJW1u65nDv93\n",
       "6pH4S0/rdSpz/Dkj9fl5P+Oovuh2wgq/k/HPVEsDrxDWtIL1YQ0CkDvoxq9dPDb3WGiVuZWcjGI5\n",
       "XA0QSjdfpaz1KRgR+qF+qmEsLKC9VoQIejZTw7PYBGc2XWHfmkjziPb+PiArMWUU5vdreWJqavvC\n",
       "xEPllU3DLaXKlfYHZ/z/HpDPe45THZCugGf3ArDTDKeLahZRQAAAAKNBmmZJqEFomUwIKf/+1oyw\n",
       "ArvIP+tUUisdACZ2ETinMfu+P8E4TOMHsCP+K9a5eOPghPppm/lKd2qiSUJo0Mcwdvt0nRLmTii0\n",
       "DK+pFv322CVSOHjtRdf72QjKrBYSWvuscfNtQkFv+hPk17b2ZEeju2vs81Mi2w4KtAaPvDw297Ao\n",
       "hivLAyw7jI+hj/AyElQqy5SZknkJWeYA7umyO72XlfTtAAAATEGehEURLBT/AAHVvhMUALUK+cG4\n",
       "VfJr1lILgk39Rv//RYswfLjLrtZurpibpJ3LF6jtkMdHRwCi2ZKbtnX7L8jSCZW1i8jEizwZD1cA\n",
       "AAA+AZ6lakFPAAHVvUAAAtiwaUAS3Midh3GBAyb3/7Rc+ycVZjX+ZV0wRYxdBgUWmlJ3vfI+d524\n",
       "fIA303tnpYEAAAN2bW9vdgAAAGxtdmhkAAAAAAAAAAAAAAAAAAAD6AAAFIIAAQAAAQAAAAAAAAAA\n",
       "AAAAAAEAAAAAAAAAAAAAAAAAAAABAAAAAAAAAAAAAAAAAABAAAAAAAAAAAAAAAAAAAAAAAAAAAAA\n",
       "AAAAAAAAAAAAAgAAAqB0cmFrAAAAXHRraGQAAAADAAAAAAAAAAAAAAABAAAAAAAAFIIAAAAAAAAA\n",
       "AAAAAAAAAAAAAAEAAAAAAAAAAAAAAAAAAAABAAAAAAAAAAAAAAAAAABAAAAAAbAAAAEgAAAAAAAk\n",
       "ZWR0cwAAABxlbHN0AAAAAAAAAAEAABSCAABgAAABAAAAAAIYbWRpYQAAACBtZGhkAAAAAAAAAAAA\n",
       "AAAAAABAAAABUABVxAAAAAAALWhkbHIAAAAAAAAAAHZpZGUAAAAAAAAAAAAAAABWaWRlb0hhbmRs\n",
       "ZXIAAAABw21pbmYAAAAUdm1oZAAAAAEAAAAAAAAAAAAAACRkaW5mAAAAHGRyZWYAAAAAAAAAAQAA\n",
       "AAx1cmwgAAAAAQAAAYNzdGJsAAAAt3N0c2QAAAAAAAAAAQAAAKdhdmMxAAAAAAAAAAEAAAAAAAAA\n",
       "AAAAAAAAAAAAAbABIABIAAAASAAAAAAAAAABAAAAAAAAAAAAAAAAAAAAAAAAAAAAAAAAAAAAAAAA\n",
       "AAAAGP//AAAANWF2Y0MBZAAV/+EAGGdkABWs2UGwloQAAAMADAAAAwAgPFi2WAEABmjr48siwP34\n",
       "+AAAAAAcdXVpZGtoQPJfJE/FujmlG88DI/MAAAAAAAAAGHN0dHMAAAAAAAAAAQAAAAcAADAAAAAA\n",
       "FHN0c3MAAAAAAAAAAQAAAAEAAAA4Y3R0cwAAAAAAAAAFAAAAAQAAYAAAAAABAADAAAAAAAIAADAA\n",
       "AAAAAQAAwAAAAAACAAAwAAAAABxzdHNjAAAAAAAAAAEAAAABAAAABwAAAAEAAAAwc3RzegAAAAAA\n",
       "AAAAAAAABwAAFDkAAASFAAABLAAAAPwAAACnAAAAUAAAAEIAAAAUc3RjbwAAAAAAAAABAAAAMAAA\n",
       "AGJ1ZHRhAAAAWm1ldGEAAAAAAAAAIWhkbHIAAAAAAAAAAG1kaXJhcHBsAAAAAAAAAAAAAAAALWls\n",
       "c3QAAAAlqXRvbwAAAB1kYXRhAAAAAQAAAABMYXZmNTkuMjcuMTAw\n",
       "\">\n",
       "  Your browser does not support the video tag.\n",
       "</video>"
      ],
      "text/plain": [
       "<IPython.core.display.HTML object>"
      ]
     },
     "execution_count": 20,
     "metadata": {},
     "output_type": "execute_result"
    },
    {
     "data": {
      "image/png": "[encoded data removed]",
      "text/plain": [
       "<Figure size 432x288 with 1 Axes>"
      ]
     },
     "metadata": {
      "needs_background": "light"
     },
     "output_type": "display_data"
    }
   ],
   "source": [
    "anim_word_idx(852)"
   ]
  },
  {
   "cell_type": "markdown",
   "id": "cc897892-be02-4236-9a72-aede567fdadc",
   "metadata": {},
   "source": [
    "### Find words which are not the MAP at phoneme $k$"
   ]
  },
  {
   "cell_type": "code",
   "execution_count": 61,
   "id": "3273069d-3b67-4d05-84e7-68a11ffb9749",
   "metadata": {},
   "outputs": [
    {
     "data": {
      "text/plain": [
       "torch.Size([2187, 1000, 16])"
      ]
     },
     "execution_count": 61,
     "metadata": {},
     "output_type": "execute_result"
    }
   ],
   "source": [
    "p_candidates.shape"
   ]
  },
  {
   "cell_type": "code",
   "execution_count": 69,
   "id": "0d4dc6e0-0758-4a3b-aada-a7787d64291e",
   "metadata": {},
   "outputs": [
    {
     "data": {
      "text/plain": [
       "[(tensor(15), 'mojstə'),\n",
       " (tensor(27), '#dipər'),\n",
       " (tensor(37), 'heləbul'),\n",
       " (tensor(63), 'zemənsə#x'),\n",
       " (tensor(89), 'bladrə'),\n",
       " (tensor(114), '#ɑləmal#x#'),\n",
       " (tensor(175), '#idərə'),\n",
       " (tensor(228), '#ustərs'),\n",
       " (tensor(233), 'ɑndərə'),\n",
       " (tensor(238), 'zɛs#ɪs'),\n",
       " (tensor(239), 'vɛrdər'),\n",
       " (tensor(240), 'vərdində'),\n",
       " (tensor(264), 'ɑləmal#r'),\n",
       " (tensor(282), 'merə#x'),\n",
       " (tensor(456), '#pʏrpərən'),\n",
       " (tensor(506), '#maktə'),\n",
       " (tensor(529), 'xəkert#xə'),\n",
       " (tensor(592), 'xəkomə'),\n",
       " (tensor(628), 'bəwox#xə'),\n",
       " (tensor(655), 'lœkərst'),\n",
       " (tensor(865), 'vərlɑŋənt'),\n",
       " (tensor(869), 'dəxenə'),\n",
       " (tensor(898), 'kɛikə#h#'),\n",
       " (tensor(950), 'zwɔm#h'),\n",
       " (tensor(967), 'zemermɪnətjə'),\n",
       " (tensor(974), '#œyjtstrɛktə'),\n",
       " (tensor(980), 'vɛiftin'),\n",
       " (tensor(990), 'hɔndərt'),\n",
       " (tensor(996), 'herləkstə'),\n",
       " (tensor(1007), '#kɑlmə'),\n",
       " (tensor(1010), 'lɪxə#xə'),\n",
       " (tensor(1043), 'rɛijtœyjxən'),\n",
       " (tensor(1082), 'darnax'),\n",
       " (tensor(1357), 'hɔndərt'),\n",
       " (tensor(1359), 'lɑntarnsh'),\n",
       " (tensor(1423), 'zɛstin'),\n",
       " (tensor(1426), 'jarəx#xə'),\n",
       " (tensor(1438), 'dɑnstən'),\n",
       " (tensor(1463), '#zɔdɑt'),\n",
       " (tensor(1500), 'xəzin#xr#'),\n",
       " (tensor(1554), 'lɑxtə#x'),\n",
       " (tensor(1582), 'lɑntarəns'),\n",
       " (tensor(1591), 'werklɔŋkən'),\n",
       " (tensor(1609), 'ɪntʏsən'),\n",
       " (tensor(1642), 'ɔpsɛtəth#'),\n",
       " (tensor(1651), 'vresləknxɪ'),\n",
       " (tensor(1654), 'wɔrdə#dɑxɔm'),\n",
       " (tensor(1697), 'xɔlvə#r'),\n",
       " (tensor(1703), 'ɔptorndə'),\n",
       " (tensor(1754), '#tərwɛil'),\n",
       " (tensor(1830), 'rɛdə#k#ɪsi'),\n",
       " (tensor(1993), 'vɔlxəndə'),\n",
       " (tensor(1997), 'notwer'),\n",
       " (tensor(2010), 'rotxlɑnzənd'),\n",
       " (tensor(2034), 'xəslotə'),\n",
       " (tensor(2077), 'vɑstəlɑnt'),\n",
       " (tensor(2091), '#ɑlsɔf'),\n",
       " (tensor(2123), 'sitrun')]"
      ]
     },
     "execution_count": 69,
     "metadata": {},
     "output_type": "execute_result"
    }
   ],
   "source": [
    "k = 5\n",
    "\n",
    "# Only include words which are still running at phoneme $k$\n",
    "mask = stim.word_lengths > k\n",
    "p_candidates_masked = p_candidates.clone()\n",
    "p_candidates_masked[~mask] = -torch.inf\n",
    "p_candidates_argmax = p_candidates_masked[:, k].argmax(dim=1)\n",
    "\n",
    "not_argmax_idxs = torch.where(p_candidates_argmax != 0)[0]\n",
    "list(zip(not_argmax_idxs, to_gt_words(not_argmax_idxs)))"
   ]
  },
  {
   "cell_type": "code",
   "execution_count": 71,
   "id": "2637fa57-371e-477b-bd51-6ba7bedb2e8c",
   "metadata": {},
   "outputs": [
    {
     "name": "stdout",
     "output_type": "stream",
     "text": [
      "h\n",
      "[(0.2843737857954816, 'hel'), (0.11503773708401324, 'helə'), (0.04161625407498444, 'ht'), (0.030969074349699508, 'ht'), (0.027556656173453757, 'heləbul'), (0.02208031511063773, 'hɑrt'), (0.01865259578798935, 'h'), (0.014280507235832797, 'ha'), (0.012843420209193216, 'hɑnt'), (0.010211893493392134, 'hoxə')]\n",
      "h\n",
      "[(0.2843737857954816, 'hel'), (0.11503773708401324, 'helə'), (0.04161625407498444, 'ht'), (0.030969074349699508, 'ht'), (0.027556656173453757, 'heləbul'), (0.02208031511063773, 'hɑrt'), (0.01865259578798935, 'h'), (0.014280507235832797, 'ha'), (0.012843420209193216, 'hɑnt'), (0.010211893493392134, 'hoxə')]\n",
      "h\n",
      "[(0.2843737857954816, 'hel'), (0.11503773708401324, 'helə'), (0.04161625407498444, 'ht'), (0.030969074349699508, 'ht'), (0.027556656173453757, 'heləbul'), (0.02208031511063773, 'hɑrt'), (0.01865259578798935, 'h'), (0.014280507235832797, 'ha'), (0.012843420209193216, 'hɑnt'), (0.010211893493392134, 'hoxə')]\n",
      "he\n",
      "[(0.6092247775663425, 'hel'), (0.24644971965575924, 'helə'), (0.0590356726474726, 'heləbul'), (0.013374770768399909, 'hekəl'), (0.007584752099052168, 'herlək'), (0.006988505596238707, 'kɪnt'), (0.00410843338652994, 'hetə'), (0.0040398036186977135, 'heməl'), (0.0032380885196289216, 'betjə'), (0.0026633616002228796, 'pe')]\n",
      "hel\n",
      "[(0.6616692765498841, 'hel'), (0.2676650945845524, 'helə'), (0.06411769883577206, 'heləbul'), (0.0009372559266982226, 'del'), (0.0008705671908396884, 'hɛl'), (0.0007365444961433138, 'hɛlt'), (0.0004960947990582173, 'vel'), (0.00033917126692245943, 'relixjœzə'), (0.0002839081937185155, 'wɪldə'), (0.0002791181578053414, 'relixjœs')]\n"
     ]
    },
    {
     "name": "stderr",
     "output_type": "stream",
     "text": [
      "/tmp/ipykernel_60813/4229271781.py:45: UserWarning: FixedFormatter should only be used together with FixedLocator\n",
      "  self.ax.set_yticklabels([option_i for _, option_i in incremental_dist])\n",
      "/tmp/ipykernel_60813/4229271781.py:45: UserWarning: FixedFormatter should only be used together with FixedLocator\n",
      "  self.ax.set_yticklabels([option_i for _, option_i in incremental_dist])\n"
     ]
    },
    {
     "name": "stdout",
     "output_type": "stream",
     "text": [
      "helə\n",
      "[(0.7967883806543204, 'helə'), (0.19086626706381407, 'heləbul'), (0.009561477370025783, 'hel'), (0.0007058671381728866, 'hɛiləxə'), (0.0005689674464068114, 'hekəl'), (0.0004017861372421666, 'hɛiləx'), (0.00020622559791568684, 'heməl'), (0.00010486451961581173, 'hetə'), (6.861690441805815e-05, 'relixjœzə'), (6.518453824514022e-05, 'penəs')]\n",
      "heləb\n",
      "[(0.9925745083818459, 'heləbul'), (0.0073079214554912335, 'helə'), (8.76952115707618e-05, 'hel'), (6.47401710293987e-06, 'hɛiləxə'), (5.218411199292192e-06, 'hekəl'), (3.685070721613382e-06, 'hɛiləx'), (2.3126329349481686e-06, 'xəlʏk'), (1.8914438366206418e-06, 'heməl'), (1.1957089163794259e-06, 'penəs'), (9.617882130646226e-07, 'hetə')]\n",
      "heləbu\n",
      "[(0.9999942516993445, 'heləbul'), (5.628860856788864e-06, 'helə'), (6.75464489793558e-08, 'hel'), (1.99462140795383e-08, 'hɛiləxə'), (5.695692165012416e-09, 'relixjœzə'), (4.6872222371597065e-09, 'relixjœs'), (4.0194343512344055e-09, 'hekəl'), (2.838392621721737e-09, 'hɛiləx'), (1.7812847446340663e-09, 'xəlʏk'), (1.4568676250301652e-09, 'heməl')]\n",
      "heləbul\n",
      "[(0.9999999916519772, 'heləbul'), (7.4064383768016935e-09, 'helə'), (6.924041904744003e-10, 'rɔlstul'), (8.887741670394994e-11, 'hel'), (3.2021419657364635e-11, 'relixjœzə'), (2.6351759528965913e-11, 'relixjœs'), (2.6245169171737542e-11, 'hɛiləxə'), (1.6820409725906535e-11, 'mɪdəlewsə'), (9.852410263553108e-12, 'redələk'), (9.732923360543177e-12, 'perijodə')]\n"
     ]
    },
    {
     "data": {
      "text/html": [
       "<video width=\"432\" height=\"288\" controls autoplay loop>\n",
       "  <source type=\"video/mp4\" src=\"data:video/mp4;base64,AAAAIGZ0eXBNNFYgAAACAE00ViBpc29taXNvMmF2YzEAAAAIZnJlZQAAH9VtZGF0AAACrQYF//+p\n",
       "3EXpvebZSLeWLNgg2SPu73gyNjQgLSBjb3JlIDE2NCByMzA5NSBiYWVlNDAwIC0gSC4yNjQvTVBF\n",
       "Ry00IEFWQyBjb2RlYyAtIENvcHlsZWZ0IDIwMDMtMjAyMiAtIGh0dHA6Ly93d3cudmlkZW9sYW4u\n",
       "b3JnL3gyNjQuaHRtbCAtIG9wdGlvbnM6IGNhYmFjPTEgcmVmPTMgZGVibG9jaz0xOjA6MCBhbmFs\n",
       "eXNlPTB4MzoweDExMyBtZT1oZXggc3VibWU9NyBwc3k9MSBwc3lfcmQ9MS4wMDowLjAwIG1peGVk\n",
       "X3JlZj0xIG1lX3JhbmdlPTE2IGNocm9tYV9tZT0xIHRyZWxsaXM9MSA4eDhkY3Q9MSBjcW09MCBk\n",
       "ZWFkem9uZT0yMSwxMSBmYXN0X3Bza2lwPTEgY2hyb21hX3FwX29mZnNldD0tMiB0aHJlYWRzPTMg\n",
       "bG9va2FoZWFkX3RocmVhZHM9MSBzbGljZWRfdGhyZWFkcz0wIG5yPTAgZGVjaW1hdGU9MSBpbnRl\n",
       "cmxhY2VkPTAgYmx1cmF5X2NvbXBhdD0wIGNvbnN0cmFpbmVkX2ludHJhPTAgYmZyYW1lcz0zIGJf\n",
       "cHlyYW1pZD0yIGJfYWRhcHQ9MSBiX2JpYXM9MCBkaXJlY3Q9MSB3ZWlnaHRiPTEgb3Blbl9nb3A9\n",
       "MCB3ZWlnaHRwPTIga2V5aW50PTI1MCBrZXlpbnRfbWluPTEgc2NlbmVjdXQ9NDAgaW50cmFfcmVm\n",
       "cmVzaD0wIHJjX2xvb2thaGVhZD00MCByYz1jcmYgbWJ0cmVlPTEgY3JmPTIzLjAgcWNvbXA9MC42\n",
       "MCBxcG1pbj0wIHFwbWF4PTY5IHFwc3RlcD00IGlwX3JhdGlvPTEuNDAgYXE9MToxLjAwAIAAAA+6\n",
       "ZYiEABX//vfJ78Cm61tbtb+Tz0j8LLc+wio/blsTtOoAAAMAABnblS+MhuoLgPtAADyZ5SNNU9f2\n",
       "AG3fYGXHYYVH33zptIzON5VWrBzqPtq/bvjNVeXcWknNFYbPuj2SMK6IsAW19Vm2Jwq9NPqWE161\n",
       "F74ZwuncOpYFESbUPpra3z58fUKKR0yRPPZk71G2FNTMMQcxY5oGGhkx9nW6cS7rfn0Xs+bqOmRY\n",
       "w9VcK7s2bEGgQJFfT2BwQT7pghKqriGgz5QJHCW96DMsWrBvuP4K86RUtz2yWGX2NHs3Dpf3nHkJ\n",
       "QKvNQTpqo2Usmhjpczp+PMoZYZn7dAERjsqv/0jGJP+C5e0JI/7kV6YJhBzMm1ZY6NfzZJvdJStf\n",
       "i94D28EnuBN+cvOFKon0g2eQQdUEiBURajOD0lAZQPcSxeKmLI2OfSxDPHWmu8ntRSf2lNWzEeoa\n",
       "4GWLrGfrD6JxfO1CrAgHiIxm4WMnpUJyLUMa8wEtKeoi6ih/yLh9K+xy0nLFQZAwn/aAGyvPtkfl\n",
       "DYWqrX77f+tIDngyzH6/rxSq8QmL4F7zTJrJBwtPbgoQ09dLWEKkVz5fjLEFB5/21iRImRWJk5t0\n",
       "Re7Q7URRyYN0L6wLzfyBuHK5aArk8U1E76GjvY3gK614uJj1b4o5vPn6a66oqfg3VM7CJmQdYB4D\n",
       "r1JboNuFVT2lPIu9495mG67F4N5cI2MW67iY+XMlzaXZh9BdEvXWqjab3FiTgtZnMeBTWMEY//w1\n",
       "HyTvYT1+VXNI9XtxwzcmFPkvJPcmuXXRkWY2C7USQIocY0bS5gluXSiB/OKsNbqvX0sl69sOxsQQ\n",
       "HYrG0R+4zq4mGwW9lR4uXpcwPFbG8FevhgSCCyFP/02zYxBK0p5qF59DZua4odBjTSmPSPBLBSey\n",
       "12Ec9KbQaSe7+t/niX5Yoy1EdL6d06YDSNI86dMrAhotn3hsloh82NlCasjEfiOJjk5M1A/+FsU/\n",
       "R+lKLCKQGEE9LJjZ2Kr8M/E+/JUOSCFWV8n/KMiMEE7BkOCEFazl2HRJV9/Zi/KfJtu7ZikXY7mG\n",
       "zmFqT5gVW393YHjfVLCpL6AXaydhpuvdj7F+t2+CHPZ33ZkmRj83ywJaGoQunRT1+H5c4gxM8nad\n",
       "QWegsDS6LOwNaoUir4qfmZy71hd6O6yixUXAV88BYkAwAoP6SJRtLpRGiTyEwGOUCHZmq6VOQPXm\n",
       "u+W82oblllADPTzOYr4wslrmui8TPd+uPaTr+EOV8ZrJNs2cJTtjSii0wx3+5tA+fI1Fx0xlpyPt\n",
       "eoYL0M6agsQrEDhHCZ4Rk9EjbEvf3+oQjdbE7LDUfvYN9m3WZ4WyKy9Tiv1rHARUvNU5tIJq+gBd\n",
       "Ui6O/6av/2kkACDukYURsjp1FS7revFz/MCMGHjGBqzEUSUtKs29EFKePzN2r7ikbrFA4iLWj7L3\n",
       "tT+lE1ji+R/1YFaIbwBFD0wFs4R7xL1m6G9zjuaARKsC1JhLwd/eOK4J63DtTvLYeWLg968dAa8W\n",
       "bM/Ati1Kz1SbKdwmUOz8Q53DbBzdLNGWp2BU9uEdBRqaj0iP0KnouFEivs6a+uqbZRNFjiSLYdxN\n",
       "rrtrTk/acN9P6IbOpd4jGZ/wh9cVXrW+N+2wCC4tOjTd6eS98I2XZRrt/uYP1mnUQZuL33z6gTVQ\n",
       "gSe/XwvOGSme1yUejIDZE/OZGgk3UmXcZT6+Ps8bsUnA5bYMzOWtW2j5HA4qEGDMuSR0Luj9/fLI\n",
       "oN07fzwghNGmpLJ9dpxjaDnNCKYk1B+//0mqbLQ1M1Ai5zpjDn5w7wjiO7J7Ke7j4rQrvzeTofH7\n",
       "YU/3IydgZ6AcVqG7DZ5/xM5Lar9p4rpLMv14OTHxQqvuATvoq3/gICrG1WIW2F6YS2z9qMdXpAUS\n",
       "jbeL7wDtV0rZQnrRnaCO4X7gpkLawp9fKwPOHlESsXzG978X2Ci4rewbek/i07RIPwKqhKTUjDB1\n",
       "2SKsZFrPS/141OeIZczG5l6L/wYvbg5ibmOcB+bjmAN6pOHN/hbM5YTNmKCfEhjjr2HNDP+YMbLB\n",
       "Gr/qJlwnGRfOAAivo2wBOj6hZb1/aycCUhijVKk/c/vcfzOZF5UPQNtLiPlMr+4tUP70zEs+mmdI\n",
       "ZFPJmmFUS9/slMNwuETiBmv0jjA9zs4DJMqVBAysZTiTIdLCcb5LGnXChxyA56JhUweXZSnEm6t7\n",
       "1OUav7NITbTSzUKPZoxAnba91/jqL6sgO71J8XwVsEtWJlu7zpG1fpP0PKMAPhfwMtZQsS7Kk7w+\n",
       "KAJ7npUOKaJrzdcp8SQbbv/PHn29agCocnjcYdnirDBs/7YYBVOGcrBf64Sil82BIi5DnT0kqDok\n",
       "OLOqsR4DdAtjGtWINYhs0c9pS+rDj8iQTnNklfDgUxOVykAikGt3hW3eWn74L3w6IOrz6LplbQcj\n",
       "1+ieFdgViWUkdnjlbP1iZjxjUX2ZpkDVvFCD68MzKNBe0lDkHsV6o7YGJBUSg1KeO//ghLxzsm1P\n",
       "jLm3AyCot234dqnSlWj4xR4vHZjR92xA6wOTfbXNdFhq1dhAbpHTxVEyBLAu+ZjoWH7PH4FSLKXf\n",
       "bHe+egtGOIauI8EMjd1076bQnn/dygMkTd8fJtfn3Q0hmOmye1LJ53r/qE0wm2b2UECd/+ycGnT2\n",
       "J7Xbj1nMgx/WKmal3HknnpkCEHimKr+9e8iV4aIQfLdMVP5WbwACUM8HmMupU/IpRhh5AZq0XGaD\n",
       "wHULE68F8FnAMlkRUVLP0ikoUkBfPg9sYGI4EXUzs2nsyhxatKZ4ZOxKdKf6BwIvlqtjRMhXc0fQ\n",
       "pSMqjltxHNCT2AzXGvTQIVdrikDSs2DboHxa8x2FWYIWiZOW1/4DC/6L+/FfR/DhNpWHhtQG4NmH\n",
       "Vl9naWqjn2KnpHbpLJS6w7/yJrcq6++45M/JM0oE7Gj2nGnE3WxCWcK5N0Q7/+jAr3FHrCKrZeE2\n",
       "89Dp/7ca3yfYuUpP2IOUbjLwMq8MpgwboiRdxiqfbh4wsXt+lRkqwIWvnbwWm2ZNxKwKSERFOnJI\n",
       "gCcRwhhJvWksVZ+pau94rPEOwlP1OEo4UQwk7kYM59tWBeBf/fqf3u4Rew1kmQK3h9YLMAw93+ph\n",
       "vOHzyjfnLDO8/2ODFXsyXt+Rvs+ks9wv5kcUtil6F7XD1oGzugYj9OdBsRhse/N39Krjpf2CZur/\n",
       "wq15WoorH0gOmr5fe27T+ckiY3cZAuocE23X+QYTnWiVXPbJEP47vjkvwr0b9TsPLN6nOPxGlZCj\n",
       "HyvZaQ3FMVMOuLkBcPCcRR1p5KRIFGNaGZLx4V/UR0Qbs5cvoWV4bwG7Rx9Ws8gVx/IucyrCaviH\n",
       "2+IjgPfEi27XYQKs5Fh4yvzOn9DjcLJg1tRkDurO4uuSPGcUbhZYUYtiQkLlXf/yaO8JLLd69P3C\n",
       "ZWunaHgC9rONb//lsxEWwrv+nFarY8IC15jDkR1fPx1ziYMVEGG3mNhjA1eRI29zLU/MDVqJA2iX\n",
       "JSYwLb7xQVlrEPBmkqmne44f1Or38LfzhmTE1EGXgccaJkrpD06gX2RqvPvKycY4bE9vANZSA8HN\n",
       "RQapQ96IZieIuspDf7d5kAMQ88WYaOoa7JpfxXRu6NwBuCn8UpVimM5RERmhxJjoVJRZh55cRKYO\n",
       "m9NrPgmeojhGlLcHkT/x7OoVO+5pY+r5zMbRSgfPVtn3+h0oqwSwbCbLVCqY+x1fAE8UDA3F9oEv\n",
       "dsdLdYy/6WUW+7NHW1w9M16MaJW+R/uQ8P9Ae9Fqqx+HKQBgPLvszxJ9TfCxKx4h3akXYtjwiFEn\n",
       "G9wLpjRGlVvcDPo48QQw3do1iAhn+EBvsStvEKhSF0sO1hYjhi1s6QSb6tgOsOlW/1atP55OtVW+\n",
       "ObM1OLGAxMaO5VTmEw0pdF7jbv3/Q+bszP9/8kaI4vqBJ1tSSnj/i0O+KUZ1DFhhhXIqRhVR7a1G\n",
       "MfQspGIPg+ZtrAxIwKYcyw1lIfJybLja+cJy6Vf6ynKuJ4M1yXP0NZERAM5hvAF2lmm0XW8Bu4t8\n",
       "CJ79UZjPKr6V49Lc5XuBFeIQ6S5C6vVCtvVPUN3A7TY6V8hfn8EsT11Fdb5ijScvFoRX7kjU88ia\n",
       "7H2n5Y5InUHYLONIxbxVe0kvrgQ4dIP2+7cZ3gQVbyDEsgcK2jDrFgfxSoSOkdCEhZznLG2kPj5W\n",
       "/Qv3Jugs4ED1rkpn53NPU73F3FtAFwVAGiUb1SLX6Bhh9uBKzeesJckVCEDy+b7HsypTQDO1c/4j\n",
       "CDfhPTLjQj0kZ0h9/RY1qhpkmjUVjdzvceJvL6DQi2lcPbswH8ite75uElGMwcOPTeJB8vfKmj1C\n",
       "kci/6AdjAAGkVtrWmwtTb/Zuup4Mc7EUZsgrR6uWiDV42nvOdIFLiTgb+6Qej1jJKzlBZGYOsfCM\n",
       "H00p4gnJatO53kq6bSWbJ45BZgL31Mbp69KvbBrsdc2Inl1KO71W9aAvl9o16u8bjlJpit0K5Cod\n",
       "vexA0UGtmLEmO/nbxgngIpCHlY6bCfBBpP0gRcC73wzJtw9hOAf+ApdZMaP3gzblA2pqlvLaZK3d\n",
       "HROo5q0eyPPbXTA6lfcOV5uLDp9eg0NDLdbwbNzS6r+kCuyfQQMJo+v8Q6JkmNpn+h9VSKPO91yn\n",
       "1qXgTK4ZBvtVsPqQrKlPGt1jNpjVIG07SCvX3Rw44xPC4A40F6U+uHM8Pqwr7+RkrG0q7hCYc8SW\n",
       "b0NL1SPXqdK+WEOOKY96RhjLsRkf6fgFSXtxkEzuriUL/QlptgIh6yl/qoDm/0lC8FZuiyn3FPxm\n",
       "R3wpp+Agw9bciQqSsMpicrA2dSsLn6uPhdJAJe3hgpBxrMEfG0C3+ci6vuH6FEgK1GXsW00Gs6mO\n",
       "CI1kyIVkBKbnB2+n3PlrhtGp5F/da90IJNPLG2zLLwjp29LgXNp3pioOr3Kq6NIKE7NdJRvNeVJ/\n",
       "tIi6gW89br/8zkoeiewnKmiluRyiQ8gcnmUbXDtCfkuel30+H/XkKjswF1zQqfvr2KqjNgMNcuXC\n",
       "jS6rfx5/FKFhCLyDD6UDDmH1PbnhgAuGeb6ZdhqFgetMa4SvIH210bMY+rRBUGRx3lfapPRiihJp\n",
       "3bzNnVfb2R7nv9zv6jgnI96IQgY2UXCA+umVM5+73d8jJ/OyPxOXiULx4V+f7SSLQEgJhdhCP0yY\n",
       "/ug4TF0ANnteIo5vPdkyebuPRrL+yMs5y6aQKg1x3ROR3I19HeIK4cKgc3aeXgxf9VogOD7bDs1R\n",
       "qaVRqh6ywNcFcwSv6376/Hv4zs2T6weEjJsYl8bPkr9op48HJJ1sGeSBhV3W+BVCTsbvVy5U21+z\n",
       "OkZG385lx502Nk+9szzr0MFBF/wYrF4bP+v5/7yBzKEOH+X1AAAEIEGaIWxBX/7WpVAEUTenH31D\n",
       "j/xCeSIJyer6iQYuVvFEzpilcpVb174ijeIsvu4wIJmZp43dR5sNoy1AzY5VJLH8GU8nesRpZH8l\n",
       "gfa6x9owsbFIXoifFk7ADgjjkuWbCldlfu8ICNwbL1/CUqHpCDOOt9RHx1cT+rsuZoxB8ps9Qq/b\n",
       "UdbPvryRa7SNUSPj5KweFL1+bweerkCw4ok2YS58mS4KefdHj6c91UQMagVeY+Y90WpvIvw6BrMa\n",
       "VUbJhZSNZIT8EFuEXWQaUjrj68DnvRUBOt6ASaguAXE0yuzSyJbJw1eta38e1nqKGaVR4Br4HQNb\n",
       "jrlNmNKKMdAHnSlD86YLiH+BMxS9nV8JaBQkTbFGZoqXjYkYcAPZQFfS3sNEsAnCnkvX9w8+1jOn\n",
       "S86bakOQnJlh4qf1KKEU/gcTfZxNhmvkzVtxGFBwkvRBjZpJiTpAfkaBNuzu2WBXDCrS8k0wA705\n",
       "S1JD0NqcpNX7oAudOUIGMALyxdqrB/7n1Jf63L6ZAxUZc3+dHjXKTYOU8A7jVvhg9ZOMGPsy3Wyq\n",
       "gD0Fp3rc+ZB5EBWDM382lrFBD6Dq33ZrkUfBROG6UM86GNArwWA0O8Mo2wt1qheqtqQ0fL9eRclE\n",
       "QPBhlMYdnGE5pE446y7vw4O6atX6ByBd0iI/+YotwZBPqE+2/6bj44IlNfYo74RbBpEfsYNY7gcu\n",
       "9XJIsM/ZBOCzAU/tU3TvCdnFO1LB1SvmZW21aky2ggr/VpaO4L2h+h2l5QsdTn6zw0PQEbfPi9iZ\n",
       "fWoekK5V/EuBHdPiorKilpOSnwqAYvZSzyZiE5vfTh6ZJh1tvmyps+IxjUupewZSm67oLYk/rXId\n",
       "2m2jXBZRbpJk2x2EdIkk8ZomGSlnLqObDs6uNmPHa6FRlZiz1JNKNhHwC92AtACVMaOdC/ew6/P/\n",
       "h4nhUJy1jetCziL1dt5leixcjO/0GLrqzHS/A74NK64xbSGJQn29IeR7r4aizG6WfG2mvJc5RQEQ\n",
       "t75MLmlPftmxbDQUJWVdm2z1fG3wjgKAZbsUr0iWRWuaESE76qe8KnxmQM44N+dOJgxZzr2NwbyC\n",
       "RRPaLKl7FpZxsUnThZnpM3R2+RrS/O1+E41CVNO7DD//oEh35I5/i6z/DEfGz5Zx8FapMfKFnrAa\n",
       "afJc2WqI14Lbx94y2KUfU4m0bR51E93HVXOy9Wh/0yaiLUm691OEeilUe/faPM5XXwHFdfoc07hS\n",
       "FhmHQbfjS/zRWqoEiB3kcTxNC/5qnNJ8lCRbTph3fXCtvFmnbzHru67BCHB/hEQmArZ+/iwbm3hV\n",
       "hl43DQYDYW6aj+f5R7BNdmVohilG/E4fKOEy5FPd6IjMMqpj0evN4WDDb439P79YrE3CSG49SJN/\n",
       "B7abEiHYk6PLdEWNgAAABBpBmkQ8IZMphBX//talUASZAI5bB6ADjoEH/3+AswV4GXh5cxPGjqGo\n",
       "Th/sCHrhNbKqfwveaRE5ym/jKEEzRy1xoxgxQ0skVXFZDi5oNpj71H10zFUZkLwSO2sxWrVScHf6\n",
       "vBCBzCW14AZYu9tySl8igprWYip9fB9b+RleeYJnkf4qpdMjcRFZzZ9ScLFtHU/2C9w/Xv6yCA8r\n",
       "GZcdeeGUvNGPgS/61D/VHFWeXOCWeIJ+8AlXJ7FJvMRXTactIL2JbA8FW21AawYEd8teIvOWc5RY\n",
       "Ge+RoT1jU3omqGDFsYGoYMPn8kF7OJwSzaBZVaypKM1YS34KEOK5R7qiA0/XfDAiL+eAAkX8a0Ir\n",
       "z2o8xJtLlasywm85KHpC8af7LUaGVFnsfgRBXwVd5SCjnZGE5FALw1UoKpHr9D3rfHS34SCnPy2i\n",
       "MyhcyXK0v8DfUfSwBLq6/KibDoV6pq9aQ7yyir59kptxZmJ/DX+nlFthFZfsWmyQSGrcQ8UbC3I1\n",
       "dRSWt4u9nBG6ZJl2g83cdHtHlbygm2xXGm3/zaSmODOoYn7t75iv5eGl9jnuVa8yirAzh5Yfu4HS\n",
       "Y0DukRFNM3LZnUBVlCM3CXG9QxASdWLUXBC0wGvJgl8NF1/z1lO5Al1xP2RUZOZ3GDuBpikuJ4V/\n",
       "fbsTqdr+aAvPwidX23UkhhPEJqL6637C+5WDnvg03jciIYlZLNgS1ZeihMtZJPu18X0OO1WRC8GR\n",
       "yf02srMVS+Ivm+7w+rmueksklas0QZO9ysRl5p6WrDFXMLzvkCNYqanaeWEy1xLBaytoAkG0dVIo\n",
       "KiC7khobhaqLggEjQ3wcyRQOf1fujntdiznyN6jkQXYEcA2NzDE3SE2FJlKz+YLxFm8t32Yhq6/n\n",
       "sTDQP69A4+Ls9Vi0OQSowr2hZxlM90p1KYkGemhMekuVLQxjTVzIoAUQbVkHCA5EEl4nTZr3YlVK\n",
       "++wqwKfUhGGOZkOlzwbXAKpgJ+CjgRvjZYP/pVNpkaXptsVu0T593tNUrXPTgVHNNYm7b3t56COe\n",
       "KPbP3PPpXwUxFD0v0EChrJD8s15UpUtl79gIrhHwaiBgThQSf0c8LsA6OKqLuMlDqJdbqdsbGLGV\n",
       "W5RZRCp0nuVPVFogU6LTSRnHT/kaiHx/NQU5AV/cSxcKiHrj5HKsRJxYOI8kickVEZYWmDgyY35w\n",
       "UVdUmpCtvronW096P6AVYCa4B7xzwhrApByc6L3ysCBMhZcP0BimsalOEFerfEW1bHcHfH2r/srk\n",
       "u4e0rshRlL1hHub88lYXpzNiQ9kdi8LT5njZis4hdMziDjGlPYvboBJTia4dkSP3pVOKAwgk4S8u\n",
       "3CnwsYEJ8WFeHoz28CAgwcRI8awfT7/AqGkmFS3ySm50n65rkFavUaEAAADFQZ5ialPBTwAFEc2z\n",
       "byCGNKAvp77tOABLuUd+KGxd7ctEPCm+f+2XCSIDVsglv83zlnQdRWvpjaUmbbAVS343+y00fWLE\n",
       "T2Rps+M2+oqtES2OdmLrWD1sUAg/C6g1ek+bbe3Hyqt67WAZEH/8M79EMZnlIw845g8zyGa38Ame\n",
       "snJofueAAE4jIGLzuhhHwLV3QxCFstwGKzKnEaqWIEkGMVdO0s0WAXto+Sku3oL+kZAW7LhpGJ7p\n",
       "LbOkTmMqrO5sMcvaA6gAAAIWAZ6DakFPAAUR/8LwARAHy/9/groUwbDW5JIxn6kiCroxfNgytdTF\n",
       "tx8jX16Vd2iMAZkxUun6R8uL8KMCbUYW4g414zaC4jaLSRHQUUt94CTHIBnhubCzwM1P8hLIio7i\n",
       "+56VAn2CyKClwOZbEj/gyLLXBBNXy0TRY+Xx608YLINDDONCdA0v0eUsKxEoF80Oy2z4ombz9+kc\n",
       "tc3dSVq/EK71ovFQmbWzvwRWgh5lveiggImBQm+H3VgkG/5ZmH8OBU/hirX1Dohd6xpYZYV8LZj0\n",
       "38315sRqsLgRn+D/xHhOCrz4EKUzd4CMTwpQhZEFPLXYHGtFsPEP1ytrpHBTVxt/zPrheNuz8nNu\n",
       "Izwy07ctRv9ytp2EtEvRx/wyM49ONynGEuLorlkFYnHZUDVvVwP8yn98vQCgDzb2DUYilx/kpwtC\n",
       "zLbexMc6drOCqdDTB9pMKJEY1YxS3nnydo475ukLeeZ39n3RtkH8Ox4QZQBok7ipzzOl3lj4GKaZ\n",
       "A0CAuuLDXWvLQ3bYnnAM9kKX/pIOHh2hkrXOARZ5vTYKcbkXZTbRaD/ULbKM9KntAQpTNR2/brVL\n",
       "5m7CtnJB/NJdFcHzbAqgqdF19FaXqAgJ4Gwg1BGW7qW3kXdYM5qZs+Qe22UwPUyGXNqQJQL38vPE\n",
       "IEntQ4N5otp50ZrQhnYNDoYdl2yXBxEc+mZgs5d2E02rXzN5GDIFAAABM0GahUmoQWiZTAgp//7W\n",
       "jLACuFtPgAtkMY+quO/JqQ00iik2tCEQL/CzyuFxVDl5gKvzPKVcbp7qt4ECHAIgKVS+sxc/0NmJ\n",
       "X4AMHYQziW/7E6BPnGm74aIg3S2xnCvDhB/xY1Jp/ar++/9C3/w64IoMM2poaVAx45e1qAJ+WrEL\n",
       "jPyCamwT9UclouaufStMwjm5KWbiXe/5Fz5y/gY3V52ZdnShZDaIVgmXABFEwfl2dJUq4JMLRbEV\n",
       "OALJ2nWUjDNsUJxPLIrlSOfdrXVVSVtiecRohk4ETnrKAI6ggNj7Hb5MW20gOKo3oDZRNoPg3bdJ\n",
       "v85799zN+Co2yx24Cs/GEDGFyiwxO3mDvr/CSxfwrTf6uA9zCG1zbLGQKs3K+glJP/PO+K5CLH6m\n",
       "yEzL2YL0WM0AAAD+QZqmSeEKUmUwIKf//taMsAKmS66Q+igBYnfpeKvsCPnd/wIRXOAhgg9mVPVs\n",
       "XiNVboT1O1WwU9RZpB2/nQqa3wGBlLKfIPWFmA2zIdYUqxXpV1K6c0Ywbhb8a+YGRGoS7ivJ5oLA\n",
       "I/l425400A2QN2i2Qz7INZnvFJGACefgRn7R2rnZOIgs3z5vKUsuvYPEncsrqAC2GEspRh9PE/cO\n",
       "KqXlGROYJbwUjbIHH/PC+/BnYMaQwcewCj9sHLMLtCSNo8P89czjs4ac7V715q0IETVB1KmmtTB3\n",
       "obaIDnuBswFI5zzzVCnw1ewSOGld3zU20De6RW6Hk9orOSK+t4EAAANubW9vdgAAAGxtdmhkAAAA\n",
       "AAAAAAAAAAAAAAAD6AAAFIIAAQAAAQAAAAAAAAAAAAAAAAEAAAAAAAAAAAAAAAAAAAABAAAAAAAA\n",
       "AAAAAAAAAABAAAAAAAAAAAAAAAAAAAAAAAAAAAAAAAAAAAAAAAAAAgAAAph0cmFrAAAAXHRraGQA\n",
       "AAADAAAAAAAAAAAAAAABAAAAAAAAFIIAAAAAAAAAAAAAAAAAAAAAAAEAAAAAAAAAAAAAAAAAAAAB\n",
       "AAAAAAAAAAAAAAAAAABAAAAAAbAAAAEgAAAAAAAkZWR0cwAAABxlbHN0AAAAAAAAAAEAABSCAABg\n",
       "AAABAAAAAAIQbWRpYQAAACBtZGhkAAAAAAAAAAAAAAAAAABAAAABUABVxAAAAAAALWhkbHIAAAAA\n",
       "AAAAAHZpZGUAAAAAAAAAAAAAAABWaWRlb0hhbmRsZXIAAAABu21pbmYAAAAUdm1oZAAAAAEAAAAA\n",
       "AAAAAAAAACRkaW5mAAAAHGRyZWYAAAAAAAAAAQAAAAx1cmwgAAAAAQAAAXtzdGJsAAAAt3N0c2QA\n",
       "AAAAAAAAAQAAAKdhdmMxAAAAAAAAAAEAAAAAAAAAAAAAAAAAAAAAAbABIABIAAAASAAAAAAAAAAB\n",
       "AAAAAAAAAAAAAAAAAAAAAAAAAAAAAAAAAAAAAAAAAAAAGP//AAAANWF2Y0MBZAAV/+EAGGdkABWs\n",
       "2UGwloQAAAMADAAAAwAgPFi2WAEABmjr48siwP34+AAAAAAcdXVpZGtoQPJfJE/FujmlG88DI/MA\n",
       "AAAAAAAAGHN0dHMAAAAAAAAAAQAAAAcAADAAAAAAFHN0c3MAAAAAAAAAAQAAAAEAAAAwY3R0cwAA\n",
       "AAAAAAAEAAAAAgAAYAAAAAABAADAAAAAAAIAADAAAAAAAgAAYAAAAAAcc3RzYwAAAAAAAAABAAAA\n",
       "AQAAAAcAAAABAAAAMHN0c3oAAAAAAAAAAAAAAAcAABJvAAAEJAAABB4AAADJAAACGgAAATcAAAEC\n",
       "AAAAFHN0Y28AAAAAAAAAAQAAADAAAABidWR0YQAAAFptZXRhAAAAAAAAACFoZGxyAAAAAAAAAABt\n",
       "ZGlyYXBwbAAAAAAAAAAAAAAAAC1pbHN0AAAAJal0b28AAAAdZGF0YQAAAAEAAAAATGF2ZjU5LjI3\n",
       "LjEwMA==\n",
       "\">\n",
       "  Your browser does not support the video tag.\n",
       "</video>"
      ],
      "text/plain": [
       "<IPython.core.display.HTML object>"
      ]
     },
     "execution_count": 71,
     "metadata": {},
     "output_type": "execute_result"
    }
   ],
   "source": [
    "anim_word_idx(37)"
   ]
  }
 ],
 "metadata": {
  "kernelspec": {
   "display_name": "Python 3 (ipykernel)",
   "language": "python",
   "name": "python3"
  },
  "language_info": {
   "codemirror_mode": {
    "name": "ipython",
    "version": 3
   },
   "file_extension": ".py",
   "mimetype": "text/x-python",
   "name": "python",
   "nbconvert_exporter": "python",
   "pygments_lexer": "ipython3",
   "version": "3.9.13"
  }
 },
 "nbformat": 4,
 "nbformat_minor": 5
}
