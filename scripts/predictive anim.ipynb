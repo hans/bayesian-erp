{
 "cells": [
  {
   "cell_type": "code",
   "execution_count": 1,
   "id": "834487f2-a8dc-41da-94f7-80c79798cd50",
   "metadata": {},
   "outputs": [],
   "source": [
    "from argparse import ArgumentParser, Namespace\n",
    "from collections import Counter\n",
    "from pathlib import Path\n",
    "import pickle\n",
    "import sys\n",
    "from typing import List, Tuple\n",
    "\n",
    "from matplotlib.animation import FuncAnimation\n",
    "import matplotlib.pyplot as plt\n",
    "import numpy as np\n",
    "import pandas as pd\n",
    "import seaborn as sns\n",
    "import torch\n",
    "from tqdm.auto import tqdm, trange"
   ]
  },
  {
   "cell_type": "code",
   "execution_count": 2,
   "id": "f0b8cc63-6dea-4288-86de-016e67348e5b",
   "metadata": {},
   "outputs": [],
   "source": [
    "sns.set_context(\"talk\")"
   ]
  },
  {
   "cell_type": "code",
   "execution_count": 3,
   "id": "3449004e-eeb0-43fa-b57c-c74158a2d0ad",
   "metadata": {},
   "outputs": [],
   "source": [
    "from IPython.display import HTML"
   ]
  },
  {
   "cell_type": "code",
   "execution_count": 4,
   "id": "ae3b052b-ea4a-4edd-92c7-7f1740ed38d1",
   "metadata": {},
   "outputs": [],
   "source": [
    "%load_ext autoreload\n",
    "%autoreload 2"
   ]
  },
  {
   "cell_type": "code",
   "execution_count": 5,
   "id": "8245862e-e234-4341-a393-24698405b14a",
   "metadata": {},
   "outputs": [],
   "source": [
    "sys.path.append(str(Path(\".\").resolve().parent))\n",
    "import berp.models.reindexing_regression as rr"
   ]
  },
  {
   "cell_type": "code",
   "execution_count": 6,
   "id": "239c5f9d-1e29-4124-b7e7-72311138522b",
   "metadata": {},
   "outputs": [
    {
     "data": {
      "text/plain": [
       "True"
      ]
     },
     "execution_count": 6,
     "metadata": {},
     "output_type": "execute_result"
    }
   ],
   "source": [
    "IS_INTERACTIVE = False\n",
    "try:\n",
    "    get_ipython()  # type: ignore\n",
    "except NameError: pass\n",
    "else: IS_INTERACTIVE = True\n",
    "IS_INTERACTIVE"
   ]
  },
  {
   "cell_type": "code",
   "execution_count": 7,
   "id": "c46458bc-2468-4f8b-ba60-1395c7b61c9f",
   "metadata": {},
   "outputs": [
    {
     "data": {
      "text/plain": [
       "_StoreAction(option_strings=[], dest='confusion_path', nargs=None, const=None, default=None, type=<class 'pathlib.Path'>, choices=None, required=True, help=None, metavar=None)"
      ]
     },
     "execution_count": 7,
     "metadata": {},
     "output_type": "execute_result"
    }
   ],
   "source": [
    "p = ArgumentParser()\n",
    "p.add_argument(\"natural_language_stimulus_path\", type=Path)\n",
    "p.add_argument(\"confusion_path\", type=Path)"
   ]
  },
  {
   "cell_type": "code",
   "execution_count": 8,
   "id": "cdd586cc-9fed-4343-95a8-65b87fd8d3bb",
   "metadata": {},
   "outputs": [],
   "source": [
    "if IS_INTERACTIVE:\n",
    "    args = Namespace(natural_language_stimulus_path=Path(\"gillis2021/DKZ_1.pkl\"),\n",
    "                     confusion_path=Path(\"gillis2021/confusion.npz\"))\n",
    "else:\n",
    "    args = p.parse_args()"
   ]
  },
  {
   "cell_type": "code",
   "execution_count": 9,
   "id": "c8cb02b7-404c-4ce7-811f-4bd7207c6995",
   "metadata": {},
   "outputs": [],
   "source": [
    "with args.natural_language_stimulus_path.open(\"rb\") as f:\n",
    "    stim = pickle.load(f)\n",
    "confusion = np.load(args.confusion_path)"
   ]
  },
  {
   "cell_type": "code",
   "execution_count": 10,
   "id": "6b55caec-7a9b-4d2f-9e91-38698f531d4c",
   "metadata": {},
   "outputs": [],
   "source": [
    "assert confusion[\"phonemes\"].tolist() == stim.phonemes"
   ]
  },
  {
   "cell_type": "code",
   "execution_count": 11,
   "id": "00cfdb77-225f-4742-a0ac-46439c3865eb",
   "metadata": {},
   "outputs": [],
   "source": [
    "confusion_matrix = torch.tensor(confusion[\"confusion\"])\n",
    "\n",
    "# Smooth and normalize.\n",
    "confusion_matrix += 1.\n",
    "confusion_matrix /= confusion_matrix.sum(dim=0, keepdim=True)"
   ]
  },
  {
   "cell_type": "code",
   "execution_count": 11,
   "id": "f134744f-2404-4d0e-a732-fe351b93c236",
   "metadata": {},
   "outputs": [],
   "source": [
    "p_candidates = rr.predictive_model(\n",
    "    stim.p_word, stim.candidate_phonemes,\n",
    "    confusion=confusion_matrix,\n",
    "    lambda_=torch.tensor(1.),  # TODO,\n",
    "    return_gt_only=False)"
   ]
  },
  {
   "cell_type": "code",
   "execution_count": 51,
   "id": "bad0ff94-6df0-4025-b368-b29b423f0b9e",
   "metadata": {},
   "outputs": [
    {
     "data": {
      "application/vnd.jupyter.widget-view+json": {
       "model_id": "9bcf128f36424fdc85c8ba716d60bb91",
       "version_major": 2,
       "version_minor": 0
      },
      "text/plain": [
       "  0%|          | 0/2190 [00:00<?, ?it/s]"
      ]
     },
     "metadata": {},
     "output_type": "display_data"
    }
   ],
   "source": [
    "# Nested array. Outer list of words and inner list of phonemes per word.\n",
    "plot_data: List[List[Tuple[str, float]]] = []\n",
    "\n",
    "k = 10\n",
    "for prior_i, p_candidates_i, candidates, gt_length in zip(stim.p_word.exp(), tqdm(p_candidates), stim.candidate_phonemes, stim.word_lengths):\n",
    "    candidate_strs = [\"\".join(stim.phonemes[idx.item()].rstrip(\"_\") for idx in word)\n",
    "                      for word in candidates]\n",
    "    plot_data_i = []\n",
    "    \n",
    "    p_candidates_i = p_candidates_i.T[:gt_length]\n",
    "    # Add prior information, before any phonemes arrive\n",
    "    p_candidates_i = torch.cat([prior_i[None, :], p_candidates_i], dim=0)\n",
    "    p_candidates_i = p_candidates_i.numpy()\n",
    "    \n",
    "    topk = (-p_candidates_i).argsort(1)[:, :k * 2]\n",
    "    p_candidates_i = np.take_along_axis(p_candidates_i, topk, 1)\n",
    "    gt_str = candidate_strs[0]\n",
    "\n",
    "    for t, (p_candidates_t, candidates_t) in enumerate(zip(p_candidates_i, topk)):\n",
    "        # Merge candidates with same form.\n",
    "        # HACK\n",
    "        weights = Counter()\n",
    "        for p, idx in zip(p_candidates_t, candidates_t):\n",
    "            weights[candidate_strs[idx]] += p\n",
    "        \n",
    "        plot_data_i.append((gt_str[:t], list(weights.most_common(k))))\n",
    "        \n",
    "    plot_data.append(plot_data_i)"
   ]
  },
  {
   "cell_type": "code",
   "execution_count": 52,
   "id": "819b4263-9e2e-4dbc-af6c-6b0ced8ccb59",
   "metadata": {},
   "outputs": [
    {
     "data": {
      "text/plain": [
       "[('',\n",
       "  [('də', 0.28163793683052063),\n",
       "   ('ət', 0.10158157348632812),\n",
       "   ('ən', 0.06767095346003771),\n",
       "   ('har', 0.06442450731992722),\n",
       "   ('zɛin', 0.022922245785593987),\n",
       "   ('di', 0.022135790437459946),\n",
       "   ('mɛin', 0.013712789863348007),\n",
       "   ('dɛn', 0.011273816227912903),\n",
       "   ('ɑlə', 0.011011981405317783),\n",
       "   ('dɑt', 0.010734261944890022)]),\n",
       " ('z',\n",
       "  [('zɛin', 0.39956001305000555),\n",
       "   ('zɛt', 0.06738343080691557),\n",
       "   ('ze', 0.061105530151308),\n",
       "   ('stat', 0.036439314088812826),\n",
       "   ('zwɑrtə', 0.03214291630035311),\n",
       "   ('zhzlf', 0.028639134919081898),\n",
       "   ('zwɑrt', 0.019270885120121633),\n",
       "   ('zh', 0.014697466577617656),\n",
       "   ('stɪltə', 0.013704756683494914),\n",
       "   ('ət', 0.01324443280426489)]),\n",
       " ('ze',\n",
       "  [('ze', 0.5945038367072579),\n",
       "   ('zekərə', 0.07864513707975736),\n",
       "   ('zɛin', 0.05361893176694422),\n",
       "   ('zevə', 0.03692778882829037),\n",
       "   ('zɛt', 0.03617006167437919),\n",
       "   ('zer', 0.02382346204645585),\n",
       "   ('zɪlvər', 0.020003087618346176),\n",
       "   ('zɪt', 0.018875649903959353),\n",
       "   ('zekər', 0.01670725430305304),\n",
       "   ('zem', 0.015419417015832961)])]"
      ]
     },
     "execution_count": 52,
     "metadata": {},
     "output_type": "execute_result"
    }
   ],
   "source": [
    "plot_data[4]"
   ]
  },
  {
   "cell_type": "code",
   "execution_count": 54,
   "id": "38fcba82-eebf-40e2-80c4-45913e6d601c",
   "metadata": {},
   "outputs": [
    {
     "data": {
      "text/plain": [
       "'klɛinə zemermɪnməɔp vɛr ɪn ze ɪs ət watər zo blɑuw ɑls də blatjəs vɑn də mojstə korənblumr ɛn zo hɛldər ɑls ət zœyjvərstə xlɑs mar ɪsəhil dip dipər dɑn ən ɑŋkərkɛtɪŋ ojt kɑn koməx jə zɑu ən heləbul kɛrktorəns bovən ɔp ɛlkar mutə zɛtədr ɔm vɑn də bodəm vɑn də'"
      ]
     },
     "execution_count": 54,
     "metadata": {},
     "output_type": "execute_result"
    }
   ],
   "source": [
    "\" \".join(to_gt_words(np.arange(50)))"
   ]
  },
  {
   "cell_type": "code",
   "execution_count": 77,
   "id": "f8935040-ce73-4f38-8527-4f9b2a419add",
   "metadata": {},
   "outputs": [
    {
     "data": {
      "text/plain": [
       "'də bəwexɪŋə vɑn ətdə watər opən ɛn dɪxt xan ɛt'"
      ]
     },
     "execution_count": 77,
     "metadata": {},
     "output_type": "execute_result"
    }
   ],
   "source": [
    "\" \".join(to_gt_words(np.arange(160, 170)))"
   ]
  },
  {
   "cell_type": "code",
   "execution_count": 107,
   "id": "bca2af38-369b-4428-aa5e-def8659dabd5",
   "metadata": {},
   "outputs": [],
   "source": [
    "class PredictiveAnimation:\n",
    "    \n",
    "    def __init__(self, plot_data, k=3, threshold=0.7):\n",
    "        self.plot_data = plot_data\n",
    "        # Mapping between frame index and plot_data nested index.\n",
    "        self.plot_idxs_flat = [(i, j) for i in range(len(plot_data)) for j in range(len(plot_data[i]))]\n",
    "\n",
    "        self.k = k\n",
    "        self.threshold = threshold\n",
    "        \n",
    "    def _prepare_figure(self):\n",
    "        self.fig, self.ax = plt.subplots(dpi=200)\n",
    "\n",
    "        self.ax.set_xlim((0, 1))\n",
    "        self.ax.set_xlabel(\"Evidence for word\")\n",
    "        self.ax.set_ylabel(\"Word\")\n",
    "\n",
    "        self.bar = self.ax.barh([str(i) * 7 for i in range(self.k)], [0] * self.k)\n",
    "        self.threshold_line = self.ax.axvline(self.threshold, color=\"gray\", linestyle=\"--\")\n",
    "        self.prev_label = self.ax.annotate(\"\", (0.49, 1.05), xycoords=\"axes fraction\", ha=\"right\")\n",
    "        self.incremental_label = self.ax.annotate(\"abc\", (0.5, 1.05), xycoords=\"axes fraction\")\n",
    "        self.prev_incremental_text = [None]\n",
    "        self.acc_text = []\n",
    "        \n",
    "        plt.tight_layout()\n",
    "        \n",
    "    def get_first_frame_for_word_idx(self, word_idx):\n",
    "        return next(i for i, (word_idx_i, _) in enumerate(self.plot_idxs_flat) if word_idx_i == word_idx)\n",
    "        \n",
    "    def animate(self, i):\n",
    "        token_idx, incremental_idx = self.plot_idxs_flat[i]\n",
    "        incremental_text, incremental_dist = self.plot_data[token_idx][incremental_idx]\n",
    "        print(incremental_text)\n",
    "        print(incremental_dist)\n",
    "\n",
    "        xticklabels = self.ax.get_xticklabels()\n",
    "        artists = list(self.bar) + xticklabels\n",
    "\n",
    "        for i, ((option_i, p_i), bar_i, label_i) in enumerate(zip(incremental_dist, self.bar, xticklabels)):\n",
    "            bar_i.set_width(p_i)\n",
    "\n",
    "            # Doesn't work .. do it differently below\n",
    "            # label_i.set_text(option_i)\n",
    "\n",
    "        self.ax.set_yticklabels([option_i for option_i, _ in incremental_dist])\n",
    "        self.ax.tick_params(\"y\", width=10)\n",
    "\n",
    "        if self.prev_incremental_text[0] is not None and not incremental_text.startswith(self.prev_incremental_text[0]):\n",
    "            print(\"----\", self.prev_incremental_text)\n",
    "            self.acc_text.append(self.prev_incremental_text[0])\n",
    "            self.prev_label.set_text(\" \".join(self.acc_text))\n",
    "            artists.append(self.prev_label)\n",
    "\n",
    "        self.incremental_label.set_text(incremental_text)\n",
    "        artists.append(self.incremental_label)\n",
    "        self.prev_incremental_text[0] = incremental_text\n",
    "\n",
    "        return artists\n",
    "    \n",
    "    def plot(self, start_frame=None, n_frames=100, **kwargs):\n",
    "        plt.ioff()\n",
    "        if start_frame is None: start_frame = 0\n",
    "        \n",
    "        default_kwargs = dict(blit=True, repeat=True, interval=750)\n",
    "        default_kwargs.update(kwargs)\n",
    "        \n",
    "        self._prepare_figure()\n",
    "        anim = FuncAnimation(self.fig, self.animate, frames=list(range(start_frame, start_frame + n_frames)),\n",
    "                             **default_kwargs)\n",
    "        return anim\n",
    "    \n",
    "    def plot_for_word(self, word_idx=None, num_prior_frames=0, **kwargs):\n",
    "        start_frame = self.get_first_frame_for_word_idx(word_idx)\n",
    "        start_frame = max(0, start_frame - num_prior_frames)\n",
    "        return self.plot(start_frame, n_frames=stim.word_lengths[word_idx].item() + num_prior_frames + 1,\n",
    "                         **kwargs)"
   ]
  },
  {
   "cell_type": "code",
   "execution_count": 116,
   "id": "2dc35fc3-d2b5-4944-a096-9f1d9aa62835",
   "metadata": {},
   "outputs": [
    {
     "name": "stdout",
     "output_type": "stream",
     "text": [
      "k\n",
      "[('ka', 0.07690271089446751), ('kamər', 0.05384486567243874), ('kɪndərə', 0.04396858225036697), ('kɑns', 0.04155880334183678), ('klɛinə', 0.038866134316553676), ('konɪŋ', 0.03171127834680249), ('kɛrk', 0.024598742157182458), ('krht', 0.023814558275841852), ('krɑnt', 0.022873860811261606), ('kwɛsti', 0.02242023353544918)]\n"
     ]
    },
    {
     "name": "stderr",
     "output_type": "stream",
     "text": [
      "/tmp/ipykernel_55716/3588190549.py:45: UserWarning: FixedFormatter should only be used together with FixedLocator\n",
      "  self.ax.set_yticklabels([option_i for option_i, _ in incremental_dist])\n"
     ]
    },
    {
     "data": {
      "image/png": "[encoded data removed]",
      "text/plain": [
       "<Figure size 1200x800 with 1 Axes>"
      ]
     },
     "metadata": {
      "needs_background": "light"
     },
     "output_type": "display_data"
    }
   ],
   "source": [
    "anim = PredictiveAnimation(plot_data).plot(n_frames=1, start_frame=1)\n",
    "# HTML(anim.to_html5_video())"
   ]
  },
  {
   "cell_type": "code",
   "execution_count": 117,
   "id": "9cb194cb-232e-4d2e-a774-d72b83f6aafc",
   "metadata": {},
   "outputs": [
    {
     "name": "stdout",
     "output_type": "stream",
     "text": [
      "k\n",
      "[('ka', 0.07690271089446751), ('kamər', 0.05384486567243874), ('kɪndərə', 0.04396858225036697), ('kɑns', 0.04155880334183678), ('klɛinə', 0.038866134316553676), ('konɪŋ', 0.03171127834680249), ('kɛrk', 0.024598742157182458), ('krht', 0.023814558275841852), ('krɑnt', 0.022873860811261606), ('kwɛsti', 0.02242023353544918)]\n",
      "k\n",
      "[('ka', 0.07690271089446751), ('kamər', 0.05384486567243874), ('kɪndərə', 0.04396858225036697), ('kɑns', 0.04155880334183678), ('klɛinə', 0.038866134316553676), ('konɪŋ', 0.03171127834680249), ('kɛrk', 0.024598742157182458), ('krht', 0.023814558275841852), ('krɑnt', 0.022873860811261606), ('kwɛsti', 0.02242023353544918)]\n"
     ]
    },
    {
     "name": "stderr",
     "output_type": "stream",
     "text": [
      "/tmp/ipykernel_55716/3588190549.py:45: UserWarning: FixedFormatter should only be used together with FixedLocator\n",
      "  self.ax.set_yticklabels([option_i for option_i, _ in incremental_dist])\n"
     ]
    }
   ],
   "source": [
    "anim.save(\"test.mp4\", dpi=200)"
   ]
  },
  {
   "cell_type": "markdown",
   "id": "a0fb4db8-401e-4ecd-a253-ca20d9ae8275",
   "metadata": {},
   "source": [
    "### MAP due to high-prior"
   ]
  },
  {
   "cell_type": "code",
   "execution_count": 78,
   "id": "834e2055-9504-4333-842a-03245d53a43f",
   "metadata": {},
   "outputs": [],
   "source": [
    "high_prior_words = [(i, word_dat[-1][0], word_dat)\n",
    "                    for i, word_dat in enumerate(plot_data)\n",
    "                    if word_dat[0][1][0][0] == word_dat[-1][0]\n",
    "                    # exclude words which are high prior for uninteresting reasons (because the prior space is not big enough .. need top-p sampling)\n",
    "                    and len(word_dat[-1][0]) < 5]"
   ]
  },
  {
   "cell_type": "code",
   "execution_count": 79,
   "id": "e6c22789-401c-4338-b30e-4a9e658d81c4",
   "metadata": {},
   "outputs": [
    {
     "data": {
      "text/plain": [
       "(167,\n",
       " 'dɪxt',\n",
       " [('',\n",
       "   [('dɪxt', 0.1719481348991394),\n",
       "    ('blot', 0.09509650617837906),\n",
       "    ('opə', 0.06402429193258286),\n",
       "    ('œyt', 0.028691165149211884),\n",
       "    ('ɪn', 0.0214782003313303),\n",
       "    ('drox', 0.019977770745754242),\n",
       "    ('tu', 0.013684075325727463),\n",
       "    ('nar', 0.012398803606629372),\n",
       "    ('slœytə', 0.010402991436421871),\n",
       "    ('də', 0.010357849299907684)]),\n",
       "  ('d',\n",
       "   [('dɪxt', 0.61737166223976),\n",
       "    ('drox', 0.07172924759194947),\n",
       "    ('də', 0.03718937009403986),\n",
       "    ('tu', 0.02929024763418044),\n",
       "    ('blot', 0.01969843378139855),\n",
       "    ('dor', 0.018604644911149392),\n",
       "    ('drɪŋə', 0.015236193170913114),\n",
       "    ('dɑn', 0.013799242074631249),\n",
       "    ('texə', 0.013145061270201578),\n",
       "    ('dip', 0.010067589564752412)]),\n",
       "  ('dɪ',\n",
       "   [('dɪxt', 0.9653905482928359),\n",
       "    ('texə', 0.01807239749416104),\n",
       "    ('dip', 0.0022929115965258265),\n",
       "    ('de', 0.002065638304860151),\n",
       "    ('dɪk', 0.0019112763150488242),\n",
       "    ('bɪnə', 0.0015030859899795555),\n",
       "    ('də', 0.0011362122415435794),\n",
       "    ('drox', 0.0008404812356418677),\n",
       "    ('dɪkə', 0.0006497632518496139),\n",
       "    ('delə', 0.0005704911481570665)]),\n",
       "  ('dɪx',\n",
       "   [('dɪxt', 0.9812279923483117),\n",
       "    ('texə', 0.01836887914582858),\n",
       "    ('texəan', 0.0002116713278806481),\n",
       "    ('təxəlɛik', 4.1240582770676536e-05),\n",
       "    ('lex', 3.8985240008641305e-05),\n",
       "    ('təxəlɛikərt', 2.496639449527744e-05),\n",
       "    ('lɪxə', 1.3941594481117176e-05),\n",
       "    ('wɛx', 1.3771353022714865e-05),\n",
       "    ('vexə', 8.65733650385287e-06),\n",
       "    ('dɪk', 8.208300941971142e-06)]),\n",
       "  ('dɪxt',\n",
       "   [('dɪxt', 0.9997813079944166),\n",
       "    ('texə', 0.00021350529602763023),\n",
       "    ('texəan', 2.460299790800371e-06),\n",
       "    ('təxəlɛik', 4.793478558437153e-07),\n",
       "    ('blot', 3.4687423471339623e-07),\n",
       "    ('təxəlɛikərt', 2.90189586699268e-07),\n",
       "    ('zɛxt', 2.2788648977399328e-07),\n",
       "    ('lɪxə', 1.6204604718432454e-07),\n",
       "    ('lɛxt', 1.5526131987848997e-07),\n",
       "    ('lex', 1.5336827462681191e-07)])])"
      ]
     },
     "execution_count": 79,
     "metadata": {},
     "output_type": "execute_result"
    }
   ],
   "source": [
    "sorted(high_prior_words, key=lambda x: -len(x[1]))[3]"
   ]
  },
  {
   "cell_type": "code",
   "execution_count": 127,
   "id": "7153fc8e-667e-41cd-9a7e-6c18f248c632",
   "metadata": {},
   "outputs": [
    {
     "name": "stdout",
     "output_type": "stream",
     "text": [
      "\n",
      "[('zɛin', 0.06724528968334198), ('ɪn', 0.054422006011009216), ('də', 0.038615141063928604), ('dor', 0.03749451786279678), ('ɔp', 0.03518792241811752), ('wɔrdə', 0.03289197012782097), ('nar', 0.022209344431757927), ('ən', 0.021747896447777748), ('ovər', 0.019942374899983406), ('ət', 0.013411987572908401)]\n",
      "\n",
      "[('zɛin', 0.06724528968334198), ('ɪn', 0.054422006011009216), ('də', 0.038615141063928604), ('dor', 0.03749451786279678), ('ɔp', 0.03518792241811752), ('wɔrdə', 0.03289197012782097), ('nar', 0.022209344431757927), ('ən', 0.021747896447777748), ('ovər', 0.019942374899983406), ('ət', 0.013411987572908401)]\n",
      "\n",
      "[('zɛin', 0.06724528968334198), ('ɪn', 0.054422006011009216), ('də', 0.038615141063928604), ('dor', 0.03749451786279678), ('ɔp', 0.03518792241811752), ('wɔrdə', 0.03289197012782097), ('nar', 0.022209344431757927), ('ən', 0.021747896447777748), ('ovər', 0.019942374899983406), ('ət', 0.013411987572908401)]\n"
     ]
    },
    {
     "name": "stderr",
     "output_type": "stream",
     "text": [
      "/tmp/ipykernel_55716/3588190549.py:45: UserWarning: FixedFormatter should only be used together with FixedLocator\n",
      "  self.ax.set_yticklabels([option_i for option_i, _ in incremental_dist])\n",
      "/tmp/ipykernel_55716/3588190549.py:45: UserWarning: FixedFormatter should only be used together with FixedLocator\n",
      "  self.ax.set_yticklabels([option_i for option_i, _ in incremental_dist])\n"
     ]
    },
    {
     "name": "stdout",
     "output_type": "stream",
     "text": [
      "o\n",
      "[('ovər', 0.3543567491620485), ('ɔp', 0.17679636134010865), ('opən', 0.049198475800448484), ('ɔndər', 0.04913878293419273), ('ɔmhox', 0.048421267424914254), ('ɔf', 0.03552644190370118), ('ok', 0.02125709574211819), ('ɔntsnɑpə', 0.016082074073402893), ('wɔrdə', 0.014359542201483317), ('ɔm', 0.013589453109334314)]\n",
      "op\n",
      "[('ɔp', 0.7034904893216959), ('opən', 0.19507816423003316), ('ɔplɔsə', 0.014457146049386761), ('ɔpsɛi', 0.013817224989326993), ('ɔpfɑŋə', 0.009738111688512532), ('ovər', 0.00846427242077243), ('ok', 0.006854671091848079), ('ɔplopə', 0.004760407382924574), ('ɔpstɛixə', 0.004200596074443193), ('ɔphɑudə', 0.003585949572311377)]\n",
      "opə\n",
      "[('opən', 0.9263711785604772), ('ovər', 0.04019444231001598), ('ɔp', 0.016159930499384068), ('ɔpərvlɑk', 0.00898745201405662), ('ovərdɛkt', 0.0009528133804201374), ('ɔplɔsə', 0.0009373121655129384), ('ovərhen', 0.0006720058010758989), ('ovərbort', 0.0006447743405001305), ('ɔphɑudə', 0.0003771518217003892), ('ɔpsɛi', 0.0003583294526287214)]\n",
      "opən\n",
      "[('opən', 0.9996511919208744), ('ovər', 0.0001336640941719779), ('ɔpərvlɑk', 2.988720736830934e-05), ('ɔp', 2.6869417112724094e-05), ('œyten', 2.4987718936797752e-05), ('stœn', 2.4288212059826698e-05), ('stan', 1.6955970127587502e-05), ('wɔrdə', 1.234297778925622e-05), ('stɔndə', 5.492843410933347e-06), ('stɑnt', 5.312281546524443e-06)]\n",
      "\n",
      "[('zɛin', 0.07494539022445679), ('kʏnə', 0.06744665652513504), ('ɛn', 0.05769544839859009), ('wɔrdə', 0.0458139069378376), ('bɑrst', 0.027153784409165382), ('wɛrdə', 0.022139964625239372), ('də', 0.021197786554694176), ('mutə', 0.018727540969848633), ('xə', 0.017535537481307983), ('ze', 0.014992991462349892)]\n",
      "---- ['opən']\n",
      "ɛ\n",
      "[('ɛn', 0.8085331940166588), ('ɛr', 0.06256221666468506), ('ɛl', 0.04965498547084608), ('ɛnt', 0.01015161613394889), ('ɛf', 0.007452168845423235), ('ɛi', 0.006210525617143853), ('ɪn', 0.0045690716579129455), ('ɛlkar', 0.003942264742057261), ('wɔrdə', 0.0038651030931472893), ('kʏnə', 0.003144559764228837)]\n",
      "ɛn\n",
      "[('ɛn', 0.9749259626989634), ('ɛnt', 0.012240776514286863), ('ɪn', 0.00556797464711569), ('an', 0.002095982515176932), ('ɛndə', 0.0017914938535034076), ('ɛindəxə', 0.0009288538550690049), ('ɛl', 0.0005257064317160763), ('ən', 0.00041719967267078744), ('kn', 0.0002237173812371991), ('ɛr', 0.00020557874337569636)]\n",
      "\n",
      "[('dɪxt', 0.1719481348991394), ('blot', 0.09509650617837906), ('opə', 0.06402429193258286), ('œyt', 0.028691165149211884), ('ɪn', 0.0214782003313303), ('drox', 0.019977770745754242), ('tu', 0.013684075325727463), ('nar', 0.012398803606629372), ('slœytə', 0.010402991436421871), ('də', 0.010357849299907684)]\n",
      "---- ['ɛn']\n",
      "d\n",
      "[('dɪxt', 0.61737166223976), ('drox', 0.07172924759194947), ('də', 0.03718937009403986), ('tu', 0.02929024763418044), ('blot', 0.01969843378139855), ('dor', 0.018604644911149392), ('drɪŋə', 0.015236193170913114), ('dɑn', 0.013799242074631249), ('texə', 0.013145061270201578), ('dip', 0.010067589564752412)]\n",
      "dɪ\n",
      "[('dɪxt', 0.9653905482928359), ('texə', 0.01807239749416104), ('dip', 0.0022929115965258265), ('de', 0.002065638304860151), ('dɪk', 0.0019112763150488242), ('bɪnə', 0.0015030859899795555), ('də', 0.0011362122415435794), ('drox', 0.0008404812356418677), ('dɪkə', 0.0006497632518496139), ('delə', 0.0005704911481570665)]\n",
      "dɪx\n",
      "[('dɪxt', 0.9812279923483117), ('texə', 0.01836887914582858), ('texəan', 0.0002116713278806481), ('təxəlɛik', 4.1240582770676536e-05), ('lex', 3.8985240008641305e-05), ('təxəlɛikərt', 2.496639449527744e-05), ('lɪxə', 1.3941594481117176e-05), ('wɛx', 1.3771353022714865e-05), ('vexə', 8.65733650385287e-06), ('dɪk', 8.208300941971142e-06)]\n",
      "dɪxt\n",
      "[('dɪxt', 0.9997813079944166), ('texə', 0.00021350529602763023), ('texəan', 2.460299790800371e-06), ('təxəlɛik', 4.793478558437153e-07), ('blot', 3.4687423471339623e-07), ('təxəlɛikərt', 2.90189586699268e-07), ('zɛxt', 2.2788648977399328e-07), ('lɪxə', 1.6204604718432454e-07), ('lɛxt', 1.5526131987848997e-07), ('lex', 1.5336827462681191e-07)]\n",
      "\n",
      "[('zɛin', 0.060205597430467606), ('kʏnə', 0.04391448199748993), ('bɛi', 0.03900295868515968), ('də', 0.03893101587891579), ('xan', 0.03703393694013357), ('ɪn', 0.03167146444320679), ('ɔp', 0.03148835524916649), ('texə', 0.027599483728408813), ('ət', 0.019138623028993607), ('mutə', 0.01482284814119339)]\n",
      "---- ['dɪxt']\n",
      "x\n",
      "[('xan', 0.36128681019072073), ('xrujə', 0.033796691819304774), ('xə', 0.03307027635883904), ('xənux', 0.031693390633800896), ('xəbɔndə', 0.030050700816065957), ('xəxojt', 0.024854812298287954), ('xədrʏkt', 0.021974829860410404), ('xətrɔkə', 0.021032617750676278), ('xədrajt', 0.019925744105310946), ('xat', 0.01646768171637334)]\n",
      "xa\n",
      "[('xan', 0.9197185338769585), ('xat', 0.050658538567199055), ('xandə', 0.0042953608705009905), ('xa', 0.0034720727832684563), ('xɛsp', 0.002475164380243981), ('xɛk', 0.0013183640871980008), ('xɛn', 0.0012742634409974665), ('xɛm', 0.0012378491937709108), ('nar', 0.0009710091512773562), ('xrujə', 0.000862141831047467)]\n",
      "xan\n",
      "[('xan', 0.9895021130843378), ('xandə', 0.004621271075079937), ('xat', 0.002267428033726952), ('xɛn', 0.0016348232117963843), ('zɛin', 0.0006700120862851473), ('xənux', 0.0004123644547532579), ('xɛm', 0.00021341167196432977), ('vɑn', 0.0001434302415239827), ('kɑn', 7.887978806985268e-05), ('xɑt', 5.234645994225818e-05)]\n"
     ]
    }
   ],
   "source": [
    "# Plot up through the next word\n",
    "plot_data_copy = plot_data[:]\n",
    "plot_data[164] = [('',\n",
    "  [('dɑk', 0.08090640604496002),\n",
    "   ('shp', 0.0518440380692482),\n",
    "   ('vatər', 0.039041485637426376),\n",
    "   ('lht', 0.025143694132566452),\n",
    "   ('zɛil', 0.01924835331737995),\n",
    "   ('lhm', 0.017056478187441826),\n",
    "   ('hoft', 0.01666797697544098),\n",
    "   ('vyr', 0.01598547026515007),\n",
    "   ('dɛksəl', 0.011327615939080715),\n",
    "   ('hɑrt', 0.009778285399079323)]),\n",
    " ('v',\n",
    "  [('vatər', 0.31085636171357267),\n",
    "   ('dɑk', 0.07465420090525711),\n",
    "   ('vil', 0.05635946200083533),\n",
    "   ('vezə', 0.021059028275048835),\n",
    "   ('vɛrk', 0.02046381286515716),\n",
    "   ('vyr', 0.02022199515918633),\n",
    "   ('varə', 0.01878380868150893),\n",
    "   ('vɪnt', 0.015006180916906002),\n",
    "   ('wapə', 0.014973473024963177)]),\n",
    " ('va',\n",
    "  [('vatər', 0.7632859928210007),\n",
    "   ('varə', 0.046122324727058246),\n",
    "   ('vapə', 0.03676631277814532),\n",
    "   ('dɑk', 0.028737145298473807),\n",
    "   ('part', 0.009795768002742533),\n",
    "   ('vaxə', 0.006303714224540907),\n",
    "   ('man', 0.004963951013249169),\n",
    "   ('vartœyx', 0.004081984810033973),\n",
    "   ('kanɔn', 0.0026312483343444615)]),\n",
    " ('vat',\n",
    "  [('vatər', 0.9479935884659999),\n",
    "   ('dɑk', 0.002618276863880728),\n",
    "   ('bœytə', 0.002303729608285961),\n",
    "   ('vapə', 0.0015867588539546984),\n",
    "   ('materijal', 0.0010616164199207369),\n",
    "   ('bɑt', 0.0009658065051589363),\n",
    "   ('vat', 0.0009508126130128344),\n",
    "   ('pɑt', 0.0008746246013960802),\n",
    "   ('hɑut', 0.0006378571137768702)]),\n",
    " ('vatə',\n",
    "  [('vatər', 0.9589398391727376),\n",
    "   ('bœytə', 0.0023303302120871324),\n",
    "   ('vapə', 0.0016050807713577774),\n",
    "   ('varə', 0.0004474510070396444),\n",
    "   ('natyr', 0.0001599409015909945),\n",
    "   ('makə', 0.00014662602969521668),\n",
    "   ('hɑutə', 0.00012367573956455048),\n",
    "   ('vɪtə', 0.00010058485048974868),\n",
    "   ('nɑtə', 7.793908764115418e-05)]),\n",
    " ('vatər',\n",
    "  [('vatər', 0.9638234100118517),\n",
    "   ('natyr', 0.00016075542893784556),\n",
    "   ('materijal', 6.287438111222813e-05),\n",
    "   ('papir', 5.064496067323334e-06),\n",
    "   ('bœytə', 3.3846789466788525e-06),\n",
    "   ('vapə', 2.3312932503535646e-06),\n",
    "   ('hamər', 2.1158096432743994e-06),\n",
    "   ('lɑdər', 1.394293481705988e-06),\n",
    "   ('motɔr', 9.763669695184297e-07)])]\n",
    "anim = PredictiveAnimation(plot_data, k=5).plot_for_word(168, num_prior_frames=13, interval=1000)\n",
    "anim.save(\"high_prior.gif\", dpi=200)\n",
    "plt.close()"
   ]
  },
  {
   "cell_type": "markdown",
   "id": "4028042f-2cc8-4b17-8dd2-02adc21c3b71",
   "metadata": {},
   "source": [
    "### Low-prior but high posterior"
   ]
  },
  {
   "cell_type": "code",
   "execution_count": 111,
   "id": "18919d75-b51d-4e2f-86ed-b3505af771a2",
   "metadata": {},
   "outputs": [],
   "source": [
    "low_prior_high_post_words = [\n",
    "    (i, word_dat[-1][0], word_dat)\n",
    "     for i, word_dat in enumerate(tqdm(plot_data))\n",
    "     if len(word_dat) >= 3\n",
    "     # not in top K for first two phonemes\n",
    "     and not any(opt_name == word_dat[-1][0] for opt_name, _ in word_dat[0][1] + word_dat[1][1])\n",
    "     and any(opt_name == word_dat[-1][0] for opt_name, _ in word_dat[2][1])\n",
    "     # exclude words which are high prior for uninteresting reasons (because the prior space is not big enough .. need top-p sampling)\n",
    "     # and len(word_dat[-1][0]) < 5\n",
    "]"
   ]
  },
  {
   "cell_type": "code",
   "execution_count": 112,
   "id": "51659441-15a1-43d4-ad16-b70ebc18b9f0",
   "metadata": {},
   "outputs": [
    {
     "data": {
      "text/plain": [
       "(12,\n",
       " 'blatjəs',\n",
       " [('',\n",
       "   [('zon', 0.16980303823947906),\n",
       "    ('man', 0.11944219470024109),\n",
       "    ('ze', 0.06850098073482513),\n",
       "    ('heməl', 0.037698451429605484),\n",
       "    ('n', 0.024974441155791283),\n",
       "    ('wɪnt', 0.018816784024238586),\n",
       "    ('lht', 0.017013946548104286),\n",
       "    ('ardə', 0.016627047210931778),\n",
       "    ('dɑx', 0.013016915880143642),\n",
       "    ('xrɔnt', 0.011706178076565266)]),\n",
       "  ('b',\n",
       "   [('brɑndɪŋ', 0.12174686418616801),\n",
       "    ('blɑuwə', 0.10131895231041016),\n",
       "    ('blɪksəm', 0.05669878913118321),\n",
       "    ('blumə', 0.033443067972568775),\n",
       "    ('bodəm', 0.03267060337267892),\n",
       "    ('bladərə', 0.028025995592028032),\n",
       "    ('bɛrxə', 0.024119032711436415),\n",
       "    ('blɑuw', 0.023631604931228088),\n",
       "    ('be', 0.023353971982981978),\n",
       "    ('bomə', 0.02144634787127878)]),\n",
       "  ('bl',\n",
       "   [('blɑuwə', 0.29535128971985214),\n",
       "    ('blɪksəm', 0.1652806322369393),\n",
       "    ('blumə', 0.09748870307724247),\n",
       "    ('bladərə', 0.08169758722364803),\n",
       "    ('blɑuw', 0.06888765463350632),\n",
       "    ('blatjəs', 0.060614372664934364),\n",
       "    ('blut', 0.03954466934260925),\n",
       "    ('blekə', 0.03189039492085245),\n",
       "    ('blum', 0.019516231719301693),\n",
       "    ('blotə', 0.018636162937169954)]),\n",
       "  ('bla',\n",
       "   [('bladərə', 0.40433628569818036),\n",
       "    ('blatjəs', 0.2999916048459591),\n",
       "    ('blɑuwə', 0.10416252932600326),\n",
       "    ('blarə', 0.04222834375815952),\n",
       "    ('planet', 0.03572008029879059),\n",
       "    ('bladə', 0.02823550001286063),\n",
       "    ('blɑuw', 0.02429484006238244),\n",
       "    ('plat', 0.012824630837767389),\n",
       "    ('blɑtsɛidə', 0.009091188380762885),\n",
       "    ('plats', 0.007601879346288519)]),\n",
       "  ('blat',\n",
       "   [('blatjəs', 0.8710985276416418),\n",
       "    ('plat', 0.03723943223698929),\n",
       "    ('bladərə', 0.027198965235442782),\n",
       "    ('blɑtsɛidə', 0.026398474774191744),\n",
       "    ('plats', 0.02207390406562083),\n",
       "    ('blɑuwə', 0.007006823562920474),\n",
       "    ('bladə', 0.0018993506405912855),\n",
       "    ('blɑuw', 0.0016342696256319619),\n",
       "    ('blɪksəm', 0.0010347260433058527),\n",
       "    ('blarə', 0.0009468745814268933)]),\n",
       "  ('blatj',\n",
       "   [('blatjəs', 0.9994972402105424),\n",
       "    ('bladərə', 0.00015575273108518541),\n",
       "    ('blɑtsɛidə', 0.00010232963944189336),\n",
       "    ('plats', 8.556610423259147e-05),\n",
       "    ('plat', 7.217647433096084e-05),\n",
       "    ('blɑuwə', 4.0124022980653185e-05),\n",
       "    ('bladə', 1.087648177052693e-05),\n",
       "    ('glɛtʃər', 8.900730430177618e-06),\n",
       "    ('blarə', 5.4222026748356655e-06),\n",
       "    ('blɪksəm', 4.010956838920885e-06)]),\n",
       "  ('blatjə',\n",
       "   [('blatjəs', 0.9999663326651429),\n",
       "    ('blɑtsɛidə', 9.939579189250831e-06),\n",
       "    ('glɛtʃər', 8.904907795874347e-06),\n",
       "    ('bladərə', 6.382429334376763e-06),\n",
       "    ('blɪksəm', 4.012839294932939e-06),\n",
       "    ('blɑŋkə', 1.8644528783821678e-06),\n",
       "    ('plɑŋkə', 8.096823507017471e-07),\n",
       "    ('pʏntjəs', 5.005505835774982e-07),\n",
       "    ('plats', 4.1556438270188185e-07),\n",
       "    ('plat', 3.505356737921883e-07)]),\n",
       "  ('blatjəs',\n",
       "   [('blatjəs', 0.9999994087907014),\n",
       "    ('pʏntjəs', 5.005671404088734e-07),\n",
       "    ('bladərə', 3.1325251365803104e-08),\n",
       "    ('glɛtʃər', 2.9585389852622635e-08),\n",
       "    ('blɑtsɛidə', 1.6511475021742582e-08),\n",
       "    ('blɪksəm', 6.66606649265464e-09),\n",
       "    ('blɑŋkə', 3.0972002480663914e-09),\n",
       "    ('plɑŋkə', 1.3450317819909002e-09),\n",
       "    ('plats', 6.903291169839903e-10),\n",
       "    ('plat', 5.823044327981924e-10)])])"
      ]
     },
     "execution_count": 112,
     "metadata": {},
     "output_type": "execute_result"
    }
   ],
   "source": [
    "low_prior_high_post_words[0]"
   ]
  },
  {
   "cell_type": "code",
   "execution_count": 119,
   "id": "ba13dbc3-4b21-4305-80ac-fa0350e4d8af",
   "metadata": {},
   "outputs": [
    {
     "name": "stdout",
     "output_type": "stream",
     "text": [
      "zo\n",
      "[('zo', 0.916083393619775), ('zowɑls', 0.03387829818746298), ('zɔndər', 0.009934871585879083), ('zodanəx', 0.004927472420855347), ('zovel', 0.0035504252107171628), ('zovɛr', 0.003195231873743002), ('zodra', 0.002874081501498377), ('shn', 0.002551965636282473), ('zolɑŋ', 0.0022934463790011002), ('zht', 0.0019439855326033846)]\n"
     ]
    },
    {
     "name": "stderr",
     "output_type": "stream",
     "text": [
      "/tmp/ipykernel_55716/3588190549.py:45: UserWarning: FixedFormatter should only be used together with FixedLocator\n",
      "  self.ax.set_yticklabels([option_i for option_i, _ in incremental_dist])\n"
     ]
    },
    {
     "name": "stdout",
     "output_type": "stream",
     "text": [
      "zo\n",
      "[('zo', 0.916083393619775), ('zowɑls', 0.03387829818746298), ('zɔndər', 0.009934871585879083), ('zodanəx', 0.004927472420855347), ('zovel', 0.0035504252107171628), ('zovɛr', 0.003195231873743002), ('zodra', 0.002874081501498377), ('shn', 0.002551965636282473), ('zolɑŋ', 0.0022934463790011002), ('zht', 0.0019439855326033846)]\n",
      "zo\n",
      "[('zo', 0.916083393619775), ('zowɑls', 0.03387829818746298), ('zɔndər', 0.009934871585879083), ('zodanəx', 0.004927472420855347), ('zovel', 0.0035504252107171628), ('zovɛr', 0.003195231873743002), ('zodra', 0.002874081501498377), ('shn', 0.002551965636282473), ('zolɑŋ', 0.0022934463790011002), ('zht', 0.0019439855326033846)]\n"
     ]
    },
    {
     "name": "stderr",
     "output_type": "stream",
     "text": [
      "/tmp/ipykernel_55716/3588190549.py:45: UserWarning: FixedFormatter should only be used together with FixedLocator\n",
      "  self.ax.set_yticklabels([option_i for option_i, _ in incremental_dist])\n"
     ]
    },
    {
     "name": "stdout",
     "output_type": "stream",
     "text": [
      "\n",
      "[('kɑut', 0.07337700575590134), ('het', 0.07316122949123383), ('wɑrm', 0.049880966544151306), ('moj', 0.04589153826236725), ('hɛldər', 0.039029136300086975), ('xrot', 0.0387999452650547), ('shn', 0.023870054632425308), ('zht', 0.02061278373003006), ('xut', 0.019318170845508575), ('dɪk', 0.018084991723299026)]\n",
      "---- ['zo']\n",
      "b\n",
      "[('blɑuw', 0.1773065853040423), ('bret', 0.16173289051483986), ('blɑŋk', 0.04152947033479425), ('brœyn', 0.03365777222750039), ('kɑut', 0.032074387736907864), ('dɪk', 0.03030353511032018), ('bizɔndər', 0.028702170921579374), ('prhtg', 0.025472081487671768), ('bəlɑŋrɛik', 0.022916910905624376), ('bɪtər', 0.02201410655968369)]\n",
      "bl\n",
      "[('blɑuw', 0.6567126810415737), ('blɑŋk', 0.15381791803746078), ('blɛi', 0.028244091875607617), ('klɛin', 0.021362109710288568), ('blek', 0.017052675951079878), ('blɔnt', 0.016686906991417085), ('bl', 0.014930975532373016), ('plɔtsəlɪŋ', 0.012929346000339214), ('plɑt', 0.0111043726919015), ('blut', 0.009140531883173332)]\n",
      "blɑ\n",
      "[('blɑuw', 0.8933945120221938), ('blɑŋk', 0.09080855667668283), ('plɑt', 0.006555621541477155), ('plɑkər', 0.0019557066200746455), ('blɛi', 0.0014499386256796069), ('klɛin', 0.001096645207477982), ('plɑs', 0.0005678808898711113), ('blɛivə', 0.0004608580857696677), ('blot', 0.0004444496172095156), ('blɔnt', 0.00042831950654561885)]\n",
      "blɑu\n",
      "[('blɑuw', 0.9988092123437903), ('blɑŋk', 0.0005692899338220084), ('plɑt', 0.00016439196877877268), ('plɑkər', 0.00011851878229260799), ('klɛin', 9.625003861033041e-05), ('blɛivə', 8.185997624679823e-05), ('blɔnt', 3.759262226420759e-05), ('flɑuw', 1.9130825451607984e-05), ('brœyn', 1.4411649591132693e-05), ('blek', 1.3262885695372178e-05)]\n",
      "\n",
      "[('ɑls', 0.3705207109451294), ('dɑt', 0.2967330813407898), ('ɛn', 0.15830229222774506), ('xəwɔrdə', 0.02390955574810505), ('vɑn', 0.022184375673532486), ('g', 0.008895990438759327), ('mɛt', 0.006344301160424948), ('blɑuw', 0.006231091916561127), ('xəwest', 0.005343007855117321), ('ɪn', 0.005202619358897209)]\n",
      "---- ['blɑu']\n",
      "ɑ\n",
      "[('ɑls', 0.969309595672932), ('ɛn', 0.013955808774360402), ('ɑlsɔf', 0.007254082908794169), ('œyt', 0.0026006231407232324), ('dɑt', 0.0016730079139745653), ('an', 0.0007051828558148108), ('ɔp', 0.0004906329192671242), ('ɑl', 0.0003938638954776435), ('ɔm', 0.0002883842065774509), ('ɔf', 0.00024056461191048644)]\n",
      "ɑl\n",
      "[('ɑls', 0.9912894214545099), ('ɑlsɔf', 0.007418326065861158), ('ɛn', 0.00048824541003679786), ('ɑl', 0.0004214924180940093), ('ɑlə', 7.626117971393755e-05), ('ɑlen', 6.293590986133742e-05), ('ɑltɛit', 5.322101465058149e-05), ('blɑuw', 2.5053698929098915e-05), ('an', 2.4670894976776587e-05), ('ɑləmal', 2.1717568547454537e-05)]\n",
      "ɑls\n",
      "[('ɑls', 0.9925688574891983), ('ɑlsɔf', 0.007427900740502399), ('ɛn', 8.120856776331309e-07), ('ɑl', 7.010571915858947e-07), ('ɑlə', 3.7476400974700803e-07), ('ɑlen', 2.5218275553620983e-07), ('ɔns', 2.0555227977655445e-07), ('ɑltɛit', 1.7704221220874572e-07), ('ɑləmal', 1.0672485137693304e-07), ('ɑləs', 8.828785456953777e-08)]\n",
      "\n",
      "[('ən', 0.15784330666065216), ('də', 0.13632506132125854), ('ət', 0.11650720238685608), ('jə', 0.030243756249547005), ('watər', 0.026536520570516586), ('ɪn', 0.023830052465200424), ('snew', 0.01613997295498848), ('zɑnt', 0.01580631732940674), ('xɑut', 0.014143850654363632), ('dɑt', 0.012875378131866455)]\n",
      "---- ['ɑls']\n",
      "d\n",
      "[('də', 0.7451843860602735), ('dɑt', 0.07037980278348259), ('di', 0.037397239551922576), ('ter', 0.006435911507435434), ('dɔŋkər', 0.006242557684542737), ('te', 0.005226773228643516), ('dor', 0.004499777374403949), ('ən', 0.004456653641995099), ('dɪt', 0.004443080177026934), ('dijamɑntə', 0.004298830928944745)]\n",
      "də\n",
      "[('də', 0.9688877980180232), ('dɑt', 0.006216397454066853), ('di', 0.0033031650494232344), ('dʏn', 0.0022430443346982674), ('tə', 0.001568528467195942), ('dʏnə', 0.0010469714342630377), ('tʏrf', 0.0009691339662433148), ('tʏsə', 0.0008424608318821123), ('təvorə', 0.0007895244280910612), ('dɔŋkər', 0.0005907673918961161)]\n",
      "\n",
      "[('zon', 0.16980303823947906), ('man', 0.11944219470024109), ('ze', 0.06850098073482513), ('heməl', 0.037698451429605484), ('n', 0.024974441155791283), ('wɪnt', 0.018816784024238586), ('lht', 0.017013946548104286), ('ardə', 0.016627047210931778), ('dɑx', 0.013016915880143642), ('xrɔnt', 0.011706178076565266)]\n",
      "---- ['də']\n",
      "b\n",
      "[('brɑndɪŋ', 0.12174686418616801), ('blɑuwə', 0.10131895231041016), ('blɪksəm', 0.05669878913118321), ('blumə', 0.033443067972568775), ('bodəm', 0.03267060337267892), ('bladərə', 0.028025995592028032), ('bɛrxə', 0.024119032711436415), ('blɑuw', 0.023631604931228088), ('be', 0.023353971982981978), ('bomə', 0.02144634787127878)]\n",
      "bl\n",
      "[('blɑuwə', 0.29535128971985214), ('blɪksəm', 0.1652806322369393), ('blumə', 0.09748870307724247), ('bladərə', 0.08169758722364803), ('blɑuw', 0.06888765463350632), ('blatjəs', 0.060614372664934364), ('blut', 0.03954466934260925), ('blekə', 0.03189039492085245), ('blum', 0.019516231719301693), ('blotə', 0.018636162937169954)]\n",
      "bla\n",
      "[('bladərə', 0.40433628569818036), ('blatjəs', 0.2999916048459591), ('blɑuwə', 0.10416252932600326), ('blarə', 0.04222834375815952), ('planet', 0.03572008029879059), ('bladə', 0.02823550001286063), ('blɑuw', 0.02429484006238244), ('plat', 0.012824630837767389), ('blɑtsɛidə', 0.009091188380762885), ('plats', 0.007601879346288519)]\n",
      "blat\n",
      "[('blatjəs', 0.8710985276416418), ('plat', 0.03723943223698929), ('bladərə', 0.027198965235442782), ('blɑtsɛidə', 0.026398474774191744), ('plats', 0.02207390406562083), ('blɑuwə', 0.007006823562920474), ('bladə', 0.0018993506405912855), ('blɑuw', 0.0016342696256319619), ('blɪksəm', 0.0010347260433058527), ('blarə', 0.0009468745814268933)]\n",
      "blatj\n",
      "[('blatjəs', 0.9994972402105424), ('bladərə', 0.00015575273108518541), ('blɑtsɛidə', 0.00010232963944189336), ('plats', 8.556610423259147e-05), ('plat', 7.217647433096084e-05), ('blɑuwə', 4.0124022980653185e-05), ('bladə', 1.087648177052693e-05), ('glɛtʃər', 8.900730430177618e-06), ('blarə', 5.4222026748356655e-06), ('blɪksəm', 4.010956838920885e-06)]\n",
      "blatjə\n",
      "[('blatjəs', 0.9999663326651429), ('blɑtsɛidə', 9.939579189250831e-06), ('glɛtʃər', 8.904907795874347e-06), ('bladərə', 6.382429334376763e-06), ('blɪksəm', 4.012839294932939e-06), ('blɑŋkə', 1.8644528783821678e-06), ('plɑŋkə', 8.096823507017471e-07), ('pʏntjəs', 5.005505835774982e-07), ('plats', 4.1556438270188185e-07), ('plat', 3.505356737921883e-07)]\n",
      "blatjəs\n",
      "[('blatjəs', 0.9999994087907014), ('pʏntjəs', 5.005671404088734e-07), ('bladərə', 3.1325251365803104e-08), ('glɛtʃər', 2.9585389852622635e-08), ('blɑtsɛidə', 1.6511475021742582e-08), ('blɪksəm', 6.66606649265464e-09), ('blɑŋkə', 3.0972002480663914e-09), ('plɑŋkə', 1.3450317819909002e-09), ('plats', 6.903291169839903e-10), ('plat', 5.823044327981924e-10)]\n",
      "\n",
      "[('vɑn', 0.7416062355041504), ('ɪn', 0.03618340194225311), ('di', 0.03550684079527855), ('ɔp', 0.031317949295043945), ('ɛn', 0.02226271480321884), ('œyt', 0.009517681784927845), ('ɔm', 0.005991196725517511), ('an', 0.004668655339628458), ('ovər', 0.0032619829289615154), ('vor', 0.0025209342129528522)]\n",
      "---- ['blatjəs']\n",
      "v\n",
      "[('vɑn', 0.985498717642387), ('vor', 0.0033499954331361642), ('vlixə', 0.0013219039957555762), ('varə', 0.00043551211355396185), ('di', 0.0004231748691522896), ('vɑlə', 0.00039952643586834216), ('ɪn', 0.0003185282198232691), ('ɔp', 0.0002884213203370518), ('warme', 0.00022881938627792382), ('vrl', 0.0002240182875362902)]\n",
      "vɑ\n",
      "[('vɑn', 0.9984133272351763), ('vɑlə', 0.00040476208747180847), ('varə', 0.0001493783361173601), ('warme', 7.848383117214173e-05), ('vor', 6.383503316220133e-05), ('vɑnɑf', 6.32656434883271e-05), ('wɑt', 5.933263774488076e-05), ('war', 5.932321203957724e-05), ('vɑlt', 5.09674105193587e-05), ('vɑuwə', 4.833254510088735e-05)]\n",
      "vɑn\n",
      "[('vɑn', 0.9998337008292271), ('vɑnɑf', 6.335564714409785e-05), ('wɑner', 3.788378463974028e-05), ('vɑndan', 2.4333521007352108e-05), ('wɑndələ', 6.433560898891871e-06), ('vɑlə', 3.7473458967808163e-06), ('wɛin', 2.98296021700991e-06), ('wɑt', 2.4718956040139605e-06), ('kɑn', 2.450001508428865e-06), ('rɔnt', 1.9838490147864367e-06)]\n"
     ]
    }
   ],
   "source": [
    "# Plot up through the next word\n",
    "anim = PredictiveAnimation(plot_data, k=5).plot_for_word(13, num_prior_frames=21, interval=1000)\n",
    "anim.save(\"low_prior.gif\", dpi=200)\n",
    "plt.close()"
   ]
  },
  {
   "cell_type": "markdown",
   "id": "215138c2-b44d-4758-ac71-b1f56e5904c1",
   "metadata": {},
   "source": [
    "## Index candidates by feature"
   ]
  },
  {
   "cell_type": "code",
   "execution_count": 16,
   "id": "f8112ca6-fab8-4cdd-ad0c-dbcf26e98312",
   "metadata": {},
   "outputs": [],
   "source": [
    "def to_gt_words(word_ids):\n",
    "    return [stim.get_candidate_strs(idx, top_k=1)[0]\n",
    "            for idx in word_ids]"
   ]
  },
  {
   "cell_type": "markdown",
   "id": "20b94ddf-b4ae-4343-ade9-baf237eaff0c",
   "metadata": {},
   "source": [
    "### Find low-prior ground truth words"
   ]
  },
  {
   "cell_type": "code",
   "execution_count": 54,
   "id": "191ba0b1-50c3-4603-9dd9-5215a75a2571",
   "metadata": {},
   "outputs": [
    {
     "data": {
      "text/plain": [
       "['en', 'bluməntœyntjə', 'ɔptorndə', 'zeprɪnsɛsjəs', 'blɪksɛmdə']"
      ]
     },
     "execution_count": 54,
     "metadata": {},
     "output_type": "execute_result"
    }
   ],
   "source": [
    "k = 5\n",
    "low_prior_word_ids = stim.p_word[:, 0].argsort()[:k]\n",
    "low_prior_words = to_gt_words(low_prior_word_ids)\n",
    "low_prior_words"
   ]
  },
  {
   "cell_type": "markdown",
   "id": "b7c9e0d0-de63-4b15-b8af-d4aea5f1b4c1",
   "metadata": {},
   "source": [
    "### Find words which are still low-posterior at phoneme $k$"
   ]
  },
  {
   "cell_type": "code",
   "execution_count": 55,
   "id": "81336809-d000-4816-9381-bc0dd9b732ba",
   "metadata": {},
   "outputs": [
    {
     "data": {
      "text/plain": [
       "[(tensor(577), 'sten'),\n",
       " (tensor(1843), 'xəspletək'),\n",
       " (tensor(865), 'vərlɑŋənt'),\n",
       " (tensor(1338), 'wɑnt'),\n",
       " (tensor(1426), 'jarəxxə'),\n",
       " (tensor(610), 'beltjə'),\n",
       " (tensor(115), 'xlɪpə'),\n",
       " (tensor(486), 'bluməntœyntjə'),\n",
       " (tensor(738), 'bəxrepə'),\n",
       " (tensor(1701), 'ɔptorndə'),\n",
       " (tensor(1653), 'haldə'),\n",
       " (tensor(857), 'wɪldəw'),\n",
       " (tensor(240), 'vərdində'),\n",
       " (tensor(579), 'xəhɑkt'),\n",
       " (tensor(1811), 'idəren'),\n",
       " (tensor(1175), 'idər'),\n",
       " (tensor(523), 'wɔndərlək'),\n",
       " (tensor(1541), 'jɔŋə'),\n",
       " (tensor(379), 'brɑndənt'),\n",
       " (tensor(369), 'dɔŋkərblɑuwə')]"
      ]
     },
     "execution_count": 55,
     "metadata": {},
     "output_type": "execute_result"
    }
   ],
   "source": [
    "k = 3\n",
    "n = 20\n",
    "\n",
    "# Only include words which are still running at phoneme $k$\n",
    "mask = stim.word_lengths > k\n",
    "p_candidates_masked = p_candidates.clone()\n",
    "p_candidates_masked[~mask] = torch.inf\n",
    "\n",
    "low_posterior_word_ids = p_candidates_masked[:, 0, k].argsort()[:n]\n",
    "low_posterior_words = to_gt_words(low_posterior_word_ids)\n",
    "list(zip(low_posterior_word_ids, low_posterior_words))"
   ]
  },
  {
   "cell_type": "code",
   "execution_count": 56,
   "id": "e98329a7-e393-45ca-b088-e3518c8cd02f",
   "metadata": {},
   "outputs": [
    {
     "data": {
      "text/plain": [
       "tensor([7.0143e-05, 8.0305e-03, 8.8879e-03, 1.2598e-02, 1.4832e-02, 1.8310e-02,\n",
       "        1.9646e-02, 2.3160e-02, 3.2906e-02, 3.6731e-02, 4.8363e-02, 5.0221e-02,\n",
       "        6.7419e-02, 7.5896e-02, 8.0442e-02, 8.6846e-02, 9.6124e-02, 1.0061e-01,\n",
       "        1.0138e-01, 1.0293e-01], dtype=torch.float64)"
      ]
     },
     "execution_count": 56,
     "metadata": {},
     "output_type": "execute_result"
    }
   ],
   "source": [
    "p_candidates[low_posterior_word_ids, 0, k]"
   ]
  },
  {
   "cell_type": "code",
   "execution_count": 58,
   "id": "4e61bf14-3260-47b5-bdcf-65546879b863",
   "metadata": {},
   "outputs": [
    {
     "name": "stdout",
     "output_type": "stream",
     "text": [
      "w\n",
      "[(0.44430703237245417, 'watər'), (0.20168478631629935, 'mɪdə'), (0.03245377012690489, 'wɛstə'), (0.03095397747119365, 'bəxɪn'), (0.014101839734681694, 'wɪt'), (0.012016376942530153, 'vərtrɛk'), (0.010581308335511668, 'wer'), (0.00957125841835098, 'botjə'), (0.008374080880527372, 'wɪtə'), (0.00790019162878384, 'dɛk')]\n",
      "w\n",
      "[(0.44430703237245417, 'watər'), (0.20168478631629935, 'mɪdə'), (0.03245377012690489, 'wɛstə'), (0.03095397747119365, 'bəxɪn'), (0.014101839734681694, 'wɪt'), (0.012016376942530153, 'vərtrɛk'), (0.010581308335511668, 'wer'), (0.00957125841835098, 'botjə'), (0.008374080880527372, 'wɪtə'), (0.00790019162878384, 'dɛk')]\n",
      "w\n",
      "[(0.44430703237245417, 'watər'), (0.20168478631629935, 'mɪdə'), (0.03245377012690489, 'wɛstə'), (0.03095397747119365, 'bəxɪn'), (0.014101839734681694, 'wɪt'), (0.012016376942530153, 'vərtrɛk'), (0.010581308335511668, 'wer'), (0.00957125841835098, 'botjə'), (0.008374080880527372, 'wɪtə'), (0.00790019162878384, 'dɛk')]\n"
     ]
    },
    {
     "name": "stderr",
     "output_type": "stream",
     "text": [
      "/tmp/ipykernel_65575/4229271781.py:45: UserWarning: FixedFormatter should only be used together with FixedLocator\n",
      "  self.ax.set_yticklabels([option_i for _, option_i in incremental_dist])\n",
      "/tmp/ipykernel_65575/4229271781.py:45: UserWarning: FixedFormatter should only be used together with FixedLocator\n",
      "  self.ax.set_yticklabels([option_i for _, option_i in incremental_dist])\n"
     ]
    },
    {
     "name": "stdout",
     "output_type": "stream",
     "text": [
      "wɑ\n",
      "[(0.8017149441516304, 'watər'), (0.018570548375834894, 'wɑrmə'), (0.010509982237719909, 'dœystər'), (0.006276801811602362, 'wɑs'), (0.006002313314068161, 'vartœyx'), (0.005970320145280298, 'wɑut'), (0.00582890069269476, 'wɛstə'), (0.005801560353184492, 'bɑt'), (0.005117914508493528, 'dɑk'), (0.005054491083139742, 'mɪdə')]\n",
      "wɑn\n",
      "[(0.6861601138970034, 'watər'), (0.04120178659350174, 'zɑnt'), (0.03314542324645579, 'vɑn'), (0.029767280061000392, 'lɑnt'), (0.027991027674976975, 'mɑntjə'), (0.015454908752648495, 'kɑntortjə'), (0.015010205271927509, 'kanal'), (0.01215716599172204, 'kɑmp'), (0.011535904634096013, 'mɪdə'), (0.010197633300067246, 'kɑntor')]\n",
      "wɑnt\n",
      "[(0.265914383919283, 'zɑnt'), (0.19211661903083804, 'lɑnt'), (0.18065277005810793, 'mɑntjə'), (0.09974525085612242, 'kɑntortjə'), (0.06581504348769733, 'kɑntor'), (0.050517536336141276, 'watər'), (0.03354256121711884, 'pɑnt'), (0.025589152886808228, 'hɑnt'), (0.01990607112369228, 'wɪnt'), (0.01259778511144553, 'wɑnt')]\n"
     ]
    },
    {
     "data": {
      "text/html": [
       "<video width=\"432\" height=\"288\" controls autoplay loop>\n",
       "  <source type=\"video/mp4\" src=\"data:video/mp4;base64,AAAAIGZ0eXBNNFYgAAACAE00ViBpc29taXNvMmF2YzEAAAAIZnJlZQAAHeNtZGF0AAACrQYF//+p\n",
       "3EXpvebZSLeWLNgg2SPu73gyNjQgLSBjb3JlIDE2NCByMzA5NSBiYWVlNDAwIC0gSC4yNjQvTVBF\n",
       "Ry00IEFWQyBjb2RlYyAtIENvcHlsZWZ0IDIwMDMtMjAyMiAtIGh0dHA6Ly93d3cudmlkZW9sYW4u\n",
       "b3JnL3gyNjQuaHRtbCAtIG9wdGlvbnM6IGNhYmFjPTEgcmVmPTMgZGVibG9jaz0xOjA6MCBhbmFs\n",
       "eXNlPTB4MzoweDExMyBtZT1oZXggc3VibWU9NyBwc3k9MSBwc3lfcmQ9MS4wMDowLjAwIG1peGVk\n",
       "X3JlZj0xIG1lX3JhbmdlPTE2IGNocm9tYV9tZT0xIHRyZWxsaXM9MSA4eDhkY3Q9MSBjcW09MCBk\n",
       "ZWFkem9uZT0yMSwxMSBmYXN0X3Bza2lwPTEgY2hyb21hX3FwX29mZnNldD0tMiB0aHJlYWRzPTMg\n",
       "bG9va2FoZWFkX3RocmVhZHM9MSBzbGljZWRfdGhyZWFkcz0wIG5yPTAgZGVjaW1hdGU9MSBpbnRl\n",
       "cmxhY2VkPTAgYmx1cmF5X2NvbXBhdD0wIGNvbnN0cmFpbmVkX2ludHJhPTAgYmZyYW1lcz0zIGJf\n",
       "cHlyYW1pZD0yIGJfYWRhcHQ9MSBiX2JpYXM9MCBkaXJlY3Q9MSB3ZWlnaHRiPTEgb3Blbl9nb3A9\n",
       "MCB3ZWlnaHRwPTIga2V5aW50PTI1MCBrZXlpbnRfbWluPTEgc2NlbmVjdXQ9NDAgaW50cmFfcmVm\n",
       "cmVzaD0wIHJjX2xvb2thaGVhZD00MCByYz1jcmYgbWJ0cmVlPTEgY3JmPTIzLjAgcWNvbXA9MC42\n",
       "MCBxcG1pbj0wIHFwbWF4PTY5IHFwc3RlcD00IGlwX3JhdGlvPTEuNDAgYXE9MToxLjAwAIAAABBi\n",
       "ZYiEABT//vfHT8Cm6Plmy51Kr/hr4KmnIY+ac8s6ZwlvgAAAAwA5vNDre5mp/aarAABhyuNNmqdn\n",
       "AAENul0dviHagE0kuP8ZO//1GnJH77L7WYKzxygf8FyK39dJPUKxgw43fwKvzfQ5tcBsnV4EDqDd\n",
       "HAKc6czjqeSm3ogRHWQxXGTJKevM8Jm1tMtjMJKdPso7fKFAhiowAi50/rm3XEanb21JSO8K6W+P\n",
       "6A43F29pO3qd/b/Gtg7jkdjMkq+XKMEe1bWFdgpmzQh5nMnw0iixDEcCeGXygF50NM1OppXSR1RJ\n",
       "fLTA4JrJCHKtytgGs9XMnDLivvaU8GKq/KSqUCIy/cedOaqYIjyewumdKHD2oArT+c6V6wcjYXpo\n",
       "zG3MnSjKVb7BHaKnbblX6G6Q+Kaa6ya0azFlKFzVyWlNGhmUI/IXzQOksHo4J1bAkcXnScx53S/N\n",
       "rNuaG52qPFCQP/U374j76suKZvFPygqs5pvtzXkYNI8GARTrVBqiTif/E05VAQXCiYM0tA4HuByt\n",
       "p01GSNz4kVYQu5PYVzE3fKdZmNcTXdrqaepcTCKda9cSettmiK6vgI8VAo0pD/CiBWdITPJQS9KW\n",
       "7HMWDGDYSfUYyzTPMMuf9QLqhV8mpMKD/LNaYk4aozkHq500FLnchqVDYlIfhk7C5be3M6MCJ/On\n",
       "zfpEPcV9qjPDr0f9dz9lcrkOK/QS4owvwHkYWhKrRMWHSnkzPJdyndIFO/xem+8mBZJOUFjRMwE5\n",
       "jQx/a7hF0miiQwDzVXUK/GPEpECbnwnwEqA6xHN6tZOpilVRPeNGqSqqNP3V1c1Tb9YM46V0Q7Ld\n",
       "SkgVhAfN4bE6ewl2B7wS3mwIKVpVepBNixH8FkxGtEaRXFSr2Ovn23ftQsnf3eccMxhE/IGM2WSJ\n",
       "4e9ILWB6VunJMELaIUetLBi8gykvcVAghpDvZMEMyxE/1WOuoaRYmh/1Bcp5Y+qg8224h4aJ6FEn\n",
       "tRrpyzZCaoNsmYZAsHiY92IZzUilB04e2j/bj3QdYKKR5tIScGFN6riP7rGBcDnhtOYsSYZZ2X+o\n",
       "EXWjBZulsZY973nlyT6ELVSLJVOU+lCALi8m+pieLVpa/+IuaOQMK6/xOac0jQ40Il2cZmu5Lvrz\n",
       "4DxWRrjViTv7G4UPVIbDa3YNyGM39LtcudFpDlJvY3XrP8ueo6LkQ9Heg34lSqZKN6TY0++8KXAW\n",
       "rD6My3Tf8n57vqBzCz5RPz7wA/aaOL3rbRYNnxuOtoj3aTUOa4bagHkfHzC29U/38bo9iPXLTy70\n",
       "mck/opaawCHeDW8hWbv8LeCwvPACGKGnnLsxCbEokeTQRS5FKTx49JCXhIULVdmc1q2ctatjXnlw\n",
       "CF7Ubp76kheE3pp7YV7Vwr3b9wLcv2iY/NQvQNLBVCXJeJAoK4moPEcc4GOquT2pc+68RFnQ2S4v\n",
       "BsTm7MY5qWM3kC0Jo4YcJdQsLsl96D+o+KaUky+marXVia1WIaMvS/ncAFYi+tg9wjinGtiUUCMO\n",
       "1cpMxwrI5UAbr35bY5rn9CVE3Osiywt8aYPq5RgqIYuTSdicc9iZi3QpOUZYgbh9VsBFzUqHIjji\n",
       "RdvsSF4zt60rpg9Wu8uC/y1GecG8ky7Vibs3yyOFNBmc7WmaSxDdNjC/sqlz7Qgfcg/SFwcGhCZq\n",
       "G5Ol1p592rWvG2dj/iu6a5CGvwIgtzPuIT7fX+7xPhpvnHEZzxbOf7PGsn+GpizGMO0UxF9akguR\n",
       "51AJME3j/Q4eTQiKbJ6wCiyp+xQnwnRxv/HwrTUEoLxGqXMAyzKCgMT4+2LtK+ZRkoKqRsMiDITD\n",
       "mxxP9h92hS7h68cdMJib1J5ZW/cHZXT8QVpfTXDtvoIzch/cISP/zj0W92sV58wGp8jlpjcfyajk\n",
       "utnJCSIfqgbyMs4nEX8ACCtjbu3mF7A72kQDVnIb+eXFQPON9mIwrTmU+9r8eOzYVOI0QqTgm8cg\n",
       "+iqEzAIwGK+8pzt6cPEKFphCuKwvjfuLs/qLpNK8JIEsGWw4BBRAcMTyE0CR5McqBbgbZAuasDo/\n",
       "km+jcb50hY4GvWHBuEc+kErrwt0rp+JEHSbUhN5tsGaG4+oqUY8DsIQULftm2ac6s3SZiJzUEd29\n",
       "E7JzD09PqS5tDPvhFWJLiF1cQ5LnK/jpI2thlNyHwlNwVIadnwQMnCMSgg22IwGQpupyiA7M1/Fw\n",
       "oRaH+tOzzuWgqeigFpL7AD56Tw7pjX7gXrQp4fHZ/8dij/ncNRNyv6jQQDOL5BDW1ulVwUrBx/zn\n",
       "WgN+jARoZev9NIR0B0M8tr5g8ENBhzmgdgND9ptipmQL5rh4rwPYzTc+4yYZ3OSR7vK4tClH8HXD\n",
       "JHi5UD2D1URcvSCODdNIJ+Qwo9A0HrAwPeaAL7pawKF5ylj58iChUTsOiJBHXDjHZkKGMp2jOde5\n",
       "N2LHXtxh2xZYlelI2BXfWgTmuu/0FCC2jVMiTr+R8rW0oGMCT/VJCv/rVlWhK04pMEuDAC5uK7S2\n",
       "yWewsV2F7l8I6lj3PmVgUaGqVyn8GHVyJM//9w9DpKGXHJbZbjdIVs7o9ddW2sR5agS7rtGX40Pq\n",
       "Sr1BxmDXh4AMjJPwDndNLUP9XwIolY+JDfnoEkqXpa+mVYVxC/AZY5gSoCJChWAT4+XuntKX2el+\n",
       "5Ib9on1fEr7rifXA0Amw+5QUbnWitRExEoSeLxLSmVqGxE2X/iglk52xlmryAgEslq8K6dTX55/t\n",
       "8CUwxoRVePeN8PdUzBAQ7Rspz2BUgQBHkXXP3iiP80KuLxu7s4hy3ea7HBznP6NzyBK/+uZFJ0QB\n",
       "hxTK/mKGIzHyPecA06196lXNrkCcX0PLiya5d9PKSAEvqbIkBBDvaiDJtnqCjX65wVvnCRBL2BUF\n",
       "F8uf4NzOYf+9G/OrAphRbU3JBmyEoNaAgZH+huQd3viiDIQg8+6cv4mGmi319CPi6cmn0lvwAY0a\n",
       "ef7JTXrdoPV/cn+TyoKvxyJRKX9ryp4exP7nRbpHCJP8J81dG6qgEHTtw+nENyLPedYu9Dei9IIU\n",
       "YtRn55OO1Wami/94bt///M4Z8FdHdXAcAHJslj2TWrxu2/XGnqax21mdwkXjUVVWmiMt+MibSSLl\n",
       "LzPa3FY12+QY/aP6pHLVWyydi7m86N0nOPC/Fwj/mME+EQUSYLG8yaVfBQKdtIVEsw39iVkGILnG\n",
       "b7XqvhZK0pNzsqv/EAbiEcKCIJy3s6fdR/m0KpcolyhTv5R24/WSDxKAOsN39moITimBV8qHgp8D\n",
       "j57OR0rLLz5NSf/4sEYs1BRmKYNiyD9wf6YCB9z09AHiTeU+cHoGcACFUNATNN4Z9tG0Kw0Tql5n\n",
       "F6nk4PXdkFZJkztohWLGDJQSGV3H5yzyg9qYzWxdjphXgLseS+wvWXlu6NsidLi5GC5zjrNtT/68\n",
       "6yrC0gMXlPkCMAg2nuJ6PvaF1crcw41EYlpSBz2tLkAlza84otLEj3+it/wFdq1hg3e31W+fE8st\n",
       "eMzGoR0M+5jmxEpxC7jlgMa2W3hPcUBDd/6g/wASIE2IXw9Sp7Ey9P4HQjBAysPiYzYXogc+gs8R\n",
       "fJfaXeQ+LWpzNqPS85WWl8HgZmiu8cmpmtoF4Awyws80SuoRXsoJpozYTEkdde88D04X3nfmJbTF\n",
       "uktwDY1g+YM5+m+RS1U1WBFBCzJ/gP6uQQwmSfATWJNsLuiJNU89pe7FcT63NpzW20W/vxKSvJ6A\n",
       "GUCTgkdGJ4HutB7NpLuzlPfVrCp94LNbSHax9cXIlQdMdLXisVkdYTDTFnrIyY79P1JhplYVIMc9\n",
       "buoK5pHTG6FzVrtpi7SYXqIvrQFXEFxph6rmJgvMASm8ZYRLO8mCvEDnFM86rXZHsneVEcqW60+m\n",
       "hWHAlx+SScuXGKqYesEsODM/ad5OBfrDIRUl/aqvuXh9ucBwov+nBNgvgGAIssGFEeOBy1lzycuF\n",
       "vnRhm7vlJpU436ehfxt8HizzyRCokGpxdyEU8d0TQq0LHSLbgGnrkF76F4FYhQdKMLVtAFll9AKw\n",
       "tHlxU+fH8QZIMei55aWJmgvEd2EQ9SUz+EahYDI3vUucP0MJYyseIds0vNEmMKNzTy31Hc3mbEj6\n",
       "Nf83Zn9rNXk/ffETXCC0TgELTAMC8/d/qDFFL08FwCiJ8sAN3rAtkHL0Ka1UTthTc9j8a9sO+tsD\n",
       "ovZr33P77otdVfSRBFVL+sEm1QNKbVxao1nNwg5h2mWmQIG/TDc8VHYNr8ynWVrbVukqpMjl1wdd\n",
       "5lr3SQmvFSV/Mm8wbR2WUy12+0yvvBEgvjJ0yoIRiEclBpo/s/wQOa6jZmuyjeHhaJrltBSUCGCI\n",
       "Y/r1Yr2rw+AkxvQgETwsd/73GeQP1i3sXOQNVThMbIzRjgP+1f4v4OKG1xkoiB1C+xVPNV8BeGs9\n",
       "tPuHAGSEoHhDL/s+W9zeUtG6YsFa163DXMzSJt0vwZudij4hwfclsKta1R1OhD8HgILmpAhC9TAx\n",
       "6CVjec0/IAT0b3m5oRhKteN6tj5YGBKuv9HbGvwimR4OXu0EpvIGCZGOSYQV//cBTgk/PeGXqzUO\n",
       "kogIqq4IP/ysgikdP+wdfs+3bbxTgBh7VAeFO6VrWmwtTZk74RX5waNfl49qa9cFunxCN9G/vISJ\n",
       "RkzjiFNubhPUoRL9Drj6MmDPuFSTOq7kAIGaPSmsAKuJewT6kaGHAnSHPzlLbcpYswRboeWEE2Wn\n",
       "puhmYIEqF3Kj26KPdKvYxPsys8T11Qk+n1E9XqPz1iXpi+Y5V8WA+fm8bm6blj9JRVQxDml1tErA\n",
       "r0sqLRwKDXrl8WAn+B4jZEIdN21sGx8fObY3wBktLAFsiZr5t/GyZFnqLAouAvSrVpXxiap0NhBf\n",
       "tTf9++gqLvspuFv2tld8rQMkaps6r6JpBEsfy0pD8EA2hUVM/lXYnPkRG7vNZMqZJ9zNjwlV5dCu\n",
       "Tx6hRTre4cxkBed8FQIusC1nOAsV9+C99LPDcmBwJHsry4+5GwDncdSoF3QGHxkVbH33/x/Ca14w\n",
       "LGoFZfwH57Un31O/Vic3cAcy9Eq0EaTAAkYvw5Kph+LX75rdJV5EJ6spWIin/Fi5NdO7TO8c7INl\n",
       "/6sLyCte7Ma7CKzrXSeYB1wEofqymtyaIEtVKbAY1jzjUQoQA9XfIwjXXr5ouObmW3awMglOjtAg\n",
       "tGaHlM92CClQhwby3/HqwMFvpPoFwf2Jb42rMGWFUj1cv7o6R+B8wdnkB6aj455v9z05POkLtM0G\n",
       "QUGkZi0Z98d8rfxuVGxhApV315aV/6X6sDNiUYHBRbVGw+A7iPRaA/fdz7Jv2iKDzOyxujjf4Uxr\n",
       "wf8r4ZIiNVSXrN7GFBfWvNj2agHOaZdQfIphO/44PMwTIGE8IW/fJgHdZiXyb0Rxw1TKrt4F7FJK\n",
       "Gtodsk4UrirVNkL8ex0okxykKnwSTq/TyQHlVMKcvg0qvBgwUcbp5H1Co/9VIU0lo5Avey6RWNRP\n",
       "fnotWxVMcRG1SbFGb7D6v/a5l3Onb0mmlJkxSGoZckNsa+afIWrO39qLYYbz/8bmwGFZq1Ti8QX9\n",
       "IZczWqnDSz5jk/tap6sfATqnIFzYmU34UujRGbg6kPmBAAADq0GaImxBT/7WjLAHhl//8QnTqng9\n",
       "/Jrf8TgMZWhkL8HjWf/8tRS1qq4tO71j1Ma06cEe7CgKlG53n0fSqEGMZ/Mwj3Kvvo6czS1lz/Vd\n",
       "22b+HmtGAE04lBQeX4Ez/3LAGIdVAxPw+tg0Ok+FmvNlmwLkmzWJ97lpY/mDcB7g5qVm3S8YhHpX\n",
       "gDVKsaWfYgtB03X6l5qnYF+wJFlDl5D0VYUwExDHbE8Y4BH3GF0iRslimKF3l/ixjZrVPh9ljqic\n",
       "KztvZlCWghbcqfPAsNZ3Ky5BGtEjFGZpjxu+o2uKg3aABmxpUXrz94FKpvgBHt9NsV6/ri9Ccipx\n",
       "CbNQkc/8LplvWL0IfdLT03JX6YzzLzVHrIwJZL4A+HDBmJcxDDyh+KP6wtNGUB38FHRwmfgA4+Bh\n",
       "M/1jyllXJyYOR2JG8seM21PE0bAO1LEpzKMpkw40VywlgDuaMPWzoYlQqkYXqaRe4JetZOVMN0Vg\n",
       "FHV2KAkdrseGKJIyC0I2KM5jymPS3bTKDvpfw5m01DO5DVqovVWPrhvt3Q/cGXLL1mbzl2pl7sBr\n",
       "h5Oe98HWyPoqsDl2O5RgQmggHZfLWWbq+2mcZSFbFYmR4gxUL5z0rgqr4clG46OpL5UEl4hHENII\n",
       "qMsIl5qI96MSrG5NVYYNg8ARafCYwEicrSnDLeeIEp5YVC0EYNJlqV4h6EWV2KoSCW8sQc5OnIx+\n",
       "nikUCpgsN7rcf95c3s0x59+Eax1QaCrlzTnm7VjTvWXl6JjmZWjSg+3ryPGb0JdsBYjGWjO5Ag0d\n",
       "Yhb9GJy0DkvBz+fbM8QZM6npF+UEzrtyh4sGcPg4/FHajdUXBXLDZYK+i+5bBP2KAZfJ78GLHfqZ\n",
       "3DJRhCcD5301t4DHLIFo0MyOEZ9v+vJ6rvooz7kXd2dC5K+sDoitR42aUVxrxit+xLHkfU+xbiib\n",
       "mUsvHiBDASdu7iosJZ/cxnuznVUOoOA1hcOkC2mLQFHwxvusvUl2Wi35jnCK90zQydskCk0B/Qi2\n",
       "OdUpQLt71srqPFMDD4rt+Aqh7Jz5wL09GvHfgrvcC5+bMREZruqXd0//0TejA9W5juhlab4lkoyq\n",
       "ZUk7oP1yJoBqfrQiQK9aCKc3LqtzRidcaXgfbhiXdzJVobY71YzouJ/3q99wzUK+FM5kZK5kutLu\n",
       "gPtn64oq6XgLf4O94M6DXMOrYH0vC/30g906yKSFJZ0hMIr0PieYHXnpVhS/J1I8X+/C5TOi2ad1\n",
       "qAh89d1z8AAABBoBnkF5BT8ABRKk6QeYAICVodn77FKKRXnfr/VpnTfepdzv/bdfCEHHnDvKXO+p\n",
       "btqNUl+w0YeWcPRN/zl33ZMBrYcM6uY9BxDLI59OexrYLdo0ex+Nz0eqOj3VpHs57dac3InkGmYR\n",
       "Oi8JB2kN3wzpivOwywW7OuXxhvKzBUCU3pp+8ueVp4i0eNhTGnVwJ3DbIukM9Q7kmUB63v8gyj5M\n",
       "k3cMECLplQ6nlJkbNsjPMkxFV+F7ylj9teL3/Ed2X6Gf+DfmnPWN1Q1Eo4PIx5SZqrE3J+AgQbod\n",
       "Zx9LYr5iWbDFeWSGyTGJYhUV8V6/gbFiTodvXCCxpS4QoET7SltfkEDIafropse2umRzFSCK0/m1\n",
       "DstKXNbKaO4tpjZLgbcMKImHZFi70/7pP3sH8lGcmablY4a8Q/ShNe+IDZOeGRdes3eg7ckySnkI\n",
       "Mn7TP8rSnzASfVYNxitNWVb0ZX3ZSgnrIRHubpOG9jgyusDgWzzzytJ7rBCa5lX9/2oAN+SXMRCb\n",
       "k9hYxZ8mJ7O6CTaBnrQc5iAZ75ooMDDlu5OHCpQ6KLpID9uD8JClpWuYBHHrwn6+vtbupkoMqVrv\n",
       "8aPS5RIU8EjS4BAYb57DHSw92OclMa9q8bwxTEIT/TErTy8pqFxZzWJ5hHAH5LVq92AvoIVbmZCS\n",
       "uzPgEgBHwal3wn+i4qCDQ6PSY43S6fBSjPptxfmcDpgNJ+8ZuMeP6D2oe2PB62X6HX39e5buhe0S\n",
       "cVJ1AdwgmvMx9LnsMUyy/DNVGPGK0rd+qKK4vEMOsv8wgPhOz9FeCgAty7ULOX047JGHAnEJk6BZ\n",
       "+JedD0spu1NsKMLuUVUZJQ2vlaPh3AM948KntRCbjCZ0nEBgSMXMYGffS1SiP0ITahyp/oe2ioH8\n",
       "9ATEkxKv8hrfSi4hesZOy2kUpXSCD2G10YL2E7E9TJwHEjkdlJQToshtrDiIgYWVCMbfGmN+Pb6J\n",
       "CIt+3DW+ZlVtO1W6EbaD4DGwfAscQtlm5Gc4nWqv56v/HUE+mJngPCqjV6StubWeMGF9kZlQ1LQz\n",
       "NVFiW7+9BQqeItP0gE595m/3af4BLEa22M2RnH02PLe58ySK24BO9hg2unE6nLK87zhEN2vL6Wzy\n",
       "UOsdQSg7t+IZieD2KAX5fh2UeR1R3iMhSrdxFm65owXFHLtwz5k6SkvTHqMe088YGLA0FHEWp9Dy\n",
       "rbclrFvyyupVQZZvs7wXxAegTBYtdZmFhz2eaJxUNv7NrEEGpknqV2Hx4OAKWwnXlI4QivvY9WbH\n",
       "/OoEO+w81z9CPagD77Ry3zQF2WaLP7zMupOCcMwaYLmQLVqH5srCQkQXpLC3u2Fe/B6rfDPFdDoW\n",
       "JPDskhsAHtGIU/wcZbpwPs1hjOnFE8pNHiGTajcVZ2YDmbUAAALzQZpDPCGTKYQU//7WjLAIv8Hg\n",
       "dIheJmjAAnYJf/+XMpiMr0w1TRfLCzrGyW5oDfxZOxUe90OYZ96eDXLBD/SUVgruGDR/gW5LHbf0\n",
       "tO38qljgBa9LSlMHjV2k7WEj6h97NzhZK/XzJ7nlboCpNYAOLJj8hu7haaXE5wEl7/CWRdo88yvz\n",
       "xQWllrmQ9UftGe/lqymgPHre7yQ2adijOFV0VYwYzT+QrQxTB9A/4T0hlhHXOFPZDZFqwSG8rtVq\n",
       "tiCd0dKFQZTPqHAWMtTtIblHT14vZRxjeuTJjMLxxJhlLp0a7sH2cV060rQYTC/wPKtYLSgi1mjO\n",
       "fQjlipSn367c7PU+YCWyjK/45DIBDtSVS66McS60PPFuEWaII2pKvEGGsDxP96/Ct1OcdIQpniRO\n",
       "rrIz+yksJ8OyQq3HuW6+iGwBXGM7uSQpefE+h/qj2jG2TyVhvq/OvK205aqumGSk5j9UsJRXys9M\n",
       "jHIT+c1YQlQl1ASiBORnVEis85VMyt7siFKVTJyOZ1wVQqGeOUdb+HVZA357pkQO2NkA2/pEfVrJ\n",
       "Mu/oj24b+sLFs8AyjOXYXSL4VBTJn7TPruNUOx+9f2g5ztg71Ebgu/zMOW0FwMSvvPusUVhmvF0Z\n",
       "vae8pFZCsaZX/rkeZr+nrJ762YMp84cG5xqbutgUBksrBkax88nZqM7a0aGEL86kQgt5D7jgHLI1\n",
       "s6ZdEY8jH6CFmM/pTHWgSMAPmSGieAswSdnNbS3ACJsVhIgAAmcpY2cbWQeGBMIx8Vb7g2AkT4eU\n",
       "SW9RU5xBJ+4Dyuh49BOXhnDvRJMDdyzlmQ3i+/foFhtYVJSGvYrfOzTnAHQZBZpSf03yuOXRScFM\n",
       "K4N2r0pYeyfuAIx0PlKmu7ZRNi16kvrzE/ZE1WxDXrXjW/NluCKH0+rBRumhvQk5+aF3kUKaIuis\n",
       "9VHzcR1XXACNpuFHTwmzD9T2ZS9dG0c885Phm6j9WVqebEa+49LZKmAlzMhzIM+cKlqp4n8AAANi\n",
       "bW9vdgAAAGxtdmhkAAAAAAAAAAAAAAAAAAAD6AAAC7gAAQAAAQAAAAAAAAAAAAAAAAEAAAAAAAAA\n",
       "AAAAAAAAAAABAAAAAAAAAAAAAAAAAABAAAAAAAAAAAAAAAAAAAAAAAAAAAAAAAAAAAAAAAAAAgAA\n",
       "Aox0cmFrAAAAXHRraGQAAAADAAAAAAAAAAAAAAABAAAAAAAAC7gAAAAAAAAAAAAAAAAAAAAAAAEA\n",
       "AAAAAAAAAAAAAAAAAAABAAAAAAAAAAAAAAAAAABAAAAAAbAAAAEgAAAAAAAkZWR0cwAAABxlbHN0\n",
       "AAAAAAAAAAEAAAu4AABgAAABAAAAAAIEbWRpYQAAACBtZGhkAAAAAAAAAAAAAAAAAABAAAAAwABV\n",
       "xAAAAAAALWhkbHIAAAAAAAAAAHZpZGUAAAAAAAAAAAAAAABWaWRlb0hhbmRsZXIAAAABr21pbmYA\n",
       "AAAUdm1oZAAAAAEAAAAAAAAAAAAAACRkaW5mAAAAHGRyZWYAAAAAAAAAAQAAAAx1cmwgAAAAAQAA\n",
       "AW9zdGJsAAAAt3N0c2QAAAAAAAAAAQAAAKdhdmMxAAAAAAAAAAEAAAAAAAAAAAAAAAAAAAAAAbAB\n",
       "IABIAAAASAAAAAAAAAABAAAAAAAAAAAAAAAAAAAAAAAAAAAAAAAAAAAAAAAAAAAAGP//AAAANWF2\n",
       "Y0MBZAAV/+EAGGdkABWs2UGwloQAAAMADAAAAwAgPFi2WAEABmjr48siwP34+AAAAAAcdXVpZGto\n",
       "QPJfJE/FujmlG88DI/MAAAAAAAAAGHN0dHMAAAAAAAAAAQAAAAQAADAAAAAAFHN0c3MAAAAAAAAA\n",
       "AQAAAAEAAAAwY3R0cwAAAAAAAAAEAAAAAQAAYAAAAAABAACQAAAAAAEAADAAAAAAAQAAYAAAAAAc\n",
       "c3RzYwAAAAAAAAABAAAAAQAAAAQAAAABAAAAJHN0c3oAAAAAAAAAAAAAAAQAABMXAAADrwAABB4A\n",
       "AAL3AAAAFHN0Y28AAAAAAAAAAQAAADAAAABidWR0YQAAAFptZXRhAAAAAAAAACFoZGxyAAAAAAAA\n",
       "AABtZGlyYXBwbAAAAAAAAAAAAAAAAC1pbHN0AAAAJal0b28AAAAdZGF0YQAAAAEAAAAATGF2ZjU5\n",
       "LjI3LjEwMA==\n",
       "\">\n",
       "  Your browser does not support the video tag.\n",
       "</video>"
      ],
      "text/plain": [
       "<IPython.core.display.HTML object>"
      ]
     },
     "execution_count": 58,
     "metadata": {},
     "output_type": "execute_result"
    },
    {
     "data": {
      "image/png": "[encoded data removed]",
      "text/plain": [
       "<Figure size 432x288 with 1 Axes>"
      ]
     },
     "metadata": {
      "needs_background": "light"
     },
     "output_type": "display_data"
    }
   ],
   "source": [
    "anim_word_idx(1338)"
   ]
  },
  {
   "cell_type": "markdown",
   "id": "cc897892-be02-4236-9a72-aede567fdadc",
   "metadata": {},
   "source": [
    "### Find words which are not the MAP at phoneme $k$"
   ]
  },
  {
   "cell_type": "code",
   "execution_count": 61,
   "id": "3273069d-3b67-4d05-84e7-68a11ffb9749",
   "metadata": {},
   "outputs": [
    {
     "data": {
      "text/plain": [
       "torch.Size([2187, 1000, 16])"
      ]
     },
     "execution_count": 61,
     "metadata": {},
     "output_type": "execute_result"
    }
   ],
   "source": [
    "p_candidates.shape"
   ]
  },
  {
   "cell_type": "code",
   "execution_count": 69,
   "id": "0d4dc6e0-0758-4a3b-aada-a7787d64291e",
   "metadata": {},
   "outputs": [
    {
     "data": {
      "text/plain": [
       "[(tensor(15), 'mojstə'),\n",
       " (tensor(27), '#dipər'),\n",
       " (tensor(37), 'heləbul'),\n",
       " (tensor(63), 'zemənsə#x'),\n",
       " (tensor(89), 'bladrə'),\n",
       " (tensor(114), '#ɑləmal#x#'),\n",
       " (tensor(175), '#idərə'),\n",
       " (tensor(228), '#ustərs'),\n",
       " (tensor(233), 'ɑndərə'),\n",
       " (tensor(238), 'zɛs#ɪs'),\n",
       " (tensor(239), 'vɛrdər'),\n",
       " (tensor(240), 'vərdində'),\n",
       " (tensor(264), 'ɑləmal#r'),\n",
       " (tensor(282), 'merə#x'),\n",
       " (tensor(456), '#pʏrpərən'),\n",
       " (tensor(506), '#maktə'),\n",
       " (tensor(529), 'xəkert#xə'),\n",
       " (tensor(592), 'xəkomə'),\n",
       " (tensor(628), 'bəwox#xə'),\n",
       " (tensor(655), 'lœkərst'),\n",
       " (tensor(865), 'vərlɑŋənt'),\n",
       " (tensor(869), 'dəxenə'),\n",
       " (tensor(898), 'kɛikə#h#'),\n",
       " (tensor(950), 'zwɔm#h'),\n",
       " (tensor(967), 'zemermɪnətjə'),\n",
       " (tensor(974), '#œyjtstrɛktə'),\n",
       " (tensor(980), 'vɛiftin'),\n",
       " (tensor(990), 'hɔndərt'),\n",
       " (tensor(996), 'herləkstə'),\n",
       " (tensor(1007), '#kɑlmə'),\n",
       " (tensor(1010), 'lɪxə#xə'),\n",
       " (tensor(1043), 'rɛijtœyjxən'),\n",
       " (tensor(1082), 'darnax'),\n",
       " (tensor(1357), 'hɔndərt'),\n",
       " (tensor(1359), 'lɑntarnsh'),\n",
       " (tensor(1423), 'zɛstin'),\n",
       " (tensor(1426), 'jarəx#xə'),\n",
       " (tensor(1438), 'dɑnstən'),\n",
       " (tensor(1463), '#zɔdɑt'),\n",
       " (tensor(1500), 'xəzin#xr#'),\n",
       " (tensor(1554), 'lɑxtə#x'),\n",
       " (tensor(1582), 'lɑntarəns'),\n",
       " (tensor(1591), 'werklɔŋkən'),\n",
       " (tensor(1609), 'ɪntʏsən'),\n",
       " (tensor(1642), 'ɔpsɛtəth#'),\n",
       " (tensor(1651), 'vresləknxɪ'),\n",
       " (tensor(1654), 'wɔrdə#dɑxɔm'),\n",
       " (tensor(1697), 'xɔlvə#r'),\n",
       " (tensor(1703), 'ɔptorndə'),\n",
       " (tensor(1754), '#tərwɛil'),\n",
       " (tensor(1830), 'rɛdə#k#ɪsi'),\n",
       " (tensor(1993), 'vɔlxəndə'),\n",
       " (tensor(1997), 'notwer'),\n",
       " (tensor(2010), 'rotxlɑnzənd'),\n",
       " (tensor(2034), 'xəslotə'),\n",
       " (tensor(2077), 'vɑstəlɑnt'),\n",
       " (tensor(2091), '#ɑlsɔf'),\n",
       " (tensor(2123), 'sitrun')]"
      ]
     },
     "execution_count": 69,
     "metadata": {},
     "output_type": "execute_result"
    }
   ],
   "source": [
    "k = 5\n",
    "\n",
    "# Only include words which are still running at phoneme $k$\n",
    "mask = stim.word_lengths > k\n",
    "p_candidates_masked = p_candidates.clone()\n",
    "p_candidates_masked[~mask] = -torch.inf\n",
    "p_candidates_argmax = p_candidates_masked[:, k].argmax(dim=1)\n",
    "\n",
    "not_argmax_idxs = torch.where(p_candidates_argmax != 0)[0]\n",
    "list(zip(not_argmax_idxs, to_gt_words(not_argmax_idxs)))"
   ]
  },
  {
   "cell_type": "code",
   "execution_count": 71,
   "id": "2637fa57-371e-477b-bd51-6ba7bedb2e8c",
   "metadata": {},
   "outputs": [
    {
     "name": "stdout",
     "output_type": "stream",
     "text": [
      "h\n",
      "[(0.2843737857954816, 'hel'), (0.11503773708401324, 'helə'), (0.04161625407498444, 'ht'), (0.030969074349699508, 'ht'), (0.027556656173453757, 'heləbul'), (0.02208031511063773, 'hɑrt'), (0.01865259578798935, 'h'), (0.014280507235832797, 'ha'), (0.012843420209193216, 'hɑnt'), (0.010211893493392134, 'hoxə')]\n",
      "h\n",
      "[(0.2843737857954816, 'hel'), (0.11503773708401324, 'helə'), (0.04161625407498444, 'ht'), (0.030969074349699508, 'ht'), (0.027556656173453757, 'heləbul'), (0.02208031511063773, 'hɑrt'), (0.01865259578798935, 'h'), (0.014280507235832797, 'ha'), (0.012843420209193216, 'hɑnt'), (0.010211893493392134, 'hoxə')]\n",
      "h\n",
      "[(0.2843737857954816, 'hel'), (0.11503773708401324, 'helə'), (0.04161625407498444, 'ht'), (0.030969074349699508, 'ht'), (0.027556656173453757, 'heləbul'), (0.02208031511063773, 'hɑrt'), (0.01865259578798935, 'h'), (0.014280507235832797, 'ha'), (0.012843420209193216, 'hɑnt'), (0.010211893493392134, 'hoxə')]\n",
      "he\n",
      "[(0.6092247775663425, 'hel'), (0.24644971965575924, 'helə'), (0.0590356726474726, 'heləbul'), (0.013374770768399909, 'hekəl'), (0.007584752099052168, 'herlək'), (0.006988505596238707, 'kɪnt'), (0.00410843338652994, 'hetə'), (0.0040398036186977135, 'heməl'), (0.0032380885196289216, 'betjə'), (0.0026633616002228796, 'pe')]\n",
      "hel\n",
      "[(0.6616692765498841, 'hel'), (0.2676650945845524, 'helə'), (0.06411769883577206, 'heləbul'), (0.0009372559266982226, 'del'), (0.0008705671908396884, 'hɛl'), (0.0007365444961433138, 'hɛlt'), (0.0004960947990582173, 'vel'), (0.00033917126692245943, 'relixjœzə'), (0.0002839081937185155, 'wɪldə'), (0.0002791181578053414, 'relixjœs')]\n"
     ]
    },
    {
     "name": "stderr",
     "output_type": "stream",
     "text": [
      "/tmp/ipykernel_60813/4229271781.py:45: UserWarning: FixedFormatter should only be used together with FixedLocator\n",
      "  self.ax.set_yticklabels([option_i for _, option_i in incremental_dist])\n",
      "/tmp/ipykernel_60813/4229271781.py:45: UserWarning: FixedFormatter should only be used together with FixedLocator\n",
      "  self.ax.set_yticklabels([option_i for _, option_i in incremental_dist])\n"
     ]
    },
    {
     "name": "stdout",
     "output_type": "stream",
     "text": [
      "helə\n",
      "[(0.7967883806543204, 'helə'), (0.19086626706381407, 'heləbul'), (0.009561477370025783, 'hel'), (0.0007058671381728866, 'hɛiləxə'), (0.0005689674464068114, 'hekəl'), (0.0004017861372421666, 'hɛiləx'), (0.00020622559791568684, 'heməl'), (0.00010486451961581173, 'hetə'), (6.861690441805815e-05, 'relixjœzə'), (6.518453824514022e-05, 'penəs')]\n",
      "heləb\n",
      "[(0.9925745083818459, 'heləbul'), (0.0073079214554912335, 'helə'), (8.76952115707618e-05, 'hel'), (6.47401710293987e-06, 'hɛiləxə'), (5.218411199292192e-06, 'hekəl'), (3.685070721613382e-06, 'hɛiləx'), (2.3126329349481686e-06, 'xəlʏk'), (1.8914438366206418e-06, 'heməl'), (1.1957089163794259e-06, 'penəs'), (9.617882130646226e-07, 'hetə')]\n",
      "heləbu\n",
      "[(0.9999942516993445, 'heləbul'), (5.628860856788864e-06, 'helə'), (6.75464489793558e-08, 'hel'), (1.99462140795383e-08, 'hɛiləxə'), (5.695692165012416e-09, 'relixjœzə'), (4.6872222371597065e-09, 'relixjœs'), (4.0194343512344055e-09, 'hekəl'), (2.838392621721737e-09, 'hɛiləx'), (1.7812847446340663e-09, 'xəlʏk'), (1.4568676250301652e-09, 'heməl')]\n",
      "heləbul\n",
      "[(0.9999999916519772, 'heləbul'), (7.4064383768016935e-09, 'helə'), (6.924041904744003e-10, 'rɔlstul'), (8.887741670394994e-11, 'hel'), (3.2021419657364635e-11, 'relixjœzə'), (2.6351759528965913e-11, 'relixjœs'), (2.6245169171737542e-11, 'hɛiləxə'), (1.6820409725906535e-11, 'mɪdəlewsə'), (9.852410263553108e-12, 'redələk'), (9.732923360543177e-12, 'perijodə')]\n"
     ]
    },
    {
     "data": {
      "text/html": [
       "<video width=\"432\" height=\"288\" controls autoplay loop>\n",
       "  <source type=\"video/mp4\" src=\"data:video/mp4;base64,AAAAIGZ0eXBNNFYgAAACAE00ViBpc29taXNvMmF2YzEAAAAIZnJlZQAAH9VtZGF0AAACrQYF//+p\n",
       "3EXpvebZSLeWLNgg2SPu73gyNjQgLSBjb3JlIDE2NCByMzA5NSBiYWVlNDAwIC0gSC4yNjQvTVBF\n",
       "Ry00IEFWQyBjb2RlYyAtIENvcHlsZWZ0IDIwMDMtMjAyMiAtIGh0dHA6Ly93d3cudmlkZW9sYW4u\n",
       "b3JnL3gyNjQuaHRtbCAtIG9wdGlvbnM6IGNhYmFjPTEgcmVmPTMgZGVibG9jaz0xOjA6MCBhbmFs\n",
       "eXNlPTB4MzoweDExMyBtZT1oZXggc3VibWU9NyBwc3k9MSBwc3lfcmQ9MS4wMDowLjAwIG1peGVk\n",
       "X3JlZj0xIG1lX3JhbmdlPTE2IGNocm9tYV9tZT0xIHRyZWxsaXM9MSA4eDhkY3Q9MSBjcW09MCBk\n",
       "ZWFkem9uZT0yMSwxMSBmYXN0X3Bza2lwPTEgY2hyb21hX3FwX29mZnNldD0tMiB0aHJlYWRzPTMg\n",
       "bG9va2FoZWFkX3RocmVhZHM9MSBzbGljZWRfdGhyZWFkcz0wIG5yPTAgZGVjaW1hdGU9MSBpbnRl\n",
       "cmxhY2VkPTAgYmx1cmF5X2NvbXBhdD0wIGNvbnN0cmFpbmVkX2ludHJhPTAgYmZyYW1lcz0zIGJf\n",
       "cHlyYW1pZD0yIGJfYWRhcHQ9MSBiX2JpYXM9MCBkaXJlY3Q9MSB3ZWlnaHRiPTEgb3Blbl9nb3A9\n",
       "MCB3ZWlnaHRwPTIga2V5aW50PTI1MCBrZXlpbnRfbWluPTEgc2NlbmVjdXQ9NDAgaW50cmFfcmVm\n",
       "cmVzaD0wIHJjX2xvb2thaGVhZD00MCByYz1jcmYgbWJ0cmVlPTEgY3JmPTIzLjAgcWNvbXA9MC42\n",
       "MCBxcG1pbj0wIHFwbWF4PTY5IHFwc3RlcD00IGlwX3JhdGlvPTEuNDAgYXE9MToxLjAwAIAAAA+6\n",
       "ZYiEABX//vfJ78Cm61tbtb+Tz0j8LLc+wio/blsTtOoAAAMAABnblS+MhuoLgPtAADyZ5SNNU9f2\n",
       "AG3fYGXHYYVH33zptIzON5VWrBzqPtq/bvjNVeXcWknNFYbPuj2SMK6IsAW19Vm2Jwq9NPqWE161\n",
       "F74ZwuncOpYFESbUPpra3z58fUKKR0yRPPZk71G2FNTMMQcxY5oGGhkx9nW6cS7rfn0Xs+bqOmRY\n",
       "w9VcK7s2bEGgQJFfT2BwQT7pghKqriGgz5QJHCW96DMsWrBvuP4K86RUtz2yWGX2NHs3Dpf3nHkJ\n",
       "QKvNQTpqo2Usmhjpczp+PMoZYZn7dAERjsqv/0jGJP+C5e0JI/7kV6YJhBzMm1ZY6NfzZJvdJStf\n",
       "i94D28EnuBN+cvOFKon0g2eQQdUEiBURajOD0lAZQPcSxeKmLI2OfSxDPHWmu8ntRSf2lNWzEeoa\n",
       "4GWLrGfrD6JxfO1CrAgHiIxm4WMnpUJyLUMa8wEtKeoi6ih/yLh9K+xy0nLFQZAwn/aAGyvPtkfl\n",
       "DYWqrX77f+tIDngyzH6/rxSq8QmL4F7zTJrJBwtPbgoQ09dLWEKkVz5fjLEFB5/21iRImRWJk5t0\n",
       "Re7Q7URRyYN0L6wLzfyBuHK5aArk8U1E76GjvY3gK614uJj1b4o5vPn6a66oqfg3VM7CJmQdYB4D\n",
       "r1JboNuFVT2lPIu9495mG67F4N5cI2MW67iY+XMlzaXZh9BdEvXWqjab3FiTgtZnMeBTWMEY//w1\n",
       "HyTvYT1+VXNI9XtxwzcmFPkvJPcmuXXRkWY2C7USQIocY0bS5gluXSiB/OKsNbqvX0sl69sOxsQQ\n",
       "HYrG0R+4zq4mGwW9lR4uXpcwPFbG8FevhgSCCyFP/02zYxBK0p5qF59DZua4odBjTSmPSPBLBSey\n",
       "12Ec9KbQaSe7+t/niX5Yoy1EdL6d06YDSNI86dMrAhotn3hsloh82NlCasjEfiOJjk5M1A/+FsU/\n",
       "R+lKLCKQGEE9LJjZ2Kr8M/E+/JUOSCFWV8n/KMiMEE7BkOCEFazl2HRJV9/Zi/KfJtu7ZikXY7mG\n",
       "zmFqT5gVW393YHjfVLCpL6AXaydhpuvdj7F+t2+CHPZ33ZkmRj83ywJaGoQunRT1+H5c4gxM8nad\n",
       "QWegsDS6LOwNaoUir4qfmZy71hd6O6yixUXAV88BYkAwAoP6SJRtLpRGiTyEwGOUCHZmq6VOQPXm\n",
       "u+W82oblllADPTzOYr4wslrmui8TPd+uPaTr+EOV8ZrJNs2cJTtjSii0wx3+5tA+fI1Fx0xlpyPt\n",
       "eoYL0M6agsQrEDhHCZ4Rk9EjbEvf3+oQjdbE7LDUfvYN9m3WZ4WyKy9Tiv1rHARUvNU5tIJq+gBd\n",
       "Ui6O/6av/2kkACDukYURsjp1FS7revFz/MCMGHjGBqzEUSUtKs29EFKePzN2r7ikbrFA4iLWj7L3\n",
       "tT+lE1ji+R/1YFaIbwBFD0wFs4R7xL1m6G9zjuaARKsC1JhLwd/eOK4J63DtTvLYeWLg968dAa8W\n",
       "bM/Ati1Kz1SbKdwmUOz8Q53DbBzdLNGWp2BU9uEdBRqaj0iP0KnouFEivs6a+uqbZRNFjiSLYdxN\n",
       "rrtrTk/acN9P6IbOpd4jGZ/wh9cVXrW+N+2wCC4tOjTd6eS98I2XZRrt/uYP1mnUQZuL33z6gTVQ\n",
       "gSe/XwvOGSme1yUejIDZE/OZGgk3UmXcZT6+Ps8bsUnA5bYMzOWtW2j5HA4qEGDMuSR0Luj9/fLI\n",
       "oN07fzwghNGmpLJ9dpxjaDnNCKYk1B+//0mqbLQ1M1Ai5zpjDn5w7wjiO7J7Ke7j4rQrvzeTofH7\n",
       "YU/3IydgZ6AcVqG7DZ5/xM5Lar9p4rpLMv14OTHxQqvuATvoq3/gICrG1WIW2F6YS2z9qMdXpAUS\n",
       "jbeL7wDtV0rZQnrRnaCO4X7gpkLawp9fKwPOHlESsXzG978X2Ci4rewbek/i07RIPwKqhKTUjDB1\n",
       "2SKsZFrPS/141OeIZczG5l6L/wYvbg5ibmOcB+bjmAN6pOHN/hbM5YTNmKCfEhjjr2HNDP+YMbLB\n",
       "Gr/qJlwnGRfOAAivo2wBOj6hZb1/aycCUhijVKk/c/vcfzOZF5UPQNtLiPlMr+4tUP70zEs+mmdI\n",
       "ZFPJmmFUS9/slMNwuETiBmv0jjA9zs4DJMqVBAysZTiTIdLCcb5LGnXChxyA56JhUweXZSnEm6t7\n",
       "1OUav7NITbTSzUKPZoxAnba91/jqL6sgO71J8XwVsEtWJlu7zpG1fpP0PKMAPhfwMtZQsS7Kk7w+\n",
       "KAJ7npUOKaJrzdcp8SQbbv/PHn29agCocnjcYdnirDBs/7YYBVOGcrBf64Sil82BIi5DnT0kqDok\n",
       "OLOqsR4DdAtjGtWINYhs0c9pS+rDj8iQTnNklfDgUxOVykAikGt3hW3eWn74L3w6IOrz6LplbQcj\n",
       "1+ieFdgViWUkdnjlbP1iZjxjUX2ZpkDVvFCD68MzKNBe0lDkHsV6o7YGJBUSg1KeO//ghLxzsm1P\n",
       "jLm3AyCot234dqnSlWj4xR4vHZjR92xA6wOTfbXNdFhq1dhAbpHTxVEyBLAu+ZjoWH7PH4FSLKXf\n",
       "bHe+egtGOIauI8EMjd1076bQnn/dygMkTd8fJtfn3Q0hmOmye1LJ53r/qE0wm2b2UECd/+ycGnT2\n",
       "J7Xbj1nMgx/WKmal3HknnpkCEHimKr+9e8iV4aIQfLdMVP5WbwACUM8HmMupU/IpRhh5AZq0XGaD\n",
       "wHULE68F8FnAMlkRUVLP0ikoUkBfPg9sYGI4EXUzs2nsyhxatKZ4ZOxKdKf6BwIvlqtjRMhXc0fQ\n",
       "pSMqjltxHNCT2AzXGvTQIVdrikDSs2DboHxa8x2FWYIWiZOW1/4DC/6L+/FfR/DhNpWHhtQG4NmH\n",
       "Vl9naWqjn2KnpHbpLJS6w7/yJrcq6++45M/JM0oE7Gj2nGnE3WxCWcK5N0Q7/+jAr3FHrCKrZeE2\n",
       "89Dp/7ca3yfYuUpP2IOUbjLwMq8MpgwboiRdxiqfbh4wsXt+lRkqwIWvnbwWm2ZNxKwKSERFOnJI\n",
       "gCcRwhhJvWksVZ+pau94rPEOwlP1OEo4UQwk7kYM59tWBeBf/fqf3u4Rew1kmQK3h9YLMAw93+ph\n",
       "vOHzyjfnLDO8/2ODFXsyXt+Rvs+ks9wv5kcUtil6F7XD1oGzugYj9OdBsRhse/N39Krjpf2CZur/\n",
       "wq15WoorH0gOmr5fe27T+ckiY3cZAuocE23X+QYTnWiVXPbJEP47vjkvwr0b9TsPLN6nOPxGlZCj\n",
       "HyvZaQ3FMVMOuLkBcPCcRR1p5KRIFGNaGZLx4V/UR0Qbs5cvoWV4bwG7Rx9Ws8gVx/IucyrCaviH\n",
       "2+IjgPfEi27XYQKs5Fh4yvzOn9DjcLJg1tRkDurO4uuSPGcUbhZYUYtiQkLlXf/yaO8JLLd69P3C\n",
       "ZWunaHgC9rONb//lsxEWwrv+nFarY8IC15jDkR1fPx1ziYMVEGG3mNhjA1eRI29zLU/MDVqJA2iX\n",
       "JSYwLb7xQVlrEPBmkqmne44f1Or38LfzhmTE1EGXgccaJkrpD06gX2RqvPvKycY4bE9vANZSA8HN\n",
       "RQapQ96IZieIuspDf7d5kAMQ88WYaOoa7JpfxXRu6NwBuCn8UpVimM5RERmhxJjoVJRZh55cRKYO\n",
       "m9NrPgmeojhGlLcHkT/x7OoVO+5pY+r5zMbRSgfPVtn3+h0oqwSwbCbLVCqY+x1fAE8UDA3F9oEv\n",
       "dsdLdYy/6WUW+7NHW1w9M16MaJW+R/uQ8P9Ae9Fqqx+HKQBgPLvszxJ9TfCxKx4h3akXYtjwiFEn\n",
       "G9wLpjRGlVvcDPo48QQw3do1iAhn+EBvsStvEKhSF0sO1hYjhi1s6QSb6tgOsOlW/1atP55OtVW+\n",
       "ObM1OLGAxMaO5VTmEw0pdF7jbv3/Q+bszP9/8kaI4vqBJ1tSSnj/i0O+KUZ1DFhhhXIqRhVR7a1G\n",
       "MfQspGIPg+ZtrAxIwKYcyw1lIfJybLja+cJy6Vf6ynKuJ4M1yXP0NZERAM5hvAF2lmm0XW8Bu4t8\n",
       "CJ79UZjPKr6V49Lc5XuBFeIQ6S5C6vVCtvVPUN3A7TY6V8hfn8EsT11Fdb5ijScvFoRX7kjU88ia\n",
       "7H2n5Y5InUHYLONIxbxVe0kvrgQ4dIP2+7cZ3gQVbyDEsgcK2jDrFgfxSoSOkdCEhZznLG2kPj5W\n",
       "/Qv3Jugs4ED1rkpn53NPU73F3FtAFwVAGiUb1SLX6Bhh9uBKzeesJckVCEDy+b7HsypTQDO1c/4j\n",
       "CDfhPTLjQj0kZ0h9/RY1qhpkmjUVjdzvceJvL6DQi2lcPbswH8ite75uElGMwcOPTeJB8vfKmj1C\n",
       "kci/6AdjAAGkVtrWmwtTb/Zuup4Mc7EUZsgrR6uWiDV42nvOdIFLiTgb+6Qej1jJKzlBZGYOsfCM\n",
       "H00p4gnJatO53kq6bSWbJ45BZgL31Mbp69KvbBrsdc2Inl1KO71W9aAvl9o16u8bjlJpit0K5Cod\n",
       "vexA0UGtmLEmO/nbxgngIpCHlY6bCfBBpP0gRcC73wzJtw9hOAf+ApdZMaP3gzblA2pqlvLaZK3d\n",
       "HROo5q0eyPPbXTA6lfcOV5uLDp9eg0NDLdbwbNzS6r+kCuyfQQMJo+v8Q6JkmNpn+h9VSKPO91yn\n",
       "1qXgTK4ZBvtVsPqQrKlPGt1jNpjVIG07SCvX3Rw44xPC4A40F6U+uHM8Pqwr7+RkrG0q7hCYc8SW\n",
       "b0NL1SPXqdK+WEOOKY96RhjLsRkf6fgFSXtxkEzuriUL/QlptgIh6yl/qoDm/0lC8FZuiyn3FPxm\n",
       "R3wpp+Agw9bciQqSsMpicrA2dSsLn6uPhdJAJe3hgpBxrMEfG0C3+ci6vuH6FEgK1GXsW00Gs6mO\n",
       "CI1kyIVkBKbnB2+n3PlrhtGp5F/da90IJNPLG2zLLwjp29LgXNp3pioOr3Kq6NIKE7NdJRvNeVJ/\n",
       "tIi6gW89br/8zkoeiewnKmiluRyiQ8gcnmUbXDtCfkuel30+H/XkKjswF1zQqfvr2KqjNgMNcuXC\n",
       "jS6rfx5/FKFhCLyDD6UDDmH1PbnhgAuGeb6ZdhqFgetMa4SvIH210bMY+rRBUGRx3lfapPRiihJp\n",
       "3bzNnVfb2R7nv9zv6jgnI96IQgY2UXCA+umVM5+73d8jJ/OyPxOXiULx4V+f7SSLQEgJhdhCP0yY\n",
       "/ug4TF0ANnteIo5vPdkyebuPRrL+yMs5y6aQKg1x3ROR3I19HeIK4cKgc3aeXgxf9VogOD7bDs1R\n",
       "qaVRqh6ywNcFcwSv6376/Hv4zs2T6weEjJsYl8bPkr9op48HJJ1sGeSBhV3W+BVCTsbvVy5U21+z\n",
       "OkZG385lx502Nk+9szzr0MFBF/wYrF4bP+v5/7yBzKEOH+X1AAAEIEGaIWxBX/7WpVAEUTenH31D\n",
       "j/xCeSIJyer6iQYuVvFEzpilcpVb174ijeIsvu4wIJmZp43dR5sNoy1AzY5VJLH8GU8nesRpZH8l\n",
       "gfa6x9owsbFIXoifFk7ADgjjkuWbCldlfu8ICNwbL1/CUqHpCDOOt9RHx1cT+rsuZoxB8ps9Qq/b\n",
       "UdbPvryRa7SNUSPj5KweFL1+bweerkCw4ok2YS58mS4KefdHj6c91UQMagVeY+Y90WpvIvw6BrMa\n",
       "VUbJhZSNZIT8EFuEXWQaUjrj68DnvRUBOt6ASaguAXE0yuzSyJbJw1eta38e1nqKGaVR4Br4HQNb\n",
       "jrlNmNKKMdAHnSlD86YLiH+BMxS9nV8JaBQkTbFGZoqXjYkYcAPZQFfS3sNEsAnCnkvX9w8+1jOn\n",
       "S86bakOQnJlh4qf1KKEU/gcTfZxNhmvkzVtxGFBwkvRBjZpJiTpAfkaBNuzu2WBXDCrS8k0wA705\n",
       "S1JD0NqcpNX7oAudOUIGMALyxdqrB/7n1Jf63L6ZAxUZc3+dHjXKTYOU8A7jVvhg9ZOMGPsy3Wyq\n",
       "gD0Fp3rc+ZB5EBWDM382lrFBD6Dq33ZrkUfBROG6UM86GNArwWA0O8Mo2wt1qheqtqQ0fL9eRclE\n",
       "QPBhlMYdnGE5pE446y7vw4O6atX6ByBd0iI/+YotwZBPqE+2/6bj44IlNfYo74RbBpEfsYNY7gcu\n",
       "9XJIsM/ZBOCzAU/tU3TvCdnFO1LB1SvmZW21aky2ggr/VpaO4L2h+h2l5QsdTn6zw0PQEbfPi9iZ\n",
       "fWoekK5V/EuBHdPiorKilpOSnwqAYvZSzyZiE5vfTh6ZJh1tvmyps+IxjUupewZSm67oLYk/rXId\n",
       "2m2jXBZRbpJk2x2EdIkk8ZomGSlnLqObDs6uNmPHa6FRlZiz1JNKNhHwC92AtACVMaOdC/ew6/P/\n",
       "h4nhUJy1jetCziL1dt5leixcjO/0GLrqzHS/A74NK64xbSGJQn29IeR7r4aizG6WfG2mvJc5RQEQ\n",
       "t75MLmlPftmxbDQUJWVdm2z1fG3wjgKAZbsUr0iWRWuaESE76qe8KnxmQM44N+dOJgxZzr2NwbyC\n",
       "RRPaLKl7FpZxsUnThZnpM3R2+RrS/O1+E41CVNO7DD//oEh35I5/i6z/DEfGz5Zx8FapMfKFnrAa\n",
       "afJc2WqI14Lbx94y2KUfU4m0bR51E93HVXOy9Wh/0yaiLUm691OEeilUe/faPM5XXwHFdfoc07hS\n",
       "FhmHQbfjS/zRWqoEiB3kcTxNC/5qnNJ8lCRbTph3fXCtvFmnbzHru67BCHB/hEQmArZ+/iwbm3hV\n",
       "hl43DQYDYW6aj+f5R7BNdmVohilG/E4fKOEy5FPd6IjMMqpj0evN4WDDb439P79YrE3CSG49SJN/\n",
       "B7abEiHYk6PLdEWNgAAABBpBmkQ8IZMphBX//talUASZAI5bB6ADjoEH/3+AswV4GXh5cxPGjqGo\n",
       "Th/sCHrhNbKqfwveaRE5ym/jKEEzRy1xoxgxQ0skVXFZDi5oNpj71H10zFUZkLwSO2sxWrVScHf6\n",
       "vBCBzCW14AZYu9tySl8igprWYip9fB9b+RleeYJnkf4qpdMjcRFZzZ9ScLFtHU/2C9w/Xv6yCA8r\n",
       "GZcdeeGUvNGPgS/61D/VHFWeXOCWeIJ+8AlXJ7FJvMRXTactIL2JbA8FW21AawYEd8teIvOWc5RY\n",
       "Ge+RoT1jU3omqGDFsYGoYMPn8kF7OJwSzaBZVaypKM1YS34KEOK5R7qiA0/XfDAiL+eAAkX8a0Ir\n",
       "z2o8xJtLlasywm85KHpC8af7LUaGVFnsfgRBXwVd5SCjnZGE5FALw1UoKpHr9D3rfHS34SCnPy2i\n",
       "MyhcyXK0v8DfUfSwBLq6/KibDoV6pq9aQ7yyir59kptxZmJ/DX+nlFthFZfsWmyQSGrcQ8UbC3I1\n",
       "dRSWt4u9nBG6ZJl2g83cdHtHlbygm2xXGm3/zaSmODOoYn7t75iv5eGl9jnuVa8yirAzh5Yfu4HS\n",
       "Y0DukRFNM3LZnUBVlCM3CXG9QxASdWLUXBC0wGvJgl8NF1/z1lO5Al1xP2RUZOZ3GDuBpikuJ4V/\n",
       "fbsTqdr+aAvPwidX23UkhhPEJqL6637C+5WDnvg03jciIYlZLNgS1ZeihMtZJPu18X0OO1WRC8GR\n",
       "yf02srMVS+Ivm+7w+rmueksklas0QZO9ysRl5p6WrDFXMLzvkCNYqanaeWEy1xLBaytoAkG0dVIo\n",
       "KiC7khobhaqLggEjQ3wcyRQOf1fujntdiznyN6jkQXYEcA2NzDE3SE2FJlKz+YLxFm8t32Yhq6/n\n",
       "sTDQP69A4+Ls9Vi0OQSowr2hZxlM90p1KYkGemhMekuVLQxjTVzIoAUQbVkHCA5EEl4nTZr3YlVK\n",
       "++wqwKfUhGGOZkOlzwbXAKpgJ+CjgRvjZYP/pVNpkaXptsVu0T593tNUrXPTgVHNNYm7b3t56COe\n",
       "KPbP3PPpXwUxFD0v0EChrJD8s15UpUtl79gIrhHwaiBgThQSf0c8LsA6OKqLuMlDqJdbqdsbGLGV\n",
       "W5RZRCp0nuVPVFogU6LTSRnHT/kaiHx/NQU5AV/cSxcKiHrj5HKsRJxYOI8kickVEZYWmDgyY35w\n",
       "UVdUmpCtvronW096P6AVYCa4B7xzwhrApByc6L3ysCBMhZcP0BimsalOEFerfEW1bHcHfH2r/srk\n",
       "u4e0rshRlL1hHub88lYXpzNiQ9kdi8LT5njZis4hdMziDjGlPYvboBJTia4dkSP3pVOKAwgk4S8u\n",
       "3CnwsYEJ8WFeHoz28CAgwcRI8awfT7/AqGkmFS3ySm50n65rkFavUaEAAADFQZ5ialPBTwAFEc2z\n",
       "byCGNKAvp77tOABLuUd+KGxd7ctEPCm+f+2XCSIDVsglv83zlnQdRWvpjaUmbbAVS343+y00fWLE\n",
       "T2Rps+M2+oqtES2OdmLrWD1sUAg/C6g1ek+bbe3Hyqt67WAZEH/8M79EMZnlIw845g8zyGa38Ame\n",
       "snJofueAAE4jIGLzuhhHwLV3QxCFstwGKzKnEaqWIEkGMVdO0s0WAXto+Sku3oL+kZAW7LhpGJ7p\n",
       "LbOkTmMqrO5sMcvaA6gAAAIWAZ6DakFPAAUR/8LwARAHy/9/groUwbDW5JIxn6kiCroxfNgytdTF\n",
       "tx8jX16Vd2iMAZkxUun6R8uL8KMCbUYW4g414zaC4jaLSRHQUUt94CTHIBnhubCzwM1P8hLIio7i\n",
       "+56VAn2CyKClwOZbEj/gyLLXBBNXy0TRY+Xx608YLINDDONCdA0v0eUsKxEoF80Oy2z4ombz9+kc\n",
       "tc3dSVq/EK71ovFQmbWzvwRWgh5lveiggImBQm+H3VgkG/5ZmH8OBU/hirX1Dohd6xpYZYV8LZj0\n",
       "38315sRqsLgRn+D/xHhOCrz4EKUzd4CMTwpQhZEFPLXYHGtFsPEP1ytrpHBTVxt/zPrheNuz8nNu\n",
       "Izwy07ctRv9ytp2EtEvRx/wyM49ONynGEuLorlkFYnHZUDVvVwP8yn98vQCgDzb2DUYilx/kpwtC\n",
       "zLbexMc6drOCqdDTB9pMKJEY1YxS3nnydo475ukLeeZ39n3RtkH8Ox4QZQBok7ipzzOl3lj4GKaZ\n",
       "A0CAuuLDXWvLQ3bYnnAM9kKX/pIOHh2hkrXOARZ5vTYKcbkXZTbRaD/ULbKM9KntAQpTNR2/brVL\n",
       "5m7CtnJB/NJdFcHzbAqgqdF19FaXqAgJ4Gwg1BGW7qW3kXdYM5qZs+Qe22UwPUyGXNqQJQL38vPE\n",
       "IEntQ4N5otp50ZrQhnYNDoYdl2yXBxEc+mZgs5d2E02rXzN5GDIFAAABM0GahUmoQWiZTAgp//7W\n",
       "jLACuFtPgAtkMY+quO/JqQ00iik2tCEQL/CzyuFxVDl5gKvzPKVcbp7qt4ECHAIgKVS+sxc/0NmJ\n",
       "X4AMHYQziW/7E6BPnGm74aIg3S2xnCvDhB/xY1Jp/ar++/9C3/w64IoMM2poaVAx45e1qAJ+WrEL\n",
       "jPyCamwT9UclouaufStMwjm5KWbiXe/5Fz5y/gY3V52ZdnShZDaIVgmXABFEwfl2dJUq4JMLRbEV\n",
       "OALJ2nWUjDNsUJxPLIrlSOfdrXVVSVtiecRohk4ETnrKAI6ggNj7Hb5MW20gOKo3oDZRNoPg3bdJ\n",
       "v85799zN+Co2yx24Cs/GEDGFyiwxO3mDvr/CSxfwrTf6uA9zCG1zbLGQKs3K+glJP/PO+K5CLH6m\n",
       "yEzL2YL0WM0AAAD+QZqmSeEKUmUwIKf//taMsAKmS66Q+igBYnfpeKvsCPnd/wIRXOAhgg9mVPVs\n",
       "XiNVboT1O1WwU9RZpB2/nQqa3wGBlLKfIPWFmA2zIdYUqxXpV1K6c0Ywbhb8a+YGRGoS7ivJ5oLA\n",
       "I/l425400A2QN2i2Qz7INZnvFJGACefgRn7R2rnZOIgs3z5vKUsuvYPEncsrqAC2GEspRh9PE/cO\n",
       "KqXlGROYJbwUjbIHH/PC+/BnYMaQwcewCj9sHLMLtCSNo8P89czjs4ac7V715q0IETVB1KmmtTB3\n",
       "obaIDnuBswFI5zzzVCnw1ewSOGld3zU20De6RW6Hk9orOSK+t4EAAANubW9vdgAAAGxtdmhkAAAA\n",
       "AAAAAAAAAAAAAAAD6AAAFIIAAQAAAQAAAAAAAAAAAAAAAAEAAAAAAAAAAAAAAAAAAAABAAAAAAAA\n",
       "AAAAAAAAAABAAAAAAAAAAAAAAAAAAAAAAAAAAAAAAAAAAAAAAAAAAgAAAph0cmFrAAAAXHRraGQA\n",
       "AAADAAAAAAAAAAAAAAABAAAAAAAAFIIAAAAAAAAAAAAAAAAAAAAAAAEAAAAAAAAAAAAAAAAAAAAB\n",
       "AAAAAAAAAAAAAAAAAABAAAAAAbAAAAEgAAAAAAAkZWR0cwAAABxlbHN0AAAAAAAAAAEAABSCAABg\n",
       "AAABAAAAAAIQbWRpYQAAACBtZGhkAAAAAAAAAAAAAAAAAABAAAABUABVxAAAAAAALWhkbHIAAAAA\n",
       "AAAAAHZpZGUAAAAAAAAAAAAAAABWaWRlb0hhbmRsZXIAAAABu21pbmYAAAAUdm1oZAAAAAEAAAAA\n",
       "AAAAAAAAACRkaW5mAAAAHGRyZWYAAAAAAAAAAQAAAAx1cmwgAAAAAQAAAXtzdGJsAAAAt3N0c2QA\n",
       "AAAAAAAAAQAAAKdhdmMxAAAAAAAAAAEAAAAAAAAAAAAAAAAAAAAAAbABIABIAAAASAAAAAAAAAAB\n",
       "AAAAAAAAAAAAAAAAAAAAAAAAAAAAAAAAAAAAAAAAAAAAGP//AAAANWF2Y0MBZAAV/+EAGGdkABWs\n",
       "2UGwloQAAAMADAAAAwAgPFi2WAEABmjr48siwP34+AAAAAAcdXVpZGtoQPJfJE/FujmlG88DI/MA\n",
       "AAAAAAAAGHN0dHMAAAAAAAAAAQAAAAcAADAAAAAAFHN0c3MAAAAAAAAAAQAAAAEAAAAwY3R0cwAA\n",
       "AAAAAAAEAAAAAgAAYAAAAAABAADAAAAAAAIAADAAAAAAAgAAYAAAAAAcc3RzYwAAAAAAAAABAAAA\n",
       "AQAAAAcAAAABAAAAMHN0c3oAAAAAAAAAAAAAAAcAABJvAAAEJAAABB4AAADJAAACGgAAATcAAAEC\n",
       "AAAAFHN0Y28AAAAAAAAAAQAAADAAAABidWR0YQAAAFptZXRhAAAAAAAAACFoZGxyAAAAAAAAAABt\n",
       "ZGlyYXBwbAAAAAAAAAAAAAAAAC1pbHN0AAAAJal0b28AAAAdZGF0YQAAAAEAAAAATGF2ZjU5LjI3\n",
       "LjEwMA==\n",
       "\">\n",
       "  Your browser does not support the video tag.\n",
       "</video>"
      ],
      "text/plain": [
       "<IPython.core.display.HTML object>"
      ]
     },
     "execution_count": 71,
     "metadata": {},
     "output_type": "execute_result"
    }
   ],
   "source": [
    "anim_word_idx(37)"
   ]
  },
  {
   "cell_type": "code",
   "execution_count": 34,
   "id": "5ec4d50a-41fd-458c-9a19-2b3b0526ca36",
   "metadata": {},
   "outputs": [
    {
     "data": {
      "text/plain": [
       "tensor(1824)"
      ]
     },
     "execution_count": 34,
     "metadata": {},
     "output_type": "execute_result"
    }
   ],
   "source": [
    "p_candidates[:, 0, 3].argmin()"
   ]
  },
  {
   "cell_type": "code",
   "execution_count": 35,
   "id": "0dff1d5c-cd0d-4c96-b3cd-c052fa38a99f",
   "metadata": {},
   "outputs": [
    {
     "data": {
      "text/plain": [
       "tensor([4.2436e-06, 5.6206e-06, 5.6396e-06, 5.6396e-06, 5.6396e-06, 5.6396e-06,\n",
       "        5.6396e-06, 5.6396e-06, 5.6396e-06, 5.6396e-06, 5.6396e-06, 5.6396e-06,\n",
       "        5.6396e-06, 5.6396e-06], dtype=torch.float64)"
      ]
     },
     "execution_count": 35,
     "metadata": {},
     "output_type": "execute_result"
    }
   ],
   "source": [
    "p_candidates[1824, 0, :]"
   ]
  },
  {
   "cell_type": "code",
   "execution_count": 39,
   "id": "de3077c4-ccc8-48a4-a365-eb5f92ddc385",
   "metadata": {},
   "outputs": [
    {
     "data": {
      "text/plain": [
       "['ɑls']"
      ]
     },
     "execution_count": 39,
     "metadata": {},
     "output_type": "execute_result"
    }
   ],
   "source": [
    "stim.get_candidate_strs(1824, 1)"
   ]
  },
  {
   "cell_type": "code",
   "execution_count": 32,
   "id": "a21de507-01e3-4386-a445-9ff09993bfdf",
   "metadata": {},
   "outputs": [
    {
     "data": {
      "text/plain": [
       "tensor(9.5920e-07, dtype=torch.float64)"
      ]
     },
     "execution_count": 32,
     "metadata": {},
     "output_type": "execute_result"
    }
   ],
   "source": [
    "p_candidates[:, 0, 0].min()"
   ]
  }
 ],
 "metadata": {
  "kernelspec": {
   "display_name": "Python 3 (ipykernel)",
   "language": "python",
   "name": "python3"
  },
  "language_info": {
   "codemirror_mode": {
    "name": "ipython",
    "version": 3
   },
   "file_extension": ".py",
   "mimetype": "text/x-python",
   "name": "python",
   "nbconvert_exporter": "python",
   "pygments_lexer": "ipython3",
   "version": "3.9.13"
  }
 },
 "nbformat": 4,
 "nbformat_minor": 5
}
