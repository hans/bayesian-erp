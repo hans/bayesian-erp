{
 "cells": [
  {
   "cell_type": "code",
   "execution_count": 10,
   "id": "bed601b2-ff01-4e34-99aa-7dc9d37a4efb",
   "metadata": {},
   "outputs": [],
   "source": [
    "import transformers\n",
    "import torch"
   ]
  },
  {
   "cell_type": "code",
   "execution_count": 82,
   "id": "1846d85d-f705-4227-a09d-815cf4050577",
   "metadata": {},
   "outputs": [],
   "source": [
    "# model_ref = \"hf-internal-testing/tiny-xlm-roberta\" # \"xlm-roberta-base\" #  \"gpt2\" # \n",
    "model_ref = \"GroNLP/gpt2-small-dutch\""
   ]
  },
  {
   "cell_type": "code",
   "execution_count": 83,
   "id": "26644020-ce20-461b-a7bc-7782fe92eb93",
   "metadata": {},
   "outputs": [],
   "source": [
    "model = transformers.AutoModelForCausalLM.from_pretrained(model_ref, is_decoder=True)\n",
    "tokenizer = transformers.AutoTokenizer.from_pretrained(model_ref)"
   ]
  },
  {
   "cell_type": "code",
   "execution_count": 90,
   "id": "2b34bc08",
   "metadata": {},
   "outputs": [],
   "source": [
    "# input_str = \"One example of a long word is\"\n",
    "input_str = \"Ik heb\"\n",
    "input_ids = tokenizer(input_str, return_tensors=\"pt\").input_ids"
   ]
  },
  {
   "cell_type": "code",
   "execution_count": 91,
   "id": "f95461b0",
   "metadata": {},
   "outputs": [],
   "source": [
    "# Drop EOS token\n",
    "if input_ids[0, -1] == tokenizer.eos_token_id:\n",
    "    input_ids = input_ids[:, :-1]"
   ]
  },
  {
   "cell_type": "code",
   "execution_count": 92,
   "id": "69a8adef",
   "metadata": {},
   "outputs": [],
   "source": [
    "beam_scorer = transformers.BeamSearchScorer(\n",
    "    batch_size=1,\n",
    "    num_beams=10,\n",
    "    num_beam_hyps_to_keep=10,\n",
    "    device=model.device)"
   ]
  },
  {
   "cell_type": "code",
   "execution_count": 93,
   "id": "2ce0d79a",
   "metadata": {},
   "outputs": [],
   "source": [
    "from transformers import StoppingCriteriaList, MaxLengthCriteria\n",
    "generated = model.beam_search(\n",
    "    torch.cat([input_ids] * beam_scorer.num_beams),\n",
    "    beam_scorer,\n",
    "    stopping_criteria=StoppingCriteriaList([MaxLengthCriteria(max_length=6)])\n",
    ")"
   ]
  },
  {
   "cell_type": "code",
   "execution_count": 100,
   "id": "9550c087",
   "metadata": {},
   "outputs": [],
   "source": [
    "generated = model.generate(input_ids, do_sample=True, temperature=5.0, max_length=6, num_beams=10, num_return_sequences=10)"
   ]
  },
  {
   "cell_type": "code",
   "execution_count": 101,
   "id": "d304482b",
   "metadata": {},
   "outputs": [
    {
     "data": {
      "text/plain": [
       "tensor([[  533,   350,   200,   800,   422,  1283],\n",
       "        [  533,   350,   287,  1480,   228,   200],\n",
       "        [  533,   350,   363,   607,  4462,   462],\n",
       "        [  533,   350,   200,   815,  4894,    14],\n",
       "        [  533,   350,   177,  1308,   244,   360],\n",
       "        [  533,   350,   423,   759,   386,   195],\n",
       "        [  533,   350,   233,   228, 12033,   254],\n",
       "        [  533,   350,   606,   551,   649,  1194],\n",
       "        [  533,   350,   414,   228,  1510,  1659],\n",
       "        [  533,   350,   800,   551,   195,   177]])"
      ]
     },
     "execution_count": 101,
     "metadata": {},
     "output_type": "execute_result"
    }
   ],
   "source": [
    "generated"
   ]
  },
  {
   "cell_type": "code",
   "execution_count": 102,
   "id": "254d43ff",
   "metadata": {},
   "outputs": [
    {
     "data": {
      "text/plain": [
       "['Ik Ġheb Ġhet Ġnooit Ġmeer Ġgezien',\n",
       " 'Ik Ġheb Ġhaar Ġgezegd Ġdat Ġhet',\n",
       " \"Ik Ġheb Ġook Ġiets Ġontdekt ,'\",\n",
       " 'Ik Ġheb Ġhet Ġaltijd Ġgeweten ,',\n",
       " 'Ik Ġheb Ġde Ġauto Ġvoor Ġme',\n",
       " 'Ik Ġheb Ġdaar Ġheel Ġwat Ġvan',\n",
       " 'Ik Ġheb Ġal Ġdat Ġgedoe Ġmet',\n",
       " 'Ik Ġheb Ġhier Ġveel Ġmensen Ġnodig',\n",
       " 'Ik Ġheb Ġwel Ġdat Ġgevoel Ġgehad',\n",
       " 'Ik Ġheb Ġnooit Ġveel Ġvan Ġde']"
      ]
     },
     "execution_count": 102,
     "metadata": {},
     "output_type": "execute_result"
    }
   ],
   "source": [
    "[\" \".join(tokenizer.convert_ids_to_tokens(ids)) for ids in generated]"
   ]
  },
  {
   "cell_type": "code",
   "execution_count": 48,
   "id": "f3a49bbe",
   "metadata": {},
   "outputs": [
    {
     "data": {
      "text/plain": [
       "['<s> One example of a long word is</s></s>',\n",
       " '<s> One example of a long word is</s><s>',\n",
       " '<s> One example of a long word is</s>.']"
      ]
     },
     "execution_count": 48,
     "metadata": {},
     "output_type": "execute_result"
    }
   ],
   "source": [
    "tokenizer.batch_decode(generated)"
   ]
  },
  {
   "cell_type": "code",
   "execution_count": null,
   "id": "c4f67658",
   "metadata": {},
   "outputs": [],
   "source": []
  }
 ],
 "metadata": {
  "kernelspec": {
   "display_name": "Python 3.9.13 ('berp')",
   "language": "python",
   "name": "python3"
  },
  "language_info": {
   "codemirror_mode": {
    "name": "ipython",
    "version": 3
   },
   "file_extension": ".py",
   "mimetype": "text/x-python",
   "name": "python",
   "nbconvert_exporter": "python",
   "pygments_lexer": "ipython3",
   "version": "3.9.13"
  },
  "vscode": {
   "interpreter": {
    "hash": "ad3ae7957b733d35bf078bb149f2f6d2bad023390430cb2ebf73db3aa5db82f7"
   }
  }
 },
 "nbformat": 4,
 "nbformat_minor": 5
}
