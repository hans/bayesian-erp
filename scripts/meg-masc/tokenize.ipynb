{
 "cells": [
  {
   "cell_type": "code",
   "execution_count": 1,
   "id": "fcd63f4a-7054-4581-8871-b45bd895d255",
   "metadata": {},
   "outputs": [],
   "source": [
    "from pathlib import Path\n",
    "import re\n",
    "\n",
    "import transformers"
   ]
  },
  {
   "cell_type": "code",
   "execution_count": 9,
   "id": "1cb9599f-1d6e-416a-9361-7cbd69631ada",
   "metadata": {
    "tags": [
     "parameters"
    ]
   },
   "outputs": [],
   "source": [
    "model = \"distilgpt2\"\n",
    "input_path = \"../../workflow/meg-masc/data/raw-text/lw1.txt\"\n",
    "output_path = \"lw1.tokenized.txt\""
   ]
  },
  {
   "cell_type": "code",
   "execution_count": 10,
   "id": "b72cad8c-2fa7-4253-bd14-9f0627567abe",
   "metadata": {},
   "outputs": [],
   "source": [
    "tokenizer = transformers.AutoTokenizer.from_pretrained(model)"
   ]
  },
  {
   "cell_type": "code",
   "execution_count": 11,
   "id": "1b2ec518-e27b-4bb6-a07f-43e595b5af60",
   "metadata": {},
   "outputs": [],
   "source": [
    "text = Path(input_path).read_text()"
   ]
  },
  {
   "cell_type": "code",
   "execution_count": 12,
   "id": "554f8e51-600c-4460-a7e8-9d88249865d3",
   "metadata": {},
   "outputs": [],
   "source": [
    "encoded = tokenizer(text)\n",
    "tokens = tokenizer.convert_ids_to_tokens(encoded[\"input_ids\"])"
   ]
  },
  {
   "cell_type": "code",
   "execution_count": 14,
   "id": "9286abd3-0025-4cf2-b7c8-9268cc3b300a",
   "metadata": {},
   "outputs": [],
   "source": [
    "with Path(output_path).open(\"w\") as f:\n",
    "    f.write(\" \".join(tokens))"
   ]
  }
 ],
 "metadata": {
  "kernelspec": {
   "display_name": "Python 3 (ipykernel)",
   "language": "python",
   "name": "python3"
  },
  "language_info": {
   "codemirror_mode": {
    "name": "ipython",
    "version": 3
   },
   "file_extension": ".py",
   "mimetype": "text/x-python",
   "name": "python",
   "nbconvert_exporter": "python",
   "pygments_lexer": "ipython3",
   "version": "3.9.13"
  }
 },
 "nbformat": 4,
 "nbformat_minor": 5
}
