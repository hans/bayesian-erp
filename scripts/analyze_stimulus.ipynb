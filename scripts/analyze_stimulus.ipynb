{
 "cells": [
  {
   "cell_type": "code",
   "execution_count": 13,
   "id": "42c25449-ba2b-4940-9527-121ca51e2208",
   "metadata": {},
   "outputs": [],
   "source": [
    "from argparse import ArgumentParser, Namespace\n",
    "from pathlib import Path\n",
    "import pickle\n",
    "import sys\n",
    "\n",
    "import matplotlib.pyplot as plt\n",
    "import pandas as pd\n",
    "import seaborn as sns\n",
    "import torch\n",
    "from tqdm.auto import tqdm, trange"
   ]
  },
  {
   "cell_type": "code",
   "execution_count": 2,
   "id": "3ca1a34f-f462-493f-bad1-f1032b76d7d9",
   "metadata": {},
   "outputs": [],
   "source": [
    "sys.path.append(str(Path(\".\").resolve().parent))"
   ]
  },
  {
   "cell_type": "code",
   "execution_count": 3,
   "id": "cc897f57-0331-4ae0-8ed6-a1e8363c7442",
   "metadata": {},
   "outputs": [
    {
     "data": {
      "text/plain": [
       "True"
      ]
     },
     "execution_count": 3,
     "metadata": {},
     "output_type": "execute_result"
    }
   ],
   "source": [
    "IS_INTERACTIVE = False\n",
    "try:\n",
    "    get_ipython()  # type: ignore\n",
    "except NameError: pass\n",
    "else: IS_INTERACTIVE = True\n",
    "IS_INTERACTIVE"
   ]
  },
  {
   "cell_type": "code",
   "execution_count": 4,
   "id": "e71debb8-880c-4f96-9b6c-8de2fa1c4be3",
   "metadata": {},
   "outputs": [
    {
     "data": {
      "text/plain": [
       "_StoreAction(option_strings=[], dest='natural_language_stimulus_path', nargs=None, const=None, default=None, type=<class 'pathlib.Path'>, choices=None, required=True, help=None, metavar=None)"
      ]
     },
     "execution_count": 4,
     "metadata": {},
     "output_type": "execute_result"
    }
   ],
   "source": [
    "p = ArgumentParser()\n",
    "p.add_argument(\"natural_language_stimulus_path\", type=Path)"
   ]
  },
  {
   "cell_type": "code",
   "execution_count": 5,
   "id": "c23d8ee9-c69b-4229-8bd9-962ee4732c68",
   "metadata": {},
   "outputs": [],
   "source": [
    "if IS_INTERACTIVE:\n",
    "    args = Namespace(natural_language_stimulus_path=Path(\"gillis2021/DKZ_1.pkl\"))\n",
    "else:\n",
    "    args = p.parse_args()"
   ]
  },
  {
   "cell_type": "markdown",
   "id": "d01b8146-1f05-415e-9af8-4275f4737c96",
   "metadata": {},
   "source": [
    "---"
   ]
  },
  {
   "cell_type": "code",
   "execution_count": 6,
   "id": "7d79d209-12f6-43aa-8504-1a6112d9c8bd",
   "metadata": {},
   "outputs": [],
   "source": [
    "with args.natural_language_stimulus_path.open(\"rb\") as f:\n",
    "    stim = pickle.load(f)"
   ]
  },
  {
   "cell_type": "code",
   "execution_count": 7,
   "id": "3569fc14-e343-4e74-97fc-713ce9e548af",
   "metadata": {},
   "outputs": [
    {
     "name": "stdout",
     "output_type": "stream",
     "text": [
      "Num words: 2187\n",
      "Num candidates: 1000\n"
     ]
    }
   ],
   "source": [
    "print(\"Num words:\", len(stim.word_lengths))\n",
    "print(\"Num candidates:\", stim.p_word.shape[-1])"
   ]
  },
  {
   "cell_type": "code",
   "execution_count": 8,
   "id": "2bad6097-b71d-4f8d-b844-af74b84c736a",
   "metadata": {},
   "outputs": [
    {
     "data": {
      "text/plain": [
       "Text(0.5, 0, 'Ground-truth word probability')"
      ]
     },
     "execution_count": 8,
     "metadata": {},
     "output_type": "execute_result"
    },
    {
     "data": {
      "image/png": "[encoded data removed]",
      "text/plain": [
       "<Figure size 720x576 with 1 Axes>"
      ]
     },
     "metadata": {
      "needs_background": "light"
     },
     "output_type": "display_data"
    }
   ],
   "source": [
    "gt_word_probs = stim.p_word[:, 0].numpy()\n",
    "\n",
    "plt.subplots(figsize=(10, 8))\n",
    "sns.histplot(gt_word_probs)\n",
    "plt.xlabel(\"Ground-truth word probability\")"
   ]
  },
  {
   "cell_type": "code",
   "execution_count": 9,
   "id": "d3444bc2-19c4-43be-80b8-0a91fee060b1",
   "metadata": {},
   "outputs": [],
   "source": [
    "candidate_lengths = (stim.candidate_phonemes != stim.pad_phoneme_id).sum(dim=2)\n",
    "gt_lengths, candidate_lengths = candidate_lengths[:, 0], candidate_lengths[:, 1:]\n",
    "candidate_mean_lengths = candidate_lengths.float().mean(dim=1)"
   ]
  },
  {
   "cell_type": "code",
   "execution_count": 10,
   "id": "da389c27-496d-4f2c-8c58-8b0ab15e3427",
   "metadata": {},
   "outputs": [
    {
     "data": {
      "text/plain": [
       "<AxesSubplot:title={'center':'Candidate lengths (in phonemes)'}, ylabel='Count'>"
      ]
     },
     "execution_count": 10,
     "metadata": {},
     "output_type": "execute_result"
    },
    {
     "data": {
      "image/png": "[encoded data removed]",
      "text/plain": [
       "<Figure size 1080x576 with 2 Axes>"
      ]
     },
     "metadata": {
      "needs_background": "light"
     },
     "output_type": "display_data"
    }
   ],
   "source": [
    "_, (ax1, ax2) = plt.subplots(1, 2, figsize=(15, 8))\n",
    "ax1.set_title(\"Ground-truth word lengths (in phonemes)\")\n",
    "ax2.set_title(\"Candidate lengths (in phonemes)\")\n",
    "\n",
    "sns.histplot(gt_lengths.numpy(), ax=ax1)\n",
    "sns.histplot(candidate_lengths.flatten().numpy(), ax=ax2)"
   ]
  },
  {
   "cell_type": "code",
   "execution_count": 12,
   "id": "6bf4f201-e9dc-45cd-af5e-66218bca0525",
   "metadata": {},
   "outputs": [
    {
     "data": {
      "text/plain": [
       "torch.Size([2187, 999, 16])"
      ]
     },
     "execution_count": 12,
     "metadata": {},
     "output_type": "execute_result"
    }
   ],
   "source": [
    "stim.candidate_phonemes[:, 1:].shape"
   ]
  },
  {
   "cell_type": "code",
   "execution_count": 15,
   "id": "1b6302ee-b665-4337-9c3c-72f0f6cfb49b",
   "metadata": {},
   "outputs": [
    {
     "data": {
      "application/vnd.jupyter.widget-view+json": {
       "model_id": "010ba31e7e014433b868c00daa722eb3",
       "version_major": 2,
       "version_minor": 0
      },
      "text/plain": [
       "  0%|          | 0/10 [00:00<?, ?it/s]"
      ]
     },
     "metadata": {},
     "output_type": "display_data"
    },
    {
     "data": {
      "text/plain": [
       "<AxesSubplot:title={'center':'Fraction of candidates which are incremental cohort competitors, by phoneme position'}, xlabel='phoneme', ylabel='is_competitor'>"
      ]
     },
     "execution_count": 15,
     "metadata": {},
     "output_type": "execute_result"
    },
    {
     "data": {
      "image/png": "[encoded data removed]",
      "text/plain": [
       "<Figure size 432x288 with 1 Axes>"
      ]
     },
     "metadata": {
      "needs_background": "light"
     },
     "output_type": "display_data"
    }
   ],
   "source": [
    "# For each candidate, is it a cohort competitor with ground truth?\n",
    "# Compute this in batches because it's expensive\n",
    "max_num_phonemes = stim.candidate_phonemes.shape[2]\n",
    "is_cohort_competitor = []\n",
    "batch_size = 256\n",
    "for i in trange(0, stim.candidate_phonemes.shape[0] + batch_size, batch_size):\n",
    "    batch = stim.candidate_phonemes[i:i+batch_size]\n",
    "    if len(batch) == 0:\n",
    "        break\n",
    "        \n",
    "    is_cohort_competitor.append(\n",
    "        (batch[:, 1:] == batch[:, :1]).cumsum(dim=2) == torch.arange(1, max_num_phonemes + 1))\n",
    "is_cohort_competitor = torch.concat(is_cohort_competitor, dim=0)\n",
    "\n",
    "plt.title(\"Fraction of candidates which are incremental cohort competitors, by phoneme position\")\n",
    "sns.lineplot(data=pd.DataFrame(is_cohort_competitor.reshape(-1, max_num_phonemes).numpy()).melt(var_name=\"phoneme\", value_name=\"is_competitor\"),\n",
    "             x=\"phoneme\", y=\"is_competitor\", ci=None)"
   ]
  },
  {
   "cell_type": "code",
   "execution_count": null,
   "id": "aee5c0ed-32e8-4ea4-bbbb-3a922c457d49",
   "metadata": {},
   "outputs": [],
   "source": []
  },
  {
   "cell_type": "code",
   "execution_count": 16,
   "id": "862d3553-5898-4a8d-9f14-8bc23e059426",
   "metadata": {},
   "outputs": [
    {
     "name": "stdout",
     "output_type": "stream",
     "text": [
      "Percentage of words which have a candidate which is a cohort competitor for at least one phoneme: 78.37219834327698\n"
     ]
    }
   ],
   "source": [
    "print(\"Percentage of words which have a candidate which is a cohort competitor for at least one phoneme:\",\n",
    "      is_cohort_competitor.any(dim=2).any(dim=1).float().mean().item() * 100)"
   ]
  },
  {
   "cell_type": "code",
   "execution_count": 17,
   "id": "17e35dbf-83e7-4038-9e08-8cd344e84b35",
   "metadata": {},
   "outputs": [
    {
     "name": "stdout",
     "output_type": "stream",
     "text": [
      "Percentage of words which have a candidate which is a cohort competitor at phoneme X:\n",
      "             0\n",
      "0   78.372200\n",
      "1   73.845451\n",
      "2   58.024693\n",
      "3   49.931412\n",
      "4   46.822132\n",
      "5   45.770462\n",
      "6   45.541840\n",
      "7   45.313217\n",
      "8   45.313217\n",
      "9   45.313217\n",
      "10  45.313217\n",
      "11  45.313217\n",
      "12  45.313217\n",
      "13  45.313217\n",
      "14  45.313217\n",
      "15  45.313217\n"
     ]
    }
   ],
   "source": [
    "print(\"Percentage of words which have a candidate which is a cohort competitor at phoneme X:\\n\",\n",
    "      pd.DataFrame(is_cohort_competitor.any(dim=1).float().mean(dim=0).numpy() * 100))"
   ]
  },
  {
   "cell_type": "code",
   "execution_count": 47,
   "id": "485b84bf-0ee5-4a96-9849-10f8a5cf4e74",
   "metadata": {},
   "outputs": [
    {
     "name": "stdout",
     "output_type": "stream",
     "text": [
      "Median candidate/ground-truth probability ratio for candidates which share ground truth's cohort: 0.005925567355006933\n"
     ]
    },
    {
     "data": {
      "text/plain": [
       "<AxesSubplot:>"
      ]
     },
     "execution_count": 47,
     "metadata": {},
     "output_type": "execute_result"
    },
    {
     "data": {
      "image/png": "[encoded data removed]",
      "text/plain": [
       "<Figure size 432x288 with 1 Axes>"
      ]
     },
     "metadata": {
      "needs_background": "light"
     },
     "output_type": "display_data"
    }
   ],
   "source": [
    "candidate_competitors = is_cohort_competitor.any(dim=2)\n",
    "gt_probability_ratios = stim.p_word[:, 1:].exp() / stim.p_word[:, :1].exp()\n",
    "\n",
    "print(\"Median candidate/ground-truth probability ratio for candidates which share ground truth's cohort:\", \n",
    "      gt_probability_ratios[candidate_competitors].median().item())\n",
    "sns.boxplot(data=gt_probability_ratios[candidate_competitors].numpy())"
   ]
  }
 ],
 "metadata": {
  "kernelspec": {
   "display_name": "Python 3 (ipykernel)",
   "language": "python",
   "name": "python3"
  },
  "language_info": {
   "codemirror_mode": {
    "name": "ipython",
    "version": 3
   },
   "file_extension": ".py",
   "mimetype": "text/x-python",
   "name": "python",
   "nbconvert_exporter": "python",
   "pygments_lexer": "ipython3",
   "version": "3.9.13"
  }
 },
 "nbformat": 4,
 "nbformat_minor": 5
}
