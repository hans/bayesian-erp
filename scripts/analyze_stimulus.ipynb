{
 "cells": [
  {
   "cell_type": "code",
   "execution_count": 1,
   "id": "42c25449-ba2b-4940-9527-121ca51e2208",
   "metadata": {},
   "outputs": [],
   "source": [
    "from argparse import ArgumentParser, Namespace\n",
    "from pathlib import Path\n",
    "import pickle\n",
    "import sys\n",
    "\n",
    "import matplotlib.pyplot as plt\n",
    "import numpy as np\n",
    "import pandas as pd\n",
    "import seaborn as sns\n",
    "import torch\n",
    "from tqdm.auto import tqdm, trange"
   ]
  },
  {
   "cell_type": "code",
   "execution_count": 2,
   "id": "0db7fd72-bf5e-47e7-8d0a-5487ffabf9e7",
   "metadata": {},
   "outputs": [],
   "source": [
    "%load_ext autoreload\n",
    "%autoreload 2"
   ]
  },
  {
   "cell_type": "code",
   "execution_count": 3,
   "id": "3ca1a34f-f462-493f-bad1-f1032b76d7d9",
   "metadata": {},
   "outputs": [],
   "source": [
    "sys.path.append(str(Path(\".\").resolve().parent))"
   ]
  },
  {
   "cell_type": "code",
   "execution_count": 4,
   "id": "e71debb8-880c-4f96-9b6c-8de2fa1c4be3",
   "metadata": {
    "tags": [
     "parameters"
    ]
   },
   "outputs": [],
   "source": [
    "natural_language_stimulus_path = \"heilbron2022/old-man-and-the-sea/run1.pkl\""
   ]
  },
  {
   "cell_type": "markdown",
   "id": "d01b8146-1f05-415e-9af8-4275f4737c96",
   "metadata": {},
   "source": [
    "---"
   ]
  },
  {
   "cell_type": "code",
   "execution_count": 5,
   "id": "7d79d209-12f6-43aa-8504-1a6112d9c8bd",
   "metadata": {},
   "outputs": [],
   "source": [
    "with Path(natural_language_stimulus_path).open(\"rb\") as f:\n",
    "    stim = pickle.load(f)"
   ]
  },
  {
   "cell_type": "code",
   "execution_count": 6,
   "id": "3569fc14-e343-4e74-97fc-713ce9e548af",
   "metadata": {},
   "outputs": [
    {
     "name": "stdout",
     "output_type": "stream",
     "text": [
      "Num words: 557\n",
      "Num candidates: 1000\n"
     ]
    }
   ],
   "source": [
    "print(\"Num words:\", len(stim.word_lengths))\n",
    "print(\"Num candidates:\", stim.p_candidates.shape[-1])"
   ]
  },
  {
   "cell_type": "code",
   "execution_count": 7,
   "id": "2bad6097-b71d-4f8d-b844-af74b84c736a",
   "metadata": {},
   "outputs": [
    {
     "data": {
      "text/plain": [
       "Text(0.5, 0, 'Ground-truth word log-probability')"
      ]
     },
     "execution_count": 7,
     "metadata": {},
     "output_type": "execute_result"
    },
    {
     "data": {
      "image/png": "[encoded data removed]",
      "text/plain": [
       "<Figure size 720x576 with 1 Axes>"
      ]
     },
     "metadata": {
      "needs_background": "light"
     },
     "output_type": "display_data"
    }
   ],
   "source": [
    "gt_word_probs = stim.p_candidates[:, 0].numpy()\n",
    "\n",
    "plt.subplots(figsize=(10, 8))\n",
    "sns.histplot(gt_word_probs)\n",
    "plt.xlabel(\"Ground-truth word log-probability\")"
   ]
  },
  {
   "cell_type": "code",
   "execution_count": 8,
   "id": "d9f3d5f2-e228-40f3-acb5-e85a962562ed",
   "metadata": {},
   "outputs": [],
   "source": [
    "candidate_phonemes = stim.candidate_phonemes"
   ]
  },
  {
   "cell_type": "code",
   "execution_count": 9,
   "id": "d3444bc2-19c4-43be-80b8-0a91fee060b1",
   "metadata": {},
   "outputs": [],
   "source": [
    "candidate_lengths = (candidate_phonemes != stim.pad_phoneme_id).sum(dim=2)\n",
    "gt_lengths, candidate_lengths = candidate_lengths[:, 0], candidate_lengths[:, 1:]\n",
    "candidate_mean_lengths = candidate_lengths.float().mean(dim=1)"
   ]
  },
  {
   "cell_type": "code",
   "execution_count": 11,
   "id": "da389c27-496d-4f2c-8c58-8b0ab15e3427",
   "metadata": {},
   "outputs": [
    {
     "data": {
      "text/plain": [
       "<AxesSubplot:title={'center':'Candidate lengths (in phonemes)'}, ylabel='Count'>"
      ]
     },
     "execution_count": 11,
     "metadata": {},
     "output_type": "execute_result"
    },
    {
     "data": {
      "image/png": "[encoded data removed]",
      "text/plain": [
       "<Figure size 1080x576 with 2 Axes>"
      ]
     },
     "metadata": {
      "needs_background": "light"
     },
     "output_type": "display_data"
    }
   ],
   "source": [
    "_, (ax1, ax2) = plt.subplots(1, 2, figsize=(15, 8))\n",
    "ax1.set_title(\"Ground-truth word lengths (in phonemes)\")\n",
    "ax2.set_title(\"Candidate lengths (in phonemes)\")\n",
    "\n",
    "max_length = max(candidate_lengths.max(), gt_lengths.max())\n",
    "sns.histplot(gt_lengths.numpy(), bins=np.arange(max_length), ax=ax1)\n",
    "sns.histplot(candidate_lengths.flatten().numpy(), bins=np.arange(max_length), ax=ax2)"
   ]
  },
  {
   "cell_type": "code",
   "execution_count": 12,
   "id": "1b6302ee-b665-4337-9c3c-72f0f6cfb49b",
   "metadata": {},
   "outputs": [
    {
     "data": {
      "application/vnd.jupyter.widget-view+json": {
       "model_id": "7039ee4584184c53a1efc67a5c95fc80",
       "version_major": 2,
       "version_minor": 0
      },
      "text/plain": [
       "  0%|          | 0/4 [00:00<?, ?it/s]"
      ]
     },
     "metadata": {},
     "output_type": "display_data"
    }
   ],
   "source": [
    "# For each candidate, is it a cohort competitor with ground truth?\n",
    "# Compute this in batches because it's expensive\n",
    "max_num_phonemes = candidate_phonemes.shape[2]\n",
    "is_cohort_competitor = []\n",
    "batch_size = 256\n",
    "for i in trange(0, candidate_phonemes.shape[0] + batch_size, batch_size):\n",
    "    batch = candidate_phonemes[i:i+batch_size]\n",
    "    if len(batch) == 0:\n",
    "        break\n",
    "        \n",
    "    is_cohort_competitor.append(\n",
    "        (batch[:, 1:] == batch[:, :1]).cumsum(dim=2) == torch.arange(1, max_num_phonemes + 1))\n",
    "is_cohort_competitor = torch.concat(is_cohort_competitor, dim=0)"
   ]
  },
  {
   "cell_type": "code",
   "execution_count": 14,
   "id": "f3efaa2b-3acc-4d04-b73e-a9bb6ee3a3b7",
   "metadata": {},
   "outputs": [],
   "source": [
    "# plt.title(\"Fraction of candidates which are incremental cohort competitors, by phoneme position\")\n",
    "# sns.lineplot(data=pd.DataFrame(is_cohort_competitor.reshape(-1, max_num_phonemes).numpy()).melt(var_name=\"phoneme\", value_name=\"is_competitor\"),\n",
    "#              x=\"phoneme\", y=\"is_competitor\", ci=None)"
   ]
  },
  {
   "cell_type": "code",
   "execution_count": 13,
   "id": "862d3553-5898-4a8d-9f14-8bc23e059426",
   "metadata": {},
   "outputs": [
    {
     "name": "stdout",
     "output_type": "stream",
     "text": [
      "Percentage of words which have a candidate which is a cohort competitor for at least one phoneme: 100.0\n"
     ]
    }
   ],
   "source": [
    "print(\"Percentage of words which have a candidate which is a cohort competitor for at least one phoneme:\",\n",
    "      is_cohort_competitor.any(dim=2).any(dim=1).float().mean().item() * 100)"
   ]
  },
  {
   "cell_type": "code",
   "execution_count": 14,
   "id": "17e35dbf-83e7-4038-9e08-8cd344e84b35",
   "metadata": {},
   "outputs": [
    {
     "name": "stdout",
     "output_type": "stream",
     "text": [
      "Percentage of words which have a candidate which is a cohort competitor at phoneme X:\n",
      "             0\n",
      "0  100.000000\n",
      "1   88.150803\n",
      "2   58.168762\n",
      "3   42.369839\n",
      "4   39.497307\n",
      "5   38.599640\n",
      "6   38.240578\n",
      "7   38.240578\n",
      "8   38.240578\n",
      "9   38.240578\n"
     ]
    }
   ],
   "source": [
    "print(\"Percentage of words which have a candidate which is a cohort competitor at phoneme X:\\n\",\n",
    "      pd.DataFrame(is_cohort_competitor.any(dim=1).float().mean(dim=0).numpy() * 100))"
   ]
  },
  {
   "cell_type": "code",
   "execution_count": 42,
   "id": "485b84bf-0ee5-4a96-9849-10f8a5cf4e74",
   "metadata": {},
   "outputs": [
    {
     "name": "stdout",
     "output_type": "stream",
     "text": [
      "Median candidate/ground-truth probability ratio for candidates which share ground truth's cohort: 0.006728775799274445\n",
      "Max candidate/ground-truth probability ratio for candidates which share ground truth's cohort: 0.7360947132110596\n"
     ]
    },
    {
     "data": {
      "text/plain": [
       "Text(0.5, 1.0, 'max ratio')"
      ]
     },
     "execution_count": 42,
     "metadata": {},
     "output_type": "execute_result"
    },
    {
     "data": {
      "image/png": "[encoded data removed]",
      "text/plain": [
       "<Figure size 1440x720 with 2 Axes>"
      ]
     },
     "metadata": {
      "needs_background": "light"
     },
     "output_type": "display_data"
    }
   ],
   "source": [
    "candidate_competitors = is_cohort_competitor.any(dim=2)\n",
    "gt_probability_ratios = stim.p_candidates[:, 1:].exp() / stim.p_candidates[:, :1].exp()\n",
    "\n",
    "# Compute median first across each prior distribution\n",
    "gt_probability_ratios[~candidate_competitors] = np.nan\n",
    "median_gt_probability_ratio, _ = torch.nanmedian(gt_probability_ratios, axis=1)\n",
    "gt_probability_ratios_formax = gt_probability_ratios[:]\n",
    "gt_probability_ratios_formax[gt_probability_ratios_formax.isnan()] = 0.\n",
    "max_gt_probability_ratio, _ = gt_probability_ratios_formax.max(axis=1)\n",
    "\n",
    "print(\"Median candidate/ground-truth probability ratio for candidates which share ground truth's cohort:\", \n",
    "      median_gt_probability_ratio.median().item())\n",
    "print(\"Max candidate/ground-truth probability ratio for candidates which share ground truth's cohort:\",\n",
    "      max_gt_probability_ratio.median().item())\n",
    "\n",
    "f, axs = plt.subplots(1, 2, figsize=(20, 10))\n",
    "sns.boxplot(data=median_gt_probability_ratio.numpy(), ax=axs[0])\n",
    "axs[0].set_title(\"median ratio\")\n",
    "sns.boxplot(data=max_gt_probability_ratio.numpy(), ax=axs[1])\n",
    "axs[1].set_title(\"max ratio\")"
   ]
  },
  {
   "cell_type": "code",
   "execution_count": 16,
   "id": "f143928f-713a-4838-b11d-3cdfcac38d09",
   "metadata": {},
   "outputs": [],
   "source": [
    "def visualize_candidates(word_idx):\n",
    "    all_cands = stim.get_candidate_strs(word_idx)\n",
    "    competitor_mask = [np.inf] + is_cohort_competitor[word_idx].sum(dim=1).tolist()\n",
    "    return sorted([(count, cand) for cand, count in zip(all_cands, competitor_mask) if count > 0], reverse=True)"
   ]
  },
  {
   "cell_type": "code",
   "execution_count": 17,
   "id": "d7e7e640-4f0a-45f6-bce1-0a9ab727e8e4",
   "metadata": {},
   "outputs": [
    {
     "data": {
      "text/plain": [
       "[(inf, ('w', 'ʌ', 'z')),\n",
       " (10, ('w', 'ʌ', 'z')),\n",
       " (10, ('w', 'ʌ', 'z')),\n",
       " (2, ('w', 'ʌ', 't')),\n",
       " (2, ('w', 'ʌ', 't')),\n",
       " (2, ('w', 'ʌ', 'n', 's')),\n",
       " (2, ('w', 'ʌ', 'n')),\n",
       " (2, ('w', 'ʌ', 'n')),\n",
       " (2, ('w', 'ʌ', 'n')),\n",
       " (1, ('w', 'ʊ', 'd')),\n",
       " (1, ('w', 'ʊ', 'd')),\n",
       " (1, ('w', 'ʊ', 'd')),\n",
       " (1, ('w', 'ɪ', 'θ', 'aʊ', 't')),\n",
       " (1, ('w', 'ɪ', 'ð')),\n",
       " (1, ('w', 'ɪ', 'ð')),\n",
       " (1, ('w', 'ɪ', 'ð')),\n",
       " (1, ('w', 'ɪ', 'ð')),\n",
       " (1, ('w', 'ɪ', 'tʃ')),\n",
       " (1, ('w', 'ɪ', 'tʃ')),\n",
       " (1, ('w', 'ɪ', 'tʃ')),\n",
       " (1, ('w', 'ɪ', 'n', 'd', 'oʊ', 'z')),\n",
       " (1, ('w', 'ɪ', 'n')),\n",
       " (1, ('w', 'ɪ', 'l')),\n",
       " (1, ('w', 'ɪ', 'l')),\n",
       " (1, ('w', 'ɛɪ')),\n",
       " (1, ('w', 'ɛ', 'ɹ')),\n",
       " (1, ('w', 'ɛ', 'ð', 'ɚ')),\n",
       " (1, ('w', 'ɛ', 's', 't')),\n",
       " (1, ('w', 'ɛ', 'n')),\n",
       " (1, ('w', 'ɛ', 'n')),\n",
       " (1, ('w', 'ɛ', 'l', 'k', 'ʌ', 'm')),\n",
       " (1, ('w', 'ɛ', 'l')),\n",
       " (1, ('w', 'ɛ', 'b')),\n",
       " (1, ('w', 'ɚ', 'l', 'd')),\n",
       " (1, ('w', 'ɚ', 'k')),\n",
       " (1, ('w', 'ɚ')),\n",
       " (1, ('w', 'ɚ')),\n",
       " (1, ('w', 'ɔ', 'ɹ')),\n",
       " (1, ('w', 'ɔ', 't', 'ɚ')),\n",
       " (1, ('w', 'ɑ', 'ʃ', 'ɪ', 'ŋ', 't', 'ʌ', 'n')),\n",
       " (1, ('w', 'ɑ', 'tʃ')),\n",
       " (1, ('w', 'w', 'w')),\n",
       " (1, ('w', 'i')),\n",
       " (1, ('w', 'i')),\n",
       " (1, ('w', 'i')),\n",
       " (1, ('w', 'i')),\n",
       " (1, ('w', 'i')),\n",
       " (1, ('w', 'h')),\n",
       " (1, ('w', 'aʊ')),\n",
       " (1, ('w', 'aɪ', 't')),\n",
       " (1, ('w', 'aɪ', 'l')),\n",
       " (1, ('w', 'aɪ', 'l')),\n",
       " (1, ('w', 'aɪ')),\n",
       " (1, ('w', 'aɪ')),\n",
       " (1, ('w', 'aɪ'))]"
      ]
     },
     "execution_count": 17,
     "metadata": {},
     "output_type": "execute_result"
    }
   ],
   "source": [
    "visualize_candidates(0)"
   ]
  },
  {
   "cell_type": "code",
   "execution_count": 20,
   "id": "7d4061d6-5fda-442f-aa3d-601e3be1bddc",
   "metadata": {},
   "outputs": [
    {
     "data": {
      "text/plain": [
       "tensor([22,  6, 39, 39, 39, 39, 39, 39, 39, 39])"
      ]
     },
     "execution_count": 20,
     "metadata": {},
     "output_type": "execute_result"
    }
   ],
   "source": [
    "candidate_phonemes[1, 0]"
   ]
  },
  {
   "cell_type": "code",
   "execution_count": 21,
   "id": "bc04333a-aa9b-4df0-9fa7-2321d0519c20",
   "metadata": {},
   "outputs": [
    {
     "data": {
      "text/plain": [
       "[(inf, ('ɪ', 'n')),\n",
       " (10, ('ɪ', 'n')),\n",
       " (10, ('ɪ', 'n')),\n",
       " (10, ('ɪ', 'n')),\n",
       " (2, ('ɪ', 'n', 't', 'u')),\n",
       " (2, ('ɪ', 'n', 's', 't', 'ɛ', 'd')),\n",
       " (1, ('ɪ', 'ʃ')),\n",
       " (1, ('ɪ', 'ɹ', 'i')),\n",
       " (1, ('ɪ', 'ŋ')),\n",
       " (1, ('ɪ', 'z')),\n",
       " (1, ('ɪ', 't')),\n",
       " (1, ('ɪ', 't')),\n",
       " (1, ('ɪ', 'f')),\n",
       " (1, ('ɪ', 'd'))]"
      ]
     },
     "execution_count": 21,
     "metadata": {},
     "output_type": "execute_result"
    }
   ],
   "source": [
    "visualize_candidates(10)"
   ]
  },
  {
   "cell_type": "code",
   "execution_count": null,
   "id": "dc7871a2-2e70-4aee-86f4-a262bd881d1f",
   "metadata": {},
   "outputs": [],
   "source": []
  }
 ],
 "metadata": {
  "kernelspec": {
   "display_name": "Python 3 (ipykernel)",
   "language": "python",
   "name": "python3"
  },
  "language_info": {
   "codemirror_mode": {
    "name": "ipython",
    "version": 3
   },
   "file_extension": ".py",
   "mimetype": "text/x-python",
   "name": "python",
   "nbconvert_exporter": "python",
   "pygments_lexer": "ipython3",
   "version": "3.9.13"
  }
 },
 "nbformat": 4,
 "nbformat_minor": 5
}
