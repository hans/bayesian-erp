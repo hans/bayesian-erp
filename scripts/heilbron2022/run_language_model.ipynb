{
 "cells": [
  {
   "cell_type": "markdown",
   "id": "e1d272cc-7ee6-4a76-98fc-87630ee186e2",
   "metadata": {},
   "source": [
    "The code here is good enough to support a vanilla run, but not checked closely enough to support a good Berp run. Things we need to work out:\n",
    "\n",
    "1. mismatches between IPA transcription in CMUdict and IPA transcription in Heilbron (collected in middle of this notebook)\n",
    "2. some clear mistakes (??) in CMUPhonemizer, see phonemization of \"first\" as /twɛntifɚst/\n",
    "3. we should do a final check that, for all words in the annotated Heilbron, their annotated pronunciations match those in cmudict"
   ]
  },
  {
   "cell_type": "code",
   "execution_count": 1,
   "id": "d0b0bb86-ac22-42dc-857d-05c0543fb1b7",
   "metadata": {},
   "outputs": [],
   "source": [
    "from collections import Counter\n",
    "from pathlib import Path\n",
    "import pickle\n",
    "import sys\n",
    "from typing import List\n",
    "\n",
    "import numpy as np\n",
    "import pandas as pd\n",
    "import torch\n",
    "from tqdm.auto import tqdm\n",
    "\n",
    "%load_ext autoreload\n",
    "%autoreload 2\n",
    "sys.path.append(str(Path(\".\").resolve().parent.parent))\n",
    "from berp.datasets import NaturalLanguageStimulusProcessor\n",
    "from berp.languages import english"
   ]
  },
  {
   "cell_type": "code",
   "execution_count": 2,
   "id": "0a4fb149-26b5-4d16-989e-4989f35cc353",
   "metadata": {
    "tags": [
     "parameters"
    ]
   },
   "outputs": [],
   "source": [
    "tokenized_path = \"oms.txt\"\n",
    "aligned_words_path = \"word.csv\"\n",
    "aligned_phonemes_path = \"phoneme.csv\"\n",
    "story_name = \"old-man-and-the-sea\"\n",
    "\n",
    "cmu_ipa_dict_path = \"../../cmudict-0.7b-ipa.txt\"\n",
    "vocab_path = \"../../workflow/heilbron2022/data/frequency/subtlexus2.csv\"\n",
    "\n",
    "output_dir = \"old-man-and-the-sea\"\n",
    "\n",
    "model = \"distilgpt2\"\n",
    "n_candidates = 10"
   ]
  },
  {
   "cell_type": "code",
   "execution_count": 3,
   "id": "399b9d36-6404-4c88-855a-12bc43760f23",
   "metadata": {},
   "outputs": [],
   "source": [
    "Path(output_dir).mkdir(exist_ok=True)"
   ]
  },
  {
   "cell_type": "markdown",
   "id": "022bd384-11b6-4224-97fd-6b195e7afe3f",
   "metadata": {},
   "source": [
    "## Prepare tokenized data and aligned data"
   ]
  },
  {
   "cell_type": "code",
   "execution_count": 4,
   "id": "15ebaaa8-6f90-46c4-af17-2a38a5496f41",
   "metadata": {},
   "outputs": [],
   "source": [
    "tokens = Path(tokenized_path).read_text().split(\" \")"
   ]
  },
  {
   "cell_type": "code",
   "execution_count": 5,
   "id": "507510e8-913b-4c86-835a-04e13b147f3c",
   "metadata": {},
   "outputs": [],
   "source": [
    "words_df = pd.read_csv(aligned_words_path, index_col=[0, 1])\n",
    "phonemes_df = pd.read_csv(aligned_phonemes_path, index_col=[0, 1])"
   ]
  },
  {
   "cell_type": "code",
   "execution_count": 6,
   "id": "815b8f20-fa3f-4222-9d38-c7e8f4584b34",
   "metadata": {},
   "outputs": [
    {
     "data": {
      "text/plain": [
       "ʌ     3630\n",
       "t     2377\n",
       "n     2369\n",
       "d     1958\n",
       "ɪ     1832\n",
       "ð     1530\n",
       "l     1388\n",
       "i     1342\n",
       "s     1270\n",
       "ɹ     1140\n",
       "h     1015\n",
       "m      962\n",
       "ɛ      948\n",
       "z      935\n",
       "k      931\n",
       "w      926\n",
       "ɚ      762\n",
       "b      717\n",
       "æ      715\n",
       "f      697\n",
       "aɪ     609\n",
       "oʊ     596\n",
       "ɛɪ     526\n",
       "ɔ      506\n",
       "v      498\n",
       "ɑ      493\n",
       "p      440\n",
       "ŋ      388\n",
       "u      368\n",
       "g      292\n",
       "ʃ      287\n",
       "aʊ     263\n",
       "ʊ      232\n",
       "θ      204\n",
       "j      171\n",
       "ɔɪ     117\n",
       "tʃ     116\n",
       "dʒ      79\n",
       "ɝ        2\n",
       "ʒ        2\n",
       "Name: phoneme, dtype: int64"
      ]
     },
     "execution_count": 6,
     "metadata": {},
     "output_type": "execute_result"
    }
   ],
   "source": [
    "phonemes_df.phoneme.value_counts()"
   ]
  },
  {
   "cell_type": "code",
   "execution_count": 7,
   "id": "8e4fdbc6-ba66-4ede-af0a-1f387388b752",
   "metadata": {},
   "outputs": [
    {
     "data": {
      "text/plain": [
       "{'ɝ'}"
      ]
     },
     "execution_count": 7,
     "metadata": {},
     "output_type": "execute_result"
    }
   ],
   "source": [
    "set(phonemes_df.phoneme) - english.ipa_chars"
   ]
  },
  {
   "cell_type": "markdown",
   "id": "95b61d26-325b-4cd6-85cc-2c9e266d6fbf",
   "metadata": {},
   "source": [
    "## Prepare frequency data"
   ]
  },
  {
   "cell_type": "code",
   "execution_count": 8,
   "id": "7fb29b52-c74f-4991-bd46-c63c3878ea17",
   "metadata": {},
   "outputs": [],
   "source": [
    "frequency_df = pd.read_csv(vocab_path, sep=\"\\t\")\n",
    "\n",
    "frequency_df[\"Word\"] = frequency_df.Word.str.lower()\n",
    "assert frequency_df.Word.value_counts().max() == 1\n",
    "\n",
    "frequency_df[\"log_freq\"] = -np.log2(frequency_df.FREQcount / frequency_df.FREQcount.sum())"
   ]
  },
  {
   "cell_type": "code",
   "execution_count": 9,
   "id": "7afcba48-1626-48bb-8ec5-a957912e57e5",
   "metadata": {},
   "outputs": [],
   "source": [
    "words_df[\"word_lower\"] = words_df.word.str.lower()\n",
    "old_size = len(words_df)\n",
    "words_df = pd.merge(words_df.reset_index(), frequency_df[[\"Word\", \"log_freq\"]], left_on=\"word_lower\", right_on=\"Word\",\n",
    "                    how=\"left\")\n",
    "assert len(words_df) == old_size"
   ]
  },
  {
   "cell_type": "code",
   "execution_count": 10,
   "id": "b7a47c54-ff00-43e2-be6a-7a6f8646cc25",
   "metadata": {},
   "outputs": [
    {
     "name": "stdout",
     "output_type": "stream",
     "text": [
      "244 (0.021%) words missing frequency values.\n",
      "Replacing with 2-percentile log-frequency: 25.56731019333269\n"
     ]
    }
   ],
   "source": [
    "# Put words with missing frequency in the lowest 2 percentile.\n",
    "missing_freq = words_df.log_freq.isna()\n",
    "print(f\"{missing_freq.sum()} ({int(missing_freq.mean() * 1000) / 1000}%) words missing frequency values.\")\n",
    "oov_freq = pd.qcut(words_df.log_freq, 50, retbins=True, duplicates=\"drop\")[1][-1]\n",
    "print(f\"Replacing with 2-percentile log-frequency: {oov_freq}\")\n",
    "words_df.loc[missing_freq, \"log_freq\"] = oov_freq"
   ]
  },
  {
   "cell_type": "markdown",
   "id": "fd3fa639-4133-445b-b16e-6afe9dc24835",
   "metadata": {},
   "source": [
    "---"
   ]
  },
  {
   "cell_type": "code",
   "execution_count": 11,
   "id": "83f6ccb8-4cd8-4625-a35e-1c0aae5960f0",
   "metadata": {},
   "outputs": [],
   "source": [
    "cmu_phonemizer = english.CMUPhonemizer(cmu_ipa_dict_path)\n",
    "ipa_chars = set(char for word in cmu_phonemizer.mapping.values() for char in word)"
   ]
  },
  {
   "cell_type": "code",
   "execution_count": 12,
   "id": "6da50b0e-979c-40b7-a119-24681717885b",
   "metadata": {},
   "outputs": [
    {
     "data": {
      "text/plain": [
       "'əbrivieɪʃən'"
      ]
     },
     "execution_count": 12,
     "metadata": {},
     "output_type": "execute_result"
    }
   ],
   "source": [
    "# NB here English \"r\" is transcribed /r/, because it wasn't distinguished in CMU presumably\n",
    "cmu_phonemizer.mapping[\"abbreviation\"]"
   ]
  },
  {
   "cell_type": "code",
   "execution_count": 13,
   "id": "778a18ac-0e9f-4358-9d97-f164082a8f5c",
   "metadata": {},
   "outputs": [
    {
     "data": {
      "text/plain": [
       "'fɑðɚ'"
      ]
     },
     "execution_count": 13,
     "metadata": {},
     "output_type": "execute_result"
    }
   ],
   "source": [
    "cmu_phonemizer.mapping[\"father\"]"
   ]
  },
  {
   "cell_type": "code",
   "execution_count": 14,
   "id": "3d5044d6-46f5-4ca4-b930-285135ef70d3",
   "metadata": {},
   "outputs": [],
   "source": [
    "dict_ipa_chars = set(phoneme for word in cmu_phonemizer.mapping.values()\n",
    "                     for phoneme in cmu_phonemizer.ipa_phonemes_re.findall(word))"
   ]
  },
  {
   "cell_type": "code",
   "execution_count": 15,
   "id": "15465029-6917-4b3e-aa3d-87b559a885b9",
   "metadata": {},
   "outputs": [
    {
     "data": {
      "text/plain": [
       "{'ə', 'ər'}"
      ]
     },
     "execution_count": 15,
     "metadata": {},
     "output_type": "execute_result"
    }
   ],
   "source": [
    "dict_ipa_chars - set(phonemes_df.phoneme)"
   ]
  },
  {
   "cell_type": "code",
   "execution_count": 25,
   "id": "056c62f8-f5ba-4a46-9e09-9a79a78c828d",
   "metadata": {},
   "outputs": [
    {
     "data": {
      "text/plain": [
       "['acreage',\n",
       " 'adarand',\n",
       " 'agriculturally',\n",
       " 'ahranat',\n",
       " 'alfareda',\n",
       " 'amaretto',\n",
       " 'anamaria',\n",
       " 'anchorage',\n",
       " 'arabia',\n",
       " 'arabian',\n",
       " 'arabians',\n",
       " 'arabichon',\n",
       " 'arabicon',\n",
       " 'arachnid',\n",
       " 'arachnids',\n",
       " 'arantza',\n",
       " 'ararat',\n",
       " 'arau',\n",
       " 'arida',\n",
       " 'arkarow']"
      ]
     },
     "execution_count": 25,
     "metadata": {},
     "output_type": "execute_result"
    }
   ],
   "source": [
    "[w for w, mapping in cmu_phonemizer.mapping.items() if \"ər\" in mapping][:20]"
   ]
  },
  {
   "cell_type": "code",
   "execution_count": 27,
   "id": "6a0f7ce6-73d4-4b42-8ca6-5bcfd8f36b28",
   "metadata": {},
   "outputs": [
    {
     "data": {
      "text/plain": [
       "'ɚaʊnd'"
      ]
     },
     "execution_count": 27,
     "metadata": {},
     "output_type": "execute_result"
    }
   ],
   "source": [
    "# TODO this is a weird annotation....\n",
    "cmu_phonemizer(\"around\")"
   ]
  },
  {
   "cell_type": "code",
   "execution_count": 16,
   "id": "29b6617d-bbe8-4cf7-93da-f23a8594b86c",
   "metadata": {},
   "outputs": [
    {
     "data": {
      "text/html": [
       "<div>\n",
       "<style scoped>\n",
       "    .dataframe tbody tr th:only-of-type {\n",
       "        vertical-align: middle;\n",
       "    }\n",
       "\n",
       "    .dataframe tbody tr th {\n",
       "        vertical-align: top;\n",
       "    }\n",
       "\n",
       "    .dataframe thead th {\n",
       "        text-align: right;\n",
       "    }\n",
       "</style>\n",
       "<table border=\"1\" class=\"dataframe\">\n",
       "  <thead>\n",
       "    <tr style=\"text-align: right;\">\n",
       "      <th></th>\n",
       "      <th></th>\n",
       "      <th>phoneme</th>\n",
       "      <th>onset</th>\n",
       "      <th>offset</th>\n",
       "      <th>word_idx</th>\n",
       "      <th>offset_word</th>\n",
       "      <th>word</th>\n",
       "    </tr>\n",
       "    <tr>\n",
       "      <th>run</th>\n",
       "      <th>phoneme_idx</th>\n",
       "      <th></th>\n",
       "      <th></th>\n",
       "      <th></th>\n",
       "      <th></th>\n",
       "      <th></th>\n",
       "      <th></th>\n",
       "    </tr>\n",
       "  </thead>\n",
       "  <tbody>\n",
       "    <tr>\n",
       "      <th rowspan=\"5\" valign=\"top\">1</th>\n",
       "      <th>84</th>\n",
       "      <td>ɚ</td>\n",
       "      <td>8.852</td>\n",
       "      <td>8.969</td>\n",
       "      <td>29</td>\n",
       "      <td>9.09</td>\n",
       "      <td>FIRST</td>\n",
       "    </tr>\n",
       "    <tr>\n",
       "      <th>116</th>\n",
       "      <td>ɚ</td>\n",
       "      <td>11.531</td>\n",
       "      <td>11.586</td>\n",
       "      <td>39</td>\n",
       "      <td>11.59</td>\n",
       "      <td>AFTER</td>\n",
       "    </tr>\n",
       "    <tr>\n",
       "      <th>202</th>\n",
       "      <td>ɚ</td>\n",
       "      <td>18.453</td>\n",
       "      <td>18.516</td>\n",
       "      <td>64</td>\n",
       "      <td>18.66</td>\n",
       "      <td>WORST</td>\n",
       "    </tr>\n",
       "    <tr>\n",
       "      <th>238</th>\n",
       "      <td>ɚ</td>\n",
       "      <td>21.859</td>\n",
       "      <td>21.938</td>\n",
       "      <td>75</td>\n",
       "      <td>22.04</td>\n",
       "      <td>ORDERS</td>\n",
       "    </tr>\n",
       "    <tr>\n",
       "      <th>246</th>\n",
       "      <td>ɚ</td>\n",
       "      <td>22.422</td>\n",
       "      <td>22.469</td>\n",
       "      <td>77</td>\n",
       "      <td>22.47</td>\n",
       "      <td>ANOTHER</td>\n",
       "    </tr>\n",
       "    <tr>\n",
       "      <th>...</th>\n",
       "      <th>...</th>\n",
       "      <td>...</td>\n",
       "      <td>...</td>\n",
       "      <td>...</td>\n",
       "      <td>...</td>\n",
       "      <td>...</td>\n",
       "      <td>...</td>\n",
       "    </tr>\n",
       "    <tr>\n",
       "      <th rowspan=\"5\" valign=\"top\">19</th>\n",
       "      <th>1343</th>\n",
       "      <td>ɚ</td>\n",
       "      <td>132.961</td>\n",
       "      <td>133.055</td>\n",
       "      <td>432</td>\n",
       "      <td>133.06</td>\n",
       "      <td>SHOULDER</td>\n",
       "    </tr>\n",
       "    <tr>\n",
       "      <th>1496</th>\n",
       "      <td>ɚ</td>\n",
       "      <td>146.945</td>\n",
       "      <td>146.969</td>\n",
       "      <td>482</td>\n",
       "      <td>146.97</td>\n",
       "      <td>WERE</td>\n",
       "    </tr>\n",
       "    <tr>\n",
       "      <th>1622</th>\n",
       "      <td>ɚ</td>\n",
       "      <td>156.859</td>\n",
       "      <td>156.945</td>\n",
       "      <td>524</td>\n",
       "      <td>157.07</td>\n",
       "      <td>TROUSERS</td>\n",
       "    </tr>\n",
       "    <tr>\n",
       "      <th>1670</th>\n",
       "      <td>ɚ</td>\n",
       "      <td>160.430</td>\n",
       "      <td>160.484</td>\n",
       "      <td>538</td>\n",
       "      <td>160.87</td>\n",
       "      <td>OVERBOARD</td>\n",
       "    </tr>\n",
       "    <tr>\n",
       "      <th>1696</th>\n",
       "      <td>ɚ</td>\n",
       "      <td>163.992</td>\n",
       "      <td>164.055</td>\n",
       "      <td>546</td>\n",
       "      <td>164.06</td>\n",
       "      <td>ENTIRE</td>\n",
       "    </tr>\n",
       "  </tbody>\n",
       "</table>\n",
       "<p>762 rows × 6 columns</p>\n",
       "</div>"
      ],
      "text/plain": [
       "                phoneme    onset   offset  word_idx  offset_word       word\n",
       "run phoneme_idx                                                            \n",
       "1   84                ɚ    8.852    8.969        29         9.09      FIRST\n",
       "    116               ɚ   11.531   11.586        39        11.59      AFTER\n",
       "    202               ɚ   18.453   18.516        64        18.66      WORST\n",
       "    238               ɚ   21.859   21.938        75        22.04     ORDERS\n",
       "    246               ɚ   22.422   22.469        77        22.47    ANOTHER\n",
       "...                 ...      ...      ...       ...          ...        ...\n",
       "19  1343              ɚ  132.961  133.055       432       133.06   SHOULDER\n",
       "    1496              ɚ  146.945  146.969       482       146.97       WERE\n",
       "    1622              ɚ  156.859  156.945       524       157.07   TROUSERS\n",
       "    1670              ɚ  160.430  160.484       538       160.87  OVERBOARD\n",
       "    1696              ɚ  163.992  164.055       546       164.06     ENTIRE\n",
       "\n",
       "[762 rows x 6 columns]"
      ]
     },
     "execution_count": 16,
     "metadata": {},
     "output_type": "execute_result"
    }
   ],
   "source": [
    "phonemes_df[phonemes_df.phoneme == \"ɚ\"]"
   ]
  },
  {
   "cell_type": "code",
   "execution_count": 21,
   "id": "a0dcdc25-1685-4ede-b58d-768ebffad3c1",
   "metadata": {},
   "outputs": [
    {
     "data": {
      "text/html": [
       "<div>\n",
       "<style scoped>\n",
       "    .dataframe tbody tr th:only-of-type {\n",
       "        vertical-align: middle;\n",
       "    }\n",
       "\n",
       "    .dataframe tbody tr th {\n",
       "        vertical-align: top;\n",
       "    }\n",
       "\n",
       "    .dataframe thead th {\n",
       "        text-align: right;\n",
       "    }\n",
       "</style>\n",
       "<table border=\"1\" class=\"dataframe\">\n",
       "  <thead>\n",
       "    <tr style=\"text-align: right;\">\n",
       "      <th></th>\n",
       "      <th></th>\n",
       "      <th>phoneme</th>\n",
       "      <th>onset</th>\n",
       "      <th>offset</th>\n",
       "      <th>word_idx</th>\n",
       "      <th>offset_word</th>\n",
       "      <th>word</th>\n",
       "    </tr>\n",
       "    <tr>\n",
       "      <th>run</th>\n",
       "      <th>phoneme_idx</th>\n",
       "      <th></th>\n",
       "      <th></th>\n",
       "      <th></th>\n",
       "      <th></th>\n",
       "      <th></th>\n",
       "      <th></th>\n",
       "    </tr>\n",
       "  </thead>\n",
       "  <tbody>\n",
       "    <tr>\n",
       "      <th>2</th>\n",
       "      <th>868</th>\n",
       "      <td>ɝ</td>\n",
       "      <td>88.195</td>\n",
       "      <td>88.258</td>\n",
       "      <td>282</td>\n",
       "      <td>88.26</td>\n",
       "      <td>ARE</td>\n",
       "    </tr>\n",
       "    <tr>\n",
       "      <th>19</th>\n",
       "      <th>1268</th>\n",
       "      <td>ɝ</td>\n",
       "      <td>126.984</td>\n",
       "      <td>127.164</td>\n",
       "      <td>410</td>\n",
       "      <td>127.28</td>\n",
       "      <td>STEM</td>\n",
       "    </tr>\n",
       "  </tbody>\n",
       "</table>\n",
       "</div>"
      ],
      "text/plain": [
       "                phoneme    onset   offset  word_idx  offset_word  word\n",
       "run phoneme_idx                                                       \n",
       "2   868               ɝ   88.195   88.258       282        88.26   ARE\n",
       "19  1268              ɝ  126.984  127.164       410       127.28  STEM"
      ]
     },
     "execution_count": 21,
     "metadata": {},
     "output_type": "execute_result"
    }
   ],
   "source": [
    "phonemes_df[phonemes_df.phoneme == \"ɝ\"]"
   ]
  },
  {
   "cell_type": "code",
   "execution_count": 26,
   "id": "2999d80a-ed3a-4b13-9097-aa0f2800397a",
   "metadata": {},
   "outputs": [
    {
     "data": {
      "text/html": [
       "<div>\n",
       "<style scoped>\n",
       "    .dataframe tbody tr th:only-of-type {\n",
       "        vertical-align: middle;\n",
       "    }\n",
       "\n",
       "    .dataframe tbody tr th {\n",
       "        vertical-align: top;\n",
       "    }\n",
       "\n",
       "    .dataframe thead th {\n",
       "        text-align: right;\n",
       "    }\n",
       "</style>\n",
       "<table border=\"1\" class=\"dataframe\">\n",
       "  <thead>\n",
       "    <tr style=\"text-align: right;\">\n",
       "      <th></th>\n",
       "      <th></th>\n",
       "      <th>phoneme</th>\n",
       "      <th>onset</th>\n",
       "      <th>offset</th>\n",
       "      <th>word_idx</th>\n",
       "      <th>offset_word</th>\n",
       "      <th>word</th>\n",
       "    </tr>\n",
       "    <tr>\n",
       "      <th>run</th>\n",
       "      <th>phoneme_idx</th>\n",
       "      <th></th>\n",
       "      <th></th>\n",
       "      <th></th>\n",
       "      <th></th>\n",
       "      <th></th>\n",
       "      <th></th>\n",
       "    </tr>\n",
       "  </thead>\n",
       "  <tbody>\n",
       "    <tr>\n",
       "      <th rowspan=\"5\" valign=\"top\">1</th>\n",
       "      <th>396</th>\n",
       "      <td>ɚ</td>\n",
       "      <td>36.961</td>\n",
       "      <td>36.984</td>\n",
       "      <td>129</td>\n",
       "      <td>37.11</td>\n",
       "      <td>AROUND</td>\n",
       "    </tr>\n",
       "    <tr>\n",
       "      <th>397</th>\n",
       "      <td>aʊ</td>\n",
       "      <td>36.992</td>\n",
       "      <td>37.047</td>\n",
       "      <td>129</td>\n",
       "      <td>37.11</td>\n",
       "      <td>AROUND</td>\n",
       "    </tr>\n",
       "    <tr>\n",
       "      <th>398</th>\n",
       "      <td>n</td>\n",
       "      <td>37.055</td>\n",
       "      <td>37.078</td>\n",
       "      <td>129</td>\n",
       "      <td>37.11</td>\n",
       "      <td>AROUND</td>\n",
       "    </tr>\n",
       "    <tr>\n",
       "      <th>399</th>\n",
       "      <td>d</td>\n",
       "      <td>37.086</td>\n",
       "      <td>37.102</td>\n",
       "      <td>129</td>\n",
       "      <td>37.11</td>\n",
       "      <td>AROUND</td>\n",
       "    </tr>\n",
       "    <tr>\n",
       "      <th>400</th>\n",
       "      <td>ð</td>\n",
       "      <td>37.109</td>\n",
       "      <td>37.156</td>\n",
       "      <td>129</td>\n",
       "      <td>37.11</td>\n",
       "      <td>AROUND</td>\n",
       "    </tr>\n",
       "    <tr>\n",
       "      <th>...</th>\n",
       "      <th>...</th>\n",
       "      <td>...</td>\n",
       "      <td>...</td>\n",
       "      <td>...</td>\n",
       "      <td>...</td>\n",
       "      <td>...</td>\n",
       "      <td>...</td>\n",
       "    </tr>\n",
       "    <tr>\n",
       "      <th rowspan=\"5\" valign=\"top\">19</th>\n",
       "      <th>478</th>\n",
       "      <td>ɑ</td>\n",
       "      <td>48.531</td>\n",
       "      <td>48.602</td>\n",
       "      <td>154</td>\n",
       "      <td>48.64</td>\n",
       "      <td>ARE</td>\n",
       "    </tr>\n",
       "    <tr>\n",
       "      <th>479</th>\n",
       "      <td>ɹ</td>\n",
       "      <td>48.609</td>\n",
       "      <td>48.633</td>\n",
       "      <td>154</td>\n",
       "      <td>48.64</td>\n",
       "      <td>ARE</td>\n",
       "    </tr>\n",
       "    <tr>\n",
       "      <th>1373</th>\n",
       "      <td>ɑ</td>\n",
       "      <td>135.273</td>\n",
       "      <td>135.531</td>\n",
       "      <td>441</td>\n",
       "      <td>135.65</td>\n",
       "      <td>ARM</td>\n",
       "    </tr>\n",
       "    <tr>\n",
       "      <th>1374</th>\n",
       "      <td>ɹ</td>\n",
       "      <td>135.539</td>\n",
       "      <td>135.594</td>\n",
       "      <td>441</td>\n",
       "      <td>135.65</td>\n",
       "      <td>ARM</td>\n",
       "    </tr>\n",
       "    <tr>\n",
       "      <th>1375</th>\n",
       "      <td>m</td>\n",
       "      <td>135.602</td>\n",
       "      <td>135.648</td>\n",
       "      <td>441</td>\n",
       "      <td>135.65</td>\n",
       "      <td>ARM</td>\n",
       "    </tr>\n",
       "  </tbody>\n",
       "</table>\n",
       "<p>143 rows × 6 columns</p>\n",
       "</div>"
      ],
      "text/plain": [
       "                phoneme    onset   offset  word_idx  offset_word    word\n",
       "run phoneme_idx                                                         \n",
       "1   396               ɚ   36.961   36.984       129        37.11  AROUND\n",
       "    397              aʊ   36.992   37.047       129        37.11  AROUND\n",
       "    398               n   37.055   37.078       129        37.11  AROUND\n",
       "    399               d   37.086   37.102       129        37.11  AROUND\n",
       "    400               ð   37.109   37.156       129        37.11  AROUND\n",
       "...                 ...      ...      ...       ...          ...     ...\n",
       "19  478               ɑ   48.531   48.602       154        48.64     ARE\n",
       "    479               ɹ   48.609   48.633       154        48.64     ARE\n",
       "    1373              ɑ  135.273  135.531       441       135.65     ARM\n",
       "    1374              ɹ  135.539  135.594       441       135.65     ARM\n",
       "    1375              m  135.602  135.648       441       135.65     ARM\n",
       "\n",
       "[143 rows x 6 columns]"
      ]
     },
     "execution_count": 26,
     "metadata": {},
     "output_type": "execute_result"
    }
   ],
   "source": [
    "phonemes_df[phonemes_df.word.str.startswith(\"AR\")]"
   ]
  },
  {
   "cell_type": "markdown",
   "id": "24d56e18-999f-409a-8741-93cd3829cccf",
   "metadata": {},
   "source": [
    "## Note to self\n",
    "\n",
    "There's more work to do here harmonizing the annotations. That being said, for testing the vanilla model, none of this is necessary. So let's move forward for now!"
   ]
  },
  {
   "cell_type": "code",
   "execution_count": 17,
   "id": "509bc41a-2386-4b60-983d-16babc52172b",
   "metadata": {},
   "outputs": [
    {
     "data": {
      "text/plain": [
       "'twɛntifɚst'"
      ]
     },
     "execution_count": 17,
     "metadata": {},
     "output_type": "execute_result"
    }
   ],
   "source": [
    "# TODO ??????\n",
    "cmu_phonemizer(\"first\")"
   ]
  },
  {
   "cell_type": "code",
   "execution_count": 19,
   "id": "785a68f4-03d7-48fb-b1c6-b6e66d601fda",
   "metadata": {},
   "outputs": [
    {
     "data": {
      "text/plain": [
       "'ɚ'"
      ]
     },
     "execution_count": 19,
     "metadata": {},
     "output_type": "execute_result"
    }
   ],
   "source": [
    "english.cmu_ipa_mapping[\"ER0\"]"
   ]
  },
  {
   "cell_type": "code",
   "execution_count": 22,
   "id": "6b03e2bf-5179-46a8-8b1d-c0fdb21bcfd0",
   "metadata": {},
   "outputs": [
    {
     "data": {
      "text/plain": [
       "{'ɛɪ', 'ɝ', 'ɹ'}"
      ]
     },
     "execution_count": 22,
     "metadata": {},
     "output_type": "execute_result"
    }
   ],
   "source": [
    "set(phonemes_df.phoneme) - dict_ipa_chars"
   ]
  },
  {
   "cell_type": "code",
   "execution_count": 15,
   "id": "1943467c-1fc0-4687-aba8-938b10f5910e",
   "metadata": {},
   "outputs": [
    {
     "name": "stderr",
     "output_type": "stream",
     "text": [
      "Using pad_token, but it is not set yet.\n",
      "WARNING:root:Tokenizer is missing pad token; using EOS token <|endoftext|>\n"
     ]
    }
   ],
   "source": [
    "PAD_PHONEME = \"_\"\n",
    "proc = NaturalLanguageStimulusProcessor(phonemes=list(ipa_chars) + [PAD_PHONEME],\n",
    "                                        hf_model=model,\n",
    "                                        num_candidates=n_candidates,\n",
    "                                        phonemizer=cmu_phonemizer)"
   ]
  },
  {
   "cell_type": "code",
   "execution_count": 18,
   "id": "e8db7c54-42e3-40b8-96a5-72e345104dad",
   "metadata": {},
   "outputs": [
    {
     "name": "stdout",
     "output_type": "stream",
     "text": [
      "Automatic pdb calling has been turned ON\n"
     ]
    },
    {
     "data": {
      "application/vnd.jupyter.widget-view+json": {
       "model_id": "cb3b0a8eeebd4849a6cacfab6f603de5",
       "version_major": 2,
       "version_minor": 0
      },
      "text/plain": [
       "  0%|          | 0/19 [00:00<?, ?run/s]"
      ]
     },
     "metadata": {},
     "output_type": "display_data"
    },
    {
     "data": {
      "application/vnd.jupyter.widget-view+json": {
       "model_id": "2de419318a54450485cccba863f6b7a6",
       "version_major": 2,
       "version_minor": 0
      },
      "text/plain": [
       "  0%|          | 0/53 [00:00<?, ?batch/s]"
      ]
     },
     "metadata": {},
     "output_type": "display_data"
    },
    {
     "name": "stdout",
     "output_type": "stream",
     "text": [
      "['', '', '', '', '', '', '', '', '', '']\n",
      "['Ġa', 'Ġin', 'Ġof', 'Ġnear', 'Ġand', 'Ġthat', 'Ġwhere', 'Ġwith', 'Ġon', 'Ġarea']\n",
      "['ĠWhen', 'Ġat', 'Ġabout', 'Ġwith', 'Ġand', 'Ġor', 'Ġenough', 'Ġbecause', 'Ġthat', 'Ġwhen']\n"
     ]
    },
    {
     "data": {
      "application/vnd.jupyter.widget-view+json": {
       "model_id": "80cd385e60fa490c8b1ee8500fed6176",
       "version_major": 2,
       "version_minor": 0
      },
      "text/plain": [
       "  0%|          | 0/53 [00:00<?, ?batch/s]"
      ]
     },
     "metadata": {},
     "output_type": "display_data"
    },
    {
     "name": "stdout",
     "output_type": "stream",
     "text": [
      "['Ġmade', 'ĠThe', 'ĠA', 'Ġthe', 'Ġand', 'The', 'Ġto', 'Ġof', 'ĠIn', 'ĠThis']\n",
      "['Ġa', 'ĠThe', 'ĠA', 'Ġthe', 'ĠThis', 'ĠI', 'The', 'Ġto', 'Ġand', 'ĠIt']\n",
      "['ĠI', 'Ġand', 'Ġwith', 'Ġthat', 'Ġto', 'Ġof', 'Ġfor', 'Ġin', 'Ġride', 'Ġsituation']\n",
      "['Ġa', 'Ġone', 'Ġmatter', 'Ġway', 'Ġmore', 'Ġdoubt', 'Ġneed', 'Ġproblem', 'Ġcomment', 'Ġother']\n"
     ]
    },
    {
     "data": {
      "application/vnd.jupyter.widget-view+json": {
       "model_id": "91e481ae9f854ad892f402160d444ca7",
       "version_major": 2,
       "version_minor": 0
      },
      "text/plain": [
       "  0%|          | 0/53 [00:00<?, ?batch/s]"
      ]
     },
     "metadata": {},
     "output_type": "display_data"
    },
    {
     "name": "stdout",
     "output_type": "stream",
     "text": [
      "['No', 'ĠThe', 'The', 'I', 'ĠA', 'A', 'It', 'We', 'In', 'This']\n",
      "['Ġa', 'ĠI', 'Ġthey', 'Ġthat', 'Ġthe', 'Ġit', 'Ġwe', 'Ġfor', 'Ġtheir', 'Ġnot']\n",
      "['', '', '', '', '', '', '', '', '', '']\n",
      "['I', 'ĠThe', 'The', 'ĠA', 'I', 'A', 'ĠThis', 'ĠI', 'We', 'It']\n"
     ]
    },
    {
     "data": {
      "application/vnd.jupyter.widget-view+json": {
       "model_id": "34326ac83cc746eea305298b06f4c7dd",
       "version_major": 2,
       "version_minor": 0
      },
      "text/plain": [
       "  0%|          | 0/53 [00:00<?, ?batch/s]"
      ]
     },
     "metadata": {},
     "output_type": "display_data"
    },
    {
     "name": "stdout",
     "output_type": "stream",
     "text": [
      "['But', 'ĠThe', 'The', 'ĠA', 'I', 'A', 'ĠThis', 'ĠI', 'We', 'It']\n",
      "['', '', '', '', '', '', '', '', '', '']\n",
      "['I', 'Ġit', 'Ġme', 'Ġyour', 'Ġthe', 'Ġthis', 'Ġmy', 'Ġa', 'Ġthat', 'Ġsome']\n"
     ]
    },
    {
     "data": {
      "application/vnd.jupyter.widget-view+json": {
       "model_id": "44363416c06b417da29cfe5f45f0d876",
       "version_major": 2,
       "version_minor": 0
      },
      "text/plain": [
       "  0%|          | 0/53 [00:00<?, ?batch/s]"
      ]
     },
     "metadata": {},
     "output_type": "display_data"
    },
    {
     "name": "stdout",
     "output_type": "stream",
     "text": [
      "['Come', 'ĠThe', 'The', 'I', 'ĠA', 'A', 'It', 'We', 'In', 'This']\n",
      "['', '', '', '', '', '', '', '', '', '']\n",
      "['ĠI', 'Ġand', 'Ġthat', 'Ġto', 'Ġwhere', 'Ġwith', 'Ġin', 'Ġare', 'Ġas', 'Ġor']\n",
      "['He', 'Ġof', 'Ġand', 'Ġin', 'Ġago', 'Ġto', 'Ġafter', 'Ġor', 'Ġbefore', 'Ġare']\n"
     ]
    },
    {
     "data": {
      "application/vnd.jupyter.widget-view+json": {
       "model_id": "950f89b1a4fb4d16b3a66a3ef98ec24c",
       "version_major": 2,
       "version_minor": 0
      },
      "text/plain": [
       "  0%|          | 0/53 [00:00<?, ?batch/s]"
      ]
     },
     "metadata": {},
     "output_type": "display_data"
    },
    {
     "name": "stdout",
     "output_type": "stream",
     "text": [
      "['Ġdays', 'ĠThe', 'ĠA', 'Ġthe', 'Ġand', 'Ġto', 'The', 'ĠI', 'Ġof', 'ĠIn']\n",
      "['', '', '', '', '', '', '', '', '', '']\n",
      "['', '', '', '', '', '', '', '', '', '']\n",
      "['ĠThe', 'Ġthe', 'Ġaround', 'Ġto', 'Ġin', 'Ġand', 'Ġthrough', 'Ġa', 'Ġon', 'Ġup']\n"
     ]
    },
    {
     "data": {
      "application/vnd.jupyter.widget-view+json": {
       "model_id": "8107ed0ee40e4664b6e77c496135d388",
       "version_major": 2,
       "version_minor": 0
      },
      "text/plain": [
       "  0%|          | 0/53 [00:00<?, ?batch/s]"
      ]
     },
     "metadata": {},
     "output_type": "display_data"
    },
    {
     "name": "stdout",
     "output_type": "stream",
     "text": [
      "['Ġbe', 'ĠThe', 'ĠA', 'Ġthe', 'Ġto', 'The', 'ĠI', 'I', 'Ġa', 'ĠThis']\n",
      "['', '', '', '', '', '', '', '', '', '']\n",
      "['ĠSometimes', 'y', 'ing', 'er', 'ers', 'Ġand', 'iest', 'ies', 'Ġline', \"'s\"]\n"
     ]
    },
    {
     "data": {
      "application/vnd.jupyter.widget-view+json": {
       "model_id": "2745ebecbe7f4e5e9a4414040d6d80b3",
       "version_major": 2,
       "version_minor": 0
      },
      "text/plain": [
       "  0%|          | 0/53 [00:00<?, ?batch/s]"
      ]
     },
     "metadata": {},
     "output_type": "display_data"
    },
    {
     "name": "stdout",
     "output_type": "stream",
     "text": [
      "['its', 'ĠThe', 'ĠA', 'I', 'The', 'Ġthe', 'A', 'B', 'S', 'Ġto']\n",
      "['', '', '', '', '', '', '', '', '', '']\n",
      "['Ġa', 'Ġand', 'Ġso', 'Ġin', 'Ġfor', 'Ġas', 'Ġbut', 'Ġmore', 'Ġbecause', 'Ġtoo']\n"
     ]
    },
    {
     "data": {
      "application/vnd.jupyter.widget-view+json": {
       "model_id": "b6a9a782753d478cb1714e56b73ce2d1",
       "version_major": 2,
       "version_minor": 0
      },
      "text/plain": [
       "  0%|          | 0/53 [00:00<?, ?batch/s]"
      ]
     },
     "metadata": {},
     "output_type": "display_data"
    },
    {
     "name": "stdout",
     "output_type": "stream",
     "text": [
      "['Ġher', 'ĠThe', 'ĠA', 'Ġthe', 'The', 'Ġto', 'I', 'A', 'Ġand', 'Ġof']\n",
      "['Ġa', 'Ġin', 'Ġand', 'Ġof', 'Ġthat', 'Ġas', 'Ġat', 'Ġon', 'Ġso', 'Ġto']\n",
      "['', '', '', '', '', '', '', '', '', '']\n",
      "['ĠJust', 'Ġand', 'Ġin', 'Ġas', 'Ġbecause', 'Ġfor', 'Ġwith', 'Ġon', 'Ġto', 'Ġbut']\n"
     ]
    },
    {
     "data": {
      "application/vnd.jupyter.widget-view+json": {
       "model_id": "7f71c88205184014bf86684203d5c43a",
       "version_major": 2,
       "version_minor": 0
      },
      "text/plain": [
       "  0%|          | 0/53 [00:00<?, ?batch/s]"
      ]
     },
     "metadata": {},
     "output_type": "display_data"
    },
    {
     "name": "stdout",
     "output_type": "stream",
     "text": [
      "['ĠI', 'ĠThe', 'ĠA', 'Ġthe', 'Ġand', 'I', 'ĠIt', 'The', 'ĠThis', 'ĠIn']\n",
      "['Ġa', 'Ġto', 'Ġas', \"'s\", 'Ġfor', 'Ġin', 'Ġand', 'Ġwith', 'Ġor', 'Ġthat']\n",
      "['', '', '', '', '', '', '', '', '', '']\n",
      "['A', 'Ġand', 'Ġpaint', 'Ġin', 'Ġon', 'Ġto', 'Ġthat', 'ish', 'Ġlight', 'ing']\n"
     ]
    },
    {
     "data": {
      "application/vnd.jupyter.widget-view+json": {
       "model_id": "e1ad46acbfb946e5985ebbbbb70c7870",
       "version_major": 2,
       "version_minor": 0
      },
      "text/plain": [
       "  0%|          | 0/53 [00:00<?, ?batch/s]"
      ]
     },
     "metadata": {},
     "output_type": "display_data"
    },
    {
     "name": "stdout",
     "output_type": "stream",
     "text": [
      "['Ġsome', 'ĠThe', 'ĠA', 'Ġthe', 'ĠI', 'The', 'I', 'ĠIt', 'ĠThis', 'Ġto']\n",
      "['Ġa', 'ĠThe', 'ĠA', 'Ġthe', 'Ġto', 'Ġand', 'The', 'Ġa', 'Ġof', 'ĠI']\n",
      "['The', 'Ġin', 'Ġand', 'Ġfor', 'Ġon', 'Ġup', 'Ġat', 'Ġout', 'Ġto', 'Ġwhile']\n"
     ]
    },
    {
     "data": {
      "application/vnd.jupyter.widget-view+json": {
       "model_id": "b84328d47eb4443198c97edae84f3dd6",
       "version_major": 2,
       "version_minor": 0
      },
      "text/plain": [
       "  0%|          | 0/53 [00:00<?, ?batch/s]"
      ]
     },
     "metadata": {},
     "output_type": "display_data"
    },
    {
     "name": "stdout",
     "output_type": "stream",
     "text": [
      "['Ġliver', 'ĠThe', 'ĠA', 'Ġthe', 'The', 'Ġand', 'I', 'Ġto', 'ĠThis', 'S']\n",
      "['', '', '', '', '', '', '', '', '', '']\n",
      "['ĠI', 'Ġthe', 'Ġwhat', 'Ġhis', 'Ġhow', 'Ġwhen', 'Ġthat', 'Ġhim', 'Ġit', 'Ġher']\n",
      "['ĠI', 'ing', 'fl', 'ed', 'Ġand', 'Ġcovered', 'sh', 'balls', 'Ġin', 'board']\n"
     ]
    },
    {
     "data": {
      "application/vnd.jupyter.widget-view+json": {
       "model_id": "7d812ad4148741aead1173b8ca8ac31d",
       "version_major": 2,
       "version_minor": 0
      },
      "text/plain": [
       "  0%|          | 0/53 [00:00<?, ?batch/s]"
      ]
     },
     "metadata": {},
     "output_type": "display_data"
    },
    {
     "name": "stdout",
     "output_type": "stream",
     "text": [
      "['Ġblue', 'ĠThe', 'ĠA', 'Ġthe', 'The', 'ĠI', 'I', 'ĠIn', 'ĠIt', 'ĠThis']\n",
      "['', '', '', '', '', '', '', '', '', '']\n",
      "['', '', '', '', '', '', '', '', '', '']\n",
      "['ĠThen', 'Ġand', 'Ġto', 'Ġin', 'Ġas', 'Ġso', 'Ġagain', 'Ġall', 'Ġnow', 'Ġlike']\n"
     ]
    },
    {
     "data": {
      "application/vnd.jupyter.widget-view+json": {
       "model_id": "1f76e927220c4eb49a5c282efa3eee39",
       "version_major": 2,
       "version_minor": 0
      },
      "text/plain": [
       "  0%|          | 0/53 [00:00<?, ?batch/s]"
      ]
     },
     "metadata": {},
     "output_type": "display_data"
    },
    {
     "name": "stdout",
     "output_type": "stream",
     "text": [
      "['Ġmouth', 'ĠThe', 'ĠA', 'Ġthe', 'The', 'ĠI', 'Ġto', 'I', 'Ġand', 'ĠIn']\n",
      "['ĠI', 'Ġto', 'Ġfor', 'Ġand', 'Ġwith', 'Ġin', 'Ġif', 'Ġon', 'Ġnow', 'Ġor']\n",
      "['ĠI', 'Ġthe', 'Ġto', 'Ġa', 'Ġand', 'Ġin', 'Ġon', 'Ġthere', 'Ġwith', 'Ġhere']\n"
     ]
    },
    {
     "data": {
      "application/vnd.jupyter.widget-view+json": {
       "model_id": "5c23e4a2f6b44e5ba74b7cec87a1aac6",
       "version_major": 2,
       "version_minor": 0
      },
      "text/plain": [
       "  0%|          | 0/53 [00:00<?, ?batch/s]"
      ]
     },
     "metadata": {},
     "output_type": "display_data"
    },
    {
     "name": "stdout",
     "output_type": "stream",
     "text": [
      "['Ġdown', 'ĠThe', 'ĠA', 'Ġto', 'Ġthe', 'The', 'Ġa', 'ĠThis', 'Ġand', 'ĠIn']\n",
      "['Ġa', 'Ġin', 'Ġto', 'Ġon', 'Ġat', 'Ġor', 'Ġfrom', 'Ġand', 'Ġfor', 'Ġuntil']\n",
      "['', '', '', '', '', '', '', '', '', '']\n",
      "['ĠDuring', 'Ġand', 'Ġin', 'Ġfor', 'Ġenough', 'Ġfood', 'Ġon', 'Ġhis', 'Ġthe', 'Ġwith']\n"
     ]
    },
    {
     "data": {
      "application/vnd.jupyter.widget-view+json": {
       "model_id": "d43e0e8895ff40768b6b4e01e37e744a",
       "version_major": 2,
       "version_minor": 0
      },
      "text/plain": [
       "  0%|          | 0/53 [00:00<?, ?batch/s]"
      ]
     },
     "metadata": {},
     "output_type": "display_data"
    },
    {
     "name": "stdout",
     "output_type": "stream",
     "text": [
      "['Ġeat', 'ĠThe', 'Ġthe', 'ĠA', 'The', 'Ġa', 'Ġto', 'ĠThis', 'ĠIt', 'ĠIn']\n",
      "['Ġa', 'ĠThe', 'ĠA', 'Ġthe', 'Ġto', 'The', 'ĠI', 'I', 'Ġand', 'ĠIt']\n",
      "['Ġa', 'Ġoff', 'Ġup', 'Ġthe', 'Ġa', 'Ġhis', 'Ġhim', 'Ġthat', 'Ġhow', 'Ġsome']\n"
     ]
    },
    {
     "data": {
      "application/vnd.jupyter.widget-view+json": {
       "model_id": "6aeb4a84a15f4beb8a2bf14517d4ce67",
       "version_major": 2,
       "version_minor": 0
      },
      "text/plain": [
       "  0%|          | 0/53 [00:00<?, ?batch/s]"
      ]
     },
     "metadata": {},
     "output_type": "display_data"
    },
    {
     "name": "stdout",
     "output_type": "stream",
     "text": [
      "['Ġhis', 'ĠThe', 'Ġthe', 'ĠA', 'Ġof', 'Ġto', 'The', 'ĠI', 'Ġand', 'ĠThis']\n",
      "['ĠI', 'y', 'er', 'ed', 'ing', 'ers', 'Ġand', 'Ġis', \"'s\", 'es']\n",
      "['Ġa', 'Ġwas', \"'s\", 'Ġwho', 'Ġis', 'Ġand', 'Ġin', 'Ġhad', 'Ġhas', 'Ġsaid']\n",
      "['He', 'Ġand', 'Ġas', 'Ġto', 'Ġon', 'Ġin', 'Ġbut', 'Ġwith', 'Ġthe', 'Ġat']\n"
     ]
    },
    {
     "data": {
      "application/vnd.jupyter.widget-view+json": {
       "model_id": "7f965aa873bf4a04b78aab12b54e360b",
       "version_major": 2,
       "version_minor": 0
      },
      "text/plain": [
       "  0%|          | 0/53 [00:00<?, ?batch/s]"
      ]
     },
     "metadata": {},
     "output_type": "display_data"
    },
    {
     "name": "stdout",
     "output_type": "stream",
     "text": [
      "['Ġsoftly', 'ĠThe', 'Ġthe', 'ĠA', 'The', 'Ġto', 'ĠI', 'I', 'ĠIn', 'ĠThis']\n",
      "['', '', '', '', '', '', '', '', '', '']\n",
      "['ĠJust', 'Ġthan', 'Ġwith', 'Ġand', 'Ġin', 'Ġon', 'Ġplaying', 'Ġat', 'Ġto', 'Ġgoing']\n"
     ]
    },
    {
     "data": {
      "application/vnd.jupyter.widget-view+json": {
       "model_id": "dad76edb3cab4da2af7d4df1cf5334c0",
       "version_major": 2,
       "version_minor": 0
      },
      "text/plain": [
       "  0%|          | 0/53 [00:00<?, ?batch/s]"
      ]
     },
     "metadata": {},
     "output_type": "display_data"
    },
    {
     "name": "stdout",
     "output_type": "stream",
     "text": [
      "['Ġon', 'ĠThe', 'ĠA', 'Ġthe', 'Ġto', 'Ġand', 'The', 'ĠThis', 'Ġa', 'Ġof']\n",
      "['', '', '', '', '', '', '', '', '', '']\n",
      "['', '', '', '', '', '', '', '', '', '']\n",
      "['I', 'Ġof', 'Ġend', 'Ġand', 'Ġto', 'gate', 'Ġsection', 'Ġside', 'Ġin', 'Ġwith']\n"
     ]
    }
   ],
   "source": [
    "%pdb 1\n",
    "for run, run_words in tqdm(words_df.groupby(\"run\"), unit=\"run\"):\n",
    "    run_phonemes = phonemes_df.loc[run]\n",
    "    \n",
    "    # Prepare proc metadata input.\n",
    "    word_to_token = run_words.groupby(\"word_idx\") \\\n",
    "        .apply(lambda x: list(x.token_idx)).to_dict()\n",
    "    \n",
    "    ground_truth_phonemes = run_phonemes.groupby(\"word_idx\") \\\n",
    "        .apply(lambda xs: list(xs.phoneme)).to_dict()\n",
    "    \n",
    "    # Prepare word-level features.\n",
    "    word_features = dict(run_words.groupby(\"word_idx\").apply(lambda xs: torch.tensor(xs.iloc[0].log_freq).unsqueeze(0)))\n",
    "    word_feature_names = [\"word_frequency\"]\n",
    "    \n",
    "    # TODO\n",
    "    phoneme_features = {idx: torch.zeros((0, 0)) for idx in ground_truth_phonemes}\n",
    "    phoneme_feature_names = []\n",
    "    \n",
    "    # NB `tokens` contains tokens from all runs. so we'll actually be \n",
    "    # processing way too much per run. but it's okay I think\n",
    "    \n",
    "    stim = proc(story_name, tokens, word_to_token,\n",
    "                word_features, word_feature_names,\n",
    "                phoneme_features, phoneme_feature_names,\n",
    "                ground_truth_phonemes)\n",
    "    \n",
    "    with (Path(output_dir) / f\"run{run}.pkl\").open(\"wb\") as f:\n",
    "        pickle.dump(stim, f)"
   ]
  },
  {
   "cell_type": "code",
   "execution_count": null,
   "id": "fd3c2c28-0ef4-4343-92e3-1257cf9b4bae",
   "metadata": {},
   "outputs": [],
   "source": [
    "# TODO for words with ground-truth pronunciations in CMUdict, check proportion which\n",
    "# agree with the corpus. Maybe 100% because this is automatic and the forced aligner\n",
    "# draws on Kaldi/CMU reprs?"
   ]
  }
 ],
 "metadata": {
  "kernelspec": {
   "display_name": "Python 3 (ipykernel)",
   "language": "python",
   "name": "python3"
  },
  "language_info": {
   "codemirror_mode": {
    "name": "ipython",
    "version": 3
   },
   "file_extension": ".py",
   "mimetype": "text/x-python",
   "name": "python",
   "nbconvert_exporter": "python",
   "pygments_lexer": "ipython3",
   "version": "3.9.13"
  }
 },
 "nbformat": 4,
 "nbformat_minor": 5
}
