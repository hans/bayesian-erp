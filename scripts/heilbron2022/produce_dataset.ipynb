{
 "cells": [
  {
   "cell_type": "code",
   "execution_count": 18,
   "id": "e10df71a-1a18-4cc8-9463-5522488bdf26",
   "metadata": {},
   "outputs": [],
   "source": [
    "from pathlib import Path\n",
    "import pickle\n",
    "\n",
    "import h5py\n",
    "import matplotlib.pyplot as plt\n",
    "import pandas as pd\n",
    "import numpy as np\n",
    "import torch\n",
    "from torch.nn.functional import pad\n",
    "from tqdm.auto import tqdm"
   ]
  },
  {
   "cell_type": "code",
   "execution_count": 3,
   "id": "19c779d9-57dd-43e3-af30-a3c771bfa620",
   "metadata": {},
   "outputs": [],
   "source": [
    "%load_ext autoreload\n",
    "%autoreload 2\n",
    "import sys\n",
    "sys.path.append(str(Path(\".\").resolve().parent.parent))\n",
    "\n",
    "from berp.datasets import BerpDataset, NestedBerpDataset"
   ]
  },
  {
   "cell_type": "code",
   "execution_count": 53,
   "id": "17f23ec3-6058-44e8-92b5-5b6dc07794a3",
   "metadata": {
    "tags": [
     "parameters"
    ]
   },
   "outputs": [],
   "source": [
    "story_name = \"old-man-and-the-sea\"\n",
    "subject = 1\n",
    "run = 2\n",
    "\n",
    "aligned_words = \"word.csv\"\n",
    "aligned_phonemes = \"phoneme.csv\"\n",
    "\n",
    "stimulus = \"old-man-and-the-sea/run2.pkl\"\n",
    "\n",
    "# run_Xy = \"../../workflow/heilbron2022/data/run_Xy/old-man-and-the-sea/sub1/run1.h5\"\n",
    "run_Xy = \"/home/jgauthie/om2/others/heilbron2022/notebooks/exported/Xy/words_proba/sub1/run2.h5\"\n",
    "\n",
    "target_sample_rate = 128\n",
    "output_path = \"old-man-and-the-sea.sub1.run2.pkl\""
   ]
  },
  {
   "cell_type": "markdown",
   "id": "3282c557-9417-4f5f-987c-f817a5674a3d",
   "metadata": {},
   "source": [
    "## Load and process natural language stimulus"
   ]
  },
  {
   "cell_type": "code",
   "execution_count": 54,
   "id": "cb0eeef0-6754-4621-9596-dd88fd706031",
   "metadata": {},
   "outputs": [],
   "source": [
    "with Path(stimulus).open(\"rb\") as f:\n",
    "    story_stim = pickle.load(f)\n",
    "    \n",
    "assert story_stim.name == story_name"
   ]
  },
  {
   "cell_type": "code",
   "execution_count": 55,
   "id": "fae48b57-9914-45d6-a2ec-b72ec57e684b",
   "metadata": {},
   "outputs": [],
   "source": [
    "# Variable onset features are simply a variable onset intercept,\n",
    "# word features and word surprisals.\n",
    "X_variable = torch.concat(\n",
    "    [torch.ones_like(story_stim.word_surprisals).unsqueeze(1),\n",
    "     story_stim.word_features,\n",
    "     story_stim.word_surprisals.unsqueeze(1)],\n",
    "    dim=1)\n",
    "variable_feature_names = [\"recognition_onset\"] + story_stim.word_feature_names + [\"word_surprisal\"]\n",
    "\n",
    "assert X_variable.shape[1] == len(variable_feature_names)"
   ]
  },
  {
   "cell_type": "markdown",
   "id": "2b5c3e68-268f-449d-8335-1eb36bc7be8b",
   "metadata": {},
   "source": [
    "## Load design matrix data"
   ]
  },
  {
   "cell_type": "code",
   "execution_count": 56,
   "id": "f2ca6f4b-73f1-4348-a976-eaa6c33ef3bc",
   "metadata": {},
   "outputs": [],
   "source": [
    "with h5py.File(run_Xy) as f:\n",
    "    assert subject == f.attrs[\"subject\"]\n",
    "    assert run == f.attrs[\"run\"]\n",
    "    \n",
    "    X = f[\"X\"][()]\n",
    "    y = f[\"y\"][()].T\n",
    "    \n",
    "    sensor_names = f.attrs[\"ch_names\"]\n",
    "    ts_feature_names = f.attrs[\"feature_names\"]\n",
    "    sfreq = f.attrs[\"sfreq\"]"
   ]
  },
  {
   "cell_type": "code",
   "execution_count": 57,
   "id": "1d69879d-fdff-4d51-85b2-5f6846a0a00c",
   "metadata": {},
   "outputs": [],
   "source": [
    "assert X.shape[0] == y.shape[0]\n",
    "assert X.shape[1] == len(ts_feature_names)\n",
    "assert y.shape[1] == len(sensor_names)"
   ]
  },
  {
   "cell_type": "markdown",
   "id": "1034c5c6-4c60-476a-9741-76b25c3f0052",
   "metadata": {},
   "source": [
    "## Load aligned word/phoneme presentation data"
   ]
  },
  {
   "cell_type": "code",
   "execution_count": 70,
   "id": "fb2dcb33-2431-40bf-88e3-0ae790c678bc",
   "metadata": {},
   "outputs": [
    {
     "data": {
      "text/html": [
       "<div>\n",
       "<style scoped>\n",
       "    .dataframe tbody tr th:only-of-type {\n",
       "        vertical-align: middle;\n",
       "    }\n",
       "\n",
       "    .dataframe tbody tr th {\n",
       "        vertical-align: top;\n",
       "    }\n",
       "\n",
       "    .dataframe thead th {\n",
       "        text-align: right;\n",
       "    }\n",
       "</style>\n",
       "<table border=\"1\" class=\"dataframe\">\n",
       "  <thead>\n",
       "    <tr style=\"text-align: right;\">\n",
       "      <th></th>\n",
       "      <th>word_idx</th>\n",
       "      <th>word</th>\n",
       "      <th>onset</th>\n",
       "      <th>offset</th>\n",
       "      <th>token_idx</th>\n",
       "    </tr>\n",
       "  </thead>\n",
       "  <tbody>\n",
       "    <tr>\n",
       "      <th>0</th>\n",
       "      <td>0</td>\n",
       "      <td>WHEN</td>\n",
       "      <td>1.17</td>\n",
       "      <td>1.31</td>\n",
       "      <td>688</td>\n",
       "    </tr>\n",
       "    <tr>\n",
       "      <th>1</th>\n",
       "      <td>1</td>\n",
       "      <td>THE</td>\n",
       "      <td>1.31</td>\n",
       "      <td>1.37</td>\n",
       "      <td>689</td>\n",
       "    </tr>\n",
       "    <tr>\n",
       "      <th>2</th>\n",
       "      <td>2</td>\n",
       "      <td>WIND</td>\n",
       "      <td>1.37</td>\n",
       "      <td>1.61</td>\n",
       "      <td>690</td>\n",
       "    </tr>\n",
       "    <tr>\n",
       "      <th>3</th>\n",
       "      <td>3</td>\n",
       "      <td>WAS</td>\n",
       "      <td>1.61</td>\n",
       "      <td>1.77</td>\n",
       "      <td>691</td>\n",
       "    </tr>\n",
       "    <tr>\n",
       "      <th>4</th>\n",
       "      <td>4</td>\n",
       "      <td>IN</td>\n",
       "      <td>1.77</td>\n",
       "      <td>1.87</td>\n",
       "      <td>692</td>\n",
       "    </tr>\n",
       "    <tr>\n",
       "      <th>...</th>\n",
       "      <td>...</td>\n",
       "      <td>...</td>\n",
       "      <td>...</td>\n",
       "      <td>...</td>\n",
       "      <td>...</td>\n",
       "    </tr>\n",
       "    <tr>\n",
       "      <th>562</th>\n",
       "      <td>541</td>\n",
       "      <td>AND</td>\n",
       "      <td>179.26</td>\n",
       "      <td>179.35</td>\n",
       "      <td>1364</td>\n",
       "    </tr>\n",
       "    <tr>\n",
       "      <th>563</th>\n",
       "      <td>542</td>\n",
       "      <td>YOUR</td>\n",
       "      <td>179.35</td>\n",
       "      <td>179.56</td>\n",
       "      <td>1365</td>\n",
       "    </tr>\n",
       "    <tr>\n",
       "      <th>564</th>\n",
       "      <td>543</td>\n",
       "      <td>EYES</td>\n",
       "      <td>179.56</td>\n",
       "      <td>179.77</td>\n",
       "      <td>1366</td>\n",
       "    </tr>\n",
       "    <tr>\n",
       "      <th>565</th>\n",
       "      <td>544</td>\n",
       "      <td>ARE</td>\n",
       "      <td>179.77</td>\n",
       "      <td>179.83</td>\n",
       "      <td>1367</td>\n",
       "    </tr>\n",
       "    <tr>\n",
       "      <th>566</th>\n",
       "      <td>545</td>\n",
       "      <td>GOOD</td>\n",
       "      <td>179.83</td>\n",
       "      <td>180.16</td>\n",
       "      <td>1368</td>\n",
       "    </tr>\n",
       "  </tbody>\n",
       "</table>\n",
       "<p>567 rows × 5 columns</p>\n",
       "</div>"
      ],
      "text/plain": [
       "     word_idx  word   onset  offset  token_idx\n",
       "0           0  WHEN    1.17    1.31        688\n",
       "1           1   THE    1.31    1.37        689\n",
       "2           2  WIND    1.37    1.61        690\n",
       "3           3   WAS    1.61    1.77        691\n",
       "4           4    IN    1.77    1.87        692\n",
       "..        ...   ...     ...     ...        ...\n",
       "562       541   AND  179.26  179.35       1364\n",
       "563       542  YOUR  179.35  179.56       1365\n",
       "564       543  EYES  179.56  179.77       1366\n",
       "565       544   ARE  179.77  179.83       1367\n",
       "566       545  GOOD  179.83  180.16       1368\n",
       "\n",
       "[567 rows x 5 columns]"
      ]
     },
     "execution_count": 70,
     "metadata": {},
     "output_type": "execute_result"
    }
   ],
   "source": [
    "word_aligned_df = pd.read_csv(aligned_words, index_col=[0, 1]).loc[run].reset_index()\n",
    "phoneme_aligned_df = pd.read_csv(aligned_phonemes, index_col=[0, 1]).loc[run].reset_index()\n",
    "word_aligned_df"
   ]
  },
  {
   "cell_type": "code",
   "execution_count": 77,
   "id": "989b45fe-c516-45cd-b84e-9abb6943b4fe",
   "metadata": {},
   "outputs": [
    {
     "data": {
      "text/plain": [
       "{16,\n",
       " 46,\n",
       " 68,\n",
       " 116,\n",
       " 141,\n",
       " 170,\n",
       " 199,\n",
       " 227,\n",
       " 278,\n",
       " 301,\n",
       " 326,\n",
       " 349,\n",
       " 370,\n",
       " 399,\n",
       " 451,\n",
       " 503,\n",
       " 526}"
      ]
     },
     "execution_count": 77,
     "metadata": {},
     "output_type": "execute_result"
    },
    {
     "data": {
      "image/png": "[encoded data removed]",
      "text/plain": [
       "<Figure size 1080x72 with 1 Axes>"
      ]
     },
     "metadata": {
      "needs_background": "light"
     },
     "output_type": "display_data"
    }
   ],
   "source": [
    "# Not all words in the presentation will be retained in the stimulus: words which\n",
    "# ended up at the start of an input time series to the model were dropped, because\n",
    "# the model didn't have those values as targets.\n",
    "#\n",
    "# By the above logic, the missing words will likely be distributed roughly evenly\n",
    "# throughout the stimulus.\n",
    "words_missing_in_stimulus = set(word_aligned_df.word_idx) - set(story_stim.word_ids.numpy())\n",
    "\n",
    "plt.figure(figsize=(15, 1))\n",
    "plt.hlines(0, 0, story_stim.word_ids.max())\n",
    "plt.plot(list(words_missing_in_stimulus), np.zeros(len(words_missing_in_stimulus)), 'ro', ms=8, mfc='r')\n",
    "plt.axis('off')\n",
    "plt.title(\"Words missing in stimulus representation\")\n",
    "plt.tight_layout()\n",
    "\n",
    "words_missing_in_stimulus"
   ]
  },
  {
   "cell_type": "code",
   "execution_count": 78,
   "id": "b10e29cc-d411-4899-b7a6-9226af994c6e",
   "metadata": {},
   "outputs": [],
   "source": [
    "assert 0 == len(set(story_stim.word_ids.numpy()) - set(word_aligned_df.word_idx)), \\\n",
    "    \"Stim words are present which are missing from the aligned data!\""
   ]
  },
  {
   "cell_type": "markdown",
   "id": "504fe2be-bed9-44c1-a341-136a929d4df9",
   "metadata": {},
   "source": [
    "## Load signal data"
   ]
  },
  {
   "cell_type": "code",
   "execution_count": 79,
   "id": "1397bb9e-a151-458c-8f66-2066b30a7788",
   "metadata": {},
   "outputs": [
    {
     "data": {
      "text/plain": [
       "163.7265625"
      ]
     },
     "execution_count": 79,
     "metadata": {},
     "output_type": "execute_result"
    }
   ],
   "source": [
    "min_time, max_time = 0, len(X) / sfreq\n",
    "max_time"
   ]
  },
  {
   "cell_type": "code",
   "execution_count": 80,
   "id": "8baf303e-3a30-4760-a47f-525f4f1feb93",
   "metadata": {},
   "outputs": [
    {
     "name": "stdout",
     "output_type": "stream",
     "text": [
      "46, 134 chopped words/phonemes. Dropping.\n"
     ]
    }
   ],
   "source": [
    "# Check compatibility with alignment data.\n",
    "assert min_time <= word_aligned_df.onset.min()\n",
    "assert min_time <= phoneme_aligned_df.onset.min()\n",
    "\n",
    "# NB looks like the last sentence-ish of each run is truncated from the signal\n",
    "# data. TODO double check this with authors?\n",
    "# assert max_time >= word_aligned_df.offset.max()\n",
    "# assert max_time >= phoneme_aligned_df.offset.max()\n",
    "chopped_words = word_aligned_df.offset >= max_time\n",
    "chopped_phonemes = phoneme_aligned_df.offset >= max_time\n",
    "print(f\"{chopped_words.sum()}, {chopped_phonemes.sum()} chopped words/phonemes. Dropping.\")\n",
    "\n",
    "word_aligned_df = word_aligned_df[~chopped_words]\n",
    "phoneme_aligned_df = phoneme_aligned_df[~chopped_phonemes]"
   ]
  },
  {
   "cell_type": "code",
   "execution_count": 85,
   "id": "b12999f2-5d40-4580-89aa-1e8993247215",
   "metadata": {},
   "outputs": [
    {
     "name": "stdout",
     "output_type": "stream",
     "text": [
      "Also dropping 1 orphaned phonemes.\n"
     ]
    }
   ],
   "source": [
    "# We may have residual phonemes without a corresponding word now. Remove those.\n",
    "orphaned_phonemes = ~phoneme_aligned_df.word_idx.isin(word_aligned_df.word_idx)\n",
    "if orphaned_phonemes.any():\n",
    "    print(f\"Also dropping {orphaned_phonemes.sum()} orphaned phonemes.\")\n",
    "    phoneme_aligned_df = phoneme_aligned_df[~orphaned_phonemes]"
   ]
  },
  {
   "cell_type": "code",
   "execution_count": 88,
   "id": "ec525b5b-44ca-474e-928c-f3c79494091b",
   "metadata": {},
   "outputs": [],
   "source": [
    "# Check consistency.\n",
    "assert set(word_aligned_df.word_idx) == set(phoneme_aligned_df.word_idx)"
   ]
  },
  {
   "cell_type": "markdown",
   "id": "69a390af-4501-4259-957a-cae23e7c5584",
   "metadata": {},
   "source": [
    "## Produce BerpDataset representations"
   ]
  },
  {
   "cell_type": "code",
   "execution_count": 91,
   "id": "ece3d43a-0108-45c3-a8bb-cff6272e26cb",
   "metadata": {},
   "outputs": [],
   "source": [
    "# Now produce onset information from canonical aligned data.\n",
    "# NB this will contain NaNs if there was misalignment above.\n",
    "word_onsets = word_aligned_df.groupby(\"word_idx\").onset.min().to_dict()\n",
    "word_onsets = torch.tensor([word_onsets.get(word_id.item(), np.nan)\n",
    "                            for word_id in story_stim.word_ids])\n",
    "\n",
    "word_offsets = word_aligned_df.groupby(\"word_idx\").offset.max().to_dict()\n",
    "word_offsets = torch.tensor([word_offsets.get(word_id.item(), np.nan)\n",
    "                             for word_id in story_stim.word_ids])"
   ]
  },
  {
   "cell_type": "code",
   "execution_count": 95,
   "id": "788d22b9-a3df-41b3-b46f-4b025f4ebc02",
   "metadata": {},
   "outputs": [],
   "source": [
    "# Compute phoneme onsets relative to word onset.\n",
    "phoneme_onsets = phoneme_aligned_df.groupby(\"word_idx\") \\\n",
    "    .apply(lambda xs: list(xs.onset - xs.onset.min())).to_dict()\n",
    "phoneme_onsets = [torch.tensor(phoneme_onsets.get(word_id.item(), [np.nan]))\n",
    "                  for word_id in story_stim.word_ids]"
   ]
  },
  {
   "cell_type": "code",
   "execution_count": 97,
   "id": "6b9f95a4-461a-41c8-b905-2d85627f0e70",
   "metadata": {},
   "outputs": [],
   "source": [
    "max_num_phonemes = max(len(onsets) for onsets in phoneme_onsets)\n",
    "# Sanity check: max_num_phonemes as computed from aligned data should\n",
    "# match that produced earlier by the natural language stimulus processor\n",
    "assert max_num_phonemes == story_stim.max_n_phonemes, \\\n",
    "    \"%d %d\" % (max_num_phonemes, story_stim.max_n_phonemes)"
   ]
  },
  {
   "cell_type": "code",
   "execution_count": 98,
   "id": "bacdcad4-7106-495d-a484-37b6633a33ea",
   "metadata": {},
   "outputs": [],
   "source": [
    "# Pad phoneme onset information\n",
    "phoneme_onsets = torch.stack([\n",
    "    pad(onsets, (0, max_num_phonemes - len(onsets)), value=0.)\n",
    "    if len(onsets) < max_num_phonemes\n",
    "    else onsets\n",
    "    for onsets in phoneme_onsets\n",
    "])"
   ]
  },
  {
   "cell_type": "code",
   "execution_count": 105,
   "id": "75c95267-5d48-4270-ac19-59c8876ae342",
   "metadata": {},
   "outputs": [],
   "source": [
    "dataset = BerpDataset(\n",
    "    name=f\"{story_name}/{subject}_{run}\",\n",
    "    stimulus_name=story_stim.name,\n",
    "    sample_rate=sfreq,\n",
    "    \n",
    "    phonemes=story_stim.phonemes,\n",
    "    \n",
    "    word_onsets=word_onsets,\n",
    "    word_offsets=word_offsets,\n",
    "    phoneme_onsets=phoneme_onsets,\n",
    "    \n",
    "    X_ts=X,\n",
    "    ts_feature_names=ts_feature_names,\n",
    "    \n",
    "    X_variable=X_variable,\n",
    "    variable_feature_names=variable_feature_names,\n",
    "    \n",
    "    Y=y\n",
    ")"
   ]
  },
  {
   "cell_type": "code",
   "execution_count": 106,
   "id": "bfc08d54-edaa-4e43-9178-41b0251a2b95",
   "metadata": {},
   "outputs": [],
   "source": [
    "with Path(output_path).open(\"wb\") as f:\n",
    "    pickle.dump(dataset, f)"
   ]
  }
 ],
 "metadata": {
  "kernelspec": {
   "display_name": "Python 3 (ipykernel)",
   "language": "python",
   "name": "python3"
  },
  "language_info": {
   "codemirror_mode": {
    "name": "ipython",
    "version": 3
   },
   "file_extension": ".py",
   "mimetype": "text/x-python",
   "name": "python",
   "nbconvert_exporter": "python",
   "pygments_lexer": "ipython3",
   "version": "3.9.13"
  }
 },
 "nbformat": 4,
 "nbformat_minor": 5
}
