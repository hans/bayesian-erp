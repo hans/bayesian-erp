{
 "cells": [
  {
   "cell_type": "code",
   "execution_count": 1,
   "id": "e10df71a-1a18-4cc8-9463-5522488bdf26",
   "metadata": {},
   "outputs": [],
   "source": [
    "import logging\n",
    "L = logging.getLogger(__name__)\n",
    "from pathlib import Path\n",
    "import pickle\n",
    "\n",
    "import h5py\n",
    "import matplotlib.pyplot as plt\n",
    "import pandas as pd\n",
    "import numpy as np\n",
    "import torch\n",
    "from torch.nn.functional import pad\n",
    "from tqdm.auto import tqdm"
   ]
  },
  {
   "cell_type": "code",
   "execution_count": 2,
   "id": "19c779d9-57dd-43e3-af30-a3c771bfa620",
   "metadata": {},
   "outputs": [],
   "source": [
    "%load_ext autoreload\n",
    "%autoreload 2\n",
    "import sys\n",
    "sys.path.append(str(Path(\".\").resolve().parent.parent))\n",
    "\n",
    "from berp.datasets import BerpDataset, NestedBerpDataset"
   ]
  },
  {
   "cell_type": "code",
   "execution_count": 14,
   "id": "17f23ec3-6058-44e8-92b5-5b6dc07794a3",
   "metadata": {
    "tags": [
     "parameters"
    ]
   },
   "outputs": [],
   "source": [
    "story_name = \"old-man-and-the-sea-widefilt\"\n",
    "tokenizer = \"EleutherAI/gpt-neo-2.7B\"\n",
    "lm = \"EleutherAI/gpt-neo-2.7B/n10000\"\n",
    "subject = 1\n",
    "run = 15\n",
    "\n",
    "# aligned_words = \"word.csv\"\n",
    "# aligned_phonemes = \"phoneme.csv\"\n",
    "aligned_words = f\"../../workflow/heilbron2022/data/aligned/{tokenizer}/{story_name}/word.csv\"\n",
    "aligned_phonemes = f\"../../workflow/heilbron2022/data/aligned/{tokenizer}/{story_name}/phoneme.csv\"\n",
    "\n",
    "# stimulus = \"old-man-and-the-sea/run2.pkl\"\n",
    "stimulus = f\"../../workflow/heilbron2022/data/stimulus/{lm}/{story_name}/run{run}.pkl\"\n",
    "\n",
    "run_Xy = f\"../../workflow/heilbron2022/data/run_Xy/{story_name}/sub{subject}/run{run}.h5\"\n",
    "# run_Xy = \"/home/jgauthie/om2/others/heilbron2022/notebooks/exported/Xy/words_proba/sub1/run2.h5\"\n",
    "\n",
    "target_sample_rate = 128\n",
    "output_path = f\"{story_name}.sub{subject}.run{run}.pkl\""
   ]
  },
  {
   "cell_type": "markdown",
   "id": "3282c557-9417-4f5f-987c-f817a5674a3d",
   "metadata": {},
   "source": [
    "## Load and process natural language stimulus"
   ]
  },
  {
   "cell_type": "code",
   "execution_count": 8,
   "id": "cb0eeef0-6754-4621-9596-dd88fd706031",
   "metadata": {},
   "outputs": [],
   "source": [
    "with Path(stimulus).open(\"rb\") as f:\n",
    "    story_stim = pickle.load(f)\n",
    "    \n",
    "assert story_stim.name == f\"{story_name}/run{run}\""
   ]
  },
  {
   "cell_type": "code",
   "execution_count": 9,
   "id": "fae48b57-9914-45d6-a2ec-b72ec57e684b",
   "metadata": {},
   "outputs": [],
   "source": [
    "# Variable onset features are simply a variable onset intercept,\n",
    "# word features and word surprisals.\n",
    "X_variable = torch.concat(\n",
    "    [torch.ones_like(story_stim.word_surprisals).unsqueeze(1),\n",
    "     story_stim.word_features,\n",
    "     story_stim.word_surprisals.unsqueeze(1)],\n",
    "    dim=1)\n",
    "variable_feature_names = [\"recognition_onset\"] + story_stim.word_feature_names + [\"word_surprisal\"]\n",
    "\n",
    "assert X_variable.shape[1] == len(variable_feature_names)"
   ]
  },
  {
   "cell_type": "code",
   "execution_count": 10,
   "id": "6324d161-2cb4-4790-bbd3-f42bbc570cde",
   "metadata": {},
   "outputs": [
    {
     "data": {
      "text/plain": [
       "['recognition_onset', 'word_frequency', 'word_surprisal']"
      ]
     },
     "execution_count": 10,
     "metadata": {},
     "output_type": "execute_result"
    }
   ],
   "source": [
    "variable_feature_names"
   ]
  },
  {
   "cell_type": "markdown",
   "id": "1034c5c6-4c60-476a-9741-76b25c3f0052",
   "metadata": {},
   "source": [
    "## Load aligned word/phoneme presentation data"
   ]
  },
  {
   "cell_type": "code",
   "execution_count": 15,
   "id": "fb2dcb33-2431-40bf-88e3-0ae790c678bc",
   "metadata": {},
   "outputs": [
    {
     "data": {
      "text/html": [
       "<div>\n",
       "<style scoped>\n",
       "    .dataframe tbody tr th:only-of-type {\n",
       "        vertical-align: middle;\n",
       "    }\n",
       "\n",
       "    .dataframe tbody tr th {\n",
       "        vertical-align: top;\n",
       "    }\n",
       "\n",
       "    .dataframe thead th {\n",
       "        text-align: right;\n",
       "    }\n",
       "</style>\n",
       "<table border=\"1\" class=\"dataframe\">\n",
       "  <thead>\n",
       "    <tr style=\"text-align: right;\">\n",
       "      <th></th>\n",
       "      <th>word_idx</th>\n",
       "      <th>word</th>\n",
       "      <th>onset</th>\n",
       "      <th>offset</th>\n",
       "      <th>token_idx</th>\n",
       "    </tr>\n",
       "  </thead>\n",
       "  <tbody>\n",
       "    <tr>\n",
       "      <th>0</th>\n",
       "      <td>0</td>\n",
       "      <td>HE</td>\n",
       "      <td>1.18</td>\n",
       "      <td>1.31</td>\n",
       "      <td>9364</td>\n",
       "    </tr>\n",
       "    <tr>\n",
       "      <th>1</th>\n",
       "      <td>1</td>\n",
       "      <td>HAD</td>\n",
       "      <td>1.31</td>\n",
       "      <td>1.45</td>\n",
       "      <td>9365</td>\n",
       "    </tr>\n",
       "    <tr>\n",
       "      <th>2</th>\n",
       "      <td>2</td>\n",
       "      <td>PUSHED</td>\n",
       "      <td>1.45</td>\n",
       "      <td>1.77</td>\n",
       "      <td>9366</td>\n",
       "    </tr>\n",
       "    <tr>\n",
       "      <th>3</th>\n",
       "      <td>3</td>\n",
       "      <td>HIS</td>\n",
       "      <td>1.77</td>\n",
       "      <td>1.90</td>\n",
       "      <td>9367</td>\n",
       "    </tr>\n",
       "    <tr>\n",
       "      <th>4</th>\n",
       "      <td>4</td>\n",
       "      <td>STRAW</td>\n",
       "      <td>1.90</td>\n",
       "      <td>2.33</td>\n",
       "      <td>9368</td>\n",
       "    </tr>\n",
       "    <tr>\n",
       "      <th>...</th>\n",
       "      <td>...</td>\n",
       "      <td>...</td>\n",
       "      <td>...</td>\n",
       "      <td>...</td>\n",
       "      <td>...</td>\n",
       "    </tr>\n",
       "    <tr>\n",
       "      <th>597</th>\n",
       "      <td>585</td>\n",
       "      <td>REMEMBER</td>\n",
       "      <td>180.61</td>\n",
       "      <td>181.26</td>\n",
       "      <td>10017</td>\n",
       "    </tr>\n",
       "    <tr>\n",
       "      <th>598</th>\n",
       "      <td>586</td>\n",
       "      <td>HE</td>\n",
       "      <td>181.60</td>\n",
       "      <td>181.73</td>\n",
       "      <td>10019</td>\n",
       "    </tr>\n",
       "    <tr>\n",
       "      <th>599</th>\n",
       "      <td>587</td>\n",
       "      <td>SAID</td>\n",
       "      <td>181.73</td>\n",
       "      <td>181.99</td>\n",
       "      <td>10020</td>\n",
       "    </tr>\n",
       "    <tr>\n",
       "      <th>600</th>\n",
       "      <td>588</td>\n",
       "      <td>TO</td>\n",
       "      <td>181.99</td>\n",
       "      <td>182.13</td>\n",
       "      <td>10021</td>\n",
       "    </tr>\n",
       "    <tr>\n",
       "      <th>601</th>\n",
       "      <td>589</td>\n",
       "      <td>HIMSELF</td>\n",
       "      <td>182.13</td>\n",
       "      <td>182.63</td>\n",
       "      <td>10022</td>\n",
       "    </tr>\n",
       "  </tbody>\n",
       "</table>\n",
       "<p>602 rows × 5 columns</p>\n",
       "</div>"
      ],
      "text/plain": [
       "     word_idx      word   onset  offset  token_idx\n",
       "0           0        HE    1.18    1.31       9364\n",
       "1           1       HAD    1.31    1.45       9365\n",
       "2           2    PUSHED    1.45    1.77       9366\n",
       "3           3       HIS    1.77    1.90       9367\n",
       "4           4     STRAW    1.90    2.33       9368\n",
       "..        ...       ...     ...     ...        ...\n",
       "597       585  REMEMBER  180.61  181.26      10017\n",
       "598       586        HE  181.60  181.73      10019\n",
       "599       587      SAID  181.73  181.99      10020\n",
       "600       588        TO  181.99  182.13      10021\n",
       "601       589   HIMSELF  182.13  182.63      10022\n",
       "\n",
       "[602 rows x 5 columns]"
      ]
     },
     "execution_count": 15,
     "metadata": {},
     "output_type": "execute_result"
    }
   ],
   "source": [
    "word_aligned_df = pd.read_csv(aligned_words, index_col=[0, 1]).loc[run].reset_index()\n",
    "phoneme_aligned_df = pd.read_csv(aligned_phonemes, index_col=[0, 1]).loc[run].reset_index()\n",
    "word_aligned_df"
   ]
  },
  {
   "cell_type": "markdown",
   "id": "6e6552fb-a10f-4286-a060-40a95db23257",
   "metadata": {
    "tags": []
   },
   "source": [
    "### Check for words missing in stimulus"
   ]
  },
  {
   "cell_type": "code",
   "execution_count": 16,
   "id": "989b45fe-c516-45cd-b84e-9abb6943b4fe",
   "metadata": {},
   "outputs": [
    {
     "data": {
      "text/plain": [
       "{334}"
      ]
     },
     "execution_count": 16,
     "metadata": {},
     "output_type": "execute_result"
    },
    {
     "data": {
      "image/png": "[encoded data removed]",
      "text/plain": [
       "<Figure size 1080x72 with 1 Axes>"
      ]
     },
     "metadata": {
      "needs_background": "light"
     },
     "output_type": "display_data"
    }
   ],
   "source": [
    "# Not all words in the presentation will be retained in the stimulus: words which\n",
    "# ended up at the start of an input time series to the model were dropped, because\n",
    "# the model didn't have those values as targets.\n",
    "#\n",
    "# By the above logic, the missing words will likely be distributed roughly evenly\n",
    "# throughout the stimulus.\n",
    "words_missing_in_stimulus = set(word_aligned_df.word_idx) - set(story_stim.word_ids.numpy())\n",
    "\n",
    "plt.figure(figsize=(15, 1))\n",
    "plt.hlines(0, 0, story_stim.word_ids.max())\n",
    "plt.plot(list(words_missing_in_stimulus), np.zeros(len(words_missing_in_stimulus)), 'ro', ms=8, mfc='r')\n",
    "plt.axis('off')\n",
    "plt.title(\"Words missing in stimulus representation\")\n",
    "plt.tight_layout()\n",
    "\n",
    "words_missing_in_stimulus"
   ]
  },
  {
   "cell_type": "code",
   "execution_count": 17,
   "id": "b10e29cc-d411-4899-b7a6-9226af994c6e",
   "metadata": {},
   "outputs": [],
   "source": [
    "assert 0 == len(set(story_stim.word_ids.numpy()) - set(word_aligned_df.word_idx)), \\\n",
    "    \"Stim words are present which are missing from the aligned data!\""
   ]
  },
  {
   "cell_type": "markdown",
   "id": "6d8e1a68-9271-445d-9c5d-c731df836df2",
   "metadata": {},
   "source": [
    "### Check for phonemes missing in stimulus\n",
    "\n",
    "We're guiding the check by `story_stim.word_ids`, so we won't run into any of the missing words we already uncovered in `word_ids` above."
   ]
  },
  {
   "cell_type": "code",
   "execution_count": 18,
   "id": "d083247f-f61a-4335-8a1a-d36322ea3a60",
   "metadata": {},
   "outputs": [],
   "source": [
    "# Phoneme annotations according to aligned df\n",
    "aligned_phoneme_lookup = phoneme_aligned_df.groupby(\"word_idx\").phoneme.apply(tuple).to_dict()\n",
    "\n",
    "for i, word_id in enumerate(story_stim.word_ids.numpy()):\n",
    "    stim_phons = story_stim.get_candidate_strs(i, 1)[0]\n",
    "    aligned_phons = aligned_phoneme_lookup[word_id]\n",
    "\n",
    "    assert aligned_phons == stim_phons, \\\n",
    "        f\"{word_id}: {aligned_phons} != {stim_phons}\""
   ]
  },
  {
   "cell_type": "markdown",
   "id": "2b5c3e68-268f-449d-8335-1eb36bc7be8b",
   "metadata": {},
   "source": [
    "## Load design matrix data"
   ]
  },
  {
   "cell_type": "code",
   "execution_count": 19,
   "id": "f2ca6f4b-73f1-4348-a976-eaa6c33ef3bc",
   "metadata": {},
   "outputs": [],
   "source": [
    "with h5py.File(run_Xy) as f:\n",
    "    assert subject == f.attrs[\"subject\"]\n",
    "    assert run == f.attrs[\"run\"]\n",
    "    \n",
    "    X = f[\"X\"][()]\n",
    "    y = f[\"y\"][()].T\n",
    "    \n",
    "    sensor_names = f.attrs[\"ch_names\"].tolist()\n",
    "    ts_feature_names = f.attrs[\"feature_names\"].tolist()\n",
    "    sfreq = f.attrs[\"sfreq\"]"
   ]
  },
  {
   "cell_type": "code",
   "execution_count": 20,
   "id": "1d69879d-fdff-4d51-85b2-5f6846a0a00c",
   "metadata": {},
   "outputs": [],
   "source": [
    "assert X.shape[0] == y.shape[0]\n",
    "assert X.shape[1] == len(ts_feature_names)\n",
    "assert y.shape[1] == len(sensor_names)"
   ]
  },
  {
   "cell_type": "markdown",
   "id": "bf5cd19d",
   "metadata": {},
   "source": [
    "### Add intercept feature to time series"
   ]
  },
  {
   "cell_type": "code",
   "execution_count": 21,
   "id": "3a359c1f-6638-4ef3-a445-4d9380d0c1c2",
   "metadata": {},
   "outputs": [],
   "source": [
    "X = np.hstack([np.ones((X.shape[0], 1)), X])\n",
    "ts_feature_names = ['intercept'] + ts_feature_names"
   ]
  },
  {
   "cell_type": "markdown",
   "id": "573308d4-d7f7-402a-b435-a1ca0be543b7",
   "metadata": {},
   "source": [
    "### Remove surprisal+frequency data"
   ]
  },
  {
   "cell_type": "code",
   "execution_count": 22,
   "id": "965bc4e9-2d79-47e8-b70c-928b92011718",
   "metadata": {},
   "outputs": [
    {
     "data": {
      "text/plain": [
       "['intercept',\n",
       " 'all_words_onset',\n",
       " 'all_phons_onset',\n",
       " 'all_phons_pitch',\n",
       " 'all_phons_env_var',\n",
       " 'all_phons_surprisals',\n",
       " 'all_phons_sg1',\n",
       " 'all_phons_sg2',\n",
       " 'all_phons_sg3',\n",
       " 'all_phons_sg4',\n",
       " 'all_phons_sg5',\n",
       " 'all_phons_sg6',\n",
       " 'all_phons_sg7',\n",
       " 'all_phons_sg8']"
      ]
     },
     "execution_count": 22,
     "metadata": {},
     "output_type": "execute_result"
    }
   ],
   "source": [
    "drop_ts_features = [\"all_words_lexical_surprise\", \"all_words_unigram_surprise\"]\n",
    "keep_ts_feature_idxs = [i for i, name in enumerate(ts_feature_names) if name not in drop_ts_features]\n",
    "\n",
    "X = X[:, keep_ts_feature_idxs]\n",
    "ts_feature_names = [name for i, name in enumerate(ts_feature_names) if i in keep_ts_feature_idxs]\n",
    "ts_feature_names"
   ]
  },
  {
   "cell_type": "markdown",
   "id": "18bd3e5b-3a50-41c7-87c5-bd39e011ef2c",
   "metadata": {},
   "source": [
    "## Check agreement of onset features with alignment"
   ]
  },
  {
   "cell_type": "markdown",
   "id": "929e7d00-e1a4-4f4e-9242-6ce16229c3be",
   "metadata": {
    "tags": []
   },
   "source": [
    "### Word onset\n",
    "\n",
    "Verify that the word onsets as represented in the design matrix agree with the word onset data as given in the aligned annotation."
   ]
  },
  {
   "cell_type": "code",
   "execution_count": 23,
   "id": "d2be90bf-aca9-4726-8223-d13ff68bbe54",
   "metadata": {},
   "outputs": [
    {
     "data": {
      "text/plain": [
       "array([1.1796875, 1.3125   , 1.453125 , 1.7734375, 1.8984375, 2.328125 ,\n",
       "       2.59375  , 3.       , 3.2734375, 3.3984375])"
      ]
     },
     "execution_count": 23,
     "metadata": {},
     "output_type": "execute_result"
    }
   ],
   "source": [
    "word_onset_idx = ts_feature_names.index(\"all_words_onset\")\n",
    "X_onset_times = X[:, word_onset_idx].nonzero()[0] / sfreq\n",
    "X_onset_times[:10]"
   ]
  },
  {
   "cell_type": "code",
   "execution_count": 24,
   "id": "26ea3877-01ef-474c-b2aa-7ba66ee3ac5f",
   "metadata": {},
   "outputs": [
    {
     "data": {
      "text/plain": [
       "array([1.18, 1.31, 1.45, 1.77, 1.9 , 2.33, 2.59, 3.  , 3.27, 3.4 ])"
      ]
     },
     "execution_count": 24,
     "metadata": {},
     "output_type": "execute_result"
    }
   ],
   "source": [
    "aligned_onset_times = word_aligned_df.groupby(\"word_idx\").onset.min()\n",
    "aligned_onset_times.values[:10]"
   ]
  },
  {
   "cell_type": "code",
   "execution_count": 25,
   "id": "0850046b-cf9c-4efb-a97b-67d7cb045c8c",
   "metadata": {},
   "outputs": [
    {
     "data": {
      "image/png": "[encoded data removed]",
      "text/plain": [
       "<Figure size 1080x108 with 1 Axes>"
      ]
     },
     "metadata": {
      "needs_background": "light"
     },
     "output_type": "display_data"
    }
   ],
   "source": [
    "plt.figure(figsize=(15, 1.5))\n",
    "plt.hlines(0, 0, X_onset_times.max())\n",
    "plt.plot(X_onset_times, np.zeros(len(X_onset_times)), 'ro', ms=8, mfc='r')\n",
    "plt.plot(aligned_onset_times, np.ones(len(aligned_onset_times)), 'go', ms=8)\n",
    "plt.axis('off')\n",
    "plt.tight_layout()"
   ]
  },
  {
   "cell_type": "code",
   "execution_count": 26,
   "id": "d217f7a5-2c87-420f-8d5b-52d18f30b8e1",
   "metadata": {},
   "outputs": [],
   "source": [
    "# Words that appear in the Heilbron annotation but don't make any sense,\n",
    "# and which we want to ignore.\n",
    "FORSAKEN_WORDS = [\n",
    "    # run_idx, word_onset, first_phoneme_onset, num_phonemes\n",
    "    (3, 22.77, 22.77, 4),  # \"boat\" transcribed phonemically as /buks/\n",
    "    (16, 102.51, 102.52, 7),  # \"dubbing\" transcribed as /dklʌbɪŋ/\n",
    "]"
   ]
  },
  {
   "cell_type": "code",
   "execution_count": 27,
   "id": "19f004d2-1fa6-4724-b017-b42171f30526",
   "metadata": {},
   "outputs": [],
   "source": [
    "# NB aligned annotation only has precision to 2 places, so we'll have to round.\n",
    "X_onset_times_corrected = X_onset_times.round(2)\n",
    "drop_times = np.array([time for exc_run, time, _, _ in FORSAKEN_WORDS if exc_run == run])\n",
    "X_onset_times_corrected = X_onset_times_corrected[~np.in1d(X_onset_times_corrected, drop_times)]"
   ]
  },
  {
   "cell_type": "code",
   "execution_count": 28,
   "id": "fde73eb4-3497-48d6-9da0-41c6efa0559b",
   "metadata": {},
   "outputs": [],
   "source": [
    "# len(X_onset_times_corrected), len(aligned_onset_times)"
   ]
  },
  {
   "cell_type": "code",
   "execution_count": 29,
   "id": "3c9cf902-854f-4df4-9d1c-0cacf2cc12a6",
   "metadata": {},
   "outputs": [],
   "source": [
    "# set(X_onset_times_corrected) - set(aligned_onset_times)"
   ]
  },
  {
   "cell_type": "code",
   "execution_count": 30,
   "id": "e83a91bd-7ce3-44dd-8036-f4b6cb27c0b0",
   "metadata": {},
   "outputs": [],
   "source": [
    "assert len(X_onset_times_corrected) == len(aligned_onset_times)"
   ]
  },
  {
   "cell_type": "code",
   "execution_count": 31,
   "id": "1a2399bc-0a67-4682-a9c0-cf94eb894055",
   "metadata": {},
   "outputs": [],
   "source": [
    "np.testing.assert_allclose(X_onset_times_corrected, aligned_onset_times, atol=1e-1)"
   ]
  },
  {
   "cell_type": "code",
   "execution_count": 32,
   "id": "ed0e0f6f-8e28-42ba-a515-6c3c935cbd49",
   "metadata": {},
   "outputs": [],
   "source": [
    "# # Find overlap\n",
    "# array1 = X_onset_times\n",
    "# array2 = word_aligned_df.onset.unique()\n",
    "# import itertools\n",
    "# from tqdm.auto import trange\n",
    "# matches = []\n",
    "# no_match = []\n",
    "# for i0 in trange(array1.shape[0]):\n",
    "#     for i1 in range(array2.shape[0]):\n",
    "#         if np.isclose(array1[i0], array2[i1], atol=1e-1):\n",
    "#             matches.append((i0, i1))\n",
    "#             break\n",
    "#     else:\n",
    "#         no_match.append(i0)"
   ]
  },
  {
   "cell_type": "code",
   "execution_count": 33,
   "id": "147b4494-3d65-4e69-8fb1-05926132e9b0",
   "metadata": {},
   "outputs": [],
   "source": [
    "# len(no_match)"
   ]
  },
  {
   "cell_type": "code",
   "execution_count": 34,
   "id": "418241c6-62fb-45f0-847d-5ffc64b7f8fe",
   "metadata": {},
   "outputs": [],
   "source": [
    "# len(matches)"
   ]
  },
  {
   "cell_type": "code",
   "execution_count": 35,
   "id": "d3a13ab2-221e-4aed-bc23-6c3957bcf228",
   "metadata": {},
   "outputs": [],
   "source": [
    "# plt.figure(figsize=(15, 2))\n",
    "# plt.hlines(0, 0, X_onset_times.max())\n",
    "# mask = np.zeros(len(X_onset_times), dtype=bool)\n",
    "# mask[no_match] = True\n",
    "# plt.plot(X_onset_times[mask], np.zeros(mask.sum()), 'ro', ms=8, mfc='r', alpha=0.3)\n",
    "# plt.plot(X_onset_times[~mask], np.zeros((~mask).sum()), 'ro', ms=8, mfc='g', alpha=0.3)\n",
    "# # plt.plot(word_aligned_df.onset.values, np.ones(len(word_aligned_df)), 'go', ms=8)\n",
    "# plt.axis('off')\n",
    "# plt.tight_layout()"
   ]
  },
  {
   "cell_type": "markdown",
   "id": "289da941-787c-46ef-a4c7-c8271af807f0",
   "metadata": {},
   "source": [
    "### Phoneme onset\n",
    "\n",
    "We'll do the same thing now for phoneme onsets, making sure there are no discrepancies between our understanding of phoneme onset and the assumptions going into the design matrix production."
   ]
  },
  {
   "cell_type": "code",
   "execution_count": 36,
   "id": "13412c57-c9f8-4b87-9bd8-00df751f2ba6",
   "metadata": {},
   "outputs": [
    {
     "data": {
      "text/plain": [
       "array([1.1796875, 1.234375 , 1.3125   , 1.34375  , 1.3828125, 1.453125 ,\n",
       "       1.53125  , 1.6328125, 1.7109375, 1.7734375])"
      ]
     },
     "execution_count": 36,
     "metadata": {},
     "output_type": "execute_result"
    }
   ],
   "source": [
    "phon_onset_idx = ts_feature_names.index(\"all_phons_onset\")\n",
    "X_phon_onset_times = X[:, phon_onset_idx].nonzero()[0] / sfreq\n",
    "X_phon_onset_times[:10]"
   ]
  },
  {
   "cell_type": "code",
   "execution_count": 37,
   "id": "d4af7aef-6af2-4b3e-b596-eca6b0558060",
   "metadata": {},
   "outputs": [
    {
     "data": {
      "text/plain": [
       "array([1.18, 1.23, 1.31, 1.34, 1.38, 1.45, 1.53, 1.63, 1.71, 1.77])"
      ]
     },
     "execution_count": 37,
     "metadata": {},
     "output_type": "execute_result"
    }
   ],
   "source": [
    "aligned_phon_onset_times = phoneme_aligned_df.onset\n",
    "aligned_phon_onset_times.values[:10]"
   ]
  },
  {
   "cell_type": "code",
   "execution_count": 38,
   "id": "87ac360c-1b62-4702-b4f6-bc7c4ac06848",
   "metadata": {},
   "outputs": [
    {
     "data": {
      "image/png": "[encoded data removed]",
      "text/plain": [
       "<Figure size 1080x108 with 1 Axes>"
      ]
     },
     "metadata": {
      "needs_background": "light"
     },
     "output_type": "display_data"
    }
   ],
   "source": [
    "plt.figure(figsize=(15, 1.5))\n",
    "plt.hlines(0, 0, X_phon_onset_times.max())\n",
    "plt.plot(X_phon_onset_times, np.zeros(len(X_phon_onset_times)), 'ro', ms=8, mfc='r')\n",
    "plt.plot(aligned_phon_onset_times, np.ones(len(aligned_phon_onset_times)), 'go', ms=8)\n",
    "plt.axis('off')\n",
    "plt.tight_layout()"
   ]
  },
  {
   "cell_type": "code",
   "execution_count": 39,
   "id": "7266532c-e8a7-4dbb-b908-9c87fb697ea6",
   "metadata": {},
   "outputs": [],
   "source": [
    "X_phon_onset_times_corrected = X_phon_onset_times.round(2)\n",
    "# Drop onset times for phonemes from `FORSAKEN_WORDS`\n",
    "for exc_run, _, first_phon_onset_time, num_phonemes in FORSAKEN_WORDS:\n",
    "    if exc_run == run:\n",
    "        drop_start_idx = np.where(X_phon_onset_times_corrected == first_phon_onset_time)[0][0]\n",
    "        X_phon_onset_times_corrected = np.concatenate([X_phon_onset_times_corrected[:drop_start_idx],\n",
    "                                                       X_phon_onset_times_corrected[drop_start_idx + num_phonemes:]])\n",
    "X_onset_times_corrected = X_onset_times_corrected[~np.in1d(X_onset_times_corrected, drop_times)]"
   ]
  },
  {
   "cell_type": "code",
   "execution_count": 40,
   "id": "a1a3e6f8-4cef-4969-aad4-3ce1ab06d61c",
   "metadata": {},
   "outputs": [],
   "source": [
    "# len(X_phon_onset_times_corrected), len(aligned_phon_onset_times)"
   ]
  },
  {
   "cell_type": "code",
   "execution_count": 41,
   "id": "56e597bd-38fe-476b-bb77-0ff3d7997c90",
   "metadata": {},
   "outputs": [],
   "source": [
    "# set(X_phon_onset_times_corrected) - set(aligned_phon_onset_times)"
   ]
  },
  {
   "cell_type": "code",
   "execution_count": 42,
   "id": "7d1c9663-cf1e-49d0-9811-13b7c7881093",
   "metadata": {},
   "outputs": [],
   "source": [
    "np.testing.assert_allclose(X_phon_onset_times_corrected, aligned_phon_onset_times, atol=1e-2, rtol=1e-2)"
   ]
  },
  {
   "cell_type": "markdown",
   "id": "504fe2be-bed9-44c1-a341-136a929d4df9",
   "metadata": {},
   "source": [
    "## Load signal data"
   ]
  },
  {
   "cell_type": "code",
   "execution_count": 43,
   "id": "1397bb9e-a151-458c-8f66-2066b30a7788",
   "metadata": {},
   "outputs": [
    {
     "data": {
      "text/plain": [
       "377.3359375"
      ]
     },
     "execution_count": 43,
     "metadata": {},
     "output_type": "execute_result"
    }
   ],
   "source": [
    "min_time, max_time = 0, len(X) / sfreq\n",
    "max_time"
   ]
  },
  {
   "cell_type": "code",
   "execution_count": 44,
   "id": "8baf303e-3a30-4760-a47f-525f4f1feb93",
   "metadata": {},
   "outputs": [],
   "source": [
    "# Check compatibility with alignment data.\n",
    "assert min_time <= word_aligned_df.onset.min()\n",
    "assert min_time <= phoneme_aligned_df.onset.min()\n",
    "assert max_time >= word_aligned_df.offset.max()\n",
    "assert max_time >= phoneme_aligned_df.offset.max()"
   ]
  },
  {
   "cell_type": "markdown",
   "id": "13b173f2-892c-4afa-97c4-7db41be597dd",
   "metadata": {},
   "source": [
    "## Replace onset features\n",
    "\n",
    "Even though we already checked that the two annotations agree, we're going to insert our own aligned to the sample rate, just to make sure the setup is absolutely perfect."
   ]
  },
  {
   "cell_type": "code",
   "execution_count": 45,
   "id": "5d393433-6208-455c-ba1a-72c29113c5d4",
   "metadata": {},
   "outputs": [],
   "source": [
    "word_aligned_df[\"onset\"] = (word_aligned_df[\"onset\"] * target_sample_rate).round() / target_sample_rate\n",
    "word_aligned_df[\"offset\"] = (word_aligned_df[\"offset\"] * target_sample_rate).round() / target_sample_rate\n",
    "phoneme_aligned_df[\"onset\"] = (phoneme_aligned_df[\"onset\"] * target_sample_rate).round() / target_sample_rate\n",
    "phoneme_aligned_df[\"offset\"] = (phoneme_aligned_df[\"offset\"] * target_sample_rate).round() / target_sample_rate\n",
    "phoneme_aligned_df[\"offset_word\"] = (phoneme_aligned_df[\"offset_word\"] * target_sample_rate).round() / target_sample_rate"
   ]
  },
  {
   "cell_type": "code",
   "execution_count": 46,
   "id": "d52f8b54-ac39-45cb-93c6-6c407b1dffb5",
   "metadata": {},
   "outputs": [],
   "source": [
    "word_onset_samples = (word_aligned_df[\"onset\"] * target_sample_rate).astype(int)\n",
    "phoneme_onset_samples = (phoneme_aligned_df[\"onset\"] * target_sample_rate).astype(int)\n",
    "\n",
    "# Drop words+phonemes which extend past the end of the time series.\n",
    "word_onset_samples = word_onset_samples[word_onset_samples < len(X)]\n",
    "phoneme_onset_samples = phoneme_onset_samples[phoneme_onset_samples < len(X)]\n",
    "\n",
    "word_onset_features = np.zeros((len(X), 1))\n",
    "phoneme_onset_features = np.zeros((len(X), 1))\n",
    "word_onset_features[word_onset_samples] = 1\n",
    "phoneme_onset_features[phoneme_onset_samples] = 1\n",
    "\n",
    "X = np.concatenate((X, word_onset_features, phoneme_onset_features), axis=1)\n",
    "ts_feature_names += [\"word_onset\", \"phoneme_onset\"]\n",
    "assert X.shape[1] == len(ts_feature_names)"
   ]
  },
  {
   "cell_type": "code",
   "execution_count": 47,
   "id": "b6a9a04b-760e-4f75-be6c-1bc52a3d6cad",
   "metadata": {},
   "outputs": [
    {
     "name": "stderr",
     "output_type": "stream",
     "text": [
      "No feature c_words_onset\n"
     ]
    }
   ],
   "source": [
    "# Remove Heilbron onset data.\n",
    "remove_onset_features = [\"all_words_onset\", \"c_words_onset\", \"all_phons_onset\"]\n",
    "for feat in remove_onset_features:\n",
    "    try:\n",
    "        feat_idx = ts_feature_names.index(feat)\n",
    "    except ValueError:\n",
    "        L.warning(f\"No feature {feat}\")\n",
    "    else:\n",
    "        X = np.delete(X, feat_idx, axis=1)\n",
    "        ts_feature_names = ts_feature_names[:feat_idx] + ts_feature_names[feat_idx + 1:]\n",
    "        \n",
    "assert X.shape[1] == len(ts_feature_names)"
   ]
  },
  {
   "cell_type": "markdown",
   "id": "69a390af-4501-4259-957a-cae23e7c5584",
   "metadata": {},
   "source": [
    "## Produce BerpDataset representations"
   ]
  },
  {
   "cell_type": "code",
   "execution_count": 54,
   "id": "ece3d43a-0108-45c3-a8bb-cff6272e26cb",
   "metadata": {},
   "outputs": [],
   "source": [
    "# Now produce onset information from canonical aligned data.\n",
    "word_onsets = word_aligned_df.groupby(\"word_idx\").onset.min().to_dict()\n",
    "word_onsets = torch.tensor([word_onsets.get(word_id.item(), np.nan)\n",
    "                            for word_id in story_stim.word_ids])\n",
    "\n",
    "word_offsets = word_aligned_df.groupby(\"word_idx\").offset.max().to_dict()\n",
    "word_offsets = torch.tensor([word_offsets.get(word_id.item(), np.nan)\n",
    "                             for word_id in story_stim.word_ids])\n",
    "\n",
    "assert len(word_onsets) == len(story_stim.word_lengths)\n",
    "assert len(word_offsets) == len(story_stim.word_lengths)"
   ]
  },
  {
   "cell_type": "code",
   "execution_count": 49,
   "id": "788d22b9-a3df-41b3-b46f-4b025f4ebc02",
   "metadata": {},
   "outputs": [],
   "source": [
    "# Compute phoneme onsets relative to word onset.\n",
    "phoneme_onsets = phoneme_aligned_df.groupby(\"word_idx\") \\\n",
    "    .apply(lambda xs: list(xs.onset - xs.onset.min())).to_dict()\n",
    "phoneme_onsets = [torch.tensor(phoneme_onsets.get(word_id.item(), [np.nan]))\n",
    "                  for word_id in story_stim.word_ids]"
   ]
  },
  {
   "cell_type": "code",
   "execution_count": 50,
   "id": "6b9f95a4-461a-41c8-b905-2d85627f0e70",
   "metadata": {},
   "outputs": [],
   "source": [
    "max_num_phonemes = max(len(onsets) for onsets in phoneme_onsets)\n",
    "\n",
    "# Sanity check: max_num_phonemes as computed from aligned data should\n",
    "# match that produced earlier by the natural language stimulus processor\n",
    "assert max_num_phonemes == story_stim.max_n_phonemes, \\\n",
    "    \"%d %d\" % (max_num_phonemes, story_stim.max_n_phonemes)"
   ]
  },
  {
   "cell_type": "code",
   "execution_count": 51,
   "id": "bacdcad4-7106-495d-a484-37b6633a33ea",
   "metadata": {},
   "outputs": [],
   "source": [
    "# Pad phoneme onset information\n",
    "phoneme_onsets = torch.stack([\n",
    "    pad(onsets, (0, max_num_phonemes - len(onsets)), value=0.)\n",
    "    if len(onsets) < max_num_phonemes\n",
    "    else onsets\n",
    "    for onsets in phoneme_onsets\n",
    "])"
   ]
  },
  {
   "cell_type": "code",
   "execution_count": 55,
   "id": "75c95267-5d48-4270-ac19-59c8876ae342",
   "metadata": {},
   "outputs": [],
   "source": [
    "dataset = BerpDataset(\n",
    "    name=f\"{story_name}/sub{subject}/run{run}\",\n",
    "    stimulus_name=story_stim.name,\n",
    "    sample_rate=int(sfreq),\n",
    "    \n",
    "    phonemes=story_stim.phonemes,\n",
    "    word_lengths=story_stim.word_lengths,\n",
    "    \n",
    "    word_onsets=word_onsets,\n",
    "    word_offsets=word_offsets,\n",
    "    phoneme_onsets=phoneme_onsets,\n",
    "    \n",
    "    X_ts=X,\n",
    "    ts_feature_names=ts_feature_names,\n",
    "    \n",
    "    X_variable=X_variable,\n",
    "    variable_feature_names=variable_feature_names,\n",
    "    \n",
    "    Y=y,\n",
    "    sensor_names=sensor_names,\n",
    ")"
   ]
  },
  {
   "cell_type": "code",
   "execution_count": 56,
   "id": "bfc08d54-edaa-4e43-9178-41b0251a2b95",
   "metadata": {},
   "outputs": [],
   "source": [
    "with Path(output_path).open(\"wb\") as f:\n",
    "    pickle.dump(dataset, f)"
   ]
  }
 ],
 "metadata": {
  "kernelspec": {
   "display_name": "Python 3 (ipykernel)",
   "language": "python",
   "name": "python3"
  },
  "language_info": {
   "codemirror_mode": {
    "name": "ipython",
    "version": 3
   },
   "file_extension": ".py",
   "mimetype": "text/x-python",
   "name": "python",
   "nbconvert_exporter": "python",
   "pygments_lexer": "ipython3",
   "version": "3.9.13"
  },
  "vscode": {
   "interpreter": {
    "hash": "ad3ae7957b733d35bf078bb149f2f6d2bad023390430cb2ebf73db3aa5db82f7"
   }
  }
 },
 "nbformat": 4,
 "nbformat_minor": 5
}
