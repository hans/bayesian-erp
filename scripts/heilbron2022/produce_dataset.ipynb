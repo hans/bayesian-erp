{
 "cells": [
  {
   "cell_type": "code",
   "execution_count": 26,
   "id": "e10df71a-1a18-4cc8-9463-5522488bdf26",
   "metadata": {},
   "outputs": [],
   "source": [
    "import logging\n",
    "L = logging.getLogger(__name__)\n",
    "from pathlib import Path\n",
    "import pickle\n",
    "\n",
    "import h5py\n",
    "import matplotlib.pyplot as plt\n",
    "import pandas as pd\n",
    "import numpy as np\n",
    "import torch\n",
    "from torch.nn.functional import pad\n",
    "from tqdm.auto import tqdm"
   ]
  },
  {
   "cell_type": "code",
   "execution_count": 27,
   "id": "19c779d9-57dd-43e3-af30-a3c771bfa620",
   "metadata": {},
   "outputs": [
    {
     "name": "stdout",
     "output_type": "stream",
     "text": [
      "The autoreload extension is already loaded. To reload it, use:\n",
      "  %reload_ext autoreload\n"
     ]
    }
   ],
   "source": [
    "%load_ext autoreload\n",
    "%autoreload 2\n",
    "import sys\n",
    "sys.path.append(str(Path(\".\").resolve().parent.parent))\n",
    "\n",
    "from berp.datasets import BerpDataset, NestedBerpDataset"
   ]
  },
  {
   "cell_type": "code",
   "execution_count": 28,
   "id": "17f23ec3-6058-44e8-92b5-5b6dc07794a3",
   "metadata": {
    "tags": [
     "parameters"
    ]
   },
   "outputs": [],
   "source": [
    "story_name = \"old-man-and-the-sea\"\n",
    "subject = 15\n",
    "run = 10\n",
    "\n",
    "# aligned_words = \"word.csv\"\n",
    "# aligned_phonemes = \"phoneme.csv\"\n",
    "aligned_words = f\"../../workflow/heilbron2022/data/aligned/distilgpt2/{story_name}/word.csv\"\n",
    "aligned_phonemes = f\"../../workflow/heilbron2022/data/aligned/distilgpt2/{story_name}/phoneme.csv\"\n",
    "\n",
    "# stimulus = \"old-man-and-the-sea/run2.pkl\"\n",
    "stimulus = f\"../../workflow/heilbron2022/data/stimulus/distilgpt2/{story_name}/run{run}.pkl\"\n",
    "\n",
    "run_Xy = f\"../../workflow/heilbron2022/data/run_Xy/{story_name}/sub{subject}/run{run}.h5\"\n",
    "# run_Xy = \"/home/jgauthie/om2/others/heilbron2022/notebooks/exported/Xy/words_proba/sub1/run2.h5\"\n",
    "\n",
    "target_sample_rate = 128\n",
    "output_path = f\"{story_name}.sub{subject}.run{run}.pkl\""
   ]
  },
  {
   "cell_type": "markdown",
   "id": "3282c557-9417-4f5f-987c-f817a5674a3d",
   "metadata": {},
   "source": [
    "## Load and process natural language stimulus"
   ]
  },
  {
   "cell_type": "code",
   "execution_count": 29,
   "id": "cb0eeef0-6754-4621-9596-dd88fd706031",
   "metadata": {},
   "outputs": [
    {
     "ename": "FileNotFoundError",
     "evalue": "[Errno 2] No such file or directory: '../../workflow/heilbron2022/data/stimulus/distilgpt2/old-man-and-the-sea/run10.pkl'",
     "output_type": "error",
     "traceback": [
      "\u001b[0;31m---------------------------------------------------------------------------\u001b[0m",
      "\u001b[0;31mFileNotFoundError\u001b[0m                         Traceback (most recent call last)",
      "Cell \u001b[0;32mIn [29], line 1\u001b[0m\n\u001b[0;32m----> 1\u001b[0m \u001b[38;5;28;01mwith\u001b[39;00m \u001b[43mPath\u001b[49m\u001b[43m(\u001b[49m\u001b[43mstimulus\u001b[49m\u001b[43m)\u001b[49m\u001b[38;5;241;43m.\u001b[39;49m\u001b[43mopen\u001b[49m\u001b[43m(\u001b[49m\u001b[38;5;124;43m\"\u001b[39;49m\u001b[38;5;124;43mrb\u001b[39;49m\u001b[38;5;124;43m\"\u001b[39;49m\u001b[43m)\u001b[49m \u001b[38;5;28;01mas\u001b[39;00m f:\n\u001b[1;32m      2\u001b[0m     story_stim \u001b[38;5;241m=\u001b[39m pickle\u001b[38;5;241m.\u001b[39mload(f)\n\u001b[1;32m      4\u001b[0m \u001b[38;5;28;01massert\u001b[39;00m story_stim\u001b[38;5;241m.\u001b[39mname \u001b[38;5;241m==\u001b[39m \u001b[38;5;124mf\u001b[39m\u001b[38;5;124m\"\u001b[39m\u001b[38;5;132;01m{\u001b[39;00mstory_name\u001b[38;5;132;01m}\u001b[39;00m\u001b[38;5;124m/run\u001b[39m\u001b[38;5;132;01m{\u001b[39;00mrun\u001b[38;5;132;01m}\u001b[39;00m\u001b[38;5;124m\"\u001b[39m\n",
      "File \u001b[0;32m~/om2/miniconda/envs/berp/lib/python3.9/pathlib.py:1252\u001b[0m, in \u001b[0;36mPath.open\u001b[0;34m(self, mode, buffering, encoding, errors, newline)\u001b[0m\n\u001b[1;32m   1246\u001b[0m \u001b[38;5;28;01mdef\u001b[39;00m \u001b[38;5;21mopen\u001b[39m(\u001b[38;5;28mself\u001b[39m, mode\u001b[38;5;241m=\u001b[39m\u001b[38;5;124m'\u001b[39m\u001b[38;5;124mr\u001b[39m\u001b[38;5;124m'\u001b[39m, buffering\u001b[38;5;241m=\u001b[39m\u001b[38;5;241m-\u001b[39m\u001b[38;5;241m1\u001b[39m, encoding\u001b[38;5;241m=\u001b[39m\u001b[38;5;28;01mNone\u001b[39;00m,\n\u001b[1;32m   1247\u001b[0m          errors\u001b[38;5;241m=\u001b[39m\u001b[38;5;28;01mNone\u001b[39;00m, newline\u001b[38;5;241m=\u001b[39m\u001b[38;5;28;01mNone\u001b[39;00m):\n\u001b[1;32m   1248\u001b[0m     \u001b[38;5;124;03m\"\"\"\u001b[39;00m\n\u001b[1;32m   1249\u001b[0m \u001b[38;5;124;03m    Open the file pointed by this path and return a file object, as\u001b[39;00m\n\u001b[1;32m   1250\u001b[0m \u001b[38;5;124;03m    the built-in open() function does.\u001b[39;00m\n\u001b[1;32m   1251\u001b[0m \u001b[38;5;124;03m    \"\"\"\u001b[39;00m\n\u001b[0;32m-> 1252\u001b[0m     \u001b[38;5;28;01mreturn\u001b[39;00m \u001b[43mio\u001b[49m\u001b[38;5;241;43m.\u001b[39;49m\u001b[43mopen\u001b[49m\u001b[43m(\u001b[49m\u001b[38;5;28;43mself\u001b[39;49m\u001b[43m,\u001b[49m\u001b[43m \u001b[49m\u001b[43mmode\u001b[49m\u001b[43m,\u001b[49m\u001b[43m \u001b[49m\u001b[43mbuffering\u001b[49m\u001b[43m,\u001b[49m\u001b[43m \u001b[49m\u001b[43mencoding\u001b[49m\u001b[43m,\u001b[49m\u001b[43m \u001b[49m\u001b[43merrors\u001b[49m\u001b[43m,\u001b[49m\u001b[43m \u001b[49m\u001b[43mnewline\u001b[49m\u001b[43m,\u001b[49m\n\u001b[1;32m   1253\u001b[0m \u001b[43m                   \u001b[49m\u001b[43mopener\u001b[49m\u001b[38;5;241;43m=\u001b[39;49m\u001b[38;5;28;43mself\u001b[39;49m\u001b[38;5;241;43m.\u001b[39;49m\u001b[43m_opener\u001b[49m\u001b[43m)\u001b[49m\n",
      "File \u001b[0;32m~/om2/miniconda/envs/berp/lib/python3.9/pathlib.py:1120\u001b[0m, in \u001b[0;36mPath._opener\u001b[0;34m(self, name, flags, mode)\u001b[0m\n\u001b[1;32m   1118\u001b[0m \u001b[38;5;28;01mdef\u001b[39;00m \u001b[38;5;21m_opener\u001b[39m(\u001b[38;5;28mself\u001b[39m, name, flags, mode\u001b[38;5;241m=\u001b[39m\u001b[38;5;241m0o666\u001b[39m):\n\u001b[1;32m   1119\u001b[0m     \u001b[38;5;66;03m# A stub for the opener argument to built-in open()\u001b[39;00m\n\u001b[0;32m-> 1120\u001b[0m     \u001b[38;5;28;01mreturn\u001b[39;00m \u001b[38;5;28;43mself\u001b[39;49m\u001b[38;5;241;43m.\u001b[39;49m\u001b[43m_accessor\u001b[49m\u001b[38;5;241;43m.\u001b[39;49m\u001b[43mopen\u001b[49m\u001b[43m(\u001b[49m\u001b[38;5;28;43mself\u001b[39;49m\u001b[43m,\u001b[49m\u001b[43m \u001b[49m\u001b[43mflags\u001b[49m\u001b[43m,\u001b[49m\u001b[43m \u001b[49m\u001b[43mmode\u001b[49m\u001b[43m)\u001b[49m\n",
      "\u001b[0;31mFileNotFoundError\u001b[0m: [Errno 2] No such file or directory: '../../workflow/heilbron2022/data/stimulus/distilgpt2/old-man-and-the-sea/run10.pkl'"
     ]
    }
   ],
   "source": [
    "with Path(stimulus).open(\"rb\") as f:\n",
    "    story_stim = pickle.load(f)\n",
    "    \n",
    "assert story_stim.name == f\"{story_name}/run{run}\""
   ]
  },
  {
   "cell_type": "code",
   "execution_count": 5,
   "id": "fae48b57-9914-45d6-a2ec-b72ec57e684b",
   "metadata": {},
   "outputs": [],
   "source": [
    "# Variable onset features are simply a variable onset intercept,\n",
    "# word features and word surprisals.\n",
    "X_variable = torch.concat(\n",
    "    [torch.ones_like(story_stim.word_surprisals).unsqueeze(1),\n",
    "     story_stim.word_features,\n",
    "     story_stim.word_surprisals.unsqueeze(1)],\n",
    "    dim=1)\n",
    "variable_feature_names = [\"recognition_onset\"] + story_stim.word_feature_names + [\"word_surprisal\"]\n",
    "\n",
    "assert X_variable.shape[1] == len(variable_feature_names)"
   ]
  },
  {
   "cell_type": "code",
   "execution_count": 6,
   "id": "6324d161-2cb4-4790-bbd3-f42bbc570cde",
   "metadata": {},
   "outputs": [
    {
     "data": {
      "text/plain": [
       "['recognition_onset', 'word_frequency', 'word_surprisal']"
      ]
     },
     "execution_count": 6,
     "metadata": {},
     "output_type": "execute_result"
    }
   ],
   "source": [
    "variable_feature_names"
   ]
  },
  {
   "cell_type": "markdown",
   "id": "1034c5c6-4c60-476a-9741-76b25c3f0052",
   "metadata": {},
   "source": [
    "## Load aligned word/phoneme presentation data"
   ]
  },
  {
   "cell_type": "code",
   "execution_count": 7,
   "id": "fb2dcb33-2431-40bf-88e3-0ae790c678bc",
   "metadata": {},
   "outputs": [
    {
     "data": {
      "text/html": [
       "<div>\n",
       "<style scoped>\n",
       "    .dataframe tbody tr th:only-of-type {\n",
       "        vertical-align: middle;\n",
       "    }\n",
       "\n",
       "    .dataframe tbody tr th {\n",
       "        vertical-align: top;\n",
       "    }\n",
       "\n",
       "    .dataframe thead th {\n",
       "        text-align: right;\n",
       "    }\n",
       "</style>\n",
       "<table border=\"1\" class=\"dataframe\">\n",
       "  <thead>\n",
       "    <tr style=\"text-align: right;\">\n",
       "      <th></th>\n",
       "      <th>word_idx</th>\n",
       "      <th>word</th>\n",
       "      <th>onset</th>\n",
       "      <th>offset</th>\n",
       "      <th>token_idx</th>\n",
       "    </tr>\n",
       "  </thead>\n",
       "  <tbody>\n",
       "    <tr>\n",
       "      <th>0</th>\n",
       "      <td>0</td>\n",
       "      <td>JUST</td>\n",
       "      <td>1.13</td>\n",
       "      <td>1.38</td>\n",
       "      <td>6032</td>\n",
       "    </tr>\n",
       "    <tr>\n",
       "      <th>1</th>\n",
       "      <td>1</td>\n",
       "      <td>THEN</td>\n",
       "      <td>1.38</td>\n",
       "      <td>1.65</td>\n",
       "      <td>6033</td>\n",
       "    </tr>\n",
       "    <tr>\n",
       "      <th>2</th>\n",
       "      <td>2</td>\n",
       "      <td>HE</td>\n",
       "      <td>1.65</td>\n",
       "      <td>1.77</td>\n",
       "      <td>6034</td>\n",
       "    </tr>\n",
       "    <tr>\n",
       "      <th>3</th>\n",
       "      <td>3</td>\n",
       "      <td>SAW</td>\n",
       "      <td>1.77</td>\n",
       "      <td>2.02</td>\n",
       "      <td>6035</td>\n",
       "    </tr>\n",
       "    <tr>\n",
       "      <th>4</th>\n",
       "      <td>4</td>\n",
       "      <td>A</td>\n",
       "      <td>2.02</td>\n",
       "      <td>2.05</td>\n",
       "      <td>6036</td>\n",
       "    </tr>\n",
       "    <tr>\n",
       "      <th>...</th>\n",
       "      <td>...</td>\n",
       "      <td>...</td>\n",
       "      <td>...</td>\n",
       "      <td>...</td>\n",
       "      <td>...</td>\n",
       "    </tr>\n",
       "    <tr>\n",
       "      <th>627</th>\n",
       "      <td>593</td>\n",
       "      <td>BEHIND</td>\n",
       "      <td>190.62</td>\n",
       "      <td>191.01</td>\n",
       "      <td>6726</td>\n",
       "    </tr>\n",
       "    <tr>\n",
       "      <th>628</th>\n",
       "      <td>594</td>\n",
       "      <td>IT</td>\n",
       "      <td>191.01</td>\n",
       "      <td>191.12</td>\n",
       "      <td>6727</td>\n",
       "    </tr>\n",
       "    <tr>\n",
       "      <th>629</th>\n",
       "      <td>595</td>\n",
       "      <td>IN</td>\n",
       "      <td>191.12</td>\n",
       "      <td>191.20</td>\n",
       "      <td>6728</td>\n",
       "    </tr>\n",
       "    <tr>\n",
       "      <th>630</th>\n",
       "      <td>596</td>\n",
       "      <td>THE</td>\n",
       "      <td>191.20</td>\n",
       "      <td>191.28</td>\n",
       "      <td>6729</td>\n",
       "    </tr>\n",
       "    <tr>\n",
       "      <th>631</th>\n",
       "      <td>597</td>\n",
       "      <td>WATER</td>\n",
       "      <td>191.28</td>\n",
       "      <td>191.71</td>\n",
       "      <td>6730</td>\n",
       "    </tr>\n",
       "  </tbody>\n",
       "</table>\n",
       "<p>632 rows × 5 columns</p>\n",
       "</div>"
      ],
      "text/plain": [
       "     word_idx    word   onset  offset  token_idx\n",
       "0           0    JUST    1.13    1.38       6032\n",
       "1           1    THEN    1.38    1.65       6033\n",
       "2           2      HE    1.65    1.77       6034\n",
       "3           3     SAW    1.77    2.02       6035\n",
       "4           4       A    2.02    2.05       6036\n",
       "..        ...     ...     ...     ...        ...\n",
       "627       593  BEHIND  190.62  191.01       6726\n",
       "628       594      IT  191.01  191.12       6727\n",
       "629       595      IN  191.12  191.20       6728\n",
       "630       596     THE  191.20  191.28       6729\n",
       "631       597   WATER  191.28  191.71       6730\n",
       "\n",
       "[632 rows x 5 columns]"
      ]
     },
     "execution_count": 7,
     "metadata": {},
     "output_type": "execute_result"
    }
   ],
   "source": [
    "word_aligned_df = pd.read_csv(aligned_words, index_col=[0, 1]).loc[run].reset_index()\n",
    "phoneme_aligned_df = pd.read_csv(aligned_phonemes, index_col=[0, 1]).loc[run].reset_index()\n",
    "word_aligned_df"
   ]
  },
  {
   "cell_type": "markdown",
   "id": "6e6552fb-a10f-4286-a060-40a95db23257",
   "metadata": {
    "tags": []
   },
   "source": [
    "### Check for words missing in stimulus"
   ]
  },
  {
   "cell_type": "code",
   "execution_count": 8,
   "id": "989b45fe-c516-45cd-b84e-9abb6943b4fe",
   "metadata": {},
   "outputs": [
    {
     "data": {
      "text/plain": [
       "{14, 62, 120, 145, 172, 226, 281, 310, 338, 366, 425, 483, 511, 542, 588}"
      ]
     },
     "execution_count": 8,
     "metadata": {},
     "output_type": "execute_result"
    },
    {
     "data": {
      "image/png": "[encoded data removed]",
      "text/plain": [
       "<Figure size 1080x72 with 1 Axes>"
      ]
     },
     "metadata": {
      "needs_background": "light"
     },
     "output_type": "display_data"
    }
   ],
   "source": [
    "# Not all words in the presentation will be retained in the stimulus: words which\n",
    "# ended up at the start of an input time series to the model were dropped, because\n",
    "# the model didn't have those values as targets.\n",
    "#\n",
    "# By the above logic, the missing words will likely be distributed roughly evenly\n",
    "# throughout the stimulus.\n",
    "words_missing_in_stimulus = set(word_aligned_df.word_idx) - set(story_stim.word_ids.numpy())\n",
    "\n",
    "plt.figure(figsize=(15, 1))\n",
    "plt.hlines(0, 0, story_stim.word_ids.max())\n",
    "plt.plot(list(words_missing_in_stimulus), np.zeros(len(words_missing_in_stimulus)), 'ro', ms=8, mfc='r')\n",
    "plt.axis('off')\n",
    "plt.title(\"Words missing in stimulus representation\")\n",
    "plt.tight_layout()\n",
    "\n",
    "words_missing_in_stimulus"
   ]
  },
  {
   "cell_type": "code",
   "execution_count": 9,
   "id": "b10e29cc-d411-4899-b7a6-9226af994c6e",
   "metadata": {},
   "outputs": [],
   "source": [
    "assert 0 == len(set(story_stim.word_ids.numpy()) - set(word_aligned_df.word_idx)), \\\n",
    "    \"Stim words are present which are missing from the aligned data!\""
   ]
  },
  {
   "cell_type": "markdown",
   "id": "2b5c3e68-268f-449d-8335-1eb36bc7be8b",
   "metadata": {},
   "source": [
    "## Load design matrix data"
   ]
  },
  {
   "cell_type": "code",
   "execution_count": 10,
   "id": "f2ca6f4b-73f1-4348-a976-eaa6c33ef3bc",
   "metadata": {},
   "outputs": [],
   "source": [
    "with h5py.File(run_Xy) as f:\n",
    "    assert subject == f.attrs[\"subject\"]\n",
    "    assert run == f.attrs[\"run\"]\n",
    "    \n",
    "    X = f[\"X\"][()]\n",
    "    y = f[\"y\"][()].T\n",
    "    \n",
    "    sensor_names = f.attrs[\"ch_names\"].tolist()\n",
    "    ts_feature_names = f.attrs[\"feature_names\"].tolist()\n",
    "    sfreq = f.attrs[\"sfreq\"]"
   ]
  },
  {
   "cell_type": "code",
   "execution_count": 11,
   "id": "1d69879d-fdff-4d51-85b2-5f6846a0a00c",
   "metadata": {},
   "outputs": [],
   "source": [
    "assert X.shape[0] == y.shape[0]\n",
    "assert X.shape[1] == len(ts_feature_names)\n",
    "assert y.shape[1] == len(sensor_names)"
   ]
  },
  {
   "cell_type": "markdown",
   "id": "bf5cd19d",
   "metadata": {},
   "source": [
    "### Add intercept feature to time series"
   ]
  },
  {
   "cell_type": "code",
   "execution_count": 12,
   "id": "3a359c1f-6638-4ef3-a445-4d9380d0c1c2",
   "metadata": {},
   "outputs": [],
   "source": [
    "X = np.hstack([np.ones((X.shape[0], 1)), X])\n",
    "ts_feature_names = ['intercept'] + ts_feature_names"
   ]
  },
  {
   "cell_type": "markdown",
   "id": "573308d4-d7f7-402a-b435-a1ca0be543b7",
   "metadata": {},
   "source": [
    "### Remove surprisal+frequency data"
   ]
  },
  {
   "cell_type": "code",
   "execution_count": 13,
   "id": "965bc4e9-2d79-47e8-b70c-928b92011718",
   "metadata": {},
   "outputs": [
    {
     "data": {
      "text/plain": [
       "['intercept',\n",
       " 'all_words_onset',\n",
       " 'all_phons_onset',\n",
       " 'all_phons_pitch',\n",
       " 'all_phons_env_var',\n",
       " 'all_phons_surprisals',\n",
       " 'all_phons_sg1',\n",
       " 'all_phons_sg2',\n",
       " 'all_phons_sg3',\n",
       " 'all_phons_sg4',\n",
       " 'all_phons_sg5',\n",
       " 'all_phons_sg6',\n",
       " 'all_phons_sg7',\n",
       " 'all_phons_sg8']"
      ]
     },
     "execution_count": 13,
     "metadata": {},
     "output_type": "execute_result"
    }
   ],
   "source": [
    "drop_ts_features = [\"all_words_lexical_surprise\", \"all_words_unigram_surprise\"]\n",
    "keep_ts_feature_idxs = [i for i, name in enumerate(ts_feature_names) if name not in drop_ts_features]\n",
    "\n",
    "X = X[:, keep_ts_feature_idxs]\n",
    "ts_feature_names = [name for i, name in enumerate(ts_feature_names) if i in keep_ts_feature_idxs]\n",
    "ts_feature_names"
   ]
  },
  {
   "cell_type": "markdown",
   "id": "929e7d00-e1a4-4f4e-9242-6ce16229c3be",
   "metadata": {
    "tags": []
   },
   "source": [
    "### Check agreement between aligned word data and time series data\n",
    "\n",
    "Verify that the word onsets as represented in the design matrix agree with the word onset data as given in the aligned annotation."
   ]
  },
  {
   "cell_type": "code",
   "execution_count": 14,
   "id": "d2be90bf-aca9-4726-8223-d13ff68bbe54",
   "metadata": {},
   "outputs": [
    {
     "data": {
      "text/plain": [
       "array([1.1328125, 1.3828125, 1.6484375, 1.7734375, 2.0234375, 2.046875 ,\n",
       "       2.28125  , 2.421875 , 2.640625 , 3.0390625])"
      ]
     },
     "execution_count": 14,
     "metadata": {},
     "output_type": "execute_result"
    }
   ],
   "source": [
    "word_onset_idx = ts_feature_names.index(\"all_words_onset\")\n",
    "X_onset_times = X[:, word_onset_idx].nonzero()[0] / sfreq\n",
    "X_onset_times[:10]"
   ]
  },
  {
   "cell_type": "code",
   "execution_count": 15,
   "id": "26ea3877-01ef-474c-b2aa-7ba66ee3ac5f",
   "metadata": {},
   "outputs": [
    {
     "data": {
      "text/plain": [
       "array([1.13, 1.38, 1.65, 1.77, 2.02, 2.05, 2.28, 2.42, 2.64, 3.04])"
      ]
     },
     "execution_count": 15,
     "metadata": {},
     "output_type": "execute_result"
    }
   ],
   "source": [
    "aligned_onset_times = word_aligned_df.groupby(\"word_idx\").onset.min()\n",
    "aligned_onset_times.values[:10]"
   ]
  },
  {
   "cell_type": "code",
   "execution_count": 16,
   "id": "0850046b-cf9c-4efb-a97b-67d7cb045c8c",
   "metadata": {},
   "outputs": [
    {
     "data": {
      "image/png": "[encoded data removed]",
      "text/plain": [
       "<Figure size 1080x108 with 1 Axes>"
      ]
     },
     "metadata": {
      "needs_background": "light"
     },
     "output_type": "display_data"
    }
   ],
   "source": [
    "plt.figure(figsize=(15, 1.5))\n",
    "plt.hlines(0, 0, X_onset_times.max())\n",
    "plt.plot(X_onset_times, np.zeros(len(X_onset_times)), 'ro', ms=8, mfc='r')\n",
    "plt.plot(aligned_onset_times, np.ones(len(aligned_onset_times)), 'go', ms=8)\n",
    "plt.axis('off')\n",
    "plt.tight_layout()"
   ]
  },
  {
   "cell_type": "code",
   "execution_count": 18,
   "id": "fde73eb4-3497-48d6-9da0-41c6efa0559b",
   "metadata": {},
   "outputs": [
    {
     "data": {
      "text/plain": [
       "(598, 596)"
      ]
     },
     "execution_count": 18,
     "metadata": {},
     "output_type": "execute_result"
    }
   ],
   "source": [
    "len(X_onset_times), len(aligned_onset_times)"
   ]
  },
  {
   "cell_type": "code",
   "execution_count": 19,
   "id": "3c9cf902-854f-4df4-9d1c-0cacf2cc12a6",
   "metadata": {},
   "outputs": [
    {
     "data": {
      "text/plain": [
       "{61.72, 181.08}"
      ]
     },
     "execution_count": 19,
     "metadata": {},
     "output_type": "execute_result"
    }
   ],
   "source": [
    "set(X_onset_times.round(2)) - set(aligned_onset_times)"
   ]
  },
  {
   "cell_type": "code",
   "execution_count": 24,
   "id": "12262726-fa60-4600-b3fb-fae47ea2cc24",
   "metadata": {},
   "outputs": [
    {
     "data": {
      "text/html": [
       "<div>\n",
       "<style scoped>\n",
       "    .dataframe tbody tr th:only-of-type {\n",
       "        vertical-align: middle;\n",
       "    }\n",
       "\n",
       "    .dataframe tbody tr th {\n",
       "        vertical-align: top;\n",
       "    }\n",
       "\n",
       "    .dataframe thead th {\n",
       "        text-align: right;\n",
       "    }\n",
       "</style>\n",
       "<table border=\"1\" class=\"dataframe\">\n",
       "  <thead>\n",
       "    <tr style=\"text-align: right;\">\n",
       "      <th></th>\n",
       "      <th>word_idx</th>\n",
       "      <th>word</th>\n",
       "      <th>onset</th>\n",
       "      <th>offset</th>\n",
       "      <th>token_idx</th>\n",
       "    </tr>\n",
       "  </thead>\n",
       "  <tbody>\n",
       "    <tr>\n",
       "      <th>196</th>\n",
       "      <td>183</td>\n",
       "      <td>THE</td>\n",
       "      <td>60.06</td>\n",
       "      <td>60.17</td>\n",
       "      <td>6254</td>\n",
       "    </tr>\n",
       "    <tr>\n",
       "      <th>197</th>\n",
       "      <td>184</td>\n",
       "      <td>SIDE</td>\n",
       "      <td>60.17</td>\n",
       "      <td>60.64</td>\n",
       "      <td>6255</td>\n",
       "    </tr>\n",
       "    <tr>\n",
       "      <th>198</th>\n",
       "      <td>185</td>\n",
       "      <td>AND</td>\n",
       "      <td>60.64</td>\n",
       "      <td>60.78</td>\n",
       "      <td>6256</td>\n",
       "    </tr>\n",
       "    <tr>\n",
       "      <th>199</th>\n",
       "      <td>186</td>\n",
       "      <td>THEN</td>\n",
       "      <td>60.78</td>\n",
       "      <td>60.96</td>\n",
       "      <td>6257</td>\n",
       "    </tr>\n",
       "    <tr>\n",
       "      <th>200</th>\n",
       "      <td>187</td>\n",
       "      <td>MADE</td>\n",
       "      <td>60.96</td>\n",
       "      <td>61.12</td>\n",
       "      <td>6258</td>\n",
       "    </tr>\n",
       "    <tr>\n",
       "      <th>201</th>\n",
       "      <td>188</td>\n",
       "      <td>IT</td>\n",
       "      <td>61.12</td>\n",
       "      <td>61.23</td>\n",
       "      <td>6259</td>\n",
       "    </tr>\n",
       "    <tr>\n",
       "      <th>202</th>\n",
       "      <td>189</td>\n",
       "      <td>FAST</td>\n",
       "      <td>61.23</td>\n",
       "      <td>61.63</td>\n",
       "      <td>6260</td>\n",
       "    </tr>\n",
       "    <tr>\n",
       "      <th>203</th>\n",
       "      <td>190</td>\n",
       "      <td>TO</td>\n",
       "      <td>61.63</td>\n",
       "      <td>61.72</td>\n",
       "      <td>6261</td>\n",
       "    </tr>\n",
       "    <tr>\n",
       "      <th>204</th>\n",
       "      <td>192</td>\n",
       "      <td>RING</td>\n",
       "      <td>61.80</td>\n",
       "      <td>62.03</td>\n",
       "      <td>6263</td>\n",
       "    </tr>\n",
       "  </tbody>\n",
       "</table>\n",
       "</div>"
      ],
      "text/plain": [
       "     word_idx  word  onset  offset  token_idx\n",
       "196       183   THE  60.06   60.17       6254\n",
       "197       184  SIDE  60.17   60.64       6255\n",
       "198       185   AND  60.64   60.78       6256\n",
       "199       186  THEN  60.78   60.96       6257\n",
       "200       187  MADE  60.96   61.12       6258\n",
       "201       188    IT  61.12   61.23       6259\n",
       "202       189  FAST  61.23   61.63       6260\n",
       "203       190    TO  61.63   61.72       6261\n",
       "204       192  RING  61.80   62.03       6263"
      ]
     },
     "execution_count": 24,
     "metadata": {},
     "output_type": "execute_result"
    }
   ],
   "source": [
    "word_aligned_df[word_aligned_df.onset.between(60, 62)]"
   ]
  },
  {
   "cell_type": "code",
   "execution_count": 25,
   "id": "655e42c7-be44-4d4f-91d7-f43aa1a3227d",
   "metadata": {},
   "outputs": [
    {
     "data": {
      "text/html": [
       "<div>\n",
       "<style scoped>\n",
       "    .dataframe tbody tr th:only-of-type {\n",
       "        vertical-align: middle;\n",
       "    }\n",
       "\n",
       "    .dataframe tbody tr th {\n",
       "        vertical-align: top;\n",
       "    }\n",
       "\n",
       "    .dataframe thead th {\n",
       "        text-align: right;\n",
       "    }\n",
       "</style>\n",
       "<table border=\"1\" class=\"dataframe\">\n",
       "  <thead>\n",
       "    <tr style=\"text-align: right;\">\n",
       "      <th></th>\n",
       "      <th>word_idx</th>\n",
       "      <th>word</th>\n",
       "      <th>onset</th>\n",
       "      <th>offset</th>\n",
       "      <th>token_idx</th>\n",
       "    </tr>\n",
       "  </thead>\n",
       "  <tbody>\n",
       "    <tr>\n",
       "      <th>594</th>\n",
       "      <td>562</td>\n",
       "      <td>OF</td>\n",
       "      <td>180.12</td>\n",
       "      <td>180.26</td>\n",
       "      <td>6689</td>\n",
       "    </tr>\n",
       "    <tr>\n",
       "      <th>595</th>\n",
       "      <td>563</td>\n",
       "      <td>WAR</td>\n",
       "      <td>180.26</td>\n",
       "      <td>180.69</td>\n",
       "      <td>6691</td>\n",
       "    </tr>\n",
       "    <tr>\n",
       "      <th>596</th>\n",
       "      <td>564</td>\n",
       "      <td>FLOATING</td>\n",
       "      <td>180.69</td>\n",
       "      <td>181.08</td>\n",
       "      <td>6692</td>\n",
       "    </tr>\n",
       "    <tr>\n",
       "      <th>597</th>\n",
       "      <td>566</td>\n",
       "      <td>BESIDE</td>\n",
       "      <td>181.39</td>\n",
       "      <td>181.78</td>\n",
       "      <td>6694</td>\n",
       "    </tr>\n",
       "    <tr>\n",
       "      <th>598</th>\n",
       "      <td>567</td>\n",
       "      <td>THE</td>\n",
       "      <td>181.78</td>\n",
       "      <td>181.85</td>\n",
       "      <td>6695</td>\n",
       "    </tr>\n",
       "    <tr>\n",
       "      <th>599</th>\n",
       "      <td>568</td>\n",
       "      <td>BOAT</td>\n",
       "      <td>181.85</td>\n",
       "      <td>182.22</td>\n",
       "      <td>6696</td>\n",
       "    </tr>\n",
       "  </tbody>\n",
       "</table>\n",
       "</div>"
      ],
      "text/plain": [
       "     word_idx      word   onset  offset  token_idx\n",
       "594       562        OF  180.12  180.26       6689\n",
       "595       563       WAR  180.26  180.69       6691\n",
       "596       564  FLOATING  180.69  181.08       6692\n",
       "597       566    BESIDE  181.39  181.78       6694\n",
       "598       567       THE  181.78  181.85       6695\n",
       "599       568      BOAT  181.85  182.22       6696"
      ]
     },
     "execution_count": 25,
     "metadata": {},
     "output_type": "execute_result"
    }
   ],
   "source": [
    "word_aligned_df[word_aligned_df.onset.between(180, 182)]"
   ]
  },
  {
   "cell_type": "code",
   "execution_count": 17,
   "id": "e83a91bd-7ce3-44dd-8036-f4b6cb27c0b0",
   "metadata": {},
   "outputs": [
    {
     "ename": "AssertionError",
     "evalue": "",
     "output_type": "error",
     "traceback": [
      "\u001b[0;31m---------------------------------------------------------------------------\u001b[0m",
      "\u001b[0;31mAssertionError\u001b[0m                            Traceback (most recent call last)",
      "Cell \u001b[0;32mIn [17], line 1\u001b[0m\n\u001b[0;32m----> 1\u001b[0m \u001b[38;5;28;01massert\u001b[39;00m \u001b[38;5;28mlen\u001b[39m(X_onset_times) \u001b[38;5;241m==\u001b[39m \u001b[38;5;28mlen\u001b[39m(aligned_onset_times)\n",
      "\u001b[0;31mAssertionError\u001b[0m: "
     ]
    }
   ],
   "source": [
    "assert len(X_onset_times) == len(aligned_onset_times)"
   ]
  },
  {
   "cell_type": "code",
   "execution_count": 48,
   "id": "1a2399bc-0a67-4682-a9c0-cf94eb894055",
   "metadata": {},
   "outputs": [],
   "source": [
    "# NB aligned annotation only has precision to 2 places, so we'll have to round.\n",
    "np.testing.assert_allclose(X_onset_times.round(2), aligned_onset_times)"
   ]
  },
  {
   "cell_type": "code",
   "execution_count": 49,
   "id": "ed0e0f6f-8e28-42ba-a515-6c3c935cbd49",
   "metadata": {},
   "outputs": [],
   "source": [
    "# # Find overlap\n",
    "# array1 = X_onset_times\n",
    "# array2 = word_aligned_df.onset.unique()\n",
    "# import itertools\n",
    "# from tqdm.auto import trange\n",
    "# matches = []\n",
    "# no_match = []\n",
    "# for i0 in trange(array1.shape[0]):\n",
    "#     for i1 in range(array2.shape[0]):\n",
    "#         if np.isclose(array1[i0], array2[i1], atol=1e-1):\n",
    "#             matches.append((i0, i1))\n",
    "#             break\n",
    "#     else:\n",
    "#         no_match.append(i0)"
   ]
  },
  {
   "cell_type": "code",
   "execution_count": 50,
   "id": "147b4494-3d65-4e69-8fb1-05926132e9b0",
   "metadata": {},
   "outputs": [],
   "source": [
    "# len(no_match)"
   ]
  },
  {
   "cell_type": "code",
   "execution_count": 51,
   "id": "418241c6-62fb-45f0-847d-5ffc64b7f8fe",
   "metadata": {},
   "outputs": [],
   "source": [
    "# len(matches)"
   ]
  },
  {
   "cell_type": "code",
   "execution_count": 55,
   "id": "d3a13ab2-221e-4aed-bc23-6c3957bcf228",
   "metadata": {},
   "outputs": [],
   "source": [
    "# plt.figure(figsize=(15, 2))\n",
    "# plt.hlines(0, 0, X_onset_times.max())\n",
    "# mask = np.zeros(len(X_onset_times), dtype=bool)\n",
    "# mask[no_match] = True\n",
    "# plt.plot(X_onset_times[mask], np.zeros(mask.sum()), 'ro', ms=8, mfc='r', alpha=0.3)\n",
    "# plt.plot(X_onset_times[~mask], np.zeros((~mask).sum()), 'ro', ms=8, mfc='g', alpha=0.3)\n",
    "# # plt.plot(word_aligned_df.onset.values, np.ones(len(word_aligned_df)), 'go', ms=8)\n",
    "# plt.axis('off')\n",
    "# plt.tight_layout()"
   ]
  },
  {
   "cell_type": "markdown",
   "id": "504fe2be-bed9-44c1-a341-136a929d4df9",
   "metadata": {},
   "source": [
    "## Load signal data"
   ]
  },
  {
   "cell_type": "code",
   "execution_count": 56,
   "id": "1397bb9e-a151-458c-8f66-2066b30a7788",
   "metadata": {},
   "outputs": [
    {
     "data": {
      "text/plain": [
       "184.203125"
      ]
     },
     "execution_count": 56,
     "metadata": {},
     "output_type": "execute_result"
    }
   ],
   "source": [
    "min_time, max_time = 0, len(X) / sfreq\n",
    "max_time"
   ]
  },
  {
   "cell_type": "code",
   "execution_count": 59,
   "id": "8baf303e-3a30-4760-a47f-525f4f1feb93",
   "metadata": {},
   "outputs": [],
   "source": [
    "# Check compatibility with alignment data.\n",
    "assert min_time <= word_aligned_df.onset.min()\n",
    "assert min_time <= phoneme_aligned_df.onset.min()\n",
    "assert max_time >= word_aligned_df.offset.max()\n",
    "assert max_time >= phoneme_aligned_df.offset.max()"
   ]
  },
  {
   "cell_type": "markdown",
   "id": "13b173f2-892c-4afa-97c4-7db41be597dd",
   "metadata": {},
   "source": [
    "## Replace onset features\n",
    "\n",
    "Even though we already checked that the two annotations agree, we're going to insert our own aligned to the sample rate, just to make sure the setup is absolutely perfect."
   ]
  },
  {
   "cell_type": "code",
   "execution_count": 61,
   "id": "5d393433-6208-455c-ba1a-72c29113c5d4",
   "metadata": {},
   "outputs": [],
   "source": [
    "word_aligned_df[\"onset\"] = (word_aligned_df[\"onset\"] * target_sample_rate).round() / target_sample_rate\n",
    "word_aligned_df[\"offset\"] = (word_aligned_df[\"offset\"] * target_sample_rate).round() / target_sample_rate\n",
    "phoneme_aligned_df[\"onset\"] = (phoneme_aligned_df[\"onset\"] * target_sample_rate).round() / target_sample_rate\n",
    "phoneme_aligned_df[\"offset\"] = (phoneme_aligned_df[\"offset\"] * target_sample_rate).round() / target_sample_rate\n",
    "phoneme_aligned_df[\"offset_word\"] = (phoneme_aligned_df[\"offset_word\"] * target_sample_rate).round() / target_sample_rate"
   ]
  },
  {
   "cell_type": "code",
   "execution_count": 62,
   "id": "d52f8b54-ac39-45cb-93c6-6c407b1dffb5",
   "metadata": {},
   "outputs": [],
   "source": [
    "word_onset_samples = (word_aligned_df[\"onset\"] * target_sample_rate).astype(int)\n",
    "phoneme_onset_samples = (phoneme_aligned_df[\"onset\"] * target_sample_rate).astype(int)\n",
    "\n",
    "# Drop words+phonemes which extend past the end of the time series.\n",
    "word_onset_samples = word_onset_samples[word_onset_samples < len(X)]\n",
    "phoneme_onset_samples = phoneme_onset_samples[phoneme_onset_samples < len(X)]\n",
    "\n",
    "word_onset_features = np.zeros((len(X), 1))\n",
    "phoneme_onset_features = np.zeros((len(X), 1))\n",
    "word_onset_features[word_onset_samples] = 1\n",
    "phoneme_onset_features[phoneme_onset_samples] = 1\n",
    "\n",
    "X = np.concatenate((X, word_onset_features, phoneme_onset_features), axis=1)\n",
    "ts_feature_names += [\"word_onset\", \"phoneme_onset\"]\n",
    "assert X.shape[1] == len(ts_feature_names)"
   ]
  },
  {
   "cell_type": "code",
   "execution_count": 63,
   "id": "b6a9a04b-760e-4f75-be6c-1bc52a3d6cad",
   "metadata": {},
   "outputs": [
    {
     "name": "stderr",
     "output_type": "stream",
     "text": [
      "No feature c_words_onset\n"
     ]
    }
   ],
   "source": [
    "# Remove Heilbron onset data.\n",
    "remove_onset_features = [\"all_words_onset\", \"c_words_onset\", \"all_phons_onset\"]\n",
    "for feat in remove_onset_features:\n",
    "    try:\n",
    "        feat_idx = ts_feature_names.index(feat)\n",
    "    except ValueError:\n",
    "        L.warning(f\"No feature {feat}\")\n",
    "    else:\n",
    "        X = np.delete(X, feat_idx, axis=1)\n",
    "        ts_feature_names = ts_feature_names[:feat_idx] + ts_feature_names[feat_idx + 1:]\n",
    "        \n",
    "assert X.shape[1] == len(ts_feature_names)"
   ]
  },
  {
   "cell_type": "markdown",
   "id": "69a390af-4501-4259-957a-cae23e7c5584",
   "metadata": {},
   "source": [
    "## Produce BerpDataset representations"
   ]
  },
  {
   "cell_type": "code",
   "execution_count": 65,
   "id": "ece3d43a-0108-45c3-a8bb-cff6272e26cb",
   "metadata": {},
   "outputs": [],
   "source": [
    "# Now produce onset information from canonical aligned data.\n",
    "word_onsets = word_aligned_df.groupby(\"word_idx\").onset.min().to_dict()\n",
    "word_onsets = torch.tensor([word_onsets.get(word_id.item(), np.nan)\n",
    "                            for word_id in story_stim.word_ids])\n",
    "\n",
    "word_offsets = word_aligned_df.groupby(\"word_idx\").offset.max().to_dict()\n",
    "word_offsets = torch.tensor([word_offsets.get(word_id.item(), np.nan)\n",
    "                             for word_id in story_stim.word_ids])"
   ]
  },
  {
   "cell_type": "code",
   "execution_count": 66,
   "id": "788d22b9-a3df-41b3-b46f-4b025f4ebc02",
   "metadata": {},
   "outputs": [],
   "source": [
    "# Compute phoneme onsets relative to word onset.\n",
    "phoneme_onsets = phoneme_aligned_df.groupby(\"word_idx\") \\\n",
    "    .apply(lambda xs: list(xs.onset - xs.onset.min())).to_dict()\n",
    "phoneme_onsets = [torch.tensor(phoneme_onsets.get(word_id.item(), [np.nan]))\n",
    "                  for word_id in story_stim.word_ids]"
   ]
  },
  {
   "cell_type": "code",
   "execution_count": 68,
   "id": "6b9f95a4-461a-41c8-b905-2d85627f0e70",
   "metadata": {},
   "outputs": [],
   "source": [
    "max_num_phonemes = max(len(onsets) for onsets in phoneme_onsets)\n",
    "\n",
    "# Sanity check: max_num_phonemes as computed from aligned data should\n",
    "# match that produced earlier by the natural language stimulus processor\n",
    "assert max_num_phonemes == story_stim.max_n_phonemes, \\\n",
    "    \"%d %d\" % (max_num_phonemes, story_stim.max_n_phonemes)"
   ]
  },
  {
   "cell_type": "code",
   "execution_count": 69,
   "id": "bacdcad4-7106-495d-a484-37b6633a33ea",
   "metadata": {},
   "outputs": [],
   "source": [
    "# Pad phoneme onset information\n",
    "phoneme_onsets = torch.stack([\n",
    "    pad(onsets, (0, max_num_phonemes - len(onsets)), value=0.)\n",
    "    if len(onsets) < max_num_phonemes\n",
    "    else onsets\n",
    "    for onsets in phoneme_onsets\n",
    "])"
   ]
  },
  {
   "cell_type": "code",
   "execution_count": 70,
   "id": "75c95267-5d48-4270-ac19-59c8876ae342",
   "metadata": {},
   "outputs": [],
   "source": [
    "dataset = BerpDataset(\n",
    "    name=f\"{story_name}/sub{subject}/run{run}\",\n",
    "    stimulus_name=story_stim.name,\n",
    "    sample_rate=sfreq,\n",
    "    \n",
    "    phonemes=story_stim.phonemes,\n",
    "    \n",
    "    word_onsets=word_onsets,\n",
    "    word_offsets=word_offsets,\n",
    "    phoneme_onsets=phoneme_onsets,\n",
    "    \n",
    "    X_ts=X,\n",
    "    ts_feature_names=ts_feature_names,\n",
    "    \n",
    "    X_variable=X_variable,\n",
    "    variable_feature_names=variable_feature_names,\n",
    "    \n",
    "    Y=y,\n",
    "    sensor_names=sensor_names,\n",
    ")"
   ]
  },
  {
   "cell_type": "code",
   "execution_count": 71,
   "id": "bfc08d54-edaa-4e43-9178-41b0251a2b95",
   "metadata": {},
   "outputs": [],
   "source": [
    "with Path(output_path).open(\"wb\") as f:\n",
    "    pickle.dump(dataset, f)"
   ]
  }
 ],
 "metadata": {
  "kernelspec": {
   "display_name": "Python 3 (ipykernel)",
   "language": "python",
   "name": "python3"
  },
  "language_info": {
   "codemirror_mode": {
    "name": "ipython",
    "version": 3
   },
   "file_extension": ".py",
   "mimetype": "text/x-python",
   "name": "python",
   "nbconvert_exporter": "python",
   "pygments_lexer": "ipython3",
   "version": "3.9.13"
  }
 },
 "nbformat": 4,
 "nbformat_minor": 5
}
