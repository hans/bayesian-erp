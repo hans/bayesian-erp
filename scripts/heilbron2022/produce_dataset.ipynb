{
 "cells": [
  {
   "cell_type": "code",
   "execution_count": 18,
   "id": "e10df71a-1a18-4cc8-9463-5522488bdf26",
   "metadata": {},
   "outputs": [],
   "source": [
    "from pathlib import Path\n",
    "import pickle\n",
    "\n",
    "import h5py\n",
    "import matplotlib.pyplot as plt\n",
    "import pandas as pd\n",
    "import numpy as np\n",
    "import torch\n",
    "from torch.nn.functional import pad\n",
    "from tqdm.auto import tqdm"
   ]
  },
  {
   "cell_type": "code",
   "execution_count": 3,
   "id": "19c779d9-57dd-43e3-af30-a3c771bfa620",
   "metadata": {},
   "outputs": [],
   "source": [
    "%load_ext autoreload\n",
    "%autoreload 2\n",
    "import sys\n",
    "sys.path.append(str(Path(\".\").resolve().parent.parent))\n",
    "\n",
    "from berp.datasets import BerpDataset, NestedBerpDataset"
   ]
  },
  {
   "cell_type": "code",
   "execution_count": 53,
   "id": "17f23ec3-6058-44e8-92b5-5b6dc07794a3",
   "metadata": {
    "tags": [
     "parameters"
    ]
   },
   "outputs": [],
   "source": [
    "story_name = \"old-man-and-the-sea\"\n",
    "subject = 1\n",
    "run = 2\n",
    "\n",
    "aligned_words = \"word.csv\"\n",
    "aligned_phonemes = \"phoneme.csv\"\n",
    "\n",
    "stimulus = \"old-man-and-the-sea/run2.pkl\"\n",
    "\n",
    "# run_Xy = \"../../workflow/heilbron2022/data/run_Xy/old-man-and-the-sea/sub1/run1.h5\"\n",
    "run_Xy = \"/home/jgauthie/om2/others/heilbron2022/notebooks/exported/Xy/words_proba/sub1/run2.h5\"\n",
    "\n",
    "target_sample_rate = 128\n",
    "output_path = \"old-man-and-the-sea.sub1.run2.pkl\""
   ]
  },
  {
   "cell_type": "markdown",
   "id": "3282c557-9417-4f5f-987c-f817a5674a3d",
   "metadata": {},
   "source": [
    "## Load and process natural language stimulus"
   ]
  },
  {
   "cell_type": "code",
   "execution_count": 54,
   "id": "cb0eeef0-6754-4621-9596-dd88fd706031",
   "metadata": {},
   "outputs": [],
   "source": [
    "with Path(stimulus).open(\"rb\") as f:\n",
    "    story_stim = pickle.load(f)\n",
    "    \n",
    "assert story_stim.name == f\"{story_name}/run{run}\""
   ]
  },
  {
   "cell_type": "code",
   "execution_count": 55,
   "id": "fae48b57-9914-45d6-a2ec-b72ec57e684b",
   "metadata": {},
   "outputs": [],
   "source": [
    "# Variable onset features are simply a variable onset intercept,\n",
    "# word features and word surprisals.\n",
    "X_variable = torch.concat(\n",
    "    [torch.ones_like(story_stim.word_surprisals).unsqueeze(1),\n",
    "     story_stim.word_features,\n",
    "     story_stim.word_surprisals.unsqueeze(1)],\n",
    "    dim=1)\n",
    "variable_feature_names = [\"recognition_onset\"] + story_stim.word_feature_names + [\"word_surprisal\"]\n",
    "\n",
    "assert X_variable.shape[1] == len(variable_feature_names)"
   ]
  },
  {
   "cell_type": "code",
   "execution_count": 212,
   "id": "6324d161-2cb4-4790-bbd3-f42bbc570cde",
   "metadata": {},
   "outputs": [
    {
     "data": {
      "text/plain": [
       "['recognition_onset', 'word_frequency', 'word_surprisal']"
      ]
     },
     "execution_count": 212,
     "metadata": {},
     "output_type": "execute_result"
    }
   ],
   "source": [
    "variable_feature_names"
   ]
  },
  {
   "cell_type": "markdown",
   "id": "2b5c3e68-268f-449d-8335-1eb36bc7be8b",
   "metadata": {},
   "source": [
    "## Load design matrix data"
   ]
  },
  {
   "cell_type": "code",
   "execution_count": 110,
   "id": "f2ca6f4b-73f1-4348-a976-eaa6c33ef3bc",
   "metadata": {},
   "outputs": [],
   "source": [
    "with h5py.File(run_Xy) as f:\n",
    "    assert subject == f.attrs[\"subject\"]\n",
    "    assert run == f.attrs[\"run\"]\n",
    "    \n",
    "    X = f[\"X\"][()]\n",
    "    y = f[\"y\"][()].T\n",
    "    \n",
    "    sensor_names = f.attrs[\"ch_names\"].tolist()\n",
    "    ts_feature_names = f.attrs[\"feature_names\"].tolist()\n",
    "    sfreq = f.attrs[\"sfreq\"]"
   ]
  },
  {
   "cell_type": "code",
   "execution_count": 111,
   "id": "1d69879d-fdff-4d51-85b2-5f6846a0a00c",
   "metadata": {},
   "outputs": [],
   "source": [
    "assert X.shape[0] == y.shape[0]\n",
    "assert X.shape[1] == len(ts_feature_names)\n",
    "assert y.shape[1] == len(sensor_names)"
   ]
  },
  {
   "cell_type": "markdown",
   "id": "bf5cd19d",
   "metadata": {},
   "source": [
    "### Add intercept feature to time series"
   ]
  },
  {
   "cell_type": "markdown",
   "id": "fe8b4749",
   "metadata": {},
   "source": [
    "X = np.hstack([np.ones((X.shape[0], 1)), X])\n",
    "ts_feature_names = ['intercept'] + ts_feature_names"
   ]
  },
  {
   "cell_type": "markdown",
   "id": "573308d4-d7f7-402a-b435-a1ca0be543b7",
   "metadata": {},
   "source": [
    "### Remove surprisal+frequency data"
   ]
  },
  {
   "cell_type": "code",
   "execution_count": 211,
   "id": "965bc4e9-2d79-47e8-b70c-928b92011718",
   "metadata": {},
   "outputs": [
    {
     "data": {
      "text/plain": [
       "['all_words_onset',\n",
       " 'c_words_onset',\n",
       " 'c_words_contextual_dissimilarity',\n",
       " 'all_phons_pitch',\n",
       " 'all_phons_env_var',\n",
       " 'all_phons_sg1',\n",
       " 'all_phons_sg2',\n",
       " 'all_phons_sg3',\n",
       " 'all_phons_sg4',\n",
       " 'all_phons_sg5',\n",
       " 'all_phons_sg6',\n",
       " 'all_phons_sg7',\n",
       " 'all_phons_sg8']"
      ]
     },
     "execution_count": 211,
     "metadata": {},
     "output_type": "execute_result"
    }
   ],
   "source": [
    "drop_ts_features = [\"all_words_lexical_surprise\", \"all_words_unigram_surprise\"]\n",
    "keep_ts_feature_idxs = [i for i, name in enumerate(ts_feature_names) if name not in drop_ts_features]\n",
    "\n",
    "X = X[:, keep_ts_feature_idxs]\n",
    "ts_feature_names = [name for i, name in enumerate(ts_feature_names) if i in keep_ts_feature_idxs]\n",
    "ts_feature_names"
   ]
  },
  {
   "cell_type": "markdown",
   "id": "1034c5c6-4c60-476a-9741-76b25c3f0052",
   "metadata": {},
   "source": [
    "## Load aligned word/phoneme presentation data"
   ]
  },
  {
   "cell_type": "code",
   "execution_count": 192,
   "id": "fb2dcb33-2431-40bf-88e3-0ae790c678bc",
   "metadata": {},
   "outputs": [
    {
     "data": {
      "text/html": [
       "<div>\n",
       "<style scoped>\n",
       "    .dataframe tbody tr th:only-of-type {\n",
       "        vertical-align: middle;\n",
       "    }\n",
       "\n",
       "    .dataframe tbody tr th {\n",
       "        vertical-align: top;\n",
       "    }\n",
       "\n",
       "    .dataframe thead th {\n",
       "        text-align: right;\n",
       "    }\n",
       "</style>\n",
       "<table border=\"1\" class=\"dataframe\">\n",
       "  <thead>\n",
       "    <tr style=\"text-align: right;\">\n",
       "      <th></th>\n",
       "      <th>word_idx</th>\n",
       "      <th>word</th>\n",
       "      <th>onset</th>\n",
       "      <th>offset</th>\n",
       "      <th>token_idx</th>\n",
       "    </tr>\n",
       "  </thead>\n",
       "  <tbody>\n",
       "    <tr>\n",
       "      <th>0</th>\n",
       "      <td>0</td>\n",
       "      <td>WHEN</td>\n",
       "      <td>1.17</td>\n",
       "      <td>1.31</td>\n",
       "      <td>688</td>\n",
       "    </tr>\n",
       "    <tr>\n",
       "      <th>1</th>\n",
       "      <td>1</td>\n",
       "      <td>THE</td>\n",
       "      <td>1.31</td>\n",
       "      <td>1.37</td>\n",
       "      <td>689</td>\n",
       "    </tr>\n",
       "    <tr>\n",
       "      <th>2</th>\n",
       "      <td>2</td>\n",
       "      <td>WIND</td>\n",
       "      <td>1.37</td>\n",
       "      <td>1.61</td>\n",
       "      <td>690</td>\n",
       "    </tr>\n",
       "    <tr>\n",
       "      <th>3</th>\n",
       "      <td>3</td>\n",
       "      <td>WAS</td>\n",
       "      <td>1.61</td>\n",
       "      <td>1.77</td>\n",
       "      <td>691</td>\n",
       "    </tr>\n",
       "    <tr>\n",
       "      <th>4</th>\n",
       "      <td>4</td>\n",
       "      <td>IN</td>\n",
       "      <td>1.77</td>\n",
       "      <td>1.87</td>\n",
       "      <td>692</td>\n",
       "    </tr>\n",
       "    <tr>\n",
       "      <th>...</th>\n",
       "      <td>...</td>\n",
       "      <td>...</td>\n",
       "      <td>...</td>\n",
       "      <td>...</td>\n",
       "      <td>...</td>\n",
       "    </tr>\n",
       "    <tr>\n",
       "      <th>562</th>\n",
       "      <td>541</td>\n",
       "      <td>AND</td>\n",
       "      <td>179.26</td>\n",
       "      <td>179.35</td>\n",
       "      <td>1364</td>\n",
       "    </tr>\n",
       "    <tr>\n",
       "      <th>563</th>\n",
       "      <td>542</td>\n",
       "      <td>YOUR</td>\n",
       "      <td>179.35</td>\n",
       "      <td>179.56</td>\n",
       "      <td>1365</td>\n",
       "    </tr>\n",
       "    <tr>\n",
       "      <th>564</th>\n",
       "      <td>543</td>\n",
       "      <td>EYES</td>\n",
       "      <td>179.56</td>\n",
       "      <td>179.77</td>\n",
       "      <td>1366</td>\n",
       "    </tr>\n",
       "    <tr>\n",
       "      <th>565</th>\n",
       "      <td>544</td>\n",
       "      <td>ARE</td>\n",
       "      <td>179.77</td>\n",
       "      <td>179.83</td>\n",
       "      <td>1367</td>\n",
       "    </tr>\n",
       "    <tr>\n",
       "      <th>566</th>\n",
       "      <td>545</td>\n",
       "      <td>GOOD</td>\n",
       "      <td>179.83</td>\n",
       "      <td>180.16</td>\n",
       "      <td>1368</td>\n",
       "    </tr>\n",
       "  </tbody>\n",
       "</table>\n",
       "<p>567 rows × 5 columns</p>\n",
       "</div>"
      ],
      "text/plain": [
       "     word_idx  word   onset  offset  token_idx\n",
       "0           0  WHEN    1.17    1.31        688\n",
       "1           1   THE    1.31    1.37        689\n",
       "2           2  WIND    1.37    1.61        690\n",
       "3           3   WAS    1.61    1.77        691\n",
       "4           4    IN    1.77    1.87        692\n",
       "..        ...   ...     ...     ...        ...\n",
       "562       541   AND  179.26  179.35       1364\n",
       "563       542  YOUR  179.35  179.56       1365\n",
       "564       543  EYES  179.56  179.77       1366\n",
       "565       544   ARE  179.77  179.83       1367\n",
       "566       545  GOOD  179.83  180.16       1368\n",
       "\n",
       "[567 rows x 5 columns]"
      ]
     },
     "execution_count": 192,
     "metadata": {},
     "output_type": "execute_result"
    }
   ],
   "source": [
    "word_aligned_df = pd.read_csv(aligned_words, index_col=[0, 1]).loc[run].reset_index()\n",
    "phoneme_aligned_df = pd.read_csv(aligned_phonemes, index_col=[0, 1]).loc[run].reset_index()\n",
    "word_aligned_df"
   ]
  },
  {
   "cell_type": "markdown",
   "id": "6e6552fb-a10f-4286-a060-40a95db23257",
   "metadata": {
    "tags": []
   },
   "source": [
    "### Check for words missing in stimulus"
   ]
  },
  {
   "cell_type": "code",
   "execution_count": 193,
   "id": "989b45fe-c516-45cd-b84e-9abb6943b4fe",
   "metadata": {},
   "outputs": [
    {
     "data": {
      "text/plain": [
       "{16,\n",
       " 46,\n",
       " 68,\n",
       " 116,\n",
       " 141,\n",
       " 170,\n",
       " 199,\n",
       " 227,\n",
       " 278,\n",
       " 301,\n",
       " 326,\n",
       " 349,\n",
       " 370,\n",
       " 399,\n",
       " 451,\n",
       " 503,\n",
       " 526}"
      ]
     },
     "execution_count": 193,
     "metadata": {},
     "output_type": "execute_result"
    },
    {
     "data": {
      "image/png": "[encoded data removed]",
      "text/plain": [
       "<Figure size 1080x72 with 1 Axes>"
      ]
     },
     "metadata": {
      "needs_background": "light"
     },
     "output_type": "display_data"
    }
   ],
   "source": [
    "# Not all words in the presentation will be retained in the stimulus: words which\n",
    "# ended up at the start of an input time series to the model were dropped, because\n",
    "# the model didn't have those values as targets.\n",
    "#\n",
    "# By the above logic, the missing words will likely be distributed roughly evenly\n",
    "# throughout the stimulus.\n",
    "words_missing_in_stimulus = set(word_aligned_df.word_idx) - set(story_stim.word_ids.numpy())\n",
    "\n",
    "plt.figure(figsize=(15, 1))\n",
    "plt.hlines(0, 0, story_stim.word_ids.max())\n",
    "plt.plot(list(words_missing_in_stimulus), np.zeros(len(words_missing_in_stimulus)), 'ro', ms=8, mfc='r')\n",
    "plt.axis('off')\n",
    "plt.title(\"Words missing in stimulus representation\")\n",
    "plt.tight_layout()\n",
    "\n",
    "words_missing_in_stimulus"
   ]
  },
  {
   "cell_type": "code",
   "execution_count": 194,
   "id": "b10e29cc-d411-4899-b7a6-9226af994c6e",
   "metadata": {},
   "outputs": [],
   "source": [
    "assert 0 == len(set(story_stim.word_ids.numpy()) - set(word_aligned_df.word_idx)), \\\n",
    "    \"Stim words are present which are missing from the aligned data!\""
   ]
  },
  {
   "cell_type": "markdown",
   "id": "929e7d00-e1a4-4f4e-9242-6ce16229c3be",
   "metadata": {},
   "source": [
    "### Align onset data\n",
    "\n",
    "The design matrix is arranged such that the first word onset is $t=0$. Update the alignment dataframes to reflect this"
   ]
  },
  {
   "cell_type": "code",
   "execution_count": 195,
   "id": "d2be90bf-aca9-4726-8223-d13ff68bbe54",
   "metadata": {},
   "outputs": [
    {
     "data": {
      "text/plain": [
       "array([0.       , 0.140625 , 0.1953125, 0.4375   , 0.6015625, 0.6953125,\n",
       "       0.8203125, 1.1875   , 1.25     , 1.5390625])"
      ]
     },
     "execution_count": 195,
     "metadata": {},
     "output_type": "execute_result"
    }
   ],
   "source": [
    "word_onset_idx = ts_feature_names.index(\"all_words_onset\")\n",
    "X_onset_times = X[:, word_onset_idx].nonzero()[0] / sfreq\n",
    "X_onset_times[:10]"
   ]
  },
  {
   "cell_type": "code",
   "execution_count": 196,
   "id": "796f1d1a-2ae5-448f-842a-b4b3b488f3c6",
   "metadata": {},
   "outputs": [],
   "source": [
    "shift = word_aligned_df.onset.min()\n",
    "word_aligned_df[\"onset\"] -= shift\n",
    "word_aligned_df[\"offset\"] -= shift\n",
    "phoneme_aligned_df[\"onset\"] -= shift\n",
    "phoneme_aligned_df[\"offset\"] -= shift\n",
    "phoneme_aligned_df[\"offset_word\"] -= shift\n",
    "\n",
    "# TODO check consistency"
   ]
  },
  {
   "cell_type": "code",
   "execution_count": 197,
   "id": "0850046b-cf9c-4efb-a97b-67d7cb045c8c",
   "metadata": {},
   "outputs": [
    {
     "data": {
      "image/png": "[encoded data removed]",
      "text/plain": [
       "<Figure size 1080x144 with 1 Axes>"
      ]
     },
     "metadata": {
      "needs_background": "light"
     },
     "output_type": "display_data"
    }
   ],
   "source": [
    "plt.figure(figsize=(15, 2))\n",
    "plt.hlines(0, 0, X_onset_times.max())\n",
    "plt.plot(X_onset_times, np.zeros(len(X_onset_times)), 'ro', ms=8, mfc='r')\n",
    "plt.plot(word_aligned_df.onset.values, np.ones(len(word_aligned_df)), 'go', ms=8)\n",
    "plt.axis('off')\n",
    "plt.tight_layout()"
   ]
  },
  {
   "cell_type": "code",
   "execution_count": 198,
   "id": "ed0e0f6f-8e28-42ba-a515-6c3c935cbd49",
   "metadata": {},
   "outputs": [
    {
     "data": {
      "application/vnd.jupyter.widget-view+json": {
       "model_id": "315fd59fcbd0464e84761a72e9a953d6",
       "version_major": 2,
       "version_minor": 0
      },
      "text/plain": [
       "  0%|          | 0/546 [00:00<?, ?it/s]"
      ]
     },
     "metadata": {},
     "output_type": "display_data"
    }
   ],
   "source": [
    "# Find overlap\n",
    "array1 = X_onset_times\n",
    "array2 = word_aligned_df.onset.unique()\n",
    "import itertools\n",
    "from tqdm.auto import trange\n",
    "matches = []\n",
    "no_match = []\n",
    "for i0 in trange(array1.shape[0]):\n",
    "    for i1 in range(array2.shape[0]):\n",
    "        if np.isclose(array1[i0], array2[i1], atol=1e-1):\n",
    "            matches.append((i0, i1))\n",
    "            break\n",
    "    else:\n",
    "        no_match.append(i0)"
   ]
  },
  {
   "cell_type": "code",
   "execution_count": 199,
   "id": "147b4494-3d65-4e69-8fb1-05926132e9b0",
   "metadata": {},
   "outputs": [
    {
     "data": {
      "text/plain": [
       "275"
      ]
     },
     "execution_count": 199,
     "metadata": {},
     "output_type": "execute_result"
    }
   ],
   "source": [
    "len(no_match)"
   ]
  },
  {
   "cell_type": "code",
   "execution_count": 200,
   "id": "418241c6-62fb-45f0-847d-5ffc64b7f8fe",
   "metadata": {},
   "outputs": [
    {
     "data": {
      "text/plain": [
       "271"
      ]
     },
     "execution_count": 200,
     "metadata": {},
     "output_type": "execute_result"
    }
   ],
   "source": [
    "len(matches)"
   ]
  },
  {
   "cell_type": "code",
   "execution_count": 201,
   "id": "fab8b6db-1d55-4a05-869e-3e4196cf2d84",
   "metadata": {},
   "outputs": [
    {
     "data": {
      "text/plain": [
       "[49, 50, 52, 53, 54]"
      ]
     },
     "execution_count": 201,
     "metadata": {},
     "output_type": "execute_result"
    }
   ],
   "source": [
    "no_match[:5]"
   ]
  },
  {
   "cell_type": "code",
   "execution_count": 202,
   "id": "dfef865f-2eeb-456b-8faf-cbeba3533a59",
   "metadata": {},
   "outputs": [
    {
     "data": {
      "text/plain": [
       "array([ 9.0546875,  9.1875   ,  9.296875 ,  9.421875 ,  9.828125 ,\n",
       "        9.9609375, 10.3046875, 10.4296875, 10.515625 , 11.8671875,\n",
       "       12.59375  , 12.703125 , 12.8984375, 14.       , 14.640625 ,\n",
       "       14.7421875, 14.90625  , 15.1328125, 15.9609375, 16.0390625])"
      ]
     },
     "execution_count": 202,
     "metadata": {},
     "output_type": "execute_result"
    }
   ],
   "source": [
    "X_onset_times[40:60]"
   ]
  },
  {
   "cell_type": "code",
   "execution_count": 203,
   "id": "7d8927b1-b729-45ec-99fc-b25ef03c1109",
   "metadata": {},
   "outputs": [
    {
     "data": {
      "text/plain": [
       "array([11.8671875, 12.59375  , 12.8984375, 14.       , 14.640625 ])"
      ]
     },
     "execution_count": 203,
     "metadata": {},
     "output_type": "execute_result"
    }
   ],
   "source": [
    "X_onset_times[no_match[:5]]"
   ]
  },
  {
   "cell_type": "code",
   "execution_count": 204,
   "id": "d3a13ab2-221e-4aed-bc23-6c3957bcf228",
   "metadata": {},
   "outputs": [
    {
     "data": {
      "image/png": "[encoded data removed]",
      "text/plain": [
       "<Figure size 1080x144 with 1 Axes>"
      ]
     },
     "metadata": {
      "needs_background": "light"
     },
     "output_type": "display_data"
    }
   ],
   "source": [
    "plt.figure(figsize=(15, 2))\n",
    "plt.hlines(0, 0, X_onset_times.max())\n",
    "plt.plot(X_onset_times[no_match], np.zeros(len(X_onset_times[no_match])), 'ro', ms=8, mfc='r')\n",
    "# plt.plot(word_aligned_df.onset.values, np.ones(len(word_aligned_df)), 'go', ms=8)\n",
    "plt.axis('off')\n",
    "plt.tight_layout()"
   ]
  },
  {
   "cell_type": "markdown",
   "id": "be935eb3-73da-4679-b206-5b3e198e92a8",
   "metadata": {},
   "source": [
    "## TODO: investigate evident misalignment here\n",
    "\n",
    "Looks like there's a misalignment that starts with the onset of a new sentence \"Santiago\" and may trigger a massive misalignment for rest of run.\n",
    "\n",
    "For now we'll put up with this incongruity in the pipeline."
   ]
  },
  {
   "cell_type": "code",
   "execution_count": 205,
   "id": "def3cace-55c6-40eb-917a-1ae3ca6966d4",
   "metadata": {},
   "outputs": [
    {
     "data": {
      "text/html": [
       "<div>\n",
       "<style scoped>\n",
       "    .dataframe tbody tr th:only-of-type {\n",
       "        vertical-align: middle;\n",
       "    }\n",
       "\n",
       "    .dataframe tbody tr th {\n",
       "        vertical-align: top;\n",
       "    }\n",
       "\n",
       "    .dataframe thead th {\n",
       "        text-align: right;\n",
       "    }\n",
       "</style>\n",
       "<table border=\"1\" class=\"dataframe\">\n",
       "  <thead>\n",
       "    <tr style=\"text-align: right;\">\n",
       "      <th></th>\n",
       "      <th>word_idx</th>\n",
       "      <th>word</th>\n",
       "      <th>onset</th>\n",
       "      <th>offset</th>\n",
       "      <th>token_idx</th>\n",
       "    </tr>\n",
       "  </thead>\n",
       "  <tbody>\n",
       "    <tr>\n",
       "      <th>40</th>\n",
       "      <td>40</td>\n",
       "      <td>AND</td>\n",
       "      <td>9.06</td>\n",
       "      <td>9.19</td>\n",
       "      <td>730</td>\n",
       "    </tr>\n",
       "    <tr>\n",
       "      <th>41</th>\n",
       "      <td>41</td>\n",
       "      <td>IT</td>\n",
       "      <td>9.19</td>\n",
       "      <td>9.30</td>\n",
       "      <td>731</td>\n",
       "    </tr>\n",
       "    <tr>\n",
       "      <th>42</th>\n",
       "      <td>42</td>\n",
       "      <td>WAS</td>\n",
       "      <td>9.30</td>\n",
       "      <td>9.42</td>\n",
       "      <td>732</td>\n",
       "    </tr>\n",
       "    <tr>\n",
       "      <th>43</th>\n",
       "      <td>43</td>\n",
       "      <td>PLEASANT</td>\n",
       "      <td>9.42</td>\n",
       "      <td>9.83</td>\n",
       "      <td>733</td>\n",
       "    </tr>\n",
       "    <tr>\n",
       "      <th>44</th>\n",
       "      <td>44</td>\n",
       "      <td>AND</td>\n",
       "      <td>9.83</td>\n",
       "      <td>9.96</td>\n",
       "      <td>734</td>\n",
       "    </tr>\n",
       "    <tr>\n",
       "      <th>45</th>\n",
       "      <td>45</td>\n",
       "      <td>SUNNY</td>\n",
       "      <td>9.96</td>\n",
       "      <td>10.31</td>\n",
       "      <td>735</td>\n",
       "    </tr>\n",
       "    <tr>\n",
       "      <th>46</th>\n",
       "      <td>46</td>\n",
       "      <td>ON</td>\n",
       "      <td>10.31</td>\n",
       "      <td>10.43</td>\n",
       "      <td>736</td>\n",
       "    </tr>\n",
       "    <tr>\n",
       "      <th>47</th>\n",
       "      <td>47</td>\n",
       "      <td>THE</td>\n",
       "      <td>10.43</td>\n",
       "      <td>10.52</td>\n",
       "      <td>737</td>\n",
       "    </tr>\n",
       "    <tr>\n",
       "      <th>48</th>\n",
       "      <td>48</td>\n",
       "      <td>TERRACE</td>\n",
       "      <td>10.52</td>\n",
       "      <td>11.02</td>\n",
       "      <td>738</td>\n",
       "    </tr>\n",
       "    <tr>\n",
       "      <th>49</th>\n",
       "      <td>48</td>\n",
       "      <td>TERRACE</td>\n",
       "      <td>10.52</td>\n",
       "      <td>11.02</td>\n",
       "      <td>739</td>\n",
       "    </tr>\n",
       "    <tr>\n",
       "      <th>50</th>\n",
       "      <td>49</td>\n",
       "      <td>SANTIAGO</td>\n",
       "      <td>12.70</td>\n",
       "      <td>13.30</td>\n",
       "      <td>742</td>\n",
       "    </tr>\n",
       "    <tr>\n",
       "      <th>51</th>\n",
       "      <td>49</td>\n",
       "      <td>SANTIAGO</td>\n",
       "      <td>12.70</td>\n",
       "      <td>13.30</td>\n",
       "      <td>743</td>\n",
       "    </tr>\n",
       "    <tr>\n",
       "      <th>52</th>\n",
       "      <td>49</td>\n",
       "      <td>SANTIAGO</td>\n",
       "      <td>12.70</td>\n",
       "      <td>13.30</td>\n",
       "      <td>744</td>\n",
       "    </tr>\n",
       "    <tr>\n",
       "      <th>53</th>\n",
       "      <td>50</td>\n",
       "      <td>THE</td>\n",
       "      <td>13.42</td>\n",
       "      <td>13.53</td>\n",
       "      <td>746</td>\n",
       "    </tr>\n",
       "    <tr>\n",
       "      <th>54</th>\n",
       "      <td>51</td>\n",
       "      <td>BOY</td>\n",
       "      <td>13.53</td>\n",
       "      <td>13.73</td>\n",
       "      <td>747</td>\n",
       "    </tr>\n",
       "    <tr>\n",
       "      <th>55</th>\n",
       "      <td>52</td>\n",
       "      <td>SAID</td>\n",
       "      <td>13.73</td>\n",
       "      <td>14.10</td>\n",
       "      <td>748</td>\n",
       "    </tr>\n",
       "    <tr>\n",
       "      <th>56</th>\n",
       "      <td>53</td>\n",
       "      <td>YES</td>\n",
       "      <td>14.83</td>\n",
       "      <td>15.30</td>\n",
       "      <td>751</td>\n",
       "    </tr>\n",
       "    <tr>\n",
       "      <th>57</th>\n",
       "      <td>54</td>\n",
       "      <td>THE</td>\n",
       "      <td>15.47</td>\n",
       "      <td>15.57</td>\n",
       "      <td>753</td>\n",
       "    </tr>\n",
       "    <tr>\n",
       "      <th>58</th>\n",
       "      <td>55</td>\n",
       "      <td>OLD</td>\n",
       "      <td>15.57</td>\n",
       "      <td>15.74</td>\n",
       "      <td>754</td>\n",
       "    </tr>\n",
       "    <tr>\n",
       "      <th>59</th>\n",
       "      <td>56</td>\n",
       "      <td>MAN</td>\n",
       "      <td>15.74</td>\n",
       "      <td>15.96</td>\n",
       "      <td>755</td>\n",
       "    </tr>\n",
       "  </tbody>\n",
       "</table>\n",
       "</div>"
      ],
      "text/plain": [
       "    word_idx      word  onset  offset  token_idx\n",
       "40        40       AND   9.06    9.19        730\n",
       "41        41        IT   9.19    9.30        731\n",
       "42        42       WAS   9.30    9.42        732\n",
       "43        43  PLEASANT   9.42    9.83        733\n",
       "44        44       AND   9.83    9.96        734\n",
       "45        45     SUNNY   9.96   10.31        735\n",
       "46        46        ON  10.31   10.43        736\n",
       "47        47       THE  10.43   10.52        737\n",
       "48        48   TERRACE  10.52   11.02        738\n",
       "49        48   TERRACE  10.52   11.02        739\n",
       "50        49  SANTIAGO  12.70   13.30        742\n",
       "51        49  SANTIAGO  12.70   13.30        743\n",
       "52        49  SANTIAGO  12.70   13.30        744\n",
       "53        50       THE  13.42   13.53        746\n",
       "54        51       BOY  13.53   13.73        747\n",
       "55        52      SAID  13.73   14.10        748\n",
       "56        53       YES  14.83   15.30        751\n",
       "57        54       THE  15.47   15.57        753\n",
       "58        55       OLD  15.57   15.74        754\n",
       "59        56       MAN  15.74   15.96        755"
      ]
     },
     "execution_count": 205,
     "metadata": {},
     "output_type": "execute_result"
    }
   ],
   "source": [
    "word_aligned_df.iloc[40:60]"
   ]
  },
  {
   "cell_type": "code",
   "execution_count": 206,
   "id": "a9fe3588-08c4-49da-b38f-a316e6bb33c4",
   "metadata": {},
   "outputs": [
    {
     "data": {
      "text/plain": [
       "(546, 567)"
      ]
     },
     "execution_count": 206,
     "metadata": {},
     "output_type": "execute_result"
    }
   ],
   "source": [
    "len(X_onset_times), len(word_aligned_df)"
   ]
  },
  {
   "cell_type": "markdown",
   "id": "504fe2be-bed9-44c1-a341-136a929d4df9",
   "metadata": {},
   "source": [
    "## Load signal data"
   ]
  },
  {
   "cell_type": "code",
   "execution_count": 207,
   "id": "1397bb9e-a151-458c-8f66-2066b30a7788",
   "metadata": {},
   "outputs": [
    {
     "data": {
      "text/plain": [
       "163.7265625"
      ]
     },
     "execution_count": 207,
     "metadata": {},
     "output_type": "execute_result"
    }
   ],
   "source": [
    "min_time, max_time = 0, len(X) / sfreq\n",
    "max_time"
   ]
  },
  {
   "cell_type": "code",
   "execution_count": 208,
   "id": "8baf303e-3a30-4760-a47f-525f4f1feb93",
   "metadata": {},
   "outputs": [
    {
     "name": "stdout",
     "output_type": "stream",
     "text": [
      "45, 130 chopped words/phonemes. Dropping.\n"
     ]
    }
   ],
   "source": [
    "# Check compatibility with alignment data.\n",
    "assert min_time <= word_aligned_df.onset.min()\n",
    "assert min_time <= phoneme_aligned_df.onset.min()\n",
    "\n",
    "# NB looks like the last sentence-ish of each run is truncated from the signal\n",
    "# data. TODO double check this with authors?\n",
    "# assert max_time >= word_aligned_df.offset.max()\n",
    "# assert max_time >= phoneme_aligned_df.offset.max()\n",
    "chopped_words = word_aligned_df.offset >= max_time\n",
    "chopped_phonemes = phoneme_aligned_df.offset >= max_time\n",
    "print(f\"{chopped_words.sum()}, {chopped_phonemes.sum()} chopped words/phonemes. Dropping.\")\n",
    "\n",
    "# word_aligned_df = word_aligned_df[~chopped_words]\n",
    "# phoneme_aligned_df = phoneme_aligned_df[~chopped_phonemes]"
   ]
  },
  {
   "cell_type": "code",
   "execution_count": 209,
   "id": "51e54531-3928-4b5c-b65d-5811e327305a",
   "metadata": {},
   "outputs": [
    {
     "data": {
      "text/html": [
       "<div>\n",
       "<style scoped>\n",
       "    .dataframe tbody tr th:only-of-type {\n",
       "        vertical-align: middle;\n",
       "    }\n",
       "\n",
       "    .dataframe tbody tr th {\n",
       "        vertical-align: top;\n",
       "    }\n",
       "\n",
       "    .dataframe thead th {\n",
       "        text-align: right;\n",
       "    }\n",
       "</style>\n",
       "<table border=\"1\" class=\"dataframe\">\n",
       "  <thead>\n",
       "    <tr style=\"text-align: right;\">\n",
       "      <th></th>\n",
       "      <th>word_idx</th>\n",
       "      <th>word</th>\n",
       "      <th>onset</th>\n",
       "      <th>offset</th>\n",
       "      <th>token_idx</th>\n",
       "    </tr>\n",
       "  </thead>\n",
       "  <tbody>\n",
       "    <tr>\n",
       "      <th>562</th>\n",
       "      <td>541</td>\n",
       "      <td>AND</td>\n",
       "      <td>178.09</td>\n",
       "      <td>178.18</td>\n",
       "      <td>1364</td>\n",
       "    </tr>\n",
       "    <tr>\n",
       "      <th>563</th>\n",
       "      <td>542</td>\n",
       "      <td>YOUR</td>\n",
       "      <td>178.18</td>\n",
       "      <td>178.39</td>\n",
       "      <td>1365</td>\n",
       "    </tr>\n",
       "    <tr>\n",
       "      <th>564</th>\n",
       "      <td>543</td>\n",
       "      <td>EYES</td>\n",
       "      <td>178.39</td>\n",
       "      <td>178.60</td>\n",
       "      <td>1366</td>\n",
       "    </tr>\n",
       "    <tr>\n",
       "      <th>565</th>\n",
       "      <td>544</td>\n",
       "      <td>ARE</td>\n",
       "      <td>178.60</td>\n",
       "      <td>178.66</td>\n",
       "      <td>1367</td>\n",
       "    </tr>\n",
       "    <tr>\n",
       "      <th>566</th>\n",
       "      <td>545</td>\n",
       "      <td>GOOD</td>\n",
       "      <td>178.66</td>\n",
       "      <td>178.99</td>\n",
       "      <td>1368</td>\n",
       "    </tr>\n",
       "  </tbody>\n",
       "</table>\n",
       "</div>"
      ],
      "text/plain": [
       "     word_idx  word   onset  offset  token_idx\n",
       "562       541   AND  178.09  178.18       1364\n",
       "563       542  YOUR  178.18  178.39       1365\n",
       "564       543  EYES  178.39  178.60       1366\n",
       "565       544   ARE  178.60  178.66       1367\n",
       "566       545  GOOD  178.66  178.99       1368"
      ]
     },
     "execution_count": 209,
     "metadata": {},
     "output_type": "execute_result"
    }
   ],
   "source": [
    "word_aligned_df.tail()"
   ]
  },
  {
   "cell_type": "code",
   "execution_count": 85,
   "id": "b12999f2-5d40-4580-89aa-1e8993247215",
   "metadata": {},
   "outputs": [
    {
     "name": "stdout",
     "output_type": "stream",
     "text": [
      "Also dropping 1 orphaned phonemes.\n"
     ]
    }
   ],
   "source": [
    "# We may have residual phonemes without a corresponding word now. Remove those.\n",
    "orphaned_phonemes = ~phoneme_aligned_df.word_idx.isin(word_aligned_df.word_idx)\n",
    "if orphaned_phonemes.any():\n",
    "    print(f\"Also dropping {orphaned_phonemes.sum()} orphaned phonemes.\")\n",
    "    phoneme_aligned_df = phoneme_aligned_df[~orphaned_phonemes]"
   ]
  },
  {
   "cell_type": "code",
   "execution_count": 88,
   "id": "ec525b5b-44ca-474e-928c-f3c79494091b",
   "metadata": {},
   "outputs": [],
   "source": [
    "# Check consistency.\n",
    "assert set(word_aligned_df.word_idx) == set(phoneme_aligned_df.word_idx)"
   ]
  },
  {
   "cell_type": "markdown",
   "id": "69a390af-4501-4259-957a-cae23e7c5584",
   "metadata": {},
   "source": [
    "## Produce BerpDataset representations"
   ]
  },
  {
   "cell_type": "code",
   "execution_count": 91,
   "id": "ece3d43a-0108-45c3-a8bb-cff6272e26cb",
   "metadata": {},
   "outputs": [],
   "source": [
    "# Now produce onset information from canonical aligned data.\n",
    "# NB this will contain NaNs if there was misalignment above.\n",
    "word_onsets = word_aligned_df.groupby(\"word_idx\").onset.min().to_dict()\n",
    "word_onsets = torch.tensor([word_onsets.get(word_id.item(), np.nan)\n",
    "                            for word_id in story_stim.word_ids])\n",
    "\n",
    "word_offsets = word_aligned_df.groupby(\"word_idx\").offset.max().to_dict()\n",
    "word_offsets = torch.tensor([word_offsets.get(word_id.item(), np.nan)\n",
    "                             for word_id in story_stim.word_ids])"
   ]
  },
  {
   "cell_type": "code",
   "execution_count": 95,
   "id": "788d22b9-a3df-41b3-b46f-4b025f4ebc02",
   "metadata": {},
   "outputs": [],
   "source": [
    "# Compute phoneme onsets relative to word onset.\n",
    "phoneme_onsets = phoneme_aligned_df.groupby(\"word_idx\") \\\n",
    "    .apply(lambda xs: list(xs.onset - xs.onset.min())).to_dict()\n",
    "phoneme_onsets = [torch.tensor(phoneme_onsets.get(word_id.item(), [np.nan]))\n",
    "                  for word_id in story_stim.word_ids]"
   ]
  },
  {
   "cell_type": "code",
   "execution_count": 97,
   "id": "6b9f95a4-461a-41c8-b905-2d85627f0e70",
   "metadata": {},
   "outputs": [],
   "source": [
    "max_num_phonemes = max(len(onsets) for onsets in phoneme_onsets)\n",
    "# Sanity check: max_num_phonemes as computed from aligned data should\n",
    "# match that produced earlier by the natural language stimulus processor\n",
    "assert max_num_phonemes == story_stim.max_n_phonemes, \\\n",
    "    \"%d %d\" % (max_num_phonemes, story_stim.max_n_phonemes)"
   ]
  },
  {
   "cell_type": "code",
   "execution_count": 98,
   "id": "bacdcad4-7106-495d-a484-37b6633a33ea",
   "metadata": {},
   "outputs": [],
   "source": [
    "# Pad phoneme onset information\n",
    "phoneme_onsets = torch.stack([\n",
    "    pad(onsets, (0, max_num_phonemes - len(onsets)), value=0.)\n",
    "    if len(onsets) < max_num_phonemes\n",
    "    else onsets\n",
    "    for onsets in phoneme_onsets\n",
    "])"
   ]
  },
  {
   "cell_type": "code",
   "execution_count": 105,
   "id": "75c95267-5d48-4270-ac19-59c8876ae342",
   "metadata": {},
   "outputs": [],
   "source": [
    "dataset = BerpDataset(\n",
    "    name=f\"{story_name}/sub{subject}/run{run}\",\n",
    "    stimulus_name=story_stim.name,\n",
    "    sample_rate=sfreq,\n",
    "    \n",
    "    phonemes=story_stim.phonemes,\n",
    "    \n",
    "    word_onsets=word_onsets,\n",
    "    word_offsets=word_offsets,\n",
    "    phoneme_onsets=phoneme_onsets,\n",
    "    \n",
    "    X_ts=X,\n",
    "    ts_feature_names=ts_feature_names,\n",
    "    \n",
    "    X_variable=X_variable,\n",
    "    variable_feature_names=variable_feature_names,\n",
    "    \n",
    "    Y=y,\n",
    "    sensor_names=sensor_names,\n",
    ")"
   ]
  },
  {
   "cell_type": "code",
   "execution_count": 106,
   "id": "bfc08d54-edaa-4e43-9178-41b0251a2b95",
   "metadata": {},
   "outputs": [],
   "source": [
    "with Path(output_path).open(\"wb\") as f:\n",
    "    pickle.dump(dataset, f)"
   ]
  }
 ],
 "metadata": {
  "kernelspec": {
   "display_name": "Python 3 (ipykernel)",
   "language": "python",
   "name": "python3"
  },
  "language_info": {
   "codemirror_mode": {
    "name": "ipython",
    "version": 3
   },
   "file_extension": ".py",
   "mimetype": "text/x-python",
   "name": "python",
   "nbconvert_exporter": "python",
   "pygments_lexer": "ipython3",
   "version": "3.9.13"
  }
 },
 "nbformat": 4,
 "nbformat_minor": 5
}
