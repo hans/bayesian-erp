{
 "cells": [
  {
   "cell_type": "code",
   "execution_count": 1,
   "id": "5b545e3f-8de0-4b11-b515-695a66d6612a",
   "metadata": {},
   "outputs": [],
   "source": [
    "from pathlib import Path\n",
    "import re\n",
    "\n",
    "import transformers"
   ]
  },
  {
   "cell_type": "code",
   "execution_count": 2,
   "id": "55576344-4445-4c3c-9dc8-91f08334b2ba",
   "metadata": {
    "tags": [
     "parameters"
    ]
   },
   "outputs": [],
   "source": [
    "model = \"gpt2\"\n",
    "input_path = \"../../workflow/heilbron2022/data/raw-text/old-man-and-the-sea.txt\"\n",
    "output_path = \"oms.txt\""
   ]
  },
  {
   "cell_type": "code",
   "execution_count": 3,
   "id": "eae25671-f7a7-49cf-891d-95b2298b15ac",
   "metadata": {},
   "outputs": [],
   "source": [
    "tokenizer = transformers.AutoTokenizer.from_pretrained(model)"
   ]
  },
  {
   "cell_type": "code",
   "execution_count": 9,
   "id": "5a29a74b-daef-46ee-9dad-7152103dcb01",
   "metadata": {},
   "outputs": [],
   "source": [
    "text = Path(input_path).read_text(\"utf-8\")"
   ]
  },
  {
   "cell_type": "code",
   "execution_count": 10,
   "id": "468c2d5b-3464-4cff-94b0-be39030b79e7",
   "metadata": {},
   "outputs": [],
   "source": [
    "text = re.sub(r\"\\s+\", \" \", text)"
   ]
  },
  {
   "cell_type": "code",
   "execution_count": 11,
   "id": "5d182d66-7ce6-46de-a268-4171778fb305",
   "metadata": {},
   "outputs": [
    {
     "data": {
      "text/plain": [
       "[('\" \"Que va,\" the boy said', str), ('\" \"Qua va,\" the boy said', str)]"
      ]
     },
     "execution_count": 11,
     "metadata": {},
     "output_type": "execute_result"
    }
   ],
   "source": [
    "[(sent, type(sent)) for sent in text.split(\".\") if \"Qu\" in sent]"
   ]
  },
  {
   "cell_type": "code",
   "execution_count": 12,
   "id": "3d931694-90f2-4288-8801-db4ac918e713",
   "metadata": {},
   "outputs": [],
   "source": [
    "encoded = tokenizer(text)\n",
    "tokens = tokenizer.convert_ids_to_tokens(encoded[\"input_ids\"])"
   ]
  },
  {
   "cell_type": "code",
   "execution_count": 13,
   "id": "1d985e4f-275c-499e-bf83-01f34fdaf8d3",
   "metadata": {},
   "outputs": [],
   "source": [
    "with Path(output_path).open(\"w\") as f:\n",
    "    f.write(\" \".join(tokens))"
   ]
  },
  {
   "cell_type": "code",
   "execution_count": null,
   "id": "612e9f2f-7095-44ce-8442-0042e988fd7c",
   "metadata": {},
   "outputs": [],
   "source": []
  }
 ],
 "metadata": {
  "kernelspec": {
   "display_name": "Python 3 (ipykernel)",
   "language": "python",
   "name": "python3"
  },
  "language_info": {
   "codemirror_mode": {
    "name": "ipython",
    "version": 3
   },
   "file_extension": ".py",
   "mimetype": "text/x-python",
   "name": "python",
   "nbconvert_exporter": "python",
   "pygments_lexer": "ipython3",
   "version": "3.9.13"
  }
 },
 "nbformat": 4,
 "nbformat_minor": 5
}
