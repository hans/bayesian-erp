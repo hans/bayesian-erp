{
 "cells": [
  {
   "cell_type": "code",
   "execution_count": 1,
   "id": "38d28fc5-57db-48fd-bbe4-a87601bb66f4",
   "metadata": {},
   "outputs": [],
   "source": [
    "from pathlib import Path\n",
    "\n",
    "import pandas as pd"
   ]
  },
  {
   "cell_type": "code",
   "execution_count": 2,
   "id": "a5cb8c01-52b7-4754-ba36-81ba566ce702",
   "metadata": {},
   "outputs": [],
   "source": [
    "%load_ext autoreload\n",
    "%autoreload 2\n",
    "import sys\n",
    "sys.path.append(\"../..\")\n",
    "from berp.datasets.alignment import Aligner"
   ]
  },
  {
   "cell_type": "code",
   "execution_count": 3,
   "id": "4c435ab6-f372-497f-b7f9-edc65dc4ec5a",
   "metadata": {},
   "outputs": [],
   "source": [
    "presentation_words_path = \"/home/jgauthie/om2/others/heilbron2022/notebooks/exported/words.csv\"\n",
    "presentation_phonemes_path = \"/home/jgauthie/om2/others/heilbron2022/notebooks/exported/phonemes.csv\"\n",
    "tokenized_path = \"oms.txt\"\n",
    "\n",
    "story_name = \"oms\"\n",
    "output_dir = \".\""
   ]
  },
  {
   "cell_type": "code",
   "execution_count": 19,
   "id": "5c90f3c4-28b9-4a91-b4d1-f2c0196ee9d5",
   "metadata": {},
   "outputs": [],
   "source": [
    "tokens = Path(tokenized_path).read_text().split(\" \")"
   ]
  },
  {
   "cell_type": "code",
   "execution_count": 20,
   "id": "4ee37bbe-bcdc-48b8-9a3d-7176bc1bf740",
   "metadata": {},
   "outputs": [],
   "source": [
    "words_df = pd.read_csv(presentation_words_path, index_col=[0, 1])\n",
    "phonemes_df = pd.read_csv(presentation_phonemes_path, index_col=[0, 1])"
   ]
  },
  {
   "cell_type": "code",
   "execution_count": 21,
   "id": "04f6fee6-9a4f-4cd4-a7ac-f8a4d8db0dd8",
   "metadata": {},
   "outputs": [
    {
     "data": {
      "text/html": [
       "<div>\n",
       "<style scoped>\n",
       "    .dataframe tbody tr th:only-of-type {\n",
       "        vertical-align: middle;\n",
       "    }\n",
       "\n",
       "    .dataframe tbody tr th {\n",
       "        vertical-align: top;\n",
       "    }\n",
       "\n",
       "    .dataframe thead th {\n",
       "        text-align: right;\n",
       "    }\n",
       "</style>\n",
       "<table border=\"1\" class=\"dataframe\">\n",
       "  <thead>\n",
       "    <tr style=\"text-align: right;\">\n",
       "      <th></th>\n",
       "      <th></th>\n",
       "      <th>word</th>\n",
       "      <th>onset</th>\n",
       "      <th>offset</th>\n",
       "    </tr>\n",
       "    <tr>\n",
       "      <th>run</th>\n",
       "      <th></th>\n",
       "      <th></th>\n",
       "      <th></th>\n",
       "      <th></th>\n",
       "    </tr>\n",
       "  </thead>\n",
       "  <tbody>\n",
       "    <tr>\n",
       "      <th rowspan=\"5\" valign=\"top\">1</th>\n",
       "      <th>0</th>\n",
       "      <td>HE</td>\n",
       "      <td>0.76</td>\n",
       "      <td>0.88</td>\n",
       "    </tr>\n",
       "    <tr>\n",
       "      <th>1</th>\n",
       "      <td>WAS</td>\n",
       "      <td>0.88</td>\n",
       "      <td>1.04</td>\n",
       "    </tr>\n",
       "    <tr>\n",
       "      <th>2</th>\n",
       "      <td>AN</td>\n",
       "      <td>1.04</td>\n",
       "      <td>1.12</td>\n",
       "    </tr>\n",
       "    <tr>\n",
       "      <th>3</th>\n",
       "      <td>OLD</td>\n",
       "      <td>1.12</td>\n",
       "      <td>1.41</td>\n",
       "    </tr>\n",
       "    <tr>\n",
       "      <th>4</th>\n",
       "      <td>MAN</td>\n",
       "      <td>1.41</td>\n",
       "      <td>1.79</td>\n",
       "    </tr>\n",
       "    <tr>\n",
       "      <th>...</th>\n",
       "      <th>...</th>\n",
       "      <td>...</td>\n",
       "      <td>...</td>\n",
       "      <td>...</td>\n",
       "    </tr>\n",
       "    <tr>\n",
       "      <th rowspan=\"5\" valign=\"top\">19</th>\n",
       "      <th>585</th>\n",
       "      <td>LOOKED</td>\n",
       "      <td>175.41</td>\n",
       "      <td>175.66</td>\n",
       "    </tr>\n",
       "    <tr>\n",
       "      <th>586</th>\n",
       "      <td>AT</td>\n",
       "      <td>175.66</td>\n",
       "      <td>175.81</td>\n",
       "    </tr>\n",
       "    <tr>\n",
       "      <th>587</th>\n",
       "      <td>IT</td>\n",
       "      <td>175.81</td>\n",
       "      <td>175.92</td>\n",
       "    </tr>\n",
       "    <tr>\n",
       "      <th>588</th>\n",
       "      <td>IN</td>\n",
       "      <td>175.92</td>\n",
       "      <td>176.04</td>\n",
       "    </tr>\n",
       "    <tr>\n",
       "      <th>589</th>\n",
       "      <td>DISGUST</td>\n",
       "      <td>176.04</td>\n",
       "      <td>176.67</td>\n",
       "    </tr>\n",
       "  </tbody>\n",
       "</table>\n",
       "<p>10771 rows × 3 columns</p>\n",
       "</div>"
      ],
      "text/plain": [
       "            word   onset  offset\n",
       "run                             \n",
       "1   0         HE    0.76    0.88\n",
       "    1        WAS    0.88    1.04\n",
       "    2         AN    1.04    1.12\n",
       "    3        OLD    1.12    1.41\n",
       "    4        MAN    1.41    1.79\n",
       "...          ...     ...     ...\n",
       "19  585   LOOKED  175.41  175.66\n",
       "    586       AT  175.66  175.81\n",
       "    587       IT  175.81  175.92\n",
       "    588       IN  175.92  176.04\n",
       "    589  DISGUST  176.04  176.67\n",
       "\n",
       "[10771 rows x 3 columns]"
      ]
     },
     "execution_count": 21,
     "metadata": {},
     "output_type": "execute_result"
    }
   ],
   "source": [
    "words_df"
   ]
  },
  {
   "cell_type": "code",
   "execution_count": 22,
   "id": "3e380971-16d1-4718-8d9a-0b85a6e071fa",
   "metadata": {},
   "outputs": [],
   "source": [
    "# Hacks\n",
    "assert words_df.loc[5].loc[446].word == \"J.\"\n",
    "words_df.loc[5].loc[446, \"word\"] = \"J\""
   ]
  },
  {
   "cell_type": "code",
   "execution_count": null,
   "id": "98e9d963-190b-4a07-9242-b241b7b6c217",
   "metadata": {
    "scrolled": true,
    "tags": []
   },
   "outputs": [],
   "source": [
    "alignment = Aligner(tokens, words_df, max_skip_patience=0)()"
   ]
  },
  {
   "cell_type": "code",
   "execution_count": null,
   "id": "02634563-f400-43b4-91de-faf3879508ba",
   "metadata": {},
   "outputs": [],
   "source": []
  }
 ],
 "metadata": {
  "kernelspec": {
   "display_name": "Python 3 (ipykernel)",
   "language": "python",
   "name": "python3"
  },
  "language_info": {
   "codemirror_mode": {
    "name": "ipython",
    "version": 3
   },
   "file_extension": ".py",
   "mimetype": "text/x-python",
   "name": "python",
   "nbconvert_exporter": "python",
   "pygments_lexer": "ipython3",
   "version": "3.9.13"
  }
 },
 "nbformat": 4,
 "nbformat_minor": 5
}
