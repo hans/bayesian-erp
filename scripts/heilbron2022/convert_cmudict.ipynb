{
 "cells": [
  {
   "cell_type": "code",
   "execution_count": 221,
   "id": "0493fda1-ece2-487f-b3db-9e8f8eab1765",
   "metadata": {},
   "outputs": [],
   "source": [
    "from collections import defaultdict, Counter\n",
    "import re\n",
    "\n",
    "import pandas as pd\n",
    "from tqdm.auto import tqdm"
   ]
  },
  {
   "cell_type": "code",
   "execution_count": 222,
   "id": "df13cd94-973a-42aa-8f34-66e94d7d5fb5",
   "metadata": {},
   "outputs": [
    {
     "name": "stdout",
     "output_type": "stream",
     "text": [
      "The autoreload extension is already loaded. To reload it, use:\n",
      "  %reload_ext autoreload\n"
     ]
    }
   ],
   "source": [
    "%load_ext autoreload\n",
    "%autoreload 2\n",
    "import sys\n",
    "sys.path.append(\"../..\")\n",
    "from berp.languages import english"
   ]
  },
  {
   "cell_type": "code",
   "execution_count": 223,
   "id": "8f46fe91-89dc-443b-9a29-4822604611c2",
   "metadata": {
    "tags": [
     "parameters"
    ]
   },
   "outputs": [],
   "source": [
    "input_path = \"../../cmudict-0.7b\"\n",
    "output_path = \"cmudict_ipa.csv\""
   ]
  },
  {
   "cell_type": "code",
   "execution_count": 224,
   "id": "a210566b-d048-4682-b9aa-5fc30956a125",
   "metadata": {},
   "outputs": [],
   "source": [
    "brackets_re = re.compile(r\"\\(\\d+\\)\")\n",
    "stress_re = re.compile(r\"[012]\")\n",
    "comments_re = re.compile(r\"\\s*#.+$\")"
   ]
  },
  {
   "cell_type": "code",
   "execution_count": 225,
   "id": "8742e2ce-b69a-4c26-adbd-9941a06974f2",
   "metadata": {},
   "outputs": [],
   "source": [
    "mapping = defaultdict(list)"
   ]
  },
  {
   "cell_type": "code",
   "execution_count": 226,
   "id": "22a03716-bb02-42a0-bdf4-6c42379c6b0e",
   "metadata": {},
   "outputs": [],
   "source": [
    "for word, pron in english.cmudict_overrides.items():\n",
    "    mapping[word].append(pron)"
   ]
  },
  {
   "cell_type": "code",
   "execution_count": 227,
   "id": "08470369-1542-46f0-9a36-c8762cff2eb5",
   "metadata": {},
   "outputs": [
    {
     "data": {
      "application/vnd.jupyter.widget-view+json": {
       "model_id": "1afe820c8fea4e15b3114ba1b5b93922",
       "version_major": 2,
       "version_minor": 0
      },
      "text/plain": [
       "  0%|          | 0/134429 [00:00<?, ?it/s]"
      ]
     },
     "metadata": {},
     "output_type": "display_data"
    }
   ],
   "source": [
    "with open(input_path, encoding=\"latin-1\") as f:\n",
    "    i = 0\n",
    "    for line in tqdm(f.readlines()):\n",
    "        line = line.strip()\n",
    "        if line.startswith(\";;;\"):\n",
    "            continue\n",
    "\n",
    "        word, arpa = line.split(\" \", 1)\n",
    "        word = brackets_re.sub(\"\", word)\n",
    "        arpa = stress_re.sub(\"\", arpa).strip().split(\" \")\n",
    "        \n",
    "        result = []\n",
    "        for part in arpa:\n",
    "            ipa = english.cmu_ipa_mapping[part]\n",
    "            result.append(ipa)\n",
    "            \n",
    "        mapping[word].append(\" \".join(result))"
   ]
  },
  {
   "cell_type": "code",
   "execution_count": 228,
   "id": "911974d8-57d3-42a5-954e-0ff1367c02a2",
   "metadata": {},
   "outputs": [
    {
     "data": {
      "text/html": [
       "<div>\n",
       "<style scoped>\n",
       "    .dataframe tbody tr th:only-of-type {\n",
       "        vertical-align: middle;\n",
       "    }\n",
       "\n",
       "    .dataframe tbody tr th {\n",
       "        vertical-align: top;\n",
       "    }\n",
       "\n",
       "    .dataframe thead th {\n",
       "        text-align: right;\n",
       "    }\n",
       "</style>\n",
       "<table border=\"1\" class=\"dataframe\">\n",
       "  <thead>\n",
       "    <tr style=\"text-align: right;\">\n",
       "      <th></th>\n",
       "      <th>word</th>\n",
       "      <th>pronunciation_idx</th>\n",
       "      <th>pronunciation</th>\n",
       "    </tr>\n",
       "  </thead>\n",
       "  <tbody>\n",
       "    <tr>\n",
       "      <th>0</th>\n",
       "      <td>was</td>\n",
       "      <td>0</td>\n",
       "      <td>w ʌ z</td>\n",
       "    </tr>\n",
       "    <tr>\n",
       "      <th>1</th>\n",
       "      <td>was</td>\n",
       "      <td>1</td>\n",
       "      <td>w ɑ z</td>\n",
       "    </tr>\n",
       "    <tr>\n",
       "      <th>2</th>\n",
       "      <td>was</td>\n",
       "      <td>2</td>\n",
       "      <td>w ɑ z</td>\n",
       "    </tr>\n",
       "    <tr>\n",
       "      <th>3</th>\n",
       "      <td>wind</td>\n",
       "      <td>0</td>\n",
       "      <td>w ɪ n d</td>\n",
       "    </tr>\n",
       "    <tr>\n",
       "      <th>4</th>\n",
       "      <td>wind</td>\n",
       "      <td>1</td>\n",
       "      <td>w aɪ n d</td>\n",
       "    </tr>\n",
       "    <tr>\n",
       "      <th>...</th>\n",
       "      <td>...</td>\n",
       "      <td>...</td>\n",
       "      <td>...</td>\n",
       "    </tr>\n",
       "    <tr>\n",
       "      <th>134415</th>\n",
       "      <td>{brace</td>\n",
       "      <td>0</td>\n",
       "      <td>b ɹ ɛɪ s</td>\n",
       "    </tr>\n",
       "    <tr>\n",
       "      <th>134416</th>\n",
       "      <td>{left-brace</td>\n",
       "      <td>0</td>\n",
       "      <td>l ɛ f t b ɹ ɛɪ s</td>\n",
       "    </tr>\n",
       "    <tr>\n",
       "      <th>134417</th>\n",
       "      <td>{open-brace</td>\n",
       "      <td>0</td>\n",
       "      <td>oʊ p ɛ n b ɹ ɛɪ s</td>\n",
       "    </tr>\n",
       "    <tr>\n",
       "      <th>134418</th>\n",
       "      <td>}close-brace</td>\n",
       "      <td>0</td>\n",
       "      <td>k l oʊ z b ɹ ɛɪ s</td>\n",
       "    </tr>\n",
       "    <tr>\n",
       "      <th>134419</th>\n",
       "      <td>}right-brace</td>\n",
       "      <td>0</td>\n",
       "      <td>ɹ aɪ t b ɹ ɛɪ s</td>\n",
       "    </tr>\n",
       "  </tbody>\n",
       "</table>\n",
       "<p>134420 rows × 3 columns</p>\n",
       "</div>"
      ],
      "text/plain": [
       "                word  pronunciation_idx      pronunciation\n",
       "0                was                  0              w ʌ z\n",
       "1                was                  1              w ɑ z\n",
       "2                was                  2              w ɑ z\n",
       "3               wind                  0            w ɪ n d\n",
       "4               wind                  1           w aɪ n d\n",
       "...              ...                ...                ...\n",
       "134415        {brace                  0           b ɹ ɛɪ s\n",
       "134416   {left-brace                  0   l ɛ f t b ɹ ɛɪ s\n",
       "134417   {open-brace                  0  oʊ p ɛ n b ɹ ɛɪ s\n",
       "134418  }close-brace                  0  k l oʊ z b ɹ ɛɪ s\n",
       "134419  }right-brace                  0    ɹ aɪ t b ɹ ɛɪ s\n",
       "\n",
       "[134420 rows x 3 columns]"
      ]
     },
     "execution_count": 228,
     "metadata": {},
     "output_type": "execute_result"
    }
   ],
   "source": [
    "# Prepare dataframe\n",
    "rows = [(word.lower(), i, pron) for word, prons in mapping.items()\n",
    "        for i, pron in enumerate(prons)]\n",
    "df = pd.DataFrame(rows, columns=[\"word\", \"pronunciation_idx\", \"pronunciation\"])\n",
    "df"
   ]
  },
  {
   "cell_type": "code",
   "execution_count": 229,
   "id": "e045bf48-88b4-427f-8a9a-5e509573a1ed",
   "metadata": {},
   "outputs": [],
   "source": [
    "df.to_csv(output_path, index=False)"
   ]
  }
 ],
 "metadata": {
  "kernelspec": {
   "display_name": "Python 3 (ipykernel)",
   "language": "python",
   "name": "python3"
  },
  "language_info": {
   "codemirror_mode": {
    "name": "ipython",
    "version": 3
   },
   "file_extension": ".py",
   "mimetype": "text/x-python",
   "name": "python",
   "nbconvert_exporter": "python",
   "pygments_lexer": "ipython3",
   "version": "3.9.13"
  }
 },
 "nbformat": 4,
 "nbformat_minor": 5
}
