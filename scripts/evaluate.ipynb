{
 "cells": [
  {
   "cell_type": "code",
   "execution_count": 1,
   "id": "8ac63cfc-79b7-4e64-96cf-a53ae139ea7b",
   "metadata": {},
   "outputs": [],
   "source": [
    "import io\n",
    "from itertools import product\n",
    "import logging\n",
    "L = logging.getLogger(__name__)\n",
    "from pathlib import Path\n",
    "import pickle\n",
    "import yaml\n",
    "\n",
    "import matplotlib.pyplot as plt\n",
    "import numpy as np\n",
    "import pandas as pd\n",
    "import seaborn as sns\n",
    "import scipy.stats as st\n",
    "import torch\n",
    "from tqdm.auto import tqdm"
   ]
  },
  {
   "cell_type": "code",
   "execution_count": 2,
   "id": "e538c2cd-08fd-47eb-90b0-036649f211d8",
   "metadata": {},
   "outputs": [],
   "source": [
    "%load_ext autoreload\n",
    "%autoreload 2"
   ]
  },
  {
   "cell_type": "code",
   "execution_count": 3,
   "id": "95b308be-b1ae-4e3c-adef-cac4758bfce5",
   "metadata": {},
   "outputs": [],
   "source": [
    "import sys\n",
    "sys.path.append(\"..\")\n",
    "from berp.datasets import BerpDataset, NestedBerpDataset\n",
    "from berp.datasets.base import assert_compatible\n",
    "from berp.datasets.eeg import load_eeg_dataset\n",
    "from berp.datasets.splitters import KFold, train_test_split\n",
    "import berp.trainer  # sets some nice yaml dump defaults\n",
    "from berp.viz.trf import plot_trf_coefficients"
   ]
  },
  {
   "cell_type": "code",
   "execution_count": 4,
   "id": "c533fae8-2080-44ff-9060-9beb680af151",
   "metadata": {
    "tags": [
     "parameters"
    ]
   },
   "outputs": [],
   "source": [
    "workflow = \"heilbron2022\"\n",
    "model = \"distilgpt2\"\n",
    "\n",
    "# base_model_run_name = \"trf.20221219\"\n",
    "# trf_run_name = \"trf-berp-fixed.20221215\"\n",
    "# trf_run_name = \"trf-berp-cannon.20221215.3quant\"\n",
    "# base_model_run_name = \"trf\"\n",
    "# trf_run_name = \"trf-berp-fixed\"\n",
    "base_model_run_name = \"trf\"\n",
    "trf_run_name = \"trf-berp-fixed.20230124\"\n",
    "\n",
    "# TODO this can/should be reloaded via Hydra flow rather than manually re-specified + loaded with copy-pasted logic below\n",
    "subjects = list(range(1, 20)) # [14, 15, 16, 17, 18, 19]\n",
    "runs = list(range(1, 20))\n",
    "stories = [\"old-man-and-the-sea\"]\n",
    "\n",
    "target_sensors = [\"B19\", \"B20\", \"B22\"]\n",
    "\n",
    "# Match dataset spec.\n",
    "normalize_X_ts = False\n",
    "normalize_X_variable = True\n",
    "normalize_Y = False\n",
    "\n",
    "n_evaluation_folds = 4"
   ]
  },
  {
   "cell_type": "code",
   "execution_count": 5,
   "id": "cea055f9-05b0-4a98-8ef0-edaf39a29568",
   "metadata": {},
   "outputs": [],
   "source": [
    "all_run_names = [base_model_run_name, trf_run_name]\n",
    "all_models = [model] * len(all_run_names) if isinstance(model, str) else model\n",
    "assert len(all_models) == len(all_run_names)\n",
    "\n",
    "model_dirs = [f\"../workflow/{workflow}/results/{model}/{run_name}\"\n",
    "              for run_name, model in zip(all_run_names, all_models)]\n",
    "dataset_dirs = [f\"../workflow/{workflow}/data/dataset/{model}\"\n",
    "                for model in all_models]\n",
    "stimulus_dirs = [f\"../workflow/{workflow}/data/stimulus/{model}\"\n",
    "                 for model in all_models]"
   ]
  },
  {
   "cell_type": "markdown",
   "id": "a3d64303-a484-4b3b-bb4c-1fb5f88fd36f",
   "metadata": {},
   "source": [
    "## Prepare dataset"
   ]
  },
  {
   "cell_type": "code",
   "execution_count": 6,
   "id": "059045ca-5996-4f89-bf7b-b0769e01fa1e",
   "metadata": {},
   "outputs": [
    {
     "data": {
      "application/vnd.jupyter.widget-view+json": {
       "model_id": "bb26926d9c03473c92ba8b163b7541e8",
       "version_major": 2,
       "version_minor": 0
      },
      "text/plain": [
       "  0%|          | 0/2 [00:00<?, ?model/s]"
      ]
     },
     "metadata": {},
     "output_type": "display_data"
    },
    {
     "data": {
      "application/vnd.jupyter.widget-view+json": {
       "model_id": "88bb1232c83c4c159c6ad6981cfdd264",
       "version_major": 2,
       "version_minor": 0
      },
      "text/plain": [
       "  0%|          | 0/361 [00:00<?, ?it/s]"
      ]
     },
     "metadata": {},
     "output_type": "display_data"
    },
    {
     "data": {
      "application/vnd.jupyter.widget-view+json": {
       "model_id": "fe4dfb5881b64375aff6ba972e7661bb",
       "version_major": 2,
       "version_minor": 0
      },
      "text/plain": [
       "  0%|          | 0/361 [00:00<?, ?it/s]"
      ]
     },
     "metadata": {},
     "output_type": "display_data"
    }
   ],
   "source": [
    "# Load datasets.\n",
    "ds = {}\n",
    "ds_test = {}\n",
    "\n",
    "for model, dataset_dir, stimulus_dir in zip(tqdm(all_models, unit=\"model\"), dataset_dirs, stimulus_dirs):\n",
    "    ds[model] = {}\n",
    "    \n",
    "    stimulus_paths = {f\"{story}/run{run}\": Path(stimulus_dir) / f\"{story}/run{run}.pkl\"\n",
    "                      for story in stories for run in runs}\n",
    "    combs = list(product(stories, subjects, runs))\n",
    "    ds_paths = []\n",
    "    for story, subject, run in tqdm(combs):\n",
    "        ds_path = Path(dataset_dir) / story / f\"sub{subject}\" / f\"run{run}.pkl\"\n",
    "        if not ds_path.exists():\n",
    "            print(f\"Could not find dataset {ds_path}\")\n",
    "            continue\n",
    "        ds_paths.append(ds_path)\n",
    "\n",
    "    nested_ds = load_eeg_dataset(\n",
    "        ds_paths,\n",
    "        subset_sensors=target_sensors,\n",
    "        stimulus_paths=stimulus_paths,\n",
    "        normalize_X_ts=normalize_X_ts, \n",
    "        normalize_X_variable=normalize_X_variable, \n",
    "        normalize_Y=normalize_Y)\n",
    "\n",
    "    assert len(combs) == len(nested_ds.datasets)\n",
    "    ds[model] = dict(zip(combs, nested_ds.datasets))\n",
    "    \n",
    "    # Create nested dataset.\n",
    "    ds[model] = NestedBerpDataset(list(ds[model].values()), n_splits=8)\n",
    "    # TODO hack, just replicating what is in trainer.\n",
    "    ds_train, ds_test[model] = train_test_split(ds[model], test_size=.25)"
   ]
  },
  {
   "cell_type": "markdown",
   "id": "ac3f2e7a-6c93-4d7d-9027-b3cb6d6d83ac",
   "metadata": {},
   "source": [
    "## Load, prime, and run pipelines\n",
    "\n",
    "Run one-by-one because priming the whole dataset takes an enormous amount of memory."
   ]
  },
  {
   "cell_type": "code",
   "execution_count": 7,
   "id": "384a18ca-38f2-4fa3-84e1-f4578c49a6b2",
   "metadata": {},
   "outputs": [],
   "source": [
    "class CPU_Unpickler(pickle.Unpickler):\n",
    "    def find_class(self, module, name):\n",
    "        if module == 'torch.storage' and name == '_load_from_bytes':\n",
    "            return lambda b: torch.load(io.BytesIO(b), map_location='cpu')\n",
    "        else:\n",
    "            return super().find_class(module, name)"
   ]
  },
  {
   "cell_type": "code",
   "execution_count": 8,
   "id": "2be8c88b-ad38-4a88-9fc3-aed48057f071",
   "metadata": {},
   "outputs": [],
   "source": [
    "def evaluate_pipeline(run_name, model_run_dir, ds_full, ds_test):\n",
    "    pipeline_path = Path(model_run_dir) / \"params\" / \"pipeline.pkl\"\n",
    "    if not pipeline_path.exists():\n",
    "        raise ValueError(f\"Missing pipeline at {pipeline_path}\")\n",
    "    \n",
    "    with pipeline_path.open(\"rb\") as f:\n",
    "        pipe = CPU_Unpickler(f).load()\n",
    "        \n",
    "    print(f\"=============== {run_name} @ {model_run_dir}\")\n",
    "    yaml.safe_dump(pipe.get_params(), sys.stdout)\n",
    "    print()\n",
    "    \n",
    "    pipe.prime(ds_full)\n",
    "    \n",
    "    return pipe.score_multidimensional(ds_test).reshape((len(subjects), len(runs), len(target_sensors)))"
   ]
  },
  {
   "cell_type": "code",
   "execution_count": 9,
   "id": "cf199e32-a589-4994-b326-8c19d2577762",
   "metadata": {},
   "outputs": [
    {
     "data": {
      "application/vnd.jupyter.widget-view+json": {
       "model_id": "e45eee928bc244608b480a95b641455e",
       "version_major": 2,
       "version_minor": 0
      },
      "text/plain": [
       "  0%|          | 0/2 [00:00<?, ?pipe/s]"
      ]
     },
     "metadata": {},
     "output_type": "display_data"
    },
    {
     "name": "stdout",
     "output_type": "stream",
     "text": [
      "=============== trf @ ../workflow/heilbron2022/results/distilgpt2/trf\n",
      "device: cuda\n",
      "encoder: \"TemporalReceptiveField(alpha=13687.841855161956, fit_intercept=True,\\n \\\n",
      "  \\                      n_outputs=3, name='9ed09996d7504034b0bfd1f86e91ba6c',\\n \\\n",
      "  \\                      optim=AdamSolver(n_batches=50,\\n                        \\\n",
      "  \\                name='9ed09996d7504034b0bfd1f86e91ba6c',\\n                    \\\n",
      "  \\                    random_state=RandomState(MT19937) at 0x2AB01A12D340),\\n   \\\n",
      "  \\                    sfreq=128.0, tmax=0.5625, tmin=0.0)\"\n",
      "encoder__alpha: 13687.841855161956\n",
      "encoder__fit_intercept: true\n",
      "encoder__init_scale: 0.1\n",
      "encoder__n_outputs: 3\n",
      "encoder__name: 9ed09996d7504034b0bfd1f86e91ba6c\n",
      "encoder__optim: \"AdamSolver(n_batches=50, name='9ed09996d7504034b0bfd1f86e91ba6c',\\n\\\n",
      "  \\           random_state=RandomState(MT19937) at 0x2AB01A12D340)\"\n",
      "encoder__optim__batch_size: 512\n",
      "encoder__optim__early_stopping: 5\n",
      "encoder__optim__learning_rate: 0.01\n",
      "encoder__optim__n_batches: 50\n",
      "encoder__optim__name: 9ed09996d7504034b0bfd1f86e91ba6c\n",
      "encoder__optim__pbar: false\n",
      "encoder__optim__random_state: RandomState(MT19937) at 0x2AB01A12D340\n",
      "encoder__sfreq: 128.0\n",
      "encoder__tmax: 0.5625\n",
      "encoder__tmin: 0.0\n",
      "encoder__warm_start: true\n",
      "encoder_key_re: re.compile('^[^/]+/sub(\\\\d+)')\n",
      "ts_feature_names:\n",
      "- all_phons_pitch\n",
      "- all_phons_env_var\n",
      "- all_phons_sg1\n",
      "- all_phons_sg2\n",
      "- all_phons_sg3\n",
      "- all_phons_sg4\n",
      "- all_phons_sg5\n",
      "- all_phons_sg6\n",
      "- all_phons_sg7\n",
      "- all_phons_sg8\n",
      "- all_phons_surprisals\n",
      "- word_onset\n",
      "- phoneme_onset\n",
      "variable_feature_names:\n",
      "- word_frequency\n",
      "- word_surprisal\n",
      "\n",
      "=============== trf @ ../workflow/heilbron2022/results/gpt2/trf\n",
      "device: cuda\n",
      "encoder: \"TemporalReceptiveField(alpha=14378.242449119824, fit_intercept=True,\\n \\\n",
      "  \\                      n_outputs=3, name='63c7dffd76614985a3e309d0a082f3e8',\\n \\\n",
      "  \\                      optim=AdamSolver(n_batches=50,\\n                        \\\n",
      "  \\                name='63c7dffd76614985a3e309d0a082f3e8',\\n                    \\\n",
      "  \\                    random_state=RandomState(MT19937) at 0x2AB01A12D940),\\n   \\\n",
      "  \\                    sfreq=128.0, tmax=0.5625, tmin=0.0)\"\n",
      "encoder__alpha: 14378.242449119824\n",
      "encoder__fit_intercept: true\n",
      "encoder__init_scale: 0.1\n",
      "encoder__n_outputs: 3\n",
      "encoder__name: 63c7dffd76614985a3e309d0a082f3e8\n",
      "encoder__optim: \"AdamSolver(n_batches=50, name='63c7dffd76614985a3e309d0a082f3e8',\\n\\\n",
      "  \\           random_state=RandomState(MT19937) at 0x2AB01A12D940)\"\n",
      "encoder__optim__batch_size: 512\n",
      "encoder__optim__early_stopping: 5\n",
      "encoder__optim__learning_rate: 0.01\n",
      "encoder__optim__n_batches: 50\n",
      "encoder__optim__name: 63c7dffd76614985a3e309d0a082f3e8\n",
      "encoder__optim__pbar: false\n",
      "encoder__optim__random_state: RandomState(MT19937) at 0x2AB01A12D940\n",
      "encoder__sfreq: 128.0\n",
      "encoder__tmax: 0.5625\n",
      "encoder__tmin: 0.0\n",
      "encoder__warm_start: true\n",
      "encoder_key_re: re.compile('^[^/]+/sub(\\\\d+)')\n",
      "ts_feature_names:\n",
      "- all_phons_pitch\n",
      "- all_phons_env_var\n",
      "- all_phons_sg1\n",
      "- all_phons_sg2\n",
      "- all_phons_sg3\n",
      "- all_phons_sg4\n",
      "- all_phons_sg5\n",
      "- all_phons_sg6\n",
      "- all_phons_sg7\n",
      "- all_phons_sg8\n",
      "- all_phons_surprisals\n",
      "- word_onset\n",
      "- phoneme_onset\n",
      "variable_feature_names:\n",
      "- word_frequency\n",
      "- word_surprisal\n",
      "\n"
     ]
    }
   ],
   "source": [
    "test_scores = np.zeros((len(all_run_names), len(subjects), len(runs), len(target_sensors))) * np.nan\n",
    "\n",
    "# NB `model_name` here corresponds to a language model; `model_run` corresponds to a run of the Berp model\n",
    "for j, (run_name, model_run_dir, model_name) in enumerate(zip(tqdm(all_run_names, unit=\"pipe\"), model_dirs, all_models)):\n",
    "    test_scores[j] = evaluate_pipeline(run_name, model_run_dir, ds[model_name], ds_test[model_name])"
   ]
  },
  {
   "cell_type": "markdown",
   "id": "06314467-24d4-49b4-8054-eb7efc8bdf56",
   "metadata": {},
   "source": [
    "## Estimate test score"
   ]
  },
  {
   "cell_type": "code",
   "execution_count": 10,
   "id": "27492bff-0b10-47b3-a4fa-d36e19ebecf7",
   "metadata": {},
   "outputs": [
    {
     "data": {
      "text/html": [
       "<div>\n",
       "<style scoped>\n",
       "    .dataframe tbody tr th:only-of-type {\n",
       "        vertical-align: middle;\n",
       "    }\n",
       "\n",
       "    .dataframe tbody tr th {\n",
       "        vertical-align: top;\n",
       "    }\n",
       "\n",
       "    .dataframe thead th {\n",
       "        text-align: right;\n",
       "    }\n",
       "</style>\n",
       "<table border=\"1\" class=\"dataframe\">\n",
       "  <thead>\n",
       "    <tr style=\"text-align: right;\">\n",
       "      <th></th>\n",
       "      <th></th>\n",
       "      <th></th>\n",
       "      <th></th>\n",
       "      <th></th>\n",
       "      <th>score</th>\n",
       "    </tr>\n",
       "    <tr>\n",
       "      <th>model_run</th>\n",
       "      <th>model</th>\n",
       "      <th>subject</th>\n",
       "      <th>run</th>\n",
       "      <th>sensor</th>\n",
       "      <th></th>\n",
       "    </tr>\n",
       "  </thead>\n",
       "  <tbody>\n",
       "    <tr>\n",
       "      <th rowspan=\"11\" valign=\"top\">trf</th>\n",
       "      <th rowspan=\"5\" valign=\"top\">distilgpt2</th>\n",
       "      <th rowspan=\"5\" valign=\"top\">1</th>\n",
       "      <th rowspan=\"3\" valign=\"top\">1</th>\n",
       "      <th>B19</th>\n",
       "      <td>0.082200</td>\n",
       "    </tr>\n",
       "    <tr>\n",
       "      <th>B20</th>\n",
       "      <td>0.070566</td>\n",
       "    </tr>\n",
       "    <tr>\n",
       "      <th>B22</th>\n",
       "      <td>0.071646</td>\n",
       "    </tr>\n",
       "    <tr>\n",
       "      <th rowspan=\"2\" valign=\"top\">2</th>\n",
       "      <th>B19</th>\n",
       "      <td>-0.052046</td>\n",
       "    </tr>\n",
       "    <tr>\n",
       "      <th>B20</th>\n",
       "      <td>0.045746</td>\n",
       "    </tr>\n",
       "    <tr>\n",
       "      <th>...</th>\n",
       "      <th>...</th>\n",
       "      <th>...</th>\n",
       "      <th>...</th>\n",
       "      <td>...</td>\n",
       "    </tr>\n",
       "    <tr>\n",
       "      <th rowspan=\"5\" valign=\"top\">gpt2</th>\n",
       "      <th rowspan=\"5\" valign=\"top\">19</th>\n",
       "      <th rowspan=\"2\" valign=\"top\">18</th>\n",
       "      <th>B20</th>\n",
       "      <td>0.059577</td>\n",
       "    </tr>\n",
       "    <tr>\n",
       "      <th>B22</th>\n",
       "      <td>0.044203</td>\n",
       "    </tr>\n",
       "    <tr>\n",
       "      <th rowspan=\"3\" valign=\"top\">19</th>\n",
       "      <th>B19</th>\n",
       "      <td>0.027744</td>\n",
       "    </tr>\n",
       "    <tr>\n",
       "      <th>B20</th>\n",
       "      <td>0.014633</td>\n",
       "    </tr>\n",
       "    <tr>\n",
       "      <th>B22</th>\n",
       "      <td>0.017391</td>\n",
       "    </tr>\n",
       "  </tbody>\n",
       "</table>\n",
       "<p>2166 rows × 1 columns</p>\n",
       "</div>"
      ],
      "text/plain": [
       "                                            score\n",
       "model_run model      subject run sensor          \n",
       "trf       distilgpt2 1       1   B19     0.082200\n",
       "                                 B20     0.070566\n",
       "                                 B22     0.071646\n",
       "                             2   B19    -0.052046\n",
       "                                 B20     0.045746\n",
       "...                                           ...\n",
       "          gpt2       19      18  B20     0.059577\n",
       "                                 B22     0.044203\n",
       "                             19  B19     0.027744\n",
       "                                 B20     0.014633\n",
       "                                 B22     0.017391\n",
       "\n",
       "[2166 rows x 1 columns]"
      ]
     },
     "execution_count": 10,
     "metadata": {},
     "output_type": "execute_result"
    }
   ],
   "source": [
    "test_scores_df = []\n",
    "for i_model_run, i_subj, i_run, i_sensor in np.ndindex(*test_scores.shape):\n",
    "    test_scores_df.append((\n",
    "        all_run_names[i_model_run],\n",
    "        all_models[i_model_run],\n",
    "        subjects[i_subj],\n",
    "        runs[i_run],\n",
    "        target_sensors[i_sensor],\n",
    "        test_scores[i_model_run, i_subj, i_run, i_sensor]))\n",
    "    \n",
    "test_scores_df = pd.DataFrame(test_scores_df, columns=[\"model_run\", \"model\", \"subject\", \"run\", \"sensor\", \"score\"]) \\\n",
    "    .groupby([\"model_run\", \"model\", \"subject\", \"run\", \"sensor\"]).mean()\n",
    "test_scores_df"
   ]
  },
  {
   "cell_type": "code",
   "execution_count": null,
   "id": "28245c9e-13d9-4d47-b84e-739156a941a7",
   "metadata": {},
   "outputs": [],
   "source": [
    "test_scores_df.to_csv((f\"evaluate {all_models[1]}--{all_run_names[1]} - {all_models[0]}--{all_run_names[0]}.csv\").replace(\"/\", \"--\"))"
   ]
  },
  {
   "cell_type": "markdown",
   "id": "4ec14fcb-7c8b-4d53-b718-a4d694c6ba74",
   "metadata": {},
   "source": [
    "### Compare means"
   ]
  },
  {
   "cell_type": "code",
   "execution_count": 11,
   "id": "f7756ae2-af1c-46af-9512-d1af6237fb13",
   "metadata": {},
   "outputs": [
    {
     "data": {
      "text/plain": [
       "array([0.07591828, 0.07614193])"
      ]
     },
     "execution_count": 11,
     "metadata": {},
     "output_type": "execute_result"
    }
   ],
   "source": [
    "test_scores.max(axis=-1).mean(axis=-1).mean(axis=-1)"
   ]
  },
  {
   "cell_type": "code",
   "execution_count": 12,
   "id": "1c386e7b-0aeb-4322-ae96-3c27dd3ad17f",
   "metadata": {},
   "outputs": [
    {
     "data": {
      "text/plain": [
       "0.0012968847449858275"
      ]
     },
     "execution_count": 12,
     "metadata": {},
     "output_type": "execute_result"
    }
   ],
   "source": [
    "(test_scores[1] - test_scores[0]).max(axis=-1).mean()"
   ]
  },
  {
   "cell_type": "markdown",
   "id": "1bfe0a5d-9d26-4346-bd83-4531df7d3617",
   "metadata": {},
   "source": [
    "### Paired subjects t-test"
   ]
  },
  {
   "cell_type": "code",
   "execution_count": 13,
   "id": "2c0e89c3-06ee-4c04-a288-d83e92a3cf7a",
   "metadata": {},
   "outputs": [
    {
     "data": {
      "text/plain": [
       "Ttest_1sampResult(statistic=1.9733192798928914, pvalue=0.06401446648719568)"
      ]
     },
     "execution_count": 13,
     "metadata": {},
     "output_type": "execute_result"
    }
   ],
   "source": [
    "# Do a paired t-test mirroring Heilbron comparison\n",
    "tdf = test_scores_df.groupby([\"model_run\", \"model\", \"subject\", \"run\"]).score.mean() \\\n",
    "    .groupby([\"model_run\", \"model\", \"subject\"]).mean()\n",
    "st.ttest_1samp(tdf.loc[(all_run_names[1], all_models[1])] - tdf.loc[(all_run_names[0], all_models[0])], popmean=0)"
   ]
  },
  {
   "cell_type": "code",
   "execution_count": 14,
   "id": "6485bbd5-ff2c-4f83-9934-6f3355e4bc39",
   "metadata": {},
   "outputs": [
    {
     "data": {
      "text/plain": [
       "<AxesSubplot:xlabel='model_run', ylabel='score'>"
      ]
     },
     "execution_count": 14,
     "metadata": {},
     "output_type": "execute_result"
    },
    {
     "data": {
      "image/png": "[encoded data removed]",
      "text/plain": [
       "<Figure size 432x288 with 1 Axes>"
      ]
     },
     "metadata": {
      "needs_background": "light"
     },
     "output_type": "display_data"
    }
   ],
   "source": [
    "sns.boxplot(data=test_scores_df.reset_index(), x=\"model_run\", y=\"score\")"
   ]
  },
  {
   "cell_type": "code",
   "execution_count": 15,
   "id": "02f4a3a8-c48f-4bb4-a54f-02b4a4c466d8",
   "metadata": {},
   "outputs": [
    {
     "data": {
      "text/plain": [
       "<AxesSubplot:xlabel='subject', ylabel='score'>"
      ]
     },
     "execution_count": 15,
     "metadata": {},
     "output_type": "execute_result"
    },
    {
     "data": {
      "image/png": "[encoded data removed]",
      "text/plain": [
       "<Figure size 432x288 with 1 Axes>"
      ]
     },
     "metadata": {
      "needs_background": "light"
     },
     "output_type": "display_data"
    }
   ],
   "source": [
    "sns.boxplot(data=test_scores_df.reset_index(), x=\"subject\", y=\"score\", hue=\"model_run\")"
   ]
  },
  {
   "cell_type": "code",
   "execution_count": 16,
   "id": "eeb3e68e-dde1-486a-b4e8-a9c2a5587065",
   "metadata": {},
   "outputs": [
    {
     "data": {
      "text/plain": [
       "<seaborn.axisgrid.FacetGrid at 0x2ab0229846a0>"
      ]
     },
     "execution_count": 16,
     "metadata": {},
     "output_type": "execute_result"
    },
    {
     "data": {
      "image/png": "[encoded data removed]",
      "text/plain": [
       "<Figure size 360x360 with 1 Axes>"
      ]
     },
     "metadata": {
      "needs_background": "light"
     },
     "output_type": "display_data"
    }
   ],
   "source": [
    "model_diffs = test_scores_df.loc[all_run_names[1]] - test_scores_df.loc[all_run_names[0]]\n",
    "model_diffs = model_diffs.reset_index()\n",
    "sns.displot(data=model_diffs, x=\"score\")"
   ]
  },
  {
   "cell_type": "code",
   "execution_count": 17,
   "id": "46c99d51-638f-4ded-b9df-9c89f66b429d",
   "metadata": {},
   "outputs": [
    {
     "data": {
      "text/plain": [
       "Text(0, 0.5, 'Difference score')"
      ]
     },
     "execution_count": 17,
     "metadata": {},
     "output_type": "execute_result"
    },
    {
     "data": {
      "image/png": "[encoded data removed]",
      "text/plain": [
       "<Figure size 432x288 with 1 Axes>"
      ]
     },
     "metadata": {
      "needs_background": "light"
     },
     "output_type": "display_data"
    }
   ],
   "source": [
    "sns.boxplot(data=model_diffs, x=\"subject\", y=\"score\")\n",
    "plt.ylabel(\"Difference score\")"
   ]
  },
  {
   "cell_type": "markdown",
   "id": "9e6db302-3d25-4e60-a696-bf29a30d2be0",
   "metadata": {},
   "source": [
    "### Bootstrap estimate of difference within-subject"
   ]
  },
  {
   "cell_type": "code",
   "execution_count": 18,
   "id": "25535585-0d01-4ce9-8004-ce7860ca9cef",
   "metadata": {},
   "outputs": [
    {
     "name": "stdout",
     "output_type": "stream",
     "text": [
      "95% bootstrap CI: [0. 0.]\n"
     ]
    },
    {
     "data": {
      "image/png": "[encoded data removed]",
      "text/plain": [
       "<Figure size 432x288 with 1 Axes>"
      ]
     },
     "metadata": {
      "needs_background": "light"
     },
     "output_type": "display_data"
    }
   ],
   "source": [
    "model_diffs_bootstrap = sns.algorithms.bootstrap(model_diffs.score, func=\"median\", units=model_diffs.subject)\n",
    "sns.violinplot(model_diffs_bootstrap)\n",
    "plt.ylabel(\"Improvement in single-sensor $r$\")\n",
    "print(\"95% bootstrap CI:\",\n",
    "      np.quantile(model_diffs_bootstrap, (0.025, 0.975)))"
   ]
  }
 ],
 "metadata": {
  "kernelspec": {
   "display_name": "Python 3 (ipykernel)",
   "language": "python",
   "name": "python3"
  },
  "language_info": {
   "codemirror_mode": {
    "name": "ipython",
    "version": 3
   },
   "file_extension": ".py",
   "mimetype": "text/x-python",
   "name": "python",
   "nbconvert_exporter": "python",
   "pygments_lexer": "ipython3",
   "version": "3.9.13"
  }
 },
 "nbformat": 4,
 "nbformat_minor": 5
}
