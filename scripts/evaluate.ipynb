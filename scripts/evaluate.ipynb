{
 "cells": [
  {
   "cell_type": "code",
   "execution_count": 23,
   "id": "8ac63cfc-79b7-4e64-96cf-a53ae139ea7b",
   "metadata": {},
   "outputs": [],
   "source": [
    "import io\n",
    "from itertools import product\n",
    "import logging\n",
    "L = logging.getLogger(__name__)\n",
    "from pathlib import Path\n",
    "import pickle\n",
    "import yaml\n",
    "\n",
    "import matplotlib.pyplot as plt\n",
    "import numpy as np\n",
    "import pandas as pd\n",
    "import seaborn as sns\n",
    "import torch\n",
    "from tqdm.auto import tqdm"
   ]
  },
  {
   "cell_type": "code",
   "execution_count": 10,
   "id": "e538c2cd-08fd-47eb-90b0-036649f211d8",
   "metadata": {},
   "outputs": [
    {
     "name": "stdout",
     "output_type": "stream",
     "text": [
      "The autoreload extension is already loaded. To reload it, use:\n",
      "  %reload_ext autoreload\n"
     ]
    }
   ],
   "source": [
    "%load_ext autoreload\n",
    "%autoreload 2"
   ]
  },
  {
   "cell_type": "code",
   "execution_count": 11,
   "id": "95b308be-b1ae-4e3c-adef-cac4758bfce5",
   "metadata": {},
   "outputs": [],
   "source": [
    "import sys\n",
    "sys.path.append(\"..\")\n",
    "from berp.datasets import BerpDataset, NestedBerpDataset\n",
    "from berp.datasets.base import assert_compatible\n",
    "from berp.datasets.eeg import load_eeg_dataset\n",
    "from berp.datasets.splitters import KFold, train_test_split\n",
    "import berp.trainer  # sets some nice yaml dump defaults\n",
    "from berp.viz.trf import plot_trf_coefficients"
   ]
  },
  {
   "cell_type": "code",
   "execution_count": 15,
   "id": "c533fae8-2080-44ff-9060-9beb680af151",
   "metadata": {
    "tags": [
     "parameters"
    ]
   },
   "outputs": [],
   "source": [
    "workflow = \"heilbron2022\"\n",
    "model = \"distilgpt2\"\n",
    "\n",
    "# base_model_run_name = \"trf.20221219\"\n",
    "# trf_run_name = \"trf-berp-fixed.20221215\"\n",
    "# trf_run_name = \"trf-berp-cannon.20221215.3quant\"\n",
    "base_model_run_name = \"trf\"\n",
    "trf_run_name = \"trf-berp-fixed\"\n",
    "\n",
    "# TODO this can/should be reloaded via Hydra flow rather than manually re-specified + loaded with copy-pasted logic below\n",
    "subjects = [14, 15, 16, 17, 18, 19]\n",
    "runs = list(range(1, 20))\n",
    "stories = [\"old-man-and-the-sea\"]\n",
    "\n",
    "target_sensors = [\"B19\", \"B2\", \"B20\", \"B22\"]\n",
    "\n",
    "# Match dataset spec.\n",
    "normalize_X_ts = False\n",
    "normalize_X_variable = True\n",
    "normalize_Y = False\n",
    "\n",
    "n_evaluation_folds = 4"
   ]
  },
  {
   "cell_type": "code",
   "execution_count": 16,
   "id": "cea055f9-05b0-4a98-8ef0-edaf39a29568",
   "metadata": {},
   "outputs": [],
   "source": [
    "all_run_names = [base_model_run_name, trf_run_name]\n",
    "model_dirs = [f\"../workflow/{workflow}/results/{model}/{run_name}\"\n",
    "              for run_name in all_run_names]\n",
    "dataset_dir = f\"../workflow/{workflow}/data/dataset/{model}\"\n",
    "stimulus_dir = f\"../workflow/{workflow}/data/stimulus/{model}\""
   ]
  },
  {
   "cell_type": "markdown",
   "id": "a3d64303-a484-4b3b-bb4c-1fb5f88fd36f",
   "metadata": {},
   "source": [
    "## Prepare dataset"
   ]
  },
  {
   "cell_type": "code",
   "execution_count": 17,
   "id": "059045ca-5996-4f89-bf7b-b0769e01fa1e",
   "metadata": {},
   "outputs": [
    {
     "data": {
      "application/vnd.jupyter.widget-view+json": {
       "model_id": "415e96e9ad8e4adfa1793337226a7176",
       "version_major": 2,
       "version_minor": 0
      },
      "text/plain": [
       "  0%|          | 0/114 [00:00<?, ?it/s]"
      ]
     },
     "metadata": {},
     "output_type": "display_data"
    }
   ],
   "source": [
    "# Load datasets.\n",
    "ds = {}\n",
    "stimulus_paths = {f\"{story}/run{run}\": Path(stimulus_dir) / f\"{story}/run{run}.pkl\"\n",
    "                  for story in stories for run in runs}\n",
    "combs = list(product(stories, subjects, runs))\n",
    "ds_paths = []\n",
    "for story, subject, run in tqdm(combs):\n",
    "    ds_path = Path(dataset_dir) / story / f\"sub{subject}\" / f\"run{run}.pkl\"\n",
    "    if not ds_path.exists():\n",
    "        print(f\"Could not find dataset {ds_path}\")\n",
    "        continue\n",
    "    ds_paths.append(ds_path)\n",
    "    \n",
    "nested_ds = load_eeg_dataset(\n",
    "    ds_paths,\n",
    "    subset_sensors=target_sensors,\n",
    "    stimulus_paths=stimulus_paths,\n",
    "    normalize_X_ts=normalize_X_ts, \n",
    "    normalize_X_variable=normalize_X_variable, \n",
    "    normalize_Y=normalize_Y)\n",
    "\n",
    "assert len(combs) == len(nested_ds.datasets)\n",
    "ds = dict(zip(combs, nested_ds.datasets))"
   ]
  },
  {
   "cell_type": "code",
   "execution_count": 18,
   "id": "5bbfe21d-d9dd-40c0-a940-4c009b901000",
   "metadata": {},
   "outputs": [],
   "source": [
    "ds = NestedBerpDataset(list(ds.values()), n_splits=8)\n",
    "# TODO hack, just replicating what is in trainer.\n",
    "ds_train, ds_test = train_test_split(ds, test_size=.25)"
   ]
  },
  {
   "cell_type": "markdown",
   "id": "ac3f2e7a-6c93-4d7d-9027-b3cb6d6d83ac",
   "metadata": {},
   "source": [
    "## Load and prime pipelines"
   ]
  },
  {
   "cell_type": "code",
   "execution_count": 26,
   "id": "384a18ca-38f2-4fa3-84e1-f4578c49a6b2",
   "metadata": {},
   "outputs": [],
   "source": [
    "class CPU_Unpickler(pickle.Unpickler):\n",
    "    def find_class(self, module, name):\n",
    "        if module == 'torch.storage' and name == '_load_from_bytes':\n",
    "            return lambda b: torch.load(io.BytesIO(b), map_location='cpu')\n",
    "        else:\n",
    "            return super().find_class(module, name)"
   ]
  },
  {
   "cell_type": "code",
   "execution_count": 27,
   "id": "69e52915-fdb3-4690-add8-027ee19d9df4",
   "metadata": {},
   "outputs": [
    {
     "data": {
      "application/vnd.jupyter.widget-view+json": {
       "model_id": "b47dd8aee0ce4ce98e07d7b44c41ef8d",
       "version_major": 2,
       "version_minor": 0
      },
      "text/plain": [
       "  0%|          | 0/2 [00:00<?, ?it/s]"
      ]
     },
     "metadata": {},
     "output_type": "display_data"
    }
   ],
   "source": [
    "pipes = []\n",
    "for run in tqdm(model_dirs):\n",
    "    pipeline_path = Path(run) / \"params\" / \"pipeline.pkl\"\n",
    "    if not pipeline_path.exists():\n",
    "        L.warn(f\"Missing pipeline at {pipeline_path}\")\n",
    "    \n",
    "    with pipeline_path.open(\"rb\") as f:\n",
    "        pipes.append(CPU_Unpickler(f).load())"
   ]
  },
  {
   "cell_type": "code",
   "execution_count": 28,
   "id": "8d69de93-4f16-4fa1-80fc-a96e252c6907",
   "metadata": {},
   "outputs": [
    {
     "name": "stdout",
     "output_type": "stream",
     "text": [
      "=============== trf\n",
      "device: cuda\n",
      "encoder: \"TemporalReceptiveField(alpha=11878.459573823813, fit_intercept=True,\\n \\\n",
      "  \\                      n_outputs=4, name='e8008f5bcbb64f9ea44b6fa01e3073d2',\\n \\\n",
      "  \\                      optim=AdamSolver(n_batches=50,\\n                        \\\n",
      "  \\                name='e8008f5bcbb64f9ea44b6fa01e3073d2',\\n                    \\\n",
      "  \\                    random_state=RandomState(MT19937) at 0x2B9A4B928C40),\\n   \\\n",
      "  \\                    sfreq=128.0, tmax=1.0, tmin=0.0)\"\n",
      "encoder__alpha: 11878.459573823813\n",
      "encoder__fit_intercept: true\n",
      "encoder__init_scale: 0.1\n",
      "encoder__n_outputs: 4\n",
      "encoder__name: e8008f5bcbb64f9ea44b6fa01e3073d2\n",
      "encoder__optim: \"AdamSolver(n_batches=50, name='e8008f5bcbb64f9ea44b6fa01e3073d2',\\n\\\n",
      "  \\           random_state=RandomState(MT19937) at 0x2B9A4B928C40)\"\n",
      "encoder__optim__batch_size: 512\n",
      "encoder__optim__early_stopping: 5\n",
      "encoder__optim__learning_rate: 0.01\n",
      "encoder__optim__n_batches: 50\n",
      "encoder__optim__name: e8008f5bcbb64f9ea44b6fa01e3073d2\n",
      "encoder__optim__pbar: false\n",
      "encoder__optim__random_state: RandomState(MT19937) at 0x2B9A4B928C40\n",
      "encoder__sfreq: 128.0\n",
      "encoder__tmax: 1.0\n",
      "encoder__tmin: 0.0\n",
      "encoder__warm_start: true\n",
      "encoder_key_re: re.compile('^[^/]+/sub(\\\\d+)')\n",
      "ts_feature_names:\n",
      "- all_phons_pitch\n",
      "- all_phons_env_var\n",
      "- all_phons_sg1\n",
      "- all_phons_sg2\n",
      "- all_phons_sg3\n",
      "- all_phons_sg4\n",
      "- all_phons_sg5\n",
      "- all_phons_sg6\n",
      "- all_phons_sg7\n",
      "- all_phons_sg8\n",
      "- all_phons_surprisals\n",
      "- word_onset\n",
      "- phoneme_onset\n",
      "variable_feature_names:\n",
      "- word_frequency\n",
      "- word_surprisal\n",
      "\n",
      "=============== trf-berp-fixed\n",
      "confusion: tensor of type torch.float64, shape torch.Size([40, 40])\n",
      "encoder: \"TemporalReceptiveField(alpha=12690.343065206553, fit_intercept=True,\\n \\\n",
      "  \\                      n_outputs=4, name='22252f05362549e89df2a82e3f37809e',\\n \\\n",
      "  \\                      optim=AdamSolver(n_batches=50,\\n                        \\\n",
      "  \\                name='22252f05362549e89df2a82e3f37809e',\\n                    \\\n",
      "  \\                    random_state=RandomState(MT19937) at 0x2B9A52394640),\\n   \\\n",
      "  \\                    sfreq=128.0, tmax=1.0, tmin=0.0)\"\n",
      "encoder__alpha: 12690.343065206553\n",
      "encoder__fit_intercept: true\n",
      "encoder__init_scale: 0.1\n",
      "encoder__n_outputs: 4\n",
      "encoder__name: 22252f05362549e89df2a82e3f37809e\n",
      "encoder__optim: \"AdamSolver(n_batches=50, name='22252f05362549e89df2a82e3f37809e',\\n\\\n",
      "  \\           random_state=RandomState(MT19937) at 0x2B9A52394640)\"\n",
      "encoder__optim__batch_size: 512\n",
      "encoder__optim__early_stopping: 5\n",
      "encoder__optim__learning_rate: 0.01\n",
      "encoder__optim__n_batches: 50\n",
      "encoder__optim__name: 22252f05362549e89df2a82e3f37809e\n",
      "encoder__optim__pbar: false\n",
      "encoder__optim__random_state: RandomState(MT19937) at 0x2B9A52394640\n",
      "encoder__sfreq: 128.0\n",
      "encoder__tmax: 1.0\n",
      "encoder__tmin: 0.0\n",
      "encoder__warm_start: true\n",
      "encoder_key_re: re.compile('^[^/]+/sub(\\\\d+)')\n",
      "lambda_: 0.686912037341921\n",
      "prior_scatter_index: 0\n",
      "prior_scatter_point: 0.5\n",
      "scatter_point: 0.5\n",
      "threshold: 0.13925495364764895\n",
      "ts_feature_names:\n",
      "- all_phons_pitch\n",
      "- all_phons_env_var\n",
      "- all_phons_sg1\n",
      "- all_phons_sg2\n",
      "- all_phons_sg3\n",
      "- all_phons_sg4\n",
      "- all_phons_sg5\n",
      "- all_phons_sg6\n",
      "- all_phons_sg7\n",
      "- all_phons_sg8\n",
      "- all_phons_surprisals\n",
      "- word_onset\n",
      "- phoneme_onset\n",
      "variable_feature_names:\n",
      "- recognition_onset\n",
      "- word_frequency\n",
      "- word_surprisal\n",
      "variable_trf_zero_left: 0\n",
      "variable_trf_zero_right: 0\n",
      "\n"
     ]
    }
   ],
   "source": [
    "for run_name, pipe in zip(all_run_names, pipes):\n",
    "    print(f\"=============== {run_name}\")\n",
    "    yaml.safe_dump(pipe.get_params(), sys.stdout)\n",
    "    print()"
   ]
  },
  {
   "cell_type": "code",
   "execution_count": 29,
   "id": "cf199e32-a589-4994-b326-8c19d2577762",
   "metadata": {},
   "outputs": [],
   "source": [
    "for pipe in pipes:\n",
    "    pipe.prime(ds)"
   ]
  },
  {
   "cell_type": "markdown",
   "id": "06314467-24d4-49b4-8054-eb7efc8bdf56",
   "metadata": {},
   "source": [
    "## Estimate test score"
   ]
  },
  {
   "cell_type": "code",
   "execution_count": 30,
   "id": "c25af4a1-72f6-4650-b78a-c878f43e65d7",
   "metadata": {},
   "outputs": [
    {
     "data": {
      "application/vnd.jupyter.widget-view+json": {
       "model_id": "8219067e8ecf4f63a5b5ff9664b2099f",
       "version_major": 2,
       "version_minor": 0
      },
      "text/plain": [
       "  0%|          | 0/2 [00:00<?, ?pipe/s]"
      ]
     },
     "metadata": {},
     "output_type": "display_data"
    }
   ],
   "source": [
    "test_scores = np.zeros((len(all_run_names), len(subjects), len(runs), len(target_sensors))) * np.nan\n",
    "for j, (run_name, pipe) in enumerate(zip(tqdm(all_run_names, unit=\"pipe\"), pipes)):\n",
    "    test_scores[j] = pipe.score_multidimensional(ds_test).reshape((len(subjects), len(runs), len(target_sensors)))"
   ]
  },
  {
   "cell_type": "code",
   "execution_count": 31,
   "id": "f7756ae2-af1c-46af-9512-d1af6237fb13",
   "metadata": {},
   "outputs": [
    {
     "data": {
      "text/plain": [
       "array([0.07539741, 0.07615573])"
      ]
     },
     "execution_count": 31,
     "metadata": {},
     "output_type": "execute_result"
    }
   ],
   "source": [
    "test_scores.max(axis=-1).mean(axis=-1).mean(axis=-1)"
   ]
  },
  {
   "cell_type": "code",
   "execution_count": 32,
   "id": "1c386e7b-0aeb-4322-ae96-3c27dd3ad17f",
   "metadata": {},
   "outputs": [
    {
     "data": {
      "text/plain": [
       "0.0029283700456736576"
      ]
     },
     "execution_count": 32,
     "metadata": {},
     "output_type": "execute_result"
    }
   ],
   "source": [
    "(test_scores[1] - test_scores[0]).max(axis=-1).mean()"
   ]
  },
  {
   "cell_type": "markdown",
   "id": "9e6db302-3d25-4e60-a696-bf29a30d2be0",
   "metadata": {},
   "source": [
    "### Bootstrap estimate"
   ]
  },
  {
   "cell_type": "code",
   "execution_count": 40,
   "id": "27492bff-0b10-47b3-a4fa-d36e19ebecf7",
   "metadata": {},
   "outputs": [
    {
     "data": {
      "text/html": [
       "<div>\n",
       "<style scoped>\n",
       "    .dataframe tbody tr th:only-of-type {\n",
       "        vertical-align: middle;\n",
       "    }\n",
       "\n",
       "    .dataframe tbody tr th {\n",
       "        vertical-align: top;\n",
       "    }\n",
       "\n",
       "    .dataframe thead th {\n",
       "        text-align: right;\n",
       "    }\n",
       "</style>\n",
       "<table border=\"1\" class=\"dataframe\">\n",
       "  <thead>\n",
       "    <tr style=\"text-align: right;\">\n",
       "      <th></th>\n",
       "      <th></th>\n",
       "      <th></th>\n",
       "      <th>score</th>\n",
       "    </tr>\n",
       "    <tr>\n",
       "      <th>model_run</th>\n",
       "      <th>subject</th>\n",
       "      <th>run</th>\n",
       "      <th></th>\n",
       "    </tr>\n",
       "  </thead>\n",
       "  <tbody>\n",
       "    <tr>\n",
       "      <th rowspan=\"5\" valign=\"top\">trf</th>\n",
       "      <th rowspan=\"5\" valign=\"top\">14</th>\n",
       "      <th>1</th>\n",
       "      <td>0.079073</td>\n",
       "    </tr>\n",
       "    <tr>\n",
       "      <th>2</th>\n",
       "      <td>0.094011</td>\n",
       "    </tr>\n",
       "    <tr>\n",
       "      <th>3</th>\n",
       "      <td>0.144029</td>\n",
       "    </tr>\n",
       "    <tr>\n",
       "      <th>4</th>\n",
       "      <td>0.070826</td>\n",
       "    </tr>\n",
       "    <tr>\n",
       "      <th>5</th>\n",
       "      <td>0.069938</td>\n",
       "    </tr>\n",
       "    <tr>\n",
       "      <th>...</th>\n",
       "      <th>...</th>\n",
       "      <th>...</th>\n",
       "      <td>...</td>\n",
       "    </tr>\n",
       "    <tr>\n",
       "      <th rowspan=\"5\" valign=\"top\">trf-berp-fixed</th>\n",
       "      <th rowspan=\"5\" valign=\"top\">19</th>\n",
       "      <th>15</th>\n",
       "      <td>0.083802</td>\n",
       "    </tr>\n",
       "    <tr>\n",
       "      <th>16</th>\n",
       "      <td>0.044947</td>\n",
       "    </tr>\n",
       "    <tr>\n",
       "      <th>17</th>\n",
       "      <td>-0.017253</td>\n",
       "    </tr>\n",
       "    <tr>\n",
       "      <th>18</th>\n",
       "      <td>-0.019188</td>\n",
       "    </tr>\n",
       "    <tr>\n",
       "      <th>19</th>\n",
       "      <td>0.032959</td>\n",
       "    </tr>\n",
       "  </tbody>\n",
       "</table>\n",
       "<p>228 rows × 1 columns</p>\n",
       "</div>"
      ],
      "text/plain": [
       "                               score\n",
       "model_run      subject run          \n",
       "trf            14      1    0.079073\n",
       "                       2    0.094011\n",
       "                       3    0.144029\n",
       "                       4    0.070826\n",
       "                       5    0.069938\n",
       "...                              ...\n",
       "trf-berp-fixed 19      15   0.083802\n",
       "                       16   0.044947\n",
       "                       17  -0.017253\n",
       "                       18  -0.019188\n",
       "                       19   0.032959\n",
       "\n",
       "[228 rows x 1 columns]"
      ]
     },
     "execution_count": 40,
     "metadata": {},
     "output_type": "execute_result"
    }
   ],
   "source": [
    "test_scores_df = []\n",
    "for i_model_run, i_subj, i_run, i_sensor in np.ndindex(*test_scores.shape):\n",
    "    test_scores_df.append((\n",
    "        all_run_names[i_model_run],\n",
    "        subjects[i_subj],\n",
    "        runs[i_run],\n",
    "        target_sensors[i_sensor],\n",
    "        test_scores[i_model_run, i_subj, i_run, i_sensor]))\n",
    "    \n",
    "test_scores_df = pd.DataFrame(test_scores_df, columns=[\"model_run\", \"subject\", \"run\", \"sensor\", \"score\"]).groupby([\"model_run\", \"subject\", \"run\"]).mean()\n",
    "test_scores_df"
   ]
  },
  {
   "cell_type": "code",
   "execution_count": 41,
   "id": "6485bbd5-ff2c-4f83-9934-6f3355e4bc39",
   "metadata": {},
   "outputs": [
    {
     "data": {
      "text/plain": [
       "<AxesSubplot:xlabel='model_run', ylabel='score'>"
      ]
     },
     "execution_count": 41,
     "metadata": {},
     "output_type": "execute_result"
    },
    {
     "data": {
      "image/png": "[encoded data removed]",
      "text/plain": [
       "<Figure size 432x288 with 1 Axes>"
      ]
     },
     "metadata": {
      "needs_background": "light"
     },
     "output_type": "display_data"
    }
   ],
   "source": [
    "sns.boxplot(data=test_scores_df.reset_index(), x=\"model_run\", y=\"score\")"
   ]
  },
  {
   "cell_type": "code",
   "execution_count": 42,
   "id": "eeb3e68e-dde1-486a-b4e8-a9c2a5587065",
   "metadata": {},
   "outputs": [
    {
     "data": {
      "text/plain": [
       "<seaborn.axisgrid.FacetGrid at 0x2b9a509ce610>"
      ]
     },
     "execution_count": 42,
     "metadata": {},
     "output_type": "execute_result"
    },
    {
     "data": {
      "image/png": "[encoded data removed]",
      "text/plain": [
       "<Figure size 360x360 with 1 Axes>"
      ]
     },
     "metadata": {
      "needs_background": "light"
     },
     "output_type": "display_data"
    }
   ],
   "source": [
    "model_diffs = test_scores_df.loc[all_run_names[1]] - test_scores_df.loc[all_run_names[0]]\n",
    "model_diffs = model_diffs.reset_index()\n",
    "sns.displot(data=model_diffs, x=\"score\")"
   ]
  },
  {
   "cell_type": "code",
   "execution_count": 43,
   "id": "25535585-0d01-4ce9-8004-ce7860ca9cef",
   "metadata": {},
   "outputs": [
    {
     "name": "stdout",
     "output_type": "stream",
     "text": [
      "95% bootstrap CI: [-0.00202754  0.00216361]\n"
     ]
    },
    {
     "data": {
      "image/png": "[encoded data removed]",
      "text/plain": [
       "<Figure size 432x288 with 1 Axes>"
      ]
     },
     "metadata": {
      "needs_background": "light"
     },
     "output_type": "display_data"
    }
   ],
   "source": [
    "model_diffs_bootstrap = sns.algorithms.bootstrap(model_diffs.score, func=\"median\", units=model_diffs.subject)\n",
    "sns.violinplot(model_diffs_bootstrap)\n",
    "plt.ylabel(\"Improvement in single-sensor $r$\")\n",
    "print(\"95% bootstrap CI:\",\n",
    "      np.quantile(model_diffs_bootstrap, (0.025, 0.975)))"
   ]
  },
  {
   "cell_type": "code",
   "execution_count": null,
   "id": "6ffb02a8-f47b-4bfc-a555-91f1ff7c7298",
   "metadata": {},
   "outputs": [],
   "source": [
    "points, times = pipes[1].get_recognition_times(ds.datasets[0], pipes[1].params[0])\n",
    "sns.displot(times - ds.datasets[0].word_onsets)"
   ]
  },
  {
   "cell_type": "code",
   "execution_count": null,
   "id": "fa18fadc-54c4-46ab-8763-cc12f987303c",
   "metadata": {},
   "outputs": [],
   "source": [
    "sns.histplot(points)"
   ]
  },
  {
   "cell_type": "code",
   "execution_count": null,
   "id": "193ce686-2310-4a59-8206-5a3fa8833a1c",
   "metadata": {},
   "outputs": [],
   "source": []
  }
 ],
 "metadata": {
  "kernelspec": {
   "display_name": "Python 3 (ipykernel)",
   "language": "python",
   "name": "python3"
  },
  "language_info": {
   "codemirror_mode": {
    "name": "ipython",
    "version": 3
   },
   "file_extension": ".py",
   "mimetype": "text/x-python",
   "name": "python",
   "nbconvert_exporter": "python",
   "pygments_lexer": "ipython3",
   "version": "3.9.13"
  }
 },
 "nbformat": 4,
 "nbformat_minor": 5
}
