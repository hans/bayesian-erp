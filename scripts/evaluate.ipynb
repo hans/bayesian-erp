{
 "cells": [
  {
   "cell_type": "code",
   "execution_count": 1,
   "id": "8ac63cfc-79b7-4e64-96cf-a53ae139ea7b",
   "metadata": {},
   "outputs": [],
   "source": [
    "import logging\n",
    "L = logging.getLogger(__name__)\n",
    "import os\n",
    "from pathlib import Path\n",
    "\n",
    "import matplotlib.pyplot as plt\n",
    "import numpy as np\n",
    "from omegaconf import OmegaConf\n",
    "import pandas as pd\n",
    "import seaborn as sns\n",
    "import scipy.stats as st\n",
    "import torch\n",
    "from tqdm.auto import tqdm"
   ]
  },
  {
   "cell_type": "code",
   "execution_count": 2,
   "id": "e538c2cd-08fd-47eb-90b0-036649f211d8",
   "metadata": {},
   "outputs": [],
   "source": [
    "%load_ext autoreload\n",
    "%autoreload 2"
   ]
  },
  {
   "cell_type": "code",
   "execution_count": 3,
   "id": "95b308be-b1ae-4e3c-adef-cac4758bfce5",
   "metadata": {},
   "outputs": [
    {
     "name": "stdout",
     "output_type": "stream",
     "text": [
      "/net/vast-storage.ib.cluster/scratch/vast/cpl/jgauthie/scratch/bayesian-erp\n"
     ]
    }
   ],
   "source": [
    "!pwd\n",
    "from berp import trainer"
   ]
  },
  {
   "cell_type": "code",
   "execution_count": 2,
   "id": "c533fae8-2080-44ff-9060-9beb680af151",
   "metadata": {
    "tags": [
     "parameters"
    ]
   },
   "outputs": [],
   "source": [
    "workflow = \"heilbron2022\"\n",
    "model = \"EleutherAI/gpt-neo-2.7B/n10000\"\n",
    "\n",
    "base_model_paradigm = \"cannon_wide\"\n",
    "base_model_name = \"trf-cannon_3quantiles\"\n",
    "full_model_paradigm = \"cannon_wide\"\n",
    "full_model_name = \"trf-berp-cannon_3quantiles\"\n",
    "\n",
    "#####\n",
    "\n",
    "output_test_scores = \"evaluate_cannon.csv\"\n",
    "output_test_improvement_scores = \"evaluate_cannon_improvement.csv\"\n",
    "\n",
    "#####\n",
    "\n",
    "model_dirs = [f\"workflow/{workflow}/results{'_' + paradigm if paradigm is not None else ''}/{model}/{run_name}\"\n",
    "              for paradigm, run_name in [(base_model_paradigm, base_model_name), (full_model_paradigm, full_model_name)]]\n",
    "\n",
    "device = \"cpu\""
   ]
  },
  {
   "cell_type": "code",
   "execution_count": 3,
   "id": "5b090023-8aec-4274-98f8-8f03ffa23cc8",
   "metadata": {},
   "outputs": [
    {
     "ename": "NameError",
     "evalue": "name 'Path' is not defined",
     "output_type": "error",
     "traceback": [
      "\u001b[0;31m---------------------------------------------------------------------------\u001b[0m",
      "\u001b[0;31mNameError\u001b[0m                                 Traceback (most recent call last)",
      "Cell \u001b[0;32mIn [3], line 5\u001b[0m\n\u001b[1;32m      3\u001b[0m all_models \u001b[38;5;241m=\u001b[39m [base_model, full_model]\n\u001b[1;32m      4\u001b[0m \u001b[38;5;28;01mfor\u001b[39;00m d \u001b[38;5;129;01min\u001b[39;00m model_dirs:\n\u001b[0;32m----> 5\u001b[0m     \u001b[38;5;28;01massert\u001b[39;00m \u001b[43mPath\u001b[49m(d)\u001b[38;5;241m.\u001b[39mexists(), d\n",
      "\u001b[0;31mNameError\u001b[0m: name 'Path' is not defined"
     ]
    }
   ],
   "source": [
    "base_model = (base_model_paradigm, base_model_name)\n",
    "full_model = (full_model_paradigm, full_model_name)\n",
    "all_models = [base_model, full_model]\n",
    "for d in model_dirs:\n",
    "    assert Path(d).exists(), d"
   ]
  },
  {
   "cell_type": "markdown",
   "id": "74a4111d-e720-4bc3-87f4-d078ca4dd8ba",
   "metadata": {},
   "source": [
    "## Load pipelines"
   ]
  },
  {
   "cell_type": "code",
   "execution_count": 6,
   "id": "91414eb9-5f74-46c7-abde-dee1d3469ccb",
   "metadata": {},
   "outputs": [
    {
     "data": {
      "application/vnd.jupyter.widget-view+json": {
       "model_id": "a736e9c0942d44b89b667e64914d8254",
       "version_major": 2,
       "version_minor": 0
      },
      "text/plain": [
       "  0%|          | 0/2 [00:00<?, ?model/s]"
      ]
     },
     "metadata": {},
     "output_type": "display_data"
    },
    {
     "name": "stdout",
     "output_type": "stream",
     "text": [
      "\n",
      "\n",
      "===== workflow/heilbron2022/results_cannon_wide/EleutherAI/gpt-neo-2.7B/n10000/trf-cannon_3quantiles\n",
      "confusion: tensor of type torch.float64, shape torch.Size([40, 40])\n",
      "encoder: \"TemporalReceptiveField(alpha=82468.40682196281, fit_intercept=True,\\n  \\\n",
      "  \\                     name='baf59f60a976403db080a7fc4a154857',\\n               \\\n",
      "  \\        optim=AdamSolver(n_batches=50,\\n                                      \\\n",
      "  \\  name='baf59f60a976403db080a7fc4a154857',\\n                                  \\\n",
      "  \\      random_state=RandomState(MT19937) at 0x14D989024040),\\n                 \\\n",
      "  \\      sfreq=128.0, tmax=0.75, tmin=0.0)\"\n",
      "encoder__alpha: 82468.40682196281\n",
      "encoder__fit_intercept: true\n",
      "encoder__init_scale: 0.1\n",
      "encoder__n_outputs: null\n",
      "encoder__name: baf59f60a976403db080a7fc4a154857\n",
      "encoder__optim: \"AdamSolver(n_batches=50, name='baf59f60a976403db080a7fc4a154857',\\n\\\n",
      "  \\           random_state=RandomState(MT19937) at 0x14D989024040)\"\n",
      "encoder__optim__batch_size: 512\n",
      "encoder__optim__early_stopping: 5\n",
      "encoder__optim__learning_rate: 0.01\n",
      "encoder__optim__n_batches: 50\n",
      "encoder__optim__name: baf59f60a976403db080a7fc4a154857\n",
      "encoder__optim__pbar: false\n",
      "encoder__optim__random_state: RandomState(MT19937) at 0x14D989024040\n",
      "encoder__output_names: null\n",
      "encoder__sfreq: 128.0\n",
      "encoder__tmax: 0.75\n",
      "encoder__tmin: 0.0\n",
      "encoder__warm_start: true\n",
      "encoder_key_re: re.compile('^[^/]+/sub(\\\\d+)')\n",
      "lambda_: 1.0\n",
      "n_quantiles: 3\n",
      "prior_scatter_index: 0\n",
      "prior_scatter_point: 0.5\n",
      "scatter_point: 0.5\n",
      "threshold: tensor of type torch.float32, shape torch.Size([])\n",
      "ts_feature_names:\n",
      "- all_phons_pitch\n",
      "- all_phons_env_var\n",
      "- all_phons_sg1\n",
      "- all_phons_sg2\n",
      "- all_phons_sg3\n",
      "- all_phons_sg4\n",
      "- all_phons_sg5\n",
      "- all_phons_sg6\n",
      "- all_phons_sg7\n",
      "- all_phons_sg8\n",
      "- all_phons_surprisals\n",
      "- word_onset\n",
      "- phoneme_onset\n",
      "variable_feature_names:\n",
      "- recognition_onset\n",
      "- word_frequency\n",
      "- word_surprisal\n",
      "variable_trf_zero_left: 0\n",
      "variable_trf_zero_right: 0\n",
      "\n",
      "\n",
      "===== workflow/heilbron2022/results_cannon_wide/EleutherAI/gpt-neo-2.7B/n10000/trf-berp-cannon_3quantiles\n",
      "confusion: tensor of type torch.float64, shape torch.Size([40, 40])\n",
      "encoder: \"TemporalReceptiveField(alpha=55076.33984168165, fit_intercept=True,\\n  \\\n",
      "  \\                     name='b457e180ae494a5c81f691c0dc809988',\\n               \\\n",
      "  \\        optim=AdamSolver(n_batches=50,\\n                                      \\\n",
      "  \\  name='b457e180ae494a5c81f691c0dc809988',\\n                                  \\\n",
      "  \\      random_state=RandomState(MT19937) at 0x14D99E5E8A40),\\n                 \\\n",
      "  \\      sfreq=128.0, tmax=0.75, tmin=0.0)\"\n",
      "encoder__alpha: 55076.33984168165\n",
      "encoder__fit_intercept: true\n",
      "encoder__init_scale: 0.1\n",
      "encoder__n_outputs: null\n",
      "encoder__name: b457e180ae494a5c81f691c0dc809988\n",
      "encoder__optim: \"AdamSolver(n_batches=50, name='b457e180ae494a5c81f691c0dc809988',\\n\\\n",
      "  \\           random_state=RandomState(MT19937) at 0x14D99E5E8A40)\"\n",
      "encoder__optim__batch_size: 512\n",
      "encoder__optim__early_stopping: 5\n",
      "encoder__optim__learning_rate: 0.01\n",
      "encoder__optim__n_batches: 50\n",
      "encoder__optim__name: b457e180ae494a5c81f691c0dc809988\n",
      "encoder__optim__pbar: false\n",
      "encoder__optim__random_state: RandomState(MT19937) at 0x14D99E5E8A40\n",
      "encoder__output_names: null\n",
      "encoder__sfreq: 128.0\n",
      "encoder__tmax: 0.75\n",
      "encoder__tmin: 0.0\n",
      "encoder__warm_start: true\n",
      "encoder_key_re: re.compile('^[^/]+/sub(\\\\d+)')\n",
      "lambda_: 2.0349876411159165\n",
      "n_quantiles: 3\n",
      "prior_scatter_index: -3\n",
      "prior_scatter_point: 0.028823748060041135\n",
      "scatter_point: 0.23434872756064212\n",
      "threshold: 0.019699172406161924\n",
      "ts_feature_names:\n",
      "- all_phons_pitch\n",
      "- all_phons_env_var\n",
      "- all_phons_sg1\n",
      "- all_phons_sg2\n",
      "- all_phons_sg3\n",
      "- all_phons_sg4\n",
      "- all_phons_sg5\n",
      "- all_phons_sg6\n",
      "- all_phons_sg7\n",
      "- all_phons_sg8\n",
      "- all_phons_surprisals\n",
      "- word_onset\n",
      "- phoneme_onset\n",
      "variable_feature_names:\n",
      "- recognition_onset\n",
      "- word_frequency\n",
      "- word_surprisal\n",
      "variable_trf_zero_left: 0\n",
      "variable_trf_zero_right: 0\n"
     ]
    }
   ],
   "source": [
    "trainers = trainer.load_trainers_from_checkpoints(model_dirs, device=device)"
   ]
  },
  {
   "cell_type": "markdown",
   "id": "95365c5e-ec6a-412a-b279-a5d0ff18d641",
   "metadata": {},
   "source": [
    "## Prepare result containers"
   ]
  },
  {
   "cell_type": "code",
   "execution_count": 7,
   "id": "6e81e99f-7979-425c-8c84-43a5d7e95a9b",
   "metadata": {},
   "outputs": [],
   "source": [
    "# Backwards-infer subject and run from dataset names\n",
    "test_subjects, test_runs = [], []\n",
    "encoder_key_re = trainers[0].model.encoder_key_re\n",
    "for subdataset in trainers[0].data_test.datasets:\n",
    "    _, subject, run = encoder_key_re.split(subdataset.name)\n",
    "    test_subjects.append(subject)\n",
    "    test_runs.append(run.lstrip(\"/\"))"
   ]
  },
  {
   "cell_type": "code",
   "execution_count": 8,
   "id": "aa366f00-1acb-42f8-9267-3145bae908bb",
   "metadata": {},
   "outputs": [],
   "source": [
    "# TODO allow different sensors within and across pipelines\n",
    "all_sensors = set(tuple(encoder.output_names)\n",
    "    for trainer in trainers\n",
    "    for encoder in trainer.model.encoders_.values())\n",
    "assert len(all_sensors) == 1"
   ]
  },
  {
   "cell_type": "code",
   "execution_count": 9,
   "id": "c6562d2b-c96b-4a77-9caa-242765954417",
   "metadata": {},
   "outputs": [],
   "source": [
    "ordered_sensors = next(iter(trainers[0].model.encoders_.values())).output_names"
   ]
  },
  {
   "cell_type": "code",
   "execution_count": 10,
   "id": "610abb3a-da71-41a6-b2d2-57d2cd1a877d",
   "metadata": {},
   "outputs": [],
   "source": [
    "test_scores = np.zeros((len(trainers), len(test_runs), len(ordered_sensors))) * np.nan"
   ]
  },
  {
   "cell_type": "markdown",
   "id": "06314467-24d4-49b4-8054-eb7efc8bdf56",
   "metadata": {},
   "source": [
    "## Estimate test score"
   ]
  },
  {
   "cell_type": "code",
   "execution_count": 11,
   "id": "c25af4a1-72f6-4650-b78a-c878f43e65d7",
   "metadata": {},
   "outputs": [
    {
     "data": {
      "application/vnd.jupyter.widget-view+json": {
       "model_id": "18eb5745db1e4298aeb57104ce2edf10",
       "version_major": 2,
       "version_minor": 0
      },
      "text/plain": [
       "  0%|          | 0/2 [00:00<?, ?model/s]"
      ]
     },
     "metadata": {},
     "output_type": "display_data"
    },
    {
     "name": "stderr",
     "output_type": "stream",
     "text": [
      "/net/vast-storage.ib.cluster/scratch/vast/cpl/jgauthie/scratch/bayesian-erp/berp/models/trf_em.py:1109: UserWarning: torch.searchsorted(): input value tensor is non-contiguous, this will lower the performance due to extra data copy when converting non-contiguous tensor to contiguous, please use contiguous input value tensor if possible. This message will only appear once per program. (Triggered internally at  /opt/conda/conda-bld/pytorch_1659484809662/work/aten/src/ATen/native/BucketizationUtils.h:33.)\n",
      "  torch.bucketize(dataset.p_candidates[:, 0], self.recognition_quantile_edges_),\n"
     ]
    }
   ],
   "source": [
    "for j, trainer in enumerate(tqdm(trainers, unit=\"model\")):\n",
    "    test_scores[j] = trainer.score()"
   ]
  },
  {
   "cell_type": "code",
   "execution_count": 12,
   "id": "27492bff-0b10-47b3-a4fa-d36e19ebecf7",
   "metadata": {},
   "outputs": [
    {
     "data": {
      "text/html": [
       "<div>\n",
       "<style scoped>\n",
       "    .dataframe tbody tr th:only-of-type {\n",
       "        vertical-align: middle;\n",
       "    }\n",
       "\n",
       "    .dataframe tbody tr th {\n",
       "        vertical-align: top;\n",
       "    }\n",
       "\n",
       "    .dataframe thead th {\n",
       "        text-align: right;\n",
       "    }\n",
       "</style>\n",
       "<table border=\"1\" class=\"dataframe\">\n",
       "  <thead>\n",
       "    <tr style=\"text-align: right;\">\n",
       "      <th></th>\n",
       "      <th></th>\n",
       "      <th></th>\n",
       "      <th></th>\n",
       "      <th>score</th>\n",
       "    </tr>\n",
       "    <tr>\n",
       "      <th>model_run</th>\n",
       "      <th>subject</th>\n",
       "      <th>run</th>\n",
       "      <th>sensor</th>\n",
       "      <th></th>\n",
       "    </tr>\n",
       "  </thead>\n",
       "  <tbody>\n",
       "    <tr>\n",
       "      <th rowspan=\"5\" valign=\"top\">(cannon_wide, trf-berp-cannon_3quantiles)</th>\n",
       "      <th rowspan=\"5\" valign=\"top\">1</th>\n",
       "      <th rowspan=\"5\" valign=\"top\">run1/slice:17214:22949</th>\n",
       "      <th>A19</th>\n",
       "      <td>-0.013178</td>\n",
       "    </tr>\n",
       "    <tr>\n",
       "      <th>A7</th>\n",
       "      <td>-0.014504</td>\n",
       "    </tr>\n",
       "    <tr>\n",
       "      <th>B22</th>\n",
       "      <td>0.081818</td>\n",
       "    </tr>\n",
       "    <tr>\n",
       "      <th>B4</th>\n",
       "      <td>0.023251</td>\n",
       "    </tr>\n",
       "    <tr>\n",
       "      <th>C10</th>\n",
       "      <td>0.092690</td>\n",
       "    </tr>\n",
       "    <tr>\n",
       "      <th>...</th>\n",
       "      <th>...</th>\n",
       "      <th>...</th>\n",
       "      <th>...</th>\n",
       "      <td>...</td>\n",
       "    </tr>\n",
       "    <tr>\n",
       "      <th rowspan=\"5\" valign=\"top\">(cannon_wide, trf-cannon_3quantiles)</th>\n",
       "      <th rowspan=\"5\" valign=\"top\">9</th>\n",
       "      <th rowspan=\"5\" valign=\"top\">run9/slice:16884:22511</th>\n",
       "      <th>B4</th>\n",
       "      <td>0.019896</td>\n",
       "    </tr>\n",
       "    <tr>\n",
       "      <th>C10</th>\n",
       "      <td>0.073417</td>\n",
       "    </tr>\n",
       "    <tr>\n",
       "      <th>C22</th>\n",
       "      <td>0.105086</td>\n",
       "    </tr>\n",
       "    <tr>\n",
       "      <th>C32</th>\n",
       "      <td>0.066872</td>\n",
       "    </tr>\n",
       "    <tr>\n",
       "      <th>D19</th>\n",
       "      <td>0.054255</td>\n",
       "    </tr>\n",
       "  </tbody>\n",
       "</table>\n",
       "<p>5776 rows × 1 columns</p>\n",
       "</div>"
      ],
      "text/plain": [
       "                                                                                    score\n",
       "model_run                                 subject run                    sensor          \n",
       "(cannon_wide, trf-berp-cannon_3quantiles) 1       run1/slice:17214:22949 A19    -0.013178\n",
       "                                                                         A7     -0.014504\n",
       "                                                                         B22     0.081818\n",
       "                                                                         B4      0.023251\n",
       "                                                                         C10     0.092690\n",
       "...                                                                                   ...\n",
       "(cannon_wide, trf-cannon_3quantiles)      9       run9/slice:16884:22511 B4      0.019896\n",
       "                                                                         C10     0.073417\n",
       "                                                                         C22     0.105086\n",
       "                                                                         C32     0.066872\n",
       "                                                                         D19     0.054255\n",
       "\n",
       "[5776 rows x 1 columns]"
      ]
     },
     "execution_count": 12,
     "metadata": {},
     "output_type": "execute_result"
    }
   ],
   "source": [
    "test_scores_df = []\n",
    "for i_model_run, i_run, i_sensor in np.ndindex(*test_scores.shape):\n",
    "    test_scores_df.append((\n",
    "        all_models[i_model_run],\n",
    "        test_subjects[i_run],\n",
    "        test_runs[i_run],\n",
    "        ordered_sensors[i_sensor],\n",
    "        test_scores[i_model_run, i_run, i_sensor]))\n",
    "    \n",
    "test_scores_df = pd.DataFrame(test_scores_df, columns=[\"model_run\", \"subject\", \"run\", \"sensor\", \"score\"]).groupby([\"model_run\", \"subject\", \"run\", \"sensor\"]).mean()\n",
    "test_scores_df.to_csv(output_test_scores)\n",
    "test_scores_df"
   ]
  },
  {
   "cell_type": "markdown",
   "id": "4ec14fcb-7c8b-4d53-b718-a4d694c6ba74",
   "metadata": {},
   "source": [
    "### Compare means"
   ]
  },
  {
   "cell_type": "code",
   "execution_count": 13,
   "id": "f7756ae2-af1c-46af-9512-d1af6237fb13",
   "metadata": {},
   "outputs": [
    {
     "data": {
      "text/plain": [
       "array([0.05016503, 0.05061419])"
      ]
     },
     "execution_count": 13,
     "metadata": {},
     "output_type": "execute_result"
    }
   ],
   "source": [
    "test_scores.mean(axis=-1).mean(axis=-1)"
   ]
  },
  {
   "cell_type": "code",
   "execution_count": 14,
   "id": "1c386e7b-0aeb-4322-ae96-3c27dd3ad17f",
   "metadata": {},
   "outputs": [
    {
     "data": {
      "text/plain": [
       "0.0004491538745614864"
      ]
     },
     "execution_count": 14,
     "metadata": {},
     "output_type": "execute_result"
    }
   ],
   "source": [
    "(test_scores[1] - test_scores[0]).mean()"
   ]
  },
  {
   "cell_type": "markdown",
   "id": "1bfe0a5d-9d26-4346-bd83-4531df7d3617",
   "metadata": {},
   "source": [
    "### Paired subjects t-test"
   ]
  },
  {
   "cell_type": "code",
   "execution_count": 17,
   "id": "2c0e89c3-06ee-4c04-a288-d83e92a3cf7a",
   "metadata": {},
   "outputs": [
    {
     "data": {
      "text/plain": [
       "Ttest_1sampResult(statistic=1.8573721813769712, pvalue=0.07969717761725255)"
      ]
     },
     "execution_count": 17,
     "metadata": {},
     "output_type": "execute_result"
    }
   ],
   "source": [
    "# Do a paired t-test mirroring Heilbron comparison\n",
    "tdf = test_scores_df.groupby([\"model_run\", \"subject\", \"run\"]).score.mean().groupby([\"model_run\", \"subject\"]).mean()\n",
    "diff_df = tdf.loc[all_models[1]] - tdf.loc[all_models[0]]\n",
    "diff_df.to_csv(output_test_improvement_scores)\n",
    "st.ttest_1samp(diff_df, popmean=0)"
   ]
  },
  {
   "cell_type": "code",
   "execution_count": 30,
   "id": "6485bbd5-ff2c-4f83-9934-6f3355e4bc39",
   "metadata": {},
   "outputs": [
    {
     "data": {
      "text/plain": [
       "<AxesSubplot:xlabel='model_run', ylabel='score'>"
      ]
     },
     "execution_count": 30,
     "metadata": {},
     "output_type": "execute_result"
    },
    {
     "data": {
      "image/png": "[encoded data removed]",
      "text/plain": [
       "<Figure size 432x288 with 1 Axes>"
      ]
     },
     "metadata": {
      "needs_background": "light"
     },
     "output_type": "display_data"
    }
   ],
   "source": [
    "sns.boxplot(data=test_scores_df.reset_index(), x=\"model_run\", y=\"score\")"
   ]
  },
  {
   "cell_type": "code",
   "execution_count": 31,
   "id": "02f4a3a8-c48f-4bb4-a54f-02b4a4c466d8",
   "metadata": {},
   "outputs": [
    {
     "data": {
      "text/plain": [
       "<AxesSubplot:xlabel='subject', ylabel='score'>"
      ]
     },
     "execution_count": 31,
     "metadata": {},
     "output_type": "execute_result"
    },
    {
     "data": {
      "image/png": "[encoded data removed]",
      "text/plain": [
       "<Figure size 432x288 with 1 Axes>"
      ]
     },
     "metadata": {
      "needs_background": "light"
     },
     "output_type": "display_data"
    }
   ],
   "source": [
    "sns.boxplot(data=test_scores_df.reset_index(), x=\"subject\", y=\"score\", hue=\"model_run\")"
   ]
  },
  {
   "cell_type": "code",
   "execution_count": 32,
   "id": "eeb3e68e-dde1-486a-b4e8-a9c2a5587065",
   "metadata": {},
   "outputs": [
    {
     "data": {
      "text/plain": [
       "<seaborn.axisgrid.FacetGrid at 0x2af13f19bfd0>"
      ]
     },
     "execution_count": 32,
     "metadata": {},
     "output_type": "execute_result"
    },
    {
     "data": {
      "image/png": "[encoded data removed]",
      "text/plain": [
       "<Figure size 360x360 with 1 Axes>"
      ]
     },
     "metadata": {
      "needs_background": "light"
     },
     "output_type": "display_data"
    }
   ],
   "source": [
    "model_diffs = test_scores_df.loc[all_models[1]] - test_scores_df.loc[all_models[0]]\n",
    "model_diffs = model_diffs.reset_index()\n",
    "sns.displot(data=model_diffs, x=\"score\")"
   ]
  },
  {
   "cell_type": "code",
   "execution_count": 33,
   "id": "46c99d51-638f-4ded-b9df-9c89f66b429d",
   "metadata": {},
   "outputs": [
    {
     "data": {
      "text/plain": [
       "Text(0, 0.5, 'Difference score')"
      ]
     },
     "execution_count": 33,
     "metadata": {},
     "output_type": "execute_result"
    },
    {
     "data": {
      "image/png": "[encoded data removed]",
      "text/plain": [
       "<Figure size 432x288 with 1 Axes>"
      ]
     },
     "metadata": {
      "needs_background": "light"
     },
     "output_type": "display_data"
    }
   ],
   "source": [
    "sns.boxplot(data=model_diffs, x=\"subject\", y=\"score\")\n",
    "plt.ylabel(\"Difference score\")"
   ]
  },
  {
   "cell_type": "markdown",
   "id": "9e6db302-3d25-4e60-a696-bf29a30d2be0",
   "metadata": {},
   "source": [
    "### Bootstrap estimate of difference within-subject"
   ]
  },
  {
   "cell_type": "code",
   "execution_count": 34,
   "id": "25535585-0d01-4ce9-8004-ce7860ca9cef",
   "metadata": {},
   "outputs": [
    {
     "name": "stdout",
     "output_type": "stream",
     "text": [
      "95% bootstrap CI: [0.00018565 0.00282659]\n"
     ]
    },
    {
     "data": {
      "image/png": "[encoded data removed]",
      "text/plain": [
       "<Figure size 432x288 with 1 Axes>"
      ]
     },
     "metadata": {
      "needs_background": "light"
     },
     "output_type": "display_data"
    }
   ],
   "source": [
    "model_diffs_bootstrap = sns.algorithms.bootstrap(model_diffs.score, func=\"median\", units=model_diffs.subject)\n",
    "sns.violinplot(model_diffs_bootstrap)\n",
    "plt.ylabel(\"Improvement in single-sensor $r$\")\n",
    "print(\"95% bootstrap CI:\",\n",
    "      np.quantile(model_diffs_bootstrap, (0.025, 0.975)))"
   ]
  }
 ],
 "metadata": {
  "kernelspec": {
   "display_name": "Python 3 (ipykernel)",
   "language": "python",
   "name": "python3"
  },
  "language_info": {
   "codemirror_mode": {
    "name": "ipython",
    "version": 3
   },
   "file_extension": ".py",
   "mimetype": "text/x-python",
   "name": "python",
   "nbconvert_exporter": "python",
   "pygments_lexer": "ipython3",
   "version": "3.9.13"
  }
 },
 "nbformat": 4,
 "nbformat_minor": 5
}
