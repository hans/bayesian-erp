{
 "cells": [
  {
   "cell_type": "code",
   "execution_count": 1,
   "id": "8ac63cfc-79b7-4e64-96cf-a53ae139ea7b",
   "metadata": {},
   "outputs": [],
   "source": [
    "from itertools import product\n",
    "import logging\n",
    "L = logging.getLogger(__name__)\n",
    "from pathlib import Path\n",
    "import pickle\n",
    "import yaml\n",
    "\n",
    "import matplotlib.pyplot as plt\n",
    "import numpy as np\n",
    "import pandas as pd\n",
    "import seaborn as sns\n",
    "from tqdm.auto import tqdm"
   ]
  },
  {
   "cell_type": "code",
   "execution_count": 2,
   "id": "e538c2cd-08fd-47eb-90b0-036649f211d8",
   "metadata": {},
   "outputs": [],
   "source": [
    "%load_ext autoreload\n",
    "%autoreload 2"
   ]
  },
  {
   "cell_type": "code",
   "execution_count": 3,
   "id": "95b308be-b1ae-4e3c-adef-cac4758bfce5",
   "metadata": {},
   "outputs": [],
   "source": [
    "import sys\n",
    "sys.path.append(\"..\")\n",
    "from berp.datasets import BerpDataset, NestedBerpDataset\n",
    "from berp.datasets.base import assert_compatible\n",
    "from berp.datasets.eeg import load_eeg_dataset\n",
    "from berp.datasets.splitters import KFold, train_test_split\n",
    "import berp.trainer  # sets some nice yaml dump defaults\n",
    "from berp.viz.trf import plot_trf_coefficients"
   ]
  },
  {
   "cell_type": "code",
   "execution_count": 66,
   "id": "c533fae8-2080-44ff-9060-9beb680af151",
   "metadata": {
    "tags": [
     "parameters"
    ]
   },
   "outputs": [],
   "source": [
    "workflow = \"heilbron2022\"\n",
    "model = \"distilgpt2\"\n",
    "\n",
    "base_model_run_name = \"trf.20221214\"\n",
    "trf_run_name = \"trf-berp-fixed.20221214\"\n",
    "# trf_run_name = \"trf-berp-cannon.20221214.2quant\"\n",
    "\n",
    "subjects = [17, 18, 19]\n",
    "runs = list(range(1, 20))\n",
    "stories = [\"old-man-and-the-sea\"]\n",
    "\n",
    "target_sensors = [\"A1\", \"A2\", \"B1\", \"D15\"]\n",
    "\n",
    "# Match dataset spec.\n",
    "normalize_X_ts = False\n",
    "normalize_X_variable = False\n",
    "normalize_Y = True\n",
    "\n",
    "n_evaluation_folds = 4"
   ]
  },
  {
   "cell_type": "code",
   "execution_count": 67,
   "id": "cea055f9-05b0-4a98-8ef0-edaf39a29568",
   "metadata": {},
   "outputs": [],
   "source": [
    "all_run_names = [base_model_run_name, trf_run_name]\n",
    "model_dirs = [f\"../workflow/{workflow}/results/{model}/{run_name}\"\n",
    "              for run_name in all_run_names]\n",
    "dataset_dir = f\"../workflow/{workflow}/data/dataset/{model}\"\n",
    "stimulus_dir = f\"../workflow/{workflow}/data/stimulus/{model}\""
   ]
  },
  {
   "cell_type": "markdown",
   "id": "a3d64303-a484-4b3b-bb4c-1fb5f88fd36f",
   "metadata": {},
   "source": [
    "## Prepare dataset"
   ]
  },
  {
   "cell_type": "code",
   "execution_count": 6,
   "id": "51175811-298e-416e-b2b0-f51ddaa7ce7c",
   "metadata": {},
   "outputs": [
    {
     "data": {
      "application/vnd.jupyter.widget-view+json": {
       "model_id": "6ec211105321427a8a333ca66407601b",
       "version_major": 2,
       "version_minor": 0
      },
      "text/plain": [
       "  0%|          | 0/57 [00:00<?, ?it/s]"
      ]
     },
     "metadata": {},
     "output_type": "display_data"
    }
   ],
   "source": [
    "# Load datasets.\n",
    "ds = {}\n",
    "stimulus_paths = {f\"{story}/run{run}\": Path(stimulus_dir) / f\"{story}/run{run}.pkl\"\n",
    "                  for story in stories for run in runs}\n",
    "combs = list(product(stories, subjects, runs))\n",
    "for story, subject, run in tqdm(combs):\n",
    "    ds_path = Path(dataset_dir) / story / f\"sub{subject}\" / f\"run{run}.pkl\"\n",
    "    if not ds_path.exists():\n",
    "        print(f\"Could not find dataset {ds_path}\")\n",
    "        continue\n",
    "\n",
    "    ds[story, subject, run] = load_eeg_dataset(\n",
    "        [ds_path], subset_sensors=target_sensors,\n",
    "        stimulus_paths=stimulus_paths,\n",
    "        normalize_X_ts=normalize_X_ts, normalize_X_variable=normalize_X_variable, normalize_Y=normalize_Y).datasets[0]"
   ]
  },
  {
   "cell_type": "code",
   "execution_count": 7,
   "id": "5bbfe21d-d9dd-40c0-a940-4c009b901000",
   "metadata": {},
   "outputs": [],
   "source": [
    "ds = NestedBerpDataset(list(ds.values()), n_splits=8)\n",
    "# TODO hack, just replicating what is in trainer.\n",
    "ds_train, ds_test = train_test_split(ds, test_size=.25)"
   ]
  },
  {
   "cell_type": "markdown",
   "id": "ac3f2e7a-6c93-4d7d-9027-b3cb6d6d83ac",
   "metadata": {},
   "source": [
    "## Load and prime pipelines"
   ]
  },
  {
   "cell_type": "code",
   "execution_count": 68,
   "id": "69e52915-fdb3-4690-add8-027ee19d9df4",
   "metadata": {},
   "outputs": [
    {
     "data": {
      "application/vnd.jupyter.widget-view+json": {
       "model_id": "69dd5a3171054602a01dec037f67084f",
       "version_major": 2,
       "version_minor": 0
      },
      "text/plain": [
       "  0%|          | 0/2 [00:00<?, ?it/s]"
      ]
     },
     "metadata": {},
     "output_type": "display_data"
    }
   ],
   "source": [
    "pipes = []\n",
    "for run in tqdm(model_dirs):\n",
    "    pipeline_path = Path(run) / \"params\" / \"pipeline.pkl\"\n",
    "    if not pipeline_path.exists():\n",
    "        L.warn(f\"Missing pipeline at {pipeline_path}\")\n",
    "        \n",
    "    with pipeline_path.open(\"rb\") as f:\n",
    "        pipes.append(pickle.load(f))"
   ]
  },
  {
   "cell_type": "code",
   "execution_count": 69,
   "id": "8d69de93-4f16-4fa1-80fc-a96e252c6907",
   "metadata": {},
   "outputs": [
    {
     "name": "stdout",
     "output_type": "stream",
     "text": [
      "=============== trf.20221214\n",
      "device: cpu\n",
      "encoder: \"TemporalReceptiveField(alpha=9861602184.638493, fit_intercept=True, n_outputs=4,\\n\\\n",
      "  \\                       name='78bddaeedf924ae5a4e0f3a9bd511369',\\n             \\\n",
      "  \\          optim=AdamSolver(n_batches=50,\\n                                    \\\n",
      "  \\    name='78bddaeedf924ae5a4e0f3a9bd511369',\\n                                \\\n",
      "  \\        random_state=RandomState(MT19937) at 0x2B2F82FAAE40),\\n               \\\n",
      "  \\        sfreq=128.0, tmax=0.5625, tmin=0.0)\"\n",
      "encoder__alpha: 9861602184.638493\n",
      "encoder__fit_intercept: true\n",
      "encoder__init_scale: 0.1\n",
      "encoder__n_outputs: 4\n",
      "encoder__name: 78bddaeedf924ae5a4e0f3a9bd511369\n",
      "encoder__optim: \"AdamSolver(n_batches=50, name='78bddaeedf924ae5a4e0f3a9bd511369',\\n\\\n",
      "  \\           random_state=RandomState(MT19937) at 0x2B2F82FAAE40)\"\n",
      "encoder__optim__batch_size: 512\n",
      "encoder__optim__early_stopping: 5\n",
      "encoder__optim__learning_rate: 0.01\n",
      "encoder__optim__n_batches: 50\n",
      "encoder__optim__name: 78bddaeedf924ae5a4e0f3a9bd511369\n",
      "encoder__optim__pbar: false\n",
      "encoder__optim__random_state: RandomState(MT19937) at 0x2B2F82FAAE40\n",
      "encoder__sfreq: 128.0\n",
      "encoder__tmax: 0.5625\n",
      "encoder__tmin: 0.0\n",
      "encoder__warm_start: true\n",
      "encoder_key_re: re.compile('^[^/]+/sub(\\\\d+)')\n",
      "ts_feature_names:\n",
      "- all_words_onset\n",
      "- c_words_onset\n",
      "- c_words_contextual_dissimilarity\n",
      "- all_phons_pitch\n",
      "- all_phons_env_var\n",
      "- all_phons_sg1\n",
      "- all_phons_sg2\n",
      "- all_phons_sg3\n",
      "- all_phons_sg4\n",
      "- all_phons_sg5\n",
      "- all_phons_sg6\n",
      "- all_phons_sg7\n",
      "- all_phons_sg8\n",
      "variable_feature_names:\n",
      "- word_frequency\n",
      "- word_surprisal\n",
      "\n",
      "=============== trf-berp-fixed.20221214\n",
      "confusion: tensor of type torch.float64, shape torch.Size([40, 40])\n",
      "encoder: \"TemporalReceptiveField(alpha=1259.77527093588, fit_intercept=True, n_outputs=4,\\n\\\n",
      "  \\                       name='82fd9423509d4a639c3d0b51e222832d',\\n             \\\n",
      "  \\          optim=AdamSolver(n_batches=50,\\n                                    \\\n",
      "  \\    name='82fd9423509d4a639c3d0b51e222832d',\\n                                \\\n",
      "  \\        random_state=RandomState(MT19937) at 0x2B2F82FAA840),\\n               \\\n",
      "  \\        sfreq=128.0, tmax=0.5625, tmin=0.0)\"\n",
      "encoder__alpha: 1259.77527093588\n",
      "encoder__fit_intercept: true\n",
      "encoder__init_scale: 0.1\n",
      "encoder__n_outputs: 4\n",
      "encoder__name: 82fd9423509d4a639c3d0b51e222832d\n",
      "encoder__optim: \"AdamSolver(n_batches=50, name='82fd9423509d4a639c3d0b51e222832d',\\n\\\n",
      "  \\           random_state=RandomState(MT19937) at 0x2B2F82FAA840)\"\n",
      "encoder__optim__batch_size: 512\n",
      "encoder__optim__early_stopping: 5\n",
      "encoder__optim__learning_rate: 0.01\n",
      "encoder__optim__n_batches: 50\n",
      "encoder__optim__name: 82fd9423509d4a639c3d0b51e222832d\n",
      "encoder__optim__pbar: false\n",
      "encoder__optim__random_state: RandomState(MT19937) at 0x2B2F82FAA840\n",
      "encoder__sfreq: 128.0\n",
      "encoder__tmax: 0.5625\n",
      "encoder__tmin: 0.0\n",
      "encoder__warm_start: true\n",
      "encoder_key_re: re.compile('^[^/]+/sub(\\\\d+)')\n",
      "lambda_: 0.16510644379212394\n",
      "prior_scatter_index: -2\n",
      "prior_scatter_point: 0.5\n",
      "scatter_point: 0.5\n",
      "threshold: 0.00652263886892004\n",
      "ts_feature_names:\n",
      "- all_words_onset\n",
      "- c_words_onset\n",
      "- c_words_contextual_dissimilarity\n",
      "- all_phons_pitch\n",
      "- all_phons_env_var\n",
      "- all_phons_sg1\n",
      "- all_phons_sg2\n",
      "- all_phons_sg3\n",
      "- all_phons_sg4\n",
      "- all_phons_sg5\n",
      "- all_phons_sg6\n",
      "- all_phons_sg7\n",
      "- all_phons_sg8\n",
      "variable_feature_names:\n",
      "- recognition_onset\n",
      "- word_frequency\n",
      "- word_surprisal\n",
      "variable_trf_zero_left: 0\n",
      "variable_trf_zero_right: 0\n",
      "\n"
     ]
    }
   ],
   "source": [
    "for run_name, pipe in zip(all_run_names, pipes):\n",
    "    print(f\"=============== {run_name}\")\n",
    "    yaml.safe_dump(pipe.get_params(), sys.stdout)\n",
    "    print()"
   ]
  },
  {
   "cell_type": "code",
   "execution_count": 70,
   "id": "cf199e32-a589-4994-b326-8c19d2577762",
   "metadata": {},
   "outputs": [],
   "source": [
    "for pipe in pipes:\n",
    "    pipe.prime(ds)"
   ]
  },
  {
   "cell_type": "markdown",
   "id": "998d24d8-529a-441b-b6f5-c91c6812ce5b",
   "metadata": {
    "jp-MarkdownHeadingCollapsed": true,
    "tags": []
   },
   "source": [
    "## Estimate validation score\n",
    "\n",
    "TODO this is not fair, we should use test set. NB we forgot the train test split above, which happens in Trainer."
   ]
  },
  {
   "cell_type": "code",
   "execution_count": 71,
   "id": "dbc2c2e9-3a69-4b96-bbda-30e592783f7f",
   "metadata": {},
   "outputs": [
    {
     "data": {
      "application/vnd.jupyter.widget-view+json": {
       "model_id": "b56e92e3d82c429788466897ad0ed519",
       "version_major": 2,
       "version_minor": 0
      },
      "text/plain": [
       "  0%|          | 0/4 [00:00<?, ?it/s]"
      ]
     },
     "metadata": {},
     "output_type": "display_data"
    },
    {
     "data": {
      "application/vnd.jupyter.widget-view+json": {
       "model_id": "e8f85c82980c4c939df50d456ace9474",
       "version_major": 2,
       "version_minor": 0
      },
      "text/plain": [
       "  0%|          | 0/2 [00:00<?, ?pipe/s]"
      ]
     },
     "metadata": {},
     "output_type": "display_data"
    },
    {
     "data": {
      "application/vnd.jupyter.widget-view+json": {
       "model_id": "ac959116a24644878d60327ae0ddacc2",
       "version_major": 2,
       "version_minor": 0
      },
      "text/plain": [
       "  0%|          | 0/2 [00:00<?, ?pipe/s]"
      ]
     },
     "metadata": {},
     "output_type": "display_data"
    },
    {
     "data": {
      "application/vnd.jupyter.widget-view+json": {
       "model_id": "4fc17d9d45d747f4955e70bf8e1c1c71",
       "version_major": 2,
       "version_minor": 0
      },
      "text/plain": [
       "  0%|          | 0/2 [00:00<?, ?pipe/s]"
      ]
     },
     "metadata": {},
     "output_type": "display_data"
    },
    {
     "data": {
      "application/vnd.jupyter.widget-view+json": {
       "model_id": "43c3d7ca0e4747e6998968a7b17aaaed",
       "version_major": 2,
       "version_minor": 0
      },
      "text/plain": [
       "  0%|          | 0/2 [00:00<?, ?pipe/s]"
      ]
     },
     "metadata": {},
     "output_type": "display_data"
    }
   ],
   "source": [
    "splitter = KFold(n_splits=n_evaluation_folds)\n",
    "all_scores = np.zeros((n_evaluation_folds, len(all_run_names), len(subjects), len(runs), len(target_sensors))) * np.nan\n",
    "for i, (train, test) in enumerate(tqdm(splitter.split(ds), total=splitter.n_splits)):\n",
    "    for j, (run_name, pipe) in enumerate(zip(tqdm(all_run_names, unit=\"pipe\"), pipes)):\n",
    "        all_scores[i, j] = pipe.score_multidimensional(ds[test]).reshape((len(subjects), len(runs), len(target_sensors)))"
   ]
  },
  {
   "cell_type": "code",
   "execution_count": 72,
   "id": "27277891-5110-4e1b-ade2-6fb782196dee",
   "metadata": {},
   "outputs": [
    {
     "data": {
      "text/plain": [
       "array([0.03753354, 0.08588896])"
      ]
     },
     "execution_count": 72,
     "metadata": {},
     "output_type": "execute_result"
    }
   ],
   "source": [
    "all_scores.max(axis=4).mean(axis=3).mean(axis=2).mean(axis=0)"
   ]
  },
  {
   "cell_type": "code",
   "execution_count": 73,
   "id": "e7c2f6ea-dee3-4e52-ab69-cc22a6c89dc6",
   "metadata": {},
   "outputs": [
    {
     "data": {
      "text/plain": [
       "['trf.20221214', 'trf-berp-fixed.20221214']"
      ]
     },
     "execution_count": 73,
     "metadata": {},
     "output_type": "execute_result"
    }
   ],
   "source": [
    "all_run_names"
   ]
  },
  {
   "cell_type": "markdown",
   "id": "06314467-24d4-49b4-8054-eb7efc8bdf56",
   "metadata": {},
   "source": [
    "## Estimate test score"
   ]
  },
  {
   "cell_type": "code",
   "execution_count": 74,
   "id": "c25af4a1-72f6-4650-b78a-c878f43e65d7",
   "metadata": {},
   "outputs": [
    {
     "data": {
      "application/vnd.jupyter.widget-view+json": {
       "model_id": "248942d37fe84fce8cf561fc7d73f40c",
       "version_major": 2,
       "version_minor": 0
      },
      "text/plain": [
       "  0%|          | 0/2 [00:00<?, ?pipe/s]"
      ]
     },
     "metadata": {},
     "output_type": "display_data"
    }
   ],
   "source": [
    "test_scores = np.zeros((len(all_run_names), len(subjects), len(runs), len(target_sensors))) * np.nan\n",
    "for j, (run_name, pipe) in enumerate(zip(tqdm(all_run_names, unit=\"pipe\"), pipes)):\n",
    "    test_scores[j] = pipe.score_multidimensional(ds_test).reshape((len(subjects), len(runs), len(target_sensors)))"
   ]
  },
  {
   "cell_type": "code",
   "execution_count": 75,
   "id": "f7756ae2-af1c-46af-9512-d1af6237fb13",
   "metadata": {},
   "outputs": [
    {
     "data": {
      "text/plain": [
       "array([0.01833564, 0.06308135])"
      ]
     },
     "execution_count": 75,
     "metadata": {},
     "output_type": "execute_result"
    }
   ],
   "source": [
    "test_scores.max(axis=-1).mean(axis=-1).mean(axis=-1)"
   ]
  },
  {
   "cell_type": "code",
   "execution_count": 76,
   "id": "1c386e7b-0aeb-4322-ae96-3c27dd3ad17f",
   "metadata": {},
   "outputs": [
    {
     "data": {
      "text/plain": [
       "0.06119240141931202"
      ]
     },
     "execution_count": 76,
     "metadata": {},
     "output_type": "execute_result"
    }
   ],
   "source": [
    "(test_scores[1] - test_scores[0]).max(axis=-1).mean()"
   ]
  },
  {
   "cell_type": "markdown",
   "id": "9e6db302-3d25-4e60-a696-bf29a30d2be0",
   "metadata": {},
   "source": [
    "### Bootstrap estimate"
   ]
  },
  {
   "cell_type": "code",
   "execution_count": 77,
   "id": "27492bff-0b10-47b3-a4fa-d36e19ebecf7",
   "metadata": {},
   "outputs": [
    {
     "data": {
      "text/html": [
       "<div>\n",
       "<style scoped>\n",
       "    .dataframe tbody tr th:only-of-type {\n",
       "        vertical-align: middle;\n",
       "    }\n",
       "\n",
       "    .dataframe tbody tr th {\n",
       "        vertical-align: top;\n",
       "    }\n",
       "\n",
       "    .dataframe thead th {\n",
       "        text-align: right;\n",
       "    }\n",
       "</style>\n",
       "<table border=\"1\" class=\"dataframe\">\n",
       "  <thead>\n",
       "    <tr style=\"text-align: right;\">\n",
       "      <th></th>\n",
       "      <th></th>\n",
       "      <th></th>\n",
       "      <th></th>\n",
       "      <th>score</th>\n",
       "    </tr>\n",
       "    <tr>\n",
       "      <th>model_run</th>\n",
       "      <th>subject</th>\n",
       "      <th>run</th>\n",
       "      <th>sensor</th>\n",
       "      <th></th>\n",
       "    </tr>\n",
       "  </thead>\n",
       "  <tbody>\n",
       "    <tr>\n",
       "      <th rowspan=\"5\" valign=\"top\">trf.20221214</th>\n",
       "      <th rowspan=\"5\" valign=\"top\">17</th>\n",
       "      <th rowspan=\"4\" valign=\"top\">1</th>\n",
       "      <th>A1</th>\n",
       "      <td>-0.025523</td>\n",
       "    </tr>\n",
       "    <tr>\n",
       "      <th>A2</th>\n",
       "      <td>-0.003708</td>\n",
       "    </tr>\n",
       "    <tr>\n",
       "      <th>B1</th>\n",
       "      <td>-0.041522</td>\n",
       "    </tr>\n",
       "    <tr>\n",
       "      <th>D15</th>\n",
       "      <td>-0.040116</td>\n",
       "    </tr>\n",
       "    <tr>\n",
       "      <th>2</th>\n",
       "      <th>A1</th>\n",
       "      <td>0.052872</td>\n",
       "    </tr>\n",
       "    <tr>\n",
       "      <th>...</th>\n",
       "      <th>...</th>\n",
       "      <th>...</th>\n",
       "      <th>...</th>\n",
       "      <td>...</td>\n",
       "    </tr>\n",
       "    <tr>\n",
       "      <th rowspan=\"5\" valign=\"top\">trf-berp-fixed.20221214</th>\n",
       "      <th rowspan=\"5\" valign=\"top\">19</th>\n",
       "      <th>18</th>\n",
       "      <th>D15</th>\n",
       "      <td>0.096798</td>\n",
       "    </tr>\n",
       "    <tr>\n",
       "      <th rowspan=\"4\" valign=\"top\">19</th>\n",
       "      <th>A1</th>\n",
       "      <td>0.104067</td>\n",
       "    </tr>\n",
       "    <tr>\n",
       "      <th>A2</th>\n",
       "      <td>0.069030</td>\n",
       "    </tr>\n",
       "    <tr>\n",
       "      <th>B1</th>\n",
       "      <td>0.095110</td>\n",
       "    </tr>\n",
       "    <tr>\n",
       "      <th>D15</th>\n",
       "      <td>0.080403</td>\n",
       "    </tr>\n",
       "  </tbody>\n",
       "</table>\n",
       "<p>456 rows × 1 columns</p>\n",
       "</div>"
      ],
      "text/plain": [
       "                                               score\n",
       "model_run               subject run sensor          \n",
       "trf.20221214            17      1   A1     -0.025523\n",
       "                                    A2     -0.003708\n",
       "                                    B1     -0.041522\n",
       "                                    D15    -0.040116\n",
       "                                2   A1      0.052872\n",
       "...                                              ...\n",
       "trf-berp-fixed.20221214 19      18  D15     0.096798\n",
       "                                19  A1      0.104067\n",
       "                                    A2      0.069030\n",
       "                                    B1      0.095110\n",
       "                                    D15     0.080403\n",
       "\n",
       "[456 rows x 1 columns]"
      ]
     },
     "execution_count": 77,
     "metadata": {},
     "output_type": "execute_result"
    }
   ],
   "source": [
    "test_scores_df = []\n",
    "for i_model_run, i_subj, i_run, i_sensor in np.ndindex(*test_scores.shape):\n",
    "    test_scores_df.append((\n",
    "        all_run_names[i_model_run],\n",
    "        subjects[i_subj],\n",
    "        runs[i_run],\n",
    "        target_sensors[i_sensor],\n",
    "        test_scores[i_model_run, i_subj, i_run, i_sensor]))\n",
    "    \n",
    "test_scores_df = pd.DataFrame(test_scores_df, columns=[\"model_run\", \"subject\", \"run\", \"sensor\", \"score\"]).set_index([\"model_run\", \"subject\", \"run\", \"sensor\"])\n",
    "test_scores_df"
   ]
  },
  {
   "cell_type": "code",
   "execution_count": 78,
   "id": "6485bbd5-ff2c-4f83-9934-6f3355e4bc39",
   "metadata": {},
   "outputs": [
    {
     "data": {
      "text/plain": [
       "<AxesSubplot:xlabel='model_run', ylabel='score'>"
      ]
     },
     "execution_count": 78,
     "metadata": {},
     "output_type": "execute_result"
    },
    {
     "data": {
      "image/png": "[encoded data removed]",
      "text/plain": [
       "<Figure size 432x288 with 1 Axes>"
      ]
     },
     "metadata": {
      "needs_background": "light"
     },
     "output_type": "display_data"
    }
   ],
   "source": [
    "sns.boxplot(data=test_scores_df.reset_index(), x=\"model_run\", y=\"score\")"
   ]
  },
  {
   "cell_type": "code",
   "execution_count": 79,
   "id": "eeb3e68e-dde1-486a-b4e8-a9c2a5587065",
   "metadata": {},
   "outputs": [
    {
     "data": {
      "text/plain": [
       "<seaborn.axisgrid.FacetGrid at 0x2b2f81022e20>"
      ]
     },
     "execution_count": 79,
     "metadata": {},
     "output_type": "execute_result"
    },
    {
     "data": {
      "image/png": "[encoded data removed]",
      "text/plain": [
       "<Figure size 360x360 with 1 Axes>"
      ]
     },
     "metadata": {
      "needs_background": "light"
     },
     "output_type": "display_data"
    }
   ],
   "source": [
    "model_diffs = test_scores_df.loc[all_run_names[1]] - test_scores_df.loc[all_run_names[0]]\n",
    "model_diffs = model_diffs.reset_index()\n",
    "sns.displot(data=model_diffs, x=\"score\")"
   ]
  },
  {
   "cell_type": "code",
   "execution_count": 80,
   "id": "25535585-0d01-4ce9-8004-ce7860ca9cef",
   "metadata": {},
   "outputs": [
    {
     "name": "stdout",
     "output_type": "stream",
     "text": [
      "95% bootstrap CI: [0.02521801 0.06308349]\n"
     ]
    },
    {
     "data": {
      "image/png": "[encoded data removed]",
      "text/plain": [
       "<Figure size 432x288 with 1 Axes>"
      ]
     },
     "metadata": {
      "needs_background": "light"
     },
     "output_type": "display_data"
    }
   ],
   "source": [
    "model_diffs_bootstrap = sns.algorithms.bootstrap(model_diffs.score, units=model_diffs.subject)\n",
    "sns.violinplot(model_diffs_bootstrap)\n",
    "print(\"95% bootstrap CI:\",\n",
    "      np.quantile(model_diffs_bootstrap, (0.025, 0.975)))"
   ]
  },
  {
   "cell_type": "code",
   "execution_count": 87,
   "id": "6ffb02a8-f47b-4bfc-a555-91f1ff7c7298",
   "metadata": {},
   "outputs": [
    {
     "data": {
      "text/plain": [
       "<seaborn.axisgrid.FacetGrid at 0x2b2f8b56d790>"
      ]
     },
     "execution_count": 87,
     "metadata": {},
     "output_type": "execute_result"
    },
    {
     "data": {
      "image/png": "[encoded data removed]",
      "text/plain": [
       "<Figure size 360x360 with 1 Axes>"
      ]
     },
     "metadata": {
      "needs_background": "light"
     },
     "output_type": "display_data"
    }
   ],
   "source": [
    "points, times = pipes[1].get_recognition_times(ds.datasets[0], pipes[1].params[0])\n",
    "sns.displot(times - ds.datasets[0].word_onsets)"
   ]
  },
  {
   "cell_type": "code",
   "execution_count": 89,
   "id": "fa18fadc-54c4-46ab-8763-cc12f987303c",
   "metadata": {},
   "outputs": [
    {
     "data": {
      "text/plain": [
       "<AxesSubplot:ylabel='Count'>"
      ]
     },
     "execution_count": 89,
     "metadata": {},
     "output_type": "execute_result"
    },
    {
     "data": {
      "image/png": "[encoded data removed]",
      "text/plain": [
       "<Figure size 432x288 with 1 Axes>"
      ]
     },
     "metadata": {
      "needs_background": "light"
     },
     "output_type": "display_data"
    }
   ],
   "source": [
    "sns.histplot(points)"
   ]
  }
 ],
 "metadata": {
  "kernelspec": {
   "display_name": "Python 3 (ipykernel)",
   "language": "python",
   "name": "python3"
  },
  "language_info": {
   "codemirror_mode": {
    "name": "ipython",
    "version": 3
   },
   "file_extension": ".py",
   "mimetype": "text/x-python",
   "name": "python",
   "nbconvert_exporter": "python",
   "pygments_lexer": "ipython3",
   "version": "3.9.13"
  }
 },
 "nbformat": 4,
 "nbformat_minor": 5
}
