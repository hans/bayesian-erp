{
 "cells": [
  {
   "cell_type": "markdown",
   "id": "a0b3477a-e0df-45ef-a754-699ee21a4a11",
   "metadata": {},
   "source": [
    "This notebook estimates the curve shape relating a feature of interest (e.g. word surprisal) and average/peak amplitude for the given ERPs, given a trained Cannon model."
   ]
  },
  {
   "cell_type": "code",
   "execution_count": 1,
   "id": "8ac63cfc-79b7-4e64-96cf-a53ae139ea7b",
   "metadata": {},
   "outputs": [],
   "source": [
    "import io\n",
    "from itertools import product\n",
    "import logging\n",
    "L = logging.getLogger(__name__)\n",
    "from pathlib import Path\n",
    "import pickle\n",
    "import yaml\n",
    "\n",
    "import matplotlib.pyplot as plt\n",
    "import numpy as np\n",
    "import pandas as pd\n",
    "import seaborn as sns\n",
    "import scipy.stats as st\n",
    "import torch\n",
    "from tqdm.auto import tqdm"
   ]
  },
  {
   "cell_type": "code",
   "execution_count": 2,
   "id": "e538c2cd-08fd-47eb-90b0-036649f211d8",
   "metadata": {},
   "outputs": [],
   "source": [
    "%load_ext autoreload\n",
    "%autoreload 2"
   ]
  },
  {
   "cell_type": "code",
   "execution_count": 3,
   "id": "95b308be-b1ae-4e3c-adef-cac4758bfce5",
   "metadata": {},
   "outputs": [],
   "source": [
    "import sys\n",
    "sys.path.append(\"..\")\n",
    "from berp.datasets import BerpDataset, NestedBerpDataset\n",
    "from berp.datasets.eeg import load_eeg_dataset\n",
    "from berp.models import load_model\n",
    "import berp.trainer  # good yaml defaults\n",
    "from berp.viz.trf import plot_trf_coefficients\n",
    "from berp.viz.trf_em import pipeline_to_dataframe, aggregate_cannon_coef_df"
   ]
  },
  {
   "cell_type": "code",
   "execution_count": 4,
   "id": "c533fae8-2080-44ff-9060-9beb680af151",
   "metadata": {
    "tags": [
     "parameters"
    ]
   },
   "outputs": [],
   "source": [
    "workflow = \"heilbron2022\"\n",
    "lm = \"EleutherAI/gpt-neo-2.7B/n10000\"\n",
    "\n",
    "paradigm = \"cannon_wide\"\n",
    "cannon_run_name = \"trf-berp-cannon_3quantiles.29720801\"\n",
    "# cannon_run_name = \"trf-berp-cannon_5quantiles\"\n",
    "# cannon_run_name = \"trf-berp-cannon_4quantiles\"\n",
    "# cannon_run_name = \"trf-cannon_10quantiles\"\n",
    "\n",
    "# Safe to load just one subject -- we only are investigating stimulus differences here\n",
    "subjects = [1]\n",
    "runs = list(range(1, 20))\n",
    "stories = [\"old-man-and-the-sea\"]\n",
    "\n",
    "# target_sensors = [\"B19\", \"B20\", \"B22\"]\n",
    "target_sensors = ['B22', 'D19', 'A19', 'C22', 'C10', 'C32', 'A7', 'B4']\n",
    "\n",
    "normalize_X_ts = False\n",
    "normalize_X_variable = True\n",
    "normalize_Y = False\n",
    "\n",
    "temporal_rois = [(\"n125\", 0.125 - 0.05, 0.125 + 0.05, \"idxmin\"),\n",
    "                 (\"n400\", 0.3, 0.5, \"idxmin\"),\n",
    "                 (\"early\", 0.0, 0.15, lambda xs: xs.abs().idxmax())]\n",
    "test_features = [\"var_word_surprisal\"]\n",
    "\n",
    "# Only run quantitative tests on items we have a priori interest in. We want to avoid\n",
    "# fishing for p-values here, and also degrading any positive results due to multiple\n",
    "# comparisons.\n",
    "# Semantics: (feature, troi, sensor) where we expect amplitude/latency-to-peak differences\n",
    "a_priori_interest = [\n",
    "    (\"var_word_surprisal\", \"n125\", \"D19\"),\n",
    "    (\"var_word_surprisal\", \"n125\", \"C10\"),\n",
    "    (\"var_word_surprisal\", \"n400\", \"A19\"),\n",
    "    (\"var_word_surprisal\", \"early\", \"C10\"),\n",
    "]"
   ]
  },
  {
   "cell_type": "code",
   "execution_count": 5,
   "id": "cea055f9-05b0-4a98-8ef0-edaf39a29568",
   "metadata": {},
   "outputs": [],
   "source": [
    "model_dir = f\"../workflow/{workflow}/results_{paradigm}/{lm}/{cannon_run_name}\"\n",
    "dataset_dir = f\"../workflow/{workflow}/data/dataset/{lm}\"\n",
    "stimulus_dir = f\"../workflow/{workflow}/data/stimulus/{lm}\""
   ]
  },
  {
   "cell_type": "markdown",
   "id": "af69da41-5deb-41f3-95db-5e7d21560d78",
   "metadata": {},
   "source": [
    "## Prepare dataset"
   ]
  },
  {
   "cell_type": "code",
   "execution_count": 6,
   "id": "e39ec2fb-4531-4409-9fe5-aadb0ea7b803",
   "metadata": {},
   "outputs": [
    {
     "data": {
      "application/vnd.jupyter.widget-view+json": {
       "model_id": "7185343f551d4bc4837b38fb3491cdd6",
       "version_major": 2,
       "version_minor": 0
      },
      "text/plain": [
       "  0%|          | 0/19 [00:00<?, ?it/s]"
      ]
     },
     "metadata": {},
     "output_type": "display_data"
    }
   ],
   "source": [
    "# Load datasets.\n",
    "ds = {}\n",
    "stimulus_paths = {f\"{story}/run{run}\": Path(stimulus_dir) / f\"{story}/run{run}.pkl\"\n",
    "                  for story in stories for run in runs}\n",
    "combs = list(product(stories, subjects, runs))\n",
    "ds_paths = []\n",
    "for story, subject, run in tqdm(combs):\n",
    "    ds_path = Path(dataset_dir) / story / f\"sub{subject}\" / f\"run{run}.pkl\"\n",
    "    if not ds_path.exists():\n",
    "        print(f\"Could not find dataset {ds_path}\")\n",
    "        continue\n",
    "    ds_paths.append(ds_path)\n",
    "    \n",
    "nested_ds = load_eeg_dataset(\n",
    "    ds_paths,\n",
    "    subset_sensors=target_sensors,\n",
    "    stimulus_paths=stimulus_paths,\n",
    "    normalize_X_ts=normalize_X_ts, \n",
    "    normalize_X_variable=normalize_X_variable, \n",
    "    normalize_Y=normalize_Y)\n",
    "\n",
    "assert len(combs) == len(nested_ds.datasets)\n",
    "ds = dict(zip(combs, nested_ds.datasets))"
   ]
  },
  {
   "cell_type": "markdown",
   "id": "ac3f2e7a-6c93-4d7d-9027-b3cb6d6d83ac",
   "metadata": {
    "tags": []
   },
   "source": [
    "## Load pipeline"
   ]
  },
  {
   "cell_type": "code",
   "execution_count": 7,
   "id": "7ea2b1de-f0bc-48e7-9a60-aded65755adb",
   "metadata": {},
   "outputs": [],
   "source": [
    "pipe = load_model(model_dir, device=\"cpu\")"
   ]
  },
  {
   "cell_type": "code",
   "execution_count": 8,
   "id": "8d69de93-4f16-4fa1-80fc-a96e252c6907",
   "metadata": {},
   "outputs": [
    {
     "name": "stdout",
     "output_type": "stream",
     "text": [
      "confusion: tensor of type torch.float64, shape torch.Size([40, 40])\n",
      "encoder: \"TemporalReceptiveField(alpha=28096.5569715575, fit_intercept=True,\\n   \\\n",
      "  \\                    name='be53ad7337d94e7d9f4c6c05f8469081',\\n                \\\n",
      "  \\       optim=AdamSolver(n_batches=50,\\n                                       \\\n",
      "  \\ name='be53ad7337d94e7d9f4c6c05f8469081',\\n                                   \\\n",
      "  \\     random_state=RandomState(MT19937) at 0x2AE39268EB40),\\n                  \\\n",
      "  \\     sfreq=128.0, tmax=0.75, tmin=0.0)\"\n",
      "encoder__alpha: 28096.5569715575\n",
      "encoder__fit_intercept: true\n",
      "encoder__init_scale: 0.1\n",
      "encoder__n_outputs: null\n",
      "encoder__name: be53ad7337d94e7d9f4c6c05f8469081\n",
      "encoder__optim: \"AdamSolver(n_batches=50, name='be53ad7337d94e7d9f4c6c05f8469081',\\n\\\n",
      "  \\           random_state=RandomState(MT19937) at 0x2AE39268EB40)\"\n",
      "encoder__optim__batch_size: 512\n",
      "encoder__optim__early_stopping: 5\n",
      "encoder__optim__learning_rate: 0.01\n",
      "encoder__optim__n_batches: 50\n",
      "encoder__optim__name: be53ad7337d94e7d9f4c6c05f8469081\n",
      "encoder__optim__pbar: false\n",
      "encoder__optim__random_state: RandomState(MT19937) at 0x2AE39268EB40\n",
      "encoder__output_names: null\n",
      "encoder__sfreq: 128.0\n",
      "encoder__tmax: 0.75\n",
      "encoder__tmin: 0.0\n",
      "encoder__warm_start: true\n",
      "encoder_key_re: re.compile('^[^/]+/sub(\\\\d+)')\n",
      "lambda_: 2.9636077645074517\n",
      "n_quantiles: 3\n",
      "prior_scatter_index: 0\n",
      "prior_scatter_point: 0.12190901174485916\n",
      "scatter_point: 0.40573529955224\n",
      "threshold: 0.8091832825245094\n",
      "ts_feature_names:\n",
      "- all_phons_pitch\n",
      "- all_phons_env_var\n",
      "- all_phons_sg1\n",
      "- all_phons_sg2\n",
      "- all_phons_sg3\n",
      "- all_phons_sg4\n",
      "- all_phons_sg5\n",
      "- all_phons_sg6\n",
      "- all_phons_sg7\n",
      "- all_phons_sg8\n",
      "- all_phons_surprisals\n",
      "- word_onset\n",
      "- phoneme_onset\n",
      "variable_feature_names:\n",
      "- recognition_onset\n",
      "- word_frequency\n",
      "- word_surprisal\n",
      "variable_trf_zero_left: 0\n",
      "variable_trf_zero_right: 0\n"
     ]
    }
   ],
   "source": [
    "yaml.safe_dump(pipe.get_params(), sys.stdout)"
   ]
  },
  {
   "cell_type": "markdown",
   "id": "7d7700b3-7efc-4398-b892-629d8cc53fdc",
   "metadata": {},
   "source": [
    "## Prepare model estimates"
   ]
  },
  {
   "cell_type": "markdown",
   "id": "18f742f6-280f-4113-8291-36162885699e",
   "metadata": {},
   "source": [
    "### Get coefficients"
   ]
  },
  {
   "cell_type": "code",
   "execution_count": 9,
   "id": "9442784e-b8c6-49b3-889e-aeefba74dfd3",
   "metadata": {},
   "outputs": [],
   "source": [
    "coef_df = pipeline_to_dataframe(pipe)\n",
    "coef_agg_df = aggregate_cannon_coef_df(coef_df, pipe)"
   ]
  },
  {
   "cell_type": "code",
   "execution_count": 10,
   "id": "2582911f-e606-4ca7-8810-71edaafd4ef8",
   "metadata": {},
   "outputs": [],
   "source": [
    "coef_agg_df[\"sensor\"] = coef_agg_df.sensor.map(dict(enumerate(target_sensors)))"
   ]
  },
  {
   "cell_type": "markdown",
   "id": "06314467-24d4-49b4-8054-eb7efc8bdf56",
   "metadata": {},
   "source": [
    "### Compute Berp posterior"
   ]
  },
  {
   "cell_type": "code",
   "execution_count": 11,
   "id": "8544ee33-4bab-4326-ad18-0642247a9074",
   "metadata": {},
   "outputs": [],
   "source": [
    "# Just analyze one subject per run -- there are no differences between subjects in this analysis\n",
    "all_runs = {f\"{story}/run{run}\": ds for (story, subject, run), ds in ds.items()}"
   ]
  },
  {
   "cell_type": "code",
   "execution_count": 12,
   "id": "664da615-2012-4308-9d6b-513c61acb23b",
   "metadata": {},
   "outputs": [
    {
     "name": "stderr",
     "output_type": "stream",
     "text": [
      " 16%|███████████████████████▊                                                                                                                               | 3/19 [00:07<00:39,  2.45s/dataset]\n"
     ]
    },
    {
     "ename": "KeyboardInterrupt",
     "evalue": "",
     "output_type": "error",
     "traceback": [
      "\u001b[0;31m---------------------------------------------------------------------------\u001b[0m",
      "\u001b[0;31mKeyboardInterrupt\u001b[0m                         Traceback (most recent call last)",
      "Cell \u001b[0;32mIn [12], line 1\u001b[0m\n\u001b[0;32m----> 1\u001b[0m df \u001b[38;5;241m=\u001b[39m \u001b[43mberp\u001b[49m\u001b[38;5;241;43m.\u001b[39;49m\u001b[43mviz\u001b[49m\u001b[38;5;241;43m.\u001b[39;49m\u001b[43mtrf_em\u001b[49m\u001b[38;5;241;43m.\u001b[39;49m\u001b[43mget_cannon_posterior_df\u001b[49m\u001b[43m(\u001b[49m\u001b[43mpipe\u001b[49m\u001b[43m,\u001b[49m\u001b[43m \u001b[49m\u001b[43mall_runs\u001b[49m\u001b[43m)\u001b[49m\n",
      "File \u001b[0;32m/net/vast-storage.ib.cluster/scratch/vast/cpl/jgauthie/scratch/bayesian-erp/scripts/../berp/viz/trf_em.py:179\u001b[0m, in \u001b[0;36mget_cannon_posterior_df\u001b[0;34m(pipe, ds)\u001b[0m\n\u001b[1;32m    176\u001b[0m recognition_quantiles \u001b[38;5;241m=\u001b[39m {}\n\u001b[1;32m    178\u001b[0m \u001b[38;5;28;01mfor\u001b[39;00m key, dataset \u001b[38;5;129;01min\u001b[39;00m tqdm(ds\u001b[38;5;241m.\u001b[39mitems(), unit\u001b[38;5;241m=\u001b[39m\u001b[38;5;124m\"\u001b[39m\u001b[38;5;124mdataset\u001b[39m\u001b[38;5;124m\"\u001b[39m):\n\u001b[0;32m--> 179\u001b[0m     points, times \u001b[38;5;241m=\u001b[39m \u001b[43mpipe\u001b[49m\u001b[38;5;241;43m.\u001b[39;49m\u001b[43mget_recognition_times\u001b[49m\u001b[43m(\u001b[49m\u001b[43mdataset\u001b[49m\u001b[43m,\u001b[49m\u001b[43m \u001b[49m\u001b[43mpipe\u001b[49m\u001b[38;5;241;43m.\u001b[39;49m\u001b[43mparams\u001b[49m\u001b[43m[\u001b[49m\u001b[38;5;241;43m0\u001b[39;49m\u001b[43m]\u001b[49m\u001b[43m)\u001b[49m\n\u001b[1;32m    180\u001b[0m     recognition_points[key] \u001b[38;5;241m=\u001b[39m points\u001b[38;5;241m.\u001b[39mnumpy()\n\u001b[1;32m    181\u001b[0m     recognition_times[key] \u001b[38;5;241m=\u001b[39m (times \u001b[38;5;241m-\u001b[39m dataset\u001b[38;5;241m.\u001b[39mword_onsets)\u001b[38;5;241m.\u001b[39mnumpy()\n",
      "File \u001b[0;32m~/om2/miniconda/envs/berp/lib/python3.9/site-packages/typeguard/__init__.py:1033\u001b[0m, in \u001b[0;36mtypechecked.<locals>.wrapper\u001b[0;34m(*args, **kwargs)\u001b[0m\n\u001b[1;32m   1031\u001b[0m memo \u001b[38;5;241m=\u001b[39m _CallMemo(python_func, _localns, args\u001b[38;5;241m=\u001b[39margs, kwargs\u001b[38;5;241m=\u001b[39mkwargs)\n\u001b[1;32m   1032\u001b[0m check_argument_types(memo)\n\u001b[0;32m-> 1033\u001b[0m retval \u001b[38;5;241m=\u001b[39m \u001b[43mfunc\u001b[49m\u001b[43m(\u001b[49m\u001b[38;5;241;43m*\u001b[39;49m\u001b[43margs\u001b[49m\u001b[43m,\u001b[49m\u001b[43m \u001b[49m\u001b[38;5;241;43m*\u001b[39;49m\u001b[38;5;241;43m*\u001b[39;49m\u001b[43mkwargs\u001b[49m\u001b[43m)\u001b[49m\n\u001b[1;32m   1034\u001b[0m \u001b[38;5;28;01mtry\u001b[39;00m:\n\u001b[1;32m   1035\u001b[0m     check_return_type(retval, memo)\n",
      "File \u001b[0;32m/net/vast-storage.ib.cluster/scratch/vast/cpl/jgauthie/scratch/bayesian-erp/scripts/../berp/models/trf_em.py:717\u001b[0m, in \u001b[0;36mGroupBerpTRFForwardPipeline.get_recognition_times\u001b[0;34m(self, dataset, params)\u001b[0m\n\u001b[1;32m    713\u001b[0m \u001b[38;5;129m@typechecked\u001b[39m\n\u001b[1;32m    714\u001b[0m \u001b[38;5;28;01mdef\u001b[39;00m \u001b[38;5;21mget_recognition_times\u001b[39m(\u001b[38;5;28mself\u001b[39m, dataset: BerpDataset,\n\u001b[1;32m    715\u001b[0m                           params: ModelParameters,\n\u001b[1;32m    716\u001b[0m                           ) \u001b[38;5;241m-\u001b[39m\u001b[38;5;241m>\u001b[39m Tuple[TensorType[torch\u001b[38;5;241m.\u001b[39mlong], TensorType[torch\u001b[38;5;241m.\u001b[39mfloat]]:\n\u001b[0;32m--> 717\u001b[0m     recognition_points \u001b[38;5;241m=\u001b[39m \u001b[38;5;28;43mself\u001b[39;49m\u001b[38;5;241;43m.\u001b[39;49m\u001b[43mget_recognition_points\u001b[49m\u001b[43m(\u001b[49m\u001b[43mdataset\u001b[49m\u001b[43m,\u001b[49m\u001b[43m \u001b[49m\u001b[43mparams\u001b[49m\u001b[43m)\u001b[49m\n\u001b[1;32m    718\u001b[0m     recognition_times \u001b[38;5;241m=\u001b[39m recognition_points_to_times(\n\u001b[1;32m    719\u001b[0m         recognition_points,\n\u001b[1;32m    720\u001b[0m         dataset\u001b[38;5;241m.\u001b[39mphoneme_onsets_global,\n\u001b[0;32m   (...)\u001b[0m\n\u001b[1;32m    725\u001b[0m         prior_scatter_point\u001b[38;5;241m=\u001b[39m\u001b[38;5;28mself\u001b[39m\u001b[38;5;241m.\u001b[39mprior_scatter_point,\n\u001b[1;32m    726\u001b[0m     )\n\u001b[1;32m    727\u001b[0m     \u001b[38;5;28;01mreturn\u001b[39;00m recognition_points, recognition_times\n",
      "File \u001b[0;32m~/om2/miniconda/envs/berp/lib/python3.9/site-packages/typeguard/__init__.py:1033\u001b[0m, in \u001b[0;36mtypechecked.<locals>.wrapper\u001b[0;34m(*args, **kwargs)\u001b[0m\n\u001b[1;32m   1031\u001b[0m memo \u001b[38;5;241m=\u001b[39m _CallMemo(python_func, _localns, args\u001b[38;5;241m=\u001b[39margs, kwargs\u001b[38;5;241m=\u001b[39mkwargs)\n\u001b[1;32m   1032\u001b[0m check_argument_types(memo)\n\u001b[0;32m-> 1033\u001b[0m retval \u001b[38;5;241m=\u001b[39m \u001b[43mfunc\u001b[49m\u001b[43m(\u001b[49m\u001b[38;5;241;43m*\u001b[39;49m\u001b[43margs\u001b[49m\u001b[43m,\u001b[49m\u001b[43m \u001b[49m\u001b[38;5;241;43m*\u001b[39;49m\u001b[38;5;241;43m*\u001b[39;49m\u001b[43mkwargs\u001b[49m\u001b[43m)\u001b[49m\n\u001b[1;32m   1034\u001b[0m \u001b[38;5;28;01mtry\u001b[39;00m:\n\u001b[1;32m   1035\u001b[0m     check_return_type(retval, memo)\n",
      "File \u001b[0;32m/net/vast-storage.ib.cluster/scratch/vast/cpl/jgauthie/scratch/bayesian-erp/scripts/../berp/models/trf_em.py:704\u001b[0m, in \u001b[0;36mGroupBerpTRFForwardPipeline.get_recognition_points\u001b[0;34m(self, dataset, params)\u001b[0m\n\u001b[1;32m    698\u001b[0m \u001b[38;5;129m@typechecked\u001b[39m\n\u001b[1;32m    699\u001b[0m \u001b[38;5;28;01mdef\u001b[39;00m \u001b[38;5;21mget_recognition_points\u001b[39m(\u001b[38;5;28mself\u001b[39m, dataset: BerpDataset,\n\u001b[1;32m    700\u001b[0m                            params: ModelParameters,\n\u001b[1;32m    701\u001b[0m                            ) \u001b[38;5;241m-\u001b[39m\u001b[38;5;241m>\u001b[39m TensorType[torch\u001b[38;5;241m.\u001b[39mlong]:\n\u001b[1;32m    702\u001b[0m     \u001b[38;5;66;03m# TODO cache rec point computation?\u001b[39;00m\n\u001b[1;32m    703\u001b[0m     \u001b[38;5;66;03m# profile and find out if it's worth it\u001b[39;00m\n\u001b[0;32m--> 704\u001b[0m     p_candidates_posterior \u001b[38;5;241m=\u001b[39m \u001b[43mpredictive_model\u001b[49m\u001b[43m(\u001b[49m\n\u001b[1;32m    705\u001b[0m \u001b[43m        \u001b[49m\u001b[43mdataset\u001b[49m\u001b[38;5;241;43m.\u001b[39;49m\u001b[43mp_candidates\u001b[49m\u001b[43m,\u001b[49m\u001b[43m \u001b[49m\u001b[43mdataset\u001b[49m\u001b[38;5;241;43m.\u001b[39;49m\u001b[43mcandidate_phonemes\u001b[49m\u001b[43m,\u001b[49m\n\u001b[1;32m    706\u001b[0m \u001b[43m        \u001b[49m\u001b[43mparams\u001b[49m\u001b[38;5;241;43m.\u001b[39;49m\u001b[43mconfusion\u001b[49m\u001b[43m,\u001b[49m\u001b[43m \u001b[49m\u001b[43mparams\u001b[49m\u001b[38;5;241;43m.\u001b[39;49m\u001b[43mlambda_\u001b[49m\n\u001b[1;32m    707\u001b[0m \u001b[43m    \u001b[49m\u001b[43m)\u001b[49m\n\u001b[1;32m    708\u001b[0m     recognition_points \u001b[38;5;241m=\u001b[39m recognition_point_model(\n\u001b[1;32m    709\u001b[0m         p_candidates_posterior, dataset\u001b[38;5;241m.\u001b[39mword_lengths, params\u001b[38;5;241m.\u001b[39mthreshold\n\u001b[1;32m    710\u001b[0m     )\n\u001b[1;32m    711\u001b[0m     \u001b[38;5;28;01mreturn\u001b[39;00m recognition_points\n",
      "File \u001b[0;32m/net/vast-storage.ib.cluster/scratch/vast/cpl/jgauthie/scratch/bayesian-erp/scripts/../berp/models/reindexing_regression.py:121\u001b[0m, in \u001b[0;36mpredictive_model\u001b[0;34m(p_candidates, phonemes, confusion, lambda_, ground_truth_word_idx, return_gt_only)\u001b[0m\n\u001b[1;32m    116\u001b[0m incremental_word_likelihoods \u001b[38;5;241m=\u001b[39m torch\u001b[38;5;241m.\u001b[39mcat(\n\u001b[1;32m    117\u001b[0m     [torch\u001b[38;5;241m.\u001b[39mzeros_like(incremental_word_likelihoods[:, :, :\u001b[38;5;241m1\u001b[39m]),\n\u001b[1;32m    118\u001b[0m      incremental_word_likelihoods], dim\u001b[38;5;241m=\u001b[39m\u001b[38;5;241m2\u001b[39m)\n\u001b[1;32m    120\u001b[0m \u001b[38;5;66;03m# Combine with prior and normalize.\u001b[39;00m\n\u001b[0;32m--> 121\u001b[0m bayes_p_candidates \u001b[38;5;241m=\u001b[39m \u001b[43m(\u001b[49m\u001b[43mp_candidates\u001b[49m\u001b[38;5;241;43m.\u001b[39;49m\u001b[43munsqueeze\u001b[49m\u001b[43m(\u001b[49m\u001b[38;5;241;43m-\u001b[39;49m\u001b[38;5;241;43m1\u001b[39;49m\u001b[43m)\u001b[49m\u001b[43m \u001b[49m\u001b[38;5;241;43m+\u001b[39;49m\u001b[43m \u001b[49m\u001b[43mincremental_word_likelihoods\u001b[49m\u001b[43m)\u001b[49m\u001b[38;5;241;43m.\u001b[39;49m\u001b[43mexp\u001b[49m\u001b[43m(\u001b[49m\u001b[43m)\u001b[49m\n\u001b[1;32m    122\u001b[0m bayes_p_candidates \u001b[38;5;241m/\u001b[39m\u001b[38;5;241m=\u001b[39m bayes_p_candidates\u001b[38;5;241m.\u001b[39msum(dim\u001b[38;5;241m=\u001b[39m\u001b[38;5;241m1\u001b[39m, keepdim\u001b[38;5;241m=\u001b[39m\u001b[38;5;28;01mTrue\u001b[39;00m)\n\u001b[1;32m    124\u001b[0m \u001b[38;5;28;01mif\u001b[39;00m return_gt_only:\n",
      "\u001b[0;31mKeyboardInterrupt\u001b[0m: "
     ]
    }
   ],
   "source": [
    "df = berp.viz.trf_em.get_cannon_posterior_df(pipe, all_runs)"
   ]
  },
  {
   "cell_type": "code",
   "execution_count": null,
   "id": "643fb303-c97e-4766-ac0c-edc8c84614f0",
   "metadata": {},
   "outputs": [],
   "source": [
    "df"
   ]
  },
  {
   "cell_type": "code",
   "execution_count": null,
   "id": "15003877-036a-471a-be81-85a0f2aba164",
   "metadata": {},
   "outputs": [],
   "source": [
    "assert set(df.recognition_quantile) == set(coef_agg_df[\"quantile\"])"
   ]
  },
  {
   "cell_type": "markdown",
   "id": "13fc4e73-7a69-433a-b070-ad5aa41584d9",
   "metadata": {},
   "source": [
    "## Draw tROIs"
   ]
  },
  {
   "cell_type": "code",
   "execution_count": 77,
   "id": "f60aa2bf-b5d3-4c3f-8d66-8a0a17b1a864",
   "metadata": {},
   "outputs": [
    {
     "data": {
      "text/plain": [
       "[('n125', 0.075, 0.175, 'idxmin'),\n",
       " ('n400', 0.3, 0.5, 'idxmin'),\n",
       " ('early', 0.0, 0.15, <function __main__.<lambda>(xs)>)]"
      ]
     },
     "execution_count": 77,
     "metadata": {},
     "output_type": "execute_result"
    }
   ],
   "source": [
    "temporal_rois"
   ]
  },
  {
   "cell_type": "code",
   "execution_count": 78,
   "id": "9226e5a7-b0ef-4bee-a8be-111fc395705e",
   "metadata": {},
   "outputs": [
    {
     "data": {
      "image/png": "[encoded data removed]",
      "text/plain": [
       "<Figure size 720x360 with 1 Axes>"
      ]
     },
     "metadata": {
      "needs_background": "light"
     },
     "output_type": "display_data"
    }
   ],
   "source": [
    "f, ax = plt.subplots(figsize=(10, 5))\n",
    "plot_trf_coefficients(coef_agg_df, errorbar=\"se\", predictor_match_patterns=[test_features[0]], ax=ax)\n",
    "\n",
    "for troi, tstart, tend, _ in temporal_rois:\n",
    "    ax.axvspan(tstart, tend, alpha=0.2, color=\"gray\")\n",
    "    ax.text((tend + tstart) / 2, 0, troi)\n",
    "    \n",
    "None"
   ]
  },
  {
   "cell_type": "code",
   "execution_count": 79,
   "id": "993c29a9-7681-4be3-9b1d-ac43ac56c997",
   "metadata": {},
   "outputs": [
    {
     "data": {
      "image/png": "[encoded data removed]",
      "text/plain": [
       "<Figure size 720x360 with 1 Axes>"
      ]
     },
     "metadata": {
      "needs_background": "light"
     },
     "output_type": "display_data"
    }
   ],
   "source": [
    "f, ax = plt.subplots(figsize=(10, 5))\n",
    "plot_trf_coefficients(coef_agg_df[coef_agg_df.sensor == \"A19\"], errorbar=\"se\", predictor_match_patterns=[test_features[0]], ax=ax)\n",
    "\n",
    "for troi, tstart, tend, _ in temporal_rois:\n",
    "    ax.axvspan(tstart, tend, alpha=0.2, color=\"gray\")\n",
    "    ax.text((tend + tstart) / 2, 0, troi)\n",
    "    \n",
    "None"
   ]
  },
  {
   "cell_type": "markdown",
   "id": "4fd8b1dc-fabc-4e93-90c9-69d77c8c528f",
   "metadata": {},
   "source": [
    "## Visualize curves"
   ]
  },
  {
   "cell_type": "code",
   "execution_count": 80,
   "id": "74201ec4-451c-44d8-bb8b-bec437387847",
   "metadata": {},
   "outputs": [
    {
     "data": {
      "text/plain": [
       "recognition_quantile\n",
       "0    1.337720\n",
       "1    2.985122\n",
       "2    4.867740\n",
       "Name: word_surprisal, dtype: float32"
      ]
     },
     "execution_count": 80,
     "metadata": {},
     "output_type": "execute_result"
    }
   ],
   "source": [
    "surprisal_quantile_means = -df.groupby(\"recognition_quantile\").word_surprisal.mean()\n",
    "surprisal_quantile_means"
   ]
  },
  {
   "cell_type": "code",
   "execution_count": 81,
   "id": "f305d86d-3b13-448d-99a6-f794d9e1f636",
   "metadata": {},
   "outputs": [
    {
     "data": {
      "text/plain": [
       "recognition_quantile\n",
       "0    0.552296\n",
       "1    0.243671\n",
       "2    0.119510\n",
       "Name: word_probability, dtype: float32"
      ]
     },
     "execution_count": 81,
     "metadata": {},
     "output_type": "execute_result"
    }
   ],
   "source": [
    "df[\"word_probability\"] = 2 ** df.word_surprisal\n",
    "probability_quantile_means = df.groupby(\"recognition_quantile\").word_probability.mean()\n",
    "probability_quantile_means"
   ]
  },
  {
   "cell_type": "code",
   "execution_count": 82,
   "id": "9b23419e-2d41-4008-ad7e-99eec9082152",
   "metadata": {},
   "outputs": [
    {
     "data": {
      "text/html": [
       "<div>\n",
       "<style scoped>\n",
       "    .dataframe tbody tr th:only-of-type {\n",
       "        vertical-align: middle;\n",
       "    }\n",
       "\n",
       "    .dataframe tbody tr th {\n",
       "        vertical-align: top;\n",
       "    }\n",
       "\n",
       "    .dataframe thead th {\n",
       "        text-align: right;\n",
       "    }\n",
       "</style>\n",
       "<table border=\"1\" class=\"dataframe\">\n",
       "  <thead>\n",
       "    <tr style=\"text-align: right;\">\n",
       "      <th></th>\n",
       "      <th></th>\n",
       "      <th>base_predictor</th>\n",
       "      <th>subject</th>\n",
       "      <th>lag</th>\n",
       "      <th>epoch_time</th>\n",
       "      <th>sensor</th>\n",
       "      <th>sensor_name</th>\n",
       "      <th>quantile</th>\n",
       "      <th>coef</th>\n",
       "      <th>predictor_name</th>\n",
       "      <th>mean_surprisal</th>\n",
       "      <th>mean_probability</th>\n",
       "    </tr>\n",
       "    <tr>\n",
       "      <th>toi</th>\n",
       "      <th></th>\n",
       "      <th></th>\n",
       "      <th></th>\n",
       "      <th></th>\n",
       "      <th></th>\n",
       "      <th></th>\n",
       "      <th></th>\n",
       "      <th></th>\n",
       "      <th></th>\n",
       "      <th></th>\n",
       "      <th></th>\n",
       "      <th></th>\n",
       "    </tr>\n",
       "  </thead>\n",
       "  <tbody>\n",
       "    <tr>\n",
       "      <th rowspan=\"5\" valign=\"top\">n125</th>\n",
       "      <th>329</th>\n",
       "      <td>var_recognition_onset</td>\n",
       "      <td>1</td>\n",
       "      <td>10</td>\n",
       "      <td>0.078125</td>\n",
       "      <td>A19</td>\n",
       "      <td>A19</td>\n",
       "      <td>0</td>\n",
       "      <td>-0.000173</td>\n",
       "      <td>var_recognition_onset_1</td>\n",
       "      <td>1.337720</td>\n",
       "      <td>0.552296</td>\n",
       "    </tr>\n",
       "    <tr>\n",
       "      <th>330</th>\n",
       "      <td>var_recognition_onset</td>\n",
       "      <td>1</td>\n",
       "      <td>10</td>\n",
       "      <td>0.078125</td>\n",
       "      <td>A19</td>\n",
       "      <td>A19</td>\n",
       "      <td>1</td>\n",
       "      <td>-0.000164</td>\n",
       "      <td>var_recognition_onset_2</td>\n",
       "      <td>2.985122</td>\n",
       "      <td>0.243671</td>\n",
       "    </tr>\n",
       "    <tr>\n",
       "      <th>331</th>\n",
       "      <td>var_recognition_onset</td>\n",
       "      <td>1</td>\n",
       "      <td>10</td>\n",
       "      <td>0.078125</td>\n",
       "      <td>A19</td>\n",
       "      <td>A19</td>\n",
       "      <td>2</td>\n",
       "      <td>-0.000152</td>\n",
       "      <td>var_recognition_onset_3</td>\n",
       "      <td>4.867740</td>\n",
       "      <td>0.119510</td>\n",
       "    </tr>\n",
       "    <tr>\n",
       "      <th>59561</th>\n",
       "      <td>var_word_frequency</td>\n",
       "      <td>1</td>\n",
       "      <td>18</td>\n",
       "      <td>0.140625</td>\n",
       "      <td>A19</td>\n",
       "      <td>A19</td>\n",
       "      <td>0</td>\n",
       "      <td>-0.000266</td>\n",
       "      <td>var_word_frequency_1</td>\n",
       "      <td>1.337720</td>\n",
       "      <td>0.552296</td>\n",
       "    </tr>\n",
       "    <tr>\n",
       "      <th>59594</th>\n",
       "      <td>var_word_frequency</td>\n",
       "      <td>1</td>\n",
       "      <td>19</td>\n",
       "      <td>0.148438</td>\n",
       "      <td>A19</td>\n",
       "      <td>A19</td>\n",
       "      <td>1</td>\n",
       "      <td>-0.000161</td>\n",
       "      <td>var_word_frequency_2</td>\n",
       "      <td>2.985122</td>\n",
       "      <td>0.243671</td>\n",
       "    </tr>\n",
       "    <tr>\n",
       "      <th>...</th>\n",
       "      <th>...</th>\n",
       "      <td>...</td>\n",
       "      <td>...</td>\n",
       "      <td>...</td>\n",
       "      <td>...</td>\n",
       "      <td>...</td>\n",
       "      <td>...</td>\n",
       "      <td>...</td>\n",
       "      <td>...</td>\n",
       "      <td>...</td>\n",
       "      <td>...</td>\n",
       "      <td>...</td>\n",
       "    </tr>\n",
       "    <tr>\n",
       "      <th rowspan=\"5\" valign=\"top\">early</th>\n",
       "      <th>115174</th>\n",
       "      <td>var_word_frequency</td>\n",
       "      <td>9</td>\n",
       "      <td>10</td>\n",
       "      <td>0.078125</td>\n",
       "      <td>D19</td>\n",
       "      <td>D19</td>\n",
       "      <td>1</td>\n",
       "      <td>-0.000477</td>\n",
       "      <td>var_word_frequency_2</td>\n",
       "      <td>2.985122</td>\n",
       "      <td>0.243671</td>\n",
       "    </tr>\n",
       "    <tr>\n",
       "      <th>115175</th>\n",
       "      <td>var_word_frequency</td>\n",
       "      <td>9</td>\n",
       "      <td>10</td>\n",
       "      <td>0.078125</td>\n",
       "      <td>D19</td>\n",
       "      <td>D19</td>\n",
       "      <td>2</td>\n",
       "      <td>-0.000292</td>\n",
       "      <td>var_word_frequency_3</td>\n",
       "      <td>4.867740</td>\n",
       "      <td>0.119510</td>\n",
       "    </tr>\n",
       "    <tr>\n",
       "      <th>173861</th>\n",
       "      <td>var_word_surprisal</td>\n",
       "      <td>9</td>\n",
       "      <td>1</td>\n",
       "      <td>0.007812</td>\n",
       "      <td>D19</td>\n",
       "      <td>D19</td>\n",
       "      <td>0</td>\n",
       "      <td>-0.000390</td>\n",
       "      <td>var_word_surprisal_1</td>\n",
       "      <td>1.337720</td>\n",
       "      <td>0.552296</td>\n",
       "    </tr>\n",
       "    <tr>\n",
       "      <th>173862</th>\n",
       "      <td>var_word_surprisal</td>\n",
       "      <td>9</td>\n",
       "      <td>1</td>\n",
       "      <td>0.007812</td>\n",
       "      <td>D19</td>\n",
       "      <td>D19</td>\n",
       "      <td>1</td>\n",
       "      <td>-0.000461</td>\n",
       "      <td>var_word_surprisal_2</td>\n",
       "      <td>2.985122</td>\n",
       "      <td>0.243671</td>\n",
       "    </tr>\n",
       "    <tr>\n",
       "      <th>174247</th>\n",
       "      <td>var_word_surprisal</td>\n",
       "      <td>9</td>\n",
       "      <td>13</td>\n",
       "      <td>0.101562</td>\n",
       "      <td>D19</td>\n",
       "      <td>D19</td>\n",
       "      <td>2</td>\n",
       "      <td>0.000476</td>\n",
       "      <td>var_word_surprisal_3</td>\n",
       "      <td>4.867740</td>\n",
       "      <td>0.119510</td>\n",
       "    </tr>\n",
       "  </tbody>\n",
       "</table>\n",
       "<p>4104 rows × 11 columns</p>\n",
       "</div>"
      ],
      "text/plain": [
       "                     base_predictor subject  lag  epoch_time sensor  \\\n",
       "toi                                                                   \n",
       "n125  329     var_recognition_onset       1   10    0.078125    A19   \n",
       "      330     var_recognition_onset       1   10    0.078125    A19   \n",
       "      331     var_recognition_onset       1   10    0.078125    A19   \n",
       "      59561      var_word_frequency       1   18    0.140625    A19   \n",
       "      59594      var_word_frequency       1   19    0.148438    A19   \n",
       "...                             ...     ...  ...         ...    ...   \n",
       "early 115174     var_word_frequency       9   10    0.078125    D19   \n",
       "      115175     var_word_frequency       9   10    0.078125    D19   \n",
       "      173861     var_word_surprisal       9    1    0.007812    D19   \n",
       "      173862     var_word_surprisal       9    1    0.007812    D19   \n",
       "      174247     var_word_surprisal       9   13    0.101562    D19   \n",
       "\n",
       "             sensor_name  quantile      coef           predictor_name  \\\n",
       "toi                                                                     \n",
       "n125  329            A19         0 -0.000173  var_recognition_onset_1   \n",
       "      330            A19         1 -0.000164  var_recognition_onset_2   \n",
       "      331            A19         2 -0.000152  var_recognition_onset_3   \n",
       "      59561          A19         0 -0.000266     var_word_frequency_1   \n",
       "      59594          A19         1 -0.000161     var_word_frequency_2   \n",
       "...                  ...       ...       ...                      ...   \n",
       "early 115174         D19         1 -0.000477     var_word_frequency_2   \n",
       "      115175         D19         2 -0.000292     var_word_frequency_3   \n",
       "      173861         D19         0 -0.000390     var_word_surprisal_1   \n",
       "      173862         D19         1 -0.000461     var_word_surprisal_2   \n",
       "      174247         D19         2  0.000476     var_word_surprisal_3   \n",
       "\n",
       "              mean_surprisal  mean_probability  \n",
       "toi                                             \n",
       "n125  329           1.337720          0.552296  \n",
       "      330           2.985122          0.243671  \n",
       "      331           4.867740          0.119510  \n",
       "      59561         1.337720          0.552296  \n",
       "      59594         2.985122          0.243671  \n",
       "...                      ...               ...  \n",
       "early 115174        2.985122          0.243671  \n",
       "      115175        4.867740          0.119510  \n",
       "      173861        1.337720          0.552296  \n",
       "      173862        2.985122          0.243671  \n",
       "      174247        4.867740          0.119510  \n",
       "\n",
       "[4104 rows x 11 columns]"
      ]
     },
     "execution_count": 82,
     "metadata": {},
     "output_type": "execute_result"
    }
   ],
   "source": [
    "roi_df = {}\n",
    "\n",
    "for label, tstart, tend, agg in temporal_rois:\n",
    "    sub_comb_df = coef_agg_df[coef_agg_df.epoch_time.between(tstart, tend)]\n",
    "    roi_df[label] = sub_comb_df.loc[sub_comb_df.groupby([\"subject\", \"sensor\", \"predictor_name\", \"quantile\"]).coef.agg(agg)]\n",
    "    \n",
    "roi_df = pd.concat(roi_df, names=[\"toi\"])\n",
    "roi_df[\"mean_surprisal\"] = roi_df[\"quantile\"].map(surprisal_quantile_means)\n",
    "roi_df[\"mean_probability\"] = roi_df[\"quantile\"].map(probability_quantile_means)\n",
    "roi_df"
   ]
  },
  {
   "cell_type": "code",
   "execution_count": 83,
   "id": "4459bd79-f267-451b-9c4c-e8684a3a5035",
   "metadata": {},
   "outputs": [],
   "source": [
    "# # g = sns.lmplot(data=roi_df.reset_index(), x=\"mean_surprisal\", y=\"coef\", row=\"toi\", hue=\"subject\", scatter=False,\n",
    "# #                line_kws={\"alpha\": 0.2}, ci=None, height=6, aspect=2, facet_kws=dict(sharey=False))\n",
    "# g = sns.FacetGrid(data=roi_df[roi_df.base_predictor == \"var_word_surprisal\"].reset_index(), col=\"toi\", row=\"sensor\",\n",
    "#                   height=6, aspect=1, sharey=False)\n",
    "# g.map_dataframe(sns.lineplot, \"mean_surprisal\", \"coef\")\n",
    "# g.map_dataframe(lambda **kwargs: sns.lineplot(data=kwargs[\"data\"], x=\"mean_surprisal\", y=\"coef\", hue=\"subject\",\n",
    "#                                               alpha=0.5, errorbar=None))"
   ]
  },
  {
   "cell_type": "code",
   "execution_count": 84,
   "id": "77c4edf7-e9ae-40a7-b793-51afa72c5ee2",
   "metadata": {},
   "outputs": [],
   "source": [
    "# # g = sns.lmplot(data=roi_df.reset_index(), x=\"mean_surprisal\", y=\"coef\", row=\"toi\", hue=\"subject\", scatter=False,\n",
    "# #                line_kws={\"alpha\": 0.2}, ci=None, height=6, aspect=2, facet_kws=dict(sharey=False))\n",
    "# g = sns.FacetGrid(data=roi_df[roi_df.base_predictor == \"var_word_surprisal\"].reset_index(), col=\"toi\", row=\"sensor\",\n",
    "#                   height=6, aspect=1, sharey=False)\n",
    "# g.map_dataframe(sns.lineplot, \"mean_probability\", \"coef\")\n",
    "# g.map_dataframe(lambda **kwargs: sns.lineplot(data=kwargs[\"data\"], x=\"mean_probability\", y=\"coef\", hue=\"subject\",\n",
    "#                                               alpha=0.5, errorbar=None))"
   ]
  },
  {
   "cell_type": "markdown",
   "id": "b1cf95db-11e1-41fe-bf4d-72df0924c954",
   "metadata": {},
   "source": [
    "## Quantitative test: regression"
   ]
  },
  {
   "cell_type": "code",
   "execution_count": 85,
   "id": "0275b1fc-3c1f-49e8-b118-d2e7af3f1a2c",
   "metadata": {},
   "outputs": [],
   "source": [
    "import statsmodels.api as sm"
   ]
  },
  {
   "cell_type": "markdown",
   "id": "b75f5772-bc7b-4ebd-8655-8ed32e2fe7ac",
   "metadata": {},
   "source": [
    "## Quantitative test: amplitude difference between peaks per quantile"
   ]
  },
  {
   "cell_type": "code",
   "execution_count": 86,
   "id": "84d03994-186e-448c-82fe-9895cc1845be",
   "metadata": {},
   "outputs": [],
   "source": [
    "test_df = roi_df.reset_index().set_index([\"quantile\", \"base_predictor\", \"toi\", \"subject\", \"sensor\"])\n",
    "qmin, qmax = 0, roi_df[\"quantile\"].max()\n",
    "diff_df = test_df.loc[qmax].coef - test_df.loc[qmin].coef"
   ]
  },
  {
   "cell_type": "code",
   "execution_count": 87,
   "id": "f39f498f-c141-4a98-91ec-6966a006f390",
   "metadata": {},
   "outputs": [
    {
     "data": {
      "text/html": [
       "<div>\n",
       "<style scoped>\n",
       "    .dataframe tbody tr th:only-of-type {\n",
       "        vertical-align: middle;\n",
       "    }\n",
       "\n",
       "    .dataframe tbody tr th {\n",
       "        vertical-align: top;\n",
       "    }\n",
       "\n",
       "    .dataframe thead th {\n",
       "        text-align: right;\n",
       "    }\n",
       "</style>\n",
       "<table border=\"1\" class=\"dataframe\">\n",
       "  <thead>\n",
       "    <tr style=\"text-align: right;\">\n",
       "      <th></th>\n",
       "      <th></th>\n",
       "      <th></th>\n",
       "      <th></th>\n",
       "      <th></th>\n",
       "      <th>level_1</th>\n",
       "      <th>lag</th>\n",
       "      <th>epoch_time</th>\n",
       "      <th>sensor_name</th>\n",
       "      <th>coef</th>\n",
       "      <th>predictor_name</th>\n",
       "      <th>mean_surprisal</th>\n",
       "      <th>mean_probability</th>\n",
       "    </tr>\n",
       "    <tr>\n",
       "      <th>quantile</th>\n",
       "      <th>base_predictor</th>\n",
       "      <th>toi</th>\n",
       "      <th>subject</th>\n",
       "      <th>sensor</th>\n",
       "      <th></th>\n",
       "      <th></th>\n",
       "      <th></th>\n",
       "      <th></th>\n",
       "      <th></th>\n",
       "      <th></th>\n",
       "      <th></th>\n",
       "      <th></th>\n",
       "    </tr>\n",
       "  </thead>\n",
       "  <tbody>\n",
       "    <tr>\n",
       "      <th>0</th>\n",
       "      <th>var_recognition_onset</th>\n",
       "      <th>n125</th>\n",
       "      <th>1</th>\n",
       "      <th>A19</th>\n",
       "      <td>329</td>\n",
       "      <td>10</td>\n",
       "      <td>0.078125</td>\n",
       "      <td>A19</td>\n",
       "      <td>-0.000173</td>\n",
       "      <td>var_recognition_onset_1</td>\n",
       "      <td>1.337720</td>\n",
       "      <td>0.552296</td>\n",
       "    </tr>\n",
       "    <tr>\n",
       "      <th>1</th>\n",
       "      <th>var_recognition_onset</th>\n",
       "      <th>n125</th>\n",
       "      <th>1</th>\n",
       "      <th>A19</th>\n",
       "      <td>330</td>\n",
       "      <td>10</td>\n",
       "      <td>0.078125</td>\n",
       "      <td>A19</td>\n",
       "      <td>-0.000164</td>\n",
       "      <td>var_recognition_onset_2</td>\n",
       "      <td>2.985122</td>\n",
       "      <td>0.243671</td>\n",
       "    </tr>\n",
       "    <tr>\n",
       "      <th>2</th>\n",
       "      <th>var_recognition_onset</th>\n",
       "      <th>n125</th>\n",
       "      <th>1</th>\n",
       "      <th>A19</th>\n",
       "      <td>331</td>\n",
       "      <td>10</td>\n",
       "      <td>0.078125</td>\n",
       "      <td>A19</td>\n",
       "      <td>-0.000152</td>\n",
       "      <td>var_recognition_onset_3</td>\n",
       "      <td>4.867740</td>\n",
       "      <td>0.119510</td>\n",
       "    </tr>\n",
       "    <tr>\n",
       "      <th>0</th>\n",
       "      <th>var_word_frequency</th>\n",
       "      <th>n125</th>\n",
       "      <th>1</th>\n",
       "      <th>A19</th>\n",
       "      <td>59561</td>\n",
       "      <td>18</td>\n",
       "      <td>0.140625</td>\n",
       "      <td>A19</td>\n",
       "      <td>-0.000266</td>\n",
       "      <td>var_word_frequency_1</td>\n",
       "      <td>1.337720</td>\n",
       "      <td>0.552296</td>\n",
       "    </tr>\n",
       "    <tr>\n",
       "      <th rowspan=\"3\" valign=\"top\">1</th>\n",
       "      <th rowspan=\"3\" valign=\"top\">var_word_frequency</th>\n",
       "      <th>n125</th>\n",
       "      <th>1</th>\n",
       "      <th>A19</th>\n",
       "      <td>59594</td>\n",
       "      <td>19</td>\n",
       "      <td>0.148438</td>\n",
       "      <td>A19</td>\n",
       "      <td>-0.000161</td>\n",
       "      <td>var_word_frequency_2</td>\n",
       "      <td>2.985122</td>\n",
       "      <td>0.243671</td>\n",
       "    </tr>\n",
       "    <tr>\n",
       "      <th>...</th>\n",
       "      <th>...</th>\n",
       "      <th>...</th>\n",
       "      <td>...</td>\n",
       "      <td>...</td>\n",
       "      <td>...</td>\n",
       "      <td>...</td>\n",
       "      <td>...</td>\n",
       "      <td>...</td>\n",
       "      <td>...</td>\n",
       "      <td>...</td>\n",
       "    </tr>\n",
       "    <tr>\n",
       "      <th>early</th>\n",
       "      <th>9</th>\n",
       "      <th>D19</th>\n",
       "      <td>115174</td>\n",
       "      <td>10</td>\n",
       "      <td>0.078125</td>\n",
       "      <td>D19</td>\n",
       "      <td>-0.000477</td>\n",
       "      <td>var_word_frequency_2</td>\n",
       "      <td>2.985122</td>\n",
       "      <td>0.243671</td>\n",
       "    </tr>\n",
       "    <tr>\n",
       "      <th>2</th>\n",
       "      <th>var_word_frequency</th>\n",
       "      <th>early</th>\n",
       "      <th>9</th>\n",
       "      <th>D19</th>\n",
       "      <td>115175</td>\n",
       "      <td>10</td>\n",
       "      <td>0.078125</td>\n",
       "      <td>D19</td>\n",
       "      <td>-0.000292</td>\n",
       "      <td>var_word_frequency_3</td>\n",
       "      <td>4.867740</td>\n",
       "      <td>0.119510</td>\n",
       "    </tr>\n",
       "    <tr>\n",
       "      <th>0</th>\n",
       "      <th>var_word_surprisal</th>\n",
       "      <th>early</th>\n",
       "      <th>9</th>\n",
       "      <th>D19</th>\n",
       "      <td>173861</td>\n",
       "      <td>1</td>\n",
       "      <td>0.007812</td>\n",
       "      <td>D19</td>\n",
       "      <td>-0.000390</td>\n",
       "      <td>var_word_surprisal_1</td>\n",
       "      <td>1.337720</td>\n",
       "      <td>0.552296</td>\n",
       "    </tr>\n",
       "    <tr>\n",
       "      <th>1</th>\n",
       "      <th>var_word_surprisal</th>\n",
       "      <th>early</th>\n",
       "      <th>9</th>\n",
       "      <th>D19</th>\n",
       "      <td>173862</td>\n",
       "      <td>1</td>\n",
       "      <td>0.007812</td>\n",
       "      <td>D19</td>\n",
       "      <td>-0.000461</td>\n",
       "      <td>var_word_surprisal_2</td>\n",
       "      <td>2.985122</td>\n",
       "      <td>0.243671</td>\n",
       "    </tr>\n",
       "    <tr>\n",
       "      <th>2</th>\n",
       "      <th>var_word_surprisal</th>\n",
       "      <th>early</th>\n",
       "      <th>9</th>\n",
       "      <th>D19</th>\n",
       "      <td>174247</td>\n",
       "      <td>13</td>\n",
       "      <td>0.101562</td>\n",
       "      <td>D19</td>\n",
       "      <td>0.000476</td>\n",
       "      <td>var_word_surprisal_3</td>\n",
       "      <td>4.867740</td>\n",
       "      <td>0.119510</td>\n",
       "    </tr>\n",
       "  </tbody>\n",
       "</table>\n",
       "<p>4104 rows × 8 columns</p>\n",
       "</div>"
      ],
      "text/plain": [
       "                                                     level_1  lag  epoch_time  \\\n",
       "quantile base_predictor        toi   subject sensor                             \n",
       "0        var_recognition_onset n125  1       A19         329   10    0.078125   \n",
       "1        var_recognition_onset n125  1       A19         330   10    0.078125   \n",
       "2        var_recognition_onset n125  1       A19         331   10    0.078125   \n",
       "0        var_word_frequency    n125  1       A19       59561   18    0.140625   \n",
       "1        var_word_frequency    n125  1       A19       59594   19    0.148438   \n",
       "...                                                      ...  ...         ...   \n",
       "                               early 9       D19      115174   10    0.078125   \n",
       "2        var_word_frequency    early 9       D19      115175   10    0.078125   \n",
       "0        var_word_surprisal    early 9       D19      173861    1    0.007812   \n",
       "1        var_word_surprisal    early 9       D19      173862    1    0.007812   \n",
       "2        var_word_surprisal    early 9       D19      174247   13    0.101562   \n",
       "\n",
       "                                                    sensor_name      coef  \\\n",
       "quantile base_predictor        toi   subject sensor                         \n",
       "0        var_recognition_onset n125  1       A19            A19 -0.000173   \n",
       "1        var_recognition_onset n125  1       A19            A19 -0.000164   \n",
       "2        var_recognition_onset n125  1       A19            A19 -0.000152   \n",
       "0        var_word_frequency    n125  1       A19            A19 -0.000266   \n",
       "1        var_word_frequency    n125  1       A19            A19 -0.000161   \n",
       "...                                                         ...       ...   \n",
       "                               early 9       D19            D19 -0.000477   \n",
       "2        var_word_frequency    early 9       D19            D19 -0.000292   \n",
       "0        var_word_surprisal    early 9       D19            D19 -0.000390   \n",
       "1        var_word_surprisal    early 9       D19            D19 -0.000461   \n",
       "2        var_word_surprisal    early 9       D19            D19  0.000476   \n",
       "\n",
       "                                                              predictor_name  \\\n",
       "quantile base_predictor        toi   subject sensor                            \n",
       "0        var_recognition_onset n125  1       A19     var_recognition_onset_1   \n",
       "1        var_recognition_onset n125  1       A19     var_recognition_onset_2   \n",
       "2        var_recognition_onset n125  1       A19     var_recognition_onset_3   \n",
       "0        var_word_frequency    n125  1       A19        var_word_frequency_1   \n",
       "1        var_word_frequency    n125  1       A19        var_word_frequency_2   \n",
       "...                                                                      ...   \n",
       "                               early 9       D19        var_word_frequency_2   \n",
       "2        var_word_frequency    early 9       D19        var_word_frequency_3   \n",
       "0        var_word_surprisal    early 9       D19        var_word_surprisal_1   \n",
       "1        var_word_surprisal    early 9       D19        var_word_surprisal_2   \n",
       "2        var_word_surprisal    early 9       D19        var_word_surprisal_3   \n",
       "\n",
       "                                                     mean_surprisal  \\\n",
       "quantile base_predictor        toi   subject sensor                   \n",
       "0        var_recognition_onset n125  1       A19           1.337720   \n",
       "1        var_recognition_onset n125  1       A19           2.985122   \n",
       "2        var_recognition_onset n125  1       A19           4.867740   \n",
       "0        var_word_frequency    n125  1       A19           1.337720   \n",
       "1        var_word_frequency    n125  1       A19           2.985122   \n",
       "...                                                             ...   \n",
       "                               early 9       D19           2.985122   \n",
       "2        var_word_frequency    early 9       D19           4.867740   \n",
       "0        var_word_surprisal    early 9       D19           1.337720   \n",
       "1        var_word_surprisal    early 9       D19           2.985122   \n",
       "2        var_word_surprisal    early 9       D19           4.867740   \n",
       "\n",
       "                                                     mean_probability  \n",
       "quantile base_predictor        toi   subject sensor                    \n",
       "0        var_recognition_onset n125  1       A19             0.552296  \n",
       "1        var_recognition_onset n125  1       A19             0.243671  \n",
       "2        var_recognition_onset n125  1       A19             0.119510  \n",
       "0        var_word_frequency    n125  1       A19             0.552296  \n",
       "1        var_word_frequency    n125  1       A19             0.243671  \n",
       "...                                                               ...  \n",
       "                               early 9       D19             0.243671  \n",
       "2        var_word_frequency    early 9       D19             0.119510  \n",
       "0        var_word_surprisal    early 9       D19             0.552296  \n",
       "1        var_word_surprisal    early 9       D19             0.243671  \n",
       "2        var_word_surprisal    early 9       D19             0.119510  \n",
       "\n",
       "[4104 rows x 8 columns]"
      ]
     },
     "execution_count": 87,
     "metadata": {},
     "output_type": "execute_result"
    }
   ],
   "source": [
    "test_df"
   ]
  },
  {
   "cell_type": "code",
   "execution_count": 88,
   "id": "f6a71887-88dd-46d1-9702-20ce2f85dbad",
   "metadata": {},
   "outputs": [
    {
     "data": {
      "text/plain": [
       "base_predictor         toi    subject  sensor\n",
       "var_recognition_onset  n125   1        A19       0.000021\n",
       "var_word_frequency     n125   1        A19       0.000022\n",
       "var_word_surprisal     n125   1        A19      -0.000083\n",
       "var_recognition_onset  n125   1        A7       -0.000056\n",
       "var_word_frequency     n125   1        A7       -0.000049\n",
       "                                                   ...   \n",
       "                       early  9        C32      -0.000087\n",
       "var_word_surprisal     early  9        C32       0.000169\n",
       "var_recognition_onset  early  9        D19      -0.000239\n",
       "var_word_frequency     early  9        D19      -0.000093\n",
       "var_word_surprisal     early  9        D19       0.000867\n",
       "Name: coef, Length: 1368, dtype: float32"
      ]
     },
     "execution_count": 88,
     "metadata": {},
     "output_type": "execute_result"
    }
   ],
   "source": [
    "diff_df"
   ]
  },
  {
   "cell_type": "markdown",
   "id": "13887497-3546-4024-a84b-9934c9a177b6",
   "metadata": {},
   "source": [
    "### Bootstrap evaluation"
   ]
  },
  {
   "cell_type": "code",
   "execution_count": 89,
   "id": "aab2b0a6-8e84-4048-8f5b-97fbc0b59697",
   "metadata": {},
   "outputs": [
    {
     "data": {
      "text/plain": [
       "toi    sensor\n",
       "early  A19          [6.592825211555464e-05, 0.0004573090649500954]\n",
       "       A7         [-0.0002024043849814916, 0.00038591755655943406]\n",
       "       B22           [0.000296600244473666, 0.0006549475758220068]\n",
       "       B4          [-4.617557260644389e-05, 0.0007536236851592547]\n",
       "       C10         [0.00024256910219264683, 0.0007204838111647404]\n",
       "       C22          [0.00018182148050982505, 0.000640739730442874]\n",
       "       C32          [0.0001330842493189266, 0.0005375696142436936]\n",
       "       D19          [0.0002550027274992317, 0.0006979681784287095]\n",
       "n125   A19          [5.552059865294723e-05, 0.0003821144768153317]\n",
       "       A7          [5.298756941556349e-05, 0.00029472349560819564]\n",
       "       B22         [0.00019919837613997516, 0.0004459355208382476]\n",
       "       B4          [9.870513786154333e-05, 0.00032493927647010424]\n",
       "       C10         [0.00022582978890568485, 0.0004745368896692525]\n",
       "       C22         [3.6022455606143926e-05, 0.0003188771595887373]\n",
       "       C32         [5.9726166455220664e-05, 0.0003600464442570227]\n",
       "       D19          [0.0001776967561454512, 0.0004605202055245172]\n",
       "n400   A19       [-0.00045950418425491076, -0.00021313235156412...\n",
       "       A7        [-0.0005043459619628266, -0.00019838145854009782]\n",
       "       B22       [-0.00040362505897064695, -0.00013501076900865...\n",
       "       B4        [-0.00044262604278628715, -0.00020454700861591...\n",
       "       C10        [-0.0003193941542122047, -0.0001324220243986929]\n",
       "       C22       [-0.0005684306641342118, -0.00022542086735484194]\n",
       "       C32       [-0.00039273018337553366, -0.00011305412572255...\n",
       "       D19       [-0.00048705807930673475, -0.0001920387767313514]\n",
       "Name: coef, dtype: object"
      ]
     },
     "execution_count": 89,
     "metadata": {},
     "output_type": "execute_result"
    }
   ],
   "source": [
    "diff_df.loc[\"var_word_surprisal\"] \\\n",
    "    .groupby([\"toi\", \"sensor\"]).apply(lambda rows: np.quantile(sns.algorithms.bootstrap(rows.values), (.025, 0.975)))"
   ]
  },
  {
   "cell_type": "code",
   "execution_count": 90,
   "id": "22936752-0645-4c41-b03f-93718a40a502",
   "metadata": {},
   "outputs": [],
   "source": [
    "bootstrap_df = diff_df.loc[\"var_word_surprisal\"] \\\n",
    "    .groupby([\"sensor\", \"toi\"]).apply(lambda rows: pd.Series(sns.algorithms.bootstrap(rows.values))).droplevel(-1).reset_index()"
   ]
  },
  {
   "cell_type": "code",
   "execution_count": 91,
   "id": "2e9c9be1-fc6e-43b9-b6e0-c74ecb98a4c1",
   "metadata": {},
   "outputs": [
    {
     "data": {
      "text/plain": [
       "<matplotlib.lines.Line2D at 0x2b48de250c40>"
      ]
     },
     "execution_count": 91,
     "metadata": {},
     "output_type": "execute_result"
    },
    {
     "data": {
      "image/png": "[encoded data removed]",
      "text/plain": [
       "<Figure size 720x504 with 1 Axes>"
      ]
     },
     "metadata": {
      "needs_background": "light"
     },
     "output_type": "display_data"
    }
   ],
   "source": [
    "f, ax = plt.subplots(figsize=(10, 7))\n",
    "sns.boxplot(data=bootstrap_df, x=\"toi\", y=\"coef\", hue=\"sensor\", ax=ax)\n",
    "ax.axhline(0, color=\"gray\")"
   ]
  },
  {
   "cell_type": "markdown",
   "id": "2db84053-48cd-41b6-acd4-5cc947f1ea00",
   "metadata": {},
   "source": [
    "### t-test"
   ]
  },
  {
   "cell_type": "code",
   "execution_count": 92,
   "id": "73e5580d-c0be-4119-9c46-88fe1bc73ef6",
   "metadata": {},
   "outputs": [
    {
     "data": {
      "text/plain": [
       "base_predictor         toi  \n",
       "var_word_surprisal     n400       (-12.099558795742853, 5.4744907290079e-24)\n",
       "var_word_frequency     n400     (-9.992752798904885, 2.3114957920248685e-18)\n",
       "var_recognition_onset  early     (-5.223716711899568, 5.727849513760745e-07)\n",
       "                       n400      (-4.157689856605815, 5.369779239140438e-05)\n",
       "                       n125        (-1.2421872645487118, 0.2160932489922622)\n",
       "var_word_frequency     early      (4.031742209915728, 8.756311413086505e-05)\n",
       "                       n125       (4.578791187624348, 9.709314201056267e-06)\n",
       "var_word_surprisal     early     (7.707769237735448, 1.5874125315138692e-12)\n",
       "                       n125       (9.69821801104842, 1.3757202334106578e-17)\n",
       "Name: coef, dtype: object"
      ]
     },
     "execution_count": 92,
     "metadata": {},
     "output_type": "execute_result"
    }
   ],
   "source": [
    "diff_df.groupby([\"base_predictor\", \"toi\"]).apply(lambda xs: st.ttest_1samp(xs, 0)).sort_values()"
   ]
  },
  {
   "cell_type": "code",
   "execution_count": 93,
   "id": "8c50ca80-5fe8-4f10-ad7a-00a634470842",
   "metadata": {},
   "outputs": [],
   "source": [
    "ptests = diff_df.groupby([\"base_predictor\", \"toi\", \"sensor\"]).apply(lambda xs: st.ttest_1samp(xs, 0))"
   ]
  },
  {
   "cell_type": "code",
   "execution_count": 94,
   "id": "4ca4be72-416b-4682-9140-dddb7ddecd52",
   "metadata": {},
   "outputs": [
    {
     "data": {
      "text/plain": [
       "base_predictor      toi    sensor\n",
       "var_word_surprisal  n125   D19        (4.212755313931063, 0.0005231839117223286)\n",
       "                           C10       (5.442049475870561, 3.6030820316757886e-05)\n",
       "                    n400   A19       (-5.144642432968741, 6.795834398690991e-05)\n",
       "                    early  C10        (3.775457534323112, 0.0013851063626927015)\n",
       "Name: coef, dtype: object"
      ]
     },
     "execution_count": 94,
     "metadata": {},
     "output_type": "execute_result"
    }
   ],
   "source": [
    "# Peek ONLY at the cases which we selected from the clustering analysis.\n",
    "ptests.loc[a_priori_interest]"
   ]
  },
  {
   "cell_type": "markdown",
   "id": "d3335235-2c7a-460d-9bda-3e06a99a4d59",
   "metadata": {},
   "source": [
    "## Quantitative test: latency-to-peak difference per quantile"
   ]
  },
  {
   "cell_type": "code",
   "execution_count": 95,
   "id": "f6120b87-e583-44e6-a956-49238760749d",
   "metadata": {},
   "outputs": [],
   "source": [
    "latency_df = roi_df.reset_index().set_index([\"base_predictor\", \"toi\", \"sensor\", \"quantile\", \"subject\"]).sort_index()"
   ]
  },
  {
   "cell_type": "code",
   "execution_count": 96,
   "id": "d0934d04-c3ec-490b-8ca4-1acdb1a002c4",
   "metadata": {},
   "outputs": [
    {
     "data": {
      "text/html": [
       "<div>\n",
       "<style scoped>\n",
       "    .dataframe tbody tr th:only-of-type {\n",
       "        vertical-align: middle;\n",
       "    }\n",
       "\n",
       "    .dataframe tbody tr th {\n",
       "        vertical-align: top;\n",
       "    }\n",
       "\n",
       "    .dataframe thead th {\n",
       "        text-align: right;\n",
       "    }\n",
       "</style>\n",
       "<table border=\"1\" class=\"dataframe\">\n",
       "  <thead>\n",
       "    <tr style=\"text-align: right;\">\n",
       "      <th></th>\n",
       "      <th></th>\n",
       "      <th></th>\n",
       "      <th></th>\n",
       "      <th></th>\n",
       "      <th>level_1</th>\n",
       "      <th>lag</th>\n",
       "      <th>epoch_time</th>\n",
       "      <th>sensor_name</th>\n",
       "      <th>coef</th>\n",
       "      <th>predictor_name</th>\n",
       "      <th>mean_surprisal</th>\n",
       "      <th>mean_probability</th>\n",
       "    </tr>\n",
       "    <tr>\n",
       "      <th>quantile</th>\n",
       "      <th>predictor</th>\n",
       "      <th>toi</th>\n",
       "      <th>sensor</th>\n",
       "      <th>subject</th>\n",
       "      <th></th>\n",
       "      <th></th>\n",
       "      <th></th>\n",
       "      <th></th>\n",
       "      <th></th>\n",
       "      <th></th>\n",
       "      <th></th>\n",
       "      <th></th>\n",
       "    </tr>\n",
       "  </thead>\n",
       "  <tbody>\n",
       "    <tr>\n",
       "      <th rowspan=\"5\" valign=\"top\">0</th>\n",
       "      <th rowspan=\"5\" valign=\"top\">var_word_surprisal</th>\n",
       "      <th rowspan=\"5\" valign=\"top\">early</th>\n",
       "      <th rowspan=\"5\" valign=\"top\">C10</th>\n",
       "      <th>1</th>\n",
       "      <td>118577</td>\n",
       "      <td>19</td>\n",
       "      <td>0.148438</td>\n",
       "      <td>C10</td>\n",
       "      <td>0.000500</td>\n",
       "      <td>var_word_surprisal_1</td>\n",
       "      <td>1.33772</td>\n",
       "      <td>0.552296</td>\n",
       "    </tr>\n",
       "    <tr>\n",
       "      <th>10</th>\n",
       "      <td>121649</td>\n",
       "      <td>18</td>\n",
       "      <td>0.140625</td>\n",
       "      <td>C10</td>\n",
       "      <td>0.000447</td>\n",
       "      <td>var_word_surprisal_1</td>\n",
       "      <td>1.33772</td>\n",
       "      <td>0.552296</td>\n",
       "    </tr>\n",
       "    <tr>\n",
       "      <th>11</th>\n",
       "      <td>124657</td>\n",
       "      <td>15</td>\n",
       "      <td>0.117188</td>\n",
       "      <td>C10</td>\n",
       "      <td>-0.000837</td>\n",
       "      <td>var_word_surprisal_1</td>\n",
       "      <td>1.33772</td>\n",
       "      <td>0.552296</td>\n",
       "    </tr>\n",
       "    <tr>\n",
       "      <th>12</th>\n",
       "      <td>127537</td>\n",
       "      <td>8</td>\n",
       "      <td>0.062500</td>\n",
       "      <td>C10</td>\n",
       "      <td>-0.000532</td>\n",
       "      <td>var_word_surprisal_1</td>\n",
       "      <td>1.33772</td>\n",
       "      <td>0.552296</td>\n",
       "    </tr>\n",
       "    <tr>\n",
       "      <th>13</th>\n",
       "      <td>130385</td>\n",
       "      <td>0</td>\n",
       "      <td>0.000000</td>\n",
       "      <td>C10</td>\n",
       "      <td>0.000200</td>\n",
       "      <td>var_word_surprisal_1</td>\n",
       "      <td>1.33772</td>\n",
       "      <td>0.552296</td>\n",
       "    </tr>\n",
       "    <tr>\n",
       "      <th>...</th>\n",
       "      <th>...</th>\n",
       "      <th>...</th>\n",
       "      <th>...</th>\n",
       "      <th>...</th>\n",
       "      <td>...</td>\n",
       "      <td>...</td>\n",
       "      <td>...</td>\n",
       "      <td>...</td>\n",
       "      <td>...</td>\n",
       "      <td>...</td>\n",
       "      <td>...</td>\n",
       "      <td>...</td>\n",
       "    </tr>\n",
       "    <tr>\n",
       "      <th rowspan=\"5\" valign=\"top\">2</th>\n",
       "      <th rowspan=\"5\" valign=\"top\">var_word_surprisal</th>\n",
       "      <th rowspan=\"5\" valign=\"top\">n400</th>\n",
       "      <th rowspan=\"5\" valign=\"top\">A19</th>\n",
       "      <th>5</th>\n",
       "      <td>163339</td>\n",
       "      <td>60</td>\n",
       "      <td>0.468750</td>\n",
       "      <td>A19</td>\n",
       "      <td>-0.001069</td>\n",
       "      <td>var_word_surprisal_3</td>\n",
       "      <td>4.86774</td>\n",
       "      <td>0.119510</td>\n",
       "    </tr>\n",
       "    <tr>\n",
       "      <th>6</th>\n",
       "      <td>166219</td>\n",
       "      <td>53</td>\n",
       "      <td>0.414062</td>\n",
       "      <td>A19</td>\n",
       "      <td>-0.001036</td>\n",
       "      <td>var_word_surprisal_3</td>\n",
       "      <td>4.86774</td>\n",
       "      <td>0.119510</td>\n",
       "    </tr>\n",
       "    <tr>\n",
       "      <th>7</th>\n",
       "      <td>169227</td>\n",
       "      <td>50</td>\n",
       "      <td>0.390625</td>\n",
       "      <td>A19</td>\n",
       "      <td>-0.001496</td>\n",
       "      <td>var_word_surprisal_3</td>\n",
       "      <td>4.86774</td>\n",
       "      <td>0.119510</td>\n",
       "    </tr>\n",
       "    <tr>\n",
       "      <th>8</th>\n",
       "      <td>172363</td>\n",
       "      <td>51</td>\n",
       "      <td>0.398438</td>\n",
       "      <td>A19</td>\n",
       "      <td>-0.002247</td>\n",
       "      <td>var_word_surprisal_3</td>\n",
       "      <td>4.86774</td>\n",
       "      <td>0.119510</td>\n",
       "    </tr>\n",
       "    <tr>\n",
       "      <th>9</th>\n",
       "      <td>175147</td>\n",
       "      <td>41</td>\n",
       "      <td>0.320312</td>\n",
       "      <td>A19</td>\n",
       "      <td>-0.001644</td>\n",
       "      <td>var_word_surprisal_3</td>\n",
       "      <td>4.86774</td>\n",
       "      <td>0.119510</td>\n",
       "    </tr>\n",
       "  </tbody>\n",
       "</table>\n",
       "<p>152 rows × 8 columns</p>\n",
       "</div>"
      ],
      "text/plain": [
       "                                                  level_1  lag  epoch_time  \\\n",
       "quantile predictor          toi   sensor subject                             \n",
       "0        var_word_surprisal early C10    1         118577   19    0.148438   \n",
       "                                         10        121649   18    0.140625   \n",
       "                                         11        124657   15    0.117188   \n",
       "                                         12        127537    8    0.062500   \n",
       "                                         13        130385    0    0.000000   \n",
       "...                                                   ...  ...         ...   \n",
       "2        var_word_surprisal n400  A19    5         163339   60    0.468750   \n",
       "                                         6         166219   53    0.414062   \n",
       "                                         7         169227   50    0.390625   \n",
       "                                         8         172363   51    0.398438   \n",
       "                                         9         175147   41    0.320312   \n",
       "\n",
       "                                                 sensor_name      coef  \\\n",
       "quantile predictor          toi   sensor subject                         \n",
       "0        var_word_surprisal early C10    1               C10  0.000500   \n",
       "                                         10              C10  0.000447   \n",
       "                                         11              C10 -0.000837   \n",
       "                                         12              C10 -0.000532   \n",
       "                                         13              C10  0.000200   \n",
       "...                                                      ...       ...   \n",
       "2        var_word_surprisal n400  A19    5               A19 -0.001069   \n",
       "                                         6               A19 -0.001036   \n",
       "                                         7               A19 -0.001496   \n",
       "                                         8               A19 -0.002247   \n",
       "                                         9               A19 -0.001644   \n",
       "\n",
       "                                                        predictor_name  \\\n",
       "quantile predictor          toi   sensor subject                         \n",
       "0        var_word_surprisal early C10    1        var_word_surprisal_1   \n",
       "                                         10       var_word_surprisal_1   \n",
       "                                         11       var_word_surprisal_1   \n",
       "                                         12       var_word_surprisal_1   \n",
       "                                         13       var_word_surprisal_1   \n",
       "...                                                                ...   \n",
       "2        var_word_surprisal n400  A19    5        var_word_surprisal_3   \n",
       "                                         6        var_word_surprisal_3   \n",
       "                                         7        var_word_surprisal_3   \n",
       "                                         8        var_word_surprisal_3   \n",
       "                                         9        var_word_surprisal_3   \n",
       "\n",
       "                                                  mean_surprisal  \\\n",
       "quantile predictor          toi   sensor subject                   \n",
       "0        var_word_surprisal early C10    1               1.33772   \n",
       "                                         10              1.33772   \n",
       "                                         11              1.33772   \n",
       "                                         12              1.33772   \n",
       "                                         13              1.33772   \n",
       "...                                                          ...   \n",
       "2        var_word_surprisal n400  A19    5               4.86774   \n",
       "                                         6               4.86774   \n",
       "                                         7               4.86774   \n",
       "                                         8               4.86774   \n",
       "                                         9               4.86774   \n",
       "\n",
       "                                                  mean_probability  \n",
       "quantile predictor          toi   sensor subject                    \n",
       "0        var_word_surprisal early C10    1                0.552296  \n",
       "                                         10               0.552296  \n",
       "                                         11               0.552296  \n",
       "                                         12               0.552296  \n",
       "                                         13               0.552296  \n",
       "...                                                            ...  \n",
       "2        var_word_surprisal n400  A19    5                0.119510  \n",
       "                                         6                0.119510  \n",
       "                                         7                0.119510  \n",
       "                                         8                0.119510  \n",
       "                                         9                0.119510  \n",
       "\n",
       "[152 rows x 8 columns]"
      ]
     },
     "execution_count": 96,
     "metadata": {},
     "output_type": "execute_result"
    }
   ],
   "source": [
    "# Get just the tROIs+sensors+features of interest\n",
    "latency_df = pd.concat({\n",
    "    quantile: pd.concat(\n",
    "        [latency_df.loc[(predictor, toi, sensor, quantile)] for predictor, toi, sensor in a_priori_interest],\n",
    "        names=[\"predictor\", \"toi\", \"sensor\", \"subject\"], keys=a_priori_interest).sort_index()\n",
    "    for quantile in [qmin, qmax]\n",
    "}, names=[\"quantile\"])\n",
    "latency_df"
   ]
  },
  {
   "cell_type": "code",
   "execution_count": 106,
   "id": "6896b76a-c3dd-4509-8f6b-3c4714825e79",
   "metadata": {},
   "outputs": [
    {
     "data": {
      "text/plain": [
       "predictor           toi    sensor  subject\n",
       "var_word_surprisal  early  C10     1          0.000000\n",
       "                                   10        -0.023438\n",
       "                                   11        -0.078125\n",
       "                                   12        -0.062500\n",
       "                                   13         0.078125\n",
       "Name: delta_t, dtype: float64"
      ]
     },
     "execution_count": 106,
     "metadata": {},
     "output_type": "execute_result"
    }
   ],
   "source": [
    "latency_diff_df = ((latency_df.loc[qmax].lag - latency_df.loc[qmin].lag) / pipe.encoder.sfreq).rename(\"delta_t\")\n",
    "latency_diff_df.head()"
   ]
  },
  {
   "cell_type": "code",
   "execution_count": 107,
   "id": "7b4b63fe-3aaa-4e74-8e27-ad2843940948",
   "metadata": {},
   "outputs": [],
   "source": [
    "latency_diff_plot_df = latency_diff_df.reset_index()\n",
    "latency_diff_plot_df[\"label\"] = latency_diff_plot_df.predictor.str.cat([latency_diff_plot_df.toi, latency_diff_plot_df.sensor], sep=\" \")"
   ]
  },
  {
   "cell_type": "code",
   "execution_count": 108,
   "id": "2f92724b-81b8-4336-b102-c9f584376bd2",
   "metadata": {},
   "outputs": [
    {
     "data": {
      "text/html": [
       "<div>\n",
       "<style scoped>\n",
       "    .dataframe tbody tr th:only-of-type {\n",
       "        vertical-align: middle;\n",
       "    }\n",
       "\n",
       "    .dataframe tbody tr th {\n",
       "        vertical-align: top;\n",
       "    }\n",
       "\n",
       "    .dataframe thead th {\n",
       "        text-align: right;\n",
       "    }\n",
       "</style>\n",
       "<table border=\"1\" class=\"dataframe\">\n",
       "  <thead>\n",
       "    <tr style=\"text-align: right;\">\n",
       "      <th></th>\n",
       "      <th>predictor</th>\n",
       "      <th>toi</th>\n",
       "      <th>sensor</th>\n",
       "      <th>subject</th>\n",
       "      <th>delta_t</th>\n",
       "      <th>label</th>\n",
       "    </tr>\n",
       "  </thead>\n",
       "  <tbody>\n",
       "    <tr>\n",
       "      <th>0</th>\n",
       "      <td>var_word_surprisal</td>\n",
       "      <td>early</td>\n",
       "      <td>C10</td>\n",
       "      <td>1</td>\n",
       "      <td>0.000000</td>\n",
       "      <td>var_word_surprisal early C10</td>\n",
       "    </tr>\n",
       "    <tr>\n",
       "      <th>1</th>\n",
       "      <td>var_word_surprisal</td>\n",
       "      <td>early</td>\n",
       "      <td>C10</td>\n",
       "      <td>10</td>\n",
       "      <td>-0.023438</td>\n",
       "      <td>var_word_surprisal early C10</td>\n",
       "    </tr>\n",
       "    <tr>\n",
       "      <th>2</th>\n",
       "      <td>var_word_surprisal</td>\n",
       "      <td>early</td>\n",
       "      <td>C10</td>\n",
       "      <td>11</td>\n",
       "      <td>-0.078125</td>\n",
       "      <td>var_word_surprisal early C10</td>\n",
       "    </tr>\n",
       "    <tr>\n",
       "      <th>3</th>\n",
       "      <td>var_word_surprisal</td>\n",
       "      <td>early</td>\n",
       "      <td>C10</td>\n",
       "      <td>12</td>\n",
       "      <td>-0.062500</td>\n",
       "      <td>var_word_surprisal early C10</td>\n",
       "    </tr>\n",
       "    <tr>\n",
       "      <th>4</th>\n",
       "      <td>var_word_surprisal</td>\n",
       "      <td>early</td>\n",
       "      <td>C10</td>\n",
       "      <td>13</td>\n",
       "      <td>0.078125</td>\n",
       "      <td>var_word_surprisal early C10</td>\n",
       "    </tr>\n",
       "  </tbody>\n",
       "</table>\n",
       "</div>"
      ],
      "text/plain": [
       "            predictor    toi sensor subject   delta_t  \\\n",
       "0  var_word_surprisal  early    C10       1  0.000000   \n",
       "1  var_word_surprisal  early    C10      10 -0.023438   \n",
       "2  var_word_surprisal  early    C10      11 -0.078125   \n",
       "3  var_word_surprisal  early    C10      12 -0.062500   \n",
       "4  var_word_surprisal  early    C10      13  0.078125   \n",
       "\n",
       "                          label  \n",
       "0  var_word_surprisal early C10  \n",
       "1  var_word_surprisal early C10  \n",
       "2  var_word_surprisal early C10  \n",
       "3  var_word_surprisal early C10  \n",
       "4  var_word_surprisal early C10  "
      ]
     },
     "execution_count": 108,
     "metadata": {},
     "output_type": "execute_result"
    }
   ],
   "source": [
    "latency_diff_plot_df.head()"
   ]
  },
  {
   "cell_type": "code",
   "execution_count": 109,
   "id": "f3379525-38d8-4bc0-bcfe-4348a8774ee2",
   "metadata": {},
   "outputs": [
    {
     "data": {
      "text/plain": [
       "<seaborn.axisgrid.FacetGrid at 0x2b48e7e7c8e0>"
      ]
     },
     "execution_count": 109,
     "metadata": {},
     "output_type": "execute_result"
    },
    {
     "data": {
      "image/png": "[encoded data removed]",
      "text/plain": [
       "<Figure size 648x432 with 4 Axes>"
      ]
     },
     "metadata": {
      "needs_background": "light"
     },
     "output_type": "display_data"
    }
   ],
   "source": [
    "g = sns.FacetGrid(data=latency_diff_plot_df, col=\"label\", col_wrap=3)\n",
    "g.map(sns.histplot, \"delta_t\")"
   ]
  },
  {
   "cell_type": "code",
   "execution_count": 110,
   "id": "06270f8c-f591-46d5-8a0b-fff4beae85a5",
   "metadata": {},
   "outputs": [
    {
     "data": {
      "text/plain": [
       "predictor           toi    sensor\n",
       "var_word_surprisal  early  C10       (-1.0578627365978484, 0.30410900004245905)\n",
       "                    n125   C10        (2.2575377095559475, 0.03663594867061983)\n",
       "                           D19        (3.0753463803927366, 0.00652146469347338)\n",
       "                    n400   A19        (1.3906219793143986, 0.18129522425585098)\n",
       "Name: delta_t, dtype: object"
      ]
     },
     "execution_count": 110,
     "metadata": {},
     "output_type": "execute_result"
    }
   ],
   "source": [
    "latency_diff_df.groupby([\"predictor\", \"toi\", \"sensor\"]).apply(\n",
    "    lambda toi_rows: st.ttest_1samp(toi_rows, popmean=0))"
   ]
  }
 ],
 "metadata": {
  "kernelspec": {
   "display_name": "Python 3 (ipykernel)",
   "language": "python",
   "name": "python3"
  },
  "language_info": {
   "codemirror_mode": {
    "name": "ipython",
    "version": 3
   },
   "file_extension": ".py",
   "mimetype": "text/x-python",
   "name": "python",
   "nbconvert_exporter": "python",
   "pygments_lexer": "ipython3",
   "version": "3.9.13"
  }
 },
 "nbformat": 4,
 "nbformat_minor": 5
}
