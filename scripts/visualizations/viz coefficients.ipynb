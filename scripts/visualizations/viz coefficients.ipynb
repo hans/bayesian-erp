{
 "cells": [
  {
   "cell_type": "markdown",
   "id": "40ad5cb0-df3d-46e8-879c-bdd63572cdf8",
   "metadata": {},
   "source": [
    "Visualize learned TRF coefficients."
   ]
  },
  {
   "cell_type": "code",
   "execution_count": null,
   "id": "dcfedcd2-78e4-41b2-ba44-ee3a91c0b129",
   "metadata": {},
   "outputs": [],
   "source": [
    "from argparse import ArgumentParser, Namespace\n",
    "from collections import defaultdict\n",
    "from copy import deepcopy\n",
    "import io\n",
    "from itertools import product\n",
    "from pathlib import Path\n",
    "import pickle\n",
    "import sys\n",
    "\n",
    "from matplotlib.animation import FuncAnimation\n",
    "import matplotlib.pyplot as plt\n",
    "import mne\n",
    "import numpy as np\n",
    "import pandas as pd\n",
    "import seaborn as sns\n",
    "from sklearn.base import clone\n",
    "import torch\n",
    "from tqdm.auto import tqdm, trange"
   ]
  },
  {
   "cell_type": "code",
   "execution_count": null,
   "id": "c0b36899-00d5-46ce-9f81-d58a04737347",
   "metadata": {},
   "outputs": [],
   "source": [
    "import logging\n",
    "L = logging.getLogger(__name__)"
   ]
  },
  {
   "cell_type": "code",
   "execution_count": null,
   "id": "244b5089-539f-41f9-8b31-3eea32bc207a",
   "metadata": {},
   "outputs": [],
   "source": [
    "from IPython.display import HTML"
   ]
  },
  {
   "cell_type": "code",
   "execution_count": null,
   "id": "07addd15-60cc-49c0-8f06-5a7f5b360539",
   "metadata": {},
   "outputs": [],
   "source": [
    "%load_ext autoreload\n",
    "%autoreload 2"
   ]
  },
  {
   "cell_type": "code",
   "execution_count": null,
   "id": "83d2509b-acad-42d9-8d02-91e00cedb84e",
   "metadata": {},
   "outputs": [],
   "source": [
    "sys.path.append(str(Path(\".\").resolve().parent.parent))\n",
    "from berp.models import load_model\n",
    "import berp.models.reindexing_regression as rr\n",
    "from berp.viz.trf import trf_to_dataframe, plot_trf_coefficients\n",
    "from berp.viz.trf_em import pipeline_to_dataframe"
   ]
  },
  {
   "cell_type": "code",
   "execution_count": null,
   "id": "8d27b884-016b-4304-99f3-f141ecc9a181",
   "metadata": {
    "tags": [
     "parameters"
    ]
   },
   "outputs": [],
   "source": [
    "workflow = \"heilbron2022\"\n",
    "model = \"EleutherAI/gpt-neo-2.7B/n10000\"\n",
    "\n",
    "paradigm = \"_wide\"\n",
    "trf_run_name = \"trf-berp-fixed-t075\"\n",
    "\n",
    "plot_kwargs = dict(errorbar=\"se\")"
   ]
  },
  {
   "cell_type": "code",
   "execution_count": null,
   "id": "5d46b64b-b102-4c16-9d43-0d9ec8099674",
   "metadata": {},
   "outputs": [],
   "source": [
    "model_dir = f\"workflow/{workflow}/results{paradigm}/{model}/{trf_run_name}\""
   ]
  },
  {
   "cell_type": "markdown",
   "id": "cc4ba8d8-d19a-41f6-a0ed-2c7e3651bc82",
   "metadata": {},
   "source": [
    "## Load results"
   ]
  },
  {
   "cell_type": "code",
   "execution_count": null,
   "id": "612bbe8b-50a7-48d1-9dfa-985801118cb0",
   "metadata": {},
   "outputs": [],
   "source": [
    "pipe = load_model(model_dir, device=\"cpu\")"
   ]
  },
  {
   "cell_type": "markdown",
   "id": "64f220e7-7a40-4cc7-96b8-a36b693f14ca",
   "metadata": {},
   "source": [
    "## Preprocessing"
   ]
  },
  {
   "cell_type": "code",
   "execution_count": null,
   "id": "63c840ae-3c20-4848-a83e-d3380bbb7853",
   "metadata": {},
   "outputs": [],
   "source": [
    "coef_df = pipeline_to_dataframe(pipe)"
   ]
  },
  {
   "cell_type": "code",
   "execution_count": null,
   "id": "99d41b21-8aeb-4073-ba17-2fd1f34a168c",
   "metadata": {},
   "outputs": [],
   "source": [
    "coef_df"
   ]
  },
  {
   "cell_type": "code",
   "execution_count": null,
   "id": "3a5fc86f-a372-4963-8c28-cbf893e50ff5",
   "metadata": {},
   "outputs": [],
   "source": [
    "coef_df.predictor_name.unique()"
   ]
  },
  {
   "cell_type": "markdown",
   "id": "e3567af1-6f8c-4924-bb4f-9508cc276471",
   "metadata": {},
   "source": [
    "### Recognition-locked responses"
   ]
  },
  {
   "cell_type": "code",
   "execution_count": null,
   "id": "3f188c66-6e9e-45c7-85e1-7bc47c9adff9",
   "metadata": {},
   "outputs": [],
   "source": [
    "sns.set(\"talk\")"
   ]
  },
  {
   "cell_type": "code",
   "execution_count": null,
   "id": "f47405ef-6462-41a6-8ea6-151737f358ef",
   "metadata": {},
   "outputs": [],
   "source": [
    "def plot_variable(data, **kwargs):\n",
    "    plot_trf_coefficients(data, predictor_match_patterns=[\"var_\"], **plot_kwargs)\n",
    "\n",
    "g = sns.FacetGrid(data=coef_df, col=\"sensor_name\", col_wrap=2, height=7,\n",
    "                  sharex=False, sharey=False)\n",
    "g.map_dataframe(plot_variable)\n",
    "g.add_legend()"
   ]
  },
  {
   "cell_type": "markdown",
   "id": "b94cf549-32ec-44b9-9c4c-967cdb344db2",
   "metadata": {},
   "source": [
    "#### Surprisal modulation by subject"
   ]
  },
  {
   "cell_type": "code",
   "execution_count": null,
   "id": "baa56dc0-e8c3-456c-a451-966ba3e7637c",
   "metadata": {},
   "outputs": [],
   "source": [
    "g = sns.FacetGrid(data=coef_df[coef_df.predictor_name == \"var_word_surprisal\"],\n",
    "                  col=\"sensor_name\", col_wrap=2, height=7,\n",
    "                  sharex=False, sharey=False)\n",
    "g.map_dataframe(sns.lineplot, \"epoch_time\", \"coef\", \"subject\", **plot_kwargs)\n",
    "g.add_legend()"
   ]
  },
  {
   "cell_type": "markdown",
   "id": "b26e0a92-d50d-41d6-a637-4a86db53d519",
   "metadata": {},
   "source": [
    "#### Word onset"
   ]
  },
  {
   "cell_type": "code",
   "execution_count": null,
   "id": "cc7e14af-6ede-487a-b680-56ebf89cec2d",
   "metadata": {},
   "outputs": [],
   "source": [
    "sns.set(\"talk\")\n",
    "plt.figure(figsize=(10, 7))\n",
    "plot_trf_coefficients(coef_df, predictor_match_patterns=[\"word_onset\"], **plot_kwargs)\n",
    "plt.title(\"Word onset-locked responses\")\n",
    "None"
   ]
  },
  {
   "cell_type": "code",
   "execution_count": null,
   "id": "f0459814-75d7-4ab2-9c31-460479836643",
   "metadata": {},
   "outputs": [],
   "source": [
    "sns.set(\"talk\")\n",
    "plt.figure(figsize=(10, 7))\n",
    "plot_trf_coefficients(coef_df, predictor_match_patterns=[\"phoneme_onset\", \"all_phons_surprisals\"], **plot_kwargs)\n",
    "plt.title(\"Phoneme onset-locked responses\")\n",
    "None"
   ]
  },
  {
   "cell_type": "code",
   "execution_count": null,
   "id": "2e2c3abf-1670-4d5a-83fc-429b5a899cd5",
   "metadata": {},
   "outputs": [],
   "source": []
  }
 ],
 "metadata": {
  "kernelspec": {
   "display_name": "Python 3 (ipykernel)",
   "language": "python",
   "name": "python3"
  },
  "language_info": {
   "codemirror_mode": {
    "name": "ipython",
    "version": 3
   },
   "file_extension": ".py",
   "mimetype": "text/x-python",
   "name": "python",
   "nbconvert_exporter": "python",
   "pygments_lexer": "ipython3",
   "version": "3.9.13"
  }
 },
 "nbformat": 4,
 "nbformat_minor": 5
}
